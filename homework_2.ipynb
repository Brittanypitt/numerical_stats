{
 "cells": [
  {
   "cell_type": "markdown",
   "metadata": {},
   "source": [
    "Homework 2\n",
    "====\n",
    "#### CHE 116: Numerical Methods and Statistics\n",
    "\n",
    "1/24/2019\n",
    "\n",
    "----"
   ]
  },
  {
   "cell_type": "markdown",
   "metadata": {},
   "source": [
    "# 1. Combinations and Permutation\n",
    "\n",
    "**For each problem, write out the number of objects ($n$), the length of the sequence/sample ($l$), if repeats are allowed, and if you are computing permutations or combinations. 1 point for this on each problem**\n",
    "\n",
    "1. [2 points] How many ways can you rearrange the letters in the word \"Python\"?\n",
    "2. [2 points] How many ways can you erarrange the letters in the word \"Coffee\"?\n",
    "3. [2 points] You have 5 close friends and are choosing which 3 friends will be in your wedding party. How many ways could you choose your friends that will be in your wedding party?\n",
    "4. [3 points] You now cannot decide either how many to be in your wedding party nor which friends to choose. Assuming you could have between 0 and 5 friends in the wedding party, how many ways could you choose them?\n",
    "5. [2 points] Quarks can have a \"color charge\" of red, blue, or green. If you have 5 distinguishable quarks, how many perumutations of charges could the quarks have?\n",
    "6. [2 points] Now the quarks are indistinguishable. How many combinations of quarks could you have?\n"
   ]
  },
  {
   "cell_type": "markdown",
   "metadata": {},
   "source": [
    "# Stereo Chemistry\n",
    "\n",
    "1. [2 points] Consider an sp3 carbon atom. What elements could be bonded to carbon to satisfy its valencey? Only choose reasonable elements you would find in typical organic molecules. \n",
    "2. [6 points] With one sp3 carbon atom and the elements you've chosen, how many compounds are there? You can reuse your elements as many times as needed to satisfy the valency. What role does distinguishability play? Connect distinguishability with the conecpt of enantiomers."
   ]
  },
  {
   "cell_type": "markdown",
   "metadata": {},
   "source": [
    "# Medical Diagnosis\n",
    "\n",
    "**You do not need to use conditional probability to solve this problem**\n",
    "\n",
    "We are evaluating a new test to screen for Ebola that claims to identify Ebola in patients before symptoms are present . We want to use this test to quarantine probable cases to prevent the spread of Ebola. People can either not have Ebola or have Ebola and our test can be positive or negative. Let's take the random variable $E$ to indicate if the patient has Ebola and $T$ to indicate if the test is positive. We had 100 patients in our study who were at risk for Ebola. Our test indicated that 74 of the patients had Ebola and were quarantined to see if symptomps presented. After one week when symtpoms presented, we determined that 2 patients were not caught by the test and 6 of the quarantined patients presented with Ebola consistent with your test. The remianing patients did not have Ebola. Is catching 6/8, 75% of the patients with Ebola, indicate the test is effective? Answering this by completing the questions below.\n",
    "\n",
    "1. [1 point] Write out the sample space\n",
    "\n",
    "2. [1 point] What is the marginal probability of having Ebola?\n",
    "\n",
    "3. [1 point] What is the marginal probability of having a positive test result?\n",
    "\n",
    "3. [2 points] Compute $P(E = 1, T = 1)$\n",
    "\n",
    "4. [3 points] What concept did we learn that could tell us whether or not the test is effective? How could we make a numeric argument?\n",
    "\n",
    "5. [3 points] Is there compelling numerical evidence that the test is effective?"
   ]
  }
 ],
 "metadata": {
  "kernelspec": {
   "display_name": "Python 3",
   "language": "python",
   "name": "python3"
  },
  "language_info": {
   "codemirror_mode": {
    "name": "ipython",
    "version": 3
   },
   "file_extension": ".py",
   "mimetype": "text/x-python",
   "name": "python",
   "nbconvert_exporter": "python",
   "pygments_lexer": "ipython3",
   "version": "3.6.4"
  }
 },
 "nbformat": 4,
 "nbformat_minor": 2
}
