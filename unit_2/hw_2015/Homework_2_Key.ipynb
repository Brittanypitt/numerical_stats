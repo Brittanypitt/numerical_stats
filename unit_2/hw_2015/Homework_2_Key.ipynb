








<!DOCTYPE html>
<html lang="en">

<head>
  <meta charset="utf-8">
  <title>Jupyter Notebook Viewer</title>
  <meta name="viewport" content="width=device-width, initial-scale=1.0">
  <meta name="description" content="">
  <meta name="author" content="">
  
  <meta name="robots" content="noindex,nofollow">
  

  <!--NEW RELIC Start Perf Measurement-->
  
  <!--NREND-->

  <!-- Le styles -->
  <script type="text/javascript">
//<![CDATA[
try{if (!window.CloudFlare) {var CloudFlare=[{verbose:0,p:0,byc:0,owlid:"cf",bag2:1,mirage2:0,oracle:0,paths:{cloudflare:"/cdn-cgi/nexp/dok3v=1613a3a185/"},atok:"d5780763e19e7d19f23070ae83c9af3a",petok:"6576cdd0316215951d136d6b727b8f336652164e-1486740034-1800",zone:"jupyter.org",rocket:"0",apps:{"ga_key":{"ua":"UA-52617120-5","ga_bs":"2"}}}];!function(a,b){a=document.createElement("script"),b=document.getElementsByTagName("script")[0],a.async=!0,a.src="//ajax.cloudflare.com/cdn-cgi/nexp/dok3v=f2befc48d1/cloudflare.min.js",b.parentNode.insertBefore(a,b)}()}}catch(e){};
//]]>
</script>
<link href="/static/build/styles.css?v=c18d49652a516277e15114bbd447f1c1" rel="stylesheet">

  <!-- Le HTML5 shim, for IE6-8 support of HTML5 elements -->
  <!--[if lt IE 9]>
    <script src="http://html5shim.googlecode.com/svn/trunk/html5.js"></script>
  <![endif]-->

  <!-- Le fav and touch icons -->
  <link rel="shortcut icon" href="/static/ico/ipynb_icon_16x16.png">
  <link rel="apple-touch-icon-precomposed" sizes="144x144"
        href="/static/ico/apple-touch-icon-144-precomposed.png?v=5a3c9ede93e2a8b8ea9e3f8f3da1a905">
  <link rel="apple-touch-icon-precomposed" sizes="114x114"
        href="/static/ico/apple-touch-icon-114-precomposed.png?v=45d86fc8f24dc00638035e1dd7a6d898">
  <link rel="apple-touch-icon-precomposed" sizes="72x72"
        href="/static/ico/apple-touch-icon-72-precomposed.png?v=540b5eb0f3cfd25f1439d1c9bd30e15f">
  <link rel="apple-touch-icon-precomposed"
        href="/static/ico/apple-touch-icon-57-precomposed.png?v=225f0590e187e1458625654f10a28f56">
  
  

  

  
  <meta name="twitter:card" content="summary">
  <meta name="twitter:title" content="Notebook on nbviewer">
  <meta name="twitter:description" content="Check out this Jupyter notebook!">

  
  <meta name="twitter:domain" content="nbviewer.ipython.org">
  <meta name="twitter:image:src" content="http://ipython.org/ipython-doc/dev/_images/ipynb_icon_128x128.png">

  
    <link href="/static/build/notebook.css?v=f5b9901b9b1ce080900a843637976afe" rel="stylesheet">
  

  

  
    <script src="https://cdn.mathjax.org/mathjax/latest/MathJax.js?config=TeX-AMS_HTML" type="text/javascript">
    </script>
    <script type="text/javascript">
      init_mathjax = function() {
        if (window.MathJax) {
          // MathJax loaded
          MathJax.Hub.Config({
            TeX: {
              equationNumbers: {
                autoNumber: "AMS",
                useLabelIds: true
              }
            },
            tex2jax: {
              inlineMath: [ ['$','$'], ["\\(","\\)"] ],
              displayMath: [ ['$$','$$'], ["\\[","\\]"] ],
              processEscapes: true,
              processEnvironments: true
            },
            displayAlign: 'center',
            "HTML-CSS": {
              styles: {'.MathJax_Display': {"margin": 0}},
              linebreaks: { automatic: true }
            }
          });
          MathJax.Hub.Queue(["Typeset", MathJax.Hub]);
        }
      }
      init_mathjax();
    </script>
  

<script type="text/javascript">
/* <![CDATA[ */
var _gaq = _gaq || [];
_gaq.push(['_setAccount', 'UA-52617120-5']);
_gaq.push(['_trackPageview']);

(function() {
var ga = document.createElement('script'); ga.type = 'text/javascript'; ga.async = true;
ga.src = ('https:' == document.location.protocol ? 'https://ssl' : 'http://www') + '.google-analytics.com/ga.js';
var s = document.getElementsByTagName('script')[0]; s.parentNode.insertBefore(ga, s);
})();

(function(b){(function(a){"__CF"in b&&"DJS"in b.__CF?b.__CF.DJS.push(a):"addEventListener"in b?b.addEventListener("load",a,!1):b.attachEvent("onload",a)})(function(){"FB"in b&&"Event"in FB&&"subscribe"in FB.Event&&(FB.Event.subscribe("edge.create",function(a){_gaq.push(["_trackSocial","facebook","like",a])}),FB.Event.subscribe("edge.remove",function(a){_gaq.push(["_trackSocial","facebook","unlike",a])}),FB.Event.subscribe("message.send",function(a){_gaq.push(["_trackSocial","facebook","send",a])}));"twttr"in b&&"events"in twttr&&"bind"in twttr.events&&twttr.events.bind("tweet",function(a){if(a){var b;if(a.target&&a.target.nodeName=="IFRAME")a:{if(a=a.target.src){a=a.split("#")[0].match(/[^?=&]+=([^&]*)?/g);b=0;for(var c;c=a[b];++b)if(c.indexOf("url")===0){b=unescape(c.split("=")[1]);break a}}b=void 0}_gaq.push(["_trackSocial","twitter","tweet",b])}})})})(window);
/* ]]> */
</script>
</head>

<body class="nbviewer">

  <!-- These are loaded at the top of the body so they are available to
       notebook cells when they are loaded below. -->
  <script src="/static/components/jquery/dist/jquery.min.js?v=e071abda8fe61194711cfc2ab99fe104"></script>
  <script src="/static/components/requirejs/require.js?v=6da8be361b9ee26c5e721e76c6d4afce"></script>
  <script src="/static/components/moment/min/moment.min.js?v=89f87298ad94aa1e6b92f42eb66da043"></script>

<!-- Navbar
================================================== -->
  <nav id="menubar" class="navbar navbar-default navbar-fixed-top" data-spy="affix">
    <div class="container">
      <div class="navbar-header">
        <button type="button" class="navbar-toggle collapsed" data-toggle="collapse" data-target=".navbar-collapse">
          <span class="sr-only">Toggle navigation</span>
          <i class="fa fa-bars"></i>
        </button>
        <a class="navbar-brand" href="/">
          <img src="/static/img/nav_logo.svg?v=479cefe8d932fb14a67b93911b97d70f" width="159"/>
        </a>
      </div>

      <div class="collapse navbar-collapse">
        <ul class="nav navbar-nav navbar-right">
          <li>
            <a class="active" href="http://jupyter.org">JUPYTER</a>
          </li>
          <li>
    <a href="/faq" title="FAQ" >
      
        <span>FAQ</span>
      
    </a>
  </li>

          
  
    
  
    
      
        <li>
    <a href="/format/script/url/thewhitelab.org/Classes/CHE116/Unit_2/Homework_2_Key.ipynb" title="View as Code" >
      <span class="fa fa- fa-2x menu-icon"></span>
      <span class="menu-text">View as Code</span>
    </a>
  </li>
      
    
  

  

  

  <li>
    <a href="http://thewhitelab.org/Classes/CHE116/Unit_2/Homework_2_Key.ipynb" title="Download Notebook" download>
      <span class="fa fa-download fa-2x menu-icon"></span>
      <span class="menu-text">Download Notebook</span>
    </a>
  </li>

        </ul>
      </div><!-- /.navbar-collapse -->
      
      
    </div>
  </nav>

  <div class="container container-main">
    
  
  <div id="notebook">
    <div id="notebook-container">
      
<div class="cell border-box-sizing text_cell rendered">
<div class="prompt input_prompt">
</div>
<div class="inner_cell">
<div class="text_cell_render border-box-sizing rendered_html">
<h1 id="1.-Manipulating-Probability-Expressions-(5-Points)">1. Manipulating Probability Expressions (5 Points)<a class="anchor-link" href="#1.-Manipulating-Probability-Expressions-(5-Points)">&#182;</a></h1><p>Simplfiy the following expression and write in words the probability law or definition being used to go from the left-hand-side to the right-hand-side. There should be no intermediate steps. See example question. <strong>Answer the following questions in Markdown</strong>.</p>
<p>$\DeclareMathOperator{\P}{P}$
$\DeclareMathOperator{\E}{E}$</p>
<ol>
<li><p>$$\sum_{\mathcal{X}}\P(x|y) = $$</p>
</li>
<li><p>$$\sum_{\mathcal{Y}}\P(x|y)P(y) = $$</p>
</li>
<li><p>$$\sum_{\mathcal{Y}}\P(x,y) = $$</p>
</li>
<li><p>$$\frac{\P(x,y)}{\P(y)} = $$</p>
</li>
<li><p>If $y$ and $x$ are independent: $$\P(x|y) = $$</p>
</li>
</ol>

</div>
</div>
</div>
<div class="cell border-box-sizing text_cell rendered">
<div class="prompt input_prompt">
</div>
<div class="inner_cell">
<div class="text_cell_render border-box-sizing rendered_html">
<h4 id="Answers">Answers<a class="anchor-link" href="#Answers">&#182;</a></h4><p><strong>1.1</strong> $\sum_{\mathcal{X}}\P(x|y) = 1$, due the the Law of Total Probability.</p>
<p><strong>1.2</strong> $\sum_{\mathcal{Y}}\P(x|y)\P(y) = \P(x)$. Marginalization of conditional</p>
<p><strong>1.3</strong> $\sum_{\mathcal{Y}}\P(x,y) = \P(x)$. Definition of marginal</p>
<p><strong>1.4</strong> $\frac{\P(x,y)}{\P(y)} = \P(x|y)$. Definition of conditional</p>
<p><strong>1.5</strong> $\P(x|y) = \P(x)$. Definition of independence</p>

</div>
</div>
</div>
<div class="cell border-box-sizing text_cell rendered">
<div class="prompt input_prompt">
</div>
<div class="inner_cell">
<div class="text_cell_render border-box-sizing rendered_html">
<h1 id="2.-Utilizing-Probability-Expressions-(7-Points)">2. Utilizing Probability Expressions (7 Points)<a class="anchor-link" href="#2.-Utilizing-Probability-Expressions-(7-Points)">&#182;</a></h1><p>Using the path example from HW 1, answer the following questions symbolically. Recall that the sample space is pathways and see HW 1 Key for the list of paths. Given that:</p>
<ul>
<li>Random variable $X$ is the length of the path</li>
<li>Random variable $Y$ is the end-point of the path</li>
<li>Random variable $Z$ is if the path has the $A$ node in it</li>
</ul>
<hr>
<ol>
<li>$P(X=2)$</li>
<li>$P(X=2 \,|\, Y = A)$</li>
<li>$P(X = 2, \,Y = D)$</li>
<li>$P(X = 3 \,|\, Z)$</li>
<li>$P(~Z \,|\, Y = C,\, X = 3)$</li>
<li>$P(Y = A, Z)$</li>
<li>Which pair of random variables are independent? Why or why not?</li>
</ol>

</div>
</div>
</div>
<div class="cell border-box-sizing text_cell rendered">
<div class="prompt input_prompt">
</div>
<div class="inner_cell">
<div class="text_cell_render border-box-sizing rendered_html">
<h2 id="Answers">Answers<a class="anchor-link" href="#Answers">&#182;</a></h2><p><strong>2.1</strong> $$n=6,\: Q=18,\: \P=\frac{1}{3}$$</p>
<p><strong>2.2</strong> $$n=1,\: Q=4,\: \P=\frac{1}{4}$$</p>
<p><strong>2.3</strong> $$n=2,\: Q=18,\: \P=\frac{1}{9}$$</p>
<p><strong>2.4</strong> $$n=5,\: Q=11,\: P=\frac{5}{11}$$</p>
<p><strong>2.5</strong> $$n=1,\: Q=2,\: P=\frac{1}{2}$$</p>
<p><strong>2.6</strong> $$n = 4\,\: Q=18,\: \P = \frac{4}{18}$$</p>
<p><strong>2.7</strong></p>
<p>$\P(X = 2) = \frac{1}{3} \neq \P(X = 2\, | \, Y = A) \Rightarrow$ $X$ and $Y$ are not independent.</p>
<p>$\P(Z | Y = A) = 1 \neq \P(Z) \Rightarrow$ $Z$ and $Y$ are not independent.</p>
<p>By the transitive property $X$ and $Z$ are not independent.</p>

</div>
</div>
</div>
<div class="cell border-box-sizing text_cell rendered">
<div class="prompt input_prompt">
</div>
<div class="inner_cell">
<div class="text_cell_render border-box-sizing rendered_html">
<h1 id="3.-Ebola-Vaccine-(10-Points)">3. Ebola Vaccine (10 Points)<a class="anchor-link" href="#3.-Ebola-Vaccine-(10-Points)">&#182;</a></h1><p>Ebola virus disease (EVD) cases have been recently observed in many
countries due to an ongoing West African epidemic. EVD is particularly
dangerous due to its high fatality rate: about 50%. The standard clinical
diagnosis technique which detects viral RNA or human antibodies
requires 5 hours. You have developed a new blood test that is 95%
accurate and only requires 2 minutes. Good job. Accuracy here means if
the patient has EVD, your test says they have EVD 95% of the
time. Similarly, if the patient doesn't have EVD, your test says they
do not have EVD 95% of the time. <strong>Answer these questions first symbolically then in Python</strong></p>
<ol>
<li><p>[5] To test your EVD screening method, you visit a country where only 1% of the population has EVD and randomly test people on the street. Assuming that the probability someone has EVD is 1%, if your method returns a positive, what is the actual probability the person has EVD? <em>Hint: You cannot compute the conditional which the question asks for directly. Look at your notes for how to rearrange conditionals.</em></p>
</li>
<li><p>[2] Your EVD screening method has passed preliminary clinical trials. Good job. Now, to reduce false positives you need to decide how many times you repeat the screening method before treating a patient for EVD. For there to be a 99.9% probability the patient has EVD, how many screenings must you do? Assume the screenings are conditionally independent and that you only consider someone to be EVD positve after $n$ positve trials. <em>Hint: See the useful equation below, which holds if $X$ and $Y$ are independent, but not $X$/$Z$ nor $Y$/$Z$ (thus $X/Y$ are conditionally independent). This is true, for example, if you have multiple independent trials which are conditioned on something</em>
$$P(X,Y,Z) = P(X,Y|Z)P(Z) = P(X | Y,Z) P(Y | Z) P(Z) = $$
$$P(X | Z) P(Y | Z) P(Z)$$ <em>Also, due to conditional independence $P(X,Y) \neq P(X) P(Y)$, but $\sum_Z P(X | Z) P(Y | Z) P(Z) = P(X,Y)$ is true using the equation above</em></p>
</li>
<li><p>[2] A patient was tested for EVD, tested positive, then was tested again and that test was negative. Per the protocol above, the patient was released. The local news picked up the story and the general public believes that passing and failing a test indicates there was a 50/50 chance the patient had EVD. There is panic and protestors outside hospitals. What is the actual probability the patient had EVD? <em>Note: There is actually a balance between question 2 and 3 that we will revisit in a later homework.</em></p>
</li>
<li><p>[1] Is the assumption that repeat screenings are independent valid? To put another way, if we see a false positive or false negative on the first trial are we equally likely to see one on the second trial? Why or why not?</p>
</li>
</ol>

</div>
</div>
</div>
<div class="cell border-box-sizing text_cell rendered">
<div class="prompt input_prompt">
</div>
<div class="inner_cell">
<div class="text_cell_render border-box-sizing rendered_html">
<h4 id="Answer-to-question-3.1">Answer to question 3.1<a class="anchor-link" href="#Answer-to-question-3.1">&#182;</a></h4><p>$\P(A=0)=0.99$ - probability that one does not have EVD</p>
<p>$\P(A=1)=0.01$ - probability that one has EVD</p>
<p>$\P(B=0)$ - probability that the test is negative</p>
<p>$\P(B=1)$ -probability that the test is positive</p>
<p>$\P(B=1|A=1)=0.95$ - probability that the test is positive given that a person has EVD</p>
<p>$\P(B=0|A=0)=0.95$ - probability that the test is negative given that a person does not EVD</p>
<p>$\P(A=1|B=1)=?$ - probability that a person has EVD, given the test is positive</p>
<p>$\P(B=1)=\sum_{\mathcal{A}}\P(B=1|A)P(A)=P(A=1)P(B=1|A=1)+P(A=0)P(B=1|A=0)=0.01\times0.95+0.99\times(1-0.95)$</p>
$$\P(A=1|B=1)=\frac{\P(B=1|A=1)\P(A=1)}{\P(B=1)}$$
</div>
</div>
</div>
<div class="cell border-box-sizing code_cell rendered">
<div class="input">
<div class="prompt input_prompt">In&nbsp;[1]:</div>
<div class="inner_cell">
    <div class="input_area">
<div class=" highlight hl-ipython3"><pre><span></span><span class="n">marginal_evd</span> <span class="o">=</span> <span class="mf">0.01</span> <span class="c1">#p of having EVD</span>

<span class="n">cond_positive</span> <span class="o">=</span> <span class="mf">0.95</span> <span class="c1"># p of having positive test given one has EVD</span>
<span class="n">cond_negative</span> <span class="o">=</span> <span class="mf">0.95</span> <span class="c1"># p of having negative test given one does not have EVD</span>

<span class="n">marginal_positive</span> <span class="o">=</span> <span class="n">marginal_evd</span> <span class="o">*</span> <span class="n">cond_positive</span> <span class="o">+</span> <span class="p">(</span><span class="mi">1</span> <span class="o">-</span> <span class="n">cond_positive</span><span class="p">)</span><span class="o">*</span><span class="p">(</span><span class="mi">1</span><span class="o">-</span><span class="n">marginal_evd</span><span class="p">)</span> <span class="c1"># marginal probability of having positive test </span>

<span class="n">cond_evd</span><span class="o">=</span><span class="n">cond_positive</span> <span class="o">*</span> <span class="n">marginal_evd</span> <span class="o">/</span> <span class="n">marginal_positive</span> <span class="c1"># p of having EVD given the test is positive</span>

<span class="nb">print</span> <span class="s1">&#39;The probability that the test is positive is equal to </span><span class="si">{:.4}</span><span class="s1"> and if the test is positive, the probability that a person has EVD is </span><span class="si">{:.4}</span><span class="s1">&#39;</span><span class="o">.</span><span class="n">format</span><span class="p">(</span><span class="n">marginal_positive</span><span class="p">,</span><span class="n">cond_evd</span><span class="p">)</span>
</pre></div>

</div>
</div>
</div>

<div class="output_wrapper">
<div class="output">


<div class="output_area"><div class="prompt"></div>
<div class="output_subarea output_stream output_stdout output_text">
<pre>The probability that the test is positive is equal to 0.059 and if the test is positive, the probability that a person has EVD is 0.161
</pre>
</div>
</div>

</div>
</div>

</div>
<div class="cell border-box-sizing text_cell rendered">
<div class="prompt input_prompt">
</div>
<div class="inner_cell">
<div class="text_cell_render border-box-sizing rendered_html">
<h4 id="Answer-to-question-3.2">Answer to question 3.2<a class="anchor-link" href="#Answer-to-question-3.2">&#182;</a></h4><p>$P(A=1|Z)$- the probabilty that one has EVD given that the test is positive after $n$ trials</p>
<p>$P(A=0|Z) > 0.999$</p>
$$P(A=1|Z)=\frac{P(A=1,Z)}{P(Z)}=\frac{P(Z|A=1)P(A=1)}{P(Z)}=\frac{(P(B=1|A=1))^{n}P(A=1)}{(P(B=1|A=0))^{n}P(A=0)+P(B=1|A=1)^{n}P(A=1)}$$
</div>
</div>
</div>
<div class="cell border-box-sizing code_cell rendered">
<div class="input">
<div class="prompt input_prompt">In&nbsp;[2]:</div>
<div class="inner_cell">
    <div class="input_area">
<div class=" highlight hl-ipython3"><pre><span></span><span class="n">n</span><span class="o">=</span><span class="mi">4</span> <span class="c1"># try different number of trials until &#39;cond_evd_z&#39; is less than 0.001</span>

<span class="c1">#The probability of having EVD given Z has occurred</span>
<span class="n">cond_evd_z</span><span class="o">=</span><span class="n">cond_positive</span><span class="o">**</span><span class="n">n</span> <span class="o">*</span> <span class="n">marginal_evd</span> <span class="o">/</span> <span class="p">(</span> <span class="p">(</span><span class="mi">1</span> <span class="o">-</span> <span class="n">cond_negative</span><span class="p">)</span><span class="o">**</span><span class="n">n</span> <span class="o">*</span> <span class="p">(</span><span class="mi">1</span> <span class="o">-</span> <span class="n">marginal_evd</span><span class="p">)</span> <span class="o">+</span> <span class="n">cond_positive</span><span class="o">**</span><span class="n">n</span> <span class="o">*</span> <span class="n">marginal_evd</span><span class="p">)</span> 

<span class="nb">print</span> <span class="s1">&#39;Since </span><span class="si">{:.4}</span><span class="s1"> is greater than 0.999, the number of trials needed is </span><span class="si">{}</span><span class="s1">.&#39;</span> <span class="o">.</span><span class="n">format</span><span class="p">(</span><span class="n">cond_evd_z</span><span class="p">,</span> <span class="n">n</span><span class="p">)</span>
</pre></div>

</div>
</div>
</div>

<div class="output_wrapper">
<div class="output">


<div class="output_area"><div class="prompt"></div>
<div class="output_subarea output_stream output_stdout output_text">
<pre>Since 0.9992 is greater than 0.999, the number of trials needed is 4.
</pre>
</div>
</div>

</div>
</div>

</div>
<div class="cell border-box-sizing text_cell rendered">
<div class="prompt input_prompt">
</div>
<div class="inner_cell">
<div class="text_cell_render border-box-sizing rendered_html">
<h4 id="Answer-to-Question-3.3">Answer to Question 3.3<a class="anchor-link" href="#Answer-to-Question-3.3">&#182;</a></h4><p>$P(B=0|A=1)- $ probability of having negative test given one has EVD</p>
<p>$P(A=1|B=0)=\frac{P(B=0|A=1)(P(B=1|A=1))P(A=1)}{(P(B=1))P(B=0)} $  probability of having EVD given the test is negative</p>
<p>$P(A=0)=0.99 - $ probability that one does not have EVD</p>
<p>$P(A=1)=0.01 - $ probability that one has EVD</p>
<p>$P(B=0)=1-P(B=1)=1-0.059=0.941- $  probability that the test is negative</p>
$$P(A=1|B_0 = 1, B_1 = 0) = \frac{P(B_0 = 1| A = 1) P(B_1 = 0| A = 1) P(A = 1)}{P(B_0 = 1 | A = 1) P(B_1 = 0 | A = 1) P(A = 1) + P(B_0 = 1 | A = 0) P(B_1 = 0 | A = 0) P(A = 0)}$$
</div>
</div>
</div>
<div class="cell border-box-sizing code_cell rendered">
<div class="input">
<div class="prompt input_prompt">In&nbsp;[3]:</div>
<div class="inner_cell">
    <div class="input_area">
<div class=" highlight hl-ipython3"><pre><span></span><span class="n">cond_evd_event</span> <span class="o">=</span> <span class="n">cond_positive</span> <span class="o">*</span> <span class="p">(</span><span class="mi">1</span> <span class="o">-</span> <span class="n">cond_positive</span><span class="p">)</span> <span class="o">*</span> <span class="n">marginal_evd</span> <span class="o">/</span> <span class="p">(</span><span class="n">cond_positive</span> <span class="o">*</span> <span class="p">(</span><span class="mi">1</span> <span class="o">-</span> <span class="n">cond_positive</span><span class="p">)</span> <span class="o">*</span> <span class="n">marginal_evd</span> <span class="o">+</span> <span class="p">(</span><span class="mi">1</span> <span class="o">-</span> <span class="n">cond_negative</span><span class="p">)</span> <span class="o">*</span> <span class="n">cond_negative</span> <span class="o">*</span> <span class="p">(</span><span class="mi">1</span> <span class="o">-</span> <span class="n">marginal_evd</span><span class="p">))</span>

<span class="nb">print</span> <span class="s1">&#39;The probability the patient has EVD is </span><span class="si">{:.5}</span><span class="s1">&#39;</span><span class="o">.</span><span class="n">format</span><span class="p">(</span><span class="n">cond_evd_event</span><span class="p">)</span>
</pre></div>

</div>
</div>
</div>

<div class="output_wrapper">
<div class="output">


<div class="output_area"><div class="prompt"></div>
<div class="output_subarea output_stream output_stdout output_text">
<pre>The probability the patient has EVD is 0.01
</pre>
</div>
</div>

</div>
</div>

</div>
<div class="cell border-box-sizing text_cell rendered">
<div class="prompt input_prompt">
</div>
<div class="inner_cell">
<div class="text_cell_render border-box-sizing rendered_html">
<h1 id="4.-Python-Math-and-Boolean-(7-Points)">4. Python Math and Boolean (7 Points)<a class="anchor-link" href="#4.-Python-Math-and-Boolean-(7-Points)">&#182;</a></h1><p><strong>Answer the following problems in Python using booleans</strong></p>
<ol>
<li><p>Is $2^{16}$ greater than $10^4$?</p>
</li>
<li><p>Using the <code>frexp</code> function, show how the floating point number $0.1$ is represented and rebuild the number from its pieces. Use base 10</p>
</li>
<li><p>is $0.1 + 0.2$ exactly equal to $(1.0 + 2.0) / 10.0$ with floats? Why not?</p>
</li>
<li><p>When creating permutations from a combination of elements where you can use each element once, the number of permutations is $n!$. For example, if you have three letters and you can use each letter only once, the number of permutations is $3\times 2 \times 1$. How many ways can a deck of cards be shuffled? Are there more stars in the universe ($10^{23}$) or deck shuffling permutations?</p>
</li>
<li><p>The next cell contains a joint probability mass function for $x$ and $y$. $x$ is the first number and $y$ is the second. You may access elements like this: <code>P[0,2]</code>. <code>P[0,2]</code> is the probability that $x=0$ and $y=2$. Demonstrate that the two random variables are not independent.</p>
</li>
<li><p>Calculate the marginal $\P(x=2)$, where $x$ is the first index using the next cell's joint probability mass function.</p>
</li>
<li><p>Calculate the conditional $\P(x=2 | y = 1)$, where $x$ is the first index using the next cell's joint probability mass function.</p>
</li>
</ol>

</div>
</div>
</div>
<div class="cell border-box-sizing code_cell rendered">
<div class="input">
<div class="prompt input_prompt">In&nbsp;[3]:</div>
<div class="inner_cell">
    <div class="input_area">
<div class=" highlight hl-ipython3"><pre><span></span><span class="c1">#This is loading the data for question 3.5 through 3.8. </span>
<span class="c1">#Execute this cell and use new cells below. Do not answer in this cell!</span>

<span class="kn">import</span> <span class="nn">numpy</span> <span class="k">as</span> <span class="nn">np</span>
<span class="n">P</span> <span class="o">=</span> <span class="n">np</span><span class="o">.</span><span class="n">zeros</span><span class="p">(</span> <span class="p">(</span><span class="mi">3</span><span class="p">,</span><span class="mi">3</span><span class="p">)</span> <span class="p">)</span>
<span class="n">P</span><span class="p">[</span><span class="mi">0</span><span class="p">,</span><span class="mi">0</span><span class="p">]</span> <span class="o">=</span> <span class="mf">1.</span> <span class="o">/</span> <span class="mi">9</span>
<span class="n">P</span><span class="p">[</span><span class="mi">0</span><span class="p">,</span><span class="mi">1</span><span class="p">]</span> <span class="o">=</span> <span class="mf">1.</span> <span class="o">/</span> <span class="mi">9</span>
<span class="n">P</span><span class="p">[</span><span class="mi">0</span><span class="p">,</span><span class="mi">2</span><span class="p">]</span> <span class="o">=</span> <span class="mf">0.</span>
<span class="n">P</span><span class="p">[</span><span class="mi">1</span><span class="p">,</span><span class="mi">0</span><span class="p">]</span> <span class="o">=</span> <span class="mf">1.</span> <span class="o">/</span> <span class="mi">3</span>
<span class="n">P</span><span class="p">[</span><span class="mi">1</span><span class="p">,</span><span class="mi">1</span><span class="p">]</span> <span class="o">=</span> <span class="mi">0</span>
<span class="n">P</span><span class="p">[</span><span class="mi">1</span><span class="p">,</span><span class="mi">2</span><span class="p">]</span> <span class="o">=</span> <span class="mf">1.</span> <span class="o">/</span> <span class="mi">6</span>
<span class="n">P</span><span class="p">[</span><span class="mi">2</span><span class="p">,</span><span class="mi">0</span><span class="p">]</span> <span class="o">=</span> <span class="mf">1.</span> <span class="o">/</span> <span class="mi">9</span>
<span class="n">P</span><span class="p">[</span><span class="mi">2</span><span class="p">,</span><span class="mi">1</span><span class="p">]</span> <span class="o">=</span> <span class="mf">1.</span> <span class="o">/</span> <span class="mi">18</span>
<span class="n">P</span><span class="p">[</span><span class="mi">2</span><span class="p">,</span><span class="mi">2</span><span class="p">]</span> <span class="o">=</span> <span class="mf">1.</span> <span class="o">/</span> <span class="mi">9</span>
</pre></div>

</div>
</div>
</div>

</div>
<div class="cell border-box-sizing code_cell rendered">
<div class="input">
<div class="prompt input_prompt">In&nbsp;[4]:</div>
<div class="inner_cell">
    <div class="input_area">
<div class=" highlight hl-ipython3"><pre><span></span><span class="c1">#Example of how to calculate P(x = 0)</span>
<span class="n">px0</span> <span class="o">=</span> <span class="n">P</span><span class="p">[</span><span class="mi">0</span><span class="p">,</span><span class="mi">0</span><span class="p">]</span> <span class="o">+</span> <span class="n">P</span><span class="p">[</span><span class="mi">0</span><span class="p">,</span><span class="mi">1</span><span class="p">]</span> <span class="o">+</span> <span class="n">P</span><span class="p">[</span><span class="mi">0</span><span class="p">,</span><span class="mi">2</span><span class="p">]</span>
<span class="nb">print</span> <span class="n">px0</span>
</pre></div>

</div>
</div>
</div>

<div class="output_wrapper">
<div class="output">


<div class="output_area"><div class="prompt"></div>
<div class="output_subarea output_stream output_stdout output_text">
<pre>0.222222222222
</pre>
</div>
</div>

</div>
</div>

</div>
<div class="cell border-box-sizing text_cell rendered">
<div class="prompt input_prompt">
</div>
<div class="inner_cell">
<div class="text_cell_render border-box-sizing rendered_html">
<h4 id="Answer-below-this-cell">Answer below this cell<a class="anchor-link" href="#Answer-below-this-cell">&#182;</a></h4><hr>

</div>
</div>
</div>
<div class="cell border-box-sizing code_cell rendered">
<div class="input">
<div class="prompt input_prompt">In&nbsp;[32]:</div>
<div class="inner_cell">
    <div class="input_area">
<div class=" highlight hl-ipython3"><pre><span></span><span class="c1">#Question 4.1</span>
<span class="nb">print</span> <span class="mi">2</span><span class="o">**</span><span class="mi">16</span> <span class="o">&gt;</span> <span class="mi">10</span><span class="o">**</span><span class="mi">4</span>
</pre></div>

</div>
</div>
</div>

<div class="output_wrapper">
<div class="output">


<div class="output_area"><div class="prompt"></div>
<div class="output_subarea output_stream output_stdout output_text">
<pre>True
</pre>
</div>
</div>

</div>
</div>

</div>
<div class="cell border-box-sizing code_cell rendered">
<div class="input">
<div class="prompt input_prompt">In&nbsp;[48]:</div>
<div class="inner_cell">
    <div class="input_area">
<div class=" highlight hl-ipython3"><pre><span></span><span class="c1">#Question 4.2</span>
<span class="kn">from</span> <span class="nn">math</span> <span class="k">import</span> <span class="n">frexp</span>
<span class="n">m</span><span class="p">,</span><span class="n">e</span><span class="o">=</span><span class="n">frexp</span><span class="p">(</span><span class="o">.</span><span class="mi">1</span><span class="p">)</span>
<span class="nb">print</span> <span class="s1">&#39;</span><span class="si">{:4}</span><span class="s1">*2^(</span><span class="si">{:}</span><span class="s1">)=</span><span class="si">{}</span><span class="s1">&#39;</span> <span class="o">.</span><span class="n">format</span><span class="p">(</span><span class="n">m</span><span class="p">,</span><span class="nb">int</span><span class="p">(</span><span class="n">e</span><span class="p">),</span> <span class="n">m</span> <span class="o">*</span> <span class="mi">2</span><span class="o">**</span><span class="n">e</span><span class="p">)</span>
</pre></div>

</div>
</div>
</div>

<div class="output_wrapper">
<div class="output">


<div class="output_area"><div class="prompt"></div>
<div class="output_subarea output_stream output_stdout output_text">
<pre> 0.8*2^(-3)=0.1
</pre>
</div>
</div>

</div>
</div>

</div>
<div class="cell border-box-sizing code_cell rendered">
<div class="input">
<div class="prompt input_prompt">In&nbsp;[27]:</div>
<div class="inner_cell">
    <div class="input_area">
<div class=" highlight hl-ipython3"><pre><span></span><span class="c1">#Question 4.3</span>
<span class="nb">print</span> <span class="s1">&#39;It is&#39;</span><span class="p">,</span> <span class="mf">0.1</span><span class="o">+</span><span class="mf">0.2</span><span class="o">==</span><span class="p">(</span><span class="mf">1.0</span><span class="o">+</span><span class="mf">2.0</span><span class="p">)</span><span class="o">/</span><span class="mi">10</span><span class="p">,</span> <span class="s1">&#39;that they are equal&#39;</span>
<span class="nb">print</span> <span class="s1">&#39;They are not equal because there are no exact representation for either number in base 2 mantissa/exponent format&#39;</span>
<span class="nb">print</span> <span class="s1">&#39;0.1 + 0.2 is </span><span class="si">{:.20}</span><span class="s1">&#39;</span><span class="o">.</span><span class="n">format</span><span class="p">(</span><span class="mf">0.1</span><span class="o">+</span><span class="mf">0.2</span><span class="p">)</span>
<span class="nb">print</span> <span class="s1">&#39;(1.0 + 2.0) / 10 is </span><span class="si">{:.20}</span><span class="s1">&#39;</span><span class="o">.</span><span class="n">format</span><span class="p">((</span><span class="mf">1.0</span> <span class="o">+</span> <span class="mf">2.0</span><span class="p">)</span> <span class="o">/</span> <span class="mi">10</span> <span class="p">)</span>
</pre></div>

</div>
</div>
</div>

<div class="output_wrapper">
<div class="output">


<div class="output_area"><div class="prompt"></div>
<div class="output_subarea output_stream output_stdout output_text">
<pre>It is False that they are equal
They are not equal because there are no exact representation for either number in base 2 mantissa/exponent format
0.1 + 0.2 is 0.30000000000000004441
(1.0 + 2.0) / 10 is 0.2999999999999999889
</pre>
</div>
</div>

</div>
</div>

</div>
<div class="cell border-box-sizing code_cell rendered">
<div class="input">
<div class="prompt input_prompt">In&nbsp;[26]:</div>
<div class="inner_cell">
    <div class="input_area">
<div class=" highlight hl-ipython3"><pre><span></span><span class="c1">#Question 4.4</span>
<span class="kn">from</span> <span class="nn">math</span> <span class="k">import</span> <span class="n">factorial</span> 

<span class="n">factor</span><span class="o">=</span><span class="n">factorial</span><span class="p">(</span><span class="mi">42</span><span class="p">)</span>
<span class="nb">print</span> <span class="s1">&#39;It is&#39;</span><span class="p">,</span> <span class="n">factor</span><span class="o">&gt;</span><span class="mi">10</span><span class="o">**</span><span class="mi">23</span><span class="p">,</span> <span class="s1">&#39;that there are more deck permutations than stars in the universe&#39;</span>
</pre></div>

</div>
</div>
</div>

<div class="output_wrapper">
<div class="output">


<div class="output_area"><div class="prompt"></div>
<div class="output_subarea output_stream output_stdout output_text">
<pre>It is True that there are more deck permutations than stars in the universe
</pre>
</div>
</div>

</div>
</div>

</div>
<div class="cell border-box-sizing code_cell rendered">
<div class="input">
<div class="prompt input_prompt">In&nbsp;[31]:</div>
<div class="inner_cell">
    <div class="input_area">
<div class=" highlight hl-ipython3"><pre><span></span><span class="c1">#Question 4.5</span>
<span class="nb">print</span> <span class="n">P</span><span class="p">[</span><span class="mi">1</span><span class="p">,</span><span class="mi">1</span><span class="p">],</span> <span class="p">(</span><span class="n">P</span><span class="p">[</span><span class="mi">1</span><span class="p">,</span><span class="mi">1</span><span class="p">]</span><span class="o">+</span><span class="n">P</span><span class="p">[</span><span class="mi">1</span><span class="p">,</span><span class="mi">0</span><span class="p">]</span><span class="o">+</span><span class="n">P</span><span class="p">[</span><span class="mi">1</span><span class="p">,</span><span class="mi">2</span><span class="p">])</span><span class="o">*</span><span class="p">(</span><span class="n">P</span><span class="p">[</span><span class="mi">0</span><span class="p">,</span><span class="mi">1</span><span class="p">]</span><span class="o">+</span><span class="n">P</span><span class="p">[</span><span class="mi">1</span><span class="p">,</span><span class="mi">1</span><span class="p">]</span><span class="o">+</span><span class="n">P</span><span class="p">[</span><span class="mi">2</span><span class="p">,</span><span class="mi">1</span><span class="p">])</span>
<span class="nb">print</span> <span class="s1">&#39;Since these are not equal, P(X=1, Y=1) != P(X=1) P(Y=1), which violates independence&#39;</span>
</pre></div>

</div>
</div>
</div>

<div class="output_wrapper">
<div class="output">


<div class="output_area"><div class="prompt"></div>
<div class="output_subarea output_stream output_stdout output_text">
<pre>0.0 0.0833333333333
Since these are not equal, P(X=1, Y=1) != P(X=1) P(Y=1), which violates independence
</pre>
</div>
</div>

</div>
</div>

</div>
<div class="cell border-box-sizing code_cell rendered">
<div class="input">
<div class="prompt input_prompt">In&nbsp;[33]:</div>
<div class="inner_cell">
    <div class="input_area">
<div class=" highlight hl-ipython3"><pre><span></span><span class="c1">#Question 4.6</span>
<span class="nb">print</span> <span class="n">P</span><span class="p">[</span><span class="mi">2</span><span class="p">,</span><span class="mi">0</span><span class="p">]</span><span class="o">+</span><span class="n">P</span><span class="p">[</span><span class="mi">2</span><span class="p">,</span><span class="mi">1</span><span class="p">]</span><span class="o">+</span><span class="n">P</span><span class="p">[</span><span class="mi">2</span><span class="p">,</span><span class="mi">2</span><span class="p">]</span>
</pre></div>

</div>
</div>
</div>

<div class="output_wrapper">
<div class="output">


<div class="output_area"><div class="prompt"></div>
<div class="output_subarea output_stream output_stdout output_text">
<pre>0.277777777778
</pre>
</div>
</div>

</div>
</div>

</div>
<div class="cell border-box-sizing code_cell rendered">
<div class="input">
<div class="prompt input_prompt">In&nbsp;[34]:</div>
<div class="inner_cell">
    <div class="input_area">
<div class=" highlight hl-ipython3"><pre><span></span><span class="c1">#Question 4.7</span>
<span class="n">P</span><span class="p">[</span><span class="mi">2</span><span class="p">,</span><span class="mi">1</span><span class="p">]</span><span class="o">/</span><span class="p">(</span><span class="n">P</span><span class="p">[</span><span class="mi">0</span><span class="p">,</span><span class="mi">1</span><span class="p">]</span><span class="o">+</span><span class="n">P</span><span class="p">[</span><span class="mi">1</span><span class="p">,</span><span class="mi">1</span><span class="p">]</span><span class="o">+</span><span class="n">P</span><span class="p">[</span><span class="mi">2</span><span class="p">,</span><span class="mi">1</span><span class="p">])</span>
</pre></div>

</div>
</div>
</div>

<div class="output_wrapper">
<div class="output">


<div class="output_area"><div class="prompt output_prompt">Out[34]:</div>


<div class="output_text output_subarea output_execute_result">
<pre>0.33333333333333331</pre>
</div>

</div>

</div>
</div>

</div>
<div class="cell border-box-sizing text_cell rendered">
<div class="prompt input_prompt">
</div>
<div class="inner_cell">
<div class="text_cell_render border-box-sizing rendered_html">
<h1 id="5.-Probability-of-sum-of-two-dice-(6-Points)">5. Probability of sum of two dice (6 Points)<a class="anchor-link" href="#5.-Probability-of-sum-of-two-dice-(6-Points)">&#182;</a></h1><p>Using Python, Markdown, and equations, describe a random variable for the sum of two dice when rolled and create a Python cell where a user may enter the sum and your cell prints the probability of that sample. For the Python portion, see the cell below for an example of the python program and <a href="http://nbviewer.ipython.org/github/ipython/ipython/blob/2.x/examples/Notebook/Trapezoid%20Rule.ipynb">see here</a> for an example of how your answer should look (yours should be much shorter though). <em>Hint: There is a simple equation for the probability. Try writing out a few terms, like P(2), P(3), P(7), P(11), to derive the equation</em></p>
<p>Rubric: [3] explaination/equation, [3] for the python program.</p>

</div>
</div>
</div>
<div class="cell border-box-sizing code_cell rendered">
<div class="input">
<div class="prompt input_prompt">In&nbsp;[11]:</div>
<div class="inner_cell">
    <div class="input_area">
<div class=" highlight hl-ipython3"><pre><span></span><span class="n">roll</span> <span class="o">=</span> <span class="mi">3</span> <span class="c1">#Enter the value of a single die roll here</span>
<span class="n">P</span> <span class="o">=</span> <span class="mi">1</span> <span class="o">/</span> <span class="mf">6.</span> <span class="c1">#State space is 6, uniform, and each roll has a single permutation.</span>
<span class="nb">print</span> <span class="s1">&#39;The probability of rolling a&#39;</span><span class="p">,</span> <span class="n">roll</span><span class="p">,</span> <span class="s1">&#39;is&#39;</span><span class="p">,</span> <span class="n">P</span>
</pre></div>

</div>
</div>
</div>

<div class="output_wrapper">
<div class="output">


<div class="output_area"><div class="prompt"></div>
<div class="output_subarea output_stream output_stdout output_text">
<pre>The probability of rolling a 3 is 0.166666666667
</pre>
</div>
</div>

</div>
</div>

</div>
<div class="cell border-box-sizing text_cell rendered">
<div class="prompt input_prompt">
</div>
<div class="inner_cell">
<div class="text_cell_render border-box-sizing rendered_html">
<h1 id="The-sum-of-two-dice---Answer">The sum of two dice - Answer<a class="anchor-link" href="#The-sum-of-two-dice---Answer">&#182;</a></h1><p>Consider a random variable, $D$, which represents the sum of two fair dice being rolled. Different $D$ values have different permutation numbers. For example $D=7$ has 6 permutations. The sample space is 36 and the permutation number changes based on the distance from the maximum at $D=7$ so that $n/Q$, the probability, can be modeled as:</p>
$$P(D=x) = \frac{6 - |x - 7|}{36} $$<p>The program below computes the probability of $D$ given an input.</p>

</div>
</div>
</div>
<div class="cell border-box-sizing code_cell rendered">
<div class="input">
<div class="prompt input_prompt">In&nbsp;[37]:</div>
<div class="inner_cell">
    <div class="input_area">
<div class=" highlight hl-ipython3"><pre><span></span><span class="n">dsum</span> <span class="o">=</span> <span class="mi">4</span> <span class="c1">#The sum</span>
<span class="nb">print</span> <span class="s1">&#39;The probability of two dice summing to&#39;</span><span class="p">,</span> <span class="n">dsum</span><span class="p">,</span> <span class="s1">&#39;after a roll is&#39;</span><span class="p">,</span> <span class="p">(</span><span class="mf">6.</span> <span class="o">-</span> <span class="nb">abs</span><span class="p">(</span><span class="n">dsum</span> <span class="o">-</span> <span class="mi">7</span><span class="p">))</span> <span class="o">/</span> <span class="mi">36</span> <span class="c1">#equation defined above.</span>
</pre></div>

</div>
</div>
</div>

<div class="output_wrapper">
<div class="output">


<div class="output_area"><div class="prompt"></div>
<div class="output_subarea output_stream output_stdout output_text">
<pre>The probability of two dice summing to 4 after a roll is 0.0833333333333
</pre>
</div>
</div>

</div>
</div>

</div>
<div class="cell border-box-sizing text_cell rendered">
<div class="prompt input_prompt">
</div>
<div class="inner_cell">
<div class="text_cell_render border-box-sizing rendered_html">
<h1 id="6.-Sequence-probability-(15-points)">6. Sequence probability (15 points)<a class="anchor-link" href="#6.-Sequence-probability-(15-points)">&#182;</a></h1><p>Proteins are made up of amino acids in a polymer chain. The list of amino acids in that chain is called a protein sequence. There are 20 amino acids and thus 20 possibilities at each sequence position. By comparing sequences of proteins from different species, we can predict the evolutionary history of proteins and organisms based on sequence similarity. Furthermore, by seeing which parts of a protein sequence do not change, we can predict which specific amino acids are related to the function of a protein. In this problem, we will build two models of a protein representing two possible evolutionary histories. Model 1 will have important amino acids at positions 23, 24 and 25. Model 2 will have important amino acids at positions 24, 25 and 99. Although we will not do this now, we can use these two models to assign sequences to different lineages.</p>
<p>Your task is to create two Python cells, similar to Problem 4, which output the probability of a sample entered at the top. $s$, the amino acid identity and $i$, the position, are entered at the top and your program should determine the probability of seeing that amino acid at that specific position. If the position is important (23,24,25), in model 1 the probability of amino acids V, A, I, and L is equal and four times the probability of each other amino acids, which have equal probabilities. In model 2, if the position is 24 or 25, the same rule applies. If the position is 99 in model 2, the probability of D and E is equal and one hundred times the probability of each other amino acids, which again have equal probability. If a position is unimportant, all amino acids have equal probability. <em>Hint: Combine these algebraic statements ALONG with the normalization condition to get a probability mass function</em></p>
<p>Your answer should be two Markdown and two Python cells. The Markdown should contain a mathematical description of the two models with equations. The Python should be well-documented, contain conditionals, have an $s$ and $i$ variable at the top for a user to enter the values and it should print out a clear message repeating the $s$, $i$ variable along with the probability.</p>
<p>Rubric: [5] covnerting text into probability equations, [1] variable assignment, [2] for conditionals, [4] probabilities, [2] string formatting, [1] correct answer</p>

</div>
</div>
</div>
<div class="cell border-box-sizing text_cell rendered">
<div class="prompt input_prompt">
</div>
<div class="inner_cell">
<div class="text_cell_render border-box-sizing rendered_html">
<h3 id="Answer-to-Question-6">Answer to Question 6<a class="anchor-link" href="#Answer-to-Question-6">&#182;</a></h3><p>$\newcommand{\Pa}[1]{\textrm{P}\left(\textrm{#1}\right)}$</p>
<p>$s$-aa aminoacid identity</p>
<p>$i$-position</p>
<h4 id="Model-1">Model 1<a class="anchor-link" href="#Model-1">&#182;</a></h4><p><strong>position is important: 23, 24, 25</strong></p>
<p>let $x=$ probability of finding AA other than V,L,I and A</p>
$$\Pa{V} = \Pa{A} = \Pa{I} = \Pa{L} = 4 \Pa{not V,L,I,A} = 4x$$$$\Pa{V} + \Pa{A} + \Pa{I} + \Pa{L} + 4 \Pa{not V,L,I,A} = 1$$$$4x+4x+4x+4x+(20-4)x=1$$$$x=\frac{1}{32}$$<p>so the probability of the important amino acids is $4/32$</p>
<p><strong>If position is unimportant:</strong></p>
<p>$\Pr(\cdot)$ is constant</p>
$$\Pr(\cdot)=\frac{1}{20}$$
</div>
</div>
</div>
<div class="cell border-box-sizing code_cell rendered">
<div class="input">
<div class="prompt input_prompt">In&nbsp;[1]:</div>
<div class="inner_cell">
    <div class="input_area">
<div class=" highlight hl-ipython3"><pre><span></span><span class="c1"># Model 1</span>
<span class="n">position</span><span class="o">=</span> <span class="mi">24</span> <span class="c1"># position of the amino acid</span>
<span class="n">identity</span><span class="o">=</span> <span class="s1">&#39;L&#39;</span> <span class="c1"># The identity of the amino acid</span>
<span class="n">probability</span><span class="o">=</span><span class="mf">0.05</span> <span class="c1">#probability of amino acids when position is not important.</span>

<span class="k">if</span> <span class="n">position</span><span class="o">==</span><span class="mi">23</span> <span class="ow">or</span> <span class="n">position</span><span class="o">==</span><span class="mi">24</span> <span class="ow">or</span> <span class="n">position</span><span class="o">==</span><span class="mi">25</span><span class="p">:</span> <span class="c1"># position of 23, 24 and 25</span>
    <span class="k">if</span> <span class="n">identity</span><span class="o">==</span><span class="s1">&#39;L&#39;</span> <span class="ow">or</span> <span class="n">identity</span><span class="o">==</span><span class="s1">&#39;A&#39;</span> <span class="ow">or</span> <span class="n">identity</span><span class="o">==</span><span class="s1">&#39;I&#39;</span> <span class="ow">or</span> <span class="n">identity</span><span class="o">==</span><span class="s1">&#39;V&#39;</span><span class="p">:</span> <span class="c1"># identity of A, V, L , I</span>
        <span class="n">probability</span><span class="o">=</span><span class="mf">4.0</span><span class="o">/</span><span class="mi">32</span>
    <span class="k">else</span><span class="p">:</span>
        <span class="n">probability</span><span class="o">=</span><span class="mf">1.0</span><span class="o">/</span><span class="mi">32</span>
<span class="nb">print</span> <span class="s1">&#39;The probability of finding amino acid </span><span class="si">{}</span><span class="s1"> at position </span><span class="si">{}</span><span class="s1"> is </span><span class="si">{:.4}</span><span class="s1">&#39;</span> <span class="o">.</span><span class="n">format</span><span class="p">(</span><span class="n">identity</span><span class="p">,</span><span class="n">position</span><span class="p">,</span><span class="n">probability</span><span class="p">)</span> 
</pre></div>

</div>
</div>
</div>

<div class="output_wrapper">
<div class="output">


<div class="output_area"><div class="prompt"></div>
<div class="output_subarea output_stream output_stdout output_text">
<pre>The probability of finding amino acid L at position 24 is 0.125
</pre>
</div>
</div>

</div>
</div>

</div>
<div class="cell border-box-sizing text_cell rendered">
<div class="prompt input_prompt">
</div>
<div class="inner_cell">
<div class="text_cell_render border-box-sizing rendered_html">
<h4 id="Model-2">Model 2<a class="anchor-link" href="#Model-2">&#182;</a></h4><p><strong>If position is 24 or 25:</strong> Same as Model 1</p>
<p><strong>If position is 99:</strong></p>
<p>Let $z$ be the probability for unimportant amino acids. Then:</p>
$$\Pa{E} = \Pa{D} = 100 \Pa{not E,D} = 100z$$$$\Pa{E} + \Pa{D} + (20-2) \Pa{not E,D} = 1$$$$100z+100z+(20-2)z=1$$$$z=\frac{1}{218}$$<p><strong>If position is unimportant:</strong>
Same as Model 1</p>

</div>
</div>
</div>
<div class="cell border-box-sizing code_cell rendered">
<div class="input">
<div class="prompt input_prompt">In&nbsp;[44]:</div>
<div class="inner_cell">
    <div class="input_area">
<div class=" highlight hl-ipython3"><pre><span></span><span class="c1">#Model 2</span>
<span class="n">position</span><span class="o">=</span> <span class="mi">99</span> <span class="c1"># position of the amino acid</span>
<span class="n">identity</span><span class="o">=</span> <span class="s1">&#39;L&#39;</span> <span class="c1"># The identity of the amino acid</span>
<span class="n">probability</span><span class="o">=</span><span class="mf">0.05</span> <span class="c1">#probability of amino acids when position is not important.</span>

<span class="k">if</span> <span class="n">position</span><span class="o">==</span><span class="mi">24</span> <span class="ow">or</span> <span class="n">position</span><span class="o">==</span><span class="mi">25</span><span class="p">:</span> <span class="c1"># position of 24 and 25</span>
    <span class="k">if</span> <span class="n">identity</span><span class="o">==</span><span class="s1">&#39;L&#39;</span> <span class="ow">or</span> <span class="n">identity</span><span class="o">==</span><span class="s1">&#39;A&#39;</span> <span class="ow">or</span> <span class="n">identity</span><span class="o">==</span><span class="s1">&#39;I&#39;</span> <span class="ow">or</span> <span class="n">identity</span><span class="o">==</span><span class="s1">&#39;V&#39;</span><span class="p">:</span> <span class="c1"># identity of A, V, L , I</span>
        <span class="n">probability</span><span class="o">=</span><span class="mf">4.0</span><span class="o">/</span><span class="mi">32</span>
    <span class="k">else</span><span class="p">:</span>
        <span class="n">probability</span><span class="o">=</span><span class="mf">1.0</span><span class="o">/</span><span class="mi">32</span>
<span class="k">if</span> <span class="n">position</span> <span class="o">==</span> <span class="mi">99</span><span class="p">:</span>
    <span class="k">if</span> <span class="n">identity</span> <span class="o">==</span> <span class="s1">&#39;D&#39;</span> <span class="ow">or</span> <span class="n">identity</span> <span class="o">==</span> <span class="s1">&#39;E&#39;</span><span class="p">:</span>
        <span class="n">probability</span> <span class="o">=</span> <span class="mi">100</span> <span class="o">*</span> <span class="mf">1.</span> <span class="o">/</span> <span class="mi">218</span>
    <span class="k">else</span><span class="p">:</span>
        <span class="n">probability</span>  <span class="o">=</span> <span class="mf">1.</span> <span class="o">/</span> <span class="mi">218</span>
<span class="nb">print</span> <span class="s1">&#39;The probability of finding amino acid </span><span class="si">{}</span><span class="s1"> at position </span><span class="si">{}</span><span class="s1"> is </span><span class="si">{:.4}</span><span class="s1">&#39;</span> <span class="o">.</span><span class="n">format</span><span class="p">(</span><span class="n">identity</span><span class="p">,</span><span class="n">position</span><span class="p">,</span><span class="n">probability</span><span class="p">)</span> 
</pre></div>

</div>
</div>
</div>

<div class="output_wrapper">
<div class="output">


<div class="output_area"><div class="prompt"></div>
<div class="output_subarea output_stream output_stdout output_text">
<pre>The probability of finding amino acid L at position 99 is 0.004587
</pre>
</div>
</div>

</div>
</div>

</div>
<div class="cell border-box-sizing code_cell rendered">
<div class="input">
<div class="prompt input_prompt">In&nbsp;[&nbsp;]:</div>
<div class="inner_cell">
    <div class="input_area">
<div class=" highlight hl-ipython3"><pre><span></span> 
</pre></div>

</div>
</div>
</div>

</div>
 


    </div>
  </div>

  </div>


  
    <footer class="footer hidden-print">
      <div class="container">
        <div class="col-md-4">
          <p>
            This website does not host notebooks, it only renders notebooks
            available on other websites.
          </p>
        </div>

        <div class="col-md-4">
          <p>
            Delivered by <a href="http://www.fastly.com/">Fastly</a>,
            Rendered by <a href="https://developer.rackspace.com/?nbviewer=awesome">Rackspace</a>
          </p>
          <p>
            nbviewer GitHub <a href="https://github.com/jupyter/nbviewer">repository</a>.
          </p>
        </div>

        <div class="col-md-4">
          
  
            
              <p>
                nbviewer version:
                <a href="https://github.com/jupyter/nbviewer/commit/b5359ba07905c50c2021266b08f984d69653f45e">
                  b5359ba
                </a>
              </p>
            
          
  
  <p>
    nbconvert version: <a href="https://github.com/jupyter/nbconvert/releases/tag/4.3.0">
      4.3.0
    </a>
  </p>
  

          
  
  
  <p>
    Rendered
    <span class='date' data-date='Fri, 10 Feb 2017 15:20:34 UTC' title='Fri, 10 Feb 2017 15:20:34 UTC'>(Fri, 10 Feb 2017 15:20:34 UTC)</span>
  </p>
  

        </div>
      </div>
    </footer>
  

  <script src="https://unpkg.com/jupyter-js-widgets@2.0.*/dist/embed.js"></script>
  <script src="/static/components/bootstrap/js/bootstrap.min.js?v=5869c96cc8f19086aee625d670d741f9"></script>
  <script src="/static/components/headroom.js/dist/headroom.min.js?v=b0a311ea668f8e768ea375f4a7abb81c"></script>
  <script src="/static/components/headroom.js/dist/jQuery.headroom.min.js?v=f3a1bae118315d0c234afc74dc6aab71"></script>

  
  
  <script>
    $(function(){ $("#menubar").headroom({
      tolerance: 5,
      offset: 205,
      classes: {
        initial: "animated",
        pinned: "slideInDown",
        unpinned: "slideOutUp"
      }
    })});
  </script>


  <script>
    (function(i,s,o,g,r,a,m){i['GoogleAnalyticsObject']=r;i[r]=i[r]||function(){
      (i[r].q=i[r].q||[]).push(arguments)},i[r].l=1*new Date();a=s.createElement(o),
      m=s.getElementsByTagName(o)[0];a.async=1;a.src=g;m.parentNode.insertBefore(a,m)
    })(window,document,'script','//www.google-analytics.com/analytics.js','ga');
    ga('create', 'UA-38683231-2', 'auto');
    ga('send', 'pageview');
  </script>
  <script>
    require({
        paths: {
          moment: "/static/components/moment/min/moment.min.js?v=89f87298ad94aa1e6b92f42eb66da043"
        }
      }, ["moment"], function(moment){
      var date = $("footer .date"),
        m = moment(new Date(date.data('date'))),
        update = function(){ date.text(m.fromNow()); };
      setInterval(update, 61*1000);
      update();
      var w = $(window).scroll(function(event){
        $("body").toggleClass("scrolled", w.scrollTop() > 0);
      });
    });
  </script>
  <!--NEW RELIC Stop Perf Measurement-->
  
  <!--NEW RELIC End-->
</body>
</html>