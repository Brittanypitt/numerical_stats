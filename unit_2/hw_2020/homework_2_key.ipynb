{
 "cells": [
  {
   "cell_type": "markdown",
   "metadata": {},
   "source": [
    "Homework 2 Key\n",
    "====\n",
    "#### CHE 116: Numerical Methods and Statistics\n",
    "\n",
    "1/23/2020\n",
    "\n",
    "----"
   ]
  },
  {
   "cell_type": "markdown",
   "metadata": {},
   "source": [
    "# 1. Combinations and Permutation\n",
    "\n",
    "**For each problem, write out the number of objects ($n$), the length of the sequence/sample ($l$), if repeats are allowed, and if you are computing permutations or combinations. 1 point for this on each problem**\n",
    "\n",
    "1. [2 points] How many ways can you rearrange the letters in the word \"Serif\"?\n",
    "2. [2 points] How many ways can you rearrange the letters in the word \"Sans\"?\n",
    "3. [3 points] You are trying to decide which days of the week you will exercise. If you can exercise once or not at all on each day, how many ways can you choose?\n",
    "4. [3 points] You have instead decided that you should exercise four days per week. How many ways can you arrange your weekly exercise plan?\n",
    "5. [3 points] You are playing five games against your friend. You can either win, draw, or tie. How many possible scores (total number of wins, losses, ties) can occur?\n",
    "6. [3 points] You are playing five friends one at a time in the same type of game. How many scores are possible if you break them out per friend (wins, losses, ties against friend 1, wins losses ties against friend 2, ...)\n",
    "7. [5 points] You are manufacturing ink in a batch reactor. You need to manufactor five different colors per day and each color takes 1 hours. Assuming you can only begin/end on the hour, how many possibles schedules could you create?"
   ]
  },
  {
   "cell_type": "markdown",
   "metadata": {},
   "source": [
    "### 1.1\n",
    "\n",
    "$n = 5,\\, l = 5$, no replacement, permutations\n",
    "\n",
    "$$\n",
    "5! = 120\n",
    "$$"
   ]
  },
  {
   "cell_type": "markdown",
   "metadata": {},
   "source": [
    "### 1.2\n",
    "\n",
    "$n=4, l=4$, no replacement, permutations, one duplicate element\n",
    "\n",
    "$$\n",
    "\\frac{4!}{2!} = 12\n",
    "$$"
   ]
  },
  {
   "cell_type": "markdown",
   "metadata": {},
   "source": [
    "### 1.3\n",
    "\n",
    "\n",
    "You can answer two ways. First you could imagine choosing yes/no for each day of the week. Then you're choosing a sequence like so: YNYYN. You would view the problem as:\n",
    "\n",
    "$n = 2\\, l = 7$, replacement, permutations\n",
    "\n",
    "$$\n",
    "2^{7} = 128\n",
    "$$\n",
    "\n",
    "You can also use the rule from lecture about adding up combinations (section 1.3):\n",
    "\n",
    "$n = 7\\, l = 0,\\ldots 7$, no replacement, combinations\n",
    "\n",
    "$$\n",
    "2^{7} = 128\n",
    "$$"
   ]
  },
  {
   "cell_type": "markdown",
   "metadata": {},
   "source": [
    "### 1.4\n",
    "\n",
    "$n = 7, l = 4$, no replacement, combination\n",
    "\n",
    "$$\n",
    "\\frac{7!}{4!(7 - 4)!} = 35\n",
    "$$"
   ]
  },
  {
   "cell_type": "markdown",
   "metadata": {},
   "source": [
    "### 1.5\n",
    "\n",
    "$n = 3, l = 5$, replacement, combinations\n",
    "\n",
    "$$\n",
    "\\frac{(3 + 5 - 1)!}{5!2!} = 21\n",
    "$$"
   ]
  },
  {
   "cell_type": "markdown",
   "metadata": {},
   "source": [
    "### 1.6\n",
    "\n",
    "$n = 3, l = 5$, replacement, permutations\n",
    "\n",
    "$$\n",
    "3^5 = 243\n",
    "$$"
   ]
  },
  {
   "cell_type": "markdown",
   "metadata": {},
   "source": [
    "### 1.7\n",
    "\n",
    "$n = 24, l = 24$ where we view the objects as 5 colors and 19 breaks.\n",
    "\n",
    "$$\n",
    "\\frac{24!}{19!} = 5,100,480\n",
    "$$"
   ]
  },
  {
   "cell_type": "markdown",
   "metadata": {},
   "source": [
    "# 2. Working with Probability Expressions\n",
    "\n",
    "Simplfiy the following expression and write in words the probability law or definition being used to go from the left-hand-side to the right-hand-side. There should be no intermediate steps. **Answer the following questions in Markdown**. 2 points each\n",
    "\n",
    "$\\DeclareMathOperator{\\P}{P}$\n",
    "$\\DeclareMathOperator{\\E}{E}$\n",
    "\n",
    "\n",
    "1. $\\sum_{y \\in \\mathcal{Y}}\\P(X = 3 | Y = y)P(Y = y) = $\n",
    "\n",
    "\n",
    "2. If $y$ and $x$ are independent: $\\P(X = 0|Y = 1) = $\n",
    "\n",
    "\n",
    "3. $\\sum_{y \\in \\mathcal{Y}}\\P(X = -1, Y = y) = $\n",
    "\n",
    "\n",
    "4. $\\sum_{x \\in \\mathcal{X}}\\P(X = x | Y = 1) = $\n",
    "\n",
    "\n",
    "5. $\\frac{\\P(X = 4,Y = 1)}{\\P(Y = 1)} = $\n",
    "\n",
    "\n",
    "6. If $x,y$ are conditionally independent on $z$ : $\\P(X = 0 | Z = 0, Y = 1) = $"
   ]
  },
  {
   "cell_type": "markdown",
   "metadata": {},
   "source": [
    "**2.1** $\\sum_{\\mathcal{Y}}\\P(X = 3|Y = y)\\P(Y = y) = \\P(X = 3)$. Marginalization of conditional\n",
    "\n",
    "**2.2** $\\P(X  = 0|Y = 1) = \\P(X = 0)$. Definition of independence\n",
    "\n",
    "**2.3** $\\sum_{\\mathcal{Y}}\\P(X = -1 ,Y = y) = \\P(X = -1)$. Definition of marginal\n",
    "\n",
    "**2.4** $\\sum_{\\mathcal{X}}\\P(X = x|Y = 1) = 1$, due the the Law of Total Probability.\n",
    "\n",
    "\n",
    "**2.5** $\\frac{\\P(X = 4, Y = 1)}{\\P(Y = 1)} = \\P(X = 4|Y = 1)$. Definition of conditional\n",
    "\n",
    "**2.6** $P(X = 0 | Z = 0)$. Definition  of conditional independence.\n",
    "\n",
    "\n",
    "\n",
    "\n"
   ]
  },
  {
   "cell_type": "markdown",
   "metadata": {},
   "source": [
    "# 3. Medical Diagnosis\n",
    "\n",
    "2019-nCoV (武汉肺炎, pronounced Wǔhàn fèiyán) is a new coronavirus first found in the city of Wuhan in the Hubei province of China.  A new protocol has been suggested for screening people arriving from the Hubei region. We want to use this test to quarantine probable cases to prevent the spread of nCoV and predict probability of death. People can either not have nCov or have nCov and our test can be positive or negative and the person can be dead or alive from the disease. Let's take the random variable $C$ to indicate if the patient has nCov, $T$ to indicate if the test is positive, and $S$ to be their state (alive = 1) after 7 days. On our first day of testing, 1200 people were tested and 200 had a positive test. Follow-up testing of those 200 showed that 11 had confirmed infections by nCov. We also, to ensure accuracy, did additional tests on the 1,000 who had a negative test result and found that one had nCov. Separately, we know that out of the 560 confirmed cases of nCov, 17 people died from the disease. Using this information, answer the following question:\n",
    "\n",
    "1. [1 point] Write out the sample space\n",
    "\n",
    "2. [3 points] Write out three probability statements given by the prompt.\n",
    "\n",
    "3. [8 points] Make a markdown table showing the probability of every element in the state space. State any assumptions you make.\n",
    "\n",
    "3. [3 points] What is the probability of dying and having a positive test?\n",
    "\n",
    "4. [3 points] What is the probability of dying if your test was positive? So should you be worried about a positive test?\n",
    "\n",
    "5. [3 points] What is the probability of dying if your test was negative?\n",
    "\n",
    "5. [5 points] If we decide to use this test and 2,400 people arrive per day from Wuhan, how many will get through with nCov? Use $2,400 \\times P(C = 1, T = 0)$ Is this a good test?"
   ]
  },
  {
   "cell_type": "markdown",
   "metadata": {},
   "source": [
    "### 3.1\n",
    "\n",
    "$\\{ (C = 0, T = 0, S = 0), (C = 0, T = 0, S = 1), \\ldots, (C = 1, T = 1, S = 1\\}$"
   ]
  },
  {
   "cell_type": "markdown",
   "metadata": {},
   "source": [
    "### 3.2\n",
    "\n",
    "$$ P(T = 1) = \\frac{200}{1200} $$\n",
    "\n",
    "$$ P(C = 1, T = 1) = \\frac{11}{1200} $$\n",
    "\n",
    "$$ P(C = 1, T = 0) = \\frac{1}{1200} $$\n",
    "\n",
    "$$ P(S = 0\\, |\\, C = 1) = \\frac{17}{560} $$\n",
    "\n",
    "\n",
    "Some examples, you could write more."
   ]
  },
  {
   "cell_type": "markdown",
   "metadata": {},
   "source": [
    "### 3.3\n",
    "\n",
    "There are many ways to arrive at these answers. I'll start by only considering the marginal of C,T first.\n",
    "\n",
    "| CT           |  Probability |\n",
    "| -------------| ------------:|\n",
    "| 00           |  999 / 1200  |\n",
    "| 01           |  189 / 1200  |\n",
    "| 10           |  1 / 1200    |\n",
    "| 11           |  11 / 1200   |\n",
    "\n",
    "\n",
    "I know that the result of the test doesn't matter if I know for sure (conditional independence) if someone actually has the disease. So $P(S = 0 | C = 1, T = ?) = P( S = 0 | C = 1) = P(S = 0, C = 1) / P( C = 1)$. I just need $P(C = 1)$ to solve this equation, which I can get from the table above: $P(C = 1) = (1 + 11) / 1200$\n",
    "\n",
    "$$\n",
    "P(S = 0, C = 1) = \\frac{17}{560} \\times \\frac{12}{1200} = \\frac{17}{56000}\n",
    "$$\n",
    "\n",
    "Now I can add back the $T$ state\n",
    "\n",
    "$$\n",
    "P(S = 0, C = 1, T = 0) = P(T = 0 | S = 0, C = 1) P(S = 0, C = 1) = \\frac{1}{12} \\times \\frac{17}{56000} = 2.53\\times 10^{-5}\n",
    "$$\n",
    "\n",
    "You can follow this process to get the rest.\n",
    "\n",
    "| CTS           |  Probability        |\n",
    "| ------------- | ----------------|\n",
    "| 000           |   ~ 0        |\n",
    "| 001           |   0.8330000  |\n",
    "| 010           |   ~ 0       |\n",
    "| 011           |   0.1575000       |\n",
    "| 100           |   0.0000253 | \n",
    "| 101           |   0.0008080 | \n",
    "| 110           |   0.0002780 | \n",
    "| 111           |   0.0088900 |\n",
    "\n",
    "\n",
    "Note that I have assumed the probability of dying if you don't have nCov is 0, at least for the time frame we're considering. "
   ]
  },
  {
   "cell_type": "markdown",
   "metadata": {},
   "source": [
    "### 3.4\n",
    "\n",
    "We can get this by marginalizing over C. \n",
    "\n",
    "$$\n",
    "P(S = 0, T = 1) = P(S = 0, T = 1, C = 0) + P(S = 0, T = 1, C = 1) = 0.0002780\n",
    "$$"
   ]
  },
  {
   "cell_type": "markdown",
   "metadata": {},
   "source": [
    "### 3.5\n",
    "\n",
    "We can use the definition of a conditional\n",
    "\n",
    "$$\n",
    "P(S = 0 | T = 1) = P(S = 0, T = 1) / P(T = 1) = 0.0017\n",
    "$$"
   ]
  },
  {
   "cell_type": "markdown",
   "metadata": {},
   "source": [
    "### 3.6\n",
    "\n",
    "Same procedure as above but with T = 0:\n",
    "\n",
    "$$\n",
    "0.0000253 / P(T = 0) = 0.0000306\n",
    "$$"
   ]
  },
  {
   "cell_type": "markdown",
   "metadata": {},
   "source": [
    "### 3.7\n",
    "\n",
    "Using my result from 3.3,\n",
    "\n",
    "$$\n",
    "2400 \\times \\frac{1}{1200} = 2\n",
    "$$\n",
    "\n",
    "Not a great test, since we will let in 2 infected per day. "
   ]
  }
 ],
 "metadata": {
  "kernelspec": {
   "display_name": "Python 3",
   "language": "python",
   "name": "python3"
  },
  "language_info": {
   "codemirror_mode": {
    "name": "ipython",
    "version": 3
   },
   "file_extension": ".py",
   "mimetype": "text/x-python",
   "name": "python",
   "nbconvert_exporter": "python",
   "pygments_lexer": "ipython3",
   "version": "3.7.3"
  }
 },
 "nbformat": 4,
 "nbformat_minor": 2
}
