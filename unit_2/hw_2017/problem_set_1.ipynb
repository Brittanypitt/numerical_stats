{
 "cells": [
  {
   "cell_type": "markdown",
   "metadata": {
    "nbgrader": {
     "grade": false,
     "grade_id": "header",
     "locked": true,
     "schema_version": 1,
     "solution": false
    }
   },
   "source": [
    "Problem Set 1 Combinations and Permutations\n",
    "==="
   ]
  },
  {
   "cell_type": "markdown",
   "metadata": {
    "nbgrader": {
     "grade": false,
     "grade_id": "1-1",
     "locked": true,
     "schema_version": 1,
     "solution": false
    }
   },
   "source": [
    "#### Problem 1.1\n",
    "How many ways can you arrange the letters in the word \"letters\""
   ]
  },
  {
   "cell_type": "markdown",
   "metadata": {
    "nbgrader": {
     "grade": true,
     "grade_id": "1-1-a",
     "locked": false,
     "points": 4,
     "schema_version": 1,
     "solution": true
    }
   },
   "source": [
    "You have the letters l,e,t,r and s in 7 positions. The number of permutations as if the \"t\" and \"e\" are unique is $7!$. However, that you can swap the two \"t\"s in each of those permutations and it will not change the word. Similarly for \"e\".\n",
    "\n",
    "$$\n",
    "\\frac{7!}{2!2!} = 1,260\n",
    "$$"
   ]
  },
  {
   "cell_type": "markdown",
   "metadata": {
    "nbgrader": {
     "grade": false,
     "grade_id": "1-2",
     "locked": true,
     "schema_version": 1,
     "solution": false
    }
   },
   "source": [
    "#### Problem 1.2\n",
    "Every morning 7 people enter an office. How many different orders can they enter the office?"
   ]
  },
  {
   "cell_type": "markdown",
   "metadata": {
    "nbgrader": {
     "grade": true,
     "grade_id": "1-2-a",
     "locked": false,
     "points": 4,
     "schema_version": 1,
     "solution": true
    }
   },
   "source": [
    "$$\n",
    "7! = 5,040\n",
    "$$"
   ]
  },
  {
   "cell_type": "markdown",
   "metadata": {
    "nbgrader": {
     "grade": false,
     "grade_id": "1-3",
     "locked": true,
     "schema_version": 1,
     "solution": false
    }
   },
   "source": [
    "#### Problem 1.3\n",
    "\n",
    "You are scheduling exams in a single classroom. There are 8 exams that need to be scheduled and each lasts 2 hours. The classroom can be scheduled for up to 16 hours. How many different permutations of the exam schedules can you make?"
   ]
  },
  {
   "cell_type": "markdown",
   "metadata": {
    "nbgrader": {
     "grade": true,
     "grade_id": "1-3-a",
     "locked": false,
     "points": 4,
     "schema_version": 1,
     "solution": true
    }
   },
   "source": [
    "$$\n",
    "8!=40,320\n",
    "$$"
   ]
  },
  {
   "cell_type": "markdown",
   "metadata": {
    "nbgrader": {
     "grade": false,
     "grade_id": "1-4",
     "locked": true,
     "schema_version": 1,
     "solution": false
    }
   },
   "source": [
    "#### Problem 1.4\n",
    "\n",
    "You are scheduling exams in two classrooms. There are 8 exams that need to be scheduled and each lasts 2 hours. Each classroom can be scheduled for up to 8 hours.  How many different permutations of the exam schedules can you make?"
   ]
  },
  {
   "cell_type": "markdown",
   "metadata": {
    "nbgrader": {
     "grade": true,
     "grade_id": "1-4-a",
     "locked": false,
     "points": 4,
     "schema_version": 1,
     "solution": true
    }
   },
   "source": [
    "Imagine that you lie the exams in a line and assign the first four to classroom 1 and the second four to classroom 2. Take letters of the alphabet to be the exams:\n",
    "\n",
    "$$\n",
    "\\underbrace{ABCD}_{\\textrm{Classroom 1}}\\underbrace{DEFG}_{\\textrm{Classroom 2}}\n",
    "$$\n",
    "\n",
    "You can see that as you write out the permutations, there is no way to rearrange which go to classroom 1 or 2 without copying another permutation. Thus the number is the same. \n",
    "\n",
    "$$\n",
    "8! = 40,320\n",
    "$$"
   ]
  },
  {
   "cell_type": "markdown",
   "metadata": {
    "nbgrader": {
     "grade": false,
     "grade_id": "1-5",
     "locked": true,
     "schema_version": 1,
     "solution": false
    }
   },
   "source": [
    "#### Problem 1.5\n",
    "\n",
    "You are scheduling exams in three classrooms. There are 8 exams that need to be scheduled and each lasts 2 hours. Each classroom can be scheduled for up to 8 hours.  How many different permutations of the exam schedules can you make? Assume all gaps without exams are exactly two hours"
   ]
  },
  {
   "cell_type": "markdown",
   "metadata": {
    "nbgrader": {
     "grade": true,
     "grade_id": "1-5-a",
     "locked": false,
     "points": 4,
     "schema_version": 1,
     "solution": true
    }
   },
   "source": [
    "Now we have a new exam option: \"no exam\". How many of these do we have? There are total 16 hours of exams and we have 24 hours\n",
    "of classroom time. That means we have 4 \"no exams\". However, these no exam gaps are interchangeable just like the problem above with two \"t\"s in the word letters.\n",
    "\n",
    "$$\n",
    "\\frac{12!}{4!} = 19,958,400\n",
    "$$"
   ]
  }
 ],
 "metadata": {
  "celltoolbar": "Create Assignment",
  "kernelspec": {
   "display_name": "Python 3",
   "language": "python",
   "name": "python3"
  },
  "language_info": {
   "codemirror_mode": {
    "name": "ipython",
    "version": 3
   },
   "file_extension": ".py",
   "mimetype": "text/x-python",
   "name": "python",
   "nbconvert_exporter": "python",
   "pygments_lexer": "ipython3",
   "version": "3.5.2"
  }
 },
 "nbformat": 4,
 "nbformat_minor": 2
}
