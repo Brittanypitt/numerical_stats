{
 "cells": [
  {
   "cell_type": "markdown",
   "metadata": {},
   "source": [
    "Homework 11 Key\n",
    "====\n",
    "#### CHE 116: Numerical Methods and Statistics\n",
    "\n",
    "4/12/2018\n",
    "\n",
    "----\n",
    "\n",
    "Homework Requirements:\n",
    "\n",
    "1. Write all equations in $\\LaTeX$\n",
    "2. Simplify all expressions\n",
    "2. Put comments in your Python code\n",
    "3. Explain or show your work\n",
    "4. Follow the academic honesty guidelines in the syllabus\n",
    "\n",
    "-----"
   ]
  },
  {
   "cell_type": "code",
   "execution_count": 1,
   "metadata": {},
   "outputs": [],
   "source": [
    "%matplotlib inline\n",
    "import matplotlib.pyplot as plt\n",
    "import numpy as np\n",
    "import scipy.optimize as opt"
   ]
  },
  {
   "cell_type": "markdown",
   "metadata": {},
   "source": [
    "Answer each using Python and Markdown. First, state what type of optimization (2 points), the number of dimensions (1 point), if it's convex (1 points), and if there are bounds or constraints (2 points). Next, write out any constraints or rearrangements of equations in Markdown. For example, if you use root finding you should write out the expression for which you're finding roots (e.g., $x^2 = 4$ becomes $x^2 - 4 = 0$). Solve the problem ( 6 points) and then graph your solution (4 points). **You must make a graph showing a graph of the equation and the otpimum point for each problem** 16 points per problem. You must also print your numerical answer.\n",
    "\n",
    "### 1\\. \n",
    "\n",
    "Solve the following equation\n",
    "\n",
    "$$\n",
    "\\sin x = \\sqrt{x} \\ln x\n",
    "$$\n",
    "\n",
    "### 2\\. \n",
    "\n",
    "Find the minimum value for this expression: \n",
    "\n",
    "$$\n",
    "x^4 - x^2 - x\n",
    "$$\n",
    "\n",
    "### 3\\. \n",
    "\n",
    "Find the positive root for this expression. Specify bounds in your call to the optimization function\n",
    "\n",
    "$$\n",
    "\\frac{x^3(1 - x)}{x^2 - x + 2} = \\frac{1}{10}\n",
    "$$\n",
    "\n",
    "### 4\\.\n",
    "\n",
    "Take $p$ to be a probability. Find the maximum value for the following expression:\n",
    "\n",
    "$$\n",
    "p^{8} (1 - p)^{2}\n",
    "$$\n",
    "\n",
    "### 5\\. \n",
    "\n",
    "Solve the following problem where $x$ and $y$ are bounded to lie between $-\\pi$ and $\\pi$.\n",
    "\n",
    "$$\n",
    "\\cos 3.1x \\sin 5.2y + \\frac{(x + y - 2)^2}{250}\n",
    "$$\n",
    "\n",
    "The following snippet will plot the function in 3D\n",
    "\n",
    "```python\n",
    "import numpy as np\n",
    "from mpl_toolkits.mplot3d import Axes3D\n",
    "from matplotlib import cm\n",
    "import matplotlib.pyplot as plt\n",
    "\n",
    "def fxn_5(x, y):\n",
    "    return 2 * np.cos(3.1 * x) * np.sin(5.2 * y) + (x + y - 2)**2 / 250\n",
    "x = np.linspace(- np.pi, np.pi, 100)\n",
    "y = np.linspace(-np.pi, np.pi, 100)\n",
    "xx, yy = np.meshgrid(x, y, sparse=True)\n",
    "\n",
    "z = fxn_5(xx, yy)\n",
    "\n",
    "plt.contourf(x,y,z, cmap=cm.plasma)\n",
    "plt.colorbar()\n",
    "plt.show()\n",
    "\n",
    "```\n",
    "\n",
    "### 6\\.\n",
    "\n",
    "\n",
    "Maximize the following equation subject to the following constraints $x_0 > 0$, $x_1 > 0$, $ x_0 + x_1 = 1$. You do not need to plot this.\n",
    "\n",
    "$$\n",
    "f(x_0, x_1) = e^{-(x_0 - 4)^2}e^{-(x_1 + 2)^2}\n",
    "$$\n",
    "\n",
    "\n",
    "### 7\\.\n",
    "\n",
    "Solve the following system of equations. Remember that if there are multiple solutions, it is non-convex. You do not need to plot this problem\n",
    "\n",
    "$$\n",
    "xy - z = 1\n",
    "$$\n",
    "$$\n",
    "x + z = -2\n",
    "$$\n",
    "$$\n",
    "x^2 -y + z = 3\n",
    "$$"
   ]
  },
  {
   "cell_type": "markdown",
   "metadata": {},
   "source": [
    "### Answer 1\n",
    "\n",
    "* root finding\n",
    "* 1D\n",
    "* convex\n",
    "* no bounds/constraints\n",
    "\n",
    "$$\n",
    "\\sin x - \\sqrt{x} \\ln x = 0\n",
    "$$"
   ]
  },
  {
   "cell_type": "code",
   "execution_count": 2,
   "metadata": {},
   "outputs": [
    {
     "data": {
      "image/png": "[encoded data removed]",
      "text/plain": [
       "<matplotlib.figure.Figure at 0x7f388f72d9e8>"
      ]
     },
     "metadata": {},
     "output_type": "display_data"
    },
    {
     "name": "stdout",
     "output_type": "stream",
     "text": [
      "[ 1.94727144]\n"
     ]
    }
   ],
   "source": [
    "def fxn_1(x):\n",
    "    return np.sin(x) - np.sqrt(x) * np.log(x)\n",
    "result = opt.root(fxn_1, x0=1)\n",
    "\n",
    "x = np.linspace(1,3, 100)\n",
    "plt.plot(x, fxn_1(x))\n",
    "plt.plot(result.x, result.fun, 'ro')\n",
    "plt.show()\n",
    "print(result.x)"
   ]
  },
  {
   "cell_type": "markdown",
   "metadata": {},
   "source": [
    "### Answer 2\n",
    "* minimization\n",
    "* 1D\n",
    "* convex\n",
    "* no bounds/constraints"
   ]
  },
  {
   "cell_type": "code",
   "execution_count": 3,
   "metadata": {},
   "outputs": [
    {
     "data": {
      "image/png": "[encoded data removed]",
      "text/plain": [
       "<matplotlib.figure.Figure at 0x7f388f72d978>"
      ]
     },
     "metadata": {},
     "output_type": "display_data"
    },
    {
     "name": "stdout",
     "output_type": "stream",
     "text": [
      "[ 0.88464548]\n"
     ]
    }
   ],
   "source": [
    "def fxn_2(x):\n",
    "    return x**4 - x**2 - x\n",
    "result = opt.minimize(fxn_2, x0=1)\n",
    "\n",
    "x = np.linspace(-3,3, 100)\n",
    "plt.plot(x, fxn_2(x))\n",
    "plt.plot(result.x, result.fun, 'ro')\n",
    "plt.show()\n",
    "print(result.x)"
   ]
  },
  {
   "cell_type": "markdown",
   "metadata": {},
   "source": [
    "### Answer 3\n",
    "\n",
    "* root finding\n",
    "* 1D\n",
    "* convex\n",
    "* bounds: $x > 0$\n",
    "\n",
    "$$\n",
    "\\frac{x^3(1 - x)}{x^2 - x + 2} + \\frac{1}{10} = 0\n",
    "$$"
   ]
  },
  {
   "cell_type": "code",
   "execution_count": 5,
   "metadata": {},
   "outputs": [
    {
     "data": {
      "image/png": "[encoded data removed]",
      "text/plain": [
       "<matplotlib.figure.Figure at 0x7f388d5cf048>"
      ]
     },
     "metadata": {},
     "output_type": "display_data"
    },
    {
     "name": "stdout",
     "output_type": "stream",
     "text": [
      "1.1444534038364285\n"
     ]
    }
   ],
   "source": [
    "def fxn_3(x):\n",
    "    return x ** 3 * (1 - x) / (x**2 - x + 2) + 0.1\n",
    "result = opt.brentq(fxn_3, a=0, b = 100)\n",
    "# brentq returns root directly\n",
    "x = np.linspace(-1,2, 100)\n",
    "plt.plot(x, fxn_3(x))\n",
    "plt.plot(result, fxn_3(result), 'ro')\n",
    "plt.show()\n",
    "print(result)"
   ]
  },
  {
   "cell_type": "markdown",
   "metadata": {},
   "source": [
    "### Answer 4\n",
    "\n",
    "* minimization\n",
    "* 1D\n",
    "* convex\n",
    "* bounds: $0 < p < 1$"
   ]
  },
  {
   "cell_type": "code",
   "execution_count": 6,
   "metadata": {},
   "outputs": [
    {
     "data": {
      "image/png": "[encoded data removed]",
      "text/plain": [
       "<matplotlib.figure.Figure at 0x7f388d4a1dd8>"
      ]
     },
     "metadata": {},
     "output_type": "display_data"
    },
    {
     "name": "stdout",
     "output_type": "stream",
     "text": [
      "[ 0.7999947]\n"
     ]
    }
   ],
   "source": [
    "def fxn_4(p):\n",
    "    return p**8 * (1 - p)**2\n",
    "#use lambda here to make it maximization\n",
    "result = opt.minimize(lambda x: -fxn_4(x), x0=0.5, bounds=[(0, 1)])\n",
    "\n",
    "x = np.linspace(0,1, 100)\n",
    "plt.plot(x, fxn_4(x))\n",
    "#can't use reult.fun, since it's negative of f(x)\n",
    "plt.plot(result.x, fxn_4(result.x), 'ro')\n",
    "plt.show()\n",
    "print(result.x)"
   ]
  },
  {
   "cell_type": "markdown",
   "metadata": {},
   "source": [
    "### Answer 5\n",
    "* minimzation\n",
    "* 2D\n",
    "* non-convex \n",
    "* bounds: $-\\pi < x < \\pi,\\; -\\pi < y < \\pi$"
   ]
  },
  {
   "cell_type": "code",
   "execution_count": 31,
   "metadata": {},
   "outputs": [
    {
     "data": {
      "image/png": "[encoded data removed]",
      "text/plain": [
       "<matplotlib.figure.Figure at 0x7f388d3542e8>"
      ]
     },
     "metadata": {},
     "output_type": "display_data"
    }
   ],
   "source": [
    "def fxn_5(x, y):\n",
    "    return 2 * np.cos(x * 3.1) * np.sin(y * 5.2) - (x  + y - 2)**2 / 100\n",
    "x = np.linspace(-np.pi, np.pi, 100)\n",
    "y = np.linspace(-np.pi, np.pi, 100)\n",
    "xx, yy = np.meshgrid(x, y, sparse=True)\n",
    "\n",
    "z = fxn_5(xx, yy)\n",
    "\n",
    "from mpl_toolkits.mplot3d import Axes3D\n",
    "from matplotlib import cm\n",
    "\n",
    "plt.contourf(x,y,z, cmap=cm.plasma)\n",
    "plt.colorbar()\n",
    "plt.show()"
   ]
  },
  {
   "cell_type": "code",
   "execution_count": 32,
   "metadata": {},
   "outputs": [
    {
     "name": "stdout",
     "output_type": "stream",
     "text": [
      "[-3.047708   -2.11718404]\n"
     ]
    }
   ],
   "source": [
    "# tired a few number of iterations, this one worked well\n",
    "result = opt.basinhopping(lambda x: fxn_5(x[0], x[1]), x0=[0, 0], niter=5000, \n",
    "                          minimizer_kwargs={'bounds': [(-np.pi, np.pi), (-np.pi, np.pi)]})\n",
    "print(result.x)"
   ]
  },
  {
   "cell_type": "code",
   "execution_count": 33,
   "metadata": {},
   "outputs": [
    {
     "data": {
      "image/png": "[encoded data removed]",
      "text/plain": [
       "<matplotlib.figure.Figure at 0x7f388d439470>"
      ]
     },
     "metadata": {},
     "output_type": "display_data"
    }
   ],
   "source": [
    "plt.contourf(x,y,z, cmap=cm.plasma)\n",
    "plt.plot(result.x[0], result.x[1], 'rp')\n",
    "plt.colorbar()\n",
    "plt.show()"
   ]
  },
  {
   "cell_type": "markdown",
   "metadata": {},
   "source": [
    "### Answer 6\n",
    "\n",
    "* maximize\n",
    "* 2D\n",
    "* convex\n",
    "* bounds: $x_0 > 0$, $x_1 > 0$\n",
    "* constraints:\n",
    "\n",
    "$$\n",
    "x_0 + x_1 - 1 = 0\n",
    "$$"
   ]
  },
  {
   "cell_type": "code",
   "execution_count": 30,
   "metadata": {},
   "outputs": [
    {
     "name": "stdout",
     "output_type": "stream",
     "text": [
      "[ 0.3  0.7] -7.735738309389561e-10\n"
     ]
    }
   ],
   "source": [
    "def fxn_6(x):\n",
    "    return np.exp(-(x[0] - 4)**2) * np.exp(-(x[1] + 2)**2)\n",
    "#we use bounds up to 10, to approximate infinity\n",
    "result = opt.minimize(lambda x: -fxn_6(x), x0=[0.3,0.7], constraints=[{'type':'eq', 'fun': lambda x: x[0] + x[1] - 1}], bounds=[(0,10), (0,10)])         \n",
    "print(result.x, result.fun)"
   ]
  },
  {
   "cell_type": "markdown",
   "metadata": {},
   "source": [
    "### Answer 7\n",
    "\n",
    "* root\n",
    "* 3D\n",
    "* non-convex\n",
    "* no bounds/constraints\n",
    "\n",
    "$$\n",
    "xy - z - 1 = 0\n",
    "$$\n",
    "$$\n",
    "x + z + 2 = 0\n",
    "$$\n",
    "$$\n",
    "x^2 -y + z - 3 = 0\n",
    "$$"
   ]
  },
  {
   "cell_type": "code",
   "execution_count": 11,
   "metadata": {},
   "outputs": [
    {
     "data": {
      "text/plain": [
       "    fjac: array([[ 0.03720618, -0.25541528, -0.96611528],\n",
       "       [ 0.9937905 ,  0.11090685,  0.00895115],\n",
       "       [-0.10486254,  0.96044922, -0.2579557 ]])\n",
       "     fun: array([  1.33226763e-15,  -4.44089210e-16,  -8.88178420e-16])\n",
       " message: 'The solution converged.'\n",
       "    nfev: 17\n",
       "     qtf: array([  4.77161711e-11,   1.17816210e-10,  -9.15389525e-13])\n",
       "       r: array([-3.91519256,  1.0545771 , -0.27112992,  2.42866074, -0.02426211,\n",
       "        0.97187867])\n",
       "  status: 1\n",
       " success: True\n",
       "       x: array([ 2.46050487, -1.40642065, -4.46050487])"
      ]
     },
     "execution_count": 11,
     "metadata": {},
     "output_type": "execute_result"
    }
   ],
   "source": [
    "def fxn_7(v):\n",
    "    x = v[0]\n",
    "    y = v[1]\n",
    "    z = v[2]\n",
    "    eq1 = x * y - z - 1\n",
    "    eq2 = x + z + 2\n",
    "    eq3 = x**2 - y + z - 3\n",
    "    return [eq1, eq2, eq3]\n",
    "\n",
    "opt.root(fxn_7, x0=[1, 1, 1])"
   ]
  },
  {
   "cell_type": "code",
   "execution_count": 12,
   "metadata": {},
   "outputs": [
    {
     "data": {
      "text/plain": [
       "    fjac: array([[-0.65925204,  0.07371802, -0.74829968],\n",
       "       [-0.74698363, -0.17807854,  0.64054936],\n",
       "       [ 0.08603608, -0.98125108, -0.1724648 ]])\n",
       "     fun: array([ -2.47135645e-13,   0.00000000e+00,  -1.91402449e-13])\n",
       " message: 'The solution converged.'\n",
       "    nfev: 18\n",
       "     qtf: array([  1.43281191e-09,   2.92339266e-10,   5.45881840e-11])\n",
       "       r: array([ 13.56520342,   1.18018059,  -0.04621884,   0.48855175,\n",
       "         1.07285541,  -1.21728241])\n",
       "  status: 1\n",
       " success: True\n",
       "       x: array([-1.69962815, -0.41163601, -0.30037185])"
      ]
     },
     "execution_count": 12,
     "metadata": {},
     "output_type": "execute_result"
    }
   ],
   "source": [
    "# try different starting point to see if it's non-convex\n",
    "opt.root(fxn_7, x0=[-10, 10, 10])"
   ]
  },
  {
   "cell_type": "code",
   "execution_count": 13,
   "metadata": {},
   "outputs": [],
   "source": [
    "result = opt.root(fxn_7, x0=[-10, 10, 20])"
   ]
  },
  {
   "cell_type": "code",
   "execution_count": 14,
   "metadata": {},
   "outputs": [
    {
     "name": "stdout",
     "output_type": "stream",
     "text": [
      "[-1.69962815 -0.41163601 -0.30037185]\n"
     ]
    }
   ],
   "source": [
    "print(result.x)"
   ]
  },
  {
   "cell_type": "code",
   "execution_count": null,
   "metadata": {},
   "outputs": [],
   "source": []
  }
 ],
 "metadata": {
  "kernelspec": {
   "display_name": "Python 3",
   "language": "python",
   "name": "python3"
  },
  "language_info": {
   "codemirror_mode": {
    "name": "ipython",
    "version": 3
   },
   "file_extension": ".py",
   "mimetype": "text/x-python",
   "name": "python",
   "nbconvert_exporter": "python",
   "pygments_lexer": "ipython3",
   "version": "3.6.3"
  }
 },
 "nbformat": 4,
 "nbformat_minor": 2
}
