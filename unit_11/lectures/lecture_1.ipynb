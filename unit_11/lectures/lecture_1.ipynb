{
 "cells": [
  {
   "cell_type": "markdown",
   "metadata": {
    "slideshow": {
     "slide_type": "slide"
    }
   },
   "source": [
    "Unit 11, Lecture 1\n",
    "====\n",
    "\n",
    "*Numerical Methods and Statistics*\n",
    "\n",
    "----\n",
    "\n",
    "#### Prof. Andrew White, Mar 29 2016"
   ]
  },
  {
   "cell_type": "code",
   "execution_count": 26,
   "metadata": {
    "collapsed": false,
    "slideshow": {
     "slide_type": "skip"
    }
   },
   "outputs": [],
   "source": [
    "%matplotlib inline\n",
    "import random\n",
    "import numpy as np\n",
    "import matplotlib.pyplot as plt\n",
    "from math import sqrt, pi, erf\n",
    "import scipy.stats\n",
    "plt.style.use('fivethirtyeight')"
   ]
  },
  {
   "cell_type": "markdown",
   "metadata": {
    "slideshow": {
     "slide_type": "slide"
    }
   },
   "source": [
    "Least Squares Linear Regression\n",
    "====\n",
    "\n",
    "Let's recall the problem setting for linear regression."
   ]
  },
  {
   "cell_type": "markdown",
   "metadata": {
    "slideshow": {
     "slide_type": "subslide"
    }
   },
   "source": [
    "We have some data, $x$ and $y$, and we want to fit a line to the data. Our model will be:\n",
    "\n",
    "$$\\hat{y} = \\hat{\\alpha} + \\hat{\\beta}x$$\n",
    "\n",
    "where a $\\hat{}$ indicates our best estimate of something. We make an assumption that the process that generates our data looks like:\n",
    "\n",
    "$$y = \\alpha + \\beta x + \\epsilon$$\n",
    "\n",
    "where $\\epsilon$ is coming from a normal distribution"
   ]
  },
  {
   "cell_type": "markdown",
   "metadata": {
    "slideshow": {
     "slide_type": "slide"
    }
   },
   "source": [
    "Nomenclature\n",
    "-----\n",
    "\n",
    "* $\\alpha$ - an intercept\n",
    "* $\\hat{\\alpha}$ - our estimated best intercept\n",
    "* $\\beta$ - a slope\n",
    "* $\\hat{\\beta}$ - our estimated best slope\n",
    "* $\\hat{y}$ - our estimated y's\n",
    "* $\\epsilon$ - the variable which is creating normally distributed noise.\n",
    "* $x,y$ - the data\n",
    "* Residual - the difference between $\\hat{y}$ and $y$ at a particular point ($\\hat{y}_i - y_i$)\n",
    "* Sum of squared residues (SSR) - $\\sum_i (\\hat{y}_i - y_i)^2$\n",
    "* Sum of squared error (SSE) - the same as SSR\n",
    "* Total sum of squares (TSS) - $\\sum_i (\\bar{y} - y_i)^2$, which is a kind of variance\n",
    "* $S_{\\textrm{something}}$ - The standard error of something"
   ]
  },
  {
   "cell_type": "markdown",
   "metadata": {
    "slideshow": {
     "slide_type": "slide"
    }
   },
   "source": [
    "Linear Regression with Optimization\n",
    "===="
   ]
  },
  {
   "cell_type": "markdown",
   "metadata": {
    "slideshow": {
     "slide_type": "subslide"
    }
   },
   "source": [
    "One way to view this problem is as an optimization. Can we write down an equation that results in a single value that we minimize? Our ultimate goal is to make $\\hat{y}$ as close as possible to $y$. Mathematically, that means we want $\\sum_i(y_i - \\hat{y}_i)^2$ to be small. \n",
    "\n",
    "That is the objective function to minimize, but what are the dimensions to change? Those are $\\alpha$ and $\\beta$. So we need to write down a function which takes in $\\alpha$ and $\\beta$ and returns how good the fit is:"
   ]
  },
  {
   "cell_type": "markdown",
   "metadata": {
    "slideshow": {
     "slide_type": "subslide"
    }
   },
   "source": [
    "$$f(\\alpha, \\beta) = \\sum_i \\left(y_i - \\alpha - \\beta x_i\\right)^2$$\n",
    "\n",
    "We can minimize this equation using any of our minimization techniques"
   ]
  },
  {
   "cell_type": "code",
   "execution_count": 95,
   "metadata": {
    "collapsed": false,
    "slideshow": {
     "slide_type": "subslide"
    }
   },
   "outputs": [
    {
     "data": {
      "image/png": "[encoded data removed]",
      "text/plain": [
       "<matplotlib.figure.Figure at 0x7f6dcd73c588>"
      ]
     },
     "metadata": {},
     "output_type": "display_data"
    }
   ],
   "source": [
    "#Make some data -> this is problem setup\n",
    "\n",
    "x = np.linspace(0,10, 20)\n",
    "y = 1 + x * 2.5 + scipy.stats.norm.rvs(scale=2, size=20)\n",
    "plt.plot(x,y, 'o')\n",
    "plt.show()"
   ]
  },
  {
   "cell_type": "code",
   "execution_count": 96,
   "metadata": {
    "collapsed": false,
    "slideshow": {
     "slide_type": "subslide"
    }
   },
   "outputs": [
    {
     "data": {
      "text/plain": [
       "      fun: 59.63362692580064\n",
       " hess_inv: array([[ 0.09285714, -0.01357143],\n",
       "       [-0.01357143,  0.00271429]])\n",
       "      jac: array([  4.76837158e-07,   9.53674316e-07])\n",
       "  message: 'Optimization terminated successfully.'\n",
       "     nfev: 24\n",
       "      nit: 3\n",
       "     njev: 6\n",
       "   status: 0\n",
       "  success: True\n",
       "        x: array([ 0.08690225,  2.70301301])"
      ]
     },
     "execution_count": 96,
     "metadata": {},
     "output_type": "execute_result"
    }
   ],
   "source": [
    "def SSR(arg):\n",
    "    alpha = arg[0]\n",
    "    beta = arg[1]\n",
    "    yhat = alpha + beta * x\n",
    "    ssr = np.sum((yhat - y)**2)\n",
    "    return ssr\n",
    "\n",
    "import scipy.optimize\n",
    "\n",
    "result = scipy.optimize.minimize(SSR, x0=[1,1])\n",
    "result"
   ]
  },
  {
   "cell_type": "code",
   "execution_count": 97,
   "metadata": {
    "collapsed": false,
    "slideshow": {
     "slide_type": "subslide"
    }
   },
   "outputs": [
    {
     "name": "stdout",
     "output_type": "stream",
     "text": [
      "0.0869022538344 2.70301300535\n"
     ]
    },
    {
     "data": {
      "image/png": "[encoded data removed]",
      "text/plain": [
       "<matplotlib.figure.Figure at 0x7f6dcd6cbe48>"
      ]
     },
     "metadata": {},
     "output_type": "display_data"
    }
   ],
   "source": [
    "alpha_hat = result.x[0]\n",
    "beta_hat = result.x[1]\n",
    "\n",
    "print(alpha_hat, beta_hat)\n",
    "\n",
    "plt.plot(x,y, 'o')\n",
    "plt.plot(x, alpha_hat + beta_hat * x)\n",
    "plt.show()\n"
   ]
  },
  {
   "cell_type": "markdown",
   "metadata": {
    "slideshow": {
     "slide_type": "subslide"
    }
   },
   "source": [
    "----\n",
    "Notice that we didn't get exactly the correct answer. The points were generated with a slope of 2.5 and an intercept of 1, whereas our fit was a little bit off"
   ]
  },
  {
   "cell_type": "markdown",
   "metadata": {
    "slideshow": {
     "slide_type": "slide"
    }
   },
   "source": [
    "Hypothesis Test for Normality\n",
    "====\n",
    "\n",
    "Another important hypothesis is determining if a sample is normally distributed. We said in class many times that we require things to be normal for many methods. Here's how we actually test that."
   ]
  },
  {
   "cell_type": "markdown",
   "metadata": {
    "slideshow": {
     "slide_type": "subslide"
    }
   },
   "source": [
    "Shapiro–Wilk Test\n",
    "====\n",
    "\n",
    "**Data Type:** single group of samples\n",
    "\n",
    "**Compares:** If the samples came from an unknown parent normal distribution (are they normally distributed)\n",
    "\n",
    "**Null Hypothesis:** The samples are from the unknown parent normal distribution\n",
    "\n",
    "**Conditions:** None\n",
    "\n",
    "**Python:** `scipy.stats.shapiro`\n",
    "\n",
    "**Notes:** There are many other tests for normality. This one is not the simplests, but is the most effective"
   ]
  },
  {
   "cell_type": "code",
   "execution_count": 98,
   "metadata": {
    "collapsed": false,
    "slideshow": {
     "slide_type": "subslide"
    }
   },
   "outputs": [
    {
     "data": {
      "text/plain": [
       "(0.9825882911682129, 0.9762559533119202)"
      ]
     },
     "execution_count": 98,
     "metadata": {},
     "output_type": "execute_result"
    }
   ],
   "source": [
    "data = [12.4, 12.6, 11.8, 11.5, 11.9, 12.2, 12.0, 12.1, 11.8]\n",
    "\n",
    "scipy.stats.shapiro(data)"
   ]
  },
  {
   "cell_type": "markdown",
   "metadata": {
    "slideshow": {
     "slide_type": "fragment"
    }
   },
   "source": [
    "The $p$-value is quite high, so we don't reject the null hypothesis"
   ]
  },
  {
   "cell_type": "code",
   "execution_count": 99,
   "metadata": {
    "collapsed": false,
    "slideshow": {
     "slide_type": "subslide"
    }
   },
   "outputs": [
    {
     "data": {
      "text/plain": [
       "(0.9547258019447327, 0.0017220161389559507)"
      ]
     },
     "execution_count": 99,
     "metadata": {},
     "output_type": "execute_result"
    }
   ],
   "source": [
    "data = np.linspace(0,1, 100)\n",
    "\n",
    "scipy.stats.shapiro(data)"
   ]
  },
  {
   "cell_type": "markdown",
   "metadata": {
    "slideshow": {
     "slide_type": "fragment"
    }
   },
   "source": [
    "The $p$-value is 0.002, so we correctly reject the null hypothesis"
   ]
  },
  {
   "cell_type": "markdown",
   "metadata": {
    "slideshow": {
     "slide_type": "slide"
    }
   },
   "source": [
    "Linear Regression Assumption Check\n",
    "=====\n",
    "\n",
    "One of our assumptions was that the noise is normally distributed. Recall our model:\n",
    "\n",
    "$$y = \\alpha + \\beta x + \\epsilon$$\n",
    "$$\\epsilon = y - \\alpha - \\beta x \\approx y - \\hat{y}$$\n",
    "\n",
    "Where the $\\approx$ is because we are using our estimates for $\\alpha$ and $\\beta$. We can now check our assumption by histogramming the residuals, which should be the same as looking at the $\\epsilon$ distribution."
   ]
  },
  {
   "cell_type": "code",
   "execution_count": 100,
   "metadata": {
    "collapsed": false,
    "slideshow": {
     "slide_type": "subslide"
    }
   },
   "outputs": [
    {
     "data": {
      "image/png": "[encoded data removed]",
      "text/plain": [
       "<matplotlib.figure.Figure at 0x7f6dcd623358>"
      ]
     },
     "metadata": {},
     "output_type": "display_data"
    }
   ],
   "source": [
    "plt.hist(y - beta_hat * x - alpha_hat)\n",
    "plt.show()"
   ]
  },
  {
   "cell_type": "markdown",
   "metadata": {
    "slideshow": {
     "slide_type": "subslide"
    }
   },
   "source": [
    "----\n",
    "\n",
    "At this point, it's unclear if they are normally distributed. Luckily we just learned the Shapiro–Wilk Test!"
   ]
  },
  {
   "cell_type": "code",
   "execution_count": 101,
   "metadata": {
    "collapsed": false,
    "slideshow": {
     "slide_type": "fragment"
    }
   },
   "outputs": [
    {
     "data": {
      "text/plain": [
       "(0.9013774991035461, 0.043768495321273804)"
      ]
     },
     "execution_count": 101,
     "metadata": {},
     "output_type": "execute_result"
    }
   ],
   "source": [
    "scipy.stats.shapiro(y - beta_hat * x - alpha_hat)"
   ]
  },
  {
   "cell_type": "markdown",
   "metadata": {
    "slideshow": {
     "slide_type": "fragment"
    }
   },
   "source": [
    "----\n",
    "It looks like the residuals may indeed be normally distributed. So, our assumption was valid."
   ]
  },
  {
   "cell_type": "markdown",
   "metadata": {
    "slideshow": {
     "slide_type": "slide"
    }
   },
   "source": [
    "Linear Regression With Statistics &mdash; Ordinary Least Squares Regression in 1D (OLS-1D)\n",
    "====\n",
    "\n",
    "We have the same problem setting as above, but now we'll solve it using a different approach. Using calculus you can show from above that the minimum to $f(\\alpha, \\beta)$ above is:\n",
    "\n",
    "$$\\hat{\\beta} = \\frac{\\sum_i(x_i - \\bar{x})(y_i - \\bar{y})}{\\sum_i(x_i - \\bar{x})^2}$$"
   ]
  },
  {
   "cell_type": "markdown",
   "metadata": {
    "slideshow": {
     "slide_type": "subslide"
    }
   },
   "source": [
    "With a little bit of algebra, you can show this is\n",
    "\n",
    "$$\\hat{\\beta} = \\frac{\\sigma_{xy}}{\\sigma_x^2}$$\n",
    "\n",
    "where $\\sigma_{xy}$ is the sample covariance of $x$ and $y$ and $\\sigma_x^2$ is the sample variance of $x$."
   ]
  },
  {
   "cell_type": "markdown",
   "metadata": {
    "slideshow": {
     "slide_type": "subslide"
    }
   },
   "source": [
    "To find the intercept, you can just take the average of the residuals (not their squares!) given the model so far:\n",
    "\n",
    "$$\\hat{\\alpha} = \\frac{1}{N}\\sum_i (y_i - \\hat{\\beta}x_i)$$\n",
    "\n",
    "Let's see this in action"
   ]
  },
  {
   "cell_type": "code",
   "execution_count": 102,
   "metadata": {
    "collapsed": false,
    "slideshow": {
     "slide_type": "subslide"
    }
   },
   "outputs": [
    {
     "name": "stdout",
     "output_type": "stream",
     "text": [
      "2.70301300535 2.70301303063\n",
      "0.0869022538344 0.0869021304893\n"
     ]
    }
   ],
   "source": [
    "#using the data from above\n",
    "\n",
    "cov = np.cov(x,y, ddof=1)\n",
    "sigma_x = np.var(x, ddof=1)\n",
    "\n",
    "beta_hat_2 = cov[0,1] / sigma_x\n",
    "\n",
    "print (beta_hat, beta_hat_2)\n",
    "\n",
    "alpha_hat_2 = np.mean( y - beta_hat_2 * x)\n",
    "\n",
    "print(alpha_hat, alpha_hat_2)"
   ]
  },
  {
   "cell_type": "markdown",
   "metadata": {
    "slideshow": {
     "slide_type": "subslide"
    }
   },
   "source": [
    "----\n",
    "As you can see, the results are identical. "
   ]
  },
  {
   "cell_type": "markdown",
   "metadata": {
    "slideshow": {
     "slide_type": "slide"
    }
   },
   "source": [
    "Linear Regression Goodness of Fit\n",
    "====\n",
    "\n",
    "There are a few ways of measuring goodness of fit. One way is to just compute the SSR, the sum of the squared residuals. However, this has the negative that the units of $y$ appear in the goodness of fit. Here is what people typically use, the coefficient of determination:\n",
    "\n",
    "$$R^2 = 1 - \\frac{\\textrm{SSR}}{\\textrm{TSS}} = 1 - \\frac{\\sum_i \\left(\\hat{y}_i - y\\right)^2}{\\sum_i \\left(\\bar{y} - y\\right)^2}$$\n",
    "\n",
    "This equation has the property that it's unitless, it's $1$ when the fit is perfect, and $0$ when the fit is awful. In the case of linear regression, $R$ is the same as the correlation coefficient."
   ]
  },
  {
   "cell_type": "code",
   "execution_count": 103,
   "metadata": {
    "collapsed": false,
    "slideshow": {
     "slide_type": "subslide"
    }
   },
   "outputs": [
    {
     "name": "stdout",
     "output_type": "stream",
     "text": [
      "0.957572057974 0.9785561087509871\n",
      "[[ 1.          0.97855611]\n",
      " [ 0.97855611  1.        ]]\n"
     ]
    }
   ],
   "source": [
    "ssr = np.sum((y - alpha_hat - beta_hat * x)**2)\n",
    "tss = np.sum((np.mean(y) - y)**2)\n",
    "\n",
    "rsq = 1 - ssr / tss\n",
    "\n",
    "print(rsq, sqrt(rsq))\n",
    "print(np.corrcoef(x,y, ddof=2))"
   ]
  },
  {
   "cell_type": "markdown",
   "metadata": {
    "slideshow": {
     "slide_type": "slide"
    }
   },
   "source": [
    "Linear Regression Error Analysis\n",
    "=====\n",
    "\n",
    "Knowing goodness of fit is not quite useful yet though. We'd like to do hypothesis tests, build confidence intervals, etc. We need to know how the $\\hat{\\beta}$ are distributed!"
   ]
  },
  {
   "cell_type": "markdown",
   "metadata": {
    "slideshow": {
     "slide_type": "slide"
    }
   },
   "source": [
    "Standard Error\n",
    "---"
   ]
  },
  {
   "cell_type": "markdown",
   "metadata": {
    "slideshow": {
     "slide_type": "subslide"
    }
   },
   "source": [
    "As you may have noticed, sometimes it gets confusing that the difference between the sample mean and the true mean, $\\mu - \\bar{x}$, are distributed according to a normal or $T$ distribution if the samples are distributed according to a normal distribution. Thus we end up with two distributions: one with parameters $\\mu$, $\\sigma$ that describes the samples and one with parameters $\\mu$, $\\sigma / \\sqrt{N}$ that describes the difference between sample mean and true mean. Often this $\\sigma / \\sqrt{N}$ term is called **Standard Error** to distinguish it from the standard deviation of the population (true/hidden) distribution. Thus you can write:\n",
    "\n",
    "$$T = \\frac{\\bar{x} - \\mu}{\\sigma_x / \\sqrt{N}} = \\frac{\\bar{x} - \\mu}{S} $$"
   ]
  },
  {
   "cell_type": "markdown",
   "metadata": {
    "slideshow": {
     "slide_type": "subslide"
    }
   },
   "source": [
    "We're going to start using **Standard Error** now. You then can use **Standard Error** in confidence intervals or hypothesis tests. The same rules as previously apply: $N < 25$ requires a $t$-distribution and above is normal."
   ]
  },
  {
   "cell_type": "markdown",
   "metadata": {
    "slideshow": {
     "slide_type": "subslide"
    }
   },
   "source": [
    "One other important thing to remember is that the denominator in the standard error should be the square root of the degrees of freedom. Usually this is written as $N - D$, where $D$ is the deducted degrees of freedom. In the case of linear regression, we have $D$ being the number of coefficients we're fitting. That $N - D$ is also the degrees of freedom in the $t$-distribution. "
   ]
  },
  {
   "cell_type": "markdown",
   "metadata": {
    "slideshow": {
     "slide_type": "slide"
    }
   },
   "source": [
    "Error Equation for OLS-1D\n",
    "---\n",
    "\n",
    "You may read the derivation in Bulmer on page 226. The variance in our estimated values ($S^2$) for slope and intercept are:\n",
    "\n",
    "$$S^2_{\\epsilon} =\\frac{\\sigma^2_{\\epsilon}}{N - D} =  \\frac{1}{N}\\sum_i \\left(\\hat{y}_i - y_i\\right)^2$$\n",
    "\n",
    "$$S^2_{\\alpha} = S^2_{\\epsilon} \\left[ \\frac{1}{N - D} + \\frac{\\bar{x}^2}{\\sum_i\\left(x_i - \\bar{x}\\right)^2}\\right]$$\n",
    "\n",
    "$$S^2_{\\beta} = \\frac{S^2_{\\epsilon}}{\\sum_i \\left(x_i - \\bar{x}\\right)^2}$$\n",
    "\n",
    "$D$ here is the number of fit coefficients. 2 in our case."
   ]
  },
  {
   "cell_type": "markdown",
   "metadata": {
    "slideshow": {
     "slide_type": "slide"
    }
   },
   "source": [
    "Example: Compute the standard error of the intercept and create a probability distribution for the true intercept\n",
    "----\n",
    "\n",
    "We'll continue using the data from above"
   ]
  },
  {
   "cell_type": "code",
   "execution_count": 104,
   "metadata": {
    "collapsed": false,
    "slideshow": {
     "slide_type": "subslide"
    }
   },
   "outputs": [
    {
     "name": "stdout",
     "output_type": "stream",
     "text": [
      "The standard error for the intercept is 0.744137636096\n"
     ]
    }
   ],
   "source": [
    "\n",
    "s2_epsilon = np.sum((y - alpha_hat - beta_hat * x) ** 2) / len(x)\n",
    "s2_alpha =  s2_epsilon * (1. / len(x) + np.mean(x) ** 2 / (np.sum((np.mean(x) - x) ** 2)))\n",
    "\n",
    "print('The standard error for the intercept is', np.sqrt(s2_alpha))"
   ]
  },
  {
   "cell_type": "markdown",
   "metadata": {
    "slideshow": {
     "slide_type": "subslide"
    }
   },
   "source": [
    "Let's just visualize now what the distribution for where the true intercept looks like. We know it is distributed according to:\n",
    "\n",
    "$$P(\\alpha) = T(\\mu=\\hat{\\alpha}, \\sigma=S_\\alpha, N=18)$$\n",
    "\n",
    "The degrees of freedom here is "
   ]
  },
  {
   "cell_type": "code",
   "execution_count": 117,
   "metadata": {
    "collapsed": false,
    "slideshow": {
     "slide_type": "subslide"
    }
   },
   "outputs": [
    {
     "data": {
      "image/png": "[encoded data removed]",
      "text/plain": [
       "<matplotlib.figure.Figure at 0x7f6dcd23ae10>"
      ]
     },
     "metadata": {},
     "output_type": "display_data"
    }
   ],
   "source": [
    "alpha_grid = np.linspace(-2, 2, 100)\n",
    "P_alpha = scipy.stats.t.pdf(alpha_grid, loc=alpha_hat,  scale=np.sqrt(s2_alpha), df=len(x) - 2)\n",
    "\n",
    "plt.plot(alpha_grid, P_alpha)\n",
    "plt.axvline(1, color='red')\n",
    "plt.axvline(alpha_hat)\n",
    "plt.show()"
   ]
  },
  {
   "cell_type": "markdown",
   "metadata": {
    "slideshow": {
     "slide_type": "slide"
    }
   },
   "source": [
    "Example: Construct a 95% confidence interval for the slope\n",
    "---\n",
    "\n",
    "Once we compute $S_\\beta$, we can use the formulas we've seen before:\n",
    "\n",
    "$$P(\\beta = \\hat{\\beta} \\pm y) = 0.95$$\n",
    "\n",
    "$$T = \\frac{y}{S_\\beta}$$\n",
    "\n",
    "$$y = TS_\\beta$$\n",
    "\n",
    "The confidence interval will then be:\n",
    "\n",
    "$$\\beta = \\hat{\\beta} \\pm TS_\\beta$$ with 95% confidence"
   ]
  },
  {
   "cell_type": "code",
   "execution_count": 118,
   "metadata": {
    "collapsed": false,
    "slideshow": {
     "slide_type": "subslide"
    }
   },
   "outputs": [
    {
     "name": "stdout",
     "output_type": "stream",
     "text": [
      "0.0161862701656 2.10092204024\n",
      "beta =  2.70301300535 +/- 0.267290380746  with 95% confidence\n"
     ]
    }
   ],
   "source": [
    "s2_beta = s2_epsilon / np.sum((x - np.mean(x))**2)\n",
    "T = scipy.stats.t.ppf(0.975, len(x) - 2)\n",
    "\n",
    "print(s2_beta, T)\n",
    "\n",
    "print('beta = ', beta_hat, '+/-', T * np.sqrt(s2_beta), ' with 95% confidence')"
   ]
  },
  {
   "cell_type": "markdown",
   "metadata": {
    "slideshow": {
     "slide_type": "subslide"
    }
   },
   "source": [
    "---\n",
    "\n",
    "Notice that just like in confidence intervals, once $N$ becomes large we can replace the $t$-distribution with a normal distribution.\n",
    "\n",
    "The next interesting consequence of the $t$-distribution is that we can construct a hypothesis test. For example, we could test if the intercept should be $0$."
   ]
  },
  {
   "cell_type": "markdown",
   "metadata": {
    "slideshow": {
     "slide_type": "slide"
    }
   },
   "source": [
    "Example: A hypothesis test for the existence of an intercept\n",
    "---\n",
    "\n",
    "Our null hypothesis is that the intercept is $0$. Then, we can compute how big an interval would have to be constructed around $0$ to just capture what we calculated for $\\alpha$. The distribution for that interval is:\n",
    "\n",
    "$$P(\\alpha) = T(\\mu=0, \\sigma=S_\\alpha, N=20)$$\n",
    "\n",
    "To convert to a standard $t$-distribution (variance is 1), so we have:\n",
    "\n",
    "$$T = \\frac{\\hat{\\alpha}}{S_\\alpha}$$\n",
    "\n",
    "$$\\int_{-T}^T p(T)\\,dT = p$$"
   ]
  },
  {
   "cell_type": "code",
   "execution_count": 116,
   "metadata": {
    "collapsed": false,
    "slideshow": {
     "slide_type": "subslide"
    }
   },
   "outputs": [
    {
     "name": "stdout",
     "output_type": "stream",
     "text": [
      "alpha =  0.0869022538344  T =  0.116782500466  p-value =  0.908258009516\n"
     ]
    }
   ],
   "source": [
    "s2_epsilon = np.sum((y - alpha_hat - beta_hat * x) ** 2) / len(x)\n",
    "s2_alpha =  s2_epsilon * (1. / len(x) + np.mean(x) ** 2 / (np.sum((np.mean(x) - x) ** 2)))\n",
    "T = alpha_hat / sqrt(s2_alpha)\n",
    "p = 1 - (scipy.stats.t.cdf(T, len(x) - 1) - scipy.stats.t.cdf(-T, len(x) - 1))\n",
    "print('alpha = ', alpha_hat, ' T = ', T, ' p-value = ', p)"
   ]
  },
  {
   "cell_type": "markdown",
   "metadata": {
    "slideshow": {
     "slide_type": "subslide"
    }
   },
   "source": [
    "---\n",
    "\n",
    "That says that we cannot be sure about the existance of an intercept, since the $p$-value is above our threshold of 5%."
   ]
  },
  {
   "cell_type": "markdown",
   "metadata": {
    "slideshow": {
     "slide_type": "slide"
    }
   },
   "source": [
    "Extending Least-Squares to Multiple Dimensions in Domain - OLS-ND\n",
    "====\n",
    "\n",
    "Our governing equation is now:\n",
    "\n",
    "\n",
    "$$y = {\\mathbf X\\beta} + \\epsilon$$\n",
    "\n",
    "where $\\mathbf X$ is an $N\\times D$ matrix, where $N$ is the number of data points and $D$ is the number of dimensions. $\\beta$ is then a $D$ length column vector. We want to find $\\hat{\\beta}$ and get a model that looks like:\n",
    "\n",
    "$$\\hat{y} = {\\mathbf X\\hat{\\beta}}$$"
   ]
  },
  {
   "cell_type": "markdown",
   "metadata": {
    "slideshow": {
     "slide_type": "subslide"
    }
   },
   "source": [
    "This can be done with optimization just like last time, but we can more easily do it with matrix algebra. The equation for $\\hat{\\beta}$ is:\n",
    "\n",
    "\n",
    "$$\\hat{\\beta} = (\\mathbf{X}^T \\mathbf{X})^{-1}\\mathbf{X}^Ty$$"
   ]
  },
  {
   "cell_type": "markdown",
   "metadata": {
    "slideshow": {
     "slide_type": "subslide"
    }
   },
   "source": [
    "Example\n",
    "---\n",
    "\n",
    "Let's try to fit the equation:\n",
    "\n",
    "$$ y = 3 + 3 x_1 + x_2 + \\epsilon$$\n",
    "\n",
    "with \n",
    "\n",
    "$$\\hat{y} = \\beta_0 + \\beta_1 x_1 + \\beta_2 x_2$$"
   ]
  },
  {
   "cell_type": "code",
   "execution_count": 70,
   "metadata": {
    "collapsed": false,
    "scrolled": true,
    "slideshow": {
     "slide_type": "subslide"
    }
   },
   "outputs": [
    {
     "data": {
      "text/plain": [
       "array([  0.48505549,   1.25512907,   2.36176288,   3.47682748,\n",
       "         2.07386332,   7.05366624,   1.71020215,   1.97815698,\n",
       "         4.42697514,   6.4650615 ,  -2.73591466,   5.93238526,\n",
       "        10.70286008,   0.54524374,   6.99569461])"
      ]
     },
     "execution_count": 70,
     "metadata": {},
     "output_type": "execute_result"
    }
   ],
   "source": [
    "#generate data\n",
    "#I add some noise to the x coordinate to just spead the points out a little.\n",
    "x1 = np.linspace(0,1,15)+ scipy.stats.norm.rvs(size=len(x1))\n",
    "x2 = np.linspace(0,1,15) + scipy.stats.norm.rvs(size=len(x1))\n",
    "y = 3 * x1 - 2 * x2 + 3 + scipy.stats.norm.rvs(size=len(x1))\n",
    "y"
   ]
  },
  {
   "cell_type": "code",
   "execution_count": 71,
   "metadata": {
    "collapsed": false,
    "slideshow": {
     "slide_type": "subslide"
    }
   },
   "outputs": [
    {
     "data": {
      "text/plain": [
       "array([[ 1.        , -0.19351373, -0.07424458],\n",
       "       [ 1.        , -0.65294184, -0.1273011 ],\n",
       "       [ 1.        ,  0.4998127 ,  0.40093186],\n",
       "       [ 1.        ,  1.27747264,  1.20864424],\n",
       "       [ 1.        , -0.76299494, -0.21083034],\n",
       "       [ 1.        ,  0.76417829, -0.18276956],\n",
       "       [ 1.        , -0.14621423,  0.32362109],\n",
       "       [ 1.        , -0.23946349, -1.28934392],\n",
       "       [ 1.        ,  1.31467086,  1.61578665],\n",
       "       [ 1.        ,  1.37593375,  0.11970422],\n",
       "       [ 1.        , -0.62460978,  1.56068754],\n",
       "       [ 1.        ,  0.43837422, -0.46978484],\n",
       "       [ 1.        ,  1.54660434, -0.6818017 ],\n",
       "       [ 1.        ,  0.00440713,  1.00022618],\n",
       "       [ 1.        ,  1.86114235,  0.92627643]])"
      ]
     },
     "execution_count": 71,
     "metadata": {},
     "output_type": "execute_result"
    }
   ],
   "source": [
    "import numpy.linalg as linalg\n",
    "\n",
    "x_mat = np.column_stack( (np.ones(len(x1)), x1, x2) )\n",
    "x_mat"
   ]
  },
  {
   "cell_type": "markdown",
   "metadata": {
    "slideshow": {
     "slide_type": "subslide"
    }
   },
   "source": [
    "Now we have our $X$ matrix set-up. Now we need to evaluate the matrix equation for $\\hat{\\beta}$ above:"
   ]
  },
  {
   "cell_type": "code",
   "execution_count": 73,
   "metadata": {
    "collapsed": true,
    "slideshow": {
     "slide_type": "fragment"
    }
   },
   "outputs": [],
   "source": [
    "#dot -> matrix multiplication\n",
    "#transpose -> take a transpose\n",
    "#linalg.inv -> compute a matrix inverse\n",
    "beta_hat = linalg.inv(x_mat.transpose().dot(x_mat)).dot(x_mat.transpose()).dot(y)"
   ]
  },
  {
   "cell_type": "markdown",
   "metadata": {
    "slideshow": {
     "slide_type": "subslide"
    }
   },
   "source": [
    "Since it is tedius to type that whole equation out, you can instead use a shortcut:"
   ]
  },
  {
   "cell_type": "code",
   "execution_count": 74,
   "metadata": {
    "collapsed": false,
    "slideshow": {
     "slide_type": "fragment"
    }
   },
   "outputs": [],
   "source": [
    "result = linalg.lstsq(x_mat, y)\n",
    "beta_hat = result[0]"
   ]
  },
  {
   "cell_type": "markdown",
   "metadata": {
    "slideshow": {
     "slide_type": "subslide"
    }
   },
   "source": [
    "Let's now see how well the regression did!"
   ]
  },
  {
   "cell_type": "code",
   "execution_count": 82,
   "metadata": {
    "collapsed": false,
    "slideshow": {
     "slide_type": "fragment"
    }
   },
   "outputs": [],
   "source": [
    "y_hat = x_mat.dot(beta_hat)"
   ]
  },
  {
   "cell_type": "markdown",
   "metadata": {
    "slideshow": {
     "slide_type": "subslide"
    }
   },
   "source": [
    "The first plot will be a $\\hat{y}$ vs $y$ plot. If they were the same, you would see a $y=x$ line. How far the deviation is from that line is how bad the fit is."
   ]
  },
  {
   "cell_type": "code",
   "execution_count": 88,
   "metadata": {
    "collapsed": false,
    "slideshow": {
     "slide_type": "fragment"
    }
   },
   "outputs": [
    {
     "data": {
      "image/png": "[encoded data removed]",
      "text/plain": [
       "<matplotlib.figure.Figure at 0x7f6dcd302320>"
      ]
     },
     "metadata": {},
     "output_type": "display_data"
    }
   ],
   "source": [
    "plt.plot(y, y_hat, 'o')\n",
    "plt.plot(y, y, 'r')\n",
    "plt.show()"
   ]
  },
  {
   "cell_type": "markdown",
   "metadata": {
    "slideshow": {
     "slide_type": "subslide"
    }
   },
   "source": [
    "Of course we can also look at the histogram of residuals"
   ]
  },
  {
   "cell_type": "code",
   "execution_count": 87,
   "metadata": {
    "collapsed": false,
    "slideshow": {
     "slide_type": "fragment"
    }
   },
   "outputs": [
    {
     "data": {
      "image/png": "[encoded data removed]",
      "text/plain": [
       "<matplotlib.figure.Figure at 0x7f6dcd471940>"
      ]
     },
     "metadata": {},
     "output_type": "display_data"
    }
   ],
   "source": [
    "plt.hist(y - y_hat)\n",
    "plt.show()"
   ]
  },
  {
   "cell_type": "markdown",
   "metadata": {
    "slideshow": {
     "slide_type": "slide"
    }
   },
   "source": [
    "Error Analysis For Multidimensional Least Squares - OLS-ND\n",
    "===="
   ]
  },
  {
   "cell_type": "markdown",
   "metadata": {
    "slideshow": {
     "slide_type": "subslide"
    }
   },
   "source": [
    "Just like before, if we can find the standard error for the noise/residual, $\\epsilon$, then we can find everything else. The equation for that is:\n",
    "\n",
    "$$S^2_{\\epsilon} =\\frac{\\sigma^2_{\\epsilon}}{N - D} =  \\frac{1}{N - D}\\sum_i \\left(\\hat{y}_i - y_i\\right)^2$$\n",
    "\n",
    "where $D$ is the dimension of $\\beta$. Knowing that, the standard error for $\\hat{\\beta}$ is \n",
    "\n",
    "$$S^2_{\\beta} = S^2_{\\epsilon} \\left(\\mathbf{X}^T\\mathbf{X}\\right)^{-1}$$\n",
    "\n",
    "where the diagonal elements are the standard errors. The off-diagonal elements are unrelated.\n",
    "\n",
    "And again, $P(\\beta - \\hat{\\beta}) \\propto T(0, \\sigma = S_\\beta, df = N - D)$\n",
    "\n",
    "The $N - D$ term is called the degrees of freedom. $D$ is the number of fit coefficients."
   ]
  },
  {
   "cell_type": "markdown",
   "metadata": {
    "slideshow": {
     "slide_type": "slide"
    }
   },
   "source": [
    "Transforming Problems into Multiple Domain Dimensions\n",
    "====\n",
    "\n",
    "One of the most common uses for this form of least-squares is if your problem is non-linear and you want to linearize it. For example, let's say I am in 1 dimension and the model I'd like to have is:\n",
    "\n",
    "$$y = \\beta_2 x^2 + \\beta_1 x + \\beta_0 + \\epsilon$$"
   ]
  },
  {
   "cell_type": "markdown",
   "metadata": {
    "slideshow": {
     "slide_type": "subslide"
    }
   },
   "source": [
    "I can package that into a vector, like this: $[x^2, x, 1]$ and create an $\\mathbf{X}$ matrix by creating a vector for each $x_i$. If my $x$ values are 1,2,3, that would like:\n",
    "\n",
    "$$\\left[ \\begin{array}{lcr}\n",
    "1^2 & 1 & 1\\\\\n",
    "2^2 & 2 & 1\\\\\n",
    "3^2 & 3 & 1\\\\\n",
    "\\end{array}\\right]$$"
   ]
  },
  {
   "cell_type": "markdown",
   "metadata": {
    "slideshow": {
     "slide_type": "subslide"
    }
   },
   "source": [
    "Example: Linearizing a Polynomial for OLS-ND\n",
    "----"
   ]
  },
  {
   "cell_type": "code",
   "execution_count": 148,
   "metadata": {
    "collapsed": false,
    "slideshow": {
     "slide_type": "subslide"
    }
   },
   "outputs": [
    {
     "data": {
      "image/png": "[encoded data removed]",
      "text/plain": [
       "<matplotlib.figure.Figure at 0x7f6dcd07d278>"
      ]
     },
     "metadata": {},
     "output_type": "display_data"
    }
   ],
   "source": [
    "x = np.linspace(-3, 3, 25)\n",
    "y = 2 * x ** 2 - 3 * x + 4 + scipy.stats.norm.rvs(size=len(x), loc=0, scale=1.5)\n",
    "\n",
    "plt.plot(x,y, 'o', label='data')\n",
    "plt.plot(x,2 * x ** 2 - 3 * x + 4, '-', label='exact solution')\n",
    "plt.legend(loc='upper right')\n",
    "plt.show()"
   ]
  },
  {
   "cell_type": "code",
   "execution_count": 149,
   "metadata": {
    "collapsed": false,
    "slideshow": {
     "slide_type": "subslide"
    }
   },
   "outputs": [
    {
     "data": {
      "text/plain": [
       "array([[ 9.    , -3.    ,  1.    ],\n",
       "       [ 7.5625, -2.75  ,  1.    ],\n",
       "       [ 6.25  , -2.5   ,  1.    ],\n",
       "       [ 5.0625, -2.25  ,  1.    ],\n",
       "       [ 4.    , -2.    ,  1.    ],\n",
       "       [ 3.0625, -1.75  ,  1.    ],\n",
       "       [ 2.25  , -1.5   ,  1.    ],\n",
       "       [ 1.5625, -1.25  ,  1.    ],\n",
       "       [ 1.    , -1.    ,  1.    ],\n",
       "       [ 0.5625, -0.75  ,  1.    ],\n",
       "       [ 0.25  , -0.5   ,  1.    ],\n",
       "       [ 0.0625, -0.25  ,  1.    ],\n",
       "       [ 0.    ,  0.    ,  1.    ],\n",
       "       [ 0.0625,  0.25  ,  1.    ],\n",
       "       [ 0.25  ,  0.5   ,  1.    ],\n",
       "       [ 0.5625,  0.75  ,  1.    ],\n",
       "       [ 1.    ,  1.    ,  1.    ],\n",
       "       [ 1.5625,  1.25  ,  1.    ],\n",
       "       [ 2.25  ,  1.5   ,  1.    ],\n",
       "       [ 3.0625,  1.75  ,  1.    ],\n",
       "       [ 4.    ,  2.    ,  1.    ],\n",
       "       [ 5.0625,  2.25  ,  1.    ],\n",
       "       [ 6.25  ,  2.5   ,  1.    ],\n",
       "       [ 7.5625,  2.75  ,  1.    ],\n",
       "       [ 9.    ,  3.    ,  1.    ]])"
      ]
     },
     "execution_count": 149,
     "metadata": {},
     "output_type": "execute_result"
    }
   ],
   "source": [
    "x_mat = np.column_stack( (x**2, x, np.ones(len(x))) )\n",
    "x_mat"
   ]
  },
  {
   "cell_type": "code",
   "execution_count": 150,
   "metadata": {
    "collapsed": false,
    "scrolled": true,
    "slideshow": {
     "slide_type": "subslide"
    }
   },
   "outputs": [
    {
     "name": "stdout",
     "output_type": "stream",
     "text": [
      "[ 1.96033274 -3.15067869  4.03962079]\n"
     ]
    },
    {
     "data": {
      "image/png": "[encoded data removed]",
      "text/plain": [
       "<matplotlib.figure.Figure at 0x7f6dcd179ac8>"
      ]
     },
     "metadata": {},
     "output_type": "display_data"
    }
   ],
   "source": [
    "beta = linalg.inv(x_mat.transpose().dot(x_mat)).dot(x_mat.transpose()).dot(y)\n",
    "print(beta)\n",
    "plt.plot(x,y, 'o', label='data')\n",
    "plt.plot(x,2 * x ** 2 - 3 * x + 4, '-', label='exact solution')\n",
    "plt.plot(x,x_mat.dot(beta), label='least squares')\n",
    "plt.legend(loc='upper right')\n",
    "plt.show()\n"
   ]
  },
  {
   "cell_type": "markdown",
   "metadata": {
    "slideshow": {
     "slide_type": "slide"
    }
   },
   "source": [
    "Example Error Analysis \n",
    "---"
   ]
  },
  {
   "cell_type": "code",
   "execution_count": 151,
   "metadata": {
    "collapsed": false,
    "slideshow": {
     "slide_type": "subslide"
    }
   },
   "outputs": [
    {
     "name": "stdout",
     "output_type": "stream",
     "text": [
      "2.09053654704\n"
     ]
    }
   ],
   "source": [
    "yhat = x_mat.dot(beta)\n",
    "resids = yhat - y\n",
    "SSR = np.sum(resids**2)\n",
    "se2_epsilon = SSR / (len(x) - len(beta))\n",
    "print(se2_epsilon)"
   ]
  },
  {
   "cell_type": "code",
   "execution_count": 152,
   "metadata": {
    "collapsed": false,
    "slideshow": {
     "slide_type": "subslide"
    }
   },
   "outputs": [
    {
     "name": "stdout",
     "output_type": "stream",
     "text": [
      "[[ 0.00994384  0.         -0.03231747]\n",
      " [ 0.          0.02572968  0.        ]\n",
      " [-0.03231747  0.          0.18865325]]\n"
     ]
    }
   ],
   "source": [
    "se2_beta = se2_epsilon * linalg.inv(x_mat.transpose().dot(x_mat))\n",
    "print(se2_beta)"
   ]
  },
  {
   "cell_type": "markdown",
   "metadata": {
    "slideshow": {
     "slide_type": "subslide"
    }
   },
   "source": [
    "Now that we have the standard error matrix, we can create confidence intervals for the $\\beta$ values."
   ]
  },
  {
   "cell_type": "code",
   "execution_count": 155,
   "metadata": {
    "collapsed": false,
    "slideshow": {
     "slide_type": "subslide"
    }
   },
   "outputs": [
    {
     "name": "stdout",
     "output_type": "stream",
     "text": [
      "beta_2 is 1.9603327397211623 +/- 0.20680412153247132 with 95% confidence\n",
      "beta_1 is -3.150678688849118 +/- 0.33265907002032796 with 95% confidence\n",
      "beta_0 is 4.039620790029307 +/- 0.9007708368554803 with 95% confidence\n"
     ]
    }
   ],
   "source": [
    "for i in range(len(beta)):\n",
    "    #get our T-value for the confidence interval\n",
    "    T = scipy.stats.t.ppf(0.975, len(x) - len(beta)) \n",
    "    # Get the width of the confidence interval using our previously computed standard error\n",
    "    cwidth = T * np.sqrt(se2_beta[i,i]) \n",
    "    # print the result, using 2 - i to match our numbering above\n",
    "    print(\"beta_{} is {} +/- {} with 95% confidence\".format(2 - i, beta[i], cwidth)) "
   ]
  },
  {
   "cell_type": "markdown",
   "metadata": {
    "slideshow": {
     "slide_type": "subslide"
    }
   },
   "source": [
    "Goodness of Fit\n",
    "====\n",
    "\n",
    "The same equations above apply here. For the example of the polynomial:"
   ]
  },
  {
   "cell_type": "code",
   "execution_count": 154,
   "metadata": {
    "collapsed": false,
    "slideshow": {
     "slide_type": "fragment"
    }
   },
   "outputs": [
    {
     "data": {
      "text/plain": [
       "(0.97230165236069488, 0.98605357479231059)"
      ]
     },
     "execution_count": 154,
     "metadata": {},
     "output_type": "execute_result"
    }
   ],
   "source": [
    "TSS = np.sum( (np.mean(y) - y)**2)\n",
    "R2 = 1 - SSR / TSS\n",
    "R2, np.sqrt(R2)"
   ]
  },
  {
   "cell_type": "markdown",
   "metadata": {
    "slideshow": {
     "slide_type": "slide"
    }
   },
   "source": [
    "The Statistics of Regression\n",
    "===\n",
    "\n",
    "You can justify a regression by:\n",
    "\n",
    "1. A Spearmann correlation test\n",
    "2. A Shapiro-Wilks normality test on residuals\n",
    "3. A Goodness of fit"
   ]
  },
  {
   "cell_type": "markdown",
   "metadata": {
    "slideshow": {
     "slide_type": "subslide"
    }
   },
   "source": [
    "You can justify a particular model by:\n",
    "\n",
    "1. Plotting\n",
    "2. Hypothesis tests on individual coefficients\n",
    "\n",
    "You CANNOT use a goodness of fit to compare models, since each time you add a new parameter you get a better fit"
   ]
  },
  {
   "cell_type": "markdown",
   "metadata": {
    "slideshow": {
     "slide_type": "slide"
    }
   },
   "source": [
    "Conducting a good regression\n",
    "===\n",
    "\n",
    "You should do the following when you want to do a good job:\n",
    "\n",
    "1. Justify correlation\n",
    "2. Compute your model coefficients, their standard errors, confidence intervals, and p-values for existing\n",
    "3. Plot your regressed model\n",
    "4. Histogram and compute Shapiro-Wilks normality test on residuals"
   ]
  },
  {
   "cell_type": "code",
   "execution_count": null,
   "metadata": {
    "collapsed": true,
    "slideshow": {
     "slide_type": "skip"
    }
   },
   "outputs": [],
   "source": []
  }
 ],
 "metadata": {
  "celltoolbar": "Slideshow",
  "kernelspec": {
   "display_name": "Python 3",
   "language": "python",
   "name": "python3"
  },
  "language_info": {
   "codemirror_mode": {
    "name": "ipython",
    "version": 3
   },
   "file_extension": ".py",
   "mimetype": "text/x-python",
   "name": "python",
   "nbconvert_exporter": "python",
   "pygments_lexer": "ipython3",
   "version": "3.4.2"
  }
 },
 "nbformat": 4,
 "nbformat_minor": 0
}
