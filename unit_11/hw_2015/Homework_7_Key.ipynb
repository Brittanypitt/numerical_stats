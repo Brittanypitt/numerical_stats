








<!DOCTYPE html>
<html lang="en">

<head>
  <meta charset="utf-8">
  <title>Jupyter Notebook Viewer</title>
  <meta name="viewport" content="width=device-width, initial-scale=1.0">
  <meta name="description" content="">
  <meta name="author" content="">
  
  <meta name="robots" content="noindex,nofollow">
  

  <!--NEW RELIC Start Perf Measurement-->
  
  <!--NREND-->

  <!-- Le styles -->
  <script type="text/javascript">
//<![CDATA[
try{if (!window.CloudFlare) {var CloudFlare=[{verbose:0,p:0,byc:0,owlid:"cf",bag2:1,mirage2:0,oracle:0,paths:{cloudflare:"/cdn-cgi/nexp/dok3v=1613a3a185/"},atok:"d5780763e19e7d19f23070ae83c9af3a",petok:"3fe3932628d586441bb127510eda2d332406b7c7-1490889348-3600",zone:"jupyter.org",rocket:"0",apps:{"ga_key":{"ua":"UA-52617120-1","ga_bs":"2"}}}];!function(a,b){a=document.createElement("script"),b=document.getElementsByTagName("script")[0],a.async=!0,a.src="//ajax.cloudflare.com/cdn-cgi/nexp/dok3v=f2befc48d1/cloudflare.min.js",b.parentNode.insertBefore(a,b)}()}}catch(e){};
//]]>
</script>
<link href="/static/build/styles.css?v=c18d49652a516277e15114bbd447f1c1" rel="stylesheet">

  <!-- Le HTML5 shim, for IE6-8 support of HTML5 elements -->
  <!--[if lt IE 9]>
    <script src="http://html5shim.googlecode.com/svn/trunk/html5.js"></script>
  <![endif]-->

  <!-- Le fav and touch icons -->
  <link rel="shortcut icon" href="/static/ico/ipynb_icon_16x16.png">
  <link rel="apple-touch-icon-precomposed" sizes="144x144"
        href="/static/ico/apple-touch-icon-144-precomposed.png?v=5a3c9ede93e2a8b8ea9e3f8f3da1a905">
  <link rel="apple-touch-icon-precomposed" sizes="114x114"
        href="/static/ico/apple-touch-icon-114-precomposed.png?v=45d86fc8f24dc00638035e1dd7a6d898">
  <link rel="apple-touch-icon-precomposed" sizes="72x72"
        href="/static/ico/apple-touch-icon-72-precomposed.png?v=540b5eb0f3cfd25f1439d1c9bd30e15f">
  <link rel="apple-touch-icon-precomposed"
        href="/static/ico/apple-touch-icon-57-precomposed.png?v=225f0590e187e1458625654f10a28f56">
  
  

  

  
  <meta name="twitter:card" content="summary">
  <meta name="twitter:title" content="Notebook on nbviewer">
  <meta name="twitter:description" content="Check out this Jupyter notebook!">

  
  <meta name="twitter:domain" content="nbviewer.ipython.org">
  <meta name="twitter:image:src" content="http://ipython.org/ipython-doc/dev/_images/ipynb_icon_128x128.png">

  
    <link href="/static/build/notebook.css?v=d05748bef7d8f0edbc1e0133b9a41fe0" rel="stylesheet">
  

  

  
    <script src="https://cdn.mathjax.org/mathjax/latest/MathJax.js?config=TeX-AMS_HTML" type="text/javascript">
    </script>
    <script type="text/javascript">
      init_mathjax = function() {
        if (window.MathJax) {
          // MathJax loaded
          MathJax.Hub.Config({
            TeX: {
              equationNumbers: {
                autoNumber: "AMS",
                useLabelIds: true
              }
            },
            tex2jax: {
              inlineMath: [ ['$','$'], ["\\(","\\)"] ],
              displayMath: [ ['$$','$$'], ["\\[","\\]"] ],
              processEscapes: true,
              processEnvironments: true
            },
            displayAlign: 'center',
            "HTML-CSS": {
              styles: {'.MathJax_Display': {"margin": 0}},
              linebreaks: { automatic: true }
            }
          });
          MathJax.Hub.Queue(["Typeset", MathJax.Hub]);
        }
      }
      init_mathjax();
    </script>
  

<script type="text/javascript">
/* <![CDATA[ */
var _gaq = _gaq || [];
_gaq.push(['_setAccount', 'UA-52617120-1']);
_gaq.push(['_trackPageview']);

(function() {
var ga = document.createElement('script'); ga.type = 'text/javascript'; ga.async = true;
ga.src = ('https:' == document.location.protocol ? 'https://ssl' : 'http://www') + '.google-analytics.com/ga.js';
var s = document.getElementsByTagName('script')[0]; s.parentNode.insertBefore(ga, s);
})();

(function(b){(function(a){"__CF"in b&&"DJS"in b.__CF?b.__CF.DJS.push(a):"addEventListener"in b?b.addEventListener("load",a,!1):b.attachEvent("onload",a)})(function(){"FB"in b&&"Event"in FB&&"subscribe"in FB.Event&&(FB.Event.subscribe("edge.create",function(a){_gaq.push(["_trackSocial","facebook","like",a])}),FB.Event.subscribe("edge.remove",function(a){_gaq.push(["_trackSocial","facebook","unlike",a])}),FB.Event.subscribe("message.send",function(a){_gaq.push(["_trackSocial","facebook","send",a])}));"twttr"in b&&"events"in twttr&&"bind"in twttr.events&&twttr.events.bind("tweet",function(a){if(a){var b;if(a.target&&a.target.nodeName=="IFRAME")a:{if(a=a.target.src){a=a.split("#")[0].match(/[^?=&]+=([^&]*)?/g);b=0;for(var c;c=a[b];++b)if(c.indexOf("url")===0){b=unescape(c.split("=")[1]);break a}}b=void 0}_gaq.push(["_trackSocial","twitter","tweet",b])}})})})(window);
/* ]]> */
</script>
</head>

<body class="nbviewer">

  <!-- These are loaded at the top of the body so they are available to
       notebook cells when they are loaded below. -->
  <script src="/static/components/jquery/dist/jquery.min.js?v=e071abda8fe61194711cfc2ab99fe104"></script>
  <script src="/static/components/requirejs/require.js?v=6da8be361b9ee26c5e721e76c6d4afce"></script>
  <script src="/static/components/moment/min/moment.min.js?v=89f87298ad94aa1e6b92f42eb66da043"></script>

<!-- Navbar
================================================== -->
  <nav id="menubar" class="navbar navbar-default navbar-fixed-top" data-spy="affix">
    <div class="container">
      <div class="navbar-header">
        <button type="button" class="navbar-toggle collapsed" data-toggle="collapse" data-target=".navbar-collapse">
          <span class="sr-only">Toggle navigation</span>
          <i class="fa fa-bars"></i>
        </button>
        <a class="navbar-brand" href="/">
          <img src="/static/img/nav_logo.svg?v=479cefe8d932fb14a67b93911b97d70f" width="159"/>
        </a>
      </div>

      <div class="collapse navbar-collapse">
        <ul class="nav navbar-nav navbar-right">
          <li>
            <a class="active" href="http://jupyter.org">JUPYTER</a>
          </li>
          <li>
    <a href="/faq" title="FAQ" >
      
        <span>FAQ</span>
      
    </a>
  </li>

          
  
    
  
    
      
        <li>
    <a href="/format/script/url/thewhitelab.org/Classes/CHE116/Unit_7/Homework_7_Key.ipynb" title="View as Code" >
      <span class="fa fa-code fa-2x menu-icon"></span>
      <span class="menu-text">View as Code</span>
    </a>
  </li>
      
    
  

  

  

  <li>
    <a href="http://thewhitelab.org/Classes/CHE116/Unit_7/Homework_7_Key.ipynb" title="Download Notebook" download>
      <span class="fa fa-download fa-2x menu-icon"></span>
      <span class="menu-text">Download Notebook</span>
    </a>
  </li>

        </ul>
      </div><!-- /.navbar-collapse -->
      
      
    </div>
  </nav>

  <div class="container container-main">
    
  
  <div id="notebook">
    <div id="notebook-container">
      
<div class="cell border-box-sizing text_cell rendered">
<div class="prompt input_prompt">
</div>
<div class="inner_cell">
<div class="text_cell_render border-box-sizing rendered_html">
<h1 id="Homework-7-Key">Homework 7 Key<a class="anchor-link" href="#Homework-7-Key">&#182;</a></h1><h4 id="CHE-116:-Numerical-Methods-and-Statistics">CHE 116: Numerical Methods and Statistics<a class="anchor-link" href="#CHE-116:-Numerical-Methods-and-Statistics">&#182;</a></h4><p>Prof. Andrew White</p>
<p>Version 1.1 (3/6/2015)</p>
<hr>

</div>
</div>
</div>
<div class="cell border-box-sizing code_cell rendered">
<div class="input">
<div class="prompt input_prompt">In&nbsp;[2]:</div>
<div class="inner_cell">
    <div class="input_area">
<div class=" highlight hl-ipython3"><pre><span></span><span class="o">%</span><span class="k">matplotlib</span> inline
<span class="kn">import</span> <span class="nn">matplotlib.pyplot</span> <span class="k">as</span> <span class="nn">plt</span>
<span class="kn">from</span> <span class="nn">scipy.misc</span> <span class="k">import</span> <span class="n">comb</span>
<span class="kn">import</span> <span class="nn">numpy</span> <span class="k">as</span> <span class="nn">np</span>
<span class="kn">from</span> <span class="nn">scipy.optimize</span> <span class="k">import</span> <span class="o">*</span>
</pre></div>

</div>
</div>
</div>

</div>
<div class="cell border-box-sizing text_cell rendered">
<div class="prompt input_prompt">
</div>
<div class="inner_cell">
<div class="text_cell_render border-box-sizing rendered_html">
<h1 id="1.-Exercises-(5-Points)">1. Exercises (5 Points)<a class="anchor-link" href="#1.-Exercises-(5-Points)">&#182;</a></h1>
</div>
</div>
</div>
<div class="cell border-box-sizing text_cell rendered">
<div class="prompt input_prompt">
</div>
<div class="inner_cell">
<div class="text_cell_render border-box-sizing rendered_html">
<h4 id="1.1-Answer">1.1 Answer<a class="anchor-link" href="#1.1-Answer">&#182;</a></h4>
</div>
</div>
</div>
<div class="cell border-box-sizing code_cell rendered">
<div class="input">
<div class="prompt input_prompt">In&nbsp;[3]:</div>
<div class="inner_cell">
    <div class="input_area">
<div class=" highlight hl-ipython3"><pre><span></span><span class="kn">import</span> <span class="nn">scipy.optimize</span>
<span class="k">def</span> <span class="nf">y</span><span class="p">(</span><span class="n">x</span><span class="p">):</span>
    <span class="k">return</span> <span class="p">((</span><span class="n">x</span><span class="o">-</span><span class="mi">4</span><span class="p">)</span><span class="o">**</span><span class="mi">2</span><span class="p">)</span><span class="o">/</span><span class="mi">2</span><span class="o">+</span><span class="p">((</span><span class="n">x</span><span class="o">-</span><span class="mi">2</span><span class="p">)</span><span class="o">**</span><span class="mi">2</span><span class="p">)</span><span class="o">/</span><span class="mi">4</span>
<span class="n">result</span> <span class="o">=</span> <span class="n">minimize</span><span class="p">(</span><span class="n">y</span><span class="p">,</span> <span class="n">x0</span><span class="o">=</span><span class="mi">0</span><span class="p">)</span>
<span class="nb">print</span> <span class="n">result</span><span class="o">.</span><span class="n">x</span>
</pre></div>

</div>
</div>
</div>

<div class="output_wrapper">
<div class="output">


<div class="output_area">
<div class="prompt"></div>

<div class="output_subarea output_stream output_stdout output_text">
<pre>[ 3.33333333]
</pre>
</div>
</div>

</div>
</div>

</div>
<div class="cell border-box-sizing text_cell rendered">
<div class="prompt input_prompt">
</div>
<div class="inner_cell">
<div class="text_cell_render border-box-sizing rendered_html">
<h4 id="1.2-Answer">1.2 Answer<a class="anchor-link" href="#1.2-Answer">&#182;</a></h4>
</div>
</div>
</div>
<div class="cell border-box-sizing code_cell rendered">
<div class="input">
<div class="prompt input_prompt">In&nbsp;[4]:</div>
<div class="inner_cell">
    <div class="input_area">
<div class=" highlight hl-ipython3"><pre><span></span><span class="kn">from</span> <span class="nn">scipy.optimize</span> <span class="k">import</span> <span class="n">minimize</span>
<span class="n">result</span> <span class="o">=</span> <span class="n">minimize</span><span class="p">(</span><span class="k">lambda</span> <span class="n">x</span><span class="p">:</span> <span class="mf">4.0</span><span class="o">*</span><span class="p">(((</span><span class="n">x</span><span class="p">)</span><span class="o">**</span><span class="p">(</span><span class="o">-</span><span class="mf">12.0</span><span class="p">))</span><span class="o">-</span><span class="p">((</span><span class="n">x</span><span class="p">)</span><span class="o">**</span><span class="p">(</span><span class="o">-</span><span class="mi">6</span><span class="p">))),</span> <span class="n">x0</span><span class="o">=</span><span class="mi">1</span><span class="p">,</span> <span class="n">bounds</span><span class="o">=</span><span class="p">[(</span><span class="mf">0.01</span><span class="p">,</span> <span class="mi">10</span><span class="p">)])</span>
<span class="nb">print</span> <span class="n">result</span><span class="o">.</span><span class="n">x</span>
</pre></div>

</div>
</div>
</div>

<div class="output_wrapper">
<div class="output">


<div class="output_area">
<div class="prompt"></div>

<div class="output_subarea output_stream output_stdout output_text">
<pre>[ 1.12246203]
</pre>
</div>
</div>

</div>
</div>

</div>
<div class="cell border-box-sizing text_cell rendered">
<div class="prompt input_prompt">
</div>
<div class="inner_cell">
<div class="text_cell_render border-box-sizing rendered_html">
<h4 id="1.3-Answer-(Not-graded)">1.3 Answer (Not graded)<a class="anchor-link" href="#1.3-Answer-(Not-graded)">&#182;</a></h4>
</div>
</div>
</div>
<div class="cell border-box-sizing code_cell rendered">
<div class="input">
<div class="prompt input_prompt">In&nbsp;[16]:</div>
<div class="inner_cell">
    <div class="input_area">
<div class=" highlight hl-ipython3"><pre><span></span><span class="kn">from</span> <span class="nn">scipy.optimize</span> <span class="k">import</span> <span class="n">root</span>

<span class="k">def</span> <span class="nf">function</span><span class="p">(</span><span class="n">x</span><span class="p">):</span>
    <span class="n">ans</span> <span class="o">=</span> <span class="n">np</span><span class="o">.</span><span class="n">zeros</span><span class="p">(</span><span class="mi">2</span><span class="p">)</span>
    <span class="n">ans</span><span class="p">[</span><span class="mi">0</span><span class="p">]</span> <span class="o">=</span> <span class="mi">3</span> <span class="o">*</span> <span class="n">x</span><span class="p">[</span><span class="mi">0</span><span class="p">]</span><span class="o">**</span><span class="mf">2.0</span> <span class="o">+</span> <span class="mf">2.0</span> <span class="o">*</span> <span class="n">x</span><span class="p">[</span><span class="mi">1</span><span class="p">]</span><span class="o">**</span><span class="mi">2</span> <span class="o">-</span> <span class="mf">4.0</span>
    <span class="n">ans</span><span class="p">[</span><span class="mi">1</span><span class="p">]</span> <span class="o">=</span> <span class="mi">2</span> <span class="o">*</span> <span class="n">x</span><span class="p">[</span><span class="mi">0</span><span class="p">]</span> <span class="o">**</span> <span class="mi">3</span> <span class="o">-</span> <span class="n">x</span><span class="p">[</span><span class="mi">1</span><span class="p">]</span> <span class="o">+</span> <span class="mf">2.0</span>
    <span class="k">return</span> <span class="n">ans</span>
<span class="n">result</span> <span class="o">=</span> <span class="n">root</span><span class="p">(</span><span class="n">function</span><span class="p">,</span> <span class="n">x0</span><span class="o">=</span><span class="p">[</span><span class="mi">0</span><span class="p">,</span><span class="mi">9</span><span class="p">])</span>

<span class="nb">print</span> <span class="n">result</span>
</pre></div>

</div>
</div>
</div>

<div class="output_wrapper">
<div class="output">


<div class="output_area">
<div class="prompt"></div>

<div class="output_subarea output_stream output_stdout output_text">
<pre>  status: 1
 success: True
     qtf: array([ -2.71572187e-09,   6.70328030e-10])
    nfev: 25
       r: array([ 11.43317756, -10.27793486,  -0.92679649])
     fun: array([ -3.11750625e-13,   6.81232848e-13])
       x: array([-0.7831945 ,  1.03918697])
 message: &#39;The solution converged.&#39;
    fjac: array([[-0.62214603,  0.78290122],
       [-0.78290122, -0.62214603]])
</pre>
</div>
</div>

</div>
</div>

</div>
<div class="cell border-box-sizing code_cell rendered">
<div class="input">
<div class="prompt input_prompt">In&nbsp;[6]:</div>
<div class="inner_cell">
    <div class="input_area">
<div class=" highlight hl-ipython3"><pre><span></span><span class="n">result</span> <span class="o">=</span> <span class="n">scipy</span><span class="o">.</span><span class="n">optimize</span><span class="o">.</span><span class="n">minimize</span><span class="p">(</span><span class="k">lambda</span> <span class="n">x</span><span class="p">:</span><span class="n">x</span><span class="o">*</span><span class="n">np</span><span class="o">.</span><span class="n">log</span><span class="p">(</span><span class="n">x</span><span class="p">),</span> <span class="n">x0</span><span class="o">=</span><span class="mf">0.5</span><span class="p">,</span> <span class="n">bounds</span><span class="o">=</span><span class="p">[(</span><span class="mf">0.01</span><span class="p">,</span> <span class="mf">0.99</span><span class="p">)])</span>
<span class="nb">print</span> <span class="n">result</span><span class="o">.</span><span class="n">x</span>
</pre></div>

</div>
</div>
</div>

<div class="output_wrapper">
<div class="output">


<div class="output_area">
<div class="prompt"></div>

<div class="output_subarea output_stream output_stdout output_text">
<pre>[ 0.36787945]
</pre>
</div>
</div>

</div>
</div>

</div>
<div class="cell border-box-sizing text_cell rendered">
<div class="prompt input_prompt">
</div>
<div class="inner_cell">
<div class="text_cell_render border-box-sizing rendered_html">
<h1 id="2.-Box-Folding-(5-Points)">2. Box Folding (5 Points)<a class="anchor-link" href="#2.-Box-Folding-(5-Points)">&#182;</a></h1><p>$V=(4-2x)\times(3-2x)\times x$</p>
<p>So we minimize $-V$. Not we also must constrain $x$ to physically possible dimensions</p>

</div>
</div>
</div>
<div class="cell border-box-sizing code_cell rendered">
<div class="input">
<div class="prompt input_prompt">In&nbsp;[7]:</div>
<div class="inner_cell">
    <div class="input_area">
<div class=" highlight hl-ipython3"><pre><span></span><span class="kn">from</span> <span class="nn">scipy.optimize</span> <span class="k">import</span> <span class="n">minimize</span>

<span class="n">result</span> <span class="o">=</span> <span class="n">minimize</span><span class="p">(</span><span class="k">lambda</span> <span class="n">x</span><span class="p">:</span>  <span class="o">-</span><span class="p">(</span><span class="mi">4</span> <span class="o">-</span> <span class="mi">2</span> <span class="o">*</span> <span class="n">x</span><span class="p">)</span> <span class="o">*</span> <span class="p">(</span><span class="mi">3</span> <span class="o">-</span> <span class="mi">2</span> <span class="o">*</span> <span class="n">x</span><span class="p">)</span> <span class="o">*</span> <span class="n">x</span><span class="p">,</span> <span class="n">x0</span><span class="o">=</span><span class="mi">1</span><span class="p">)</span>
<span class="nb">print</span> <span class="s2">&quot;The height is :</span><span class="si">{}</span><span class="s2"> cm &quot;</span><span class="o">.</span><span class="n">format</span><span class="p">(</span> <span class="n">result</span><span class="o">.</span><span class="n">x</span><span class="p">)</span>
</pre></div>

</div>
</div>
</div>

<div class="output_wrapper">
<div class="output">


<div class="output_area">
<div class="prompt"></div>

<div class="output_subarea output_stream output_stdout output_text">
<pre>The height is :[ 0.56574152] cm 
</pre>
</div>
</div>

</div>
</div>

</div>
<div class="cell border-box-sizing code_cell rendered">
<div class="input">
<div class="prompt input_prompt">In&nbsp;[8]:</div>
<div class="inner_cell">
    <div class="input_area">
<div class=" highlight hl-ipython3"><pre><span></span><span class="n">x</span> <span class="o">=</span> <span class="n">np</span><span class="o">.</span><span class="n">linspace</span><span class="p">(</span><span class="mi">0</span><span class="p">,</span><span class="mf">1.5</span><span class="p">,</span><span class="mi">100</span><span class="p">)</span>
<span class="n">y</span> <span class="o">=</span> <span class="o">-</span><span class="p">(</span><span class="mi">4</span> <span class="o">-</span> <span class="mi">2</span> <span class="o">*</span> <span class="n">x</span><span class="p">)</span> <span class="o">*</span> <span class="p">(</span><span class="mi">3</span> <span class="o">-</span> <span class="mi">2</span> <span class="o">*</span> <span class="n">x</span><span class="p">)</span> <span class="o">*</span> <span class="n">x</span>
<span class="n">plt</span><span class="o">.</span><span class="n">plot</span><span class="p">(</span><span class="n">x</span><span class="p">,</span><span class="n">y</span><span class="p">)</span>
<span class="n">plt</span><span class="o">.</span><span class="n">vlines</span><span class="p">(</span><span class="n">result</span><span class="o">.</span><span class="n">x</span><span class="p">,</span> <span class="o">-</span><span class="mf">3.5</span><span class="p">,</span><span class="mi">0</span><span class="p">)</span>
<span class="n">plt</span><span class="o">.</span><span class="n">show</span><span class="p">()</span>
</pre></div>

</div>
</div>
</div>

<div class="output_wrapper">
<div class="output">


<div class="output_area">
<div class="prompt"></div>



<div class="output_png output_subarea ">
<img src="data:image/png;base64,iVBORw0KGgoAAAANSUhEUgAAAXoAAAD/CAYAAAD/qh1PAAAABHNCSVQICAgIfAhkiAAAAAlwSFlz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"
>
</div>

</div>

</div>
</div>

</div>
<div class="cell border-box-sizing text_cell rendered">
<div class="prompt input_prompt">
</div>
<div class="inner_cell">
<div class="text_cell_render border-box-sizing rendered_html">
<h1 id="3.-Fitting-a-line-(3-Points)">3. Fitting a line (3 Points)<a class="anchor-link" href="#3.-Fitting-a-line-(3-Points)">&#182;</a></h1>
</div>
</div>
</div>
<div class="cell border-box-sizing code_cell rendered">
<div class="input">
<div class="prompt input_prompt">In&nbsp;[9]:</div>
<div class="inner_cell">
    <div class="input_area">
<div class=" highlight hl-ipython3"><pre><span></span><span class="n">data_3_x</span> <span class="o">=</span> <span class="p">[</span><span class="mf">0.0</span><span class="p">,</span> <span class="mf">0.1</span><span class="p">,</span>  <span class="mf">0.2</span><span class="p">,</span>  <span class="mf">0.3</span><span class="p">,</span>  <span class="mf">0.4</span><span class="p">,</span>  <span class="mf">0.5</span><span class="p">,</span>  <span class="mf">0.6</span><span class="p">,</span>  <span class="mf">0.7</span><span class="p">,</span>  <span class="mf">0.8</span><span class="p">,</span>  <span class="mf">0.9</span><span class="p">,</span>  <span class="mf">1.0</span><span class="p">,</span>  <span class="mf">1.1</span><span class="p">,</span>  <span class="mf">1.2</span><span class="p">,</span>  <span class="mf">1.3</span><span class="p">,</span>  <span class="mf">1.4</span><span class="p">,</span>  <span class="mf">1.5</span><span class="p">,</span>  <span class="mf">1.6</span><span class="p">,</span>  <span class="mf">1.7</span><span class="p">,</span>  <span class="mf">1.8</span><span class="p">,</span>  <span class="mf">1.9</span><span class="p">,</span>  <span class="mf">2.0</span><span class="p">,</span>  <span class="mf">2.1</span><span class="p">,</span>  <span class="mf">2.2</span><span class="p">,</span>  <span class="mf">2.3</span><span class="p">,</span>  <span class="mf">2.4</span><span class="p">,</span>  <span class="mf">2.5</span><span class="p">,</span>  <span class="mf">2.6</span><span class="p">,</span>  <span class="mf">2.7</span><span class="p">,</span>  <span class="mf">2.8</span><span class="p">,</span>  <span class="mf">2.9</span><span class="p">,</span>  <span class="mf">3.0</span><span class="p">,</span>  <span class="mf">3.1</span><span class="p">,</span>  <span class="mf">3.2</span><span class="p">,</span>  <span class="mf">3.3</span><span class="p">,</span>  <span class="mf">3.4</span><span class="p">,</span>  <span class="mf">3.5</span><span class="p">,</span>  <span class="mf">3.6</span><span class="p">,</span>  <span class="mf">3.7</span><span class="p">,</span>  <span class="mf">3.8</span><span class="p">,</span>  <span class="mf">3.9</span><span class="p">,</span>  <span class="mf">4.0</span><span class="p">,</span>  <span class="mf">4.1</span><span class="p">,</span>  <span class="mf">4.2</span><span class="p">,</span>  <span class="mf">4.3</span><span class="p">,</span>  <span class="mf">4.4</span><span class="p">,</span>  <span class="mf">4.5</span><span class="p">,</span>  <span class="mf">4.6</span><span class="p">,</span>  <span class="mf">4.7</span><span class="p">,</span>  <span class="mf">4.8</span><span class="p">,</span>  <span class="mf">4.9</span><span class="p">,</span>  <span class="mf">5.0</span><span class="p">,</span>  <span class="mf">5.1</span><span class="p">,</span>  <span class="mf">5.2</span><span class="p">,</span>  <span class="mf">5.3</span><span class="p">,</span>  <span class="mf">5.4</span><span class="p">,</span>  <span class="mf">5.5</span><span class="p">,</span>  <span class="mf">5.6</span><span class="p">,</span>  <span class="mf">5.7</span><span class="p">,</span>  <span class="mf">5.8</span><span class="p">,</span>  <span class="mf">5.9</span><span class="p">,</span>  <span class="mf">6.0</span><span class="p">,</span>  <span class="mf">6.1</span><span class="p">,</span>  <span class="mf">6.2</span><span class="p">,</span>  <span class="mf">6.3</span><span class="p">,</span>  <span class="mf">6.4</span><span class="p">,</span>  <span class="mf">6.5</span><span class="p">,</span>  <span class="mf">6.6</span><span class="p">,</span>  <span class="mf">6.7</span><span class="p">,</span>  <span class="mf">6.8</span><span class="p">,</span>  <span class="mf">6.9</span><span class="p">,</span>  <span class="mf">7.0</span><span class="p">,</span>  <span class="mf">7.1</span><span class="p">,</span>  <span class="mf">7.2</span><span class="p">,</span>  <span class="mf">7.3</span><span class="p">,</span>  <span class="mf">7.4</span><span class="p">,</span>  <span class="mf">7.5</span><span class="p">,</span>  <span class="mf">7.6</span><span class="p">,</span>  <span class="mf">7.7</span><span class="p">,</span>  <span class="mf">7.8</span><span class="p">,</span>  <span class="mf">7.9</span><span class="p">,</span>  <span class="mf">8.0</span><span class="p">,</span>  <span class="mf">8.1</span><span class="p">,</span>  <span class="mf">8.2</span><span class="p">,</span>  <span class="mf">8.3</span><span class="p">,</span>  <span class="mf">8.4</span><span class="p">,</span>  <span class="mf">8.5</span><span class="p">,</span>  <span class="mf">8.6</span><span class="p">,</span>  <span class="mf">8.7</span><span class="p">,</span>  <span class="mf">8.8</span><span class="p">,</span>  <span class="mf">8.9</span><span class="p">,</span>  <span class="mf">9.0</span><span class="p">,</span>  <span class="mf">9.1</span><span class="p">,</span>  <span class="mf">9.2</span><span class="p">,</span>  <span class="mf">9.3</span><span class="p">,</span>  <span class="mf">9.4</span><span class="p">,</span>  <span class="mf">9.5</span><span class="p">,</span>  <span class="mf">9.6</span><span class="p">,</span>  <span class="mf">9.7</span><span class="p">,</span>  <span class="mf">9.8</span><span class="p">,</span>  <span class="mf">9.9</span><span class="p">]</span>
<span class="n">data_3_y</span> <span class="o">=</span> <span class="p">[</span><span class="mf">0.05</span><span class="p">,</span> <span class="mf">0.45</span><span class="p">,</span>  <span class="mf">0.18</span><span class="p">,</span>  <span class="o">-</span><span class="mf">0.15</span><span class="p">,</span>  <span class="o">-</span><span class="mf">0.14</span><span class="p">,</span>  <span class="o">-</span><span class="mf">0.38</span><span class="p">,</span>  <span class="o">-</span><span class="mf">0.88</span><span class="p">,</span>  <span class="o">-</span><span class="mf">0.42</span><span class="p">,</span>  <span class="o">-</span><span class="mf">0.99</span><span class="p">,</span>  <span class="o">-</span><span class="mf">0.92</span><span class="p">,</span>  <span class="o">-</span><span class="mf">1.53</span><span class="p">,</span>  <span class="o">-</span><span class="mf">1.94</span><span class="p">,</span>  <span class="o">-</span><span class="mf">1.75</span><span class="p">,</span>  <span class="o">-</span><span class="mf">2.37</span><span class="p">,</span>  <span class="o">-</span><span class="mf">2.09</span><span class="p">,</span>  <span class="o">-</span><span class="mf">2.99</span><span class="p">,</span>  <span class="o">-</span><span class="mf">3.04</span><span class="p">,</span>  <span class="o">-</span><span class="mf">2.85</span><span class="p">,</span>  <span class="o">-</span><span class="mf">2.66</span><span class="p">,</span>  <span class="o">-</span><span class="mf">3.03</span><span class="p">,</span>  <span class="o">-</span><span class="mf">3.39</span><span class="p">,</span>  <span class="o">-</span><span class="mf">3.36</span><span class="p">,</span>  <span class="o">-</span><span class="mf">3.7</span><span class="p">,</span>  <span class="o">-</span><span class="mf">4.41</span><span class="p">,</span>  <span class="o">-</span><span class="mf">4.7</span><span class="p">,</span>  <span class="o">-</span><span class="mf">4.51</span><span class="p">,</span>  <span class="o">-</span><span class="mf">4.29</span><span class="p">,</span>  <span class="o">-</span><span class="mf">5.39</span><span class="p">,</span>  <span class="o">-</span><span class="mf">4.81</span><span class="p">,</span>  <span class="o">-</span><span class="mf">5.63</span><span class="p">,</span>  <span class="o">-</span><span class="mf">5.01</span><span class="p">,</span>  <span class="o">-</span><span class="mf">5.79</span><span class="p">,</span>  <span class="o">-</span><span class="mf">6.03</span><span class="p">,</span>  <span class="o">-</span><span class="mf">6.04</span><span class="p">,</span>  <span class="o">-</span><span class="mf">6.35</span><span class="p">,</span>  <span class="o">-</span><span class="mf">6.82</span><span class="p">,</span>  <span class="o">-</span><span class="mf">6.48</span><span class="p">,</span>  <span class="o">-</span><span class="mf">6.6</span><span class="p">,</span>  <span class="o">-</span><span class="mf">6.69</span><span class="p">,</span>  <span class="o">-</span><span class="mf">7.05</span><span class="p">,</span>  <span class="o">-</span><span class="mf">7.4</span><span class="p">,</span>  <span class="o">-</span><span class="mf">8.07</span><span class="p">,</span>  <span class="o">-</span><span class="mf">7.81</span><span class="p">,</span>  <span class="o">-</span><span class="mf">7.97</span><span class="p">,</span>  <span class="o">-</span><span class="mf">8.08</span><span class="p">,</span>  <span class="o">-</span><span class="mf">8.29</span><span class="p">,</span>  <span class="o">-</span><span class="mf">8.99</span><span class="p">,</span>  <span class="o">-</span><span class="mf">9.17</span><span class="p">,</span>  <span class="o">-</span><span class="mf">9.38</span><span class="p">,</span>  <span class="o">-</span><span class="mf">9.1</span><span class="p">,</span>  <span class="o">-</span><span class="mf">9.62</span><span class="p">,</span>  <span class="o">-</span><span class="mf">9.85</span><span class="p">,</span>  <span class="o">-</span><span class="mf">9.99</span><span class="p">,</span>  <span class="o">-</span><span class="mf">9.64</span><span class="p">,</span>  <span class="o">-</span><span class="mf">10.78</span><span class="p">,</span>  <span class="o">-</span><span class="mf">10.76</span><span class="p">,</span>  <span class="o">-</span><span class="mf">10.84</span><span class="p">,</span>  <span class="o">-</span><span class="mf">11.1</span><span class="p">,</span>  <span class="o">-</span><span class="mf">11.03</span><span class="p">,</span>  <span class="o">-</span><span class="mf">11.48</span><span class="p">,</span>  <span class="o">-</span><span class="mf">11.47</span><span class="p">,</span>  <span class="o">-</span><span class="mf">11.4</span><span class="p">,</span>  <span class="o">-</span><span class="mf">11.58</span><span class="p">,</span>  <span class="o">-</span><span class="mf">11.77</span><span class="p">,</span>  <span class="o">-</span><span class="mf">11.97</span><span class="p">,</span>  <span class="o">-</span><span class="mf">12.1</span><span class="p">,</span>  <span class="o">-</span><span class="mf">12.65</span><span class="p">,</span>  <span class="o">-</span><span class="mf">12.52</span><span class="p">,</span>  <span class="o">-</span><span class="mf">12.79</span><span class="p">,</span>  <span class="o">-</span><span class="mf">13.21</span><span class="p">,</span>  <span class="o">-</span><span class="mf">13.24</span><span class="p">,</span>  <span class="o">-</span><span class="mf">13.85</span><span class="p">,</span>  <span class="o">-</span><span class="mf">13.5</span><span class="p">,</span>  <span class="o">-</span><span class="mf">13.9</span><span class="p">,</span>  <span class="o">-</span><span class="mf">14.66</span><span class="p">,</span>  <span class="o">-</span><span class="mf">14.44</span><span class="p">,</span>  <span class="o">-</span><span class="mf">14.65</span><span class="p">,</span>  <span class="o">-</span><span class="mf">14.72</span><span class="p">,</span>  <span class="o">-</span><span class="mf">14.7</span><span class="p">,</span>  <span class="o">-</span><span class="mf">14.87</span><span class="p">,</span>  <span class="o">-</span><span class="mf">15.47</span><span class="p">,</span>  <span class="o">-</span><span class="mf">15.21</span><span class="p">,</span>  <span class="o">-</span><span class="mf">15.82</span><span class="p">,</span>  <span class="o">-</span><span class="mf">16.37</span><span class="p">,</span>  <span class="o">-</span><span class="mf">16.42</span><span class="p">,</span>  <span class="o">-</span><span class="mf">16.67</span><span class="p">,</span>  <span class="o">-</span><span class="mf">16.52</span><span class="p">,</span>  <span class="o">-</span><span class="mf">16.62</span><span class="p">,</span>  <span class="o">-</span><span class="mf">17.39</span><span class="p">,</span>  <span class="o">-</span><span class="mf">16.94</span><span class="p">,</span>  <span class="o">-</span><span class="mf">17.48</span><span class="p">,</span>  <span class="o">-</span><span class="mf">18.17</span><span class="p">,</span>  <span class="o">-</span><span class="mf">18.31</span><span class="p">,</span>  <span class="o">-</span><span class="mf">17.75</span><span class="p">,</span>  <span class="o">-</span><span class="mf">17.86</span><span class="p">,</span>  <span class="o">-</span><span class="mf">18.6</span><span class="p">,</span>  <span class="o">-</span><span class="mf">18.43</span><span class="p">,</span>  <span class="o">-</span><span class="mf">19.04</span><span class="p">,</span>  <span class="o">-</span><span class="mf">19.1</span><span class="p">,</span>  <span class="o">-</span><span class="mf">18.83</span><span class="p">]</span>

<span class="k">def</span> <span class="nf">model</span><span class="p">(</span><span class="n">slope</span><span class="p">):</span>
    <span class="n">yhat</span> <span class="o">=</span> <span class="n">slope</span> <span class="o">*</span> <span class="n">data_3_x</span>

    <span class="k">return</span> <span class="n">yhat</span>
<span class="k">def</span> <span class="nf">obj_fxn</span><span class="p">(</span><span class="n">m</span><span class="p">):</span>
    <span class="n">yhat</span> <span class="o">=</span> <span class="n">model</span><span class="p">(</span><span class="n">m</span><span class="p">)</span>
    <span class="k">return</span> <span class="n">np</span><span class="o">.</span><span class="n">sum</span><span class="p">(</span> <span class="p">(</span><span class="n">data_3_y</span> <span class="o">-</span> <span class="n">yhat</span><span class="p">)</span> <span class="o">**</span> <span class="mi">2</span><span class="p">)</span>

<span class="n">result</span> <span class="o">=</span> <span class="n">minimize</span><span class="p">(</span><span class="n">obj_fxn</span><span class="p">,</span> <span class="n">x0</span><span class="o">=</span><span class="mi">25</span><span class="p">)</span>
<span class="n">plt</span><span class="o">.</span><span class="n">plot</span><span class="p">(</span><span class="n">data_3_x</span><span class="p">,</span> <span class="n">data_3_y</span><span class="p">)</span>
<span class="n">plt</span><span class="o">.</span><span class="n">plot</span><span class="p">(</span><span class="n">data_3_x</span><span class="p">,</span> <span class="n">result</span><span class="o">.</span><span class="n">x</span><span class="o">*</span><span class="n">data_3_x</span><span class="p">,</span> <span class="s1">&#39;--&#39;</span><span class="p">)</span>
<span class="n">plt</span><span class="o">.</span><span class="n">show</span><span class="p">()</span>
<span class="nb">print</span> <span class="s1">&#39;The best fit line is :y=</span><span class="si">{}</span><span class="s1">*x&#39;</span> <span class="o">.</span><span class="n">format</span><span class="p">(</span><span class="n">result</span><span class="o">.</span><span class="n">x</span><span class="p">[</span><span class="mi">0</span><span class="p">])</span>
</pre></div>

</div>
</div>
</div>

<div class="output_wrapper">
<div class="output">


<div class="output_area">
<div class="prompt"></div>



<div class="output_png output_subarea ">
<img src="data:image/png;base64,iVBORw0KGgoAAAANSUhEUgAAAXYAAAD/CAYAAADllv3BAAAABHNCSVQICAgIfAhkiAAAAAlwSFlz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"
>
</div>

</div>

<div class="output_area">
<div class="prompt"></div>

<div class="output_subarea output_stream output_stdout output_text">
<pre>The best fit line is :y=-1.91435389817*x
</pre>
</div>
</div>

</div>
</div>

</div>
<div class="cell border-box-sizing text_cell rendered">
<div class="prompt input_prompt">
</div>
<div class="inner_cell">
<div class="text_cell_render border-box-sizing rendered_html">
<h1 id="4.-Fitting-a-Binomial-Distribution-to-Data-(2-Points)">4. Fitting a Binomial Distribution to Data (2 Points)<a class="anchor-link" href="#4.-Fitting-a-Binomial-Distribution-to-Data-(2-Points)">&#182;</a></h1>
</div>
</div>
</div>
<div class="cell border-box-sizing code_cell rendered">
<div class="input">
<div class="prompt input_prompt">In&nbsp;[14]:</div>
<div class="inner_cell">
    <div class="input_area">
<div class=" highlight hl-ipython3"><pre><span></span><span class="kn">from</span> <span class="nn">scipy.misc</span> <span class="k">import</span> <span class="n">comb</span>

<span class="n">bin_data</span> <span class="o">=</span> <span class="p">[</span><span class="mi">4</span><span class="p">,</span> <span class="mi">3</span><span class="p">,</span>  <span class="mi">6</span><span class="p">,</span>  <span class="mi">1</span><span class="p">,</span>  <span class="mi">2</span><span class="p">,</span>  <span class="mi">1</span><span class="p">,</span>  <span class="mi">1</span><span class="p">,</span>  <span class="mi">1</span><span class="p">,</span>  <span class="mi">3</span><span class="p">,</span>  <span class="mi">0</span><span class="p">,</span>  <span class="mi">4</span><span class="p">,</span>  <span class="mi">2</span><span class="p">,</span>  <span class="mi">4</span><span class="p">,</span>  <span class="mi">2</span><span class="p">,</span>  <span class="mi">2</span><span class="p">,</span>  <span class="mi">3</span><span class="p">,</span>  <span class="mi">2</span><span class="p">,</span>  <span class="mi">4</span><span class="p">,</span>  <span class="mi">4</span><span class="p">,</span>  <span class="mi">3</span><span class="p">]</span>
<span class="n">N</span> <span class="o">=</span> <span class="mi">20</span>

<span class="k">def</span> <span class="nf">bin_fit</span><span class="p">(</span><span class="n">p</span><span class="p">,</span> <span class="n">data</span><span class="p">,</span> <span class="n">N</span><span class="p">):</span>
    <span class="n">fit</span> <span class="o">=</span> <span class="mi">0</span>
    <span class="k">for</span> <span class="n">di</span> <span class="ow">in</span> <span class="n">data</span><span class="p">:</span>
        <span class="n">fit</span> <span class="o">+=</span> <span class="n">np</span><span class="o">.</span><span class="n">log</span><span class="p">(</span> <span class="n">comb</span><span class="p">(</span><span class="n">N</span><span class="p">,</span> <span class="n">di</span><span class="p">)</span> <span class="o">*</span> <span class="p">(</span><span class="mi">1</span> <span class="o">-</span> <span class="n">p</span><span class="p">)</span><span class="o">**</span><span class="p">(</span><span class="n">N</span> <span class="o">-</span> <span class="n">di</span><span class="p">)</span> <span class="o">*</span> <span class="n">p</span><span class="o">**</span><span class="n">di</span> <span class="p">)</span>
    <span class="k">return</span> <span class="n">fit</span>

<span class="c1">#Example of how to use</span>
<span class="nb">print</span> <span class="n">bin_fit</span><span class="p">(</span><span class="mf">0.8</span><span class="p">,</span> <span class="n">bin_data</span><span class="p">,</span> <span class="n">N</span><span class="p">)</span>
</pre></div>

</div>
</div>
</div>

<div class="output_wrapper">
<div class="output">


<div class="output_area">
<div class="prompt"></div>

<div class="output_subarea output_stream output_stdout output_text">
<pre>-452.321017887
</pre>
</div>
</div>

</div>
</div>

</div>
<div class="cell border-box-sizing code_cell rendered">
<div class="input">
<div class="prompt input_prompt">In&nbsp;[15]:</div>
<div class="inner_cell">
    <div class="input_area">
<div class=" highlight hl-ipython3"><pre><span></span><span class="k">def</span> <span class="nf">bin_fit</span><span class="p">(</span><span class="n">p</span><span class="p">,</span> <span class="n">data</span><span class="p">,</span> <span class="n">N</span><span class="p">):</span>
    <span class="n">fit</span> <span class="o">=</span> <span class="mi">0</span>
    <span class="k">for</span> <span class="n">di</span> <span class="ow">in</span> <span class="n">data</span><span class="p">:</span>
        <span class="n">fit</span> <span class="o">+=</span> <span class="n">np</span><span class="o">.</span><span class="n">log</span><span class="p">(</span> <span class="n">comb</span><span class="p">(</span><span class="n">N</span><span class="p">,</span> <span class="n">di</span><span class="p">)</span> <span class="o">*</span> <span class="p">(</span><span class="mi">1</span> <span class="o">-</span> <span class="n">p</span><span class="p">)</span><span class="o">**</span><span class="p">(</span><span class="n">N</span> <span class="o">-</span> <span class="n">di</span><span class="p">)</span> <span class="o">*</span> <span class="n">p</span><span class="o">**</span><span class="n">di</span> <span class="p">)</span>
    <span class="k">return</span> <span class="n">fit</span>

<span class="n">result</span> <span class="o">=</span> <span class="n">minimize</span><span class="p">(</span><span class="k">lambda</span> <span class="n">x</span><span class="p">:</span> <span class="o">-</span><span class="n">bin_fit</span><span class="p">(</span><span class="n">x</span><span class="p">,</span> <span class="n">bin_data</span><span class="p">,</span> <span class="n">N</span><span class="p">),</span> <span class="n">x0</span><span class="o">=</span><span class="mf">0.1</span><span class="p">,</span> <span class="n">bounds</span><span class="o">=</span><span class="p">[(</span><span class="mf">0.01</span><span class="p">,</span><span class="mf">0.5</span><span class="p">)])</span>

<span class="nb">print</span> <span class="n">result</span><span class="o">.</span><span class="n">x</span>
<span class="n">x</span> <span class="o">=</span> <span class="n">np</span><span class="o">.</span><span class="n">linspace</span><span class="p">(</span><span class="mf">0.1</span><span class="p">,</span> <span class="mf">0.3</span><span class="p">,</span> <span class="mi">100</span><span class="p">)</span>
<span class="n">bin_fit_np</span> <span class="o">=</span> <span class="n">np</span><span class="o">.</span><span class="n">frompyfunc</span><span class="p">(</span><span class="k">lambda</span> <span class="n">x</span><span class="p">:</span> <span class="n">bin_fit</span><span class="p">(</span><span class="n">x</span><span class="p">,</span> <span class="n">bin_data</span><span class="p">,</span> <span class="n">N</span><span class="p">),</span> <span class="mi">1</span><span class="p">,</span> <span class="mi">1</span><span class="p">)</span>
<span class="n">plt</span><span class="o">.</span><span class="n">vlines</span><span class="p">(</span><span class="n">result</span><span class="o">.</span><span class="n">x</span><span class="p">,</span> <span class="o">-</span><span class="mi">70</span><span class="p">,</span> <span class="o">-</span><span class="mi">35</span><span class="p">)</span>
<span class="n">plt</span><span class="o">.</span><span class="n">plot</span><span class="p">(</span><span class="n">x</span><span class="p">,</span> <span class="n">bin_fit_np</span><span class="p">(</span><span class="n">x</span><span class="p">))</span>
<span class="n">plt</span><span class="o">.</span><span class="n">show</span><span class="p">()</span>
</pre></div>

</div>
</div>
</div>

<div class="output_wrapper">
<div class="output">


<div class="output_area">
<div class="prompt"></div>

<div class="output_subarea output_stream output_stdout output_text">
<pre>[ 0.12999999]
</pre>
</div>
</div>

<div class="output_area">
<div class="prompt"></div>



<div class="output_png output_subarea ">
<img src="data:image/png;base64,iVBORw0KGgoAAAANSUhEUgAAAX4AAAEACAYAAAC08h1NAAAABHNCSVQICAgIfAhkiAAAAAlwSFlz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"
>
</div>

</div>

</div>
</div>

</div>
<div class="cell border-box-sizing text_cell rendered">
<div class="prompt input_prompt">
</div>
<div class="inner_cell">
<div class="text_cell_render border-box-sizing rendered_html">
<h1 id="5.-Solution-Reaction-(5-Points)">5. Solution Reaction (5 Points)<a class="anchor-link" href="#5.-Solution-Reaction-(5-Points)">&#182;</a></h1><p>The equilbrium is given by:</p>
$$k(T) = \frac{[A][B]}{[AB]} = \frac{x\times x}{1.5 - x} \frac{1}{25 \textrm{gal}}$$<p>The factor of $1/25$ is because the equilibrium is for units of concentration.</p>
<p>The change in temperature can be found by rearranging the heat capacity definition:</p>
$$ \Delta Q = c_p m \Delta T$$$$m = V\rho$$<p>The enthalpy of reaction can be used to compute the heat going into the tank.</p>
$$ \Delta \hat{H} \times x = \Delta Q$$$$\Delta T = \frac{\Delta H x}{c_p V \rho}$$<p>Therefore, the temperature of the tank is given by:</p>
$$T(x) = T + \frac{\Delta H x}{c_p V \rho}$$<p>Now we can rewrite the equilbirium constant in terms of $x$:</p>
$$ k(x) = Ae^{\frac{-B}{RT}} + C\left(\frac{B}{RT(x)} - 0.5\right)^2 $$<p>Plugging the above equation into the equilbrium equation above gives us an equation with $x$ on both sides. This can be solved numerically by making it a root equation:</p>
$$k(x) - \frac{x\times x}{1.5 - x} \frac{1}{25 \textrm{gal}} = 0 $$<h1 id="Grading">Grading<a class="anchor-link" href="#Grading">&#182;</a></h1><ul>
<li>Neglectected water heating -3</li>
<li>Didn't use water mass, instead used 1.5 or extent -1</li>
<li>Set up correctly, didn't optimize correctly -1</li>
</ul>

</div>
</div>
</div>
<div class="cell border-box-sizing code_cell rendered">
<div class="input">
<div class="prompt input_prompt">In&nbsp;[5]:</div>
<div class="inner_cell">
    <div class="input_area">
<div class=" highlight hl-ipython3"><pre><span></span><span class="n">A</span> <span class="o">=</span> <span class="mf">10.</span>
<span class="n">B</span> <span class="o">=</span> <span class="mf">500.</span>
<span class="n">C</span> <span class="o">=</span> <span class="mf">10.</span><span class="o">**-</span><span class="mi">3</span>
<span class="n">R</span> <span class="o">=</span> <span class="mf">1.986</span>

<span class="k">def</span> <span class="nf">k</span><span class="p">(</span><span class="n">T</span><span class="p">):</span>
    <span class="k">return</span> <span class="n">A</span> <span class="o">*</span> <span class="n">np</span><span class="o">.</span><span class="n">exp</span><span class="p">(</span><span class="o">-</span><span class="n">B</span> <span class="o">/</span> <span class="p">(</span><span class="n">R</span> <span class="o">*</span> <span class="n">T</span><span class="p">))</span> <span class="o">+</span> <span class="n">C</span> <span class="o">*</span> <span class="p">(</span><span class="n">B</span> <span class="o">/</span> <span class="p">(</span><span class="n">R</span> <span class="o">*</span> <span class="n">T</span><span class="p">)</span> <span class="o">-</span> <span class="mf">0.5</span><span class="p">)</span><span class="o">**</span><span class="mi">2</span>

<span class="k">def</span> <span class="nf">delta_T</span><span class="p">(</span><span class="n">x</span><span class="p">):</span>
    <span class="n">cp</span> <span class="o">=</span> <span class="mf">17.89</span> <span class="c1">#BTU / (lb-mol R)</span>
    <span class="n">density</span> <span class="o">=</span> <span class="mf">8.345</span> <span class="c1">#lb / gal</span>
    <span class="n">MW</span> <span class="o">=</span> <span class="mi">18</span> <span class="c1">#lb-mol / mol</span>
    <span class="n">delta_Q</span> <span class="o">=</span> <span class="mf">863.9</span> <span class="o">*</span> <span class="n">x</span>
    <span class="n">delta_T</span> <span class="o">=</span> <span class="n">delta_Q</span> <span class="o">/</span> <span class="p">(</span><span class="n">cp</span> <span class="o">*</span> <span class="n">density</span> <span class="o">*</span> <span class="mf">25.0</span> <span class="o">/</span> <span class="n">MW</span><span class="p">)</span>
    <span class="k">return</span> <span class="n">delta_T</span>
    <span class="c1">#return x * 0</span>

<span class="k">def</span> <span class="nf">eqn</span><span class="p">(</span><span class="n">x</span><span class="p">):</span>
    <span class="k">return</span> <span class="n">x</span> <span class="o">**</span> <span class="mi">2</span> <span class="o">/</span> <span class="p">(</span><span class="mf">1.5</span> <span class="o">-</span> <span class="n">x</span><span class="p">)</span> <span class="o">/</span> <span class="mf">25.0</span> <span class="o">-</span> <span class="n">k</span><span class="p">(</span><span class="mi">510</span> <span class="o">+</span> <span class="n">delta_T</span><span class="p">(</span><span class="n">x</span><span class="p">))</span>


<span class="nb">print</span> 


<span class="n">x</span> <span class="o">=</span> <span class="n">brentq</span><span class="p">(</span><span class="n">eqn</span><span class="p">,</span> <span class="n">a</span><span class="o">=</span><span class="mi">10</span><span class="o">**-</span><span class="mi">10</span><span class="p">,</span> <span class="n">b</span><span class="o">=</span><span class="mf">1.5</span> <span class="o">-</span> <span class="mi">10</span><span class="o">**-</span><span class="mi">10</span><span class="p">)</span>
<span class="nb">print</span> <span class="n">x</span>
<span class="nb">print</span> <span class="mf">1.5</span> <span class="o">-</span> <span class="n">x</span><span class="p">,</span> <span class="s2">&quot;lb-mol of AB Remains&quot;</span> 
<span class="nb">print</span> <span class="s1">&#39;Temperature is&#39;</span><span class="p">,</span> <span class="mi">510</span> <span class="o">+</span> <span class="n">delta_T</span><span class="p">(</span><span class="n">x</span><span class="p">)</span>

<span class="n">x</span> <span class="o">=</span> <span class="n">np</span><span class="o">.</span><span class="n">arange</span><span class="p">(</span><span class="mf">0.01</span><span class="p">,</span> <span class="mf">1.5</span><span class="p">,</span> <span class="mf">0.01</span><span class="p">)</span>
<span class="n">f1</span> <span class="o">=</span> <span class="n">k</span><span class="p">(</span><span class="mi">510</span> <span class="o">+</span> <span class="n">delta_T</span><span class="p">(</span><span class="n">x</span><span class="p">))</span>
<span class="n">f2</span> <span class="o">=</span> <span class="n">x</span> <span class="o">**</span> <span class="mi">2</span> <span class="o">/</span> <span class="p">(</span><span class="mf">1.5</span> <span class="o">-</span> <span class="n">x</span><span class="p">)</span> <span class="o">/</span> <span class="mf">25.0</span> 

<span class="n">plt</span><span class="o">.</span><span class="n">plot</span><span class="p">(</span><span class="n">x</span><span class="p">,</span> <span class="n">f1</span><span class="p">)</span>
<span class="n">plt</span><span class="o">.</span><span class="n">plot</span><span class="p">(</span><span class="n">x</span><span class="p">,</span> <span class="n">f2</span><span class="p">)</span>
<span class="n">plt</span><span class="o">.</span><span class="n">show</span><span class="p">()</span>
</pre></div>

</div>
</div>
</div>

<div class="output_wrapper">
<div class="output">


<div class="output_area">
<div class="prompt"></div>

<div class="output_subarea output_stream output_stdout output_text">
<pre>
1.48562207929
0.0143779207147 lb-mol of AB Remains
Temperature is 516.189671977
</pre>
</div>
</div>

<div class="output_area">
<div class="prompt"></div>



<div class="output_png output_subarea ">
<img src="data:image/png;base64,iVBORw0KGgoAAAANSUhEUgAAAW0AAAEACAYAAAB4ayemAAAABHNCSVQICAgIfAhkiAAAAAlwSFlz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"
>
</div>

</div>

</div>
</div>

</div>
<div class="cell border-box-sizing text_cell rendered">
<div class="prompt input_prompt">
</div>
<div class="inner_cell">
<div class="text_cell_render border-box-sizing rendered_html">
<h1 id="6.-2D-Minimization-(5-Points)">6. 2D Minimization (5 Points)<a class="anchor-link" href="#6.-2D-Minimization-(5-Points)">&#182;</a></h1>
</div>
</div>
</div>
<div class="cell border-box-sizing code_cell rendered">
<div class="input">
<div class="prompt input_prompt">In&nbsp;[7]:</div>
<div class="inner_cell">
    <div class="input_area">
<div class=" highlight hl-ipython3"><pre><span></span><span class="kn">import</span> <span class="nn">scipy.optimize</span>

<span class="k">def</span> <span class="nf">obj</span><span class="p">(</span><span class="n">x</span><span class="p">):</span>
    <span class="k">return</span> <span class="n">np</span><span class="o">.</span><span class="n">cos</span><span class="p">(</span><span class="n">x</span><span class="p">[</span><span class="mi">0</span><span class="p">]</span> <span class="o">+</span> <span class="mi">1</span><span class="p">)</span> <span class="o">*</span> <span class="n">np</span><span class="o">.</span><span class="n">sin</span><span class="p">(</span><span class="n">x</span><span class="p">[</span><span class="mi">1</span><span class="p">])</span> <span class="o">+</span> <span class="p">(</span><span class="n">x</span><span class="p">[</span><span class="mi">0</span><span class="p">]</span> <span class="o">+</span> <span class="mi">2</span><span class="p">)</span><span class="o">**</span><span class="mi">2</span>
<span class="k">def</span> <span class="nf">constraint</span><span class="p">(</span><span class="n">x</span><span class="p">):</span>
    <span class="k">return</span> <span class="o">-</span><span class="mi">1</span> <span class="o">*</span> <span class="n">x</span><span class="p">[</span><span class="mi">0</span><span class="p">]</span> <span class="o">*</span> <span class="n">x</span><span class="p">[</span><span class="mi">1</span><span class="p">]</span>

<span class="nb">print</span> <span class="n">constraint</span><span class="p">([</span><span class="mi">1</span><span class="p">,</span><span class="o">-</span><span class="mi">2</span><span class="p">])</span>
<span class="nb">print</span> <span class="n">constraint</span><span class="p">([</span><span class="mi">1</span><span class="p">,</span><span class="mi">2</span><span class="p">])</span>
<span class="n">constraints</span> <span class="o">=</span> <span class="p">{</span><span class="s1">&#39;type&#39;</span><span class="p">:</span><span class="s1">&#39;ineq&#39;</span><span class="p">,</span> <span class="s1">&#39;fun&#39;</span><span class="p">:</span><span class="n">constraint</span><span class="p">}</span>

<span class="nb">print</span> <span class="n">scipy</span><span class="o">.</span><span class="n">optimize</span><span class="o">.</span><span class="n">minimize</span><span class="p">(</span><span class="n">obj</span><span class="p">,</span> <span class="n">x0</span><span class="o">=</span><span class="p">[</span><span class="mi">0</span><span class="p">,</span><span class="mi">0</span><span class="p">],</span> <span class="n">constraints</span><span class="o">=</span><span class="n">constraints</span><span class="p">)</span>
</pre></div>

</div>
</div>
</div>

<div class="output_wrapper">
<div class="output">


<div class="output_area">
<div class="prompt"></div>

<div class="output_subarea output_stream output_stdout output_text">
<pre>2
-2
  status: 0
 success: True
    njev: 6
    nfev: 25
     fun: 2.5744519255533931e-08
       x: array([ -1.99999954e+00,   4.76479299e-08])
 message: &#39;Optimization terminated successfully.&#39;
     jac: array([  9.80806521e-07,   5.40302695e-01,   0.00000000e+00])
     nit: 6
</pre>
</div>
</div>

</div>
</div>

</div>
<div class="cell border-box-sizing text_cell rendered">
<div class="prompt input_prompt">
</div>
<div class="inner_cell">
<div class="text_cell_render border-box-sizing rendered_html">
<h2 id="Why-isn't-it-working?">Why isn't it working?<a class="anchor-link" href="#Why-isn't-it-working?">&#182;</a></h2><p>We can see that this won't arrive at the correct function value given in the hint. You should also see that different starting conditions give different values. It is non-convex, so we must use basin hopping.</p>

</div>
</div>
</div>
<div class="cell border-box-sizing code_cell rendered">
<div class="input">
<div class="prompt input_prompt">In&nbsp;[12]:</div>
<div class="inner_cell">
    <div class="input_area">
<div class=" highlight hl-ipython3"><pre><span></span><span class="kn">from</span> <span class="nn">math</span> <span class="k">import</span> <span class="n">pi</span>

<span class="n">minimizer_args</span> <span class="o">=</span> <span class="p">{</span><span class="s1">&#39;constraints&#39;</span><span class="p">:</span> <span class="n">constraints</span><span class="p">,</span> <span class="s1">&#39;bounds&#39;</span><span class="p">:</span> <span class="p">[(</span><span class="o">-</span><span class="mi">2</span><span class="o">*</span><span class="n">pi</span><span class="p">,</span> <span class="mi">2</span><span class="o">*</span><span class="n">pi</span><span class="p">),</span> <span class="p">(</span><span class="o">-</span><span class="mi">2</span><span class="o">*</span><span class="n">pi</span><span class="p">,</span> <span class="mi">2</span><span class="o">*</span><span class="n">pi</span><span class="p">)]}</span>
<span class="nb">print</span> <span class="n">scipy</span><span class="o">.</span><span class="n">optimize</span><span class="o">.</span><span class="n">basinhopping</span><span class="p">(</span><span class="n">obj</span><span class="p">,</span> <span class="n">x0</span><span class="o">=</span><span class="p">[</span><span class="mi">0</span><span class="p">,</span><span class="mi">0</span><span class="p">],</span> <span class="n">minimizer_kwargs</span><span class="o">=</span><span class="n">minimizer_args</span><span class="p">,</span> <span class="n">niter</span><span class="o">=</span><span class="mi">1000</span><span class="p">)</span>
<span class="n">scipy</span><span class="o">.</span><span class="n">optimize</span><span class="o">.</span><span class="n">basinhopping</span><span class="p">(</span><span class="n">obj</span><span class="p">,</span> <span class="n">x0</span><span class="o">=</span><span class="p">[</span><span class="mi">0</span><span class="p">,</span><span class="mi">0</span><span class="p">],</span> <span class="n">minimizer_kwargs</span><span class="o">=</span><span class="n">minimizer_args</span><span class="p">)</span>
</pre></div>

</div>
</div>
</div>

<div class="output_wrapper">
<div class="output">


<div class="output_area">
<div class="prompt"></div>

<div class="output_subarea output_stream output_stdout output_text">
<pre>                  nfev: 26004
 minimization_failures: 0
                   fun: -0.67519533465082748
                     x: array([-1.68403752,  4.71239065])
               message: [&#39;requested number of basinhopping iterations completed successfully&#39;]
                  njev: 6229
                   nit: 1000
</pre>
</div>
</div>

<div class="output_area">
<div class="prompt output_prompt">Out[12]:</div>



<div class="output_text output_subarea output_execute_result">
<pre>                  nfev: 2116
 minimization_failures: 0
                   fun: -1.2124802138186466e-07
                     x: array([ -1.99999805e+00,  -2.24414093e-07])
               message: [&#39;requested number of basinhopping iterations completed successfully&#39;]
                  njev: 515
                   nit: 100</pre>
</div>

</div>

</div>
</div>

</div>
<div class="cell border-box-sizing text_cell rendered">
<div class="prompt input_prompt">
</div>
<div class="inner_cell">
<div class="text_cell_render border-box-sizing rendered_html">
<p>So we see that the final value is $x=-1.7$ and $y=4.7$</p>

</div>
</div>
</div>
<div class="cell border-box-sizing text_cell rendered">
<div class="prompt input_prompt">
</div>
<div class="inner_cell">
<div class="text_cell_render border-box-sizing rendered_html">
<h1 id="7.-Sample-Covariance-(3-Points)">7. Sample Covariance (3 Points)<a class="anchor-link" href="#7.-Sample-Covariance-(3-Points)">&#182;</a></h1><p>The correlation is high in magnitude (good correlation) and negative (since we saw in the plot the slope is negative). The covariance is negative between the two as expected. The variance in x is just related to the number of x points and then the covariance is approximately the variance in x times the slope. Key parts for grading are saying the correlation is good and negative for slope. In the covariance, a comment about it including the spread or variance of the data is required.</p>

</div>
</div>
</div>
<div class="cell border-box-sizing code_cell rendered">
<div class="input">
<div class="prompt input_prompt">In&nbsp;[49]:</div>
<div class="inner_cell">
    <div class="input_area">
<div class=" highlight hl-ipython3"><pre><span></span><span class="nb">print</span> <span class="n">np</span><span class="o">.</span><span class="n">corrcoef</span><span class="p">(</span><span class="n">data_3_x</span><span class="p">,</span><span class="n">data_3_y</span><span class="p">,</span><span class="n">ddof</span><span class="o">=</span><span class="mi">1</span><span class="p">)</span>

<span class="nb">print</span> <span class="n">np</span><span class="o">.</span><span class="n">cov</span><span class="p">(</span><span class="n">data_3_x</span><span class="p">,</span><span class="n">data_3_y</span><span class="p">,</span><span class="n">ddof</span><span class="o">=</span><span class="mi">1</span><span class="p">)</span>
</pre></div>

</div>
</div>
</div>

<div class="output_wrapper">
<div class="output">


<div class="output_area">
<div class="prompt"></div>

<div class="output_subarea output_stream output_stdout output_text">
<pre>[[ 1.         -0.99887012]
 [-0.99887012  1.        ]]
[[  8.41666667 -16.75073737]
 [-16.75073737  33.41255499]]
</pre>
</div>
</div>

</div>
</div>

</div>
<div class="cell border-box-sizing text_cell rendered">
<div class="prompt input_prompt">
</div>
<div class="inner_cell">
<div class="text_cell_render border-box-sizing rendered_html">
<h1 id="8.-Functions-of-Distributions-(1-Point)">8. Functions of Distributions (1 Point)<a class="anchor-link" href="#8.-Functions-of-Distributions-(1-Point)">&#182;</a></h1><p>This is applying a function on a continuous distribution. You can think of it as a change of random variables.</p>
<p>We have $g(t) = e^{0.9t}$ and $p(t) = \lambda e^{-\lambda t}$, where $\lambda = \frac{1}{10}$ if $t$ is in years.</p>
<p>The equation given lecture is:</p>
$$p(Y = y) = \int_Q \delta(g(x) - y)p(x)\,dx$$<p>and then using our function and pdf:</p>
$$p(N = n) = \int_0^\infty \delta \left( e^{0.9t} - n \right) \lambda e^{-\lambda t}\,dt$$
</div>
</div>
</div>
<div class="cell border-box-sizing code_cell rendered">
<div class="input">
<div class="prompt input_prompt">In&nbsp;[&nbsp;]:</div>
<div class="inner_cell">
    <div class="input_area">
<div class=" highlight hl-ipython3"><pre><span></span> 
</pre></div>

</div>
</div>
</div>

</div>
 


    </div>
  </div>

  </div>


  
    <footer class="footer hidden-print">
      <div class="container">
        <div class="col-md-4">
          <p>
            This website does not host notebooks, it only renders notebooks
            available on other websites.
          </p>
        </div>

        <div class="col-md-4">
          <p>
            Delivered by <a href="http://www.fastly.com/">Fastly</a>,
            Rendered by <a href="https://developer.rackspace.com/?nbviewer=awesome">Rackspace</a>
          </p>
          <p>
            nbviewer GitHub <a href="https://github.com/jupyter/nbviewer">repository</a>.
          </p>
        </div>

        <div class="col-md-4">
          
  
            
              <p>
                nbviewer version:
                <a href="https://github.com/jupyter/nbviewer/commit/4f5d1d8a2539c1c8dc92873d3a775d34f0a3d417">
                  4f5d1d8
                </a>
              </p>
            
          
  
  <p>
    nbconvert version: <a href="https://github.com/jupyter/nbconvert/releases/tag/5.1.1">
      5.1.1
    </a>
  </p>
  

          
  
  
  <p>
    Rendered
    <span class='date' data-date='Thu, 30 Mar 2017 15:55:47 UTC' title='Thu, 30 Mar 2017 15:55:47 UTC'>(Thu, 30 Mar 2017 15:55:47 UTC)</span>
  </p>
  

        </div>
      </div>
    </footer>
  

  <script src="https://unpkg.com/jupyter-js-widgets@2.0.*/dist/embed.js"></script>
  <script src="/static/components/bootstrap/js/bootstrap.min.js?v=5869c96cc8f19086aee625d670d741f9"></script>
  <script src="/static/components/headroom.js/dist/headroom.min.js?v=b0a311ea668f8e768ea375f4a7abb81c"></script>
  <script src="/static/components/headroom.js/dist/jQuery.headroom.min.js?v=f3a1bae118315d0c234afc74dc6aab71"></script>

  
  
  <script>
    $(function(){ $("#menubar").headroom({
      tolerance: 5,
      offset: 205,
      classes: {
        initial: "animated",
        pinned: "slideInDown",
        unpinned: "slideOutUp"
      }
    })});
  </script>


  
  <script>
    (function(i,s,o,g,r,a,m){i['GoogleAnalyticsObject']=r;i[r]=i[r]||function(){
      (i[r].q=i[r].q||[]).push(arguments)},i[r].l=1*new Date();a=s.createElement(o),
      m=s.getElementsByTagName(o)[0];a.async=1;a.src=g;m.parentNode.insertBefore(a,m)
    })(window,document,'script','https://www.google-analytics.com/analytics.js','ga');
    ga('create', 'UA-52617120-5', 'auto');
    ga('send', 'pageview');
  </script>
  
  <script>
    require({
        paths: {
          moment: "/static/components/moment/min/moment.min.js?v=89f87298ad94aa1e6b92f42eb66da043"
        }
      }, ["moment"], function(moment){
      var date = $("footer .date"),
        m = moment(new Date(date.data('date'))),
        update = function(){ date.text(m.fromNow()); };
      setInterval(update, 61*1000);
      update();
      var w = $(window).scroll(function(event){
        $("body").toggleClass("scrolled", w.scrollTop() > 0);
      });
    });
  </script>
  <!--NEW RELIC Stop Perf Measurement-->
  
  <!--NEW RELIC End-->
</body>
</html>