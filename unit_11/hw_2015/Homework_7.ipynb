








<!DOCTYPE html>
<html lang="en">

<head>
  <meta charset="utf-8">
  <title>Jupyter Notebook Viewer</title>
  <meta name="viewport" content="width=device-width, initial-scale=1.0">
  <meta name="description" content="">
  <meta name="author" content="">
  
  <meta name="robots" content="noindex,nofollow">
  

  <!--NEW RELIC Start Perf Measurement-->
  
  <!--NREND-->

  <!-- Le styles -->
  <script type="text/javascript">
//<![CDATA[
try{if (!window.CloudFlare) {var CloudFlare=[{verbose:0,p:0,byc:0,owlid:"cf",bag2:1,mirage2:0,oracle:0,paths:{cloudflare:"/cdn-cgi/nexp/dok3v=1613a3a185/"},atok:"d5780763e19e7d19f23070ae83c9af3a",petok:"b11d1a1e866af2b6e06b1f2940a4a7add1a4ed00-1490889344-3600",zone:"jupyter.org",rocket:"0",apps:{"ga_key":{"ua":"UA-52617120-1","ga_bs":"2"}}}];!function(a,b){a=document.createElement("script"),b=document.getElementsByTagName("script")[0],a.async=!0,a.src="//ajax.cloudflare.com/cdn-cgi/nexp/dok3v=f2befc48d1/cloudflare.min.js",b.parentNode.insertBefore(a,b)}()}}catch(e){};
//]]>
</script>
<link href="/static/build/styles.css?v=c18d49652a516277e15114bbd447f1c1" rel="stylesheet">

  <!-- Le HTML5 shim, for IE6-8 support of HTML5 elements -->
  <!--[if lt IE 9]>
    <script src="http://html5shim.googlecode.com/svn/trunk/html5.js"></script>
  <![endif]-->

  <!-- Le fav and touch icons -->
  <link rel="shortcut icon" href="/static/ico/ipynb_icon_16x16.png">
  <link rel="apple-touch-icon-precomposed" sizes="144x144"
        href="/static/ico/apple-touch-icon-144-precomposed.png?v=5a3c9ede93e2a8b8ea9e3f8f3da1a905">
  <link rel="apple-touch-icon-precomposed" sizes="114x114"
        href="/static/ico/apple-touch-icon-114-precomposed.png?v=45d86fc8f24dc00638035e1dd7a6d898">
  <link rel="apple-touch-icon-precomposed" sizes="72x72"
        href="/static/ico/apple-touch-icon-72-precomposed.png?v=540b5eb0f3cfd25f1439d1c9bd30e15f">
  <link rel="apple-touch-icon-precomposed"
        href="/static/ico/apple-touch-icon-57-precomposed.png?v=225f0590e187e1458625654f10a28f56">
  
  

  

  
  <meta name="twitter:card" content="summary">
  <meta name="twitter:title" content="Notebook on nbviewer">
  <meta name="twitter:description" content="Check out this Jupyter notebook!">

  
  <meta name="twitter:domain" content="nbviewer.ipython.org">
  <meta name="twitter:image:src" content="http://ipython.org/ipython-doc/dev/_images/ipynb_icon_128x128.png">

  
    <link href="/static/build/notebook.css?v=d05748bef7d8f0edbc1e0133b9a41fe0" rel="stylesheet">
  

  

  
    <script src="https://cdn.mathjax.org/mathjax/latest/MathJax.js?config=TeX-AMS_HTML" type="text/javascript">
    </script>
    <script type="text/javascript">
      init_mathjax = function() {
        if (window.MathJax) {
          // MathJax loaded
          MathJax.Hub.Config({
            TeX: {
              equationNumbers: {
                autoNumber: "AMS",
                useLabelIds: true
              }
            },
            tex2jax: {
              inlineMath: [ ['$','$'], ["\\(","\\)"] ],
              displayMath: [ ['$$','$$'], ["\\[","\\]"] ],
              processEscapes: true,
              processEnvironments: true
            },
            displayAlign: 'center',
            "HTML-CSS": {
              styles: {'.MathJax_Display': {"margin": 0}},
              linebreaks: { automatic: true }
            }
          });
          MathJax.Hub.Queue(["Typeset", MathJax.Hub]);
        }
      }
      init_mathjax();
    </script>
  

<script type="text/javascript">
/* <![CDATA[ */
var _gaq = _gaq || [];
_gaq.push(['_setAccount', 'UA-52617120-1']);
_gaq.push(['_trackPageview']);

(function() {
var ga = document.createElement('script'); ga.type = 'text/javascript'; ga.async = true;
ga.src = ('https:' == document.location.protocol ? 'https://ssl' : 'http://www') + '.google-analytics.com/ga.js';
var s = document.getElementsByTagName('script')[0]; s.parentNode.insertBefore(ga, s);
})();

(function(b){(function(a){"__CF"in b&&"DJS"in b.__CF?b.__CF.DJS.push(a):"addEventListener"in b?b.addEventListener("load",a,!1):b.attachEvent("onload",a)})(function(){"FB"in b&&"Event"in FB&&"subscribe"in FB.Event&&(FB.Event.subscribe("edge.create",function(a){_gaq.push(["_trackSocial","facebook","like",a])}),FB.Event.subscribe("edge.remove",function(a){_gaq.push(["_trackSocial","facebook","unlike",a])}),FB.Event.subscribe("message.send",function(a){_gaq.push(["_trackSocial","facebook","send",a])}));"twttr"in b&&"events"in twttr&&"bind"in twttr.events&&twttr.events.bind("tweet",function(a){if(a){var b;if(a.target&&a.target.nodeName=="IFRAME")a:{if(a=a.target.src){a=a.split("#")[0].match(/[^?=&]+=([^&]*)?/g);b=0;for(var c;c=a[b];++b)if(c.indexOf("url")===0){b=unescape(c.split("=")[1]);break a}}b=void 0}_gaq.push(["_trackSocial","twitter","tweet",b])}})})})(window);
/* ]]> */
</script>
</head>

<body class="nbviewer">

  <!-- These are loaded at the top of the body so they are available to
       notebook cells when they are loaded below. -->
  <script src="/static/components/jquery/dist/jquery.min.js?v=e071abda8fe61194711cfc2ab99fe104"></script>
  <script src="/static/components/requirejs/require.js?v=6da8be361b9ee26c5e721e76c6d4afce"></script>
  <script src="/static/components/moment/min/moment.min.js?v=89f87298ad94aa1e6b92f42eb66da043"></script>

<!-- Navbar
================================================== -->
  <nav id="menubar" class="navbar navbar-default navbar-fixed-top" data-spy="affix">
    <div class="container">
      <div class="navbar-header">
        <button type="button" class="navbar-toggle collapsed" data-toggle="collapse" data-target=".navbar-collapse">
          <span class="sr-only">Toggle navigation</span>
          <i class="fa fa-bars"></i>
        </button>
        <a class="navbar-brand" href="/">
          <img src="/static/img/nav_logo.svg?v=479cefe8d932fb14a67b93911b97d70f" width="159"/>
        </a>
      </div>

      <div class="collapse navbar-collapse">
        <ul class="nav navbar-nav navbar-right">
          <li>
            <a class="active" href="http://jupyter.org">JUPYTER</a>
          </li>
          <li>
    <a href="/faq" title="FAQ" >
      
        <span>FAQ</span>
      
    </a>
  </li>

          
  
    
      
        <li>
    <a href="/format/script/url/thewhitelab.org/Classes/CHE116/Unit_7/Homework_7.ipynb" title="View as Code" >
      <span class="fa fa-code fa-2x menu-icon"></span>
      <span class="menu-text">View as Code</span>
    </a>
  </li>
      
    
  
    
  

  

  

  <li>
    <a href="http://thewhitelab.org/Classes/CHE116/Unit_7/Homework_7.ipynb" title="Download Notebook" download>
      <span class="fa fa-download fa-2x menu-icon"></span>
      <span class="menu-text">Download Notebook</span>
    </a>
  </li>

        </ul>
      </div><!-- /.navbar-collapse -->
      
      
    </div>
  </nav>

  <div class="container container-main">
    
  
  <div id="notebook">
    <div id="notebook-container">
      
<div class="cell border-box-sizing text_cell rendered">
<div class="prompt input_prompt">
</div>
<div class="inner_cell">
<div class="text_cell_render border-box-sizing rendered_html">
<h1 id="Homework-7">Homework 7<a class="anchor-link" href="#Homework-7">&#182;</a></h1><h4 id="CHE-116:-Numerical-Methods-and-Statistics">CHE 116: Numerical Methods and Statistics<a class="anchor-link" href="#CHE-116:-Numerical-Methods-and-Statistics">&#182;</a></h4><p>Prof. Andrew White</p>
<p>Version 1.1 (3/6/2015)</p>
<hr>

</div>
</div>
</div>
<div class="cell border-box-sizing text_cell rendered">
<div class="prompt input_prompt">
</div>
<div class="inner_cell">
<div class="text_cell_render border-box-sizing rendered_html">
<h1 id="0.-Warmup-(1-Point)">0. Warmup (1 Point)<a class="anchor-link" href="#0.-Warmup-(1-Point)">&#182;</a></h1><p>We saw many optimization algorithms. Collect all the cells which gave a summary of the different techniques and paste them into your homework below. An example is given below:</p>
<h1 id="Newton's-Method">Newton's Method<a class="anchor-link" href="#Newton's-Method">&#182;</a></h1><p><strong>Type:</strong> Root Finding</p>
<p><strong>Discrete/Continuous:</strong> Continuous</p>
<p><strong>Dimensions:</strong> 1</p>
<p><strong>Derivative:</strong> optional</p>
<p><strong>Convex:</strong> yes</p>
<p><strong>Python:</strong> <code>newton</code></p>

</div>
</div>
</div>
<div class="cell border-box-sizing text_cell rendered">
<div class="prompt input_prompt">
</div>
<div class="inner_cell">
<div class="text_cell_render border-box-sizing rendered_html">
<h1 id="1.-Exercises-(5-Points)">1. Exercises (5 Points)<a class="anchor-link" href="#1.-Exercises-(5-Points)">&#182;</a></h1><ol>
<li>Minimize the following expression $$\frac{(x - 4)^2}{2} + \frac{(x - 2)^2}{4}$$ </li>
<li>Minimize the following expression: $$4 \left[ r^{-12} - r^{-6}\right]$$</li>
<li>Solve the following system of equations:
$$ 3 x^2 - 2 y^2 = 4$$
$$ x ^ 3 - 4 y = -2$$</li>
<li>$\xi$ is a fraction between 0 and 1. Maximize the following expression
$$ -\xi \ln \xi$$</li>
</ol>

</div>
</div>
</div>
<div class="cell border-box-sizing text_cell rendered">
<div class="prompt input_prompt">
</div>
<div class="inner_cell">
<div class="text_cell_render border-box-sizing rendered_html">
<h1 id="2.-Box-Folding-(5-Points)">2. Box Folding (5 Points)<a class="anchor-link" href="#2.-Box-Folding-(5-Points)">&#182;</a></h1>
</div>
</div>
</div>
<div class="cell border-box-sizing text_cell rendered">
<div class="prompt input_prompt">
</div>
<div class="inner_cell">
<div class="text_cell_render border-box-sizing rendered_html">
<p>Your primary grade teacher gives you a piece of cardboard that has dimensions: 4 cm by 3 cm. You are supposed to cut the corners as shown below and fold up the corners to make an open box. Determine the height of the box that gives a maximum volume. See the picture below of the box</p>

</div>
</div>
</div>
<div class="cell border-box-sizing code_cell rendered">
<div class="input">
<div class="prompt input_prompt">In&nbsp;[1]:</div>
<div class="inner_cell">
    <div class="input_area">
<div class=" highlight hl-ipython3"><pre><span></span><span class="kn">from</span> <span class="nn">IPython.display</span> <span class="k">import</span> <span class="n">Image</span>
<span class="n">Image</span><span class="p">(</span><span class="n">url</span><span class="o">=</span><span class="s2">&quot;data:image/png;base64,iVBORw0KGgoAAAANSUhEUgAAAQIAAADDCAMAAABeUu/HAAAAA3NCSVQICAjb4U/gAAAAflBMVEX/</span><span class="se">\</span>
<span class="s2">//9sbGylpaXW1tbZ2dmhoaEAAAD5+fn19fXk5OT8/PzQ0NDy8vLc3NzKysrs7Oy0tLS9vb2KiorF</span><span class="se">\</span>
<span class="s2">xcW4uLg9PT14eHiZmZmurq5UVFQ2NjYiIiJxcXEpKSlZWVmSkpJ/f39kZGQwMDAcHBxYWFhISEhL</span><span class="se">\</span>
<span class="s2">S0t8fHxBQUETExNOLLFOAAAACXBIWXMAAA+IAAAPiAEWyKWGAAAF80lEQVR4nO2di3ajKhSG/0SD</span><span class="se">\</span>
<span class="s2">4o0Y02jubabttO//ggd6mZ5LdTwwIOr+V1aWWUZLv2xgw4YtQCJ5qOT+aegiDK2QzR1Bsru+DF2G</span><span class="se">\</span>
<span class="s2">gbXY1ndDl2FYBQzXmSO4r2aP4CWaO4L9Ig93hzAauhwDas/elA9djgEVRRE2864ISjNvC5Tq/dAl</span><span class="se">\</span>
<span class="s2">IJFIJBKJRCKRSCRSp6Jg0uozOxNelhNWc+iDYGlqR17r1OM74Urv3pXbOVCuOd+46PEdXQQ80btO</span><span class="se">\</span>
<span class="s2">U1mmd51NBCORTQSrWO86TaWF3nVkBYSAKgLICmAXgWYnpatI0w2xiWDt1jXKA73rqCJYRRC4tQLB</span><span class="se">\</span>
<span class="s2">9a6zisCtgyyE3nVUEawiaNxWhNDD5tCtZ+RlpzgSkYNMVkAIYBfB8qMiVIU00bJK9e7SpbyqMgRV</span><span class="se">\</span>
<span class="s2">+eaABJp/wIUV1KwCNiw0u8t34myRyLed0U2cTJ9ezzHsrCfNWInF9ePYQ++w+Oyoc7ZsNP2W3yhZ</span><span class="se">\</span>
<span class="s2">MFF/HHMPxwhf4vLHsqR9n0hIp2wi+AqlrB7PdqwA/Hz6ZOBjKEV8tgXNAQ922oKYFSn7bAs8DqUk</span><span class="se">\</span>
<span class="s2">e8nisjG7yfday4agOpjN0LlwkJ+YtNUDq7u/raMte+VYsh9vNY4cZG0RAhopkhVgWqEUTaOziWBL</span><span class="se">\</span>
<span class="s2">oZSRyCaC1PFaIw+HSSGFUkaiCYVSfJw4c7z1OtGsd1QRyEEmK4BdBG77RG25CKU4ko89wkhkE0Hu</span><span class="se">\</span>
<span class="s2">eCW6h95hQWOEkcgmgtLxfIFm3NZJKMWNYo9DKZ6rJ4IyxxXYIF4pP7QR8lC++BpViDqRh1GNoMKa</span><span class="se">\</span>
<span class="s2">v58QDYqUHOTRiBBMCUFaRAIiRi47ByRcuUo8ev8UyxPZdycijvixx71HgkB2QQECgVJ2x4gK5SoV</span><span class="se">\</span>
<span class="s2">8funLEAoUKnDpFILEdLs40QK3ifLaCuChEu2kXobs4w27GYvLIU42FhL5lBmbUFyWCJkmsMTX2TY</span><span class="se">\</span>
<span class="s2">HNYsX2mOTryRaY9wfRq5DZgj2Oyfx56m1BDB9Qls7PkZzRBEzyqDue+NQRzmAlketvTdRgiyO1ap</span><span class="se">\</span>
<span class="s2">TtHSsso/JVlCDn48tvxURggSoVwjIRxvQvr/Yg2qY9vJCY0ROrRhom51YeeBQHZc7U78TBAsHi6t</span><span class="se">\</span>
<span class="s2">s3jzQPBwilnrmHgWCMRFPXahzY2dAwL+ygqJoG07wBwQJCrVvHxraQ3mgOA3Wqhcfsfu6bPpI9jd</span><span class="se">\</span>
<span class="s2">1+yxa+5r8ghUKr+w082fPII8BaofXRMfk0cARaBzoDMDBPzSvet3BgjUTq8uBrNAgIZ1fGceCNaz</span><span class="se">\</span>
<span class="s2">RpCopnDVta168ghSVqGZd6cYLdil6oyHTB7B70UICAEhACEAIcD4EYjVMkC+bFsIMQcEyekcI757</span><span class="se">\</span>
<span class="s2">aFkFMAcEAFugubSdnAeCLeMbO9EkwdgaOVMpzDxXw9onhcysQNwK8FcLKez+sKLb6mgrsrxjeeO/</span><span class="se">\</span>
<span class="s2">DeC8xY/W6QDTtuC0898GUOzVUpO2n8oUQcOsZK36o8oPhxLF3a0lUGCIYH1MDBMuDi9DBPuoe9px</span><span class="se">\</span>
<span class="s2">DDJCEKn8dfHe+1V33TJDUBU5RFXMGME0RAj6IhARpLVzJELtiPz8FAlk8fuhfP3nhOOtmlmm/mLP</span><span class="se">\</span>
<span class="s2">gv3tRE8EqcBWdoGy9qudPVUmD+UrKxBwlIk8TErwAMXXiZAP8Bi5z4KJ9B8FC/9VsDJSn7ZqL5P8</span><span class="se">\</span>
<span class="s2">x6gi0Ob9aT1M0MMUDiMRpXMhKyAEoARfICsAPTcJk0r56OPTs0YiepIePU+RKgLo2aqYVlp4DzvF</span><span class="se">\</span>
<span class="s2">kYgcZLICQgCqCCArwLSmTz3Meuk+lKIlFxVhf/uJ5Pls4QFi69sTx+p2Z8TahRXEL1tg96B3k27V</span><span class="se">\</span>
<span class="s2">lwTBx/oGH63gV1tQszJqXfxppIw94+FjkOxjW/ClzclCLXhTeGxMF3i48QsiZvz4zzZdfiXo8Nov</span><span class="se">\</span>
<span class="s2">EKx4blsHbqj7S2q61MkJgusalZ0sYNke2YthQ+uiIpQqM2jNLEwfxOd7ZWPv5fO5IqyWDZJ6uTW7</span><span class="se">\</span>
<span class="s2">y3cqViuBcll76xdQKMX13CGFUrQ1pVCKh3EEQjAWUXNInSJVBNAMMsgKQAhAFQFkBaBQCiiUAqoI</span><span class="se">\</span>
<span class="s2">ICsAtQXoiWCpd++RqE+IIz+cFtPV6fYXvytASAA4qaEAAAAASUVORK5CYII=&quot;</span><span class="p">)</span>
</pre></div>

</div>
</div>
</div>

<div class="output_wrapper">
<div class="output">


<div class="output_area">
<div class="prompt output_prompt">Out[1]:</div>


<div class="output_html rendered_html output_subarea output_execute_result">
<img src="data:image/png;base64,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"/>
</div>

</div>

</div>
</div>

</div>
<div class="cell border-box-sizing text_cell rendered">
<div class="prompt input_prompt">
</div>
<div class="inner_cell">
<div class="text_cell_render border-box-sizing rendered_html">
<h1 id="3.-Fitting-a-Line-(3-Points)">3. Fitting a Line (3 Points)<a class="anchor-link" href="#3.-Fitting-a-Line-(3-Points)">&#182;</a></h1><p>Find a best fit line to the data below and plot the data along with the best fit line.</p>

</div>
</div>
</div>
<div class="cell border-box-sizing code_cell rendered">
<div class="input">
<div class="prompt input_prompt">In&nbsp;[9]:</div>
<div class="inner_cell">
    <div class="input_area">
<div class=" highlight hl-ipython3"><pre><span></span><span class="n">data_3_x</span> <span class="o">=</span> <span class="p">[</span><span class="mf">0.0</span><span class="p">,</span> <span class="mf">0.1</span><span class="p">,</span>  <span class="mf">0.2</span><span class="p">,</span>  <span class="mf">0.3</span><span class="p">,</span>  <span class="mf">0.4</span><span class="p">,</span>  <span class="mf">0.5</span><span class="p">,</span>  <span class="mf">0.6</span><span class="p">,</span>  <span class="mf">0.7</span><span class="p">,</span>  <span class="mf">0.8</span><span class="p">,</span>  <span class="mf">0.9</span><span class="p">,</span>  <span class="mf">1.0</span><span class="p">,</span>  <span class="mf">1.1</span><span class="p">,</span>  <span class="mf">1.2</span><span class="p">,</span>  <span class="mf">1.3</span><span class="p">,</span>  <span class="mf">1.4</span><span class="p">,</span>  <span class="mf">1.5</span><span class="p">,</span>  <span class="mf">1.6</span><span class="p">,</span>  <span class="mf">1.7</span><span class="p">,</span>  <span class="mf">1.8</span><span class="p">,</span>  <span class="mf">1.9</span><span class="p">,</span>  <span class="mf">2.0</span><span class="p">,</span>  <span class="mf">2.1</span><span class="p">,</span>  <span class="mf">2.2</span><span class="p">,</span>  <span class="mf">2.3</span><span class="p">,</span>  <span class="mf">2.4</span><span class="p">,</span>  <span class="mf">2.5</span><span class="p">,</span>  <span class="mf">2.6</span><span class="p">,</span>  <span class="mf">2.7</span><span class="p">,</span>  <span class="mf">2.8</span><span class="p">,</span>  <span class="mf">2.9</span><span class="p">,</span>  <span class="mf">3.0</span><span class="p">,</span>  <span class="mf">3.1</span><span class="p">,</span>  <span class="mf">3.2</span><span class="p">,</span>  <span class="mf">3.3</span><span class="p">,</span>  <span class="mf">3.4</span><span class="p">,</span>  <span class="mf">3.5</span><span class="p">,</span>  <span class="mf">3.6</span><span class="p">,</span>  <span class="mf">3.7</span><span class="p">,</span>  <span class="mf">3.8</span><span class="p">,</span>  <span class="mf">3.9</span><span class="p">,</span>  <span class="mf">4.0</span><span class="p">,</span>  <span class="mf">4.1</span><span class="p">,</span>  <span class="mf">4.2</span><span class="p">,</span>  <span class="mf">4.3</span><span class="p">,</span>  <span class="mf">4.4</span><span class="p">,</span>  <span class="mf">4.5</span><span class="p">,</span>  <span class="mf">4.6</span><span class="p">,</span>  <span class="mf">4.7</span><span class="p">,</span>  <span class="mf">4.8</span><span class="p">,</span>  <span class="mf">4.9</span><span class="p">,</span>  <span class="mf">5.0</span><span class="p">,</span>  <span class="mf">5.1</span><span class="p">,</span>  <span class="mf">5.2</span><span class="p">,</span>  <span class="mf">5.3</span><span class="p">,</span>  <span class="mf">5.4</span><span class="p">,</span>  <span class="mf">5.5</span><span class="p">,</span>  <span class="mf">5.6</span><span class="p">,</span>  <span class="mf">5.7</span><span class="p">,</span>  <span class="mf">5.8</span><span class="p">,</span>  <span class="mf">5.9</span><span class="p">,</span>  <span class="mf">6.0</span><span class="p">,</span>  <span class="mf">6.1</span><span class="p">,</span>  <span class="mf">6.2</span><span class="p">,</span>  <span class="mf">6.3</span><span class="p">,</span>  <span class="mf">6.4</span><span class="p">,</span>  <span class="mf">6.5</span><span class="p">,</span>  <span class="mf">6.6</span><span class="p">,</span>  <span class="mf">6.7</span><span class="p">,</span>  <span class="mf">6.8</span><span class="p">,</span>  <span class="mf">6.9</span><span class="p">,</span>  <span class="mf">7.0</span><span class="p">,</span>  <span class="mf">7.1</span><span class="p">,</span>  <span class="mf">7.2</span><span class="p">,</span>  <span class="mf">7.3</span><span class="p">,</span>  <span class="mf">7.4</span><span class="p">,</span>  <span class="mf">7.5</span><span class="p">,</span>  <span class="mf">7.6</span><span class="p">,</span>  <span class="mf">7.7</span><span class="p">,</span>  <span class="mf">7.8</span><span class="p">,</span>  <span class="mf">7.9</span><span class="p">,</span>  <span class="mf">8.0</span><span class="p">,</span>  <span class="mf">8.1</span><span class="p">,</span>  <span class="mf">8.2</span><span class="p">,</span>  <span class="mf">8.3</span><span class="p">,</span>  <span class="mf">8.4</span><span class="p">,</span>  <span class="mf">8.5</span><span class="p">,</span>  <span class="mf">8.6</span><span class="p">,</span>  <span class="mf">8.7</span><span class="p">,</span>  <span class="mf">8.8</span><span class="p">,</span>  <span class="mf">8.9</span><span class="p">,</span>  <span class="mf">9.0</span><span class="p">,</span>  <span class="mf">9.1</span><span class="p">,</span>  <span class="mf">9.2</span><span class="p">,</span>  <span class="mf">9.3</span><span class="p">,</span>  <span class="mf">9.4</span><span class="p">,</span>  <span class="mf">9.5</span><span class="p">,</span>  <span class="mf">9.6</span><span class="p">,</span>  <span class="mf">9.7</span><span class="p">,</span>  <span class="mf">9.8</span><span class="p">,</span>  <span class="mf">9.9</span><span class="p">]</span>
<span class="n">data_3_y</span> <span class="o">=</span> <span class="p">[</span><span class="mf">0.05</span><span class="p">,</span> <span class="mf">0.45</span><span class="p">,</span>  <span class="mf">0.18</span><span class="p">,</span>  <span class="o">-</span><span class="mf">0.15</span><span class="p">,</span>  <span class="o">-</span><span class="mf">0.14</span><span class="p">,</span>  <span class="o">-</span><span class="mf">0.38</span><span class="p">,</span>  <span class="o">-</span><span class="mf">0.88</span><span class="p">,</span>  <span class="o">-</span><span class="mf">0.42</span><span class="p">,</span>  <span class="o">-</span><span class="mf">0.99</span><span class="p">,</span>  <span class="o">-</span><span class="mf">0.92</span><span class="p">,</span>  <span class="o">-</span><span class="mf">1.53</span><span class="p">,</span>  <span class="o">-</span><span class="mf">1.94</span><span class="p">,</span>  <span class="o">-</span><span class="mf">1.75</span><span class="p">,</span>  <span class="o">-</span><span class="mf">2.37</span><span class="p">,</span>  <span class="o">-</span><span class="mf">2.09</span><span class="p">,</span>  <span class="o">-</span><span class="mf">2.99</span><span class="p">,</span>  <span class="o">-</span><span class="mf">3.04</span><span class="p">,</span>  <span class="o">-</span><span class="mf">2.85</span><span class="p">,</span>  <span class="o">-</span><span class="mf">2.66</span><span class="p">,</span>  <span class="o">-</span><span class="mf">3.03</span><span class="p">,</span>  <span class="o">-</span><span class="mf">3.39</span><span class="p">,</span>  <span class="o">-</span><span class="mf">3.36</span><span class="p">,</span>  <span class="o">-</span><span class="mf">3.7</span><span class="p">,</span>  <span class="o">-</span><span class="mf">4.41</span><span class="p">,</span>  <span class="o">-</span><span class="mf">4.7</span><span class="p">,</span>  <span class="o">-</span><span class="mf">4.51</span><span class="p">,</span>  <span class="o">-</span><span class="mf">4.29</span><span class="p">,</span>  <span class="o">-</span><span class="mf">5.39</span><span class="p">,</span>  <span class="o">-</span><span class="mf">4.81</span><span class="p">,</span>  <span class="o">-</span><span class="mf">5.63</span><span class="p">,</span>  <span class="o">-</span><span class="mf">5.01</span><span class="p">,</span>  <span class="o">-</span><span class="mf">5.79</span><span class="p">,</span>  <span class="o">-</span><span class="mf">6.03</span><span class="p">,</span>  <span class="o">-</span><span class="mf">6.04</span><span class="p">,</span>  <span class="o">-</span><span class="mf">6.35</span><span class="p">,</span>  <span class="o">-</span><span class="mf">6.82</span><span class="p">,</span>  <span class="o">-</span><span class="mf">6.48</span><span class="p">,</span>  <span class="o">-</span><span class="mf">6.6</span><span class="p">,</span>  <span class="o">-</span><span class="mf">6.69</span><span class="p">,</span>  <span class="o">-</span><span class="mf">7.05</span><span class="p">,</span>  <span class="o">-</span><span class="mf">7.4</span><span class="p">,</span>  <span class="o">-</span><span class="mf">8.07</span><span class="p">,</span>  <span class="o">-</span><span class="mf">7.81</span><span class="p">,</span>  <span class="o">-</span><span class="mf">7.97</span><span class="p">,</span>  <span class="o">-</span><span class="mf">8.08</span><span class="p">,</span>  <span class="o">-</span><span class="mf">8.29</span><span class="p">,</span>  <span class="o">-</span><span class="mf">8.99</span><span class="p">,</span>  <span class="o">-</span><span class="mf">9.17</span><span class="p">,</span>  <span class="o">-</span><span class="mf">9.38</span><span class="p">,</span>  <span class="o">-</span><span class="mf">9.1</span><span class="p">,</span>  <span class="o">-</span><span class="mf">9.62</span><span class="p">,</span>  <span class="o">-</span><span class="mf">9.85</span><span class="p">,</span>  <span class="o">-</span><span class="mf">9.99</span><span class="p">,</span>  <span class="o">-</span><span class="mf">9.64</span><span class="p">,</span>  <span class="o">-</span><span class="mf">10.78</span><span class="p">,</span>  <span class="o">-</span><span class="mf">10.76</span><span class="p">,</span>  <span class="o">-</span><span class="mf">10.84</span><span class="p">,</span>  <span class="o">-</span><span class="mf">11.1</span><span class="p">,</span>  <span class="o">-</span><span class="mf">11.03</span><span class="p">,</span>  <span class="o">-</span><span class="mf">11.48</span><span class="p">,</span>  <span class="o">-</span><span class="mf">11.47</span><span class="p">,</span>  <span class="o">-</span><span class="mf">11.4</span><span class="p">,</span>  <span class="o">-</span><span class="mf">11.58</span><span class="p">,</span>  <span class="o">-</span><span class="mf">11.77</span><span class="p">,</span>  <span class="o">-</span><span class="mf">11.97</span><span class="p">,</span>  <span class="o">-</span><span class="mf">12.1</span><span class="p">,</span>  <span class="o">-</span><span class="mf">12.65</span><span class="p">,</span>  <span class="o">-</span><span class="mf">12.52</span><span class="p">,</span>  <span class="o">-</span><span class="mf">12.79</span><span class="p">,</span>  <span class="o">-</span><span class="mf">13.21</span><span class="p">,</span>  <span class="o">-</span><span class="mf">13.24</span><span class="p">,</span>  <span class="o">-</span><span class="mf">13.85</span><span class="p">,</span>  <span class="o">-</span><span class="mf">13.5</span><span class="p">,</span>  <span class="o">-</span><span class="mf">13.9</span><span class="p">,</span>  <span class="o">-</span><span class="mf">14.66</span><span class="p">,</span>  <span class="o">-</span><span class="mf">14.44</span><span class="p">,</span>  <span class="o">-</span><span class="mf">14.65</span><span class="p">,</span>  <span class="o">-</span><span class="mf">14.72</span><span class="p">,</span>  <span class="o">-</span><span class="mf">14.7</span><span class="p">,</span>  <span class="o">-</span><span class="mf">14.87</span><span class="p">,</span>  <span class="o">-</span><span class="mf">15.47</span><span class="p">,</span>  <span class="o">-</span><span class="mf">15.21</span><span class="p">,</span>  <span class="o">-</span><span class="mf">15.82</span><span class="p">,</span>  <span class="o">-</span><span class="mf">16.37</span><span class="p">,</span>  <span class="o">-</span><span class="mf">16.42</span><span class="p">,</span>  <span class="o">-</span><span class="mf">16.67</span><span class="p">,</span>  <span class="o">-</span><span class="mf">16.52</span><span class="p">,</span>  <span class="o">-</span><span class="mf">16.62</span><span class="p">,</span>  <span class="o">-</span><span class="mf">17.39</span><span class="p">,</span>  <span class="o">-</span><span class="mf">16.94</span><span class="p">,</span>  <span class="o">-</span><span class="mf">17.48</span><span class="p">,</span>  <span class="o">-</span><span class="mf">18.17</span><span class="p">,</span>  <span class="o">-</span><span class="mf">18.31</span><span class="p">,</span>  <span class="o">-</span><span class="mf">17.75</span><span class="p">,</span>  <span class="o">-</span><span class="mf">17.86</span><span class="p">,</span>  <span class="o">-</span><span class="mf">18.6</span><span class="p">,</span>  <span class="o">-</span><span class="mf">18.43</span><span class="p">,</span>  <span class="o">-</span><span class="mf">19.04</span><span class="p">,</span>  <span class="o">-</span><span class="mf">19.1</span><span class="p">,</span>  <span class="o">-</span><span class="mf">18.83</span><span class="p">]</span>
</pre></div>

</div>
</div>
</div>

</div>
<div class="cell border-box-sizing text_cell rendered">
<div class="prompt input_prompt">
</div>
<div class="inner_cell">
<div class="text_cell_render border-box-sizing rendered_html">
<h1 id="4.-Fitting-a-Binomial-Distribution-to-Data-(2-Points)">4. Fitting a Binomial Distribution to Data (2 Points)<a class="anchor-link" href="#4.-Fitting-a-Binomial-Distribution-to-Data-(2-Points)">&#182;</a></h1><p>In the following cell there is a function which takes in data, a known trial number, and a proposed success probability. It then returns how well the binomial distribution fits the data. Complete the program so that it finds the optimal success probability</p>

</div>
</div>
</div>
<div class="cell border-box-sizing code_cell rendered">
<div class="input">
<div class="prompt input_prompt">In&nbsp;[1]:</div>
<div class="inner_cell">
    <div class="input_area">
<div class=" highlight hl-ipython3"><pre><span></span><span class="kn">from</span> <span class="nn">scipy.misc</span> <span class="k">import</span> <span class="n">comb</span>
<span class="kn">import</span> <span class="nn">numpy</span> <span class="k">as</span> <span class="nn">np</span>

<span class="n">bin_data</span> <span class="o">=</span> <span class="p">[</span><span class="mi">4</span><span class="p">,</span> <span class="mi">3</span><span class="p">,</span>  <span class="mi">6</span><span class="p">,</span>  <span class="mi">1</span><span class="p">,</span>  <span class="mi">2</span><span class="p">,</span>  <span class="mi">1</span><span class="p">,</span>  <span class="mi">1</span><span class="p">,</span>  <span class="mi">1</span><span class="p">,</span>  <span class="mi">3</span><span class="p">,</span>  <span class="mi">0</span><span class="p">,</span>  <span class="mi">4</span><span class="p">,</span>  <span class="mi">2</span><span class="p">,</span>  <span class="mi">4</span><span class="p">,</span>  <span class="mi">2</span><span class="p">,</span>  <span class="mi">2</span><span class="p">,</span>  <span class="mi">3</span><span class="p">,</span>  <span class="mi">2</span><span class="p">,</span>  <span class="mi">4</span><span class="p">,</span>  <span class="mi">4</span><span class="p">,</span>  <span class="mi">3</span><span class="p">]</span>
<span class="n">N</span> <span class="o">=</span> <span class="mi">20</span>

<span class="k">def</span> <span class="nf">bin_fit</span><span class="p">(</span><span class="n">p</span><span class="p">,</span> <span class="n">data</span><span class="p">,</span> <span class="n">N</span><span class="p">):</span>
    <span class="n">fit</span> <span class="o">=</span> <span class="mi">0</span>
    <span class="k">for</span> <span class="n">di</span> <span class="ow">in</span> <span class="n">data</span><span class="p">:</span>
        <span class="n">fit</span> <span class="o">+=</span> <span class="n">np</span><span class="o">.</span><span class="n">log</span><span class="p">(</span> <span class="n">comb</span><span class="p">(</span><span class="n">N</span><span class="p">,</span> <span class="n">di</span><span class="p">)</span> <span class="o">*</span> <span class="p">(</span><span class="mi">1</span> <span class="o">-</span> <span class="n">p</span><span class="p">)</span><span class="o">**</span><span class="p">(</span><span class="n">N</span> <span class="o">-</span> <span class="n">di</span><span class="p">)</span> <span class="o">*</span> <span class="n">p</span><span class="o">**</span><span class="n">di</span> <span class="p">)</span>
    <span class="k">return</span> <span class="n">fit</span>

<span class="c1">#Example of how to use</span>
<span class="nb">print</span> <span class="n">bin_fit</span><span class="p">(</span><span class="mf">0.8</span><span class="p">,</span> <span class="n">bin_data</span><span class="p">,</span> <span class="n">N</span><span class="p">)</span>
</pre></div>

</div>
</div>
</div>

<div class="output_wrapper">
<div class="output">


<div class="output_area">
<div class="prompt"></div>

<div class="output_subarea output_stream output_stdout output_text">
<pre>-452.321017887
</pre>
</div>
</div>

</div>
</div>

</div>
<div class="cell border-box-sizing text_cell rendered">
<div class="prompt input_prompt">
</div>
<div class="inner_cell">
<div class="text_cell_render border-box-sizing rendered_html">
<h1 id="5.-Solution-Reaction-(5-Points)">5. Solution Reaction (5 Points)<a class="anchor-link" href="#5.-Solution-Reaction-(5-Points)">&#182;</a></h1><p>The follow reaction occurs in water and is highly exothermic ($\Delta$H = $863.9$ BTU / lb-mol):</p>
$$\textrm{AB}\rightarrow \textrm{A}^+ + \textrm{B}^-$$<p>Its equilibrium constant has been shown to fit the following empirical relationship from 400 $^\circ{}$ R to 800 $^\circ{}$ R:</p>
$$ k = Ae^{\frac{-B}{RT}} + C\left(\frac{B}{RT} - 0.5\right)^2 $$<p>where $A = 10^{1} $ lb-mol / gal, $B = 500$ BTU, $C = 10^{-3}$ lb-mol / gal, $T$ is temperature and $R$ is the universal gas constant.</p>
<p>I add 1.5 lb-mol of AB to a 25.0 gal tank of water which is at 510.0 $^\circ{}$R. Assume that the heat capacity of the tank is well-apprximated by that of water, 17.89 BTU / (lb-mol $^\circ{}$ R) and that all reaction enthalpy goes to heating the solution. How much AB remains in lb-mol and what is the final temperature of the solution?</p>

</div>
</div>
</div>
<div class="cell border-box-sizing text_cell rendered">
<div class="prompt input_prompt">
</div>
<div class="inner_cell">
<div class="text_cell_render border-box-sizing rendered_html">
<h1 id="6.-2D-Minimization-(5-Points)">6. 2D Minimization (5 Points)<a class="anchor-link" href="#6.-2D-Minimization-(5-Points)">&#182;</a></h1><p>Subject to the constraint that $x$ and $y$ have opposite signs, find the $x$ and $y$ that minimize the following expression:</p>
$$f(x,y) = \cos(x + 1)\sin y + (x + 2)^2$$<p>where $x$ and $y$ are both between $-2\pi$ and $2\pi$. <em>Hint: The minimum function value is about -0.7</em></p>

</div>
</div>
</div>
<div class="cell border-box-sizing text_cell rendered">
<div class="prompt input_prompt">
</div>
<div class="inner_cell">
<div class="text_cell_render border-box-sizing rendered_html">
<h1 id="7.-Sample-Covariance-(3-Points)">7. Sample Covariance (3 Points)<a class="anchor-link" href="#7.-Sample-Covariance-(3-Points)">&#182;</a></h1><p>Use the data from Question 3. Compute its sample covariance and sample correlation using <code>numpy</code>. Compare its covariance and correlation with your answer from problem 3.</p>

</div>
</div>
</div>
<div class="cell border-box-sizing text_cell rendered">
<div class="prompt input_prompt">
</div>
<div class="inner_cell">
<div class="text_cell_render border-box-sizing rendered_html">
<h1 id="8.-Functions-of-Distributions-(1-Point)">8. Functions of Distributions (1 Point)<a class="anchor-link" href="#8.-Functions-of-Distributions-(1-Point)">&#182;</a></h1><p>The time between eruptions at a volcano is exponentially distributed with a rate of 1 eruption every 10 years. There is a nearby city. Each time the volcano erupts, everyone dies in the city except for 1 person. People gradually come back. If a volcano erupted at $t=0$, the population can be modeled by:
$$N(t) = e^{0.9t}$$</p>
<p>Write down $P(N)$ in markdown using equiations from Unit 8. You must only set-up the integral that finds $P(N)$. Do not evaluate the integral.</p>

</div>
</div>
</div>
<div class="cell border-box-sizing code_cell rendered">
<div class="input">
<div class="prompt input_prompt">In&nbsp;[&nbsp;]:</div>
<div class="inner_cell">
    <div class="input_area">
<div class=" highlight hl-ipython3"><pre><span></span> 
</pre></div>

</div>
</div>
</div>

</div>
 


    </div>
  </div>

  </div>


  
    <footer class="footer hidden-print">
      <div class="container">
        <div class="col-md-4">
          <p>
            This website does not host notebooks, it only renders notebooks
            available on other websites.
          </p>
        </div>

        <div class="col-md-4">
          <p>
            Delivered by <a href="http://www.fastly.com/">Fastly</a>,
            Rendered by <a href="https://developer.rackspace.com/?nbviewer=awesome">Rackspace</a>
          </p>
          <p>
            nbviewer GitHub <a href="https://github.com/jupyter/nbviewer">repository</a>.
          </p>
        </div>

        <div class="col-md-4">
          
  
            
              <p>
                nbviewer version:
                <a href="https://github.com/jupyter/nbviewer/commit/4f5d1d8a2539c1c8dc92873d3a775d34f0a3d417">
                  4f5d1d8
                </a>
              </p>
            
          
  
  <p>
    nbconvert version: <a href="https://github.com/jupyter/nbconvert/releases/tag/5.1.1">
      5.1.1
    </a>
  </p>
  

          
  
  
  <p>
    Rendered
    <span class='date' data-date='Thu, 30 Mar 2017 15:55:44 UTC' title='Thu, 30 Mar 2017 15:55:44 UTC'>(Thu, 30 Mar 2017 15:55:44 UTC)</span>
  </p>
  

        </div>
      </div>
    </footer>
  

  <script src="https://unpkg.com/jupyter-js-widgets@2.0.*/dist/embed.js"></script>
  <script src="/static/components/bootstrap/js/bootstrap.min.js?v=5869c96cc8f19086aee625d670d741f9"></script>
  <script src="/static/components/headroom.js/dist/headroom.min.js?v=b0a311ea668f8e768ea375f4a7abb81c"></script>
  <script src="/static/components/headroom.js/dist/jQuery.headroom.min.js?v=f3a1bae118315d0c234afc74dc6aab71"></script>

  
  
  <script>
    $(function(){ $("#menubar").headroom({
      tolerance: 5,
      offset: 205,
      classes: {
        initial: "animated",
        pinned: "slideInDown",
        unpinned: "slideOutUp"
      }
    })});
  </script>


  
  <script>
    (function(i,s,o,g,r,a,m){i['GoogleAnalyticsObject']=r;i[r]=i[r]||function(){
      (i[r].q=i[r].q||[]).push(arguments)},i[r].l=1*new Date();a=s.createElement(o),
      m=s.getElementsByTagName(o)[0];a.async=1;a.src=g;m.parentNode.insertBefore(a,m)
    })(window,document,'script','https://www.google-analytics.com/analytics.js','ga');
    ga('create', 'UA-52617120-5', 'auto');
    ga('send', 'pageview');
  </script>
  
  <script>
    require({
        paths: {
          moment: "/static/components/moment/min/moment.min.js?v=89f87298ad94aa1e6b92f42eb66da043"
        }
      }, ["moment"], function(moment){
      var date = $("footer .date"),
        m = moment(new Date(date.data('date'))),
        update = function(){ date.text(m.fromNow()); };
      setInterval(update, 61*1000);
      update();
      var w = $(window).scroll(function(event){
        $("body").toggleClass("scrolled", w.scrollTop() > 0);
      });
    });
  </script>
  <!--NEW RELIC Stop Perf Measurement-->
  
  <!--NEW RELIC End-->
</body>
</html>