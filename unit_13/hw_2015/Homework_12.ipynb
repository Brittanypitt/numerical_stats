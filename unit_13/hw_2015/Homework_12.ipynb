{
 "metadata": {
  "name": "",
  "signature": "sha256:4c9e051d40b5f0ce16e8ae7ebc041ae259466cf97960e65094f1f59c8113b4fc"
 },
 "nbformat": 3,
 "nbformat_minor": 0,
 "worksheets": [
  {
   "cells": [
    {
     "cell_type": "markdown",
     "metadata": {},
     "source": [
      "Homework 12\n",
      "====\n",
      "####CHE 116: Numerical Methods and Statistics\n",
      "Prof. Andrew White\n",
      "\n",
      "Version 1.1 (4/9/2015)\n",
      "\n",
      "----"
     ]
    },
    {
     "cell_type": "markdown",
     "metadata": {},
     "source": [
      "1. Rearranging ODEs (4 Points)\n",
      "====\n",
      "Convert the following ODEs into standard form. If it is a second-order, make sure you specify both dimensions.\n",
      "\n",
      " 1. $\\frac{dx}{dt} - t = 2$\n",
      " \n",
      " 2. $\\frac{dx}{dt} = -rx$\n",
      " \n",
      " 3. $\\frac{d^2x}{dt^2} + k x = \\sin t$\n",
      " \n",
      " 4. $\\frac{d^2x}{dt^2} + b \\frac{dx}{dt} + k x = 0$"
     ]
    },
    {
     "cell_type": "markdown",
     "metadata": {},
     "source": [
      "2. Solve This ODE (6 Points)\n",
      "===\n",
      "\n",
      "Solve the tank problem from lecture:\n",
      "\n",
      "$$\\frac{dV}{dt} + k_1 \\sqrt{V} = k_2$$\n",
      "\n",
      "and use $k_1 = 1$, $k_2 = 4$. Plot the solution from $t=0$ to $t=25$ with the initial condition that $V_0 = 10$"
     ]
    },
    {
     "cell_type": "markdown",
     "metadata": {},
     "source": [
      "3. Solve This Other ODE (6 Points + 2 EC)\n",
      "===="
     ]
    },
    {
     "cell_type": "markdown",
     "metadata": {},
     "source": [
      "Solve a forced, dampened ODE governed by this equation:\n",
      "    \n",
      "$$\\frac{d^2x}{dt^2} + \\frac{1}{10}\\frac{dx}{dt} + k x = 5e^{-c / t}$$\n",
      "\n",
      "using $c=0.25$ and $k=2.5$. For 2 points extra credit, instead create an interactive widget. Use an initial condition of position 0.0 and velocity 1.0."
     ]
    },
    {
     "cell_type": "markdown",
     "metadata": {},
     "source": [
      "4. Linear Algebra (3 Points)\n",
      "===\n",
      "\n",
      "Given that:\n",
      "\n",
      "$$\\mathbf{A} = \\left[\\begin{array}{lcr}\n",
      "7 & 0 & 1\\\\\n",
      "1 & 3 & 4\\\\\n",
      "4 & 5 & 2\\\\\n",
      "\\end{array}\\right]$$\n",
      "\n",
      "$$\\mathbf{b} = \\left[\\begin{array}{lcr}\n",
      "4\\\\\n",
      "13\\\\\n",
      "-6\\\\\n",
      "\\end{array}\\right]$$\n",
      "\n",
      "Answer the following problems:\n",
      "\n",
      "1. What is $\\mathbf{A}\\mathbf{b}$?\n",
      "\n",
      "1. What is the largest eigenvector of $\\mathbf{A}$?\n",
      "\n",
      "2. Solve $\\mathbf{A}\\mathbf{x} = \\mathbf{b}$"
     ]
    },
    {
     "cell_type": "code",
     "collapsed": false,
     "input": [],
     "language": "python",
     "metadata": {},
     "outputs": []
    }
   ],
   "metadata": {}
  }
 ]
}