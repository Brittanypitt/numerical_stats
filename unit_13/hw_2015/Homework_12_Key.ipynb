








<!DOCTYPE html>
<html lang="en">

<head>
  <meta charset="utf-8">
  <title>Jupyter Notebook Viewer</title>
  <meta name="viewport" content="width=device-width, initial-scale=1.0">
  <meta name="description" content="">
  <meta name="author" content="">
  
  <meta name="robots" content="noindex,nofollow">
  

  <!--NEW RELIC Start Perf Measurement-->
  
  <!--NREND-->

  <!-- Le styles -->
  <script type="text/javascript">
//<![CDATA[
try{if (!window.CloudFlare) {var CloudFlare=[{verbose:0,p:0,byc:0,owlid:"cf",bag2:1,mirage2:0,oracle:0,paths:{cloudflare:"/cdn-cgi/nexp/dok3v=1613a3a185/"},atok:"376da8cb9918edf84801212417e68122",petok:"55440a273e99512bf3ddeb84b3cb59661a6b303d-1492949637-3600",zone:"jupyter.org",rocket:"0",apps:{"ga_key":{"ua":"UA-52617120-1","ga_bs":"2"}}}];!function(a,b){a=document.createElement("script"),b=document.getElementsByTagName("script")[0],a.async=!0,a.src="//ajax.cloudflare.com/cdn-cgi/nexp/dok3v=85b614c0f6/cloudflare.min.js",b.parentNode.insertBefore(a,b)}()}}catch(e){};
//]]>
</script>
<link href="/static/build/styles.css?v=c18d49652a516277e15114bbd447f1c1" rel="stylesheet">

  <!-- Le HTML5 shim, for IE6-8 support of HTML5 elements -->
  <!--[if lt IE 9]>
    <script src="http://html5shim.googlecode.com/svn/trunk/html5.js"></script>
  <![endif]-->

  <!-- Le fav and touch icons -->
  <link rel="shortcut icon" href="/static/ico/ipynb_icon_16x16.png">
  <link rel="apple-touch-icon-precomposed" sizes="144x144"
        href="/static/ico/apple-touch-icon-144-precomposed.png?v=5a3c9ede93e2a8b8ea9e3f8f3da1a905">
  <link rel="apple-touch-icon-precomposed" sizes="114x114"
        href="/static/ico/apple-touch-icon-114-precomposed.png?v=45d86fc8f24dc00638035e1dd7a6d898">
  <link rel="apple-touch-icon-precomposed" sizes="72x72"
        href="/static/ico/apple-touch-icon-72-precomposed.png?v=540b5eb0f3cfd25f1439d1c9bd30e15f">
  <link rel="apple-touch-icon-precomposed"
        href="/static/ico/apple-touch-icon-57-precomposed.png?v=225f0590e187e1458625654f10a28f56">
  
  

  

  
  <meta name="twitter:card" content="summary">
  <meta name="twitter:title" content="Notebook on nbviewer">
  <meta name="twitter:description" content="Check out this Jupyter notebook!">

  
  <meta name="twitter:domain" content="nbviewer.ipython.org">
  <meta name="twitter:image:src" content="http://ipython.org/ipython-doc/dev/_images/ipynb_icon_128x128.png">

  
    <link href="/static/build/notebook.css?v=d05748bef7d8f0edbc1e0133b9a41fe0" rel="stylesheet">
  

  

  
    <script src="https://cdn.mathjax.org/mathjax/latest/MathJax.js?config=TeX-AMS_HTML" type="text/javascript">
    </script>
    <script type="text/javascript">
      init_mathjax = function() {
        if (window.MathJax) {
          // MathJax loaded
          MathJax.Hub.Config({
            TeX: {
              equationNumbers: {
                autoNumber: "AMS",
                useLabelIds: true
              }
            },
            tex2jax: {
              inlineMath: [ ['$','$'], ["\\(","\\)"] ],
              displayMath: [ ['$$','$$'], ["\\[","\\]"] ],
              processEscapes: true,
              processEnvironments: true
            },
            displayAlign: 'center',
            "HTML-CSS": {
              styles: {'.MathJax_Display': {"margin": 0}},
              linebreaks: { automatic: true }
            }
          });
          MathJax.Hub.Queue(["Typeset", MathJax.Hub]);
        }
      }
      init_mathjax();
    </script>
  

<script type="text/javascript">
/* <![CDATA[ */
var _gaq = _gaq || [];
_gaq.push(['_setAccount', 'UA-52617120-1']);
_gaq.push(['_trackPageview']);

(function() {
var ga = document.createElement('script'); ga.type = 'text/javascript'; ga.async = true;
ga.src = ('https:' == document.location.protocol ? 'https://ssl' : 'http://www') + '.google-analytics.com/ga.js';
var s = document.getElementsByTagName('script')[0]; s.parentNode.insertBefore(ga, s);
})();

(function(b){(function(a){"__CF"in b&&"DJS"in b.__CF?b.__CF.DJS.push(a):"addEventListener"in b?b.addEventListener("load",a,!1):b.attachEvent("onload",a)})(function(){"FB"in b&&"Event"in FB&&"subscribe"in FB.Event&&(FB.Event.subscribe("edge.create",function(a){_gaq.push(["_trackSocial","facebook","like",a])}),FB.Event.subscribe("edge.remove",function(a){_gaq.push(["_trackSocial","facebook","unlike",a])}),FB.Event.subscribe("message.send",function(a){_gaq.push(["_trackSocial","facebook","send",a])}));"twttr"in b&&"events"in twttr&&"bind"in twttr.events&&twttr.events.bind("tweet",function(a){if(a){var b;if(a.target&&a.target.nodeName=="IFRAME")a:{if(a=a.target.src){a=a.split("#")[0].match(/[^?=&]+=([^&]*)?/g);b=0;for(var c;c=a[b];++b)if(c.indexOf("url")===0){b=unescape(c.split("=")[1]);break a}}b=void 0}_gaq.push(["_trackSocial","twitter","tweet",b])}})})})(window);
/* ]]> */
</script>
</head>

<body class="nbviewer">

  <!-- These are loaded at the top of the body so they are available to
       notebook cells when they are loaded below. -->
  <script src="/static/components/jquery/dist/jquery.min.js?v=e071abda8fe61194711cfc2ab99fe104"></script>
  <script src="/static/components/requirejs/require.js?v=6da8be361b9ee26c5e721e76c6d4afce"></script>
  <script src="/static/components/moment/min/moment.min.js?v=89f87298ad94aa1e6b92f42eb66da043"></script>

<!-- Navbar
================================================== -->
  <nav id="menubar" class="navbar navbar-default navbar-fixed-top" data-spy="affix">
    <div class="container">
      <div class="navbar-header">
        <button type="button" class="navbar-toggle collapsed" data-toggle="collapse" data-target=".navbar-collapse">
          <span class="sr-only">Toggle navigation</span>
          <i class="fa fa-bars"></i>
        </button>
        <a class="navbar-brand" href="/">
          <img src="/static/img/nav_logo.svg?v=479cefe8d932fb14a67b93911b97d70f" width="159"/>
        </a>
      </div>

      <div class="collapse navbar-collapse">
        <ul class="nav navbar-nav navbar-right">
          <li>
            <a class="active" href="http://jupyter.org">JUPYTER</a>
          </li>
          <li>
    <a href="/faq" title="FAQ" >
      
        <span>FAQ</span>
      
    </a>
  </li>

          
  
    
      
        <li>
    <a href="/format/script/url/thewhitelab.org/Classes/CHE116/Unit_12/Homework_12_Key.ipynb" title="View as Code" >
      <span class="fa fa-code fa-2x menu-icon"></span>
      <span class="menu-text">View as Code</span>
    </a>
  </li>
      
    
  
    
  

  

  

  <li>
    <a href="http://thewhitelab.org/Classes/CHE116/Unit_12/Homework_12_Key.ipynb" title="Download Notebook" download>
      <span class="fa fa-download fa-2x menu-icon"></span>
      <span class="menu-text">Download Notebook</span>
    </a>
  </li>

        </ul>
      </div><!-- /.navbar-collapse -->
      
      
    </div>
  </nav>

  <div class="container container-main">
    
  
  <div id="notebook">
    <div id="notebook-container">
      
<div class="cell border-box-sizing text_cell rendered">
<div class="prompt input_prompt">
</div>
<div class="inner_cell">
<div class="text_cell_render border-box-sizing rendered_html">
<h1 id="Homework-12">Homework 12<a class="anchor-link" href="#Homework-12">&#182;</a></h1><h4 id="CHE-116:-Numerical-Methods-and-Statistics">CHE 116: Numerical Methods and Statistics<a class="anchor-link" href="#CHE-116:-Numerical-Methods-and-Statistics">&#182;</a></h4><p>Prof. Andrew White</p>
<p>Version 1.0 (4/9/2015)</p>
<hr>

</div>
</div>
</div>
<div class="cell border-box-sizing code_cell rendered">
<div class="input">
<div class="prompt input_prompt">In&nbsp;[1]:</div>
<div class="inner_cell">
    <div class="input_area">
<div class=" highlight hl-ipython3"><pre><span></span><span class="o">%</span><span class="k">matplotlib</span> inline
<span class="kn">import</span> <span class="nn">random</span>
<span class="kn">import</span> <span class="nn">numpy</span> <span class="k">as</span> <span class="nn">np</span>
<span class="kn">import</span> <span class="nn">matplotlib.pyplot</span> <span class="k">as</span> <span class="nn">plt</span>
<span class="kn">from</span> <span class="nn">math</span> <span class="k">import</span> <span class="n">sqrt</span><span class="p">,</span> <span class="n">pi</span><span class="p">,</span> <span class="n">erf</span>
<span class="kn">import</span> <span class="nn">seaborn</span>
<span class="n">seaborn</span><span class="o">.</span><span class="n">set_context</span><span class="p">(</span><span class="s2">&quot;talk&quot;</span><span class="p">)</span>
<span class="n">seaborn</span><span class="o">.</span><span class="n">set_style</span><span class="p">(</span><span class="s2">&quot;whitegrid&quot;</span><span class="p">)</span>
<span class="kn">import</span> <span class="nn">scipy.stats</span>
</pre></div>

</div>
</div>
</div>

</div>
<div class="cell border-box-sizing text_cell rendered">
<div class="prompt input_prompt">
</div>
<div class="inner_cell">
<div class="text_cell_render border-box-sizing rendered_html">
<h1 id="1.-Rearranging-ODEs-(4-Points)">1. Rearranging ODEs (4 Points)<a class="anchor-link" href="#1.-Rearranging-ODEs-(4-Points)">&#182;</a></h1><p>Convert the following ODEs into standard form. If it is a second-order, make sure you specify both dimensions.</p>
<ol>
<li><p>$\frac{dx}{dt} - t = 2$</p>
</li>
<li><p>$\frac{dx}{dt} = -rx$</p>
</li>
<li><p>$\frac{d^2x}{dt^2} + k x = \sin t$</p>
</li>
<li><p>$\frac{d^2x}{dt^2} + b \frac{dx}{dt} + k x = 0$</p>
</li>
</ol>

</div>
</div>
</div>
<div class="cell border-box-sizing text_cell rendered">
<div class="prompt input_prompt">
</div>
<div class="inner_cell">
<div class="text_cell_render border-box-sizing rendered_html">
<h4 id="Answers">Answers<a class="anchor-link" href="#Answers">&#182;</a></h4><ol>
<li><p>$\frac{dx}{dt} = t + 2$</p>
</li>
<li><p>$\frac{dx}{dt} = -rx$</p>
</li>
<li><p>$\frac{d^2x}{dt^2} + k x = \sin t$</p>
<p>$\frac{dx_1}{dt} = x_2$</p>
<p>$\frac{dx_2}{dt} + kx_1  = \sin t$</p>
<p>$\frac{dx_2}{dt} = \sin t - kx_1$</p>
</li>
<li><p>$\frac{dx_1}{dt} = x_2$</p>
<p>$\frac{dx_2}{dt} =- b x_2 -k x_1$</p>
</li>
</ol>

</div>
</div>
</div>
<div class="cell border-box-sizing text_cell rendered">
<div class="prompt input_prompt">
</div>
<div class="inner_cell">
<div class="text_cell_render border-box-sizing rendered_html">
<h1 id="2.-Solve-This-ODE-(6-Points)">2. Solve This ODE (6 Points)<a class="anchor-link" href="#2.-Solve-This-ODE-(6-Points)">&#182;</a></h1><p>Solve the tank problem from lecture:</p>
$$\frac{dV}{dt} - k_1 \sqrt{V} = k_2$$<p>and use $k_1 = 1$, $k_2 = 4$. Plot the solution from $t=0$ to $t=10$ with the initial condition that $V_0 = 10$</p>

</div>
</div>
</div>
<div class="cell border-box-sizing code_cell rendered">
<div class="input">
<div class="prompt input_prompt">In&nbsp;[13]:</div>
<div class="inner_cell">
    <div class="input_area">
<div class=" highlight hl-ipython3"><pre><span></span><span class="k">def</span> <span class="nf">deriv_2</span><span class="p">(</span><span class="n">V</span><span class="p">,</span> <span class="n">t</span><span class="p">,</span> <span class="n">k_1</span><span class="o">=</span><span class="mi">1</span><span class="p">,</span> <span class="n">k_2</span><span class="o">=</span><span class="mi">4</span><span class="p">):</span>
    <span class="k">return</span> <span class="n">k_2</span> <span class="o">+</span> <span class="n">k_1</span> <span class="o">*</span> <span class="n">np</span><span class="o">.</span><span class="n">sqrt</span><span class="p">(</span><span class="n">V</span><span class="p">)</span>

<span class="n">vinit</span> <span class="o">=</span> <span class="mf">10.0</span>
<span class="n">t_points</span> <span class="o">=</span> <span class="n">np</span><span class="o">.</span><span class="n">linspace</span><span class="p">(</span><span class="mi">0</span><span class="p">,</span><span class="mi">25</span><span class="p">,</span><span class="mi">100</span><span class="p">)</span>
<span class="n">v_points</span> <span class="o">=</span> <span class="n">scipy</span><span class="o">.</span><span class="n">integrate</span><span class="o">.</span><span class="n">odeint</span><span class="p">(</span><span class="n">deriv_2</span><span class="p">,</span> <span class="n">vinit</span><span class="p">,</span> <span class="n">t_points</span><span class="p">)</span>

<span class="n">plt</span><span class="o">.</span><span class="n">plot</span><span class="p">(</span><span class="n">t_points</span><span class="p">,</span> <span class="n">v_points</span><span class="p">)</span>

<span class="n">plt</span><span class="o">.</span><span class="n">show</span><span class="p">()</span>
</pre></div>

</div>
</div>
</div>

<div class="output_wrapper">
<div class="output">


<div class="output_area">
<div class="prompt"></div>



<div class="output_png output_subarea ">
<img src="data:image/png;base64,iVBORw0KGgoAAAANSUhEUgAAAncAAAG4CAYAAAAnnMGeAAAABHNCSVQICAgIfAhkiAAAAAlwSFlz
AAALEgAACxIB0t1+/AAAIABJREFUeJzs3XeYlNXd//H3zJbZRoel94VD71XsBRVFRRE7ikhM1Dx5
Yokx/myPUZIYS0w0logFsGBHEAsCVnqTemDoHRYX2GV3Z3fK748ZcCWUWbbcs7Of13VxZecuM9/N
l2U/3vd9znGFQiFEREREJD64nS5ARERERMqPwp2IiIhIHFG4ExEREYkjCnciIiIicUThTkRERCSO
KNyJiIiIxJHEaA80xjQElgGjrLVTjTF9gLlAfonDHrPW/sUY4wIeB0ZHPuMN4E5rbbD8ShcRERGR
I0Ud7oBXgLrAoYnxegJTrbWXHOXY24EhQNfI6ynAXcATJ1mniIiIiEQhqtuyxphfA3nAlhKbewJL
j3HKDcDT1tpd1tpdwFjgpjLUKSIiIiJROOGVO2NMe+BOoD+wqMSunkCBMWY9kABMAu631hYBBlhZ
4tg1kW0iIiIiUoGOe+XOGHPoebk7rLU5R+zeDUwGOgNnAmcBj0T2pfPLZ/HyAbcxJrkcahYRERGR
YzjRlbsHgCXW2i9KbHMBWGsvLbFtgzHmccKDKO4jHOZSS+xPA/yRq3oiIiIiUkFOFO5GAI2NMVdF
XtcE3jbGPAZkAg9aa/Mi+1KBgsjXq4AOwPzI6yNv0x7XwoULQyc+SkRERCT+9e7d21Wa448b7qy1
HUu+NsZsIDwSdhrh5+iCxpg/Aq2APwEvRg6dANxjjJkB+AlfzRtfmsKysrLweDylOUVikM/nw+v1
qp9xQv2ML+pnfFE/48+hnpZWaaZCOcxaGzLGXAT8C8gmfBv2BWvts5FDngcaAvMAD+Fg91RpPsPj
8ZCSknIy5UkMUj/ji/oZX9TP+KJ+SqnCnbW2dYmv1wCDj3FckPDzeg+UqToRERERKRUtPyYiIiIS
RxTuREREROKIwp2IiIhIHFG4ExEREYkjCnciIiIicUThTkRERCSOKNyJiIiIxBGFOxEREZE4onAn
IiIiEkcU7kRERETiiMKdiIiISBxRuBMRERGJIwp3IiIiInFE4U5EREQkjijciYiIiMQRhTsRERGR
OKJwJyIiIhJHFO5EREREYszunHzen7nupM5VuBMRERGJIZt2HOCeZ7/h7enekzo/sZzrEREREZGT
tGZzDg+9NJu8gmJSPQkn9R66ciciIiISA5au3cP/e+F78gqKqZGWzEM39z2p91G4ExEREXHYnOU7
eOQ/cyjwBahbM4W/3D6Its1qndR76basiIiIiINmLtzCM28vJhgM0aheGo/eegqN6qVTWFh4Uu+n
cCciIiLikKnfreeFD5cB0LJRDf7v1lOoWzOlTO+pcCciIiJSyUKhEO9MX8PEz1YD0L5FbR4eM5Aa
acllfm+FOxEREZFKFAyGeOWT5Uz+Zj0A3bLqc/+ofqSlJJXL+yvciYiIiFSSQCDIP99dwlfztwAw
oEsj7rm+D8lJJzftydEo3ImIiIhUgqLiAE9MWMCc5TsBOKdvc357ZQ8SEsp38hKFOxEREZEKll9Y
zGOvzuNHbzYAl5zehtFDu+B2u8r9sxTuRERERCrQ/jwfj/xnDmu37APg+gs6MOLc9rhc5R/sQOFO
REREpMJk7yvgwZd+YMuuPABuHdaVi09tU6GfqXAnIiIiUgG27cnjgRd/YE9OAQluF/97TS/O7NWs
wj9X4U5ERESknHm37uPhl2ezP6+I5KQE7ruxL306NqyUz1a4ExERESlHy9Zl8+grcynw+UlPSeSB
0QPo3KZepX2+wp2IiIhIOZm7fAd/Hb+AYn+Q2jU8/N+vBtK6Sa1KrSHqcGeMaQgsA0ZZa6caY+oA
44CzgP3AI9bacSWOHwuMjnzGG8Cd1tpgeRYvIiIiEiumz9vMP99dQjAYomHdNP7v1oE0qZ9R6XWU
Zta8V4C6QCjy+mXgAJAJDAf+ZozpD2CMuQMYAnQFOgKDgLvKqWYRERGRmPLBTC//eGcxwWCIVo1r
8rffnuZIsIMow50x5tdAHrAl8joDuBR4yFpbZK2dD7wJjIyccgPwtLV2l7V2FzAWuKmcaxcRERFx
VCgU4rUpK3h1ygoAOraqy9jbBlG3ZopjNZ3wtqwxpj1wJ9AfWBTZ3A4ottZuLHHoGmDYodOAlUfs
M2UtVkRERCRWBAJBnntvKV/O2wxAn44NuXdkH1KSnR3ScNxPN8Ycel7uDmttjjGH81k6UHDE4flA
aon9+Ufscxtjkq21RdEU5vP5ojlMYtyhPqqf8UH9jC/qZ3xRPytXUXGAf0z6kXkrdwNwWo/G3HZ5
Fwj6KSz0l8tnnGwvTxQtHwCWWGu/MMYcWiPDRTisHXm9MY3wrVv4ZdA7tM8fbbAD8Hq90R4qVYD6
GV/Uz/iifsYX9bPiFRYFeeubbDbtDsea/iaDszq6satXOVxZ2InC3QigsTHmqsjrmsDbwF+BZGNM
c2vtlsi+krdiVwEdgPlH2ReVrKwsPB5PaU6RGOTz+fB6vepnnFA/44v6GV/Uz8qxL8/HY68tPBzs
rj43i8vPbFMh68Qe6mlpHTfcWWs7lnxtjNkA3G6t/dQY0wMYa4wZA3QBrgEujBw6AbjHGDMD8AP3
AeNLU5jH4yElxbmHEaV8qZ/xRf2ML+pnfFE/K87OvQd58KX57Nh7ELcLbhvenfMHtHK6rP9Slif+
xgAvAFsJ3469OzJqFuB5oCEwD/AQDnZPleGzRERERByzftt+Hnp5NvtyfSQlurn7ut6c0q2J02Ud
VanCnbW2dYmvc4CrjnFckPDzeg+UqToRERERhy1fl82j4+aSX+gn1ZPIAzf3p2tWfafLOiYtPyYi
IiJyDLOX7eCJCZHlxDI8PDxmAG2b1Xa6rONSuBMRERE5is/nbOT595YSDOHocmKlpXAnIiIiUkIo
FOKd6WuY+NlqANo0qcXDYwZQx8FVJ0pD4U5EREQkIhAM8fJHy5j6/QYAumXV5/5R/UhLSXK4sugp
3ImIiIgAxf4AT765iO+XbgdgULcm3HltL5KTEhyurHQU7kRERKTayy8s5rFX5/GjNxuAC09pxa3D
upHgLv/JiSuawp2IiIhUazkHCnn45Tms374fgGsHG64ebCpk1YnKoHAnIiIi1db2PXk8+NJsdv2U
j9sFv76iOxcObOV0WWWicCciIiLV0prNOTzynzkcOFhEUqKbe67vw8CujZ0uq8wU7kRERKTaWbR6
N2Nfn0dhUYD01CQeuLk/ndvUc7qscqFwJyIiItXKzIVb+MfbiwkEQ9SrlcIjYwbSsnFNp8sqNwp3
IiIiUi2EQiE+nOXl1SkrAWiWmcEjvxpIZp00hysrXwp3IiIiEveCwRCvTF7O5G/XA9CxVV3+3839
qZme7HBl5U/hTkREROJasT/AU28u4rvI5MT9Ozfinhv64KlikxNHS+FORERE4tbBgvDkxMvWhScn
Pn9AS35zeTcSEtwOV1ZxFO5EREQkLu3dX8DDL89h444DQNWfnDhaCnciIiISd7bsyuWhl2ezJ6cA
twtuG96d8we0crqsSqFwJyIiInFlxfq9/HncXPIKiklOSuAP1/emf5eqPzlxtBTuREREJG788ON2
/j5xIcX+IDXSknlwdH86tKrrdFmVSuFORERE4sLU79bz4kfLCIWgYd00HvnVQJo2yHC6rEqncCci
IiJVWigUYvy0Vbz71VoA2jarxUOjB1CnZorDlTlD4U5ERESqrGJ/kGcnLWbWwq0A9DKZ3DuyD2kp
SQ5X5hyFOxEREamSDhYUM/b1eSxdG57D7uw+zfntiB4kxvEcdtFQuBMREZEq58g57K46tz3XXdAh
7uewi4bCnYiIiFQpm3Ye4OGXZpO9vxC3C35zRXcuGNjK6bJihsKdiIiIVBnLvNk89upcDhb68SQn
8Icb+tCvUyOny4opCnciIiJSJXyzeCtPv7UYfyBIrYxkHhw9gPYt6jhdVsxRuBMREZGYFgqF+GCm
l9emrgSgcf10Hh4zgCb1q98cdtFQuBMREZGYFQiGePHDH5n2w0YATMs6PHBzf2pleJwtLIYp3ImI
iEhMKizy8/cJC5m7YicAA7o04q7repOSrPhyPPp/R0RERGLOvlwfj46bw5rN+wC4+NTW3HJpVxLc
murkRBTuREREJKZs25PHwy/PZufefABuHtqZy85oqznsoqRwJyIiIjFjxfq9PPbqXHLzi0lMcHPn
tb04rUdTp8uqUhTuREREJCZ8t3QbT725iGJ/kBppSdw/qj+d29RzuqwqJ6pwZ4wZATwCNAM2Afdb
az82xvQB5gL5JQ5/zFr7F2OMC3gcGB35nDeAO621wfL8BkRERKRqC4VCfDjLy6tTwlOdNKybxsNj
BtAss4bDlVVNJwx3xpj2wDjgXGvtHGPMOcBUY0xToCcw1Vp7yVFOvR0YAnSNvJ4C3AU8US6Vi4iI
SJUXCAR56aNlfBqZ6qR9i9o8cPMAatfQVCcny32iA6y1a4DMSLBLBBoBB4AiwuFu6TFOvQF42lq7
y1q7CxgL3FQuVYuIiEiVV+Dz8/hr8w8HuwFdGvHYbwYp2JVRVLdlrbX5xpjWwFrABfzaWptrjOkJ
FBhj1gMJwCTCt2yLAAOsLPE2ayLbREREpJr76UAh//fKHNZt3Q/A0NPaMPqSLprqpByUZkDFZsAD
nA5MNsZ4gd3ATOBFwlf03iX8bN59QDq/fBYvH3AbY5Ij4e+4fD5fKUqTWHWoj+pnfFA/44v6GV+q
Uj+37Mrj8TcWkr2vEJcLbrzQcNGgVhQX+Sh2urgYcrK9dIVCoVKfZIx5Ddhvrf3dEdsvBx631nYw
xuwn/Jze/Mi+LsAia23yid5/4cKFpS9KREREYt66nYVM+nYvvuIQiQkurjilLh2bpzpdVkzr3bt3
qS5nRjOgYgjwe2vteSU2ewCXMeZJ4CFrbV5keypQEPl6FdABmH/orfjlbdrjysrKwuPRPfeqzufz
4fV61c84oX7GF/UzvlSFfs5cuI03Z60gEAxRKz2Ze2/oSbvmtZ0uK2Yd6mlpRXNbdiHQxxhzPfAm
cAFwITAQmAyEjDF/BFoBfyJ8ixZgAnCPMWYG4Cd8q3Z8tIV5PB5SUlKiPVxinPoZX9TP+KJ+xpdY
7GcoFGLi56t558s1ADTLzOChWwbQqF66w5XFp2hGy+4ChgK/A3KAh4FLrbWrgIuAbkA28A3wjrX2
2cipzwMfA/OAFcC3wFPlXL+IiIjEsGJ/gCcnLjoc7Lq0rccTvz1Nwa4CRTta9jug71G2rwEGH+Oc
IPBA5I+IiIhUMwcOFvHYq3NZueEnAM7s3Yz/GdGDpMQEhyuLb1p+TERERMrd9uw8Hnl5DtuzDwJw
7WDD1YMNLpemOqloCnciIiJSrlas38tjr84jN7+IxAQXvx3Rk7P7NHe6rGpD4U5ERETKzdeLtvLM
24vxB4JkpCbxp1H96Nq2vtNlVSsKdyIiIlJmoVCId6avYeJnqwFoVC+Nh24ZQLPMGg5XVv0o3ImI
iEiZFPsD/OvdpcxYsAWAjq3qcv+oftTKiM359uKdwp2IiIictAMHi3j8tXmsWL8XgNN7NOV3V/ck
OUkjYp2icCciIiInZfuePB75z88jYq86rz3XDu6A260RsU5SuBMREZFSC4+InUtufnFkRGwPzu7T
wumyBIU7ERERKaUZCzbzz0lL8AdCGhEbgxTuREREJCrBYHiN2EnTw0uJNa6fzkO3DKBpgwyHK5OS
FO5ERETkhHzFAZ55axHfLd0OQOc29fjTTf2omZ7scGVyJIU7EREROa6c3EIeGzcPuzkHgLP7NOeO
K3uQlOh2uDI5GoU7EREROaaNOw7w6Ctz2J1TAMDIIR0ZfnY7rREbwxTuRERE5KgWrNrF38bPp8AX
IDnRzZ3X9mZQ9yZOlyUnoHAnIiIivxAKhfjk2/W8Mnk5wRDUruHhgZv7075FHadLkygo3ImIiMhh
/kCQlz5cxrTZGwFo3aQm/+/m/mTWSXO0Lomewp2IiIgAkFdQzF9fn8+StXsA6N+5EXdd15tUj+JC
VaJuiYiICNuz83j0lbls3Z0HwLAzs7jxok4kaCmxKkfhTkREpJpb5s1m7OvzyM0vJsHt4rbh3Rnc
v6XTZclJUrgTERGpxr6Yu4nn31tKIBiiRloSf7yxL92yGjhdlpSBwp2IiEg1FAiGeG3KCj76eh0A
TRtk8OAt/WlSX0uJVXUKdyIiItVMfmExT0xYyIJVuwDo0a4B947sQ0aalhKLBwp3IiIi1ciun/J5
9JU5bNqZC8CQU1ox5rKuJCZoKbF4oXAnIiJSTaxYv5fHX5vHgYNFuN0ufnVpFy46tY3TZUk5U7gT
ERGpBqbP28Rz7y3FHwiRnpLIH0b2pZfJdLosqQAKdyIiInHsyIETTeqn88Do/jTLrOFwZVJRFO5E
RETi1JEDJ7q3q8+9I/tSQwMn4prCnYiISBzakX2QR8fNZcsuDZyobhTuRERE4syP3j385fX55OYX
hwdOXNaViwa1drosqSQKdyIiInHk87mbeXXKagLBEBmpSfxxZF+6t9eKE9WJwp2IiEgc8AeCTJ2f
w/y1WwFolpnBA6O14kR1pHAnIiJSxR04WMTjry1kxfqDAPTukMk91/chPTXJ4crECQp3IiIiVdim
nQd4bNw8duwNB7uhp7Zi9KXdSHC7HK5MnKJwJyIiUkXNW7GTv09cQIEvQGKCi4v61ub6C42CXTUX
VbgzxowAHgGaAZuA+621Hxtj6gDjgLOA/cAj1tpxJc4bC4yOfM4bwJ3W2mD5fgsiIiLVSygU4r0Z
axk/bRWhENSu4eHua3vgz93mdGkSA0442Y0xpj3hADfKWlsD+B3wjjGmHvAycADIBIYDfzPG9I+c
dwcwBOgKdAQGAXdVxDchIiJSXRQW+fn7hIW88Wk42GU1q8XT/3sGpkVtp0uTGHHCcGetXQNkWmvn
GGMSgUaEA10RcCnwkLW2yFo7H3gTGBk59QbgaWvtLmvtLmAscFMFfA8iIiLVQva+Au577ju+WRK+
Qnd6j6aMvf1U6tdOdbgyiSVR3Za11uYbY1oDawEX8GsgCyi21m4scegaYFjkawOsPGKfKWvBIiIi
1dGqDT/x+Ovz2Jfrw+WCGy7syPCz2+Fy6fk6+aXSDKjYDHiA04HJwN+AgiOOyQcO/edDeuR1yX1u
Y0yytbbo5MoVERGpfr6Yu4l/v78UfyBEqieRu67tRf8ujZ0uS2JU1OHOWhuIfDnTGPM+0AdIOeKw
NCAv8nXJoHdonz/aYOfz+aItTWLYoT6qn/FB/Ywv6mfs8weCvDHNMm32ZgAa1k3l3ht60Twzg8LC
wl8cq37Gn5Pt5QnDnTFmCPB7a+15JTZ7gHXAEGNMc2vtlkOH8/Ot2FVAB2D+UfadkNfrjfZQqQLU
z/iifsYX9TM25fsCTPruJzbuCv+Cb9PIw/BBdTiwZxMr9hz7PPVTorlytxDoY4y5nvCAiQuAC4F+
QAtgrDFmDNAFuCayD2ACcI8xZgbgB+4DxkdbWFZWFh6PJ9rDJUb5fD68Xq/6GSfUz/iifsauTTtz
eX7CYnbnhIPd0FNbcd3gdiQkHHscpPoZfw71tLROGO6stbuMMUOBp4HnAAtcaq1dEwl1LwBbCd+O
vTsyahbgeaAhMI/wlb7xwFPRFubxeEhJOfKur1RV6md8UT/ji/oZW77/cTvPvLWIwqIASYlu7riy
O2f3aRH1+eqnRDta9jug71G25wBXHeOcIPBA5I+IiIgcRzAYYuLnq5k0fQ0AdWumcP+ofrRvUcfh
yqSq0fJjIiIiDjtYUMyTby5k/spdAHRoWYf7bupH3Zq6Aielp3AnIiLioK27c/nzuHls2xOebOL8
AS25dVhXkhITHK5MqiqFOxEREYfMW7mTJycuJL/QT4Lbxa+GdeXCga00MbGUicKdiIhIJQsGQ7z7
1Romfr6aUAhqZSTzx5F96dK2vtOlSRxQuBMREalE+YXFPPP2YmYv2wFAVrNa3HdTPzLrpDlcmcQL
hTsREZFKsn1PHn9+dR5bduUCcHaf5tw2vDueJD1fJ+VH4U5ERKQSLFi1i79PWMDBQj9ut4vRQzsz
9LQ2er5Oyp3CnYiISAUKBkO8O2MNEz8LP19XMz2Ze0f2oVtWA6dLkzilcCciIlJBjny+rk3TWtx/
Uz8y6+r5Oqk4CnciIiIVYOvuXB5/bR5bdoXnrzurdzNuv7KHnq+TCqdwJyIiUs7mLt/BU28tIj/y
fN0tl3Th4lNb6/k6qRQKdyIiIuUkGAzx9peWt76wQHj+untH9qWr5q+TSqRwJyIiUg7yCop5cuJC
FqwKrw/brnlt7ruxHw3qpDpcmVQ3CnciIiJltHHHAR5/dR479h4E4Lx+Lfj15d1I1vN14gCFOxER
kTL4ZvFWnp20BF9RgMQEF78a1o0LBrTU83XiGIU7ERGRkxAIBHlt6ko++nodAHVrpnDfTX3p0LKu
w5VJdadwJyIiUkr7cn38bfwClq3LBqBzm3rce0Mf6tRMcbgyEYU7ERGRUlm96Sf+8vp89u4vBGDo
aW24eWhnEhPcDlcmEqZwJyIiEoVQKMRnszfy0kfL8AdCJCclcMeV3Tmrd3OnSxP5BYU7ERGRE/AV
B/j3+0v5av4WABrXS+e+m/rSukkthysT+W8KdyIiIsex66d8Hn9tHuu37Qegb6eG3HltbzJSkxyu
TOToFO5ERESOYeHqXTw5cSG5+cW4XHDt+R0YcU573G5NcyKxS+FORETkCMFgiHe+tLz1pSUUgozU
JO66rjd9OjZ0ujSRE1K4ExERKSE3v4gnJy5k4erdALRtVos/juxLo3rpDlcmEh2FOxERkQjv1n2M
fX0+u3/KB7SMmFRNCnciIiLAl3M38e8PfqTYHyQp0c2tw7px/oCWTpclUmoKdyIiUq35igO8+MGP
fDlvMwCZdVK578Z+ZDWv7XBlIidH4U5ERKqtnXsPMva1+azfHp7mpFeHTO66tjc105Mdrkzk5Cnc
iYhItTR3+Q6efmsRBwv9muZE4orCnYiIVCuBQJCJn6/m3a/WAlAjLZm7r+9NL5PpcGUi5UPhTkRE
qo2cA4X8feJCfvRmA2Ba1OEPI/uQWSfN4cpEyo/CnYiIVAvL12XzxIQF/HTAB8BFg1oz+pIuJCW6
Ha5MpHwp3ImISFwLhUJ8OMvL65+uIhgMkZKcwB1X9uCMXs2cLk2kQijciYhI3MorKOaZtxYxd8VO
AJo3zOC+G/vRvGENhysTqTgKdyIiEpfWbd3HX96Yz8694dUmzujZjNuv7E6qR7/6JL6d8G+4MeZU
4EnAANnA36y1Lxlj+gBzgfwShz9mrf2LMcYFPA6MjnzGG8Cd1tpgeX8DIiIiJYVCIT6bs4mXP1pG
sT9IYoKbMZd14cKBrXC5NM2JxL/jhjtjTB1gMnCbtfZtY0xPYLoxZh3QBphqrb3kKKfeDgwBukZe
TwHuAp4ot8pFRESOUODz89y7S/l68VYgvNrEvSP70r5FHYcrE6k8Jxoi1AL4xFr7NoC1djEwEzgF
6AEsPcZ5NwBPW2t3WWt3AWOBm8qlYhERkaPYtPMAdz7z9eFg17dTQ56580wFO6l2jnvlzlq7FLjx
0OvIlbzTCN9mvRAoNMasBxKAScD91toiwrdwV5Z4qzWRbSIiIuVuxoItPP/+UnxFAdxuFzcO6chl
Z2RptQmplqJ+qtQYUwv4BFgQ+d/RhK/ivQg0At4FHgHuA9L55bN4+YDbGJMcCX8n5PP5oi1NYtih
Pqqf8UH9jC/x0E9fcYBxn6xixsJtANSp4eH3V3enY6s6FBVV3e/rZMRDP+WXTraXUYU7Y0xrws/N
rQWustaGgEtLHLLBGPM44UEU9xEOc6kl9qcB/miDHYDX6432UKkC1M/4on7Gl6raz+wDxUz67id2
7ysGoE0jD5efUpfgwe2sWLHd4eqcU1X7KeUnmtGyvYBpwHhr7d2RbbWBB4EHrbV5kUNTgYLI16uA
DsD8Q2/DL2/TnlBWVhYej6c0p0gM8vl8eL1e9TNOqJ/xpSr387ulO/jPFysoLArgcsGVZ7fl8jPb
klCNb8NW5X7K0R3qaWmdaLRsQ+Az4AlrbcmRrgeAoUDQGPNHoBXwJ8K3aAEmAPcYY2YAfsJX88aX
pjCPx0NKSkppTpEYpn7GF/UzvlSlfhYVB/jPx8uZNnsjALVreLj7ut50b9fA0bpiSVXqp1SME125
Gw3UBx40xjxYYvszwEXAvwjPfZcPvGCtfTay/3mgITAP8BAOdk+VY90iIlLNbN+Tx1/fWMD67fsB
6Nq2Pvdc35s6NRVkREo60WjZQ8/RHcvgY5wXBB6I/BERESmTbxdv45/vLqHA58flghHntueawR2q
9W1YkWPRGiwiIhKzfJHbsJ/N3ghArYxk7ry2N71MpqN1icQyhTsREYlJ2/bk8dc35rNh+wEgfBv2
rut6Ua9W6gnOFKneFO5ERCTmfL1oK8+9t4QCX3g07FXnGq4ebHQbViQKCnciIhIzCov8vPzRcr6Y
uwmIjIa9tjfd22s0rEi0FO5ERCQmbN55gL+OX8DmnbkAdMuqz93XaTSsSGkp3ImIiKNCoRDT523m
hQ+XUVQcwO2Ca8/vwPBz2us2rMhJULgTERHH5BcW8+/3f2TWoq0A1K2Zwj3X96ZL2/oOVyZSdSnc
iYiII9Zt3cffxi9ge/ZBAHp3yOT31/SiVoaWzhIpC4U7ERGpVKFQiCnfbWDcJyvwB4IkuF2MHNKJ
y85oi1u3YUXKTOFOREQqTW5+Ef94ezFzV+wEILNuGn+4vjemZV2HKxOJHwp3IiJSKVas38vfJy4k
e18BAIO6NeGOET3ISE1yuDKR+KJwJyIiFSoQDPHejDW8+bklGAyRnOjmlsu6csGAlrhcug0rUt4U
7kREpMLs3V/AU28u4kdvNgDNG2bwhxv60qpxTYcrE4lfCnciIlIh5q3cyTNvLSY3vwiAwf1bMubS
LqR49Ks3Tkp6AAAgAElEQVRHpCLpJ0xERMpVsT/Aq1NW8sm36wFIS0nkjuE9OK1nU4crE6keFO5E
RKTcbN2dyxPjF7J++34ATMs63H1dbxrVS3e4MpHqQ+FORETKLBQK8eW8zbz00TJ8RQFcLhh+djuu
Pb8DiQlup8sTqVYU7kREpEzyCop57t0lfLd0OwB1a3q485redG/fwOHKRKonhTsRETlpKzfs5cmJ
C9mdE567rk/Hhvzv1T21hJiIgxTuRESk1ALBEJOmr+HtL1YTDEFSoptRF3fm4lNba+46EYcp3ImI
SKnszsnnqTcXsWL9XgCaZWbwhxv60LpJLYcrExFQuBMRkVL4dsk2nnt3CQcL/QCcP6Alt1zahZRk
/ToRiRX6aRQRkRMq8Pl56cNlTJ+/GYAaaUn8dkQPBnZt4nBlInIkhTsRETmutVty+PuEhWzPPghA
t6z6/P6aXtSvnepwZSJyNAp3IiJyVIFgiA9neZkwbRWBYIgEt4vrL+zIsDOzSHBr0IRIrFK4ExGR
/7Inp4Cn31rEsnXZADSun87d1/WmfYs6DlcmIieicCciIr/w3dJt/OvdpRwsKAbgvH4tGHNZV1I9
+pUhUhXoJ1VERADILyzmpY+W8dX8LQBkpCZxx5U9GNRdgyZEqhKFOxERYfXGn3jqzUXs2KtBEyJV
ncKdiEg1FgiGmPSVl/dnrScYDJGY4OL6CzpymQZNiFRZCnciItXUjr0HGfflHrbtLQLCK03cdV1v
sprVdrgyESkLhTsRkWomFArx5bzNvPTRMnxFAQCGnNKKUUM7a6UJkTign2IRkWpkf56P595byuxl
OwBIT3HzPyN6cEr35g5XJiLlReFORKSaWLBqF8++s5icXB8AvTs04KxOifQyDRyuTETK0wnDnTHm
VOBJwADZwN+stS8ZY+oA44CzgP3AI9bacSXOGwuMjnzGG8Cd1tpg+X8LIiJyPIVFfl79ZAWf/rAR
AE9yAqMv6cKZPRqycuVKZ4sTkXJ33HAXCXCTgdustW8bY3oC040x64DfAAeATKA7MM0Ys8JaO9cY
cwcwBOgaeaspwF3AExX0fYiIyFGs3ZLDkxMXsW1PHgCmRR3uvLYXTRpkUFhY6HB1IlIRTnTlrgXw
ibX2bQBr7WJjzEzgFOBSoJ21tgiYb4x5ExgJzAVuAJ621u6Cw1fxHkXhTkSkUgQCQd6bsZa3vrAE
giHcbhdXn9ueEee2JyHB7XR5IlKBjhvurLVLgRsPvY5cyTsN+BEottZuLHH4GmDYoUOBlUfsM+VQ
r4iInMD2PXk89dYi7KYcILwu7F3X9sK0rOtwZSJSGaIeUGGMqQV8AiwAZgK/O+KQfODQVObpkdcl
97mNMcmRK30n5PP5oi1NYtihPqqf8UH9jG3hKU628sY0i684PMXJeX2bccOFhlRP4n/dhlU/44v6
GX9OtpdRhTtjTGvCz82tBa4COgMpRxyWBuRFvi4Z9A7t80cb7AC8Xm+0h0oVoH7GF/Uz9uQWBPh4
Tg7eHeEAl5Hi5pL+dWjfFNZ77XHPVT/ji/op0YyW7QVMA8Zba++ObFsLJBtjmltrtxw6lJ9vxa4C
OgDzj7IvKllZWXg8ntKcIjHI5/Ph9XrVzzihfsam2ct38vLnK8nNLwagf+eG/OrSTtRMTz7ueepn
fFE/48+hnpbWiUbLNgQ+A56w1h4eDGGtzTXGfAyMNcaMAboA1wAXRg6ZANxjjJkB+IH7gPGlKczj
8ZCScuTFQamq1M/4on7Ghrz8Il78cBmzFm0FIC0lkVuHdeOs3s1wuaJfF1b9jC/qp5zoyt1ooD7w
oDHmwRLbnwHGAC8AWwnfjr3bWnvoSt3zQENgHuAhHOyeKse6RUSqtUV2N8++s5i9+8O3Ybtl1ed3
V/cks06aw5WJiNNONFr2ceDx4xxy1THOCwIPRP6IiEg5KfT5eXXKzxMSJye6ufGiTlx8ahvc7uiv
1olI/NLyYyIiVcTqjT/x1FuL2JF9EICs5rW585peNG9Yw+HKRCSWKNyJiMS4Yn+AiZ+t5sNZXoIh
SHC7uOo8w5XntCNRExKLyBEU7kREYti6rft4+q1FbNqZC0DzhjW485peZDWv7XBlIhKrFO5ERGKQ
P7J82NuR5cNcLrjsjCyuv6ADyUkJTpcnIjFM4U5EJMZs3nmAp99ejHfLPgAa10vnd1f3pHObeg5X
JiJVgcKdiEiMCARDfPy1lwmfrabYHwRgyCmtGHVxZ1I8+udaRKKjfy1ERGLAtj15PPPWIlZvygGg
fu1U/mdED3qaTIcrE5GqRuFORMRBwWCIKd+t5/VPV1FUHADgvH4tGH1JF9JTkxyuTkSqIoU7ERGH
7Mg+yD/eWcyK9XsBqFvTwx1X9qBvp0YOVyYiVZnCnYhIJQsGQ0z9fgOvf7oSX1H4at2ZvZtx62Vd
yUhLdrg6EanqFO5ERCrRzr3hq3XL14Wv1tWu4eG2K7ozsGtjhysTkXihcCciUgmCwRDTftjAa1NX
Uhi5Wnd6z6bcOqwbNdN1tU5Eyo/CnYhIBdu59yDPvrOEZeuyAaid4eG24d0Y2LWJw5WJSDxSuBMR
qSBHe7ZOV+tEpKIp3ImIVIDte/J4dtKSwyNha2d4+M0V3Tilm67WiUjFUrgTESlHgWCIT75dz/hp
P89bd2avZoy5rKuu1olIpVC4ExEpJ1t25fLPSUtYtfEnIDxv3W1XdKd/F42EFZHKo3AnIlJGgUCQ
D2Z5eesLe3hN2LP7NGfMpV00b52IVDqFOxGRMtiwfT/PvrMY79b9ANSvlcLtV/agT8eGDlcmItWV
wp2IyEko9gd596s1TJq+hkAwBMD5A1oy6uLOWhNWRBylcCciUkprNufw7DuL2bQzF4CGddP47ZU9
6N6+gcOViYgo3ImIRK2wyM/Ez1Yz+Zt1BEPgcsHQU9tww4UdSfHon1MRiQ3610hEJAo/evfwz0lL
2Lk3H4BmmRn8dkQPOrWu53BlIiK/pHAnInIcBwuKeXXKCj6fswkAt9vF8LPbcdW57UlOSnC4OhGR
/6ZwJyJyDHOW7+Df7//ITwcKAWjbrBb/M6InbZrWcrgyEZFjU7gTETlCzoFCXvxwGd//uB2ApEQ3
157fgWFntCUhwe1wdSIix6dwJyISEQqF+Gr+Zl6ZvIK8gmIAurStx2+v7EGTBhkOVyciEh2FOxER
YEf2QZ57bwlL12YDkJ6SyKihnTmvX0vcbpfD1YmIRE/hTkSqtUAgyEdfr+PNLyxFxQEABnZtzK3D
ulKvVqrD1YmIlJ7CnYhUW2u35PCvSUtZvz28dFidGh5uvbwbg7o1cbgyEZGTp3AnItVOoc/PhM9W
88m34cmIIbx02E0XdyZDS4eJSBWncCci1crC1bt4/r2l7M4pAKBpg3TuuLIHXdrWd7gyEZHyoXAn
ItVCTm4h//loOd8s2QZAQmQy4hGajFhE4ozCnYjEtWAwxJfzNvPqlBUcjExv0qFlHe64sgctG9d0
uDoRkfJXqnBnjOkHfGitbRp53QeYC+SXOOwxa+1fjDEu4HFgdORz3gDutNYGy6VyEZET2LIrl+fe
W8qK9XsBSEtJ5KaLOnH+gFaa3kRE4lZU4S4S1EYBTwFFJXb1BKZaay85ymm3A0OArpHXU4C7gCdO
uloRkSgUFQd496u1vDdjLf5A+L8nB3VrwpjLumh6ExGJe9FeufsTcCXwZ+DeEtt7AkuPcc4NwNPW
2l0AxpixwKMo3IlIBVq6Zg/Pv7+U7dkHAahfO5XfXN6Nfp0bOVyZiEjliDbcvWKtfcwYc+YR23sC
BcaY9UACMAm431pbBBhgZYlj10S2iYiUu325Pl75ZDmzFm4FwO2Coae15drzDWkpmt5ERKqPqMKd
tXbnMXbtBmYCLwKNgHeBR4D7gHR++SxePuA2xiRHwp+ISJkFgyGmz9/Mq5/8vB5sVvPa3D68O1nN
ajtcnYhI5SvTaFlr7aUlXm4wxjxOeBDFfYTDXMmHW9IAf7TBzufzlaU0iRGH+qh+xodY6+fmXbm8
9PFK7KZ9AKR6ErjmvHYM7t+CBLeLwsJChyuMbbHWTykb9TP+nGwvTzrcGWPqAA8AD1pr8yKbU4GC
yNergA7A/EOn8MvbtMfl9XpPtjSJQepnfHG6n0X+IF8vO8Ds1XmHV5jo2DyVC3vXpmZaHqtXRf1P
jeB8P6V8qZ9Slit3+4GhQNAY80egFeGBFy9G9k8A7jHGzAD8hK/mjY/2zbOysvB4PGUoT2KBz+fD
6/Wqn3EiFvq5cPVuXvl0FXv2ha/KNaiTyi1DO9LLNHCknqosFvop5Uf9jD+HelpaJxPuQgDW2qAx
5iLgX0A24duwL1hrn40c9zzQEJgHeAgHu6ei/RCPx0NKSspJlCexSP2ML070c3dOPv/5eDmzl+0A
witMXH5WFiPObU9KsuZjLwv9fMYX9VNK9S+itXYWkFni9Rpg8DGODRK+bftAGeoTkWrOHwgy+Zt1
vPmFxVcUAKBzm3r85oputGykFSZERI6k/9wVkZi1fF02//7gRzbvzAWgZnoyoy7uzDl9m+NyaYUJ
EZGjUbgTkZizL9fHq1NWMGPBlsPbzh/Qkhsv6kSNtGQHKxMRiX0KdyISMwLBEJ/N3sj4aas4GJmz
rk2TWvxmeDc6tKzrbHEiIlWEwp2IxIQ1m3P49/tL8W7dD0CqJ5HrL+jARYNak5Dgdrg6EZGqQ+FO
RBx14GARb3y6ki/mbiIUmbPujJ7NGDW0E/VqpR7/ZBER+S8KdyLiiGAwxJfzNvP61JXk5ocXrmne
MINfX96Nblmas05E5GQp3IlIpVu7JYcXPviRNZvDy4alJCdwzWDD0NPakpSoW7AiImWhcCcileZo
t2AHdW/CLZd0oX5t3YIVESkPCnciUuECwRBfzN3E+E9XkpsfHgXbLDODW4d1pUf7zBOcLSIipaFw
JyIVavWmn3jxgx8Pj4LVLVgRkYqlcCciFSInt5DXp67kq/k/T0R8eo+m3HxJZ42CFRGpQAp3IlKu
/IEgU7/fwJufrya/0A9Ay0Y1uHVYN7pm1Xe4OhGR+KdwJyLlZunaPbz00bLDa8GmpyRy7QUduOgU
TUQsIlJZFO5EpMx2/ZTPK5OXM3vZjsPbzuvXgpFDOlG7hsfBykREqh+FOxE5aYVFft6f4eWDmWsp
8gcBaNe8NrcO64rRWrAiIo5QuBORUguFQny3dBuvTF5B9r4CAGpneLjxoo6c3acFbrfL4QpFRKov
hTsRKZUdOUW885/5rNqYA0CC28XQ09pw9XmG9NQkh6sTERGFOxGJyv48H69NWcH0+bsPb+tlMrnl
0i40b1jDwcpERKQkhTsROa5if3hqk7e/WM3ByNQmjeqlMeayrvTt2BCXS7dgRURiicKdiBzTglW7
+M/Hy9m2Jw+AVE8Cp3bKYNRl/aiRkeZwdSIicjQKdyLyXzbvPMArn6xg0erwLViXC87t24IR57Rh
2yavlg0TEYlhCnciclhufhFvfr6aT3/YSDAYAqBT67qMubQrWc1rU1hYyDaHaxQRkeNTuBMR/IEg
037YyJufryavoBiAzDqp3HRxZ07t3kTP1YmIVCEKdyLVWCgUYv6qXYybvOLwc3UpyQkMP6cdl52R
hScpweEKRUSktBTuRKqpDdv3M27yCpas3XN429l9mjNySEfq1Up1sDIRESkLhTuRaiYnt5CJn63m
y7mbiDxWR+c29bjlki5kNa/tbHEiIlJmCnci1YSvOMBHX3t5f8ZaCnwBIDxf3aiLOzOwa2M9Vyci
EicU7kTiXDAYYtairYz/dCXZ+wsBSE9J5KrzDBef2pqkRD1XJyISTxTuROLYsnXZjJu8HO/W/UB4
HdgLB7bi6sGGWhkeh6sTEZGKoHAnEoe27s7l9akrmbN85+Ft/Ts34qaLO9EsU+vAiojEM4U7kTiy
L9fHW1+s5rM5mw5PQty2WS1GD+1C16z6DlcnIiKVQeFOJA4UFvmZ/M163puxlgKfH4D6tVO54cKO
nNmrGW63BkuIiFQXCnciVVggGGLmgi1M/GzV4cESaSmJDD+7HZec3laTEIuIVEMKdyJVUCgUYuHq
3bw+dSUbdxwAIoMlTmnF1edpsISISHWmcCdSxXi37OPVKSv40Zt9eNsp3Rpz45BONGmQ4WBlIiIS
C0oV7owx/YAPrbVNI6/rAOOAs4D9wCPW2nEljh8LjI58zhvAndbaYDnVLlKt7Nx7kPHTVvHN4m2H
t3VqXZdRF3emQ6u6DlYmIiKxJKpwZ4xxAaOAp4CiErteBg4AmUB3YJoxZoW1dq4x5g5gCNA1cuwU
4C7giXKqXaRa2J/n453pa5j2wwb8gfAI2GaZGdx4USf6d26klSVEROQXor1y9yfgSuDPwL0AxpgM
4FKgnbW2CJhvjHkTGAnMBW4AnrbW7oocPxZ4FIU7kagU+Px89PU6Ppz183JhdWp4uOb8Dgzu14KE
BLfDFYqISCyKNty9Yq19zBhzZolt7YBia+3GEtvWAMMiXxtg5RH7zEnWKVJt+ANBvpi7ibe+sOzL
9QHhEbBXnNWOS05rQ4pHj8qKiMixRfVbwlq78yib04GCI7blA6kl9ucfsc9tjEmOXOk7Lp/PF01p
EuMO9VH9PLFgMMQPy3by9vS17Pop/KOVmODi/AEtuPyMNtRMT4aQn8JCv2M1qp/xRf2ML+pn/DnZ
XpblEkA+kHLEtjQgr8T+1CP2+aMJdgBer7cMpUmsUT+PLRQK4d3h46ul+9mZU3x4e7dWaZzVrSZ1
MgJs2bjWwQr/m/oZX9TP+KJ+SlnC3Vog2RjT3Fq7JbKt5K3YVUAHYP5R9p1QVlYWHo/m6qrqfD4f
Xq9X/TwGu3kfb36xhpUbcg5v620acM3gdrRsFHtrwKqf8UX9jC/qZ/w51NPSOulwZ63NNcZ8DIw1
xowBugDXABdGDpkA3GOMmQH4gfuA8dG+v8fjISXlyAuDUlWpn7+0cccBJkxbxdwVPz/x0LFVXW68
qBOd29RzsLLoqJ/xRf2ML+qnnEy4C5X4egzwArCV8O3Yu621h67UPQ80BOYBHsLB7qmTL1Wk6tuR
fZCJn63mmyVbCUV+klo1rsnIIR3p07GhpjUREZEyK1W4s9bOIjyn3aHXOcBVxzg2CDwQ+SNSre3d
X8DbX67hy7mbCATDqa5xvXSuvaADp/VoSoJboU5ERMqH5lQQqUD783y8N2Mtn36/gSJ/eHGWujVT
uHqw4bx+LUjUXHUiIlLOFO5EKkBeQTEfzvIy+Zt1FBaFJyCukZbE8LPbc9GprfEkJThcoYiIxCuF
O5FyVODzM/nbdXw4ax0HC8LTmqR6Ehl2RlsuOb0t6alJDlcoIiLxTuFOpBwUFvmZ9sNG3p+5lv15
4akck5MSGHpqay4/q114AmIREZFKoHAnUgbF/gCfzd7Eu1+tISeyVFhigpsLBrZkxDntqVNT0xGI
iEjlUrgTOQnF/iDT529m0peW7P2FACS4XZzbrwUjzm1PZp00hysUEZHqSuFOpBT8gSAzFmzhnelr
2P1TeOlktwvO6tOcq88zNKqX7nCFIiJS3SnciUQhEAgyc+FW3plu2bk3HOpcLji9RzOuOd/QtEGG
wxWKiIiEKdyJHEcgEOTrxVt5+8s17Mg+CIRD3aBuTbh6sKFlo5oOVygiIvJLCnciR3Eo1L3z5Rq2
R0IdhEPdNYMNLRsr1ImISGxSuBMp4dDt10lf/XylDmBg18ZcM9jQukktB6sTERE5MYU7EcIDJWYt
3MKk6WvZsfeXoe7q8wxtmirUiYhI1aBwJ9VasT/IjAWbmfTV2sOjXwFO6RYOdbpSJyIiVY3CnVRL
xf4AX87bzLtfrSV7X8Hh7YO6NeGq89or1ImISJWlcCfViq84wOdzNvL+DC8/HQhPPuxywWndmzLi
3PYaKCEiIlWewp1UC/mFxUz7YSMffb2OfXnhZcLcLji9VzNGnNOe5g1rOFyhiIhI+VC4k7iWl1/E
J99tYPI368grKAbCy4Sd2bsZI85tT5P6mnxYRETii8KdxKV9uT4+/mYdU7/fQIHPD0Bigpvz+rfg
irPa0bCu1n4VEZH4pHAncWV3Tj4fzvLyxZxNFPmDAHiSE7hwYCsuO6Mt9WqlOlyhiIhIxVK4k7iw
ZVcu789cy6yFWwkEQwCkpSRy0aDWXHp6W2pleByuUEREpHIo3EmV5t2yj/dmrOWHZdsJhTMdtTKS
ufT0tgw5pTXpqUnOFigiIlLJFO6kygmFQvzozea9GWtZsmbP4e31a6dy+ZlZnNe/BSnJ+qstIiLV
k34DSpURDIaYu2IH781Yy5rN+w5vb9oggyvOyuLM3s1JSnQ7WKGIiIjzFO4k5hX7A8xcuJUPZnrZ
tifv8PZ2zWsz/Ox29O/SmAS3y8EKRUREYofCncSsgwXFfDZ7I5O/XcdPB3yHt/do34DhZ7ejW1Z9
XC6FOhERkZIU7iTm7N1fwORv1jNt9sbDc9S5XTCoe1MuPzOLrOa1nS1QREQkhincSczYtOMAH37t
5etFW/EHwkNfkxPdnNuvBZedkUXj+ukOVygiIhL7FO7EUYdGvn4wy8ui1bsPb89ITeKiU1sz9NQ2
mqNORESkFBTuxBH+QJDvlm7no6+9rNu6//D2hnXTuOyMtpzbtwUpHv31FBERKS399pRKlVdQzBdz
NvLJt+vJ3l94eHu75rW5/KwsBnZtopGvIiIiZaBwJ5Vid04Bn89by5dzN1HgCxze3q9TI4ad2ZbO
bepp5KuIiEg5ULiTChMKhbCbcpj07V5Wbd16eHmw5EQ35/RtwSWnt6FZZg1nixQREYkzCndS7vyB
IN8v3c7H36xj7ZafV5KoXcPDxYNac8HAVhokISIiUkEU7qTc5OYX8fmcTUz97pfP0zWsncQVZxvO
6deK5KQEBysUERGJf2UOd8aYu4HHAV+JzRcAK4FxwFnAfuARa+24sn6exJ5NOw/wybfrmblwK0XF
Pz9P17dTQy4c0BxXwQ66dGmqYCciIlIJyuPKXQ/gj9bap0puNMa8BxwAMoHuwDRjzApr7dxy+Exx
WDAYYsGqXUz+dh1L12Yf3p6SnMDZfZpzyeltadogg8LCQlas2OlgpSIiItVLeYS7nsCrJTcYYzKA
S4F21toiYL4x5k1gJKBwV4XlFRQzfd5mPv1+Azv2Hjy8PbNuGhcPas15/VuSkZrkYIUiIiLVW5nC
nTEmDTDA74wxE4Ac4AlgCVBsrd1Y4vA1wLCyfJ44Z9POA0z9bgMzF26hsOjnW69d2tbjktPa0K9z
Y81PJyIiEgPKeuUuE/gWeB74/+3de2yU15nH8e9gG9vDnRDfwOYaHgImYAwYSEOgDV1I1bSVKqX5
o41Wq1TtNtrVSvmju6t2VXWbrDZq/milarO9qdtt1VaVog27IWlLaEPiQDABDAYOOA74im8Qgy/4
Mp794x0b2xDwbfzOvP59JCTPOXN5pGeOeOac9z3nT8A2YD/wfaBrxHM7gfBo37i7u/veT5K4ikT6
KTvfzIEj1VRUXR1sT0udwSMbctm7rYDleXMB6O3ppvcO7zGQR+UzGJTPYFE+g0X5DJ7x5nJCxV1s
Zm73kKa3zeyXwE4gY8TTw0D7aN+7srJyIqHJBLTfjPB+ZQdllR1c77w1SzdvVgpbHpjNppVhwukh
Oq/VUHFtdO+pfAaL8hksymewKJ8y0WXZYuDTzrkXhjRnAtXAbjPLd87VDDwdqBjte69atYr0dO2F
NlWi0SgXatp4/Ug17565QiQSHewrXLGQfdsLKF6TNeal1+7ubiorK5XPgFA+g0X5DBblM3gGcjpW
E12WvQ58y8wuAK/gzeI9iTdzNx94wcyeAQqBp4B9o33j9PR0MjJGTv7JZLvZ3cdfTtTyWuklqura
Btsz01P51OZ8Hn94OfnZEz9FQvkMFuUzWJTPYFE+ZaLLshfN7IvAC8Av8GbsnnbOnYwVdf8B1OIt
xz7nnDs20YBlcly+cp0DpZc4dLyGzpt9g+0FOXP4zMPL2bVpCeEM3fUqIiKSbCa8FYpz7jXgtTu0
X8ObxZME0dsXobS8gQPvXqKiqnWwPTUlxPb1eezbsYzCFfcRCumuVxERkWSl48emgfrmdl4/cpmD
x6q53tEz2H7/gkz2blvGnpICFszRFL6IiEgQqLgLqN6+fo5WNPD6u5eGnSARCkHxmmz27VhG8Zps
7U0nIiISMCruAqauuZ0/HLnMwbJq2tpvzdItnJvOnq1L+XTJUrIWjnq7QREREUkyKu4CoKc3Qml5
PW8cvcyZD25dSxcKQdHqLPZuX8qWtTmkpszwMUoRERGZCiruktiH9W384ehl/ny8lvauW+dDLJyb
wWNbC9iztYCc+2b5GKGIiIhMNRV3Saa9q5e3TtTyx6OXqay9tS/djBAUP5jNX5UsZfOD2aRolk5E
RGRaUnGXBPr7o5ypauGP71VTeqqenr7+wb6shWH2bC3gsS0FLJqf6WOUIiIikghU3CWwxqudHDxW
zcGyGpqudg62p6XOYMf6PPaUFLB+5SJm6I5XERERiVFxl2BudvdRerqBg8eqKa9sGda3csk89mwp
4NFNS5gdnulThCIiIpLIVNwlgP7+KBVVrRwsq6a0vJ6u7shg39xZM9lVvITHthSwPG+ej1GKiIhI
MlBx56P6lnbeLKvh0PHaYcuuM2aE2Lwmm8e25rP5wRzSUnVzhIiIiIyOirspdr2jh7dP1XGorIbz
l68N61uRN49PbslnZ9FiHQcmIiIi46Libgr09kV472wjh8pqOH6+kb5IdLBv/px0dm1awic352vZ
VURERCZMxV2cRPqjVFS18OfjtZSW19Nxs2+wb2ZaCtsKc9hdnE/R6vu1J52IiIhMGhV3kygajfJB
XRt/eb+WwyfraG27OdgXCsFDqxaxuzif7etzCWek+RipiIiIBJWKu0lQ23SDwyfqeOtkHbVN7cP6
VuvYO5AAAAesSURBVOTN49FNS9hZtFibDIuIiEjcqbgbp6arnRw+WcdbJ+qoqm8b1pe9MMyjm5bw
aNFiCnLm+hShiIiITEcq7sag5aMu3imv5+2Tdbfd6bpgTjqf2LiYnRsXY0sXEArp1AgRERGZeiru
7qG1rYvS8gYOn6zj3KWrw/pmZ6bx8IY8Htm4mMKVi0jRMWAiIiLiMxV3d9DyURelp+spLW/g7Iet
RG/tXEI4I5Vthbk8vCGPotVZ2mBYREREEoqKu5imq52Unq7nnVP1ty25ZqanUlKYwyMbFlNk95OW
muJTlCIiIiJ3N62Lu5rGG5Serufd0w18UDv8pohwRiol63LY8VAemyyLmWkq6ERERCTxTaviLhqN
crHmI46caaC0vIG65uHblszOTBtcct3wwCLN0ImIiEjSCXxx19sX4XRlK0cqGniv4sqwjYXBu8t1
W2Eu29bn8tCqRaTqtAgRERFJYoEs7to7eyg738TRMw0cP99EV3ffsP6c+8JsX5/H9sJcbOkCZugu
VxEREQmIQBR30WiUuuZ23qto5Ni5K5z98Cr9/dFhz1mVP59t63IoKcxlac4c7UMnIiIigZS0xV1v
X4SKqlaOnWvk2NlGGlo6hvWnpoRYv3IRJYW5lKzL0dFfIiIiMi0kVXHXfK2L4+cbKTvXyKmLzdzs
iQzrnztrJpsfzGbruhyKVt9POCPNp0hFRERE/JHQxd3A7Nz7rpkTrolLDddve87yvLleQbc2hwcK
FuiUCBEREZnWEra4e/4Xxzl76RrdI2bnMtNT2Lg6i+I12RSvydJyq4iIiMgQCVvcnbjQMvj3sty5
FFkWxZbF2hULtf+ciIiIyMdI2OJux/octqzNociyuG+eZudERERERiNhi7t/+NIGMjIy/A5DRERE
JKnoOAYRERGRAInrzJ2ZFQEvA2uBi8DXnHNH4/mZIiIiItNZ3GbuzCwD2A/8FJgH/AB41cxmxesz
RURERKa7eC7L7gYizrmXnXMR59zPgUbg8Th+poiIiMi0Fs/ibg1wdkSbi7WLiIiISBzEs7ibBXSO
aOsEwnH8TBEREZFpLZ43VHQAIzeoCwM3RvPi7u7uSQ9Ipt5AHpXPYFA+g0X5DBblM3jGm8t4Fnfn
gGdHtBnwq9G8uLKyctIDEv8on8GifAaL8hksyqfEs7h7E0g3s2fxtkP5MpAFvHGvFxYXF4fiGJeI
iIhIYMXtmjvnXA+wD3gKaAW+ATzhnOuK12eKiIiITHehaDTqdwwiIiIiMkl0/JiIiIhIgKi4ExER
EQkQFXciIiIiAaLiTkRERCRAVNyJiIiIBEg897kbMzMrwtsTby1wEfiac+6ov1HJeJnZc8DzwNAt
tvc6597xKSQZBzPbCrzinFsce7wA+BmwG2gDvuOc+5mPIcoY3CGfm4GjDD8u8nvOuX/zIz4ZPTP7
BPB9vAMCWoB/d879p8ZocrpLPsc8RhOmuDOzDGA/8F3gJ8BXgFfNbIVzrsPX4GS8NgLfdM695Hcg
MnZmFgL+GngJ6BnS9WPgOt6m5BuAA2ZWoR9iie0u+SwC/s8594Qvgcm4xAq4V4G/dc79JjY58icz
+wD4OhqjSeUe+VzBGMdoIi3L7gYizrmXnXMR59zPgUbgcZ/jkvErAk75HYSM2z8Bfwf8KxACMLPZ
wOeAf3HO9TjnjgG/xvsxJonttnzGaJwmpwJgv3PuNwDOuRPAIWAHGqPJ6G753MgYx2jCzNwBa4Cz
I9pcrF2SjJmF8aaW/97M/hu4BrwYK9olOfzUOfc9M9s1pO0BoNc5d2lI2wXgC1MZmIzLnfIJXnHX
ZWZVQArwO+CfY6cMSYJyzp0Cnh54HJv5eQQoR2M06dwln/+Fd9rXzbGM0USauZvF8PVkYo/DPsQi
E5cFHAZ+BOQDXwVeMrO9vkYlo+acu3KH5lnAyCMENU6TwMfkE6AJbzloHbALbxXlO1MUlkwCM5uH
d1lTGd5sj8ZoEhuRz/1AM2Mco4k0c9cBZI5oCwM3fIhFJij2q3H3kKa3zeyXwOeB130JSiZDJ5Ax
oi0MtPsQi0wC59znhjz80Myex7sR6h99CknGwMyWA/+LdxPik3gFgMZokhqZT+dcFG+ZfcCoxmgi
zdydw1vGG8q4falWkoCZFZvZyC9eJrf/opTkchGYaWb5Q9oMqPApHpkAM1tgZi/FrqUcoHGaJMxs
E3AEOOCc+7xzrhuN0aR1p3ya2fzxjNFEmrl7E0g3s2fxtkP5Mt7S3hu+RiXjdR34lpldAF7Bm8V7
Etjpa1QyIc65G2b2P8ALZvYMUAg8hXdNiCSfNuCzQL+ZfRNYhnfjxct+BiX3ZmbZeKsgLzrnXhxo
1xhNTh+XT7z/S8c8RhNm5i52YeA+vC9hK/AN4AnnnH5BJiHn3EXgi8C38b6cPwSeds6d9DUwGa/o
kL+fAdKAWuD3wHOxO/IkeUQBnHP9wGeAh/D21XoL+K1z7gc+xiaj8zfAIuDbZnZjyL/vojGajO6Y
T7xr68Y8RkPRaPRu/SIiIiKSRBJm5k5EREREJk7FnYiIiEiAqLgTERERCRAVdyIiIiIBouJORERE
JEBU3ImIiIgEiIo7ERERkQBRcSciIiISICruRERERALk/wG4KtOIw/3b+wAAAABJRU5ErkJggg==
"
>
</div>

</div>

</div>
</div>

</div>
<div class="cell border-box-sizing text_cell rendered">
<div class="prompt input_prompt">
</div>
<div class="inner_cell">
<div class="text_cell_render border-box-sizing rendered_html">
<h1 id="3.-Solve-This-Other-ODE-(8-Points)">3. Solve This Other ODE (8 Points)<a class="anchor-link" href="#3.-Solve-This-Other-ODE-(8-Points)">&#182;</a></h1>
</div>
</div>
</div>
<div class="cell border-box-sizing text_cell rendered">
<div class="prompt input_prompt">
</div>
<div class="inner_cell">
<div class="text_cell_render border-box-sizing rendered_html">
<p>Solve a forced, dampened ODE governed by this equation:</p>
$$\frac{d^2x}{dt^2} + \frac{1}{10}\frac{dx}{dt} + k x = 5e^{-c / t}$$<p>using the interact command to change $c$ and $k$</p>

</div>
</div>
</div>
<div class="cell border-box-sizing text_cell rendered">
<div class="prompt input_prompt">
</div>
<div class="inner_cell">
<div class="text_cell_render border-box-sizing rendered_html">
$$\frac{dx_1}{dt} = x_2$$$$\frac{dx_2}{dt} + \frac{x_2}{10} + kx_1 = 5e^{-c / t}$$$$\frac{dx_2}{dt} = e^{-c / t} - \frac{x_2}{10} - kx_1$$
</div>
</div>
</div>
<div class="cell border-box-sizing code_cell rendered">
<div class="input">
<div class="prompt input_prompt">In&nbsp;[11]:</div>
<div class="inner_cell">
    <div class="input_area">
<div class=" highlight hl-ipython3"><pre><span></span><span class="k">def</span> <span class="nf">deriv_3</span><span class="p">(</span><span class="n">x</span><span class="p">,</span> <span class="n">t</span><span class="p">,</span> <span class="n">k</span><span class="o">=</span><span class="mi">1</span><span class="p">,</span> <span class="n">c</span><span class="o">=</span><span class="mi">1</span><span class="p">):</span>
    <span class="k">return</span> <span class="n">np</span><span class="o">.</span><span class="n">array</span><span class="p">([</span><span class="n">x</span><span class="p">[</span><span class="mi">1</span><span class="p">],</span> <span class="mi">5</span> <span class="o">*</span> <span class="n">np</span><span class="o">.</span><span class="n">exp</span><span class="p">(</span><span class="o">-</span><span class="n">c</span> <span class="o">/</span> <span class="n">t</span><span class="p">)</span> <span class="o">-</span> <span class="n">x</span><span class="p">[</span><span class="mi">0</span><span class="p">]</span> <span class="o">*</span> <span class="n">k</span> <span class="o">-</span> <span class="mf">0.1</span> <span class="o">*</span> <span class="n">x</span><span class="p">[</span><span class="mi">1</span><span class="p">]])</span>

<span class="n">xinit</span> <span class="o">=</span> <span class="n">np</span><span class="o">.</span><span class="n">array</span><span class="p">([</span><span class="mf">0.0</span><span class="p">,</span> <span class="mf">1.0</span><span class="p">])</span>
<span class="n">t_points</span> <span class="o">=</span> <span class="n">np</span><span class="o">.</span><span class="n">linspace</span><span class="p">(</span><span class="mf">0.001</span><span class="p">,</span><span class="mi">10</span><span class="p">,</span> <span class="mi">100</span><span class="p">)</span>

<span class="k">def</span> <span class="nf">solve_and_plot</span><span class="p">(</span><span class="n">k</span><span class="p">,</span> <span class="n">c</span><span class="p">):</span>
    <span class="n">x_points</span> <span class="o">=</span> <span class="n">scipy</span><span class="o">.</span><span class="n">integrate</span><span class="o">.</span><span class="n">odeint</span><span class="p">(</span><span class="k">lambda</span> <span class="n">x</span><span class="p">,</span><span class="n">t</span><span class="p">:</span> <span class="n">deriv_3</span><span class="p">(</span><span class="n">x</span><span class="p">,</span><span class="n">t</span><span class="p">,</span> <span class="n">k</span><span class="p">,</span> <span class="n">c</span><span class="p">),</span> <span class="n">xinit</span><span class="p">,</span> <span class="n">t_points</span><span class="p">)</span>
    <span class="n">plt</span><span class="o">.</span><span class="n">plot</span><span class="p">(</span><span class="n">t_points</span><span class="p">,</span> <span class="n">x_points</span><span class="p">[:,</span><span class="mi">0</span><span class="p">])</span>

<span class="kn">from</span> <span class="nn">IPython.html.widgets</span> <span class="k">import</span> <span class="n">interactive</span>

<span class="n">interactive</span><span class="p">(</span><span class="n">solve_and_plot</span><span class="p">,</span> <span class="n">k</span><span class="o">=</span><span class="p">(</span><span class="mf">0.01</span><span class="p">,</span> <span class="mi">5</span><span class="p">,</span> <span class="mf">0.1</span><span class="p">),</span> <span class="n">c</span><span class="o">=</span><span class="p">(</span><span class="mf">0.001</span><span class="p">,</span> <span class="mi">1</span><span class="p">,</span> <span class="mf">0.01</span><span class="p">))</span>
</pre></div>

</div>
</div>
</div>

<div class="output_wrapper">
<div class="output">


<div class="output_area">
<div class="prompt"></div>



<div class="output_png output_subarea ">
<img src="data:image/png;base64,iVBORw0KGgoAAAANSUhEUgAAAnIAAAG4CAYAAADBtQraAAAABHNCSVQICAgIfAhkiAAAAAlwSFlz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"
>
</div>

</div>

</div>
</div>

</div>
<div class="cell border-box-sizing text_cell rendered">
<div class="prompt input_prompt">
</div>
<div class="inner_cell">
<div class="text_cell_render border-box-sizing rendered_html">
<h1 id="4.-Linear-Algebra-(3-Points)">4. Linear Algebra (3 Points)<a class="anchor-link" href="#4.-Linear-Algebra-(3-Points)">&#182;</a></h1><p>Given that:</p>
$$\mathbf{A} = \left[\begin{array}{lcr}
7 & 0 & 1\\
1 & 3 & 4\\
4 & 5 & 2\\
\end{array}\right]$$$$\mathbf{b} = \left[\begin{array}{lcr}
4\\
13\\
-6\\
\end{array}\right]$$<p>Answer the following problems:</p>
<ol>
<li><p>What is $\mathbf{A}\mathbf{b}$?</p>
</li>
<li><p>What is the largest eigenvector of $\mathbf{A}$?</p>
</li>
<li><p>Solve $\mathbf{A}\mathbf{x} = \mathbf{b}$</p>
</li>
</ol>

</div>
</div>
</div>
<div class="cell border-box-sizing code_cell rendered">
<div class="input">
<div class="prompt input_prompt">In&nbsp;[4]:</div>
<div class="inner_cell">
    <div class="input_area">
<div class=" highlight hl-ipython3"><pre><span></span><span class="n">a_list</span> <span class="o">=</span> <span class="p">[[</span><span class="mi">7</span><span class="p">,</span> <span class="mi">0</span><span class="p">,</span> <span class="mi">1</span><span class="p">],</span>\
          <span class="p">[</span><span class="mi">1</span><span class="p">,</span> <span class="mi">3</span><span class="p">,</span> <span class="mi">4</span><span class="p">],</span>\
          <span class="p">[</span><span class="mi">4</span><span class="p">,</span> <span class="mi">5</span><span class="p">,</span> <span class="mi">2</span><span class="p">]]</span>
<span class="n">np_a</span> <span class="o">=</span> <span class="n">np</span><span class="o">.</span><span class="n">array</span><span class="p">(</span><span class="n">a_list</span><span class="p">)</span>
<span class="n">np_b</span> <span class="o">=</span> <span class="n">np</span><span class="o">.</span><span class="n">array</span><span class="p">([</span><span class="mi">4</span><span class="p">,</span><span class="mi">13</span><span class="p">,</span><span class="o">-</span><span class="mi">6</span><span class="p">])</span><span class="o">.</span><span class="n">transpose</span><span class="p">()</span>
</pre></div>

</div>
</div>
</div>

</div>
<div class="cell border-box-sizing code_cell rendered">
<div class="input">
<div class="prompt input_prompt">In&nbsp;[5]:</div>
<div class="inner_cell">
    <div class="input_area">
<div class=" highlight hl-ipython3"><pre><span></span><span class="nb">print</span> <span class="n">np_a</span><span class="o">.</span><span class="n">dot</span><span class="p">(</span><span class="n">np_b</span><span class="p">)</span>
</pre></div>

</div>
</div>
</div>

<div class="output_wrapper">
<div class="output">


<div class="output_area">
<div class="prompt"></div>

<div class="output_subarea output_stream output_stdout output_text">
<pre>[22 19 69]
</pre>
</div>
</div>

</div>
</div>

</div>
<div class="cell border-box-sizing code_cell rendered">
<div class="input">
<div class="prompt input_prompt">In&nbsp;[6]:</div>
<div class="inner_cell">
    <div class="input_area">
<div class=" highlight hl-ipython3"><pre><span></span><span class="kn">import</span> <span class="nn">numpy.linalg</span> <span class="k">as</span> <span class="nn">linalg</span>

<span class="n">e_values</span><span class="p">,</span> <span class="n">e_vectors</span> <span class="o">=</span> <span class="n">linalg</span><span class="o">.</span><span class="n">eig</span><span class="p">(</span><span class="n">np_a</span><span class="p">)</span>

<span class="c1">#The eigenvectors are in order of eignevalue</span>
<span class="nb">print</span> <span class="n">e_vectors</span><span class="p">[:,</span> <span class="mi">0</span><span class="p">]</span>
</pre></div>

</div>
</div>
</div>

<div class="output_wrapper">
<div class="output">


<div class="output_area">
<div class="prompt"></div>

<div class="output_subarea output_stream output_stdout output_text">
<pre>[ 0.43264513  0.57338348  0.69573672]
</pre>
</div>
</div>

</div>
</div>

</div>
<div class="cell border-box-sizing code_cell rendered">
<div class="input">
<div class="prompt input_prompt">In&nbsp;[7]:</div>
<div class="inner_cell">
    <div class="input_area">
<div class=" highlight hl-ipython3"><pre><span></span><span class="n">np_a_inv</span> <span class="o">=</span> <span class="n">linalg</span><span class="o">.</span><span class="n">inv</span><span class="p">(</span><span class="n">np_a</span><span class="p">)</span>
<span class="n">np_x</span> <span class="o">=</span> <span class="n">np_a_inv</span><span class="o">.</span><span class="n">dot</span><span class="p">(</span><span class="n">np_b</span><span class="p">)</span>

<span class="nb">print</span> <span class="n">np_x</span>
</pre></div>

</div>
</div>
</div>

<div class="output_wrapper">
<div class="output">


<div class="output_area">
<div class="prompt"></div>

<div class="output_subarea output_stream output_stdout output_text">
<pre>[-0.25714286 -3.31428571  5.8       ]
</pre>
</div>
</div>

</div>
</div>

</div>
<div class="cell border-box-sizing code_cell rendered">
<div class="input">
<div class="prompt input_prompt">In&nbsp;[8]:</div>
<div class="inner_cell">
    <div class="input_area">
<div class=" highlight hl-ipython3"><pre><span></span><span class="c1">#to check, make sure we get back b</span>
<span class="nb">print</span> <span class="n">np_a</span><span class="o">.</span><span class="n">dot</span><span class="p">(</span><span class="n">np_x</span><span class="p">)</span>
</pre></div>

</div>
</div>
</div>

<div class="output_wrapper">
<div class="output">


<div class="output_area">
<div class="prompt"></div>

<div class="output_subarea output_stream output_stdout output_text">
<pre>[  4.  13.  -6.]
</pre>
</div>
</div>

</div>
</div>

</div>
 


    </div>
  </div>

  </div>


  
    <footer class="footer hidden-print">
      <div class="container">
        <div class="col-md-4">
          <p>
            This website does not host notebooks, it only renders notebooks
            available on other websites.
          </p>
        </div>

        <div class="col-md-4">
          <p>
            Delivered by <a href="http://www.fastly.com/">Fastly</a>,
            Rendered by <a href="https://developer.rackspace.com/?nbviewer=awesome">Rackspace</a>
          </p>
          <p>
            nbviewer GitHub <a href="https://github.com/jupyter/nbviewer">repository</a>.
          </p>
        </div>

        <div class="col-md-4">
          
  
            
              <p>
                nbviewer version:
                <a href="https://github.com/jupyter/nbviewer/commit/4f5d1d8a2539c1c8dc92873d3a775d34f0a3d417">
                  4f5d1d8
                </a>
              </p>
            
          
  
  <p>
    nbconvert version: <a href="https://github.com/jupyter/nbconvert/releases/tag/5.1.1">
      5.1.1
    </a>
  </p>
  

          
  
  
  <p>
    Rendered
    <span class='date' data-date='Sun, 23 Apr 2017 12:13:57 UTC' title='Sun, 23 Apr 2017 12:13:57 UTC'>(Sun, 23 Apr 2017 12:13:57 UTC)</span>
  </p>
  

        </div>
      </div>
    </footer>
  

  <script src="https://unpkg.com/jupyter-js-widgets@2.0.*/dist/embed.js"></script>
  <script src="/static/components/bootstrap/js/bootstrap.min.js?v=5869c96cc8f19086aee625d670d741f9"></script>
  <script src="/static/components/headroom.js/dist/headroom.min.js?v=b0a311ea668f8e768ea375f4a7abb81c"></script>
  <script src="/static/components/headroom.js/dist/jQuery.headroom.min.js?v=f3a1bae118315d0c234afc74dc6aab71"></script>

  
  
  <script>
    $(function(){ $("#menubar").headroom({
      tolerance: 5,
      offset: 205,
      classes: {
        initial: "animated",
        pinned: "slideInDown",
        unpinned: "slideOutUp"
      }
    })});
  </script>


  
  <script>
    (function(i,s,o,g,r,a,m){i['GoogleAnalyticsObject']=r;i[r]=i[r]||function(){
      (i[r].q=i[r].q||[]).push(arguments)},i[r].l=1*new Date();a=s.createElement(o),
      m=s.getElementsByTagName(o)[0];a.async=1;a.src=g;m.parentNode.insertBefore(a,m)
    })(window,document,'script','https://www.google-analytics.com/analytics.js','ga');
    ga('create', 'UA-52617120-5', 'auto');
    ga('send', 'pageview');
  </script>
  
  <script>
    require({
        paths: {
          moment: "/static/components/moment/min/moment.min.js?v=89f87298ad94aa1e6b92f42eb66da043"
        }
      }, ["moment"], function(moment){
      var date = $("footer .date"),
        m = moment(new Date(date.data('date'))),
        update = function(){ date.text(m.fromNow()); };
      setInterval(update, 61*1000);
      update();
      var w = $(window).scroll(function(event){
        $("body").toggleClass("scrolled", w.scrollTop() > 0);
      });
    });
  </script>
  <!--NEW RELIC Stop Perf Measurement-->
  
  <!--NEW RELIC End-->
</body>
</html>