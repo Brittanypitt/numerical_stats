{
 "cells": [
  {
   "cell_type": "markdown",
   "metadata": {},
   "source": [
    "# Homework 8\n",
    "#### CHE 116: Numerical Methods and Statistics\n",
    "\n",
    "\n",
    "2/21/2019\n",
    "\n",
    "----"
   ]
  },
  {
   "cell_type": "markdown",
   "metadata": {},
   "source": [
    "# 1. Short Answer (12 Points)\n",
    "\n",
    "1. [2 points] If you sum together 20 numbers sampled from a binomial distribution and 10 from a Poisson distribution, how is your sum distribted?\n",
    "\n",
    "2. [2 points] If you sample 25 numbers from different beta distributions, how will each of the numbers be distributed?\n",
    "\n",
    "3. [4 points] Assume a HW grade is determined as the sample mean of 3 HW problems. How is the HW grade distributed if we do not know the population standard deviation? Why?\n",
    "\n",
    "4. [4 points] For part 3, how could not knowing the population standard deviation change how it's distributed? How does knowledge of that number change the behavior of a random variable?\n",
    "\n"
   ]
  },
  {
   "cell_type": "markdown",
   "metadata": {},
   "source": [
    "# 2. Confidence Intervals (30 Points)\n",
    "Report the given confidence interval for error in the mean using the data given for each problem and **describe in words** what the confidence interval is for each example. 6 points each\n",
    "\n",
    "### 2.1\n",
    "\n",
    "80% Double. \n",
    "\n",
    "`data_21 = [65.58, -28.15, 21.17, -0.57, 6.04, -10.21, 36.46, 10.67, 77.98, 15.97]`\n",
    "\n",
    "### 2.2\n",
    "\n",
    "99% Upper (lower bound, a value such that the mean lies above that value 99% of the time)\n",
    "\n",
    "`data_22 = [-8.78, -6.06, -6.03, -6.9, -13.57, -18.76, 1.5, -8.21, -3.21, -11.85, -2.72, -10.38, -11.03, -10.85, -7.6, -7.76, -5.99, -10.02, -6.32, -8.35, -19.28, -11.53, -6.04, -0.81, -12.01, -3.22, -9.25, -4.13, -7.22, -11.0, -14.42, 1.07]`\n",
    "\n",
    "### 2.3\n",
    "\n",
    "95% Double\n",
    "\n",
    "`data_23 = [14.62, 10.34, 7.68, 15.81, 14.48]`\n",
    "\n",
    "### 2.4\n",
    "\n",
    "Redo part 3 with a known standard deviation of 2\n",
    "\n",
    "\n",
    "### 2.5\n",
    "\n",
    "95% Lower (upper bound)\n",
    "\n",
    "`data_25 = [2.47, 2.03, 1.82, 6.98, 2.41, 2.32, 7.11, 5.89, 5.77, 3.34, 2.75, 6.51]`"
   ]
  },
  {
   "cell_type": "markdown",
   "metadata": {},
   "source": [
    "# 3. Identifiying Distributions (12 Points)\n",
    "\n",
    "For each problem state if it is a t or normal distribution and reports the distribution's $\\mu$ and $\\sigma$. Note that $\\mu, \\sigma$s listed below are the population sigmas. Report your answer like: $T(0, 4.3, 4)$ to indicate a $t$-distribution with $\\mu = 0$, $\\sigma = 4.3$ and degrees of freedom of 3. 2 Points each\n",
    "\n",
    "1. $P(\\mu)$, $\\bar{x} = -2$, $\\sigma = 4$, $N = 30$\n",
    "2. $P(\\bar{x})$, $\\mu = 1$, $\\sigma = 2$, $N = 5$\n",
    "3. $P(\\mu - \\bar{x})$, $\\sigma = 4.3$, $N = 2$\n",
    "4. $P(\\mu)$, $\\bar{x} = 4$, $\\sigma_x = 1.7$, $N = 50$\n",
    "5. $P(\\mu)$, $\\bar{x} = 5.5$, $\\sigma_x = 2.1$, $N = 9$\n",
    "6. $P(\\mu - \\bar{x})$, $\\sigma_x = 4.3$, $N = 5$\n",
    "\n"
   ]
  }
 ],
 "metadata": {
  "kernelspec": {
   "display_name": "Python 3",
   "language": "python",
   "name": "python3"
  },
  "language_info": {
   "codemirror_mode": {
    "name": "ipython",
    "version": 3
   },
   "file_extension": ".py",
   "mimetype": "text/x-python",
   "name": "python",
   "nbconvert_exporter": "python",
   "pygments_lexer": "ipython3",
   "version": "3.6.4"
  }
 },
 "nbformat": 4,
 "nbformat_minor": 2
}
