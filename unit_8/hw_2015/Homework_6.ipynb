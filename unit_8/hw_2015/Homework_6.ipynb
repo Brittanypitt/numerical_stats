








<!DOCTYPE html>
<html lang="en">

<head>
  <meta charset="utf-8">
  <title>Jupyter Notebook Viewer</title>
  <meta name="viewport" content="width=device-width, initial-scale=1.0">
  <meta name="description" content="">
  <meta name="author" content="">
  
  <meta name="robots" content="noindex,nofollow">
  

  <!--NEW RELIC Start Perf Measurement-->
  
  <!--NREND-->

  <!-- Le styles -->
  <script type="text/javascript">
//<![CDATA[
try{if (!window.CloudFlare) {var CloudFlare=[{verbose:0,p:0,byc:0,owlid:"cf",bag2:1,mirage2:0,oracle:0,paths:{cloudflare:"/cdn-cgi/nexp/dok3v=1613a3a185/"},atok:"d5780763e19e7d19f23070ae83c9af3a",petok:"d692d87d0accded7ad40de499be705a4f380d02b-1490889237-3600",zone:"jupyter.org",rocket:"0",apps:{"ga_key":{"ua":"UA-52617120-1","ga_bs":"2"}}}];!function(a,b){a=document.createElement("script"),b=document.getElementsByTagName("script")[0],a.async=!0,a.src="//ajax.cloudflare.com/cdn-cgi/nexp/dok3v=f2befc48d1/cloudflare.min.js",b.parentNode.insertBefore(a,b)}()}}catch(e){};
//]]>
</script>
<link href="/static/build/styles.css?v=c18d49652a516277e15114bbd447f1c1" rel="stylesheet">

  <!-- Le HTML5 shim, for IE6-8 support of HTML5 elements -->
  <!--[if lt IE 9]>
    <script src="http://html5shim.googlecode.com/svn/trunk/html5.js"></script>
  <![endif]-->

  <!-- Le fav and touch icons -->
  <link rel="shortcut icon" href="/static/ico/ipynb_icon_16x16.png">
  <link rel="apple-touch-icon-precomposed" sizes="144x144"
        href="/static/ico/apple-touch-icon-144-precomposed.png?v=5a3c9ede93e2a8b8ea9e3f8f3da1a905">
  <link rel="apple-touch-icon-precomposed" sizes="114x114"
        href="/static/ico/apple-touch-icon-114-precomposed.png?v=45d86fc8f24dc00638035e1dd7a6d898">
  <link rel="apple-touch-icon-precomposed" sizes="72x72"
        href="/static/ico/apple-touch-icon-72-precomposed.png?v=540b5eb0f3cfd25f1439d1c9bd30e15f">
  <link rel="apple-touch-icon-precomposed"
        href="/static/ico/apple-touch-icon-57-precomposed.png?v=225f0590e187e1458625654f10a28f56">
  
  

  

  
  <meta name="twitter:card" content="summary">
  <meta name="twitter:title" content="Notebook on nbviewer">
  <meta name="twitter:description" content="Check out this Jupyter notebook!">

  
  <meta name="twitter:domain" content="nbviewer.ipython.org">
  <meta name="twitter:image:src" content="http://ipython.org/ipython-doc/dev/_images/ipynb_icon_128x128.png">

  
    <link href="/static/build/notebook.css?v=d05748bef7d8f0edbc1e0133b9a41fe0" rel="stylesheet">
  

  

  
    <script src="https://cdn.mathjax.org/mathjax/latest/MathJax.js?config=TeX-AMS_HTML" type="text/javascript">
    </script>
    <script type="text/javascript">
      init_mathjax = function() {
        if (window.MathJax) {
          // MathJax loaded
          MathJax.Hub.Config({
            TeX: {
              equationNumbers: {
                autoNumber: "AMS",
                useLabelIds: true
              }
            },
            tex2jax: {
              inlineMath: [ ['$','$'], ["\\(","\\)"] ],
              displayMath: [ ['$$','$$'], ["\\[","\\]"] ],
              processEscapes: true,
              processEnvironments: true
            },
            displayAlign: 'center',
            "HTML-CSS": {
              styles: {'.MathJax_Display': {"margin": 0}},
              linebreaks: { automatic: true }
            }
          });
          MathJax.Hub.Queue(["Typeset", MathJax.Hub]);
        }
      }
      init_mathjax();
    </script>
  

<script type="text/javascript">
/* <![CDATA[ */
var _gaq = _gaq || [];
_gaq.push(['_setAccount', 'UA-52617120-1']);
_gaq.push(['_trackPageview']);

(function() {
var ga = document.createElement('script'); ga.type = 'text/javascript'; ga.async = true;
ga.src = ('https:' == document.location.protocol ? 'https://ssl' : 'http://www') + '.google-analytics.com/ga.js';
var s = document.getElementsByTagName('script')[0]; s.parentNode.insertBefore(ga, s);
})();

(function(b){(function(a){"__CF"in b&&"DJS"in b.__CF?b.__CF.DJS.push(a):"addEventListener"in b?b.addEventListener("load",a,!1):b.attachEvent("onload",a)})(function(){"FB"in b&&"Event"in FB&&"subscribe"in FB.Event&&(FB.Event.subscribe("edge.create",function(a){_gaq.push(["_trackSocial","facebook","like",a])}),FB.Event.subscribe("edge.remove",function(a){_gaq.push(["_trackSocial","facebook","unlike",a])}),FB.Event.subscribe("message.send",function(a){_gaq.push(["_trackSocial","facebook","send",a])}));"twttr"in b&&"events"in twttr&&"bind"in twttr.events&&twttr.events.bind("tweet",function(a){if(a){var b;if(a.target&&a.target.nodeName=="IFRAME")a:{if(a=a.target.src){a=a.split("#")[0].match(/[^?=&]+=([^&]*)?/g);b=0;for(var c;c=a[b];++b)if(c.indexOf("url")===0){b=unescape(c.split("=")[1]);break a}}b=void 0}_gaq.push(["_trackSocial","twitter","tweet",b])}})})})(window);
/* ]]> */
</script>
</head>

<body class="nbviewer">

  <!-- These are loaded at the top of the body so they are available to
       notebook cells when they are loaded below. -->
  <script src="/static/components/jquery/dist/jquery.min.js?v=e071abda8fe61194711cfc2ab99fe104"></script>
  <script src="/static/components/requirejs/require.js?v=6da8be361b9ee26c5e721e76c6d4afce"></script>
  <script src="/static/components/moment/min/moment.min.js?v=89f87298ad94aa1e6b92f42eb66da043"></script>

<!-- Navbar
================================================== -->
  <nav id="menubar" class="navbar navbar-default navbar-fixed-top" data-spy="affix">
    <div class="container">
      <div class="navbar-header">
        <button type="button" class="navbar-toggle collapsed" data-toggle="collapse" data-target=".navbar-collapse">
          <span class="sr-only">Toggle navigation</span>
          <i class="fa fa-bars"></i>
        </button>
        <a class="navbar-brand" href="/">
          <img src="/static/img/nav_logo.svg?v=479cefe8d932fb14a67b93911b97d70f" width="159"/>
        </a>
      </div>

      <div class="collapse navbar-collapse">
        <ul class="nav navbar-nav navbar-right">
          <li>
            <a class="active" href="http://jupyter.org">JUPYTER</a>
          </li>
          <li>
    <a href="/faq" title="FAQ" >
      
        <span>FAQ</span>
      
    </a>
  </li>

          
  
    
      
        <li>
    <a href="/format/script/url/thewhitelab.org/Classes/CHE116/Unit_6/Homework_6.ipynb" title="View as Code" >
      <span class="fa fa-code fa-2x menu-icon"></span>
      <span class="menu-text">View as Code</span>
    </a>
  </li>
      
    
  
    
  

  

  

  <li>
    <a href="http://thewhitelab.org/Classes/CHE116/Unit_6/Homework_6.ipynb" title="Download Notebook" download>
      <span class="fa fa-download fa-2x menu-icon"></span>
      <span class="menu-text">Download Notebook</span>
    </a>
  </li>

        </ul>
      </div><!-- /.navbar-collapse -->
      
      
    </div>
  </nav>

  <div class="container container-main">
    
  
  <div id="notebook">
    <div id="notebook-container">
      
<div class="cell border-box-sizing text_cell rendered">
<div class="prompt input_prompt">
</div>
<div class="inner_cell">
<div class="text_cell_render border-box-sizing rendered_html">
<h1 id="Homework-6">Homework 6<a class="anchor-link" href="#Homework-6">&#182;</a></h1><h4 id="CHE-116:-Numerical-Methods-and-Statistics">CHE 116: Numerical Methods and Statistics<a class="anchor-link" href="#CHE-116:-Numerical-Methods-and-Statistics">&#182;</a></h4><p>Prof. Andrew White</p>
<p>Version 1.5 (2/20/2015)</p>
<hr>

</div>
</div>
</div>
<div class="cell border-box-sizing text_cell rendered">
<div class="prompt input_prompt">
</div>
<div class="inner_cell">
<div class="text_cell_render border-box-sizing rendered_html">
<h1 id="0.-Warmup-(2-Points)">0. Warmup (2 Points)<a class="anchor-link" href="#0.-Warmup-(2-Points)">&#182;</a></h1><ol>
<li><p>We've seen two types of confidence intervals. One type is for predicting where the next sample will be in a known distribution and one type is for predicting where a true mean will be given some data. For the latter type, predicting the true mean, we saw how with many data points or if we know the true standard deviation we can use a normal distribution. When predicting the true mean with a few data points, the confidence interval for error in the mean follows a $t$-distribution. Thus there are three possible confidence interval problems. Write out and label an example problem that demonstrates each of the confidence intervals. Refer back to the example problems in Unit 6, Lecture 2. You only need to set-up your problems, not solve them.</p>
</li>
<li><p>Find a problem you missed in any of your homeworks. Look at the key and state what mistake you made and how it would be fixed. Indicate which homework and problem you're referring to.</p>
</li>
</ol>

</div>
</div>
</div>
<div class="cell border-box-sizing text_cell rendered">
<div class="prompt input_prompt">
</div>
<div class="inner_cell">
<div class="text_cell_render border-box-sizing rendered_html">
<h1 id="1.-Book-Problems-(5-Points)">1. Book Problems (5 Points)<a class="anchor-link" href="#1.-Book-Problems-(5-Points)">&#182;</a></h1><p>Complete the following problems from Bulmer. Use Python or Markdown where appropiate.</p>
<ul>
<li>Exercise 6.10</li>
<li>Exercise 7.1</li>
</ul>
<p>Complete the following problems from Langley:</p>
<ul>
<li>Q15 on pg 66 (you can skip the shortcut method and Snedecor's check)</li>
<li>Q17 on pg 88</li>
<li>Q25 on pg 90</li>
</ul>

</div>
</div>
</div>
<div class="cell border-box-sizing text_cell rendered">
<div class="prompt input_prompt">
</div>
<div class="inner_cell">
<div class="text_cell_render border-box-sizing rendered_html">
<h1 id="2.-CLT-Theory-(5-Points)">2. CLT Theory (5 Points)<a class="anchor-link" href="#2.-CLT-Theory-(5-Points)">&#182;</a></h1><p>Indicate if the CLT applies with yes or no. If no, state why.</p>
<ol>
<li>You measure the density of a solution 5 times and take the average</li>
<li>You sum the volume of oil in 20 barrels</li>
<li>You record your electricity bill 25 times</li>
<li>Flip a coin 25 times and consider a heads 0 and a tails 1 and take the average</li>
<li>Your grade is the average of 20 homework</li>
</ol>

</div>
</div>
</div>
<div class="cell border-box-sizing text_cell rendered">
<div class="prompt input_prompt">
</div>
<div class="inner_cell">
<div class="text_cell_render border-box-sizing rendered_html">
<h1 id="3.-Confidence-Intervals-(4-Points)">3. Confidence Intervals (4 Points)<a class="anchor-link" href="#3.-Confidence-Intervals-(4-Points)">&#182;</a></h1><p>Report the given confidence interval for error in the mean using the data in the next cell and describe in words what the confidence interval is for each example</p>
<ol>
<li>90% Double</li>
<li>95% Double</li>
<li>99% Double</li>
<li>90% Lower (a value such that the mean lies below that value 90% of the time)</li>
</ol>

</div>
</div>
</div>
<div class="cell border-box-sizing code_cell rendered">
<div class="input">
<div class="prompt input_prompt">In&nbsp;[3]:</div>
<div class="inner_cell">
    <div class="input_area">
<div class=" highlight hl-ipython3"><pre><span></span><span class="n">data_3_1</span> <span class="o">=</span> <span class="p">[</span><span class="mf">5.81</span><span class="p">,</span> <span class="mf">5.27</span><span class="p">,</span>  <span class="mf">5.4</span><span class="p">,</span>  <span class="mf">4.9</span><span class="p">,</span>  <span class="mf">5.83</span><span class="p">,</span>  <span class="mf">3.2</span><span class="p">,</span>  <span class="mf">6.76</span><span class="p">,</span>  <span class="mf">4.29</span><span class="p">,</span>  <span class="mf">4.76</span><span class="p">,</span>  <span class="mf">5.51</span><span class="p">]</span>
<span class="n">data_3_2</span> <span class="o">=</span> <span class="p">[</span><span class="mf">51.47</span><span class="p">,</span> <span class="mf">48.18</span><span class="p">,</span>  <span class="mf">48.35</span><span class="p">,</span>  <span class="mf">53.57</span><span class="p">]</span>
<span class="n">data_3_3</span> <span class="o">=</span> <span class="p">[</span><span class="mf">91.8</span><span class="p">,</span> <span class="mf">104.04</span><span class="p">,</span>  <span class="mf">129.62</span><span class="p">,</span>  <span class="mf">99.34</span><span class="p">,</span>  <span class="mf">75.92</span><span class="p">,</span>  <span class="mf">56.03</span><span class="p">,</span>  <span class="mf">103.87</span><span class="p">,</span>  <span class="mf">66.27</span><span class="p">,</span>  <span class="mf">88.41</span><span class="p">,</span>  <span class="mf">105.17</span><span class="p">,</span>  <span class="mf">115.05</span><span class="p">,</span>  <span class="mf">111.13</span><span class="p">,</span>  <span class="mf">86.2</span><span class="p">,</span>  <span class="mf">113.48</span><span class="p">,</span>  <span class="mf">96.25</span><span class="p">,</span>  <span class="mf">100.81</span><span class="p">,</span>  <span class="mf">96.56</span><span class="p">,</span>  <span class="mf">89.02</span><span class="p">,</span>  <span class="mf">111.9</span><span class="p">,</span>  <span class="mf">106.55</span><span class="p">,</span>  <span class="mf">117.35</span><span class="p">,</span>  <span class="mf">87.61</span><span class="p">,</span>  <span class="mf">81.97</span><span class="p">,</span>  <span class="mf">106.32</span><span class="p">,</span>  <span class="mf">78.38</span><span class="p">,</span>  <span class="mf">102.38</span><span class="p">,</span>  <span class="mf">80.87</span><span class="p">,</span>  <span class="mf">110.6</span><span class="p">,</span>  <span class="mf">89.09</span><span class="p">,</span>  <span class="mf">132.1</span><span class="p">]</span>
<span class="n">data_3_4</span> <span class="o">=</span> <span class="p">[</span><span class="mf">5.89</span><span class="p">,</span> <span class="mf">3.73</span><span class="p">,</span>  <span class="o">-</span><span class="mf">10.77</span><span class="p">,</span>  <span class="o">-</span><span class="mf">13.92</span><span class="p">,</span>  <span class="mf">0.73</span><span class="p">,</span>  <span class="o">-</span><span class="mf">2.52</span><span class="p">,</span>  <span class="o">-</span><span class="mf">9.69</span><span class="p">,</span>  <span class="mf">14.15</span><span class="p">,</span>  <span class="o">-</span><span class="mf">8.16</span><span class="p">,</span>  <span class="mf">2.62</span><span class="p">,</span>  <span class="o">-</span><span class="mf">0.93</span><span class="p">,</span>  <span class="o">-</span><span class="mf">13.46</span><span class="p">,</span>  <span class="o">-</span><span class="mf">2.95</span><span class="p">,</span>  <span class="o">-</span><span class="mf">7.13</span><span class="p">,</span>  <span class="mf">1.01</span><span class="p">,</span>  <span class="mf">1.45</span><span class="p">,</span>  <span class="mf">16.0</span><span class="p">,</span>  <span class="o">-</span><span class="mf">17.47</span><span class="p">,</span>  <span class="mf">9.58</span><span class="p">,</span>  <span class="mf">13.3</span><span class="p">]</span>
</pre></div>

</div>
</div>
</div>

</div>
<div class="cell border-box-sizing text_cell rendered">
<div class="prompt input_prompt">
</div>
<div class="inner_cell">
<div class="text_cell_render border-box-sizing rendered_html">
<h1 id="4.-Math-Equations-(3-Points)">4. Math Equations (3 Points)<a class="anchor-link" href="#4.-Math-Equations-(3-Points)">&#182;</a></h1><p>Solve the following equations using Newton's metod</p>
<ol>
<li>$\cos(x^2) = x$</li>
<li>$x^2 = 4839$</li>
<li>$\int_{\pi}^{x} \sin^2{s}\,ds = 1$ <em>Hint: Review your previous homeworks to recall how to use quad to integrate</em></li>
</ol>

</div>
</div>
</div>
<div class="cell border-box-sizing code_cell rendered">
<div class="input">
<div class="prompt input_prompt">In&nbsp;[&nbsp;]:</div>
<div class="inner_cell">
    <div class="input_area">
<div class=" highlight hl-ipython3"><pre><span></span> 
</pre></div>

</div>
</div>
</div>

</div>
 


    </div>
  </div>

  </div>


  
    <footer class="footer hidden-print">
      <div class="container">
        <div class="col-md-4">
          <p>
            This website does not host notebooks, it only renders notebooks
            available on other websites.
          </p>
        </div>

        <div class="col-md-4">
          <p>
            Delivered by <a href="http://www.fastly.com/">Fastly</a>,
            Rendered by <a href="https://developer.rackspace.com/?nbviewer=awesome">Rackspace</a>
          </p>
          <p>
            nbviewer GitHub <a href="https://github.com/jupyter/nbviewer">repository</a>.
          </p>
        </div>

        <div class="col-md-4">
          
  
            
              <p>
                nbviewer version:
                <a href="https://github.com/jupyter/nbviewer/commit/4f5d1d8a2539c1c8dc92873d3a775d34f0a3d417">
                  4f5d1d8
                </a>
              </p>
            
          
  
  <p>
    nbconvert version: <a href="https://github.com/jupyter/nbconvert/releases/tag/5.1.1">
      5.1.1
    </a>
  </p>
  

          
  
  
  <p>
    Rendered
    <span class='date' data-date='Thu, 30 Mar 2017 15:53:57 UTC' title='Thu, 30 Mar 2017 15:53:57 UTC'>(Thu, 30 Mar 2017 15:53:57 UTC)</span>
  </p>
  

        </div>
      </div>
    </footer>
  

  <script src="https://unpkg.com/jupyter-js-widgets@2.0.*/dist/embed.js"></script>
  <script src="/static/components/bootstrap/js/bootstrap.min.js?v=5869c96cc8f19086aee625d670d741f9"></script>
  <script src="/static/components/headroom.js/dist/headroom.min.js?v=b0a311ea668f8e768ea375f4a7abb81c"></script>
  <script src="/static/components/headroom.js/dist/jQuery.headroom.min.js?v=f3a1bae118315d0c234afc74dc6aab71"></script>

  
  
  <script>
    $(function(){ $("#menubar").headroom({
      tolerance: 5,
      offset: 205,
      classes: {
        initial: "animated",
        pinned: "slideInDown",
        unpinned: "slideOutUp"
      }
    })});
  </script>


  
  <script>
    (function(i,s,o,g,r,a,m){i['GoogleAnalyticsObject']=r;i[r]=i[r]||function(){
      (i[r].q=i[r].q||[]).push(arguments)},i[r].l=1*new Date();a=s.createElement(o),
      m=s.getElementsByTagName(o)[0];a.async=1;a.src=g;m.parentNode.insertBefore(a,m)
    })(window,document,'script','https://www.google-analytics.com/analytics.js','ga');
    ga('create', 'UA-52617120-5', 'auto');
    ga('send', 'pageview');
  </script>
  
  <script>
    require({
        paths: {
          moment: "/static/components/moment/min/moment.min.js?v=89f87298ad94aa1e6b92f42eb66da043"
        }
      }, ["moment"], function(moment){
      var date = $("footer .date"),
        m = moment(new Date(date.data('date'))),
        update = function(){ date.text(m.fromNow()); };
      setInterval(update, 61*1000);
      update();
      var w = $(window).scroll(function(event){
        $("body").toggleClass("scrolled", w.scrollTop() > 0);
      });
    });
  </script>
  <!--NEW RELIC Stop Perf Measurement-->
  
  <!--NEW RELIC End-->
</body>
</html>