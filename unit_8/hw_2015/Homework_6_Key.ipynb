








<!DOCTYPE html>
<html lang="en">

<head>
  <meta charset="utf-8">
  <title>Jupyter Notebook Viewer</title>
  <meta name="viewport" content="width=device-width, initial-scale=1.0">
  <meta name="description" content="">
  <meta name="author" content="">
  
  <meta name="robots" content="noindex,nofollow">
  

  <!--NEW RELIC Start Perf Measurement-->
  
  <!--NREND-->

  <!-- Le styles -->
  <script type="text/javascript">
//<![CDATA[
try{if (!window.CloudFlare) {var CloudFlare=[{verbose:0,p:0,byc:0,owlid:"cf",bag2:1,mirage2:0,oracle:0,paths:{cloudflare:"/cdn-cgi/nexp/dok3v=1613a3a185/"},atok:"d5780763e19e7d19f23070ae83c9af3a",petok:"abadf4e5b00aaf8c0eba7bf350ed84441d6a2ea6-1490889242-3600",zone:"jupyter.org",rocket:"0",apps:{"ga_key":{"ua":"UA-52617120-1","ga_bs":"2"}}}];!function(a,b){a=document.createElement("script"),b=document.getElementsByTagName("script")[0],a.async=!0,a.src="//ajax.cloudflare.com/cdn-cgi/nexp/dok3v=f2befc48d1/cloudflare.min.js",b.parentNode.insertBefore(a,b)}()}}catch(e){};
//]]>
</script>
<link href="/static/build/styles.css?v=c18d49652a516277e15114bbd447f1c1" rel="stylesheet">

  <!-- Le HTML5 shim, for IE6-8 support of HTML5 elements -->
  <!--[if lt IE 9]>
    <script src="http://html5shim.googlecode.com/svn/trunk/html5.js"></script>
  <![endif]-->

  <!-- Le fav and touch icons -->
  <link rel="shortcut icon" href="/static/ico/ipynb_icon_16x16.png">
  <link rel="apple-touch-icon-precomposed" sizes="144x144"
        href="/static/ico/apple-touch-icon-144-precomposed.png?v=5a3c9ede93e2a8b8ea9e3f8f3da1a905">
  <link rel="apple-touch-icon-precomposed" sizes="114x114"
        href="/static/ico/apple-touch-icon-114-precomposed.png?v=45d86fc8f24dc00638035e1dd7a6d898">
  <link rel="apple-touch-icon-precomposed" sizes="72x72"
        href="/static/ico/apple-touch-icon-72-precomposed.png?v=540b5eb0f3cfd25f1439d1c9bd30e15f">
  <link rel="apple-touch-icon-precomposed"
        href="/static/ico/apple-touch-icon-57-precomposed.png?v=225f0590e187e1458625654f10a28f56">
  
  

  

  
  <meta name="twitter:card" content="summary">
  <meta name="twitter:title" content="Notebook on nbviewer">
  <meta name="twitter:description" content="Check out this Jupyter notebook!">

  
  <meta name="twitter:domain" content="nbviewer.ipython.org">
  <meta name="twitter:image:src" content="http://ipython.org/ipython-doc/dev/_images/ipynb_icon_128x128.png">

  
    <link href="/static/build/notebook.css?v=d05748bef7d8f0edbc1e0133b9a41fe0" rel="stylesheet">
  

  

  
    <script src="https://cdn.mathjax.org/mathjax/latest/MathJax.js?config=TeX-AMS_HTML" type="text/javascript">
    </script>
    <script type="text/javascript">
      init_mathjax = function() {
        if (window.MathJax) {
          // MathJax loaded
          MathJax.Hub.Config({
            TeX: {
              equationNumbers: {
                autoNumber: "AMS",
                useLabelIds: true
              }
            },
            tex2jax: {
              inlineMath: [ ['$','$'], ["\\(","\\)"] ],
              displayMath: [ ['$$','$$'], ["\\[","\\]"] ],
              processEscapes: true,
              processEnvironments: true
            },
            displayAlign: 'center',
            "HTML-CSS": {
              styles: {'.MathJax_Display': {"margin": 0}},
              linebreaks: { automatic: true }
            }
          });
          MathJax.Hub.Queue(["Typeset", MathJax.Hub]);
        }
      }
      init_mathjax();
    </script>
  

<script type="text/javascript">
/* <![CDATA[ */
var _gaq = _gaq || [];
_gaq.push(['_setAccount', 'UA-52617120-1']);
_gaq.push(['_trackPageview']);

(function() {
var ga = document.createElement('script'); ga.type = 'text/javascript'; ga.async = true;
ga.src = ('https:' == document.location.protocol ? 'https://ssl' : 'http://www') + '.google-analytics.com/ga.js';
var s = document.getElementsByTagName('script')[0]; s.parentNode.insertBefore(ga, s);
})();

(function(b){(function(a){"__CF"in b&&"DJS"in b.__CF?b.__CF.DJS.push(a):"addEventListener"in b?b.addEventListener("load",a,!1):b.attachEvent("onload",a)})(function(){"FB"in b&&"Event"in FB&&"subscribe"in FB.Event&&(FB.Event.subscribe("edge.create",function(a){_gaq.push(["_trackSocial","facebook","like",a])}),FB.Event.subscribe("edge.remove",function(a){_gaq.push(["_trackSocial","facebook","unlike",a])}),FB.Event.subscribe("message.send",function(a){_gaq.push(["_trackSocial","facebook","send",a])}));"twttr"in b&&"events"in twttr&&"bind"in twttr.events&&twttr.events.bind("tweet",function(a){if(a){var b;if(a.target&&a.target.nodeName=="IFRAME")a:{if(a=a.target.src){a=a.split("#")[0].match(/[^?=&]+=([^&]*)?/g);b=0;for(var c;c=a[b];++b)if(c.indexOf("url")===0){b=unescape(c.split("=")[1]);break a}}b=void 0}_gaq.push(["_trackSocial","twitter","tweet",b])}})})})(window);
/* ]]> */
</script>
</head>

<body class="nbviewer">

  <!-- These are loaded at the top of the body so they are available to
       notebook cells when they are loaded below. -->
  <script src="/static/components/jquery/dist/jquery.min.js?v=e071abda8fe61194711cfc2ab99fe104"></script>
  <script src="/static/components/requirejs/require.js?v=6da8be361b9ee26c5e721e76c6d4afce"></script>
  <script src="/static/components/moment/min/moment.min.js?v=89f87298ad94aa1e6b92f42eb66da043"></script>

<!-- Navbar
================================================== -->
  <nav id="menubar" class="navbar navbar-default navbar-fixed-top" data-spy="affix">
    <div class="container">
      <div class="navbar-header">
        <button type="button" class="navbar-toggle collapsed" data-toggle="collapse" data-target=".navbar-collapse">
          <span class="sr-only">Toggle navigation</span>
          <i class="fa fa-bars"></i>
        </button>
        <a class="navbar-brand" href="/">
          <img src="/static/img/nav_logo.svg?v=479cefe8d932fb14a67b93911b97d70f" width="159"/>
        </a>
      </div>

      <div class="collapse navbar-collapse">
        <ul class="nav navbar-nav navbar-right">
          <li>
            <a class="active" href="http://jupyter.org">JUPYTER</a>
          </li>
          <li>
    <a href="/faq" title="FAQ" >
      
        <span>FAQ</span>
      
    </a>
  </li>

          
  
    
      
        <li>
    <a href="/format/script/url/thewhitelab.org/Classes/CHE116/Unit_6/Homework_6_Key.ipynb" title="View as Code" >
      <span class="fa fa-code fa-2x menu-icon"></span>
      <span class="menu-text">View as Code</span>
    </a>
  </li>
      
    
  
    
  

  

  

  <li>
    <a href="http://thewhitelab.org/Classes/CHE116/Unit_6/Homework_6_Key.ipynb" title="Download Notebook" download>
      <span class="fa fa-download fa-2x menu-icon"></span>
      <span class="menu-text">Download Notebook</span>
    </a>
  </li>

        </ul>
      </div><!-- /.navbar-collapse -->
      
      
    </div>
  </nav>

  <div class="container container-main">
    
  
  <div id="notebook">
    <div id="notebook-container">
      
<div class="cell border-box-sizing text_cell rendered">
<div class="prompt input_prompt">
</div>
<div class="inner_cell">
<div class="text_cell_render border-box-sizing rendered_html">
<h1 id="0.-Warmup">0. Warmup<a class="anchor-link" href="#0.-Warmup">&#182;</a></h1><p>Ungraded</p>

</div>
</div>
</div>
<div class="cell border-box-sizing text_cell rendered">
<div class="prompt input_prompt">
</div>
<div class="inner_cell">
<div class="text_cell_render border-box-sizing rendered_html">
<h1 id="1.-Book-Problems">1. Book Problems<a class="anchor-link" href="#1.-Book-Problems">&#182;</a></h1>
</div>
</div>
</div>
<div class="cell border-box-sizing text_cell rendered">
<div class="prompt input_prompt">
</div>
<div class="inner_cell">
<div class="text_cell_render border-box-sizing rendered_html">
<h3 id="6.1">6.1<a class="anchor-link" href="#6.1">&#182;</a></h3><p>This is an exponential distribution with rate $2$ inverse minutes. The question is about $ 1 - \int_0^{0.75} P(t)\,dt$</p>

</div>
</div>
</div>
<div class="cell border-box-sizing code_cell rendered">
<div class="input">
<div class="prompt input_prompt">In&nbsp;[119]:</div>
<div class="inner_cell">
    <div class="input_area">
<div class=" highlight hl-ipython3"><pre><span></span><span class="c1">#Method 1</span>
<span class="kn">import</span> <span class="nn">scipy.stats</span>
<span class="c1">#documentation says scale = 1 / lambda </span>
<span class="nb">print</span> <span class="s2">&quot;Scipy.stats&quot;</span><span class="p">,</span> <span class="mi">1</span> <span class="o">-</span> <span class="n">scipy</span><span class="o">.</span><span class="n">stats</span><span class="o">.</span><span class="n">expon</span><span class="o">.</span><span class="n">cdf</span><span class="p">(</span><span class="mf">0.75</span><span class="p">,</span> <span class="n">scale</span><span class="o">=</span><span class="mi">1</span> <span class="o">/</span> <span class="mf">2.</span><span class="p">)</span>

<span class="c1">#Method 2</span>
<span class="kn">from</span> <span class="nn">scipy.integrate</span> <span class="k">import</span> <span class="n">quad</span>
<span class="n">lamb</span> <span class="o">=</span> <span class="mf">2.0</span>
<span class="n">ans</span><span class="p">,</span> <span class="n">err</span> <span class="o">=</span>  <span class="n">quad</span><span class="p">(</span><span class="k">lambda</span> <span class="n">s</span><span class="p">:</span> <span class="n">lamb</span> <span class="o">*</span> <span class="n">np</span><span class="o">.</span><span class="n">exp</span><span class="p">(</span><span class="o">-</span><span class="n">lamb</span> <span class="o">*</span> <span class="n">s</span> <span class="p">),</span> <span class="mi">0</span><span class="p">,</span> <span class="mf">0.75</span><span class="p">)</span>
<span class="nb">print</span> <span class="s2">&quot;quad integration&quot;</span><span class="p">,</span> <span class="mi">1</span> <span class="o">-</span> <span class="n">ans</span>
</pre></div>

</div>
</div>
</div>

<div class="output_wrapper">
<div class="output">


<div class="output_area">
<div class="prompt"></div>

<div class="output_subarea output_stream output_stdout output_text">
<pre>Scipy.stats 0.223130160148
quad integration 0.223130160148
</pre>
</div>
</div>

</div>
</div>

</div>
<div class="cell border-box-sizing text_cell rendered">
<div class="prompt input_prompt">
</div>
<div class="inner_cell">
<div class="text_cell_render border-box-sizing rendered_html">
<h3 id="7.1">7.1<a class="anchor-link" href="#7.1">&#182;</a></h3><p>This is a normal distribution and we're integrating it</p>

</div>
</div>
</div>
<div class="cell border-box-sizing code_cell rendered">
<div class="input">
<div class="prompt input_prompt">In&nbsp;[8]:</div>
<div class="inner_cell">
    <div class="input_area">
<div class=" highlight hl-ipython3"><pre><span></span><span class="kn">from</span> <span class="nn">math</span> <span class="k">import</span> <span class="n">sqrt</span><span class="p">,</span> <span class="n">erf</span>

<span class="n">mu</span> <span class="o">=</span> <span class="mf">100.0</span>
<span class="n">sigma</span> <span class="o">=</span> <span class="mf">16.0</span>

<span class="c1">#Part a</span>
<span class="n">Z</span> <span class="o">=</span> <span class="p">(</span><span class="mi">90</span> <span class="o">-</span> <span class="n">mu</span><span class="p">)</span> <span class="o">/</span> <span class="n">sigma</span>
<span class="n">part_a</span> <span class="o">=</span> <span class="mf">0.5</span> <span class="o">*</span> <span class="p">(</span><span class="mi">1</span> <span class="o">+</span> <span class="n">erf</span><span class="p">(</span><span class="n">Z</span> <span class="o">/</span><span class="n">sqrt</span><span class="p">(</span><span class="mf">2.</span><span class="p">)))</span>
<span class="nb">print</span> <span class="s1">&#39;a) </span><span class="si">{}</span><span class="s1">&#39;</span><span class="o">.</span><span class="n">format</span><span class="p">(</span><span class="n">part_a</span><span class="p">)</span>

<span class="c1">#Part b</span>
<span class="n">Z</span> <span class="o">=</span> <span class="p">(</span><span class="mi">130</span> <span class="o">-</span> <span class="n">mu</span><span class="p">)</span> <span class="o">/</span> <span class="n">sigma</span>
<span class="n">part_b</span> <span class="o">=</span> <span class="mi">1</span> <span class="o">-</span> <span class="mf">0.5</span> <span class="o">*</span> <span class="p">(</span><span class="mi">1</span> <span class="o">+</span> <span class="n">erf</span><span class="p">(</span><span class="n">Z</span> <span class="o">/</span> <span class="n">sqrt</span><span class="p">(</span><span class="mf">2.</span><span class="p">)))</span>
<span class="nb">print</span> <span class="s1">&#39;b) </span><span class="si">{}</span><span class="s1">&#39;</span><span class="o">.</span><span class="n">format</span><span class="p">(</span><span class="n">part_b</span><span class="p">)</span>

<span class="c1">#Part c</span>
<span class="n">Z_lo</span> <span class="o">=</span> <span class="p">(</span><span class="mi">95</span> <span class="o">-</span> <span class="n">mu</span><span class="p">)</span> <span class="o">/</span> <span class="n">sigma</span>
<span class="n">Z_hi</span> <span class="o">=</span> <span class="p">(</span><span class="mi">105</span> <span class="o">-</span> <span class="n">mu</span><span class="p">)</span> <span class="o">/</span> <span class="n">sigma</span>
<span class="n">part_c</span> <span class="o">=</span> <span class="mf">0.5</span>  <span class="o">*</span> <span class="p">(</span> <span class="n">erf</span><span class="p">(</span><span class="n">Z_hi</span> <span class="o">/</span> <span class="n">sqrt</span><span class="p">(</span><span class="mi">2</span><span class="p">))</span> <span class="o">-</span> <span class="n">erf</span><span class="p">(</span><span class="n">Z_lo</span> <span class="o">/</span> <span class="n">sqrt</span><span class="p">(</span><span class="mi">2</span><span class="p">)))</span>
<span class="nb">print</span> <span class="s1">&#39;c) </span><span class="si">{}</span><span class="s1">&#39;</span><span class="o">.</span><span class="n">format</span><span class="p">(</span><span class="n">part_c</span><span class="p">)</span>
</pre></div>

</div>
</div>
</div>

<div class="output_wrapper">
<div class="output">


<div class="output_area">
<div class="prompt"></div>

<div class="output_subarea output_stream output_stdout output_text">
<pre>a) 0.265985529049
b) 0.0303963617653
c) 0.24533943694
</pre>
</div>
</div>

</div>
</div>

</div>
<div class="cell border-box-sizing text_cell rendered">
<div class="prompt input_prompt">
</div>
<div class="inner_cell">
<div class="text_cell_render border-box-sizing rendered_html">
<h4 id="Q15">Q15<a class="anchor-link" href="#Q15">&#182;</a></h4>
</div>
</div>
</div>
<div class="cell border-box-sizing code_cell rendered">
<div class="input">
<div class="prompt input_prompt">In&nbsp;[17]:</div>
<div class="inner_cell">
    <div class="input_area">
<div class=" highlight hl-ipython3"><pre><span></span><span class="kn">import</span> <span class="nn">numpy</span> <span class="k">as</span> <span class="nn">np</span>

<span class="n">data</span> <span class="o">=</span> <span class="p">[</span><span class="mi">22</span><span class="p">,</span> <span class="mi">26</span><span class="p">,</span> <span class="mi">34</span><span class="p">,</span> <span class="mi">26</span><span class="p">,</span> <span class="mi">24</span><span class="p">,</span> <span class="mi">20</span><span class="p">,</span> <span class="mi">28</span><span class="p">,</span> <span class="mi">24</span><span class="p">,</span> <span class="mi">24</span><span class="p">,</span> <span class="mi">26</span><span class="p">,</span> <span class="mi">26</span><span class="p">,</span> <span class="mi">28</span><span class="p">,</span>
        <span class="mi">26</span><span class="p">,</span> <span class="mi">30</span><span class="p">,</span> <span class="mi">20</span><span class="p">,</span> <span class="mi">24</span><span class="p">,</span> <span class="mi">28</span><span class="p">,</span> <span class="mi">26</span><span class="p">,</span> <span class="mi">24</span><span class="p">,</span> <span class="mi">22</span><span class="p">,</span> <span class="mi">24</span><span class="p">,</span> <span class="mi">26</span><span class="p">,</span> <span class="mi">22</span><span class="p">,</span> <span class="mi">26</span><span class="p">,</span>
        <span class="mi">28</span><span class="p">,</span> <span class="mi">24</span><span class="p">,</span> <span class="mi">24</span><span class="p">,</span> <span class="mi">28</span><span class="p">,</span> <span class="mi">28</span><span class="p">,</span> <span class="mi">26</span><span class="p">,</span> <span class="mi">22</span><span class="p">,</span> <span class="mi">30</span><span class="p">,</span> <span class="mi">24</span><span class="p">]</span>
<span class="nb">print</span> <span class="s1">&#39;Mean:&#39;</span><span class="p">,</span> <span class="n">np</span><span class="o">.</span><span class="n">mean</span><span class="p">(</span><span class="n">data</span><span class="p">)</span>
<span class="nb">print</span> <span class="s1">&#39;Standard Deviation:&#39;</span><span class="p">,</span> <span class="n">sqrt</span><span class="p">(</span><span class="n">np</span><span class="o">.</span><span class="n">var</span><span class="p">(</span><span class="n">data</span><span class="p">,</span> <span class="n">ddof</span><span class="o">=</span><span class="mi">1</span><span class="p">))</span>
</pre></div>

</div>
</div>
</div>

<div class="output_wrapper">
<div class="output">


<div class="output_area">
<div class="prompt"></div>

<div class="output_subarea output_stream output_stdout output_text">
<pre>Mean: 25.4545454545
Standard Deviation: 2.96954235837
</pre>
</div>
</div>

</div>
</div>

</div>
<div class="cell border-box-sizing text_cell rendered">
<div class="prompt input_prompt">
</div>
<div class="inner_cell">
<div class="text_cell_render border-box-sizing rendered_html">
<h4 id="Q17">Q17<a class="anchor-link" href="#Q17">&#182;</a></h4>
</div>
</div>
</div>
<div class="cell border-box-sizing code_cell rendered">
<div class="input">
<div class="prompt input_prompt">In&nbsp;[34]:</div>
<div class="inner_cell">
    <div class="input_area">
<div class=" highlight hl-ipython3"><pre><span></span><span class="n">data</span> <span class="o">=</span> <span class="nb">range</span><span class="p">(</span><span class="mi">1</span><span class="p">,</span> <span class="mi">8</span><span class="p">)</span>
<span class="nb">print</span> <span class="s1">&#39;Mean:&#39;</span><span class="p">,</span> <span class="n">np</span><span class="o">.</span><span class="n">mean</span><span class="p">(</span><span class="n">data</span><span class="p">)</span>
<span class="nb">print</span> <span class="s1">&#39;Median:&#39;</span><span class="p">,</span> <span class="n">data</span><span class="p">[</span><span class="nb">len</span><span class="p">(</span><span class="n">data</span><span class="p">)</span> <span class="o">/</span> <span class="mi">2</span><span class="p">]</span>
</pre></div>

</div>
</div>
</div>

<div class="output_wrapper">
<div class="output">


<div class="output_area">
<div class="prompt"></div>

<div class="output_subarea output_stream output_stdout output_text">
<pre>Mean: 4.0
Median: 4
</pre>
</div>
</div>

</div>
</div>

</div>
<div class="cell border-box-sizing text_cell rendered">
<div class="prompt input_prompt">
</div>
<div class="inner_cell">
<div class="text_cell_render border-box-sizing rendered_html">
<h4 id="Q25">Q25<a class="anchor-link" href="#Q25">&#182;</a></h4>
</div>
</div>
</div>
<div class="cell border-box-sizing code_cell rendered">
<div class="input">
<div class="prompt input_prompt">In&nbsp;[31]:</div>
<div class="inner_cell">
    <div class="input_area">
<div class=" highlight hl-ipython3"><pre><span></span><span class="n">data</span> <span class="o">=</span> <span class="p">[</span><span class="mi">14</span><span class="p">,</span>
        <span class="mi">13</span><span class="p">,</span>
        <span class="mi">12</span><span class="p">,</span>
        <span class="mi">15</span><span class="p">,</span>
        <span class="mi">16</span><span class="p">,</span>
        <span class="mi">14</span><span class="p">,</span>
        <span class="mi">15</span><span class="p">,</span>
        <span class="mi">14</span><span class="p">,</span>
        <span class="mi">15</span><span class="p">,</span>
        <span class="mi">12</span><span class="p">,</span>
        <span class="mi">13</span><span class="p">,</span>
        <span class="mi">15</span><span class="p">,</span>
        <span class="mi">15</span><span class="p">,</span>
        <span class="mi">13</span><span class="p">,</span>
        <span class="mi">13</span><span class="p">,</span>
        <span class="mi">15</span><span class="p">,</span>
        <span class="mi">15</span><span class="p">,</span>
        <span class="mi">17</span><span class="p">,</span>
        <span class="mi">14</span><span class="p">,</span>
        <span class="mi">16</span><span class="p">,</span>
        <span class="mi">19</span><span class="p">,</span>
        <span class="mi">17</span><span class="p">,</span>
        <span class="mi">16</span><span class="p">,</span>
        <span class="mi">17</span><span class="p">,</span>
        <span class="mi">19</span><span class="p">,</span>
        <span class="mi">13</span><span class="p">,</span>
        <span class="mi">12</span><span class="p">,</span>
        <span class="mi">14</span><span class="p">,</span>
        <span class="mi">16</span><span class="p">,</span>
        <span class="mi">15</span><span class="p">,</span>
        <span class="mi">15</span><span class="p">,</span>
        <span class="mi">17</span><span class="p">,</span>
        <span class="mi">16</span><span class="p">,</span>
        <span class="mi">17</span><span class="p">,</span>
        <span class="mi">20</span><span class="p">,</span>
        <span class="mi">16</span><span class="p">,</span>
        <span class="mi">15</span><span class="p">,</span>
        <span class="mi">15</span><span class="p">,</span>
        <span class="mi">15</span><span class="p">,</span>
        <span class="mi">14</span><span class="p">,</span>
        <span class="mi">11</span><span class="p">,</span>
        <span class="mi">14</span><span class="p">,</span>
        <span class="mi">18</span><span class="p">,</span>
        <span class="mi">15</span><span class="p">,</span>
        <span class="mi">15</span><span class="p">,</span>
        <span class="mi">16</span><span class="p">,</span>
        <span class="mi">15</span><span class="p">,</span>
        <span class="mi">14</span><span class="p">,</span>
        <span class="mi">15</span><span class="p">,</span>
        <span class="mi">18</span><span class="p">]</span>
<span class="n">data</span> <span class="o">=</span> <span class="n">np</span><span class="o">.</span><span class="n">array</span><span class="p">(</span><span class="n">data</span><span class="p">)</span><span class="c1"># dtype makes them into floating points</span>

<span class="nb">print</span> <span class="s1">&#39;Mean:&#39;</span><span class="p">,</span> <span class="n">np</span><span class="o">.</span><span class="n">mean</span><span class="p">(</span><span class="n">data</span><span class="p">)</span>

<span class="nb">print</span> <span class="n">np</span><span class="o">.</span><span class="n">sort</span><span class="p">(</span><span class="n">data</span><span class="p">)</span>
<span class="nb">print</span> <span class="n">np</span><span class="o">.</span><span class="n">sort</span><span class="p">(</span><span class="n">data</span><span class="p">)[</span><span class="nb">len</span><span class="p">(</span><span class="n">data</span><span class="p">)</span> <span class="o">/</span> <span class="mi">2</span><span class="p">]</span>
</pre></div>

</div>
</div>
</div>

<div class="output_wrapper">
<div class="output">


<div class="output_area">
<div class="prompt"></div>

<div class="output_subarea output_stream output_stdout output_text">
<pre>Mean: 15.1
[11 12 12 12 13 13 13 13 13 14 14 14 14 14 14 14 14 15 15 15 15 15 15 15 15
 15 15 15 15 15 15 15 15 16 16 16 16 16 16 16 17 17 17 17 17 18 18 19 19 20]
15
</pre>
</div>
</div>

</div>
</div>

</div>
<div class="cell border-box-sizing text_cell rendered">
<div class="prompt input_prompt">
</div>
<div class="inner_cell">
<div class="text_cell_render border-box-sizing rendered_html">
<p>The mean is 54.151", the mode is 54.15", and the median is 54.15". They are the same because the distribution is symmetric</p>

</div>
</div>
</div>
<div class="cell border-box-sizing code_cell rendered">
<div class="input">
<div class="prompt input_prompt">In&nbsp;[&nbsp;]:</div>
<div class="inner_cell">
    <div class="input_area">
<div class=" highlight hl-ipython3"><pre><span></span> 
</pre></div>

</div>
</div>
</div>

</div>
<div class="cell border-box-sizing text_cell rendered">
<div class="prompt input_prompt">
</div>
<div class="inner_cell">
<div class="text_cell_render border-box-sizing rendered_html">
<h1 id=",2.-CLT">,2. CLT<a class="anchor-link" href="#,2.-CLT">&#182;</a></h1><ol>
<li>No, not enough samples</li>
<li>Yes (Ok to say no not enough samples too)</li>
<li>No, there is no sum/average</li>
<li>Yes</li>
<li>Yes</li>
</ol>

</div>
</div>
</div>
<div class="cell border-box-sizing text_cell rendered">
<div class="prompt input_prompt">
</div>
<div class="inner_cell">
<div class="text_cell_render border-box-sizing rendered_html">
<h1 id="3.-Confidence-Intervals">3. Confidence Intervals<a class="anchor-link" href="#3.-Confidence-Intervals">&#182;</a></h1>
</div>
</div>
</div>
<div class="cell border-box-sizing code_cell rendered">
<div class="input">
<div class="prompt input_prompt">In&nbsp;[2]:</div>
<div class="inner_cell">
    <div class="input_area">
<div class=" highlight hl-ipython3"><pre><span></span><span class="n">data_3_1</span> <span class="o">=</span> <span class="p">[</span><span class="mf">5.81</span><span class="p">,</span> <span class="mf">5.27</span><span class="p">,</span>  <span class="mf">5.4</span><span class="p">,</span>  <span class="mf">4.9</span><span class="p">,</span>  <span class="mf">5.83</span><span class="p">,</span>  <span class="mf">3.2</span><span class="p">,</span>  <span class="mf">6.76</span><span class="p">,</span>  <span class="mf">4.29</span><span class="p">,</span>  <span class="mf">4.76</span><span class="p">,</span>  <span class="mf">5.51</span><span class="p">]</span>
<span class="n">data_3_2</span> <span class="o">=</span> <span class="p">[</span><span class="mf">51.47</span><span class="p">,</span> <span class="mf">48.18</span><span class="p">,</span>  <span class="mf">48.35</span><span class="p">,</span>  <span class="mf">53.57</span><span class="p">]</span>
<span class="n">data_3_3</span> <span class="o">=</span> <span class="p">[</span><span class="mf">91.8</span><span class="p">,</span> <span class="mf">104.04</span><span class="p">,</span>  <span class="mf">129.62</span><span class="p">,</span>  <span class="mf">99.34</span><span class="p">,</span>  <span class="mf">75.92</span><span class="p">,</span>  <span class="mf">56.03</span><span class="p">,</span>  <span class="mf">103.87</span><span class="p">,</span>  <span class="mf">66.27</span><span class="p">,</span>  <span class="mf">88.41</span><span class="p">,</span>  <span class="mf">105.17</span><span class="p">,</span>  <span class="mf">115.05</span><span class="p">,</span>  <span class="mf">111.13</span><span class="p">,</span>  <span class="mf">86.2</span><span class="p">,</span>  <span class="mf">113.48</span><span class="p">,</span>  <span class="mf">96.25</span><span class="p">,</span>  <span class="mf">100.81</span><span class="p">,</span>  <span class="mf">96.56</span><span class="p">,</span>  <span class="mf">89.02</span><span class="p">,</span>  <span class="mf">111.9</span><span class="p">,</span>  <span class="mf">106.55</span><span class="p">,</span>  <span class="mf">117.35</span><span class="p">,</span>  <span class="mf">87.61</span><span class="p">,</span>  <span class="mf">81.97</span><span class="p">,</span>  <span class="mf">106.32</span><span class="p">,</span>  <span class="mf">78.38</span><span class="p">,</span>  <span class="mf">102.38</span><span class="p">,</span>  <span class="mf">80.87</span><span class="p">,</span>  <span class="mf">110.6</span><span class="p">,</span>  <span class="mf">89.09</span><span class="p">,</span>  <span class="mf">132.1</span><span class="p">]</span>
<span class="n">data_3_4</span> <span class="o">=</span> <span class="p">[</span><span class="mf">5.89</span><span class="p">,</span> <span class="mf">3.73</span><span class="p">,</span>  <span class="o">-</span><span class="mf">10.77</span><span class="p">,</span>  <span class="o">-</span><span class="mf">13.92</span><span class="p">,</span>  <span class="mf">0.73</span><span class="p">,</span>  <span class="o">-</span><span class="mf">2.52</span><span class="p">,</span>  <span class="o">-</span><span class="mf">9.69</span><span class="p">,</span>  <span class="mf">14.15</span><span class="p">,</span>  <span class="o">-</span><span class="mf">8.16</span><span class="p">,</span>  <span class="mf">2.62</span><span class="p">,</span>  <span class="o">-</span><span class="mf">0.93</span><span class="p">,</span>  <span class="o">-</span><span class="mf">13.46</span><span class="p">,</span>  <span class="o">-</span><span class="mf">2.95</span><span class="p">,</span>  <span class="o">-</span><span class="mf">7.13</span><span class="p">,</span>  <span class="mf">1.01</span><span class="p">,</span>  <span class="mf">1.45</span><span class="p">,</span>  <span class="mf">16.0</span><span class="p">,</span>  <span class="o">-</span><span class="mf">17.47</span><span class="p">,</span>  <span class="mf">9.58</span><span class="p">,</span>  <span class="mf">13.3</span><span class="p">]</span>
</pre></div>

</div>
</div>
</div>

</div>
<div class="cell border-box-sizing text_cell rendered">
<div class="prompt input_prompt">
</div>
<div class="inner_cell">
<div class="text_cell_render border-box-sizing rendered_html">
<h3 id="Answer-3.1">Answer 3.1<a class="anchor-link" href="#Answer-3.1">&#182;</a></h3>
</div>
</div>
</div>
<div class="cell border-box-sizing code_cell rendered">
<div class="input">
<div class="prompt input_prompt">In&nbsp;[17]:</div>
<div class="inner_cell">
    <div class="input_area">
<div class=" highlight hl-ipython3"><pre><span></span><span class="kn">import</span> <span class="nn">scipy.stats</span>
<span class="kn">import</span> <span class="nn">numpy</span> <span class="k">as</span> <span class="nn">np</span>
<span class="kn">from</span> <span class="nn">math</span> <span class="k">import</span> <span class="o">*</span>

<span class="n">sample_mean</span> <span class="o">=</span> <span class="n">np</span><span class="o">.</span><span class="n">mean</span><span class="p">(</span><span class="n">data_3_1</span> <span class="p">)</span>
<span class="n">sample_var</span> <span class="o">=</span> <span class="n">np</span><span class="o">.</span><span class="n">var</span><span class="p">(</span><span class="n">data_3_1</span><span class="p">,</span> <span class="n">ddof</span><span class="o">=</span><span class="mi">1</span><span class="p">)</span>
<span class="n">T</span> <span class="o">=</span> <span class="n">scipy</span><span class="o">.</span><span class="n">stats</span><span class="o">.</span><span class="n">t</span><span class="o">.</span><span class="n">ppf</span><span class="p">(</span><span class="mf">0.95</span><span class="p">,</span> <span class="nb">len</span><span class="p">(</span><span class="n">data_3_1</span><span class="p">))</span>
<span class="n">y</span> <span class="o">=</span> <span class="n">T</span> <span class="o">*</span> <span class="n">sample_var</span><span class="o">**</span><span class="mf">0.5</span> <span class="o">/</span> <span class="n">sqrt</span><span class="p">(</span><span class="nb">len</span><span class="p">(</span><span class="n">data_3_1</span><span class="p">))</span>
<span class="nb">print</span> <span class="s1">&#39;The true mean is </span><span class="si">{}</span><span class="s1"> +/- </span><span class="si">{}</span><span class="s1"> with 90</span><span class="si">% c</span><span class="s1">onfidence</span><span class="si">{}</span><span class="s1">__</span><span class="si">{}</span><span class="s1">&#39;</span><span class="o">.</span><span class="n">format</span><span class="p">(</span><span class="n">sample_mean</span><span class="p">,</span> <span class="n">y</span><span class="p">,</span> <span class="n">sample_mean</span><span class="o">-</span><span class="n">y</span><span class="p">,</span> <span class="n">sample_mean</span><span class="o">+</span><span class="n">y</span><span class="p">)</span>
</pre></div>

</div>
</div>
</div>

<div class="output_wrapper">
<div class="output">


<div class="output_area">
<div class="prompt"></div>

<div class="output_subarea output_stream output_stdout output_text">
<pre>The true mean is 5.173 +/- 0.55529614009 with 90% confidence4.61770385991__5.72829614009
</pre>
</div>
</div>

</div>
</div>

</div>
<div class="cell border-box-sizing text_cell rendered">
<div class="prompt input_prompt">
</div>
<div class="inner_cell">
<div class="text_cell_render border-box-sizing rendered_html">
<h3 id="Answer-3.2">Answer 3.2<a class="anchor-link" href="#Answer-3.2">&#182;</a></h3>
</div>
</div>
</div>
<div class="cell border-box-sizing code_cell rendered">
<div class="input">
<div class="prompt input_prompt">In&nbsp;[16]:</div>
<div class="inner_cell">
    <div class="input_area">
<div class=" highlight hl-ipython3"><pre><span></span><span class="n">sample_mean</span> <span class="o">=</span> <span class="n">np</span><span class="o">.</span><span class="n">mean</span><span class="p">(</span><span class="n">data_3_2</span> <span class="p">)</span>
<span class="n">sample_var</span> <span class="o">=</span> <span class="n">np</span><span class="o">.</span><span class="n">var</span><span class="p">(</span><span class="n">data_3_2</span><span class="p">,</span> <span class="n">ddof</span><span class="o">=</span><span class="mi">1</span><span class="p">)</span>
<span class="n">st</span><span class="o">=</span><span class="n">np</span><span class="o">.</span><span class="n">std</span><span class="p">(</span><span class="n">data_3_2</span><span class="p">)</span>
<span class="n">T</span> <span class="o">=</span> <span class="n">scipy</span><span class="o">.</span><span class="n">stats</span><span class="o">.</span><span class="n">t</span><span class="o">.</span><span class="n">ppf</span><span class="p">(</span><span class="mf">0.975</span><span class="p">,</span> <span class="nb">len</span><span class="p">(</span><span class="n">data_3_2</span><span class="p">))</span>
<span class="n">y</span> <span class="o">=</span> <span class="n">T</span> <span class="o">*</span> <span class="n">sample_var</span><span class="o">**</span><span class="mf">0.5</span> <span class="o">/</span> <span class="n">sqrt</span><span class="p">(</span><span class="nb">len</span><span class="p">(</span><span class="n">data_3_2</span><span class="p">))</span>
<span class="nb">print</span> <span class="s1">&#39;The true mean is </span><span class="si">{}</span><span class="s1"> +/- </span><span class="si">{}</span><span class="s1"> with 95</span><span class="si">% c</span><span class="s1">onfidence </span><span class="si">{}</span><span class="s1">; </span><span class="si">{}</span><span class="s1">&#39;</span><span class="o">.</span><span class="n">format</span><span class="p">(</span><span class="n">sample_mean</span><span class="p">,</span> <span class="n">y</span><span class="p">,</span> <span class="n">sample_mean</span><span class="o">-</span><span class="n">y</span><span class="p">,</span> <span class="n">sample_mean</span><span class="o">+</span><span class="n">y</span><span class="p">)</span>
</pre></div>

</div>
</div>
</div>

<div class="output_wrapper">
<div class="output">


<div class="output_area">
<div class="prompt"></div>

<div class="output_subarea output_stream output_stdout output_text">
<pre>The true mean is 50.3925 +/- 3.61333423834 with 95% confidence 46.7791657617; 54.0058342383
</pre>
</div>
</div>

</div>
</div>

</div>
<div class="cell border-box-sizing text_cell rendered">
<div class="prompt input_prompt">
</div>
<div class="inner_cell">
<div class="text_cell_render border-box-sizing rendered_html">
<h3 id="Answer-3.3">Answer 3.3<a class="anchor-link" href="#Answer-3.3">&#182;</a></h3>
</div>
</div>
</div>
<div class="cell border-box-sizing code_cell rendered">
<div class="input">
<div class="prompt input_prompt">In&nbsp;[24]:</div>
<div class="inner_cell">
    <div class="input_area">
<div class=" highlight hl-ipython3"><pre><span></span><span class="n">sample_mean</span> <span class="o">=</span> <span class="n">np</span><span class="o">.</span><span class="n">mean</span><span class="p">(</span><span class="n">data_3_3</span> <span class="p">)</span>
<span class="n">sample_var</span> <span class="o">=</span> <span class="n">np</span><span class="o">.</span><span class="n">var</span><span class="p">(</span><span class="n">data_3_3</span><span class="p">,</span> <span class="n">ddof</span><span class="o">=</span><span class="mi">1</span><span class="p">)</span>
<span class="n">Z</span> <span class="o">=</span> <span class="n">scipy</span><span class="o">.</span><span class="n">stats</span><span class="o">.</span><span class="n">norm</span><span class="o">.</span><span class="n">ppf</span><span class="p">(</span><span class="mf">0.995</span><span class="p">)</span>
<span class="n">y</span> <span class="o">=</span> <span class="n">Z</span> <span class="o">*</span> <span class="n">sample_var</span><span class="o">**</span><span class="mf">0.5</span> <span class="o">/</span> <span class="n">sqrt</span><span class="p">(</span><span class="nb">len</span><span class="p">(</span><span class="n">data_3_3</span><span class="p">))</span>
<span class="nb">print</span> <span class="s1">&#39;The true mean is </span><span class="si">{}</span><span class="s1"> +/- </span><span class="si">{}</span><span class="s1"> with 99</span><span class="si">% c</span><span class="s1">onfidence </span><span class="si">{}</span><span class="s1">, </span><span class="si">{}</span><span class="s1">&#39;</span><span class="o">.</span><span class="n">format</span><span class="p">(</span><span class="n">sample_mean</span><span class="p">,</span> <span class="n">y</span><span class="p">,</span>  <span class="n">sample_mean</span><span class="o">-</span><span class="n">y</span><span class="p">,</span> <span class="n">sample_mean</span><span class="o">+</span><span class="n">y</span><span class="p">)</span>
</pre></div>

</div>
</div>
</div>

<div class="output_wrapper">
<div class="output">


<div class="output_area">
<div class="prompt"></div>

<div class="output_subarea output_stream output_stdout output_text">
<pre>The true mean is 97.803 +/- 8.10703239366 with 99% confidence 89.6959676063, 105.910032394
</pre>
</div>
</div>

</div>
</div>

</div>
<div class="cell border-box-sizing text_cell rendered">
<div class="prompt input_prompt">
</div>
<div class="inner_cell">
<div class="text_cell_render border-box-sizing rendered_html">
<h3 id="Answer-3.4">Answer 3.4<a class="anchor-link" href="#Answer-3.4">&#182;</a></h3>
</div>
</div>
</div>
<div class="cell border-box-sizing code_cell rendered">
<div class="input">
<div class="prompt input_prompt">In&nbsp;[38]:</div>
<div class="inner_cell">
    <div class="input_area">
<div class=" highlight hl-ipython3"><pre><span></span><span class="n">sample_mean</span> <span class="o">=</span> <span class="n">np</span><span class="o">.</span><span class="n">mean</span><span class="p">(</span><span class="n">data_3_4</span> <span class="p">)</span>
<span class="n">sample_var</span> <span class="o">=</span> <span class="n">np</span><span class="o">.</span><span class="n">var</span><span class="p">(</span><span class="n">data_3_4</span><span class="p">,</span> <span class="n">ddof</span><span class="o">=</span><span class="mi">1</span><span class="p">)</span>
<span class="n">Z</span> <span class="o">=</span> <span class="n">scipy</span><span class="o">.</span><span class="n">stats</span><span class="o">.</span><span class="n">norm</span><span class="o">.</span><span class="n">ppf</span><span class="p">(</span><span class="mf">0.90</span><span class="p">)</span>
<span class="n">y</span> <span class="o">=</span> <span class="n">Z</span> <span class="o">*</span> <span class="n">sample_var</span><span class="o">**</span><span class="mf">0.5</span> <span class="o">/</span> <span class="n">sqrt</span><span class="p">(</span><span class="nb">len</span><span class="p">(</span><span class="n">data_3_4</span><span class="p">))</span>
<span class="nb">print</span> <span class="n">sample_mean</span>
<span class="nb">print</span> <span class="s1">&#39;The true mean is less than </span><span class="si">{}</span><span class="s1"> with 90</span><span class="si">% c</span><span class="s1">onfidence&#39;</span><span class="o">.</span><span class="n">format</span><span class="p">(</span><span class="n">sample_mean</span><span class="o">+</span><span class="n">y</span><span class="p">)</span>
</pre></div>

</div>
</div>
</div>

<div class="output_wrapper">
<div class="output">


<div class="output_area">
<div class="prompt"></div>

<div class="output_subarea output_stream output_stdout output_text">
<pre>-0.927
The true mean is less than 1.8545989135 with 90% confidence
</pre>
</div>
</div>

</div>
</div>

</div>
<div class="cell border-box-sizing text_cell rendered">
<div class="prompt input_prompt">
</div>
<div class="inner_cell">
<div class="text_cell_render border-box-sizing rendered_html">
<h1 id="4.-Math-Equations">4. Math Equations<a class="anchor-link" href="#4.-Math-Equations">&#182;</a></h1><ol>
<li>$\cos(x^2) - x = 0$</li>
<li>$x^2 - 4839 = 0$</li>
<li>$\int_\pi^x \sin^2 s\,dx - 1 = 0$</li>
</ol>

</div>
</div>
</div>
<div class="cell border-box-sizing code_cell rendered">
<div class="input">
<div class="prompt input_prompt">In&nbsp;[1]:</div>
<div class="inner_cell">
    <div class="input_area">
<div class=" highlight hl-ipython3"><pre><span></span><span class="kn">from</span> <span class="nn">scipy.optimize</span> <span class="k">import</span> <span class="n">newton</span>
<span class="kn">import</span> <span class="nn">numpy</span> <span class="k">as</span> <span class="nn">np</span>
<span class="kn">from</span> <span class="nn">math</span> <span class="k">import</span> <span class="o">*</span>

<span class="nb">print</span> <span class="n">newton</span><span class="p">(</span><span class="k">lambda</span> <span class="n">x</span><span class="p">:</span> <span class="n">cos</span><span class="p">(</span><span class="n">x</span><span class="o">**</span><span class="mi">2</span><span class="p">)</span> <span class="o">-</span> <span class="n">x</span><span class="p">,</span> <span class="n">x0</span><span class="o">=</span><span class="mi">0</span><span class="p">)</span>
</pre></div>

</div>
</div>
</div>

<div class="output_wrapper">
<div class="output">


<div class="output_area">
<div class="prompt"></div>

<div class="output_subarea output_stream output_stdout output_text">
<pre>0.801070765209
</pre>
</div>
</div>

</div>
</div>

</div>
<div class="cell border-box-sizing code_cell rendered">
<div class="input">
<div class="prompt input_prompt">In&nbsp;[2]:</div>
<div class="inner_cell">
    <div class="input_area">
<div class=" highlight hl-ipython3"><pre><span></span><span class="nb">print</span> <span class="n">newton</span><span class="p">(</span><span class="k">lambda</span> <span class="n">x</span><span class="p">:</span> <span class="n">x</span><span class="o">**</span><span class="mi">2</span> <span class="o">-</span> <span class="mi">4839</span><span class="p">,</span> <span class="n">x0</span><span class="o">=</span><span class="mi">1</span><span class="p">)</span>
</pre></div>

</div>
</div>
</div>

<div class="output_wrapper">
<div class="output">


<div class="output_area">
<div class="prompt"></div>

<div class="output_subarea output_stream output_stdout output_text">
<pre>69.5629211578
</pre>
</div>
</div>

</div>
</div>

</div>
<div class="cell border-box-sizing code_cell rendered">
<div class="input">
<div class="prompt input_prompt">In&nbsp;[107]:</div>
<div class="inner_cell">
    <div class="input_area">
<div class=" highlight hl-ipython3"><pre><span></span><span class="kn">from</span> <span class="nn">scipy.integrate</span> <span class="k">import</span> <span class="n">quad</span>

<span class="k">def</span> <span class="nf">integral</span><span class="p">(</span><span class="n">x</span><span class="p">):</span>
    <span class="n">ans</span><span class="p">,</span> <span class="n">err</span> <span class="o">=</span> <span class="n">quad</span><span class="p">(</span><span class="k">lambda</span> <span class="n">y</span><span class="p">:</span> <span class="n">np</span><span class="o">.</span><span class="n">sin</span><span class="p">(</span><span class="n">y</span><span class="p">)</span><span class="o">**</span><span class="mi">2</span><span class="p">,</span> <span class="n">pi</span><span class="p">,</span> <span class="n">x</span><span class="p">)</span>
    <span class="k">return</span> <span class="n">ans</span> <span class="o">-</span> <span class="mi">1</span>

<span class="n">x</span> <span class="o">=</span>  <span class="n">newton</span><span class="p">(</span><span class="n">integral</span><span class="p">,</span> <span class="n">x0</span><span class="o">=</span><span class="mi">1</span><span class="p">)</span>
<span class="nb">print</span> <span class="n">x</span><span class="p">,</span> <span class="n">integral</span><span class="p">(</span><span class="n">x</span><span class="p">)</span>
</pre></div>

</div>
</div>
</div>

<div class="output_wrapper">
<div class="output">


<div class="output_area">
<div class="prompt"></div>

<div class="output_subarea output_stream output_stdout output_text">
<pre>4.93041265958 -3.33066907388e-16
</pre>
</div>
</div>

</div>
</div>

</div>
 


    </div>
  </div>

  </div>


  
    <footer class="footer hidden-print">
      <div class="container">
        <div class="col-md-4">
          <p>
            This website does not host notebooks, it only renders notebooks
            available on other websites.
          </p>
        </div>

        <div class="col-md-4">
          <p>
            Delivered by <a href="http://www.fastly.com/">Fastly</a>,
            Rendered by <a href="https://developer.rackspace.com/?nbviewer=awesome">Rackspace</a>
          </p>
          <p>
            nbviewer GitHub <a href="https://github.com/jupyter/nbviewer">repository</a>.
          </p>
        </div>

        <div class="col-md-4">
          
  
            
              <p>
                nbviewer version:
                <a href="https://github.com/jupyter/nbviewer/commit/4f5d1d8a2539c1c8dc92873d3a775d34f0a3d417">
                  4f5d1d8
                </a>
              </p>
            
          
  
  <p>
    nbconvert version: <a href="https://github.com/jupyter/nbconvert/releases/tag/5.1.1">
      5.1.1
    </a>
  </p>
  

          
  
  
  <p>
    Rendered
    <span class='date' data-date='Thu, 30 Mar 2017 15:54:02 UTC' title='Thu, 30 Mar 2017 15:54:02 UTC'>(Thu, 30 Mar 2017 15:54:02 UTC)</span>
  </p>
  

        </div>
      </div>
    </footer>
  

  <script src="https://unpkg.com/jupyter-js-widgets@2.0.*/dist/embed.js"></script>
  <script src="/static/components/bootstrap/js/bootstrap.min.js?v=5869c96cc8f19086aee625d670d741f9"></script>
  <script src="/static/components/headroom.js/dist/headroom.min.js?v=b0a311ea668f8e768ea375f4a7abb81c"></script>
  <script src="/static/components/headroom.js/dist/jQuery.headroom.min.js?v=f3a1bae118315d0c234afc74dc6aab71"></script>

  
  
  <script>
    $(function(){ $("#menubar").headroom({
      tolerance: 5,
      offset: 205,
      classes: {
        initial: "animated",
        pinned: "slideInDown",
        unpinned: "slideOutUp"
      }
    })});
  </script>


  
  <script>
    (function(i,s,o,g,r,a,m){i['GoogleAnalyticsObject']=r;i[r]=i[r]||function(){
      (i[r].q=i[r].q||[]).push(arguments)},i[r].l=1*new Date();a=s.createElement(o),
      m=s.getElementsByTagName(o)[0];a.async=1;a.src=g;m.parentNode.insertBefore(a,m)
    })(window,document,'script','https://www.google-analytics.com/analytics.js','ga');
    ga('create', 'UA-52617120-5', 'auto');
    ga('send', 'pageview');
  </script>
  
  <script>
    require({
        paths: {
          moment: "/static/components/moment/min/moment.min.js?v=89f87298ad94aa1e6b92f42eb66da043"
        }
      }, ["moment"], function(moment){
      var date = $("footer .date"),
        m = moment(new Date(date.data('date'))),
        update = function(){ date.text(m.fromNow()); };
      setInterval(update, 61*1000);
      update();
      var w = $(window).scroll(function(event){
        $("body").toggleClass("scrolled", w.scrollTop() > 0);
      });
    });
  </script>
  <!--NEW RELIC Stop Perf Measurement-->
  
  <!--NEW RELIC End-->
</body>
</html>