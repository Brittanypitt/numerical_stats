{
 "metadata": {
  "name": "",
  "signature": "sha256:07868dd6ee6bf575784d8d214d2d68b9e553686b16bfefb1df29199e20a460ff"
 },
 "nbformat": 3,
 "nbformat_minor": 0,
 "worksheets": [
  {
   "cells": [
    {
     "cell_type": "markdown",
     "metadata": {},
     "source": [
      "0. Warmup\n",
      "====\n",
      "\n",
      "Ungraded"
     ]
    },
    {
     "cell_type": "markdown",
     "metadata": {},
     "source": [
      "1. Book Problems\n",
      "===="
     ]
    },
    {
     "cell_type": "markdown",
     "metadata": {},
     "source": [
      "###6.1\n",
      "\n",
      "This is an exponential distribution with rate $2$ inverse minutes. The question is about $ 1 - \\int_0^{0.75} P(t)\\,dt$"
     ]
    },
    {
     "cell_type": "code",
     "collapsed": false,
     "input": [
      "#Method 1\n",
      "import scipy.stats\n",
      "#documentation says scale = 1 / lambda \n",
      "print \"Scipy.stats\", 1 - scipy.stats.expon.cdf(0.75, scale=1 / 2.)\n",
      "\n",
      "#Method 2\n",
      "from scipy.integrate import quad\n",
      "lamb = 2.0\n",
      "ans, err =  quad(lambda s: lamb * np.exp(-lamb * s ), 0, 0.75)\n",
      "print \"quad integration\", 1 - ans"
     ],
     "language": "python",
     "metadata": {},
     "outputs": [
      {
       "output_type": "stream",
       "stream": "stdout",
       "text": [
        "Scipy.stats 0.223130160148\n",
        "quad integration 0.223130160148\n"
       ]
      }
     ],
     "prompt_number": 119
    },
    {
     "cell_type": "markdown",
     "metadata": {},
     "source": [
      "###7.1\n",
      "\n",
      "This is a normal distribution and we're integrating it"
     ]
    },
    {
     "cell_type": "code",
     "collapsed": false,
     "input": [
      "from math import sqrt, erf\n",
      "\n",
      "mu = 100.0\n",
      "sigma = 16.0\n",
      "\n",
      "#Part a\n",
      "Z = (90 - mu) / sigma\n",
      "part_a = 0.5 * (1 + erf(Z /sqrt(2.)))\n",
      "print 'a) {}'.format(part_a)\n",
      "\n",
      "#Part b\n",
      "Z = (130 - mu) / sigma\n",
      "part_b = 1 - 0.5 * (1 + erf(Z / sqrt(2.)))\n",
      "print 'b) {}'.format(part_b)\n",
      "\n",
      "#Part c\n",
      "Z_lo = (95 - mu) / sigma\n",
      "Z_hi = (105 - mu) / sigma\n",
      "part_c = 0.5  * ( erf(Z_hi / sqrt(2)) - erf(Z_lo / sqrt(2)))\n",
      "print 'c) {}'.format(part_c)"
     ],
     "language": "python",
     "metadata": {},
     "outputs": [
      {
       "output_type": "stream",
       "stream": "stdout",
       "text": [
        "a) 0.265985529049\n",
        "b) 0.0303963617653\n",
        "c) 0.24533943694\n"
       ]
      }
     ],
     "prompt_number": 8
    },
    {
     "cell_type": "markdown",
     "metadata": {},
     "source": [
      "####Q15"
     ]
    },
    {
     "cell_type": "code",
     "collapsed": false,
     "input": [
      "import numpy as np\n",
      "\n",
      "data = [22, 26, 34, 26, 24, 20, 28, 24, 24, 26, 26, 28,\n",
      "        26, 30, 20, 24, 28, 26, 24, 22, 24, 26, 22, 26,\n",
      "        28, 24, 24, 28, 28, 26, 22, 30, 24]\n",
      "print 'Mean:', np.mean(data)\n",
      "print 'Standard Deviation:', sqrt(np.var(data, ddof=1))"
     ],
     "language": "python",
     "metadata": {},
     "outputs": [
      {
       "output_type": "stream",
       "stream": "stdout",
       "text": [
        "Mean: 25.4545454545\n",
        "Standard Deviation: 2.96954235837\n"
       ]
      }
     ],
     "prompt_number": 17
    },
    {
     "cell_type": "markdown",
     "metadata": {},
     "source": [
      "####Q17"
     ]
    },
    {
     "cell_type": "code",
     "collapsed": false,
     "input": [
      "data = range(1, 8)\n",
      "print 'Mean:', np.mean(data)\n",
      "print 'Median:', data[len(data) / 2]"
     ],
     "language": "python",
     "metadata": {},
     "outputs": [
      {
       "output_type": "stream",
       "stream": "stdout",
       "text": [
        "Mean: 4.0\n",
        "Median: 4\n"
       ]
      }
     ],
     "prompt_number": 34
    },
    {
     "cell_type": "markdown",
     "metadata": {},
     "source": [
      "####Q25"
     ]
    },
    {
     "cell_type": "code",
     "collapsed": false,
     "input": [
      "data = [14,\n",
      "        13,\n",
      "        12,\n",
      "        15,\n",
      "        16,\n",
      "        14,\n",
      "        15,\n",
      "        14,\n",
      "        15,\n",
      "        12,\n",
      "        13,\n",
      "        15,\n",
      "        15,\n",
      "        13,\n",
      "        13,\n",
      "        15,\n",
      "        15,\n",
      "        17,\n",
      "        14,\n",
      "        16,\n",
      "        19,\n",
      "        17,\n",
      "        16,\n",
      "        17,\n",
      "        19,\n",
      "        13,\n",
      "        12,\n",
      "        14,\n",
      "        16,\n",
      "        15,\n",
      "        15,\n",
      "        17,\n",
      "        16,\n",
      "        17,\n",
      "        20,\n",
      "        16,\n",
      "        15,\n",
      "        15,\n",
      "        15,\n",
      "        14,\n",
      "        11,\n",
      "        14,\n",
      "        18,\n",
      "        15,\n",
      "        15,\n",
      "        16,\n",
      "        15,\n",
      "        14,\n",
      "        15,\n",
      "        18]\n",
      "data = np.array(data)# dtype makes them into floating points\n",
      "\n",
      "print 'Mean:', np.mean(data)\n",
      "\n",
      "print np.sort(data)\n",
      "print np.sort(data)[len(data) / 2]"
     ],
     "language": "python",
     "metadata": {},
     "outputs": [
      {
       "output_type": "stream",
       "stream": "stdout",
       "text": [
        "Mean: 15.1\n",
        "[11 12 12 12 13 13 13 13 13 14 14 14 14 14 14 14 14 15 15 15 15 15 15 15 15\n",
        " 15 15 15 15 15 15 15 15 16 16 16 16 16 16 16 17 17 17 17 17 18 18 19 19 20]\n",
        "15\n"
       ]
      }
     ],
     "prompt_number": 31
    },
    {
     "cell_type": "markdown",
     "metadata": {},
     "source": [
      "The mean is 54.151\", the mode is 54.15\", and the median is 54.15\". They are the same because the distribution is symmetric"
     ]
    },
    {
     "cell_type": "code",
     "collapsed": false,
     "input": [],
     "language": "python",
     "metadata": {},
     "outputs": []
    },
    {
     "cell_type": "markdown",
     "metadata": {},
     "source": [
      ",2. CLT\n",
      "====\n",
      "\n",
      "1. No, not enough samples\n",
      "2. Yes (Ok to say no not enough samples too)\n",
      "3. No, there is no sum/average\n",
      "4. Yes\n",
      "5. Yes"
     ]
    },
    {
     "cell_type": "markdown",
     "metadata": {},
     "source": [
      "3. Confidence Intervals\n",
      "===="
     ]
    },
    {
     "cell_type": "code",
     "collapsed": false,
     "input": [
      "data_3_1 = [5.81, 5.27,  5.4,  4.9,  5.83,  3.2,  6.76,  4.29,  4.76,  5.51]\n",
      "data_3_2 = [51.47, 48.18,  48.35,  53.57]\n",
      "data_3_3 = [91.8, 104.04,  129.62,  99.34,  75.92,  56.03,  103.87,  66.27,  88.41,  105.17,  115.05,  111.13,  86.2,  113.48,  96.25,  100.81,  96.56,  89.02,  111.9,  106.55,  117.35,  87.61,  81.97,  106.32,  78.38,  102.38,  80.87,  110.6,  89.09,  132.1]\n",
      "data_3_4 = [5.89, 3.73,  -10.77,  -13.92,  0.73,  -2.52,  -9.69,  14.15,  -8.16,  2.62,  -0.93,  -13.46,  -2.95,  -7.13,  1.01,  1.45,  16.0,  -17.47,  9.58,  13.3]"
     ],
     "language": "python",
     "metadata": {},
     "outputs": [],
     "prompt_number": 2
    },
    {
     "cell_type": "markdown",
     "metadata": {},
     "source": [
      "###Answer 3.1"
     ]
    },
    {
     "cell_type": "code",
     "collapsed": false,
     "input": [
      "import scipy.stats\n",
      "import numpy as np\n",
      "from math import *\n",
      "\n",
      "sample_mean = np.mean(data_3_1 )\n",
      "sample_var = np.var(data_3_1, ddof=1)\n",
      "T = scipy.stats.t.ppf(0.95, len(data_3_1))\n",
      "y = T * sample_var**0.5 / sqrt(len(data_3_1))\n",
      "print 'The true mean is {} +/- {} with 90% confidence{}__{}'.format(sample_mean, y, sample_mean-y, sample_mean+y)\n"
     ],
     "language": "python",
     "metadata": {},
     "outputs": [
      {
       "output_type": "stream",
       "stream": "stdout",
       "text": [
        "The true mean is 5.173 +/- 0.55529614009 with 90% confidence4.61770385991__5.72829614009\n"
       ]
      }
     ],
     "prompt_number": 17
    },
    {
     "cell_type": "markdown",
     "metadata": {},
     "source": [
      "###Answer 3.2"
     ]
    },
    {
     "cell_type": "code",
     "collapsed": false,
     "input": [
      "sample_mean = np.mean(data_3_2 )\n",
      "sample_var = np.var(data_3_2, ddof=1)\n",
      "st=np.std(data_3_2)\n",
      "T = scipy.stats.t.ppf(0.975, len(data_3_2))\n",
      "y = T * sample_var**0.5 / sqrt(len(data_3_2))\n",
      "print 'The true mean is {} +/- {} with 95% confidence {}; {}'.format(sample_mean, y, sample_mean-y, sample_mean+y)\n"
     ],
     "language": "python",
     "metadata": {},
     "outputs": [
      {
       "output_type": "stream",
       "stream": "stdout",
       "text": [
        "The true mean is 50.3925 +/- 3.61333423834 with 95% confidence 46.7791657617; 54.0058342383\n"
       ]
      }
     ],
     "prompt_number": 16
    },
    {
     "cell_type": "markdown",
     "metadata": {},
     "source": [
      "###Answer 3.3"
     ]
    },
    {
     "cell_type": "code",
     "collapsed": false,
     "input": [
      "sample_mean = np.mean(data_3_3 )\n",
      "sample_var = np.var(data_3_3, ddof=1)\n",
      "Z = scipy.stats.norm.ppf(0.995)\n",
      "y = Z * sample_var**0.5 / sqrt(len(data_3_3))\n",
      "print 'The true mean is {} +/- {} with 99% confidence {}, {}'.format(sample_mean, y,  sample_mean-y, sample_mean+y)\n"
     ],
     "language": "python",
     "metadata": {},
     "outputs": [
      {
       "output_type": "stream",
       "stream": "stdout",
       "text": [
        "The true mean is 97.803 +/- 8.10703239366 with 99% confidence 89.6959676063, 105.910032394\n"
       ]
      }
     ],
     "prompt_number": 24
    },
    {
     "cell_type": "markdown",
     "metadata": {},
     "source": [
      "###Answer 3.4"
     ]
    },
    {
     "cell_type": "code",
     "collapsed": false,
     "input": [
      "sample_mean = np.mean(data_3_4 )\n",
      "sample_var = np.var(data_3_4, ddof=1)\n",
      "Z = scipy.stats.norm.ppf(0.90)\n",
      "y = Z * sample_var**0.5 / sqrt(len(data_3_4))\n",
      "print sample_mean\n",
      "print 'The true mean is less than {} with 90% confidence'.format(sample_mean+y)\n"
     ],
     "language": "python",
     "metadata": {},
     "outputs": [
      {
       "output_type": "stream",
       "stream": "stdout",
       "text": [
        "-0.927\n",
        "The true mean is less than 1.8545989135 with 90% confidence\n"
       ]
      }
     ],
     "prompt_number": 38
    },
    {
     "cell_type": "markdown",
     "metadata": {},
     "source": [
      "4. Math Equations\n",
      "====\n",
      "\n",
      "1. $\\cos(x^2) - x = 0$\n",
      "2. $x^2 - 4839 = 0$\n",
      "3. $\\int_\\pi^x \\sin^2 s\\,dx - 1 = 0$"
     ]
    },
    {
     "cell_type": "code",
     "collapsed": false,
     "input": [
      "from scipy.optimize import newton\n",
      "import numpy as np\n",
      "from math import *\n",
      "\n",
      "print newton(lambda x: cos(x**2) - x, x0=0)"
     ],
     "language": "python",
     "metadata": {},
     "outputs": [
      {
       "output_type": "stream",
       "stream": "stdout",
       "text": [
        "0.801070765209\n"
       ]
      }
     ],
     "prompt_number": 1
    },
    {
     "cell_type": "code",
     "collapsed": false,
     "input": [
      "print newton(lambda x: x**2 - 4839, x0=1)"
     ],
     "language": "python",
     "metadata": {},
     "outputs": [
      {
       "output_type": "stream",
       "stream": "stdout",
       "text": [
        "69.5629211578\n"
       ]
      }
     ],
     "prompt_number": 2
    },
    {
     "cell_type": "code",
     "collapsed": false,
     "input": [
      "from scipy.integrate import quad\n",
      "\n",
      "def integral(x):\n",
      "    ans, err = quad(lambda y: np.sin(y)**2, pi, x)\n",
      "    return ans - 1\n",
      "\n",
      "x =  newton(integral, x0=1)\n",
      "print x, integral(x)"
     ],
     "language": "python",
     "metadata": {},
     "outputs": [
      {
       "output_type": "stream",
       "stream": "stdout",
       "text": [
        "4.93041265958 -3.33066907388e-16\n"
       ]
      }
     ],
     "prompt_number": 107
    }
   ],
   "metadata": {}
  }
 ]
}