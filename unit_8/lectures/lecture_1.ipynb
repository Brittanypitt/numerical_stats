{
 "cells": [
  {
   "cell_type": "markdown",
   "metadata": {
    "deletable": true,
    "editable": true,
    "slideshow": {
     "slide_type": "slide"
    }
   },
   "source": [
    "Unit 8, Lecture 1\n",
    "====\n",
    "\n",
    "*Numerical Methods and Statistics*\n",
    "\n",
    "----\n",
    "\n",
    "#### Prof. Andrew White, March 9 2017"
   ]
  },
  {
   "cell_type": "markdown",
   "metadata": {
    "deletable": true,
    "editable": true,
    "slideshow": {
     "slide_type": "slide"
    }
   },
   "source": [
    "Central Limit Theorem (CLT)\n",
    "====\n",
    "\n",
    "Why are normal distributions common? They arise because when you sum multiple random variables, they become normally distributed if:\n",
    "\n",
    "1. They have finite means and variances\n",
    "2. You have enough of them (20-25 usually)\n"
   ]
  },
  {
   "cell_type": "markdown",
   "metadata": {
    "deletable": true,
    "editable": true
   },
   "source": [
    "Each observation in our distribution, $x$, follows:\n",
    "\n",
    "$$x = \\frac{1}{N} \\sum_i^N r_i$$\n",
    "\n",
    "where $r_i$ are coming from the same distribution or different distributions. The CLT says if $N$ is big enough, $x$ will be normally distributed regardless of how $r_i$s are distributed."
   ]
  },
  {
   "cell_type": "code",
   "execution_count": 14,
   "metadata": {
    "collapsed": false,
    "deletable": true,
    "editable": true,
    "slideshow": {
     "slide_type": "skip"
    }
   },
   "outputs": [],
   "source": [
    "%matplotlib inline\n",
    "import random\n",
    "from scipy import stats as ss\n",
    "import numpy as np\n",
    "import matplotlib.pyplot as plt\n",
    "import matplotlib as mpl\n",
    "from math import sqrt, pi\n",
    "def normal_pdf(x, mu, sigma):\n",
    "    return 1 / (sigma * sqrt(2 * pi)) * np.exp(-(x - mu)**2 / (2. * sigma))\n",
    "rochester_blue = \"#00467f\"\n",
    "rochester_gold = \"#ffdd00\"\n",
    "mpl.style.use('seaborn-notebook')"
   ]
  },
  {
   "cell_type": "markdown",
   "metadata": {
    "deletable": true,
    "editable": true,
    "slideshow": {
     "slide_type": "slide"
    }
   },
   "source": [
    "CLT Demonstration with Beta Distribution\n",
    "====\n",
    "\n",
    "Consider sampling from a beta distribution."
   ]
  },
  {
   "cell_type": "code",
   "execution_count": 15,
   "metadata": {
    "collapsed": false,
    "deletable": true,
    "editable": true,
    "slideshow": {
     "slide_type": "fragment"
    }
   },
   "outputs": [
    {
     "data": {
      "image/png": "[encoded data removed]",
      "text/plain": [
       "<matplotlib.figure.Figure at 0x7f28f5f0d048>"
      ]
     },
     "metadata": {},
     "output_type": "display_data"
    }
   ],
   "source": [
    "#get 1000 random numbers from the SAME beta distribution\n",
    "data = ss.beta.rvs(0.5, 0.5, size=1000) \n",
    "\n",
    "#histogram the samples with 25 bins and color them Rochester blue\n",
    "plt.hist(data, 25, color=rochester_blue)\n",
    "\n",
    "#Show the plot. \n",
    "plt.show() "
   ]
  },
  {
   "cell_type": "code",
   "execution_count": 16,
   "metadata": {
    "collapsed": false,
    "deletable": true,
    "editable": true,
    "slideshow": {
     "slide_type": "subslide"
    }
   },
   "outputs": [
    {
     "data": {
      "image/png": "[encoded data removed]",
      "text/plain": [
       "<matplotlib.figure.Figure at 0x7f29240aa160>"
      ]
     },
     "metadata": {},
     "output_type": "display_data"
    }
   ],
   "source": [
    "#Sample 2 beta numbers 1000 times\n",
    "N = 2\n",
    "data = np.empty(1000)\n",
    "for i in range(1000):\n",
    "    data[i] = np.mean(ss.beta.rvs(0.5, 0.5, size=N))\n",
    "\n",
    "#histogram the samples with 25 bins and color them Rochester blue\n",
    "plt.hist(data, 25, color=rochester_blue)\n",
    "\n",
    "plt.show() "
   ]
  },
  {
   "cell_type": "code",
   "execution_count": 17,
   "metadata": {
    "collapsed": false,
    "deletable": true,
    "editable": true,
    "slideshow": {
     "slide_type": "subslide"
    }
   },
   "outputs": [
    {
     "data": {
      "image/png": "[encoded data removed]",
      "text/plain": [
       "<matplotlib.figure.Figure at 0x7f28fa2f59e8>"
      ]
     },
     "metadata": {},
     "output_type": "display_data"
    }
   ],
   "source": [
    "#Sample 5 beta numbers 1000 times\n",
    "N = 5\n",
    "data = np.empty(1000)\n",
    "for i in range(1000):\n",
    "    data[i] = np.mean(ss.beta.rvs(0.5, 0.5, size=N))\n",
    "\n",
    "#histogram the samples with 25 bins and color them Rochester blue\n",
    "plt.hist(data, 25, color=rochester_blue)\n",
    "\n",
    "plt.show() "
   ]
  },
  {
   "cell_type": "code",
   "execution_count": 18,
   "metadata": {
    "collapsed": false,
    "deletable": true,
    "editable": true,
    "slideshow": {
     "slide_type": "subslide"
    }
   },
   "outputs": [
    {
     "data": {
      "image/png": "[encoded data removed]",
      "text/plain": [
       "<matplotlib.figure.Figure at 0x7f29374dba20>"
      ]
     },
     "metadata": {},
     "output_type": "display_data"
    }
   ],
   "source": [
    "#Sample 25 beta numbers 1000 times\n",
    "N = 25\n",
    "data = np.empty(1000)\n",
    "for i in range(1000):\n",
    "    data[i] = np.mean(ss.beta.rvs(0.5, 0.5, size=N))\n",
    "\n",
    "#histogram the samples with 25 bins and color them Rochester blue\n",
    "plt.hist(data, 25, color=rochester_blue)\n",
    "\n",
    "plt.show() "
   ]
  },
  {
   "cell_type": "markdown",
   "metadata": {
    "deletable": true,
    "editable": true,
    "slideshow": {
     "slide_type": "slide"
    }
   },
   "source": [
    "CLT Demonstration with Multiple Binomial Distribution\n",
    "====\n",
    "\n",
    "Consider sampling from a set of binomial distribututions and taking the average of the samples. The CLT applies even though we're using different distributions."
   ]
  },
  {
   "cell_type": "code",
   "execution_count": 19,
   "metadata": {
    "collapsed": false,
    "deletable": true,
    "editable": true,
    "slideshow": {
     "slide_type": "subslide"
    }
   },
   "outputs": [
    {
     "data": {
      "image/png": "[encoded data removed]",
      "text/plain": [
       "<matplotlib.figure.Figure at 0x7f29374ef470>"
      ]
     },
     "metadata": {},
     "output_type": "display_data"
    }
   ],
   "source": [
    "N = 1\n",
    "\n",
    "some_ps = np.random.random(N) #Create an array of p parameters to use\n",
    "\n",
    "#Create N trial numbers between 1 and 15. We only go up to 15 because\n",
    "#We don't go past 15 because it's time consuming to compute the numbers\n",
    "some_Ms = np.random.randint(1,15,N)\n",
    "\n",
    "#create a place to store our data\n",
    "data = []\n",
    "for i in range(10000):\n",
    "    point = 0\n",
    "    for j in range(N):\n",
    "         #We use the jth distribution parameters to sample\n",
    "        point += ss.binom.rvs(some_Ms[j], some_ps[j], size=1)[0]\n",
    "    #We cast to float, since everything is done until now in integers\n",
    "    data.append(float(point) / N) \n",
    "\n",
    "plt.hist(data, 25, color=rochester_blue)\n",
    "plt.show()"
   ]
  },
  {
   "cell_type": "code",
   "execution_count": 20,
   "metadata": {
    "collapsed": false,
    "deletable": true,
    "editable": true,
    "slideshow": {
     "slide_type": "subslide"
    }
   },
   "outputs": [
    {
     "data": {
      "image/png": "[encoded data removed]",
      "text/plain": [
       "<matplotlib.figure.Figure at 0x7f28f5f27c50>"
      ]
     },
     "metadata": {},
     "output_type": "display_data"
    }
   ],
   "source": [
    "N = 5\n",
    "\n",
    "some_ps = np.random.random(N) #Create an array of p parameters to use\n",
    "\n",
    "#Create N trial numbers between 1 and 15. We only go up to 15 because\n",
    "#We don't go past 15 because it's time consuming to compute the numbers\n",
    "some_Ms = np.random.randint(1,15,N)\n",
    "\n",
    "#create a place to store our data\n",
    "data = []\n",
    "for i in range(10000):\n",
    "    point = 0\n",
    "    for j in range(N):\n",
    "        point += ss.binom.rvs(n=some_Ms[j], p=some_ps[j], size=1)[0] \n",
    "    data.append(float(point) / N)\n",
    "\n",
    "plt.hist(data, 100, color=rochester_blue)\n",
    "plt.show()"
   ]
  },
  {
   "cell_type": "code",
   "execution_count": 21,
   "metadata": {
    "collapsed": false,
    "deletable": true,
    "editable": true,
    "slideshow": {
     "slide_type": "subslide"
    }
   },
   "outputs": [
    {
     "data": {
      "image/png": "[encoded data removed]",
      "text/plain": [
       "<matplotlib.figure.Figure at 0x7f2937507320>"
      ]
     },
     "metadata": {},
     "output_type": "display_data"
    }
   ],
   "source": [
    "N = 25\n",
    "\n",
    "some_ps = np.random.random(N) #Create an array of p parameters to use\n",
    "\n",
    "#Create N trial numbers between 1 and 15. We only go up to 15 because\n",
    "#We don't go past 15 because it's time consuming to compute the numbers\n",
    "some_Ms = np.random.randint(1,15,N)\n",
    "\n",
    "#create a place to store our data\n",
    "data = []\n",
    "for i in range(10000):\n",
    "    point = 0\n",
    "    for j in range(N):\n",
    "        point += ss.binom.rvs(n=some_Ms[j], p=some_ps[j], size=1)[0] \n",
    "    data.append(float(point) / N)\n",
    "\n",
    "plt.hist(data, 50, color=rochester_blue)\n",
    "plt.show()"
   ]
  },
  {
   "cell_type": "markdown",
   "metadata": {
    "deletable": true,
    "editable": true,
    "slideshow": {
     "slide_type": "slide"
    }
   },
   "source": [
    "CLT Trivia\n",
    "====\n",
    "\n",
    "Inidcate if the CLT applies to the following process:\n",
    "\n",
    "* You take the yearly rainfall in 25 counties in Rochester and compute their average.\n",
    "* You compute the average rainfall in a paricular city over the last 25 years.\n",
    "* You have 20 temperature sensors placed inside of a batch reactor and compute their average.\n",
    "* You measure the weight of 25 chemical samples\n",
    "* You eat 25 random candy bars per day and sum up their calories.\n",
    "* Your scale is inaccurate due to 20 sources of error (e.g, electrical circuit components air pressure, calibration). Assume their error is additive. You meausre the weight of something.\n",
    "* Your scale is not normally distributed. Each time you weigh something, you weigh it 22 times and take the average."
   ]
  },
  {
   "cell_type": "markdown",
   "metadata": {
    "deletable": true,
    "editable": true,
    "slideshow": {
     "slide_type": "skip"
    }
   },
   "source": [
    "Yes, yes, yes, no (you did not average them), yes, yes, yes"
   ]
  },
  {
   "cell_type": "markdown",
   "metadata": {
    "deletable": true,
    "editable": true,
    "slideshow": {
     "slide_type": "slide"
    }
   },
   "source": [
    "Discovering the true mean\n",
    "====\n",
    "\n",
    "One important application of the CLT is finding the true mean ($\\mu$) of a distribution by observing a few samples. Our error in finding $\\mu$ is described by:\n",
    "\n",
    "$$\\DeclareMathOperator{\\P}{P}$$\n",
    "$$ \\P(\\mu - \\bar{x})$$\n",
    "\n",
    "where $$\\bar{x} = \\frac{1}{N} \\sum_i^N x_i$$"
   ]
  },
  {
   "cell_type": "markdown",
   "metadata": {
    "deletable": true,
    "editable": true,
    "slideshow": {
     "slide_type": "subslide"
    }
   },
   "source": [
    "In order to describe how close our estimate, $\\bar{x}$, is of the true or population mean $\\mu$, we need to know how $\\P(\\mu - \\bar{x})$ behaves. Is it normal? How does its standard deviation/variance change? Is it a function of sample size?"
   ]
  },
  {
   "cell_type": "markdown",
   "metadata": {
    "deletable": true,
    "editable": true,
    "slideshow": {
     "slide_type": "subslide"
    }
   },
   "source": [
    "Let's see some code which calculates $\\bar{x}$ multiple times and compares it with $\\mu$. "
   ]
  },
  {
   "cell_type": "code",
   "execution_count": 22,
   "metadata": {
    "collapsed": false,
    "deletable": true,
    "editable": true,
    "slideshow": {
     "slide_type": "subslide"
    }
   },
   "outputs": [
    {
     "data": {
      "image/png": "[encoded data removed]",
      "text/plain": [
       "<matplotlib.figure.Figure at 0x7f2937512160>"
      ]
     },
     "metadata": {},
     "output_type": "display_data"
    }
   ],
   "source": [
    "def make_hist(N, mean=12, std_dev=3, bins=25, samples=100000):\n",
    "    data = [] #we store results here\n",
    "    #We're going through the process of computing a sample mean/var this many times\n",
    "    for i in range(samples):\n",
    "        #create N random samples.\n",
    "        random_samples = ss.norm.rvs(loc=mean, scale=std_dev, size=N)\n",
    "        sample_mean = np.mean(random_samples)#We take the mean\n",
    "        #compute the variance. The ddof argument tells numpy to use\n",
    "        #N - ddof in the divisor. This takes care of our problem\n",
    "        #with N-1 we saw from HW 3\n",
    "        sample_var = np.var(random_samples, ddof=1) \n",
    "        #The sample is how far off our sample mean is from the true mean.\n",
    "        #We standardize by our estimate of the sample standard deviation.\n",
    "        #We do this because then our results don't depend on \n",
    "        #the standard deviation\n",
    "        data.append((sample_mean - mean) / sqrt(sample_var))\n",
    "    #After generating the data, we histogram with the given bin number\n",
    "    hist, bins = np.histogram(data, bins)\n",
    "    #We compute the centers of the bins by averaging the intervals\n",
    "    #that make up the bins\n",
    "    bin_centers = (bins[1:] + bins[:-1]) / 2.\n",
    "    return hist, bin_centers\n",
    "\n",
    "#These are the sample sizes we'll try out\n",
    "N = [3, 5, 10, 15, 20, 100]\n",
    "#This creates a set of points between 0 and 1 that represent how\n",
    "#far along in analzying the sample sizes we are.\n",
    "color_i = np.linspace(0, 1.0, len(N))\n",
    "#This creates a color function, using the summer palette\n",
    "color_map = plt.get_cmap(\"summer\")\n",
    "#We loop over the color_i, which is used to get our line colors\n",
    "#and the sample size\n",
    "for i, Ni in zip(color_i, N):\n",
    "    #call our function above\n",
    "    hist, bin_centers = make_hist(Ni)\n",
    "    #plot the results, label it, and use our color function to get a color\n",
    "    plt.plot(bin_centers, hist, color=color_map(i), label=\"$N={}$\".format(Ni))\n",
    "    \n",
    "#add a plotting legend\n",
    "plt.legend()\n",
    "#set the x-axis limit\n",
    "plt.xlim(-3, 3)\n",
    "plt.show()"
   ]
  },
  {
   "cell_type": "markdown",
   "metadata": {
    "deletable": true,
    "editable": true,
    "slideshow": {
     "slide_type": "subslide"
    }
   },
   "source": [
    "Error in Sample Mean\n",
    "====\n",
    "\n",
    "As the number of samples goes up, our uncertainty in the sample mean goes down. The rate is the square root of the number of samples."
   ]
  },
  {
   "cell_type": "markdown",
   "metadata": {
    "deletable": true,
    "editable": true,
    "slideshow": {
     "slide_type": "fragment"
    }
   },
   "source": [
    "The distribution we were interested in, $\\P(\\bar{x} - \\mu)$, looks normal and its standard deviation gets smaller as $N$ gets higher."
   ]
  },
  {
   "cell_type": "markdown",
   "metadata": {
    "deletable": true,
    "editable": true,
    "slideshow": {
     "slide_type": "fragment"
    }
   },
   "source": [
    "The error in sample mean is a normal distribution with ${\\cal N} (0, \\sigma / \\sqrt{N})$  where $\\sigma$ is the true/population $\\sigma$. We usually call the standard deviation of this distribution the \"standard error\":\n",
    "\n",
    "$$\\sigma_e = \\frac{\\sigma}{\\sqrt{N}} $$"
   ]
  },
  {
   "cell_type": "markdown",
   "metadata": {
    "deletable": true,
    "editable": true,
    "slideshow": {
     "slide_type": "subslide"
    }
   },
   "source": [
    "**Remember: The mean of $\\P(\\bar{x} - \\mu)$ is 0.**"
   ]
  },
  {
   "cell_type": "markdown",
   "metadata": {
    "deletable": true,
    "editable": true,
    "slideshow": {
     "slide_type": "slide"
    }
   },
   "source": [
    "Error in Sample Mean - Example Problem\n",
    "====\n",
    "\n",
    "I know that $\\sigma = 0.2$ g for a chemical balance. I am calibrating my micro-pipettes which requires me to weigh out a volume of water. I weigh out 1 ml of water 20 times with a micro-pipette. The sample mean is 1.001 g. What is the probability the true mean of the micro-pipette is within 0.001 g of the sample mean?"
   ]
  },
  {
   "cell_type": "markdown",
   "metadata": {
    "deletable": true,
    "editable": true,
    "slideshow": {
     "slide_type": "fragment"
    }
   },
   "source": [
    "This is a normal distribution with ${\\cal N} (0, \\sqrt{0.2^2 / 20})$ and I want the interval between -0.0005 and 0.0005."
   ]
  },
  {
   "cell_type": "markdown",
   "metadata": {
    "deletable": true,
    "editable": true,
    "slideshow": {
     "slide_type": "subslide"
    }
   },
   "source": [
    "$\\DeclareMathOperator{\\erf}{erf}$\n",
    "$\\DeclareMathOperator{\\cdf}{CDF}$\n",
    "$$\\int_{Z_1}^{Z_2} {\\cal N}(0, 1) = \\cdf(Z_2) - \\cdf(Z_1)$$"
   ]
  },
  {
   "cell_type": "code",
   "execution_count": 23,
   "metadata": {
    "collapsed": false,
    "deletable": true,
    "editable": true,
    "slideshow": {
     "slide_type": "fragment"
    }
   },
   "outputs": [
    {
     "name": "stdout",
     "output_type": "stream",
     "text": [
      "0.0890207074894\n"
     ]
    }
   ],
   "source": [
    "from math import sqrt\n",
    "\n",
    "sigma = sqrt(0.02**2 / 20)\n",
    "Z1 = -0.0005 / sigma\n",
    "Z2 = -Z1\n",
    "\n",
    "print( ss.norm.cdf(Z2) - ss.norm.cdf(Z1))"
   ]
  },
  {
   "cell_type": "markdown",
   "metadata": {
    "deletable": true,
    "editable": true,
    "slideshow": {
     "slide_type": "slide"
    }
   },
   "source": [
    "Returning to finding the error in the sample mean\n",
    "====\n",
    "If the flight time of my quadcopter is normally distributed and I take the average of 5 samples, does the difference between the average and the true mean follow the CLT?\n",
    "\n",
    "Now we include the $1/N$ term we observed previously, so that we remove the influence of sampling"
   ]
  },
  {
   "cell_type": "code",
   "execution_count": 28,
   "metadata": {
    "collapsed": false,
    "deletable": true,
    "editable": true,
    "slideshow": {
     "slide_type": "subslide"
    }
   },
   "outputs": [
    {
     "data": {
      "image/png": "[encoded data removed]",
      "text/plain": [
       "<matplotlib.figure.Figure at 0x7f28fa79f518>"
      ]
     },
     "metadata": {},
     "output_type": "display_data"
    }
   ],
   "source": [
    "def make_hist(N, mean=12, std_dev=3, bins=25, samples=100000):\n",
    "    data = []\n",
    "    for i in range(samples):\n",
    "        random_samples = np.random.normal(mean, std_dev, N) \n",
    "        sample_mean = np.mean(random_samples)\n",
    "        sample_var = np.var(random_samples) * (N / (N - 1.0))\n",
    "        #We add the sqrt(N) dependence below\n",
    "        data.append((sample_mean - mean) / (sqrt(sample_var) / sqrt(N)))\n",
    "    hist, bins = np.histogram(data, bins = np.linspace(-3, 3, bins))\n",
    "    bin_centers = (bins[1:] + bins[:-1]) / 2.\n",
    "    #This line we changed so that we're working in probability, not counts.\n",
    "    return hist / float(samples), bin_centers \n",
    "\n",
    "N = [3, 5, 10, 25, 100]\n",
    "color_i = np.linspace(0, 1.0, len(N))\n",
    "color_map = plt.get_cmap('summer')\n",
    "for i, Ni in zip(color_i, N):\n",
    "    hist, bin_centers = make_hist(Ni)\n",
    "    plt.plot(bin_centers, hist, color=color_map(i), label='$N={}$'.format(Ni))\n",
    "\n",
    "from math import erf\n",
    "x = np.linspace(-3,3,25)\n",
    "plt.plot(x,normal_pdf(x, 0, 1) / (erf(3 / sqrt(2)) - \\\n",
    "                                  erf(-3 / sqrt(2))) / 2,\n",
    "         label=\"Normal\", color=rochester_blue)\n",
    "    \n",
    "plt.legend()\n",
    "plt.show()"
   ]
  },
  {
   "cell_type": "markdown",
   "metadata": {
    "deletable": true,
    "editable": true,
    "slideshow": {
     "slide_type": "subslide"
    }
   },
   "source": [
    "Do small sample numbers obey CLT?\n",
    "====\n",
    "\n",
    "**Not until ~25 samples**. If the sample size is smaller, assuming a normal distribution gives too conservative of intervals."
   ]
  },
  {
   "cell_type": "markdown",
   "metadata": {
    "deletable": true,
    "editable": true,
    "slideshow": {
     "slide_type": "slide"
    }
   },
   "source": [
    "Student's t-distribution\n",
    "====\n",
    "The distribution which describes the distance between the sample and true mean (population mean) is called the Student's $t$-distribution. "
   ]
  },
  {
   "cell_type": "markdown",
   "metadata": {
    "deletable": true,
    "editable": true
   },
   "source": [
    "$P(\\mu - \\bar{x})$ follows a $t$-distribution with $\\sigma = \\sigma_x / \\sqrt{N}$. \n",
    "\n",
    "\n",
    "$T(0, \\sigma_x / \\sqrt{N})$"
   ]
  },
  {
   "cell_type": "code",
   "execution_count": null,
   "metadata": {
    "collapsed": false,
    "deletable": true,
    "editable": true,
    "slideshow": {
     "slide_type": "subslide"
    }
   },
   "outputs": [],
   "source": [
    "import scipy.stats\n",
    "\n",
    "#make some points\n",
    "x = np.linspace(-5,5, 100)\n",
    "\n",
    "#Compute pdf on t and normal\n",
    "y1 = scipy.stats.t.pdf(x, df=3)\n",
    "y2 = scipy.stats.norm.pdf(x)\n",
    "\n",
    "plt.plot(x,y1, label=\"T, N=3\")\n",
    "plt.plot(x,y2, label=\"Normal\")\n",
    "plt.legend()\n",
    "\n",
    "plt.show()"
   ]
  },
  {
   "cell_type": "markdown",
   "metadata": {
    "deletable": true,
    "editable": true,
    "slideshow": {
     "slide_type": "slide"
    }
   },
   "source": [
    "Scipy Stats\n",
    "====\n",
    "[This library](http://docs.scipy.org/doc/scipy/reference/generated/scipy.stats.rv_continuous.html) provides a consistent way of working with all probability distributions.\n",
    "\n",
    "    scipy.stats.[name].[function](df=?, loc=?, scale=?)\n",
    "   \n",
    "* `name`: distribution name\n",
    "* `function`: `pdf` (PDF), `rvs` (random variable), `cdf` (integrated pdf), `ppf` (input desired confidence, outputs critical calue)\n",
    "* `df`: sample size if T-distribution\n",
    "* `loc`: center, so $\\mu$ in T and normal. Other distributions have different use\n",
    "* `scale`: scale, so $\\sigma$ in T and normal"
   ]
  },
  {
   "cell_type": "code",
   "execution_count": null,
   "metadata": {
    "collapsed": false,
    "deletable": true,
    "editable": true,
    "slideshow": {
     "slide_type": "subslide"
    }
   },
   "outputs": [],
   "source": [
    "#Get 10 random numbers from normal distribution\n",
    "scipy.stats.norm.rvs(size=10) "
   ]
  },
  {
   "cell_type": "code",
   "execution_count": null,
   "metadata": {
    "collapsed": false,
    "deletable": true,
    "editable": true,
    "slideshow": {
     "slide_type": "fragment"
    }
   },
   "outputs": [],
   "source": [
    "#Integrate N(2,1) from -2 to 2\n",
    "scipy.stats.norm.cdf(2, loc=2, scale=1) - \\\n",
    "    scipy.stats.norm.cdf(-2, loc=2, scale=1)"
   ]
  },
  {
   "cell_type": "code",
   "execution_count": null,
   "metadata": {
    "collapsed": false,
    "deletable": true,
    "editable": true,
    "slideshow": {
     "slide_type": "fragment"
    }
   },
   "outputs": [],
   "source": [
    "#Get Z for 95% single-sided confidence interval in T (N=10) \n",
    "#distribution and Normal\n",
    "print scipy.stats.t.ppf(0.95, df=10)\n",
    "print scipy.stats.norm.ppf(0.95)"
   ]
  }
 ],
 "metadata": {
  "celltoolbar": "Slideshow",
  "kernelspec": {
   "display_name": "Python 3",
   "language": "python",
   "name": "python3"
  },
  "language_info": {
   "codemirror_mode": {
    "name": "ipython",
    "version": 3
   },
   "file_extension": ".py",
   "mimetype": "text/x-python",
   "name": "python",
   "nbconvert_exporter": "python",
   "pygments_lexer": "ipython3",
   "version": "3.5.2"
  }
 },
 "nbformat": 4,
 "nbformat_minor": 0
}
