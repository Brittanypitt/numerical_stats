{
 "cells": [
  {
   "cell_type": "markdown",
   "metadata": {
    "deletable": true,
    "editable": true,
    "slideshow": {
     "slide_type": "slide"
    }
   },
   "source": [
    "Unit 8, Lecture 2\n",
    "====\n",
    "\n",
    "*Numerical Methods and Statistics*\n",
    "\n",
    "----\n",
    "\n",
    "#### Prof. Andrew White, March 21 2017"
   ]
  },
  {
   "cell_type": "markdown",
   "metadata": {
    "deletable": true,
    "editable": true,
    "slideshow": {
     "slide_type": "slide"
    }
   },
   "source": [
    "Computing Confidence Interval for error in mean with $t$-Distribution \n",
    "====\n",
    "\n",
    "We know that the error in the mean follows a $t$-distribution for small $N$. What if we want a confidence interval for where the true mean lies?"
   ]
  },
  {
   "cell_type": "markdown",
   "metadata": {
    "deletable": true,
    "editable": true,
    "slideshow": {
     "slide_type": "subslide"
    }
   },
   "source": [
    "$$P(a < \\mu < b) = 0.95$$\n",
    "\n",
    "One simplification we can make right away is that we know $\\mu$ will be centered at $\\bar{x}$ and is symmetric:\n",
    "\n",
    "$$P( \\bar{x} - y < \\mu<  - \\bar{x} + y) = 0.95$$\n",
    "\n",
    "where $y$ is some number we need to find. We can further rewrite this as:\n",
    "\n",
    "$$P( - y < \\mu - \\bar{x}<  + y) = 0.95$$\n",
    "\n",
    "which we know follows a $t-$distribution. "
   ]
  },
  {
   "cell_type": "markdown",
   "metadata": {
    "deletable": true,
    "editable": true
   },
   "source": [
    "\n",
    "We know that $P(\\mu - \\bar{x})$ follows a $T(0, \\sigma_x /\\sqrt{N})$ distribution. We can use the same idea as $Z$-scores"
   ]
  },
  {
   "cell_type": "markdown",
   "metadata": {
    "deletable": true,
    "editable": true,
    "slideshow": {
     "slide_type": "fragment"
    }
   },
   "source": [
    "$$T(s) = \\frac{s - 0}{\\sigma_x / \\sqrt{N}}$$\n",
    "\n",
    "The 'mean' of this distribution is 0, because our error in true mean is always centered around 0."
   ]
  },
  {
   "cell_type": "markdown",
   "metadata": {
    "deletable": true,
    "editable": true,
    "slideshow": {
     "slide_type": "fragment"
    }
   },
   "source": [
    "After taking 5 samples, we've found that the sample mean is 45 and the sample standard deviation, $\\sigma_x$ is 3. What is the 95% confidence interval for the true mean, $\\mu$?"
   ]
  },
  {
   "cell_type": "markdown",
   "metadata": {
    "deletable": true,
    "editable": true,
    "slideshow": {
     "slide_type": "fragment"
    }
   },
   "source": [
    "We can write this more like this:\n",
    "\n",
    "$$P(- y < \\mu - \\bar{x} < +y) = 0.95$$"
   ]
  },
  {
   "cell_type": "markdown",
   "metadata": {
    "deletable": true,
    "editable": true,
    "slideshow": {
     "slide_type": "subslide"
    }
   },
   "source": [
    "Our interval will go from 2.5% to 97.5% (95% of probability), so let's find the $T$-value for $-\\infty$ to 2.5% and 97.5% to $\\infty$. Remember that the $T$-value depends on N"
   ]
  },
  {
   "cell_type": "code",
   "execution_count": 2,
   "metadata": {
    "collapsed": false,
    "deletable": true,
    "editable": true,
    "slideshow": {
     "slide_type": "fragment"
    }
   },
   "outputs": [
    {
     "name": "stdout",
     "output_type": "stream",
     "text": [
      "-2.57058183661\n",
      "2.57058183661\n"
     ]
    }
   ],
   "source": [
    "import scipy.stats\n",
    "\n",
    " #The lower T Value. YOU MUST GIVE THE SAMPLE NUMBER\n",
    "print(scipy.stats.t.ppf(0.025, 5))\n",
    "print(scipy.stats.t.ppf(0.975, 5))"
   ]
  },
  {
   "cell_type": "markdown",
   "metadata": {
    "deletable": true,
    "editable": true,
    "slideshow": {
     "slide_type": "fragment"
    }
   },
   "source": [
    "$$T_{low} = \\frac{-y - 0}{\\sigma_x / \\sqrt{N}}$$\n",
    "$$T_{low} = -\\frac{y}{\\sigma_x / \\sqrt{N}}$$"
   ]
  },
  {
   "cell_type": "markdown",
   "metadata": {
    "deletable": true,
    "editable": true,
    "slideshow": {
     "slide_type": "subslide"
    }
   },
   "source": [
    "$$y = -T_{low}\\frac{\\sigma_x}{\\sqrt{N}}$$"
   ]
  },
  {
   "cell_type": "code",
   "execution_count": null,
   "metadata": {
    "collapsed": false,
    "deletable": true,
    "editable": true,
    "slideshow": {
     "slide_type": "fragment"
    }
   },
   "outputs": [],
   "source": [
    "print -scipy.stats.t.ppf(0.025, 5) * 3 / sqrt(5)"
   ]
  },
  {
   "cell_type": "markdown",
   "metadata": {
    "deletable": true,
    "editable": true,
    "slideshow": {
     "slide_type": "fragment"
    }
   },
   "source": [
    "The final answer is $P(45 - 3.45 < 45 < 45 + 3.45) = 0.95$ or $45\\pm 3.45$"
   ]
  },
  {
   "cell_type": "markdown",
   "metadata": {
    "deletable": true,
    "editable": true,
    "slideshow": {
     "slide_type": "slide"
    }
   },
   "source": [
    "Computing Confidence Interval for Error in Mean Steps\n",
    "====\n",
    "\n",
    "1. Is the sample size greater than 25 OR do you know the true (population) standard deviation? If so, then use standard normal ($Z$) otherwise the $t$-distribution for your sample size ($T$).\n",
    "2. Build your interval in probability. For example, a 95% double-sided goes from 2.5% to 97.5%\n",
    "3. Find the $Z$ or $T$ values that match your interval. For example, $Z_{low} = -1.96$ to $Z_{high} = 1.96$ is for a double-sided 95% confidence inerval. Use the `scipy.stats.t.ppf` or `scipy.stats.norm.ppf` function to find them.\n",
    "4. Use the $Z(s) = s \\sqrt{N} / \\sigma_x$ or $T(s) = s \\sqrt{N} / \\sigma_x$ equation to find the interval values in your particular distribution.\n",
    "5. Report your answer either as an interval or the $\\pm$ notation."
   ]
  },
  {
   "cell_type": "markdown",
   "metadata": {
    "deletable": true,
    "editable": true,
    "slideshow": {
     "slide_type": "subslide"
    }
   },
   "source": [
    "Shortcut Method For Normal\n",
    "====\n",
    "\n",
    "Here's how to quickly do these steps in Python for sample size greater than 25"
   ]
  },
  {
   "cell_type": "code",
   "execution_count": 4,
   "metadata": {
    "collapsed": false,
    "deletable": true,
    "editable": true,
    "slideshow": {
     "slide_type": "fragment"
    }
   },
   "outputs": [
    {
     "name": "stdout",
     "output_type": "stream",
     "text": [
      "50.091716770354 +/ 3.0959304766341122\n"
     ]
    }
   ],
   "source": [
    "import scipy.stats\n",
    "import numpy as np\n",
    "\n",
    "data = scipy.stats.norm.rvs(size=100, scale=15, loc=50)\n",
    "#Check if sample size is big enough.\n",
    "#This code will cause an error if it's not\n",
    "assert len(data) > 25 \n",
    "\n",
    "CI = 0.95\n",
    "sample_mean = np.mean(data)\n",
    "#The second argument specifies what the denominator should be (N - x),\n",
    "#where x is 1 in this case\n",
    "sample_var = np.var(data, ddof=1) \n",
    "Z = scipy.stats.norm.ppf((1 - CI) / 2)\n",
    "y = -Z * np.sqrt(sample_var / len(data))\n",
    "\n",
    "print('{} +/ {}'.format(sample_mean, y))\n",
    "                             "
   ]
  },
  {
   "cell_type": "markdown",
   "metadata": {
    "deletable": true,
    "editable": true,
    "slideshow": {
     "slide_type": "subslide"
    }
   },
   "source": [
    "Is that low? Well, remember that our error in the mean follows standard deviation divided by the root of number of samples."
   ]
  },
  {
   "cell_type": "markdown",
   "metadata": {
    "deletable": true,
    "editable": true,
    "slideshow": {
     "slide_type": "subslide"
    }
   },
   "source": [
    "Shortcut Method For $t$-Distribution\n",
    "====\n",
    "\n",
    "Here's how to quickly do these steps in Python for sample size less than 25"
   ]
  },
  {
   "cell_type": "code",
   "execution_count": 6,
   "metadata": {
    "collapsed": false,
    "deletable": true,
    "editable": true,
    "slideshow": {
     "slide_type": "fragment"
    }
   },
   "outputs": [
    {
     "name": "stdout",
     "output_type": "stream",
     "text": [
      "43.8937809942876 +/ 12.378394333754894\n"
     ]
    }
   ],
   "source": [
    "data = scipy.stats.norm.rvs(size=4, scale=15, loc=50)\n",
    "CI = 0.95\n",
    "sample_mean = np.mean(data)\n",
    "sample_var = np.var(data, ddof=1) \n",
    "T = scipy.stats.t.ppf((1 - CI) / 2, df=len(data))\n",
    "y = -T * np.sqrt(sample_var / len(data))\n",
    "\n",
    "print('{} +/ {}'.format(sample_mean, y))\n",
    "                             "
   ]
  },
  {
   "cell_type": "markdown",
   "metadata": {
    "deletable": true,
    "editable": true,
    "slideshow": {
     "slide_type": "slide"
    }
   },
   "source": [
    "Example of Prediction Intervals\n",
    "====\n",
    "\n",
    "I *know* that the thickness of a metal slab is distributed according to ${\\cal N}(3.4, 0.75)$. Construct a prediction interval so that a randomly chosen metal slab will lie within it 95% confidence."
   ]
  },
  {
   "cell_type": "markdown",
   "metadata": {
    "deletable": true,
    "editable": true,
    "slideshow": {
     "slide_type": "fragment"
    }
   },
   "source": [
    "$$P( \\mu - y < x < \\mu + y) = 0.95$$"
   ]
  },
  {
   "cell_type": "markdown",
   "metadata": {
    "deletable": true,
    "editable": true,
    "slideshow": {
     "slide_type": "fragment"
    }
   },
   "source": [
    "This is a prediction interval, so we're computing a interval on the distribution itself and we know everything about it."
   ]
  },
  {
   "cell_type": "markdown",
   "metadata": {
    "deletable": true,
    "editable": true,
    "slideshow": {
     "slide_type": "subslide"
    }
   },
   "source": [
    "$$Z(\\mu + y) = \\frac{\\mu + y - \\mu}{\\sigma} \\Rightarrow y = \\sigma Z$$\n",
    "\n",
    "$$Z = 1.96$$\n",
    "\n",
    "$$x = \\mu \\pm 1.96 \\sigma = 3.4 \\pm 1.40$$"
   ]
  },
  {
   "cell_type": "markdown",
   "metadata": {
    "deletable": true,
    "editable": true,
    "slideshow": {
     "slide_type": "subslide"
    }
   },
   "source": [
    "A randomly chosen slab will have a thickness of $3.4 \\pm 1.40$ 95% of the time. "
   ]
  },
  {
   "cell_type": "markdown",
   "metadata": {
    "deletable": true,
    "editable": true,
    "slideshow": {
     "slide_type": "slide"
    }
   },
   "source": [
    "Example 1 of error in mean with known $\\sigma$\n",
    "====\n",
    "\n",
    "I measure the thickness of 35 metal slabs and find that $\\bar{x}$, the sample mean, is 3.38. If I know that $\\sigma = 0.75$, construct a confidence interval that will contain the true mean $\\mu$ with 95% confidence."
   ]
  },
  {
   "cell_type": "markdown",
   "metadata": {
    "deletable": true,
    "editable": true,
    "slideshow": {
     "slide_type": "subslide"
    }
   },
   "source": [
    "We know that $P(\\bar{x} - \\mu)$ is normally distributed with ${\\cal N}(0, \\sigma / \\sqrt{N})$. We want to find\n",
    "\n",
    "$$ P(-y < \\bar{x} - \\mu < +y) = 0.95$$"
   ]
  },
  {
   "cell_type": "markdown",
   "metadata": {
    "deletable": true,
    "editable": true,
    "slideshow": {
     "slide_type": "subslide"
    }
   },
   "source": [
    "$$ Z(+y) = \\frac{y - 0}{\\sigma_e} = \\frac{y}{\\sigma / \\sqrt{N}} \\Rightarrow y = \\frac{\\sigma}{\\sqrt{N}} Z$$\n",
    "\n",
    "$$y = \\frac{0.75}{\\sqrt{35}}1.96 = 0.248$$\n",
    "\n",
    "$$ \\mu - \\bar{x} = 0 \\pm 0.248$$\n",
    "\n",
    "$$ \\mu = 3.38 \\pm 0.248$$"
   ]
  },
  {
   "cell_type": "markdown",
   "metadata": {
    "deletable": true,
    "editable": true,
    "slideshow": {
     "slide_type": "fragment"
    }
   },
   "source": [
    "At a 95% confidence level, the true mean is $3.38 \\pm 0.248$. "
   ]
  },
  {
   "cell_type": "markdown",
   "metadata": {
    "deletable": true,
    "editable": true,
    "slideshow": {
     "slide_type": "slide"
    }
   },
   "source": [
    "Example 2 of error in mean with known $\\sigma$\n",
    "====\n",
    "\n",
    "I measure the thickness of 11 metal slabs and find that $\\bar{x}$, the sample mean, is 5.64. If I know that $\\sigma = 1.2$, construct a confidence interval that will contain the true mean $\\mu$ with 99% confidence."
   ]
  },
  {
   "cell_type": "markdown",
   "metadata": {
    "deletable": true,
    "editable": true,
    "slideshow": {
     "slide_type": "fragment"
    }
   },
   "source": [
    "Again we know that $P(\\bar{x} - \\mu)$ is normally distributed with ${\\cal N}(0, \\sigma / \\sqrt{N})$. We want to find\n",
    "\n",
    "$$ P(-y < \\bar{x} - \\mu < +y) = 0.99$$"
   ]
  },
  {
   "cell_type": "markdown",
   "metadata": {
    "deletable": true,
    "editable": true,
    "slideshow": {
     "slide_type": "subslide"
    }
   },
   "source": [
    "$$ Z(+y) = \\frac{y - 0}{\\sigma_e} = \\frac{y}{\\sigma / \\sqrt{N}} \\Rightarrow y = \\frac{\\sigma}{\\sqrt{N}} Z$$\n",
    "\n",
    "$$y = \\frac{1.2}{\\sqrt{11}}1.96 = 0.709$$\n",
    "\n",
    "$$ \\mu - \\bar{x} = 0 \\pm 0.709$$\n",
    "\n",
    "$$ \\mu = 5.64 \\pm 0.709$$"
   ]
  },
  {
   "cell_type": "markdown",
   "metadata": {
    "deletable": true,
    "editable": true,
    "slideshow": {
     "slide_type": "slide"
    }
   },
   "source": [
    "Example 1 of error in mean with unknown $\\sigma$\n",
    "====\n",
    "\n",
    "I measure the thickness of 6 metal slabs and find that $\\bar{x}$, the sample mean, is 3.65 and the sample standard deviation is $1.25$. Construct a confidence interval that will contain the true mean $\\mu$ with 90% confidence.\n"
   ]
  },
  {
   "cell_type": "markdown",
   "metadata": {
    "deletable": true,
    "editable": true,
    "slideshow": {
     "slide_type": "fragment"
    }
   },
   "source": [
    "$$T(+y) = \\frac{y - 0}{\\sigma_x / \\sqrt{N}} \\Rightarrow y = \\frac{\\sigma_x}{\\sqrt{N}} T$$"
   ]
  },
  {
   "cell_type": "markdown",
   "metadata": {
    "deletable": true,
    "editable": true,
    "slideshow": {
     "slide_type": "subslide"
    }
   },
   "source": [
    "We know that $P(\\bar{x} - \\mu)$ is a $t$-distribution because $N$ is small. It is distributed as ${\\cal T}(0, \\sigma_x / \\sqrt{N})$. We want to find\n",
    "\n",
    "$$ P(-y < \\bar{x} - \\mu < +y) = 0.90$$"
   ]
  },
  {
   "cell_type": "code",
   "execution_count": 7,
   "metadata": {
    "collapsed": false,
    "deletable": true,
    "editable": true,
    "slideshow": {
     "slide_type": "fragment"
    }
   },
   "outputs": [
    {
     "name": "stdout",
     "output_type": "stream",
     "text": [
      "1.94318028039\n"
     ]
    }
   ],
   "source": [
    "#Notice it is 95%, so the interval goes from\n",
    "#5% to 95% containing 90% of probability\n",
    "T = scipy.stats.t.ppf(0.95, df=6)\n",
    "print(T)"
   ]
  },
  {
   "cell_type": "markdown",
   "metadata": {
    "deletable": true,
    "editable": true,
    "slideshow": {
     "slide_type": "subslide"
    }
   },
   "source": [
    "$$ y = \\frac{1.25}{\\sqrt{6}} 1.943 = 0.992 $$\n",
    "$$\\mu = 3.65 \\pm 0.992$$"
   ]
  },
  {
   "cell_type": "markdown",
   "metadata": {
    "deletable": true,
    "editable": true,
    "slideshow": {
     "slide_type": "fragment"
    }
   },
   "source": [
    "The population mean of the slabs is $3.65 \\pm 0.992$ with 90% confidence."
   ]
  },
  {
   "cell_type": "markdown",
   "metadata": {
    "deletable": true,
    "editable": true,
    "slideshow": {
     "slide_type": "slide"
    }
   },
   "source": [
    "Example 2 of error in mean with unknown $\\sigma$\n",
    "====\n",
    "\n",
    "I measure the thickness of 25 metal slabs and find that $\\bar{x}$, the sample mean, is 3.42 and the sample standard deviation is 0.85. Construct a confidence interval that will contain the true mean $\\mu$ with 90% confidence."
   ]
  },
  {
   "cell_type": "markdown",
   "metadata": {
    "deletable": true,
    "editable": true,
    "slideshow": {
     "slide_type": "subslide"
    }
   },
   "source": [
    "We know, just like last example, that $P(\\bar{x} - \\mu)$ is a normal distribution because $N$ is large enough for the central limit theorem to apply. It is distributed as ${\\cal N}(0, \\sigma_x / \\sqrt{N})$. We want to find\n",
    "\n",
    "$$ P(-y < \\bar{x} - \\mu < +y) = 0.90$$"
   ]
  },
  {
   "cell_type": "markdown",
   "metadata": {
    "deletable": true,
    "editable": true,
    "slideshow": {
     "slide_type": "subslide"
    }
   },
   "source": [
    "$$Z(+y) = \\frac{y - 0}{\\sigma_x / \\sqrt{N}} \\Rightarrow y = \\frac{\\sigma_x}{\\sqrt{N}} Z$$\n",
    "$$ y = \\frac{0.85}{\\sqrt{25}} 1.65 = 0.332$$\n",
    "$$\\mu = 3.42 \\pm 0.332$$"
   ]
  }
 ],
 "metadata": {
  "celltoolbar": "Slideshow",
  "kernelspec": {
   "display_name": "Python 3",
   "language": "python",
   "name": "python3"
  },
  "language_info": {
   "codemirror_mode": {
    "name": "ipython",
    "version": 3
   },
   "file_extension": ".py",
   "mimetype": "text/x-python",
   "name": "python",
   "nbconvert_exporter": "python",
   "pygments_lexer": "ipython3",
   "version": "3.5.2"
  }
 },
 "nbformat": 4,
 "nbformat_minor": 2
}
