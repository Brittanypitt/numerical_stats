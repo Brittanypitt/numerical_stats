{
 "cells": [
  {
   "cell_type": "markdown",
   "metadata": {},
   "source": [
    "Homework 8 Key\n",
    "====\n",
    "#### CHE 116: Numerical Methods and Statistics\n",
    "\n",
    "3/22/2018\n",
    "\n",
    "----"
   ]
  },
  {
   "cell_type": "markdown",
   "metadata": {},
   "source": [
    "1.CLT Concepts (8 Points)\n",
    "====\n",
    "\n",
    "1. If you sum together 20 numbers sampled from a binomial distribution and 10 from a Poisson distribution, how is your sum distribted?\n",
    "\n",
    "2. If you sample 25 numbers from *different* beta distributions, how will each of the numbers be distributed?\n",
    "\n",
    "3. Assume a HW grade is determined as the average of 3 HW assignments. How is the HW grade distributed?\n",
    "\n",
    "4. You measure the height of 3 people. What distribution will the uncertainty of the mean of the heights follow?\n"
   ]
  },
  {
   "cell_type": "markdown",
   "metadata": {},
   "source": [
    "**Answers:**\n",
    "\n",
    "**1.1** The sum should follow a normal distribution. Since the total sample size is 30, it is large enough for the CLT to apply. Hence the differences in distributions that we are sampling from does not apply.\n",
    "\n",
    "**1.2** Since we are just sampling 25 numbers without taking either their sum or mean, each of the numbers will reflect the beta distribution that it is sampled from.\n",
    "\n",
    "**1.3** Since we are taking the mean of 3 HW assignments as the HW grade, it will follow a normal distribution according to CLT. Here we are assuming that we know the individual standard deviations of each of the HW assignments separately and that they are normally distributed. However, if the standard deviation of each HW assignment is not known, the HW grade will follow a t-distribution.\n",
    "\n",
    "**1.4** The uncertainty of the mean of weights will follow a t-distribution. This is because 3 is a small sample size and we do not know the value of the true weight standard deviation."
   ]
  },
  {
   "cell_type": "markdown",
   "metadata": {},
   "source": [
    "2.Confidence Interval (16 Points)\n",
    "===\n",
    "\n",
    "Report the given confidence interval for error in the mean using the data in the next cell and describe in words what the confidence interval is for each example. 4 points each\n",
    "\n",
    "1. 80% Double. \n",
    "2. 99% Upper ( a value such that the mean lies above that value 99% of the time)\n",
    "3. 95% Double\n",
    "4. Redo part 3 with a known standard deviation of 2\n",
    "\n",
    "`\n",
    "data_1 = [0.41,2.69,3.82,0.42,1.20]\n",
    "`\n",
    "\n",
    "`\n",
    "data_2 = [5.07,2.79,1.24,6.50,3.17,3.59,5.42,4.10,1.26,0.54,1.22,4.43,3.83,0.93,3.45,5.24,3.51,4.64,0.65,3.27,2.41,4.31,4.15,2.24,2.30,3.3]\n",
    "`\n",
    "\n",
    "`\n",
    "data_3 = [5.62,2.34,2.76,2.80,1.15,5.19,-0.91]\n",
    "`\n"
   ]
  },
  {
   "cell_type": "markdown",
   "metadata": {},
   "source": [
    "**2.1 Answer**\n",
    "\n",
    "Since $N=5$ and the true standard deviation is not known, we use the t-distribution.\n",
    "We can say with 80% confidence that the true mean lies between the interval 1.7 $\\pm$ 1.0 .\n"
   ]
  },
  {
   "cell_type": "code",
   "execution_count": 1,
   "metadata": {},
   "outputs": [],
   "source": [
    "from scipy import stats as ss\n",
    "import numpy as np"
   ]
  },
  {
   "cell_type": "code",
   "execution_count": 2,
   "metadata": {},
   "outputs": [
    {
     "name": "stdout",
     "output_type": "stream",
     "text": [
      "1.7079999999999997 +/ 1.0300293818335124\n"
     ]
    }
   ],
   "source": [
    "data1 = np.array([0.41,2.69,3.82,0.42,1.20])\n",
    "CI = 0.80\n",
    "sample_mean = np.mean(data1)\n",
    "sample_var = np.var(data1, ddof=1) \n",
    "T = ss.t.ppf((1 - CI) / 2, df=len(data1)-1)\n",
    "y = -T * np.sqrt(sample_var / len(data1))\n",
    "\n",
    "print('{} +/ {}'.format(sample_mean, y))"
   ]
  },
  {
   "cell_type": "markdown",
   "metadata": {},
   "source": [
    "**2.2 Answer**\n",
    "\n",
    "Since $N=26$, we use the normal distribution.\n",
    "We can say with 99% confidence that the true mean lies above 3.693 (3.214 + 0.479)."
   ]
  },
  {
   "cell_type": "code",
   "execution_count": 3,
   "metadata": {},
   "outputs": [
    {
     "name": "stdout",
     "output_type": "stream",
     "text": [
      "3.213846153846154 + 0.727156929961314\n"
     ]
    }
   ],
   "source": [
    "data2 = np.array([5.07,2.79,1.24,6.50,3.17,3.59,5.42,4.10,1.26,0.54,1.22,4.43,3.83,0.93,3.45,5.24,3.51,4.64,0.65,3.27,2.41,4.31,4.15,2.24,2.30,3.3])\n",
    "CI = 0.99\n",
    "sample_mean = np.mean(data2)\n",
    "sample_var = np.var(data2, ddof=1) \n",
    "Z = ss.norm.ppf((1 - CI))\n",
    "y = -Z * np.sqrt(sample_var / len(data2))\n",
    "\n",
    "print('{} + {}'.format(sample_mean, y))"
   ]
  },
  {
   "cell_type": "markdown",
   "metadata": {},
   "source": [
    "**2.3 Answer**\n",
    "\n",
    "Since $N=7$ and the true standard deviation is not known, we use the t-distribution.\n",
    "We can say with 95% confidence that the true mean lies between the interval 2.70 $\\pm$ 2 .\n"
   ]
  },
  {
   "cell_type": "code",
   "execution_count": 4,
   "metadata": {},
   "outputs": [
    {
     "name": "stdout",
     "output_type": "stream",
     "text": [
      "2.707142857142857 +/ 2.0784675474628465\n"
     ]
    }
   ],
   "source": [
    "data3 = np.array([5.62,2.34,2.76,2.80,1.15,5.19,-0.91])\n",
    "CI = 0.95\n",
    "sample_mean = np.mean(data3)\n",
    "sample_var = np.var(data3,ddof=1)\n",
    "T = ss.t.ppf((1 - CI)/2,df=len(data3)-1)\n",
    "y = -T * np.sqrt(sample_var / len(data3))\n",
    "\n",
    "print('{} +/ {}'.format(sample_mean, y))"
   ]
  },
  {
   "cell_type": "markdown",
   "metadata": {},
   "source": [
    "**2.4 Answer**\n",
    "\n",
    "Even though we have small sample size, $N=7$, we use the normal distribution since we know the true standard deviation.\n",
    "We can say with 95% confidence that the true mean lies between the interval 2.7 $\\pm$ 1.5 ."
   ]
  },
  {
   "cell_type": "code",
   "execution_count": 5,
   "metadata": {},
   "outputs": [
    {
     "name": "stdout",
     "output_type": "stream",
     "text": [
      "2.707142857142857 +/ 1.4815935090674932\n"
     ]
    }
   ],
   "source": [
    "data3 = np.array([5.62,2.34,2.76,2.80,1.15,5.19,-0.91])\n",
    "CI = 0.95\n",
    "sample_mean = np.mean(data3)\n",
    "true_var = 2**2\n",
    "T = ss.norm.ppf((1 - CI)/2)\n",
    "y = -T * np.sqrt(true_var / len(data3))\n",
    "\n",
    "print('{} +/ {}'.format(sample_mean, y))"
   ]
  },
  {
   "cell_type": "markdown",
   "metadata": {},
   "source": [
    "3.Confidence Intervals (8 Points)\n",
    "===\n",
    "\n",
    "State the distribution and its parameters for each of the following cases. 2 points each.\n",
    "\n",
    "1. $P(\\mu - \\bar{x})$, $\\sigma = 2.4$, $N = 4$\n",
    "2. $P(\\mu)$, $\\bar{x} = 11$, $\\sigma_x = 3.2$, $N = 11$\n",
    "3. $P(\\mu)$, $\\bar{x} = -3$, $\\sigma_x = 2.1$, $N = 35$\n",
    "4. $P(\\mu)$, $\\bar{x} = 6$, $\\sigma = 11$, $N = 30$"
   ]
  },
  {
   "cell_type": "markdown",
   "metadata": {},
   "source": [
    "**Answers**"
   ]
  },
  {
   "cell_type": "markdown",
   "metadata": {},
   "source": [
    "**3.1** Normal distribution\n",
    "\n",
    "mean=0, standard deviation=$\\sigma/\\sqrt N$ = 1.2\n",
    "\n",
    "**3.2** t-distribution\n",
    "\n",
    "parameters: $\\sigma_x/\\sqrt N$=0.965, N-1=10\n",
    "\n",
    "**3.3** Normal distribution\n",
    "\n",
    "mean=-3, standard deviation=$\\sigma_x/\\sqrt N$ = 0.355\n",
    "\n",
    "**3.4** Normal distribution\n",
    "\n",
    "mean=6, standard deviation=$\\sigma/\\sqrt N$ = 2.008\n"
   ]
  }
 ],
 "metadata": {
  "kernelspec": {
   "display_name": "Python 3",
   "language": "python",
   "name": "python3"
  },
  "language_info": {
   "codemirror_mode": {
    "name": "ipython",
    "version": 3
   },
   "file_extension": ".py",
   "mimetype": "text/x-python",
   "name": "python",
   "nbconvert_exporter": "python",
   "pygments_lexer": "ipython3",
   "version": "3.6.4"
  }
 },
 "nbformat": 4,
 "nbformat_minor": 2
}
