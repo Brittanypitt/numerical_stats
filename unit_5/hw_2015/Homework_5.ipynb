








<!DOCTYPE html>
<html lang="en">

<head>
  <meta charset="utf-8">
  <title>Jupyter Notebook Viewer</title>
  <meta name="viewport" content="width=device-width, initial-scale=1.0">
  <meta name="description" content="">
  <meta name="author" content="">
  
  <meta name="robots" content="noindex,nofollow">
  

  <!--NEW RELIC Start Perf Measurement-->
  
  <!--NREND-->

  <!-- Le styles -->
  <script type="text/javascript">
//<![CDATA[
try{if (!window.CloudFlare) {var CloudFlare=[{verbose:0,p:0,byc:0,owlid:"cf",bag2:1,mirage2:0,oracle:0,paths:{cloudflare:"/cdn-cgi/nexp/dok3v=1613a3a185/"},atok:"d5780763e19e7d19f23070ae83c9af3a",petok:"31a9febbbff46f36c4be25fafcf64cb9a26cf400-1488393531-3600",zone:"jupyter.org",rocket:"0",apps:{"ga_key":{"ua":"UA-52617120-1","ga_bs":"2"}}}];!function(a,b){a=document.createElement("script"),b=document.getElementsByTagName("script")[0],a.async=!0,a.src="//ajax.cloudflare.com/cdn-cgi/nexp/dok3v=f2befc48d1/cloudflare.min.js",b.parentNode.insertBefore(a,b)}()}}catch(e){};
//]]>
</script>
<link href="/static/build/styles.css?v=c18d49652a516277e15114bbd447f1c1" rel="stylesheet">

  <!-- Le HTML5 shim, for IE6-8 support of HTML5 elements -->
  <!--[if lt IE 9]>
    <script src="http://html5shim.googlecode.com/svn/trunk/html5.js"></script>
  <![endif]-->

  <!-- Le fav and touch icons -->
  <link rel="shortcut icon" href="/static/ico/ipynb_icon_16x16.png">
  <link rel="apple-touch-icon-precomposed" sizes="144x144"
        href="/static/ico/apple-touch-icon-144-precomposed.png?v=5a3c9ede93e2a8b8ea9e3f8f3da1a905">
  <link rel="apple-touch-icon-precomposed" sizes="114x114"
        href="/static/ico/apple-touch-icon-114-precomposed.png?v=45d86fc8f24dc00638035e1dd7a6d898">
  <link rel="apple-touch-icon-precomposed" sizes="72x72"
        href="/static/ico/apple-touch-icon-72-precomposed.png?v=540b5eb0f3cfd25f1439d1c9bd30e15f">
  <link rel="apple-touch-icon-precomposed"
        href="/static/ico/apple-touch-icon-57-precomposed.png?v=225f0590e187e1458625654f10a28f56">
  
  

  

  
  <meta name="twitter:card" content="summary">
  <meta name="twitter:title" content="Notebook on nbviewer">
  <meta name="twitter:description" content="Check out this Jupyter notebook!">

  
  <meta name="twitter:domain" content="nbviewer.ipython.org">
  <meta name="twitter:image:src" content="http://ipython.org/ipython-doc/dev/_images/ipynb_icon_128x128.png">

  
    <link href="/static/build/notebook.css?v=d05748bef7d8f0edbc1e0133b9a41fe0" rel="stylesheet">
  

  

  
    <script src="https://cdn.mathjax.org/mathjax/latest/MathJax.js?config=TeX-AMS_HTML" type="text/javascript">
    </script>
    <script type="text/javascript">
      init_mathjax = function() {
        if (window.MathJax) {
          // MathJax loaded
          MathJax.Hub.Config({
            TeX: {
              equationNumbers: {
                autoNumber: "AMS",
                useLabelIds: true
              }
            },
            tex2jax: {
              inlineMath: [ ['$','$'], ["\\(","\\)"] ],
              displayMath: [ ['$$','$$'], ["\\[","\\]"] ],
              processEscapes: true,
              processEnvironments: true
            },
            displayAlign: 'center',
            "HTML-CSS": {
              styles: {'.MathJax_Display': {"margin": 0}},
              linebreaks: { automatic: true }
            }
          });
          MathJax.Hub.Queue(["Typeset", MathJax.Hub]);
        }
      }
      init_mathjax();
    </script>
  

<script type="text/javascript">
/* <![CDATA[ */
var _gaq = _gaq || [];
_gaq.push(['_setAccount', 'UA-52617120-1']);
_gaq.push(['_trackPageview']);

(function() {
var ga = document.createElement('script'); ga.type = 'text/javascript'; ga.async = true;
ga.src = ('https:' == document.location.protocol ? 'https://ssl' : 'http://www') + '.google-analytics.com/ga.js';
var s = document.getElementsByTagName('script')[0]; s.parentNode.insertBefore(ga, s);
})();

(function(b){(function(a){"__CF"in b&&"DJS"in b.__CF?b.__CF.DJS.push(a):"addEventListener"in b?b.addEventListener("load",a,!1):b.attachEvent("onload",a)})(function(){"FB"in b&&"Event"in FB&&"subscribe"in FB.Event&&(FB.Event.subscribe("edge.create",function(a){_gaq.push(["_trackSocial","facebook","like",a])}),FB.Event.subscribe("edge.remove",function(a){_gaq.push(["_trackSocial","facebook","unlike",a])}),FB.Event.subscribe("message.send",function(a){_gaq.push(["_trackSocial","facebook","send",a])}));"twttr"in b&&"events"in twttr&&"bind"in twttr.events&&twttr.events.bind("tweet",function(a){if(a){var b;if(a.target&&a.target.nodeName=="IFRAME")a:{if(a=a.target.src){a=a.split("#")[0].match(/[^?=&]+=([^&]*)?/g);b=0;for(var c;c=a[b];++b)if(c.indexOf("url")===0){b=unescape(c.split("=")[1]);break a}}b=void 0}_gaq.push(["_trackSocial","twitter","tweet",b])}})})})(window);
/* ]]> */
</script>
</head>

<body class="nbviewer">

  <!-- These are loaded at the top of the body so they are available to
       notebook cells when they are loaded below. -->
  <script src="/static/components/jquery/dist/jquery.min.js?v=e071abda8fe61194711cfc2ab99fe104"></script>
  <script src="/static/components/requirejs/require.js?v=6da8be361b9ee26c5e721e76c6d4afce"></script>
  <script src="/static/components/moment/min/moment.min.js?v=89f87298ad94aa1e6b92f42eb66da043"></script>

<!-- Navbar
================================================== -->
  <nav id="menubar" class="navbar navbar-default navbar-fixed-top" data-spy="affix">
    <div class="container">
      <div class="navbar-header">
        <button type="button" class="navbar-toggle collapsed" data-toggle="collapse" data-target=".navbar-collapse">
          <span class="sr-only">Toggle navigation</span>
          <i class="fa fa-bars"></i>
        </button>
        <a class="navbar-brand" href="/">
          <img src="/static/img/nav_logo.svg?v=479cefe8d932fb14a67b93911b97d70f" width="159"/>
        </a>
      </div>

      <div class="collapse navbar-collapse">
        <ul class="nav navbar-nav navbar-right">
          <li>
            <a class="active" href="http://jupyter.org">JUPYTER</a>
          </li>
          <li>
    <a href="/faq" title="FAQ" >
      
        <span>FAQ</span>
      
    </a>
  </li>

          
  
    
      
        <li>
    <a href="/format/script/url/thewhitelab.org/Classes/CHE116/Unit_5/Homework_5.ipynb" title="View as Code" >
      <span class="fa fa-code fa-2x menu-icon"></span>
      <span class="menu-text">View as Code</span>
    </a>
  </li>
      
    
  
    
  

  

  

  <li>
    <a href="http://thewhitelab.org/Classes/CHE116/Unit_5/Homework_5.ipynb" title="Download Notebook" download>
      <span class="fa fa-download fa-2x menu-icon"></span>
      <span class="menu-text">Download Notebook</span>
    </a>
  </li>

        </ul>
      </div><!-- /.navbar-collapse -->
      
      
    </div>
  </nav>

  <div class="container container-main">
    
  
  <div id="notebook">
    <div id="notebook-container">
      
<div class="cell border-box-sizing text_cell rendered">
<div class="prompt input_prompt">
</div>
<div class="inner_cell">
<div class="text_cell_render border-box-sizing rendered_html">
<h1 id="Homework-5">Homework 5<a class="anchor-link" href="#Homework-5">&#182;</a></h1><h4 id="CHE-116:-Numerical-Methods-and-Statistics">CHE 116: Numerical Methods and Statistics<a class="anchor-link" href="#CHE-116:-Numerical-Methods-and-Statistics">&#182;</a></h4><p>Prof. Andrew White</p>
<p>Version 1.7 (2/12/2015)</p>
<hr>

</div>
</div>
</div>
<div class="cell border-box-sizing text_cell rendered">
<div class="prompt input_prompt">
</div>
<div class="inner_cell">
<div class="text_cell_render border-box-sizing rendered_html">
<h1 id="1.-Warmup-(3-Points)">1. Warmup (3 Points)<a class="anchor-link" href="#1.-Warmup-(3-Points)">&#182;</a></h1><p>Both lectures are available this week as ipython notebooks. Go back and study them, review the code, and make sure you understand all the examples in lecture. Modify the code, see what breaks it, see how it changes, throw print statements in to understand it better. Once you feel comfortable with sampling, normal distributions, histograms, integration, differentiation and model sampling, then start the problems. You will be very sad if you start the homework only based on your 3 hours of time in lecture. Studying the lecture notes also helps you familiarize yourself with using them as a reference.</p>
<p>Copy and past three program cells which are greater than 2 lines from the lectuers below and add a comment to every line describing whtat the program does. You will be graded on if your comments are correct and complete. 1 point per example</p>

</div>
</div>
</div>
<div class="cell border-box-sizing text_cell rendered">
<div class="prompt input_prompt">
</div>
<div class="inner_cell">
<div class="text_cell_render border-box-sizing rendered_html">
<h1 id="2.-Student-Debt-(4-Points)">2. Student Debt (4 Points)<a class="anchor-link" href="#2.-Student-Debt-(4-Points)">&#182;</a></h1><p>The average debt of a student graduating from University of Rochester was \$29,914 in 2013. Assume the standard deviation is \$20,000. The entry-level salary of a chemical engineer is about \$64,000 per year. Assume the standard deviation of salary is \$15,000. Use this information to answer the following questions and assume everything follows a normal distribution. As always, write out, with intermediate steps if necessary, how to go from what the question is asking to what your python code should do.</p>
<ol>
<li>Let's check our assumption of normality. What's the probability you made money while attending UR (this is impossible)? <em>Hint: This is $P(x < 0)$ </em></li>
<li>What's the probability of having debt greater than or equal to the full cost of tuition at UR assuming it costs \$67,890 per year?</li>
<li>What proportion (probability) of students have between \$0 and \$50,000 of debt</li>
<li>With a 95% confidence interval, what's the range of time to pay-off this debt assuming a new graduate devotes 30% of her salary to loan payments and makes exactly \$64,000? <em>Hint: break it into two steps, first get a confidence interval of debt then convert it to time</em></li>
</ol>

</div>
</div>
</div>
<div class="cell border-box-sizing text_cell rendered">
<div class="prompt input_prompt">
</div>
<div class="inner_cell">
<div class="text_cell_render border-box-sizing rendered_html">
<h1 id="3.-The-Student-Debt-Model-(14-Points)">3. The Student Debt Model (14 Points)<a class="anchor-link" href="#3.-The-Student-Debt-Model-(14-Points)">&#182;</a></h1><p>We're going to create a mathematical model for student debt and analyze it using sampling. Use the numbers from above, plus those given here. The student debt model follows this process:</p>
<p><strong>Process (not questions to answer):</strong></p>
<ol>
<li>You sample a UR debt using the normal distribution methods learnt in class. This happens one time</li>
<li>You sample your interest rate, $r$, using a normal distribution once with ($\mu=0.05, \sigma=0.01$). Your interest rate is fixed and you only accure interest after graduation. </li>
<li>You sample as in step 1 for a salary one time</li>
<li>You sample a payment rate that is normally distributed ($\mu=0.2$, $\sigma=0.05$). This is how much of your salary goes to your student debt. This happens every year and the payment rate should be sampled new every year.</li>
<li>You take your debt and multiply it by $1 + r$, where $r$ is your interest rate. This occurs before you pay towards the debt every year.</li>
<li>You take your salary, multiply it by the payment rate and subtract that from your debt. This happens every year.</li>
<li>At the end of the year, your salary goes up or down according to a normally distributed distribution ($\mu=1.05$, $\sigma=0.01$) that is multiplied by your salary. This happens every year and the multiplier should be sampled new every year.</li>
<li>The process ends when the debt is equal to or less than $0$. The year after graduation at which you pay your student debt is the final answer.</li>
</ol>
<hr>
<p><strong>Questions:</strong></p>
<ol>
<li>[1] What is the sample space of this model? Assume your debt is forgiven after you die. You will be dead within 50 years.</li>
<li>[3] Without any sampling (take each value to be its mean), compute the contribution you will pay each year towards a loan using a <code>for</code> loop. Your loop should be over the 50 years during which you could make payments. <em>Hint: Year one should be \$12,800 and year two should be \$13,440.</em></li>
<li>[2] Again without sampling, write out a program which computes the time to pay off debt assuming all the values used are means. Your program should have a <code>for</code> loop and a <code>break</code> statement <em>Hint: The answer is 3 years</em></li>
<li>[1] Turn your program from 3.3 into a function, which should output 3 each time. It does not need to take any arguments.</li>
<li>[2] Create an empty list and write a <code>for</code> loop that appends the output of your function to the list 10,000 times.</li>
<li>[2] Add the sampling to your function. You should now have a list containing 10,000 samples. <em>Hint: The mean should obviously be close to 3 years.</em></li>
<li>[3] Histogram the samples and plot them as a seaborn barplot. What distribution does this look like? <em>Hint: A good set of bins might be -0.5, 0.5, 1.5, 2.5,...,10.5 with labels 0,1,2,3,...,10</em></li>
</ol>

</div>
</div>
</div>
<div class="cell border-box-sizing text_cell rendered">
<div class="prompt input_prompt">
</div>
<div class="inner_cell">
<div class="text_cell_render border-box-sizing rendered_html">
<h1 id="4.-Heating-my-Apartment-(10-Points)">4. Heating my Apartment (10 Points)<a class="anchor-link" href="#4.-Heating-my-Apartment-(10-Points)">&#182;</a></h1><p>I'm interested in studying the heating of my apartment. I've recorded the value shown on the thermostat over time in the next cell and stored it in the <code>data</code> variable. The data is with my heater off and an outdoor temperature of 10$^\circ{}$F. The data is in $^\circ{}$F and time in hours. Assume heat is tranferred from my room according to Newton's cooling law:</p>
$$\frac{d Q}{d t} = \alpha (T(t) - T_c)$$<p>where $Q$ is thermal energy, $t$ is time, $\alpha$ is an empirical convective heat transfer coefficient in energy per time per temperature, $T(t)$ is current temperature and $T_c$ is the constant temperature that is cooling or heating. We also know that</p>
$$Q = c_p T$$<p>where $c_p$ is the heat capacity of my apartment and $T$ is temperature on an absolute scale. Answer the following questions while paying close attention to units in Markdown and Python:</p>
<ol>
<li>[2] Given the temperature ($^\circ{}$F) and time (hours), compute $dT / dt$ at every point.</li>
<li>[2] Using algebra and calculus, write an equation to compute $\alpha / c_p$. Your equation should tell you that you will have an estimate at each data point. </li>
<li>[1] Compute that estimate of $\alpha / c_p$ at each time point</li>
<li>[2] Using <code>np.mean</code> and <code>np.var</code>, what is the 95% confidence interval of $\alpha / c_p$?</li>
<li>[2] I am now cold, I turn the heater on and it runs for 1 hour and 15 minutes to heat my apartment back up to 68$^\circ{}$F from 53.71$^\circ{}$F. I observe that my heater has a current of 20.5 A and a voltage of 220 V (recall power equals current times volate). Using the definition above for heat capacity, what is the heat capacity of my apartment? Report your answer in kJ per degree Fahrenheit. You may neglect heat transfer out of the apartment during this heating period.</li>
<li>[1] What is the heat transfer coefficient of my apartment? Report your answer in kW per Fahrenheit.</li>
</ol>

</div>
</div>
</div>
<div class="cell border-box-sizing code_cell rendered">
<div class="input">
<div class="prompt input_prompt">In&nbsp;[6]:</div>
<div class="inner_cell">
    <div class="input_area">
<div class=" highlight hl-ipython3"><pre><span></span><span class="kn">import</span> <span class="nn">numpy</span> <span class="k">as</span> <span class="nn">np</span>
<span class="n">time</span> <span class="o">=</span> <span class="n">np</span><span class="o">.</span><span class="n">array</span><span class="p">([</span><span class="mf">0.0</span><span class="p">,</span> <span class="mf">0.2857</span><span class="p">,</span>  <span class="mf">0.5714</span><span class="p">,</span>  <span class="mf">0.8571</span><span class="p">,</span>  <span class="mf">1.1429</span><span class="p">,</span>  <span class="mf">1.4286</span><span class="p">,</span>  <span class="mf">1.7143</span><span class="p">,</span>  <span class="mf">2.0</span><span class="p">,</span>  <span class="mf">2.2857</span><span class="p">,</span>  <span class="mf">2.5714</span><span class="p">,</span>  <span class="mf">2.8571</span><span class="p">,</span>  <span class="mf">3.1429</span><span class="p">,</span>  <span class="mf">3.4286</span><span class="p">,</span>  <span class="mf">3.7143</span><span class="p">,</span>  <span class="mf">4.0</span><span class="p">,</span>  <span class="mf">4.2857</span><span class="p">,</span>  <span class="mf">4.5714</span><span class="p">,</span>  <span class="mf">4.8571</span><span class="p">,</span>  <span class="mf">5.1429</span><span class="p">,</span>  <span class="mf">5.4286</span><span class="p">,</span>  <span class="mf">5.7143</span><span class="p">,</span>  <span class="mf">6.0</span><span class="p">,</span>  <span class="mf">6.2857</span><span class="p">,</span>  <span class="mf">6.5714</span><span class="p">,</span>  <span class="mf">6.8571</span><span class="p">,</span>  <span class="mf">7.1429</span><span class="p">,</span>  <span class="mf">7.4286</span><span class="p">,</span>  <span class="mf">7.7143</span><span class="p">,</span>  <span class="mf">8.0</span><span class="p">,</span>  <span class="mf">8.2857</span><span class="p">,</span>  <span class="mf">8.5714</span><span class="p">,</span>  <span class="mf">8.8571</span><span class="p">,</span>  <span class="mf">9.1429</span><span class="p">,</span>  <span class="mf">9.4286</span><span class="p">,</span>  <span class="mf">9.7143</span><span class="p">,</span>  <span class="mf">10.0</span><span class="p">,</span>  <span class="mf">10.2857</span><span class="p">,</span>  <span class="mf">10.5714</span><span class="p">,</span>  <span class="mf">10.8571</span><span class="p">,</span>  <span class="mf">11.1429</span><span class="p">,</span>  <span class="mf">11.4286</span><span class="p">,</span>  <span class="mf">11.7143</span><span class="p">,</span>  <span class="mf">12.0</span><span class="p">,</span>  <span class="mf">12.2857</span><span class="p">,</span>  <span class="mf">12.5714</span><span class="p">,</span>  <span class="mf">12.8571</span><span class="p">,</span>  <span class="mf">13.1429</span><span class="p">,</span>  <span class="mf">13.4286</span><span class="p">,</span>  <span class="mf">13.7143</span><span class="p">,</span>  <span class="mf">14.0</span><span class="p">])</span>
<span class="n">temperature</span> <span class="o">=</span> <span class="n">np</span><span class="o">.</span><span class="n">array</span><span class="p">([</span><span class="mf">67.9925</span><span class="p">,</span> <span class="mf">67.5912</span><span class="p">,</span>  <span class="mf">67.4439</span><span class="p">,</span>  <span class="mf">66.7896</span><span class="p">,</span>  <span class="mf">66.4346</span><span class="p">,</span>  <span class="mf">66.3176</span><span class="p">,</span>  <span class="mf">65.7527</span><span class="p">,</span>  <span class="mf">65.1487</span><span class="p">,</span>  <span class="mf">65.7247</span><span class="p">,</span>  <span class="mf">65.1831</span><span class="p">,</span>  <span class="mf">64.5981</span><span class="p">,</span>  <span class="mf">64.5213</span><span class="p">,</span>  <span class="mf">63.6746</span><span class="p">,</span>  <span class="mf">63.9106</span><span class="p">,</span>  <span class="mf">62.6127</span><span class="p">,</span>  <span class="mf">63.3892</span><span class="p">,</span>  <span class="mf">62.6511</span><span class="p">,</span>  <span class="mf">62.601</span><span class="p">,</span>  <span class="mf">61.9718</span><span class="p">,</span>  <span class="mf">60.5553</span><span class="p">,</span>  <span class="mf">61.5862</span><span class="p">,</span>  <span class="mf">61.3173</span><span class="p">,</span>  <span class="mf">60.5913</span><span class="p">,</span>  <span class="mf">59.7061</span><span class="p">,</span>  <span class="mf">59.6535</span><span class="p">,</span>  <span class="mf">58.9301</span><span class="p">,</span>  <span class="mf">59.346</span><span class="p">,</span>  <span class="mf">59.2083</span><span class="p">,</span>  <span class="mf">60.3429</span><span class="p">,</span>  <span class="mf">58.752</span><span class="p">,</span>  <span class="mf">57.6269</span><span class="p">,</span>  <span class="mf">57.5139</span><span class="p">,</span>  <span class="mf">59.0293</span><span class="p">,</span>  <span class="mf">56.7979</span><span class="p">,</span>  <span class="mf">56.2996</span><span class="p">,</span>  <span class="mf">56.4188</span><span class="p">,</span>  <span class="mf">57.1257</span><span class="p">,</span>  <span class="mf">56.1569</span><span class="p">,</span>  <span class="mf">56.3077</span><span class="p">,</span>  <span class="mf">55.893</span><span class="p">,</span>  <span class="mf">55.4356</span><span class="p">,</span>  <span class="mf">56.7985</span><span class="p">,</span>  <span class="mf">55.6536</span><span class="p">,</span>  <span class="mf">55.8353</span><span class="p">,</span>  <span class="mf">54.4404</span><span class="p">,</span>  <span class="mf">54.2872</span><span class="p">,</span>  <span class="mf">53.9584</span><span class="p">,</span>  <span class="mf">53.3222</span><span class="p">,</span>  <span class="mf">53.2458</span><span class="p">,</span>  <span class="mf">53.7111</span><span class="p">])</span>
</pre></div>

</div>
</div>
</div>

</div>
<div class="cell border-box-sizing text_cell rendered">
<div class="prompt input_prompt">
</div>
<div class="inner_cell">
<div class="text_cell_render border-box-sizing rendered_html">
<h1 id="5.-Heating-my-Apartment-Part-2-(5-Points-+-5-Extra-Credit)">5. Heating my Apartment Part 2 (5 Points + 5 Extra Credit)<a class="anchor-link" href="#5.-Heating-my-Apartment-Part-2-(5-Points-+-5-Extra-Credit)">&#182;</a></h1><p>Assume the temperature during the winter is a sine wave with a period of 24 hours, an offset of 20 $^\circ{}$F, and an amplitude of 15$^\circ{}$F.</p>
<ol>
<li>[1] Write an equation and plot the sine wave described</li>
<li>[1] Using the function for the outdoor temperature and assuming my apartment is always 68$^\circ{}$F, write an equation for $dQ / dt$.</li>
<li>[2] Integrate that equation for 3 months to get the total thermal energy from my heater required to maintain the 68$^\circ{}$F. Use Python for the integration.</li>
<li>[1] Give electricity costs 15 cents per kilowatt hour, how much money will my heating bill be this winter?</li>
<li>[5 points extra credit] Make a plot of my set temperature vs my winter heating bill by converting your work above into a function which takes in a temperature setpoint and reports a heating bill</li>
</ol>

</div>
</div>
</div>
<div class="cell border-box-sizing code_cell rendered">
<div class="input">
<div class="prompt input_prompt">In&nbsp;[&nbsp;]:</div>
<div class="inner_cell">
    <div class="input_area">
<div class=" highlight hl-ipython3"><pre><span></span> 
</pre></div>

</div>
</div>
</div>

</div>
 


    </div>
  </div>

  </div>


  
    <footer class="footer hidden-print">
      <div class="container">
        <div class="col-md-4">
          <p>
            This website does not host notebooks, it only renders notebooks
            available on other websites.
          </p>
        </div>

        <div class="col-md-4">
          <p>
            Delivered by <a href="http://www.fastly.com/">Fastly</a>,
            Rendered by <a href="https://developer.rackspace.com/?nbviewer=awesome">Rackspace</a>
          </p>
          <p>
            nbviewer GitHub <a href="https://github.com/jupyter/nbviewer">repository</a>.
          </p>
        </div>

        <div class="col-md-4">
          
  
            
              <p>
                nbviewer version:
                <a href="https://github.com/jupyter/nbviewer/commit/4f5d1d8a2539c1c8dc92873d3a775d34f0a3d417">
                  4f5d1d8
                </a>
              </p>
            
          
  
  <p>
    nbconvert version: <a href="https://github.com/jupyter/nbconvert/releases/tag/5.1.1">
      5.1.1
    </a>
  </p>
  

          
  
  
  <p>
    Rendered
    <span class='date' data-date='Wed, 01 Mar 2017 18:38:51 UTC' title='Wed, 01 Mar 2017 18:38:51 UTC'>(Wed, 01 Mar 2017 18:38:51 UTC)</span>
  </p>
  

        </div>
      </div>
    </footer>
  

  <script src="https://unpkg.com/jupyter-js-widgets@2.0.*/dist/embed.js"></script>
  <script src="/static/components/bootstrap/js/bootstrap.min.js?v=5869c96cc8f19086aee625d670d741f9"></script>
  <script src="/static/components/headroom.js/dist/headroom.min.js?v=b0a311ea668f8e768ea375f4a7abb81c"></script>
  <script src="/static/components/headroom.js/dist/jQuery.headroom.min.js?v=f3a1bae118315d0c234afc74dc6aab71"></script>

  
  
  <script>
    $(function(){ $("#menubar").headroom({
      tolerance: 5,
      offset: 205,
      classes: {
        initial: "animated",
        pinned: "slideInDown",
        unpinned: "slideOutUp"
      }
    })});
  </script>


  
  <script>
    (function(i,s,o,g,r,a,m){i['GoogleAnalyticsObject']=r;i[r]=i[r]||function(){
      (i[r].q=i[r].q||[]).push(arguments)},i[r].l=1*new Date();a=s.createElement(o),
      m=s.getElementsByTagName(o)[0];a.async=1;a.src=g;m.parentNode.insertBefore(a,m)
    })(window,document,'script','https://www.google-analytics.com/analytics.js','ga');
    ga('create', 'UA-52617120-5', 'auto');
    ga('send', 'pageview');
  </script>
  
  <script>
    require({
        paths: {
          moment: "/static/components/moment/min/moment.min.js?v=89f87298ad94aa1e6b92f42eb66da043"
        }
      }, ["moment"], function(moment){
      var date = $("footer .date"),
        m = moment(new Date(date.data('date'))),
        update = function(){ date.text(m.fromNow()); };
      setInterval(update, 61*1000);
      update();
      var w = $(window).scroll(function(event){
        $("body").toggleClass("scrolled", w.scrollTop() > 0);
      });
    });
  </script>
  <!--NEW RELIC Stop Perf Measurement-->
  
  <!--NEW RELIC End-->
</body>
</html>