








<!DOCTYPE html>
<html lang="en">

<head>
  <meta charset="utf-8">
  <title>Jupyter Notebook Viewer</title>
  <meta name="viewport" content="width=device-width, initial-scale=1.0">
  <meta name="description" content="">
  <meta name="author" content="">
  
  <meta name="robots" content="noindex,nofollow">
  

  <!--NEW RELIC Start Perf Measurement-->
  
  <!--NREND-->

  <!-- Le styles -->
  <script type="text/javascript">
//<![CDATA[
try{if (!window.CloudFlare) {var CloudFlare=[{verbose:0,p:0,byc:0,owlid:"cf",bag2:1,mirage2:0,oracle:0,paths:{cloudflare:"/cdn-cgi/nexp/dok3v=1613a3a185/"},atok:"d5780763e19e7d19f23070ae83c9af3a",petok:"8e0517b6b0792dcd2607e25d1eeb1dc22b760f13-1488393528-3600",zone:"jupyter.org",rocket:"0",apps:{"ga_key":{"ua":"UA-52617120-1","ga_bs":"2"}}}];!function(a,b){a=document.createElement("script"),b=document.getElementsByTagName("script")[0],a.async=!0,a.src="//ajax.cloudflare.com/cdn-cgi/nexp/dok3v=f2befc48d1/cloudflare.min.js",b.parentNode.insertBefore(a,b)}()}}catch(e){};
//]]>
</script>
<link href="/static/build/styles.css?v=c18d49652a516277e15114bbd447f1c1" rel="stylesheet">

  <!-- Le HTML5 shim, for IE6-8 support of HTML5 elements -->
  <!--[if lt IE 9]>
    <script src="http://html5shim.googlecode.com/svn/trunk/html5.js"></script>
  <![endif]-->

  <!-- Le fav and touch icons -->
  <link rel="shortcut icon" href="/static/ico/ipynb_icon_16x16.png">
  <link rel="apple-touch-icon-precomposed" sizes="144x144"
        href="/static/ico/apple-touch-icon-144-precomposed.png?v=5a3c9ede93e2a8b8ea9e3f8f3da1a905">
  <link rel="apple-touch-icon-precomposed" sizes="114x114"
        href="/static/ico/apple-touch-icon-114-precomposed.png?v=45d86fc8f24dc00638035e1dd7a6d898">
  <link rel="apple-touch-icon-precomposed" sizes="72x72"
        href="/static/ico/apple-touch-icon-72-precomposed.png?v=540b5eb0f3cfd25f1439d1c9bd30e15f">
  <link rel="apple-touch-icon-precomposed"
        href="/static/ico/apple-touch-icon-57-precomposed.png?v=225f0590e187e1458625654f10a28f56">
  
  

  

  
  <meta name="twitter:card" content="summary">
  <meta name="twitter:title" content="Notebook on nbviewer">
  <meta name="twitter:description" content="Check out this Jupyter notebook!">

  
  <meta name="twitter:domain" content="nbviewer.ipython.org">
  <meta name="twitter:image:src" content="http://ipython.org/ipython-doc/dev/_images/ipynb_icon_128x128.png">

  
    <link href="/static/build/notebook.css?v=d05748bef7d8f0edbc1e0133b9a41fe0" rel="stylesheet">
  

  

  
    <script src="https://cdn.mathjax.org/mathjax/latest/MathJax.js?config=TeX-AMS_HTML" type="text/javascript">
    </script>
    <script type="text/javascript">
      init_mathjax = function() {
        if (window.MathJax) {
          // MathJax loaded
          MathJax.Hub.Config({
            TeX: {
              equationNumbers: {
                autoNumber: "AMS",
                useLabelIds: true
              }
            },
            tex2jax: {
              inlineMath: [ ['$','$'], ["\\(","\\)"] ],
              displayMath: [ ['$$','$$'], ["\\[","\\]"] ],
              processEscapes: true,
              processEnvironments: true
            },
            displayAlign: 'center',
            "HTML-CSS": {
              styles: {'.MathJax_Display': {"margin": 0}},
              linebreaks: { automatic: true }
            }
          });
          MathJax.Hub.Queue(["Typeset", MathJax.Hub]);
        }
      }
      init_mathjax();
    </script>
  

<script type="text/javascript">
/* <![CDATA[ */
var _gaq = _gaq || [];
_gaq.push(['_setAccount', 'UA-52617120-1']);
_gaq.push(['_trackPageview']);

(function() {
var ga = document.createElement('script'); ga.type = 'text/javascript'; ga.async = true;
ga.src = ('https:' == document.location.protocol ? 'https://ssl' : 'http://www') + '.google-analytics.com/ga.js';
var s = document.getElementsByTagName('script')[0]; s.parentNode.insertBefore(ga, s);
})();

(function(b){(function(a){"__CF"in b&&"DJS"in b.__CF?b.__CF.DJS.push(a):"addEventListener"in b?b.addEventListener("load",a,!1):b.attachEvent("onload",a)})(function(){"FB"in b&&"Event"in FB&&"subscribe"in FB.Event&&(FB.Event.subscribe("edge.create",function(a){_gaq.push(["_trackSocial","facebook","like",a])}),FB.Event.subscribe("edge.remove",function(a){_gaq.push(["_trackSocial","facebook","unlike",a])}),FB.Event.subscribe("message.send",function(a){_gaq.push(["_trackSocial","facebook","send",a])}));"twttr"in b&&"events"in twttr&&"bind"in twttr.events&&twttr.events.bind("tweet",function(a){if(a){var b;if(a.target&&a.target.nodeName=="IFRAME")a:{if(a=a.target.src){a=a.split("#")[0].match(/[^?=&]+=([^&]*)?/g);b=0;for(var c;c=a[b];++b)if(c.indexOf("url")===0){b=unescape(c.split("=")[1]);break a}}b=void 0}_gaq.push(["_trackSocial","twitter","tweet",b])}})})})(window);
/* ]]> */
</script>
</head>

<body class="nbviewer">

  <!-- These are loaded at the top of the body so they are available to
       notebook cells when they are loaded below. -->
  <script src="/static/components/jquery/dist/jquery.min.js?v=e071abda8fe61194711cfc2ab99fe104"></script>
  <script src="/static/components/requirejs/require.js?v=6da8be361b9ee26c5e721e76c6d4afce"></script>
  <script src="/static/components/moment/min/moment.min.js?v=89f87298ad94aa1e6b92f42eb66da043"></script>

<!-- Navbar
================================================== -->
  <nav id="menubar" class="navbar navbar-default navbar-fixed-top" data-spy="affix">
    <div class="container">
      <div class="navbar-header">
        <button type="button" class="navbar-toggle collapsed" data-toggle="collapse" data-target=".navbar-collapse">
          <span class="sr-only">Toggle navigation</span>
          <i class="fa fa-bars"></i>
        </button>
        <a class="navbar-brand" href="/">
          <img src="/static/img/nav_logo.svg?v=479cefe8d932fb14a67b93911b97d70f" width="159"/>
        </a>
      </div>

      <div class="collapse navbar-collapse">
        <ul class="nav navbar-nav navbar-right">
          <li>
            <a class="active" href="http://jupyter.org">JUPYTER</a>
          </li>
          <li>
    <a href="/faq" title="FAQ" >
      
        <span>FAQ</span>
      
    </a>
  </li>

          
  
    
  
    
      
        <li>
    <a href="/format/script/url/thewhitelab.org/Classes/CHE116/Unit_5/Homework_5_Key.ipynb" title="View as Code" >
      <span class="fa fa-code fa-2x menu-icon"></span>
      <span class="menu-text">View as Code</span>
    </a>
  </li>
      
    
  

  

  

  <li>
    <a href="http://thewhitelab.org/Classes/CHE116/Unit_5/Homework_5_Key.ipynb" title="Download Notebook" download>
      <span class="fa fa-download fa-2x menu-icon"></span>
      <span class="menu-text">Download Notebook</span>
    </a>
  </li>

        </ul>
      </div><!-- /.navbar-collapse -->
      
      
    </div>
  </nav>

  <div class="container container-main">
    
  
  <div id="notebook">
    <div id="notebook-container">
      
<div class="cell border-box-sizing code_cell rendered">
<div class="input">
<div class="prompt input_prompt">In&nbsp;[1]:</div>
<div class="inner_cell">
    <div class="input_area">
<div class=" highlight hl-ipython3"><pre><span></span><span class="o">%</span><span class="k">matplotlib</span> inline
<span class="kn">import</span> <span class="nn">matplotlib.pyplot</span> <span class="k">as</span> <span class="nn">plt</span>
<span class="kn">from</span> <span class="nn">math</span> <span class="k">import</span> <span class="o">*</span>
<span class="kn">from</span> <span class="nn">random</span> <span class="k">import</span> <span class="n">gauss</span>
<span class="kn">import</span> <span class="nn">numpy</span> <span class="k">as</span> <span class="nn">np</span>
<span class="kn">import</span> <span class="nn">seaborn</span>
</pre></div>

</div>
</div>
</div>

</div>
<div class="cell border-box-sizing text_cell rendered">
<div class="prompt input_prompt">
</div>
<div class="inner_cell">
<div class="text_cell_render border-box-sizing rendered_html">
<h4 id="2.1-Answer">2.1 Answer<a class="anchor-link" href="#2.1-Answer">&#182;</a></h4>$$\DeclareMathOperator{\erf}{erf}$$$$Z = \frac{0 - 29,914}{20,000}$$$$P(-\infty < x < 0) = \frac{1}{2}\erf \frac{Z}{\sqrt{2}}$$
</div>
</div>
</div>
<div class="cell border-box-sizing code_cell rendered">
<div class="input">
<div class="prompt input_prompt">In&nbsp;[2]:</div>
<div class="inner_cell">
    <div class="input_area">
<div class=" highlight hl-ipython3"><pre><span></span><span class="n">Z</span> <span class="o">=</span> <span class="p">(</span><span class="mi">0</span> <span class="o">-</span> <span class="mf">29914.0</span><span class="p">)</span> <span class="o">/</span> <span class="p">(</span><span class="mi">20000</span><span class="p">)</span>
<span class="nb">print</span> <span class="mf">0.5</span> <span class="o">*</span><span class="p">(</span><span class="mi">1</span> <span class="o">+</span> <span class="n">erf</span><span class="p">(</span><span class="n">Z</span> <span class="o">/</span> <span class="n">sqrt</span><span class="p">(</span><span class="mi">2</span><span class="p">)))</span>
</pre></div>

</div>
</div>
</div>

<div class="output_wrapper">
<div class="output">


<div class="output_area">
<div class="prompt"></div>

<div class="output_subarea output_stream output_stdout output_text">
<pre>0.0673659251587
</pre>
</div>
</div>

</div>
</div>

</div>
<div class="cell border-box-sizing text_cell rendered">
<div class="prompt input_prompt">
</div>
<div class="inner_cell">
<div class="text_cell_render border-box-sizing rendered_html">
<h4 id="2.2-Answer">2.2 Answer<a class="anchor-link" href="#2.2-Answer">&#182;</a></h4>
</div>
</div>
</div>
<div class="cell border-box-sizing text_cell rendered">
<div class="prompt input_prompt">
</div>
<div class="inner_cell">
<div class="text_cell_render border-box-sizing rendered_html">
<p>Now, to compute the question which is $P(67890 < x < \infty)$</p>
$$\int_{67890}^{\infty} \cal{N}(29914, 20000) = \frac{1}{2}\left[\erf\left(\frac{67890 - 29914}{20000 \sqrt{2}}\right)\right]$$
</div>
</div>
</div>
<div class="cell border-box-sizing code_cell rendered">
<div class="input">
<div class="prompt input_prompt">In&nbsp;[3]:</div>
<div class="inner_cell">
    <div class="input_area">
<div class=" highlight hl-ipython3"><pre><span></span><span class="n">P</span><span class="o">=</span><span class="mf">0.5</span> <span class="o">*</span><span class="p">(</span><span class="mi">1</span><span class="o">-</span> <span class="n">erf</span><span class="p">((</span><span class="mf">67890.0</span> <span class="o">-</span><span class="mi">29914</span><span class="p">)</span> <span class="o">/</span> <span class="p">(</span><span class="mi">20000</span> <span class="o">*</span> <span class="n">sqrt</span><span class="p">(</span><span class="mi">2</span><span class="p">))))</span>
<span class="nb">print</span> <span class="n">P</span>
</pre></div>

</div>
</div>
</div>

<div class="output_wrapper">
<div class="output">


<div class="output_area">
<div class="prompt"></div>

<div class="output_subarea output_stream output_stdout output_text">
<pre>0.0287953886055
</pre>
</div>
</div>

</div>
</div>

</div>
<div class="cell border-box-sizing text_cell rendered">
<div class="prompt input_prompt">
</div>
<div class="inner_cell">
<div class="text_cell_render border-box-sizing rendered_html">
<h4 id="2.3-Answer">2.3 Answer<a class="anchor-link" href="#2.3-Answer">&#182;</a></h4>$$\int_{0}^{50000} \cal{N}(29914, 20000) = \frac{1}{2}\left[-\erf\left(\frac{0 - 29914}{20000 \sqrt{2}}\right)\right]+\frac{1}{2}\left[\erf\left(\frac{50000 - 29914}{20000 \sqrt{2}}\right)\right]$$
</div>
</div>
</div>
<div class="cell border-box-sizing code_cell rendered">
<div class="input">
<div class="prompt input_prompt">In&nbsp;[4]:</div>
<div class="inner_cell">
    <div class="input_area">
<div class=" highlight hl-ipython3"><pre><span></span><span class="n">P</span><span class="o">=</span><span class="mf">0.5</span> <span class="o">*</span> <span class="p">(</span><span class="n">erf</span><span class="p">((</span><span class="mi">50000</span> <span class="o">-</span><span class="mi">29914</span><span class="p">)</span> <span class="o">/</span> <span class="p">(</span><span class="mi">20000</span> <span class="o">*</span> <span class="n">sqrt</span><span class="p">(</span><span class="mi">2</span><span class="p">)))</span><span class="o">-</span><span class="n">erf</span><span class="p">((</span><span class="o">-</span><span class="mi">29914</span><span class="p">)</span> <span class="o">/</span> <span class="p">(</span><span class="mi">20000</span> <span class="o">*</span> <span class="n">sqrt</span><span class="p">(</span><span class="mi">2</span><span class="p">))))</span>
<span class="nb">print</span> <span class="n">P</span>
</pre></div>

</div>
</div>
</div>

<div class="output_wrapper">
<div class="output">


<div class="output_area">
<div class="prompt"></div>

<div class="output_subarea output_stream output_stdout output_text">
<pre>0.775017058013
</pre>
</div>
</div>

</div>
</div>

</div>
<div class="cell border-box-sizing text_cell rendered">
<div class="prompt input_prompt">
</div>
<div class="inner_cell">
<div class="text_cell_render border-box-sizing rendered_html">
<h4 id="2.4-Answer">2.4 Answer<a class="anchor-link" href="#2.4-Answer">&#182;</a></h4><p>To go from debt to time, use $d / (r\times s)$, where $d$ is debt, $r$ is payment rate, and $s$ is salary.</p>

</div>
</div>
</div>
<div class="cell border-box-sizing code_cell rendered">
<div class="input">
<div class="prompt input_prompt">In&nbsp;[5]:</div>
<div class="inner_cell">
    <div class="input_area">
<div class=" highlight hl-ipython3"><pre><span></span><span class="n">Ciup</span><span class="o">=</span><span class="mf">1.96</span><span class="o">*</span><span class="mi">20000</span><span class="o">+</span><span class="mi">29914</span>
<span class="n">Cibel</span><span class="o">=-</span><span class="mf">1.96</span><span class="o">*</span><span class="mi">20000</span><span class="o">+</span><span class="mi">29914</span>
<span class="n">timeup</span><span class="o">=</span><span class="n">Ciup</span><span class="o">/</span><span class="p">(</span><span class="mf">0.3</span><span class="o">*</span><span class="mi">64000</span><span class="p">)</span>
<span class="n">timebel</span><span class="o">=</span><span class="n">Cibel</span><span class="o">/</span><span class="p">(</span><span class="mf">0.3</span><span class="o">*</span><span class="mi">64000</span><span class="p">)</span>
<span class="n">time</span><span class="o">=</span><span class="p">(</span><span class="o">-</span><span class="n">Cibel</span><span class="o">+</span><span class="n">Ciup</span><span class="p">)</span><span class="o">/</span><span class="p">(</span><span class="mf">0.3</span><span class="o">*</span><span class="mi">64000</span><span class="p">)</span>
<span class="nb">print</span> <span class="n">ceil</span><span class="p">(</span><span class="n">timebel</span><span class="p">),</span> <span class="n">ceil</span><span class="p">(</span><span class="n">timeup</span><span class="p">)</span>
</pre></div>

</div>
</div>
</div>

<div class="output_wrapper">
<div class="output">


<div class="output_area">
<div class="prompt"></div>

<div class="output_subarea output_stream output_stdout output_text">
<pre>-0.0 4.0
</pre>
</div>
</div>

</div>
</div>

</div>
<div class="cell border-box-sizing text_cell rendered">
<div class="prompt input_prompt">
</div>
<div class="inner_cell">
<div class="text_cell_render border-box-sizing rendered_html">
<h4 id="3.1-Answer">3.1 Answer<a class="anchor-link" href="#3.1-Answer">&#182;</a></h4><p>$[0,50]$</p>

</div>
</div>
</div>
<div class="cell border-box-sizing text_cell rendered">
<div class="prompt input_prompt">
</div>
<div class="inner_cell">
<div class="text_cell_render border-box-sizing rendered_html">
<h4 id="3.2-Answer">3.2 Answer<a class="anchor-link" href="#3.2-Answer">&#182;</a></h4>
</div>
</div>
</div>
<div class="cell border-box-sizing code_cell rendered">
<div class="input">
<div class="prompt input_prompt">In&nbsp;[6]:</div>
<div class="inner_cell">
    <div class="input_area">
<div class=" highlight hl-ipython3"><pre><span></span><span class="n">salary</span> <span class="o">=</span> <span class="mi">64000</span>
<span class="n">savings</span> <span class="o">=</span> <span class="mf">0.2</span>
<span class="n">s_raise</span> <span class="o">=</span> <span class="mf">1.05</span>

<span class="k">for</span> <span class="n">y</span> <span class="ow">in</span> <span class="nb">range</span><span class="p">(</span><span class="mi">0</span><span class="p">,</span><span class="mi">51</span><span class="p">):</span>
    <span class="nb">print</span> <span class="n">salary</span> <span class="o">*</span> <span class="n">savings</span>
    <span class="n">salary</span> <span class="o">*=</span> <span class="n">s_raise</span>
</pre></div>

</div>
</div>
</div>

<div class="output_wrapper">
<div class="output">


<div class="output_area">
<div class="prompt"></div>

<div class="output_subarea output_stream output_stdout output_text">
<pre>12800.0
13440.0
14112.0
14817.6
15558.48
16336.404
17153.2242
18010.88541
18911.4296805
19857.0011645
20849.8512228
21892.3437839
22986.9609731
24136.3090217
25343.1244728
26610.2806965
27940.7947313
29337.8344679
30804.7261912
32344.9625008
33962.2106258
35660.3211571
37443.337215
39315.5040757
41281.2792795
43345.3432435
45512.6104057
47788.240926
50177.6529723
52686.5356209
55320.8624019
58086.905522
60991.2507981
64040.813338
67242.8540049
70604.9967052
74135.2465404
77842.0088675
81734.1093108
85820.8147764
90111.8555152
94617.448291
99348.3207055
104315.736741
109531.523578
115008.099757
120758.504745
126796.429982
133136.251481
139793.064055
146782.717258
</pre>
</div>
</div>

</div>
</div>

</div>
<div class="cell border-box-sizing text_cell rendered">
<div class="prompt input_prompt">
</div>
<div class="inner_cell">
<div class="text_cell_render border-box-sizing rendered_html">
<h4 id="3.3-Answer">3.3 Answer<a class="anchor-link" href="#3.3-Answer">&#182;</a></h4>
</div>
</div>
</div>
<div class="cell border-box-sizing code_cell rendered">
<div class="input">
<div class="prompt input_prompt">In&nbsp;[7]:</div>
<div class="inner_cell">
    <div class="input_area">
<div class=" highlight hl-ipython3"><pre><span></span><span class="n">debt</span> <span class="o">=</span> <span class="mi">29915</span>
<span class="n">r</span> <span class="o">=</span> <span class="mf">0.05</span>
<span class="n">salary</span> <span class="o">=</span> <span class="mi">64000</span>
<span class="n">years</span> <span class="o">=</span> <span class="nb">range</span><span class="p">(</span><span class="mi">0</span><span class="p">,</span><span class="mi">51</span><span class="p">)</span>
<span class="k">for</span> <span class="n">y</span> <span class="ow">in</span> <span class="n">years</span><span class="p">:</span>
    <span class="k">if</span><span class="p">(</span><span class="n">debt</span> <span class="o">&lt;</span> <span class="mi">0</span><span class="p">):</span>
        <span class="k">break</span>
    <span class="n">savings</span> <span class="o">=</span> <span class="mf">0.2</span>
    <span class="n">debt</span> <span class="o">*=</span> <span class="p">(</span><span class="mi">1</span> <span class="o">+</span> <span class="n">r</span><span class="p">)</span>
    <span class="n">debt</span> <span class="o">-=</span> <span class="n">salary</span> <span class="o">*</span> <span class="n">savings</span>
    <span class="n">salary</span> <span class="o">*=</span> <span class="mf">1.05</span>
<span class="nb">print</span> <span class="n">y</span>
</pre></div>

</div>
</div>
</div>

<div class="output_wrapper">
<div class="output">


<div class="output_area">
<div class="prompt"></div>

<div class="output_subarea output_stream output_stdout output_text">
<pre>3
</pre>
</div>
</div>

</div>
</div>

</div>
<div class="cell border-box-sizing text_cell rendered">
<div class="prompt input_prompt">
</div>
<div class="inner_cell">
<div class="text_cell_render border-box-sizing rendered_html">
<h4 id="3.4-Answer">3.4 Answer<a class="anchor-link" href="#3.4-Answer">&#182;</a></h4>
</div>
</div>
</div>
<div class="cell border-box-sizing code_cell rendered">
<div class="input">
<div class="prompt input_prompt">In&nbsp;[8]:</div>
<div class="inner_cell">
    <div class="input_area">
<div class=" highlight hl-ipython3"><pre><span></span><span class="k">def</span> <span class="nf">debt</span><span class="p">():</span>
    <span class="n">debt</span> <span class="o">=</span> <span class="mi">29915</span>
    <span class="n">r</span> <span class="o">=</span> <span class="mf">0.05</span>
    <span class="n">salary</span> <span class="o">=</span> <span class="mi">64000</span>
    <span class="n">year</span> <span class="o">=</span> <span class="nb">range</span><span class="p">(</span><span class="mi">100</span><span class="p">)</span>
    <span class="k">for</span> <span class="n">y</span> <span class="ow">in</span> <span class="n">year</span><span class="p">:</span>
        <span class="k">if</span><span class="p">(</span><span class="n">debt</span> <span class="o">&lt;</span> <span class="mi">0</span><span class="p">):</span>
            <span class="k">break</span>
        <span class="n">savings</span> <span class="o">=</span> <span class="mf">0.2</span>
        <span class="n">debt</span> <span class="o">*=</span> <span class="p">(</span><span class="mi">1</span> <span class="o">+</span> <span class="n">r</span><span class="p">)</span>
        <span class="n">debt</span> <span class="o">-=</span> <span class="n">salary</span> <span class="o">*</span> <span class="n">savings</span>
        <span class="n">salary</span> <span class="o">*=</span> <span class="mf">1.05</span>
    <span class="k">return</span> <span class="n">y</span>

<span class="nb">print</span> <span class="n">debt</span><span class="p">()</span>
</pre></div>

</div>
</div>
</div>

<div class="output_wrapper">
<div class="output">


<div class="output_area">
<div class="prompt"></div>

<div class="output_subarea output_stream output_stdout output_text">
<pre>3
</pre>
</div>
</div>

</div>
</div>

</div>
<div class="cell border-box-sizing text_cell rendered">
<div class="prompt input_prompt">
</div>
<div class="inner_cell">
<div class="text_cell_render border-box-sizing rendered_html">
<h4 id="3.5-Answer">3.5 Answer<a class="anchor-link" href="#3.5-Answer">&#182;</a></h4>
</div>
</div>
</div>
<div class="cell border-box-sizing code_cell rendered">
<div class="input">
<div class="prompt input_prompt">In&nbsp;[9]:</div>
<div class="inner_cell">
    <div class="input_area">
<div class=" highlight hl-ipython3"><pre><span></span><span class="n">data</span> <span class="o">=</span> <span class="p">[]</span>
<span class="k">for</span> <span class="n">i</span> <span class="ow">in</span> <span class="nb">range</span><span class="p">(</span><span class="mi">10000</span><span class="p">):</span>
    <span class="n">data</span><span class="o">.</span><span class="n">append</span><span class="p">(</span><span class="n">debt</span><span class="p">())</span>
</pre></div>

</div>
</div>
</div>

</div>
<div class="cell border-box-sizing text_cell rendered">
<div class="prompt input_prompt">
</div>
<div class="inner_cell">
<div class="text_cell_render border-box-sizing rendered_html">
<h4 id="3.6-Answer">3.6 Answer<a class="anchor-link" href="#3.6-Answer">&#182;</a></h4>
</div>
</div>
</div>
<div class="cell border-box-sizing code_cell rendered">
<div class="input">
<div class="prompt input_prompt">In&nbsp;[10]:</div>
<div class="inner_cell">
    <div class="input_area">
<div class=" highlight hl-ipython3"><pre><span></span><span class="k">def</span> <span class="nf">sample_debt</span><span class="p">():</span>
    <span class="n">debt</span> <span class="o">=</span> <span class="n">gauss</span><span class="p">(</span><span class="mi">29915</span><span class="p">,</span> <span class="mi">20000</span><span class="p">)</span>
    <span class="n">interest</span> <span class="o">=</span>  <span class="n">gauss</span><span class="p">(</span><span class="mf">1.05</span><span class="p">,</span> <span class="mf">0.01</span><span class="p">)</span>
    <span class="n">salary</span> <span class="o">=</span> <span class="n">gauss</span><span class="p">(</span><span class="mi">64000</span><span class="p">,</span> <span class="mi">15000</span><span class="p">)</span>
    <span class="n">year</span> <span class="o">=</span> <span class="nb">range</span><span class="p">(</span><span class="mi">100</span><span class="p">)</span>
    <span class="k">for</span> <span class="n">y</span> <span class="ow">in</span> <span class="n">year</span><span class="p">:</span>
        <span class="k">if</span><span class="p">(</span><span class="n">debt</span> <span class="o">&lt;</span> <span class="mi">0</span><span class="p">):</span>
            <span class="k">break</span>
        <span class="n">savings</span> <span class="o">=</span> <span class="n">gauss</span><span class="p">(</span><span class="mf">0.2</span><span class="p">,</span> <span class="mf">0.05</span><span class="p">)</span>
        <span class="n">debt</span> <span class="o">*=</span> <span class="n">interest</span>
        <span class="n">debt</span> <span class="o">-=</span> <span class="n">salary</span> <span class="o">*</span> <span class="n">savings</span>
        <span class="n">salary</span> <span class="o">*=</span> <span class="n">gauss</span><span class="p">(</span><span class="mf">1.05</span><span class="p">,</span> <span class="o">.</span><span class="mi">01</span><span class="p">)</span>        
    <span class="k">return</span> <span class="n">y</span>
<span class="n">data</span> <span class="o">=</span> <span class="p">[]</span>
<span class="k">for</span> <span class="n">i</span> <span class="ow">in</span> <span class="nb">range</span><span class="p">(</span><span class="mi">10000</span><span class="p">):</span>
    <span class="n">data</span><span class="o">.</span><span class="n">append</span><span class="p">(</span><span class="n">sample_debt</span><span class="p">())</span>
<span class="nb">print</span> <span class="n">np</span><span class="o">.</span><span class="n">mean</span><span class="p">(</span><span class="n">data</span><span class="p">)</span>
</pre></div>

</div>
</div>
</div>

<div class="output_wrapper">
<div class="output">


<div class="output_area">
<div class="prompt"></div>

<div class="output_subarea output_stream output_stdout output_text">
<pre>3.1963
</pre>
</div>
</div>

</div>
</div>

</div>
<div class="cell border-box-sizing text_cell rendered">
<div class="prompt input_prompt">
</div>
<div class="inner_cell">
<div class="text_cell_render border-box-sizing rendered_html">
<h4 id="3.7-Answer">3.7 Answer<a class="anchor-link" href="#3.7-Answer">&#182;</a></h4><p>It looks like a binomial distribution</p>

</div>
</div>
</div>
<div class="cell border-box-sizing code_cell rendered">
<div class="input">
<div class="prompt input_prompt">In&nbsp;[11]:</div>
<div class="inner_cell">
    <div class="input_area">
<div class=" highlight hl-ipython3"><pre><span></span><span class="n">hist</span><span class="p">,</span><span class="n">bins</span> <span class="o">=</span> <span class="n">np</span><span class="o">.</span><span class="n">histogram</span><span class="p">(</span><span class="n">data</span><span class="p">,</span> <span class="n">bins</span><span class="o">=</span><span class="n">np</span><span class="o">.</span><span class="n">arange</span><span class="p">(</span><span class="o">-</span><span class="mf">0.5</span><span class="p">,</span><span class="mf">10.5</span><span class="p">,</span><span class="mi">1</span><span class="p">))</span>
<span class="n">seaborn</span><span class="o">.</span><span class="n">barplot</span><span class="p">(</span><span class="n">np</span><span class="o">.</span><span class="n">arange</span><span class="p">(</span><span class="mi">0</span><span class="p">,</span><span class="mi">10</span><span class="p">),</span> <span class="n">hist</span> <span class="o">/</span> <span class="nb">float</span><span class="p">(</span><span class="nb">len</span><span class="p">(</span><span class="n">data</span><span class="p">)))</span>
<span class="n">plt</span><span class="o">.</span><span class="n">show</span><span class="p">()</span>
</pre></div>

</div>
</div>
</div>

<div class="output_wrapper">
<div class="output">


<div class="output_area">
<div class="prompt"></div>



<div class="output_png output_subarea ">
<img src="data:image/png;base64,iVBORw0KGgoAAAANSUhEUgAAAeYAAAFVCAYAAAA6zUwUAAAABHNCSVQICAgIfAhkiAAAAAlwSFlz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"
>
</div>

</div>

</div>
</div>

</div>
<div class="cell border-box-sizing text_cell rendered">
<div class="prompt input_prompt">
</div>
<div class="inner_cell">
<div class="text_cell_render border-box-sizing rendered_html">
<h4 id="4.1-Answer">4.1 Answer<a class="anchor-link" href="#4.1-Answer">&#182;</a></h4>
</div>
</div>
</div>
<div class="cell border-box-sizing code_cell rendered">
<div class="input">
<div class="prompt input_prompt">In&nbsp;[53]:</div>
<div class="inner_cell">
    <div class="input_area">
<div class=" highlight hl-ipython3"><pre><span></span><span class="kn">import</span> <span class="nn">numpy</span> <span class="k">as</span> <span class="nn">np</span>
<span class="n">time</span> <span class="o">=</span> <span class="n">np</span><span class="o">.</span><span class="n">array</span><span class="p">([</span><span class="mf">0.0</span><span class="p">,</span> <span class="mf">0.2857</span><span class="p">,</span>  <span class="mf">0.5714</span><span class="p">,</span>  <span class="mf">0.8571</span><span class="p">,</span>  <span class="mf">1.1429</span><span class="p">,</span>  <span class="mf">1.4286</span><span class="p">,</span>  <span class="mf">1.7143</span><span class="p">,</span>  <span class="mf">2.0</span><span class="p">,</span>  <span class="mf">2.2857</span><span class="p">,</span>  <span class="mf">2.5714</span><span class="p">,</span>  <span class="mf">2.8571</span><span class="p">,</span>  <span class="mf">3.1429</span><span class="p">,</span>  <span class="mf">3.4286</span><span class="p">,</span>  <span class="mf">3.7143</span><span class="p">,</span>  <span class="mf">4.0</span><span class="p">,</span>  <span class="mf">4.2857</span><span class="p">,</span>  <span class="mf">4.5714</span><span class="p">,</span>  <span class="mf">4.8571</span><span class="p">,</span>  <span class="mf">5.1429</span><span class="p">,</span>  <span class="mf">5.4286</span><span class="p">,</span>  <span class="mf">5.7143</span><span class="p">,</span>  <span class="mf">6.0</span><span class="p">,</span>  <span class="mf">6.2857</span><span class="p">,</span>  <span class="mf">6.5714</span><span class="p">,</span>  <span class="mf">6.8571</span><span class="p">,</span>  <span class="mf">7.1429</span><span class="p">,</span>  <span class="mf">7.4286</span><span class="p">,</span>  <span class="mf">7.7143</span><span class="p">,</span>  <span class="mf">8.0</span><span class="p">,</span>  <span class="mf">8.2857</span><span class="p">,</span>  <span class="mf">8.5714</span><span class="p">,</span>  <span class="mf">8.8571</span><span class="p">,</span>  <span class="mf">9.1429</span><span class="p">,</span>  <span class="mf">9.4286</span><span class="p">,</span>  <span class="mf">9.7143</span><span class="p">,</span>  <span class="mf">10.0</span><span class="p">,</span>  <span class="mf">10.2857</span><span class="p">,</span>  <span class="mf">10.5714</span><span class="p">,</span>  <span class="mf">10.8571</span><span class="p">,</span>  <span class="mf">11.1429</span><span class="p">,</span>  <span class="mf">11.4286</span><span class="p">,</span>  <span class="mf">11.7143</span><span class="p">,</span>  <span class="mf">12.0</span><span class="p">,</span>  <span class="mf">12.2857</span><span class="p">,</span>  <span class="mf">12.5714</span><span class="p">,</span>  <span class="mf">12.8571</span><span class="p">,</span>  <span class="mf">13.1429</span><span class="p">,</span>  <span class="mf">13.4286</span><span class="p">,</span>  <span class="mf">13.7143</span><span class="p">,</span>  <span class="mf">14.0</span><span class="p">])</span>
<span class="n">temperature</span> <span class="o">=</span> <span class="n">np</span><span class="o">.</span><span class="n">array</span><span class="p">([</span><span class="mf">67.9925</span><span class="p">,</span> <span class="mf">67.5912</span><span class="p">,</span>  <span class="mf">67.4439</span><span class="p">,</span>  <span class="mf">66.7896</span><span class="p">,</span>  <span class="mf">66.4346</span><span class="p">,</span>  <span class="mf">66.3176</span><span class="p">,</span>  <span class="mf">65.7527</span><span class="p">,</span>  <span class="mf">65.1487</span><span class="p">,</span>  <span class="mf">65.7247</span><span class="p">,</span>  <span class="mf">65.1831</span><span class="p">,</span>  <span class="mf">64.5981</span><span class="p">,</span>  <span class="mf">64.5213</span><span class="p">,</span>  <span class="mf">63.6746</span><span class="p">,</span>  <span class="mf">63.9106</span><span class="p">,</span>  <span class="mf">62.6127</span><span class="p">,</span>  <span class="mf">63.3892</span><span class="p">,</span>  <span class="mf">62.6511</span><span class="p">,</span>  <span class="mf">62.601</span><span class="p">,</span>  <span class="mf">61.9718</span><span class="p">,</span>  <span class="mf">60.5553</span><span class="p">,</span>  <span class="mf">61.5862</span><span class="p">,</span>  <span class="mf">61.3173</span><span class="p">,</span>  <span class="mf">60.5913</span><span class="p">,</span>  <span class="mf">59.7061</span><span class="p">,</span>  <span class="mf">59.6535</span><span class="p">,</span>  <span class="mf">58.9301</span><span class="p">,</span>  <span class="mf">59.346</span><span class="p">,</span>  <span class="mf">59.2083</span><span class="p">,</span>  <span class="mf">60.3429</span><span class="p">,</span>  <span class="mf">58.752</span><span class="p">,</span>  <span class="mf">57.6269</span><span class="p">,</span>  <span class="mf">57.5139</span><span class="p">,</span>  <span class="mf">59.0293</span><span class="p">,</span>  <span class="mf">56.7979</span><span class="p">,</span>  <span class="mf">56.2996</span><span class="p">,</span>  <span class="mf">56.4188</span><span class="p">,</span>  <span class="mf">57.1257</span><span class="p">,</span>  <span class="mf">56.1569</span><span class="p">,</span>  <span class="mf">56.3077</span><span class="p">,</span>  <span class="mf">55.893</span><span class="p">,</span>  <span class="mf">55.4356</span><span class="p">,</span>  <span class="mf">56.7985</span><span class="p">,</span>  <span class="mf">55.6536</span><span class="p">,</span>  <span class="mf">55.8353</span><span class="p">,</span>  <span class="mf">54.4404</span><span class="p">,</span>  <span class="mf">54.2872</span><span class="p">,</span>  <span class="mf">53.9584</span><span class="p">,</span>  <span class="mf">53.3222</span><span class="p">,</span>  <span class="mf">53.2458</span><span class="p">,</span>  <span class="mf">53.7111</span><span class="p">])</span>
</pre></div>

</div>
</div>
</div>

</div>
<div class="cell border-box-sizing code_cell rendered">
<div class="input">
<div class="prompt input_prompt">In&nbsp;[54]:</div>
<div class="inner_cell">
    <div class="input_area">
<div class=" highlight hl-ipython3"><pre><span></span><span class="n">forward</span> <span class="o">=</span> <span class="p">(</span><span class="n">temperature</span><span class="p">[</span><span class="mi">1</span><span class="p">:]</span> <span class="o">-</span> <span class="n">temperature</span><span class="p">[:</span><span class="o">-</span><span class="mi">1</span><span class="p">])</span> <span class="o">/</span> <span class="p">(</span><span class="n">time</span><span class="p">[</span><span class="mi">1</span><span class="p">:]</span> <span class="o">-</span> <span class="n">time</span><span class="p">[:</span><span class="o">-</span><span class="mi">1</span><span class="p">])</span>
<span class="n">central</span> <span class="o">=</span> <span class="mf">0.5</span> <span class="o">*</span> <span class="p">(</span><span class="n">forward</span><span class="p">[</span><span class="mi">1</span><span class="p">:]</span> <span class="o">+</span> <span class="n">forward</span><span class="p">[:</span><span class="o">-</span><span class="mi">1</span><span class="p">])</span>
<span class="n">short_time</span> <span class="o">=</span> <span class="n">time</span><span class="p">[</span><span class="mi">1</span><span class="p">:</span><span class="o">-</span><span class="mi">1</span><span class="p">]</span>
<span class="n">short_temp</span> <span class="o">=</span> <span class="n">temperature</span><span class="p">[</span><span class="mi">1</span><span class="p">:</span><span class="o">-</span><span class="mi">1</span><span class="p">]</span>
<span class="n">plt</span><span class="o">.</span><span class="n">plot</span><span class="p">(</span><span class="n">short_time</span><span class="p">,</span> <span class="n">central</span><span class="p">)</span>
<span class="n">plt</span><span class="o">.</span><span class="n">show</span><span class="p">()</span>
</pre></div>

</div>
</div>
</div>

<div class="output_wrapper">
<div class="output">


<div class="output_area">
<div class="prompt"></div>



<div class="output_png output_subarea ">
<img src="data:image/png;base64,iVBORw0KGgoAAAANSUhEUgAAAeMAAAFVCAYAAADc5IdQAAAABHNCSVQICAgIfAhkiAAAAAlwSFlz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"
>
</div>

</div>

</div>
</div>

</div>
<div class="cell border-box-sizing text_cell rendered">
<div class="prompt input_prompt">
</div>
<div class="inner_cell">
<div class="text_cell_render border-box-sizing rendered_html">
<h4 id="4.2-Answer">4.2 Answer<a class="anchor-link" href="#4.2-Answer">&#182;</a></h4>$$\frac{d Q}{d t} = \alpha (T(t) - T_c) = c_p\frac{d T}{dt}$$
</div>
</div>
</div>
<div class="cell border-box-sizing text_cell rendered">
<div class="prompt input_prompt">
</div>
<div class="inner_cell">
<div class="text_cell_render border-box-sizing rendered_html">
$$\frac{\alpha}{c_p} = \frac{1}{T - Tc}\frac{d T}{dt}$$
</div>
</div>
</div>
<div class="cell border-box-sizing text_cell rendered">
<div class="prompt input_prompt">
</div>
<div class="inner_cell">
<div class="text_cell_render border-box-sizing rendered_html">
<h4 id="4.3-Answer">4.3 Answer<a class="anchor-link" href="#4.3-Answer">&#182;</a></h4>
</div>
</div>
</div>
<div class="cell border-box-sizing code_cell rendered">
<div class="input">
<div class="prompt input_prompt">In&nbsp;[55]:</div>
<div class="inner_cell">
    <div class="input_area">
<div class=" highlight hl-ipython3"><pre><span></span><span class="n">plt</span><span class="o">.</span><span class="n">plot</span><span class="p">(</span><span class="n">short_time</span><span class="p">,</span> <span class="n">central</span> <span class="o">/</span> <span class="p">(</span><span class="n">short_temp</span> <span class="o">-</span> <span class="mi">10</span><span class="p">))</span>
<span class="n">plt</span><span class="o">.</span><span class="n">show</span><span class="p">()</span>
</pre></div>

</div>
</div>
</div>

<div class="output_wrapper">
<div class="output">


<div class="output_area">
<div class="prompt"></div>



<div class="output_png output_subarea ">
<img src="data:image/png;base64,iVBORw0KGgoAAAANSUhEUgAAAfEAAAFVCAYAAAD/v9aFAAAABHNCSVQICAgIfAhkiAAAAAlwSFlz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"
>
</div>

</div>

</div>
</div>

</div>
<div class="cell border-box-sizing text_cell rendered">
<div class="prompt input_prompt">
</div>
<div class="inner_cell">
<div class="text_cell_render border-box-sizing rendered_html">
<h4 id="4.4-Answer">4.4 Answer<a class="anchor-link" href="#4.4-Answer">&#182;</a></h4>
</div>
</div>
</div>
<div class="cell border-box-sizing code_cell rendered">
<div class="input">
<div class="prompt input_prompt">In&nbsp;[79]:</div>
<div class="inner_cell">
    <div class="input_area">
<div class=" highlight hl-ipython3"><pre><span></span><span class="n">mean</span> <span class="o">=</span>  <span class="n">np</span><span class="o">.</span><span class="n">mean</span><span class="p">(</span><span class="mf">1.</span> <span class="o">/</span> <span class="p">(</span><span class="mi">10</span> <span class="o">-</span> <span class="n">short_temp</span><span class="p">)</span> <span class="o">*</span> <span class="n">central</span><span class="p">)</span>
<span class="n">y</span> <span class="o">=</span> <span class="mf">1.96</span> <span class="o">*</span> <span class="n">np</span><span class="o">.</span><span class="n">sqrt</span><span class="p">(</span><span class="n">np</span><span class="o">.</span><span class="n">var</span><span class="p">(</span><span class="mi">1</span> <span class="o">/</span> <span class="p">(</span><span class="mf">10.</span> <span class="o">-</span> <span class="n">short_temp</span><span class="p">)</span> <span class="o">*</span> <span class="n">central</span><span class="p">,</span> <span class="n">ddof</span><span class="o">=</span><span class="mi">1</span><span class="p">)</span> <span class="o">*</span> <span class="p">(</span><span class="nb">len</span><span class="p">(</span><span class="n">short_temp</span><span class="p">))</span> <span class="o">/</span>  <span class="p">(</span><span class="nb">len</span><span class="p">(</span><span class="n">short_temp</span><span class="p">)</span> <span class="o">-</span> <span class="mf">1.0</span><span class="p">))</span>
<span class="nb">print</span> <span class="s1">&#39;</span><span class="si">{}</span><span class="s1"> +/- </span><span class="si">{}</span><span class="s1"> inverse hours (prediction interval)&#39;</span><span class="o">.</span><span class="n">format</span><span class="p">(</span><span class="n">mean</span><span class="p">,</span> <span class="n">y</span><span class="p">)</span>

<span class="c1">#Or using what we learned in Unit 6</span>
<span class="n">y</span> <span class="o">=</span> <span class="mf">1.96</span> <span class="o">*</span> <span class="n">np</span><span class="o">.</span><span class="n">sqrt</span><span class="p">(</span><span class="n">np</span><span class="o">.</span><span class="n">var</span><span class="p">(</span><span class="mi">1</span> <span class="o">/</span> <span class="p">(</span><span class="mf">10.</span> <span class="o">-</span> <span class="n">short_temp</span><span class="p">)</span> <span class="o">*</span> <span class="n">central</span><span class="p">,</span> <span class="n">ddof</span><span class="o">=</span><span class="mi">1</span><span class="p">)</span> <span class="o">*</span> <span class="p">(</span><span class="nb">len</span><span class="p">(</span><span class="n">short_temp</span><span class="p">))</span> <span class="o">/</span>  <span class="p">(</span><span class="nb">len</span><span class="p">(</span><span class="n">short_temp</span><span class="p">)</span> <span class="o">-</span> <span class="mf">1.0</span><span class="p">))</span> <span class="o">/</span> <span class="n">np</span><span class="o">.</span><span class="n">sqrt</span><span class="p">(</span><span class="nb">len</span><span class="p">(</span><span class="n">central</span><span class="p">))</span>
<span class="nb">print</span> <span class="s1">&#39;</span><span class="si">{}</span><span class="s1"> +/- </span><span class="si">{}</span><span class="s1"> inverse hours (error confidence interval)&#39;</span><span class="o">.</span><span class="n">format</span><span class="p">(</span><span class="n">mean</span><span class="p">,</span> <span class="n">y</span><span class="p">)</span>
</pre></div>

</div>
</div>
</div>

<div class="output_wrapper">
<div class="output">


<div class="output_area">
<div class="prompt"></div>

<div class="output_subarea output_stream output_stdout output_text">
<pre>0.020752959144 +/- 0.0595342120216 inverse hours (prediction interval)
0.020752959144 +/- 0.00859302333417 inverse hours (error confidence interval)
</pre>
</div>
</div>

</div>
</div>

</div>
<div class="cell border-box-sizing text_cell rendered">
<div class="prompt input_prompt">
</div>
<div class="inner_cell">
<div class="text_cell_render border-box-sizing rendered_html">
<h4 id="4.5-Answer">4.5 Answer<a class="anchor-link" href="#4.5-Answer">&#182;</a></h4>
</div>
</div>
</div>
<div class="cell border-box-sizing text_cell rendered">
<div class="prompt input_prompt">
</div>
<div class="inner_cell">
<div class="text_cell_render border-box-sizing rendered_html">
$$\newcommand{\un}[1]{\textrm{#1}}$$$$\Delta Q = \left(220 \frac{\un{W}}{A}\right)\times(20.5\un{A})\times(75 \un{minutes}) \times \left(60 \frac{\un{s}}{\un{minutes}}\right)$$$$c_p = \frac{\Delta Q}{\Delta T}$$
</div>
</div>
</div>
<div class="cell border-box-sizing code_cell rendered">
<div class="input">
<div class="prompt input_prompt">In&nbsp;[57]:</div>
<div class="inner_cell">
    <div class="input_area">
<div class=" highlight hl-ipython3"><pre><span></span><span class="n">delta_Q</span> <span class="o">=</span> <span class="mi">220</span> <span class="o">*</span> <span class="mf">20.5</span> <span class="o">*</span> <span class="mi">75</span> <span class="o">*</span> <span class="mi">60</span>
<span class="n">delta_T</span> <span class="o">=</span> <span class="mi">68</span> <span class="o">-</span> <span class="n">temperature</span><span class="p">[</span><span class="o">-</span><span class="mi">1</span><span class="p">]</span>
<span class="n">cp</span> <span class="o">=</span> <span class="n">delta_Q</span> <span class="o">/</span> <span class="n">delta_T</span> <span class="o">/</span> <span class="mi">1000</span>
<span class="nb">print</span> <span class="s1">&#39;c_p = </span><span class="si">{}</span><span class="s1"> kJ / F&#39;</span><span class="o">.</span><span class="n">format</span><span class="p">(</span><span class="n">cp</span><span class="p">)</span>
</pre></div>

</div>
</div>
</div>

<div class="output_wrapper">
<div class="output">


<div class="output_area">
<div class="prompt"></div>

<div class="output_subarea output_stream output_stdout output_text">
<pre>c_p = 1420.33326568 kJ / F
</pre>
</div>
</div>

</div>
</div>

</div>
<div class="cell border-box-sizing text_cell rendered">
<div class="prompt input_prompt">
</div>
<div class="inner_cell">
<div class="text_cell_render border-box-sizing rendered_html">
<h4 id="4.5-Answer">4.5 Answer<a class="anchor-link" href="#4.5-Answer">&#182;</a></h4>$$\alpha = \frac{\alpha}{c_p}\times c_p$$
</div>
</div>
</div>
<div class="cell border-box-sizing code_cell rendered">
<div class="input">
<div class="prompt input_prompt">In&nbsp;[62]:</div>
<div class="inner_cell">
    <div class="input_area">
<div class=" highlight hl-ipython3"><pre><span></span><span class="n">alpha</span> <span class="o">=</span> <span class="n">mean</span> <span class="o">*</span> <span class="n">cp</span> <span class="o">/</span> <span class="mi">3600</span>
<span class="nb">print</span> <span class="s1">&#39;alpha = </span><span class="si">{}</span><span class="s1"> kW / F&#39;</span><span class="o">.</span><span class="n">format</span><span class="p">(</span><span class="n">alpha</span><span class="p">)</span>
</pre></div>

</div>
</div>
</div>

<div class="output_wrapper">
<div class="output">


<div class="output_area">
<div class="prompt"></div>

<div class="output_subarea output_stream output_stdout output_text">
<pre>alpha = 0.00818781062045 kW / F
</pre>
</div>
</div>

</div>
</div>

</div>
<div class="cell border-box-sizing text_cell rendered">
<div class="prompt input_prompt">
</div>
<div class="inner_cell">
<div class="text_cell_render border-box-sizing rendered_html">
<h4 id="5.1-Answer">5.1 Answer<a class="anchor-link" href="#5.1-Answer">&#182;</a></h4>$$15\sin\left(\frac{2\pi}{24}t\right) + 20$$
</div>
</div>
</div>
<div class="cell border-box-sizing text_cell rendered">
<div class="prompt input_prompt">
</div>
<div class="inner_cell">
<div class="text_cell_render border-box-sizing rendered_html">
<h4 id="5.2-Answer">5.2 Answer<a class="anchor-link" href="#5.2-Answer">&#182;</a></h4>$$\frac{dQ}{dt} = \alpha \left(15\sin\left(\frac{2\pi}{24}t\right) + 20 - 68\right)$$
</div>
</div>
</div>
<div class="cell border-box-sizing text_cell rendered">
<div class="prompt input_prompt">
</div>
<div class="inner_cell">
<div class="text_cell_render border-box-sizing rendered_html">
<h4 id="5.3-Answer">5.3 Answer<a class="anchor-link" href="#5.3-Answer">&#182;</a></h4>
</div>
</div>
</div>
<div class="cell border-box-sizing code_cell rendered">
<div class="input">
<div class="prompt input_prompt">In&nbsp;[74]:</div>
<div class="inner_cell">
    <div class="input_area">
<div class=" highlight hl-ipython3"><pre><span></span><span class="kn">from</span> <span class="nn">scipy.integrate</span> <span class="k">import</span> <span class="n">quad</span>
<span class="k">def</span> <span class="nf">outdoor</span><span class="p">(</span><span class="n">t</span><span class="p">):</span>
    <span class="k">return</span> <span class="n">alpha</span> <span class="o">*</span> <span class="p">(</span><span class="mi">15</span> <span class="o">*</span> <span class="n">np</span><span class="o">.</span><span class="n">sin</span><span class="p">(</span><span class="mi">2</span> <span class="o">*</span> <span class="n">pi</span> <span class="o">*</span> <span class="n">t</span> <span class="o">/</span> <span class="mi">24</span><span class="p">)</span> <span class="o">+</span> <span class="mi">20</span> <span class="o">-</span> <span class="mi">68</span><span class="p">)</span>
<span class="n">heat</span><span class="p">,</span> <span class="n">err</span> <span class="o">=</span> <span class="n">quad</span><span class="p">(</span><span class="n">outdoor</span><span class="p">,</span> <span class="mi">0</span><span class="p">,</span> <span class="mi">3</span> <span class="o">*</span> <span class="mi">30</span> <span class="o">*</span> <span class="mi">24</span><span class="p">)</span>
<span class="nb">print</span> <span class="s1">&#39;Heat used in kW hr: </span><span class="si">{}</span><span class="s1">&#39;</span><span class="o">.</span><span class="n">format</span><span class="p">(</span><span class="n">fabs</span><span class="p">(</span><span class="n">heat</span><span class="p">))</span>
</pre></div>

</div>
</div>
</div>

<div class="output_wrapper">
<div class="output">


<div class="output_area">
<div class="prompt"></div>

<div class="output_subarea output_stream output_stdout output_text">
<pre>Heat used in kW hr: 848.912205128
</pre>
</div>
</div>

</div>
</div>

</div>
<div class="cell border-box-sizing text_cell rendered">
<div class="prompt input_prompt">
</div>
<div class="inner_cell">
<div class="text_cell_render border-box-sizing rendered_html">
<h4 id="5.4-Answer">5.4 Answer<a class="anchor-link" href="#5.4-Answer">&#182;</a></h4>
</div>
</div>
</div>
<div class="cell border-box-sizing code_cell rendered">
<div class="input">
<div class="prompt input_prompt">In&nbsp;[75]:</div>
<div class="inner_cell">
    <div class="input_area">
<div class=" highlight hl-ipython3"><pre><span></span><span class="nb">print</span> <span class="s1">&#39;Total cost is $</span><span class="si">{:.2f}</span><span class="s1">&#39;</span><span class="o">.</span><span class="n">format</span><span class="p">(</span><span class="n">fabs</span><span class="p">(</span><span class="n">heat</span><span class="p">)</span> <span class="o">*</span> <span class="mf">0.15</span><span class="p">)</span>
</pre></div>

</div>
</div>
</div>

<div class="output_wrapper">
<div class="output">


<div class="output_area">
<div class="prompt"></div>

<div class="output_subarea output_stream output_stdout output_text">
<pre>Total cost is $127.34
</pre>
</div>
</div>

</div>
</div>

</div>
<div class="cell border-box-sizing text_cell rendered">
<div class="prompt input_prompt">
</div>
<div class="inner_cell">
<div class="text_cell_render border-box-sizing rendered_html">
<h4 id="5.5-Answer">5.5 Answer<a class="anchor-link" href="#5.5-Answer">&#182;</a></h4>
</div>
</div>
</div>
<div class="cell border-box-sizing code_cell rendered">
<div class="input">
<div class="prompt input_prompt">In&nbsp;[78]:</div>
<div class="inner_cell">
    <div class="input_area">
<div class=" highlight hl-ipython3"><pre><span></span><span class="k">def</span> <span class="nf">outdoor</span><span class="p">(</span><span class="n">t</span><span class="p">,</span> <span class="n">set_temp</span><span class="p">):</span>
    <span class="k">return</span> <span class="n">alpha</span> <span class="o">*</span> <span class="p">(</span><span class="mi">15</span> <span class="o">*</span> <span class="n">np</span><span class="o">.</span><span class="n">sin</span><span class="p">(</span><span class="mi">2</span> <span class="o">*</span> <span class="n">pi</span> <span class="o">*</span> <span class="n">t</span> <span class="o">/</span> <span class="mi">24</span><span class="p">)</span> <span class="o">+</span> <span class="mi">20</span> <span class="o">-</span> <span class="n">set_temp</span><span class="p">)</span>
<span class="k">def</span> <span class="nf">heating_bill</span><span class="p">(</span><span class="n">set_temp</span><span class="p">):</span>
    <span class="n">heat</span><span class="p">,</span> <span class="n">err</span> <span class="o">=</span> <span class="n">quad</span><span class="p">(</span><span class="k">lambda</span> <span class="n">x</span><span class="p">:</span> <span class="n">outdoor</span><span class="p">(</span><span class="n">x</span><span class="p">,</span> <span class="n">set_temp</span><span class="p">),</span> <span class="mi">0</span><span class="p">,</span> <span class="mi">3</span> <span class="o">*</span> <span class="mi">30</span> <span class="o">*</span> <span class="mi">24</span><span class="p">)</span>
    <span class="n">bill</span> <span class="o">=</span> <span class="n">fabs</span><span class="p">(</span><span class="n">heat</span><span class="p">)</span> <span class="o">*</span> <span class="mf">0.15</span>
    <span class="k">return</span> <span class="n">bill</span>
<span class="n">np_heating_bill</span> <span class="o">=</span> <span class="n">np</span><span class="o">.</span><span class="n">frompyfunc</span><span class="p">(</span><span class="n">heating_bill</span><span class="p">,</span> <span class="mi">1</span><span class="p">,</span> <span class="mi">1</span><span class="p">)</span>

<span class="n">t</span> <span class="o">=</span> <span class="n">np</span><span class="o">.</span><span class="n">linspace</span><span class="p">(</span><span class="mi">55</span><span class="p">,</span> <span class="mi">75</span><span class="p">,</span> <span class="mi">100</span><span class="p">)</span>
<span class="n">plt</span><span class="o">.</span><span class="n">plot</span><span class="p">(</span><span class="n">t</span><span class="p">,</span> <span class="n">np_heating_bill</span><span class="p">(</span><span class="n">t</span><span class="p">))</span>
<span class="n">plt</span><span class="o">.</span><span class="n">xlabel</span><span class="p">(</span><span class="s2">&quot;Set temperature [$^\circ</span><span class="si">{}</span><span class="s2">$F]&quot;</span><span class="p">)</span>
<span class="n">plt</span><span class="o">.</span><span class="n">ylabel</span><span class="p">(</span><span class="s2">&quot;Bill [$]&quot;</span><span class="p">)</span>
<span class="n">plt</span><span class="o">.</span><span class="n">title</span><span class="p">(</span><span class="s2">&quot;Heating Bill&quot;</span><span class="p">)</span>
<span class="n">plt</span><span class="o">.</span><span class="n">show</span><span class="p">()</span>
</pre></div>

</div>
</div>
</div>

<div class="output_wrapper">
<div class="output">


<div class="output_area">
<div class="prompt"></div>



<div class="output_png output_subarea ">
<img src="data:image/png;base64,iVBORw0KGgoAAAANSUhEUgAAAfgAAAFyCAYAAAAZA8jBAAAABHNCSVQICAgIfAhkiAAAAAlwSFlz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"
>
</div>

</div>

</div>
</div>

</div>
<div class="cell border-box-sizing text_cell rendered">
<div class="prompt input_prompt">
</div>
<div class="inner_cell">
<div class="text_cell_render border-box-sizing rendered_html">
<h1 id="Ignore-Below,-Used-to-generate-data">Ignore Below, Used to generate data<a class="anchor-link" href="#Ignore-Below,-Used-to-generate-data">&#182;</a></h1>
</div>
</div>
</div>
<div class="cell border-box-sizing code_cell rendered">
<div class="input">
<div class="prompt input_prompt">In&nbsp;[20]:</div>
<div class="inner_cell">
    <div class="input_area">
<div class=" highlight hl-ipython3"><pre><span></span><span class="n">tau</span> <span class="o">=</span> <span class="mi">48</span>
<span class="n">Tin</span> <span class="o">=</span> <span class="mi">68</span>
</pre></div>

</div>
</div>
</div>

</div>
<div class="cell border-box-sizing code_cell rendered">
<div class="input">
<div class="prompt input_prompt">In&nbsp;[21]:</div>
<div class="inner_cell">
    <div class="input_area">
<div class=" highlight hl-ipython3"><pre><span></span><span class="n">x</span> <span class="o">=</span> <span class="n">np</span><span class="o">.</span><span class="n">linspace</span><span class="p">(</span><span class="mi">0</span><span class="p">,</span><span class="mi">14</span><span class="p">,</span> <span class="mi">50</span><span class="p">)</span>
<span class="n">y</span> <span class="o">=</span> <span class="n">np</span><span class="o">.</span><span class="n">exp</span><span class="p">(</span><span class="o">-</span><span class="n">x</span> <span class="o">/</span> <span class="n">tau</span><span class="p">)</span> <span class="o">*</span> <span class="p">(</span><span class="mi">68</span> <span class="o">-</span> <span class="mi">10</span><span class="p">)</span>  <span class="o">+</span> <span class="mi">10</span> <span class="o">+</span> <span class="n">np</span><span class="o">.</span><span class="n">random</span><span class="o">.</span><span class="n">normal</span><span class="p">(</span><span class="mi">0</span><span class="p">,</span> <span class="n">np</span><span class="o">.</span><span class="n">sqrt</span><span class="p">((</span><span class="n">x</span> <span class="o">+</span> <span class="mf">0.01</span><span class="p">))</span> <span class="o">/</span> <span class="mi">5</span><span class="p">)</span>
<span class="n">plt</span><span class="o">.</span><span class="n">plot</span><span class="p">(</span><span class="n">x</span><span class="p">,</span><span class="n">y</span><span class="p">)</span>
<span class="n">x</span><span class="p">[</span><span class="n">np</span><span class="o">.</span><span class="n">argmin</span><span class="p">((</span><span class="n">y</span> <span class="o">-</span> <span class="mi">55</span><span class="p">)</span> <span class="o">**</span> <span class="mi">2</span><span class="p">)]</span>
</pre></div>

</div>
</div>
</div>

<div class="output_wrapper">
<div class="output">


<div class="output_area">
<div class="prompt output_prompt">Out[21]:</div>



<div class="output_text output_subarea output_execute_result">
<pre>12.857142857142856</pre>
</div>

</div>

<div class="output_area">
<div class="prompt"></div>



<div class="output_png output_subarea ">
<img src="data:image/png;base64,iVBORw0KGgoAAAANSUhEUgAAAeIAAAFVCAYAAAAzJuxuAAAABHNCSVQICAgIfAhkiAAAAAlwSFlz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"
>
</div>

</div>

</div>
</div>

</div>
<div class="cell border-box-sizing code_cell rendered">
<div class="input">
<div class="prompt input_prompt">In&nbsp;[22]:</div>
<div class="inner_cell">
    <div class="input_area">
<div class=" highlight hl-ipython3"><pre><span></span><span class="n">time</span> <span class="o">=</span> <span class="n">x</span>
<span class="n">temperature</span> <span class="o">=</span> <span class="n">y</span>
<span class="k">def</span> <span class="nf">print_list</span><span class="p">(</span><span class="n">name</span><span class="p">,</span> <span class="n">x</span><span class="p">):</span>
    <span class="nb">print</span> <span class="s2">&quot;</span><span class="si">{}</span><span class="s2"> = [</span><span class="si">{}</span><span class="s2">,&quot;</span><span class="o">.</span><span class="n">format</span><span class="p">(</span><span class="n">name</span><span class="p">,</span> <span class="n">x</span><span class="p">[</span><span class="mi">0</span><span class="p">]),</span>
    <span class="k">for</span> <span class="n">xi</span> <span class="ow">in</span> <span class="n">x</span><span class="p">[</span><span class="mi">1</span><span class="p">:</span><span class="o">-</span><span class="mi">1</span><span class="p">]:</span>
        <span class="nb">print</span> <span class="s2">&quot;</span><span class="si">{}</span><span class="s2">, &quot;</span><span class="o">.</span><span class="n">format</span><span class="p">(</span><span class="n">xi</span><span class="p">),</span>
    <span class="nb">print</span> <span class="s2">&quot;</span><span class="si">{}</span><span class="s2">]&quot;</span><span class="o">.</span><span class="n">format</span><span class="p">(</span><span class="n">x</span><span class="p">[</span><span class="o">-</span><span class="mi">1</span><span class="p">])</span>
    
<span class="n">print_list</span><span class="p">(</span><span class="s2">&quot;time&quot;</span><span class="p">,</span> <span class="n">np</span><span class="o">.</span><span class="n">round</span><span class="p">(</span><span class="n">time</span><span class="p">,</span> <span class="mi">4</span><span class="p">))</span>
<span class="n">print_list</span><span class="p">(</span><span class="s2">&quot;temperature&quot;</span><span class="p">,</span> <span class="n">np</span><span class="o">.</span><span class="n">round</span><span class="p">(</span><span class="n">temperature</span><span class="p">,</span> <span class="mi">4</span><span class="p">))</span>
</pre></div>

</div>
</div>
</div>

<div class="output_wrapper">
<div class="output">


<div class="output_area">
<div class="prompt"></div>

<div class="output_subarea output_stream output_stdout output_text">
<pre>time = [0.0, 0.2857,  0.5714,  0.8571,  1.1429,  1.4286,  1.7143,  2.0,  2.2857,  2.5714,  2.8571,  3.1429,  3.4286,  3.7143,  4.0,  4.2857,  4.5714,  4.8571,  5.1429,  5.4286,  5.7143,  6.0,  6.2857,  6.5714,  6.8571,  7.1429,  7.4286,  7.7143,  8.0,  8.2857,  8.5714,  8.8571,  9.1429,  9.4286,  9.7143,  10.0,  10.2857,  10.5714,  10.8571,  11.1429,  11.4286,  11.7143,  12.0,  12.2857,  12.5714,  12.8571,  13.1429,  13.4286,  13.7143,  14.0]
temperature = [67.9648, 67.8464,  67.3407,  66.8369,  66.6726,  66.6379,  65.5796,  65.7104,  65.0592,  65.1491,  64.441,  64.1338,  64.2971,  63.7665,  62.9169,  63.5678,  62.9763,  62.3357,  62.145,  61.539,  62.2606,  61.3375,  61.5609,  61.2888,  60.3975,  60.1215,  59.9755,  59.591,  60.152,  58.8496,  58.0253,  59.3931,  58.19,  57.3929,  57.5791,  56.3499,  55.7226,  57.0321,  55.135,  55.7471,  56.067,  55.5556,  54.382,  54.9344,  55.4923,  55.063,  53.5916,  53.5368,  53.142,  52.6364]
</pre>
</div>
</div>

</div>
</div>

</div>
<div class="cell border-box-sizing code_cell rendered">
<div class="input">
<div class="prompt input_prompt">In&nbsp;[22]:</div>
<div class="inner_cell">
    <div class="input_area">
<div class=" highlight hl-ipython3"><pre><span></span> 
</pre></div>

</div>
</div>
</div>

</div>
 


    </div>
  </div>

  </div>


  
    <footer class="footer hidden-print">
      <div class="container">
        <div class="col-md-4">
          <p>
            This website does not host notebooks, it only renders notebooks
            available on other websites.
          </p>
        </div>

        <div class="col-md-4">
          <p>
            Delivered by <a href="http://www.fastly.com/">Fastly</a>,
            Rendered by <a href="https://developer.rackspace.com/?nbviewer=awesome">Rackspace</a>
          </p>
          <p>
            nbviewer GitHub <a href="https://github.com/jupyter/nbviewer">repository</a>.
          </p>
        </div>

        <div class="col-md-4">
          
  
            
              <p>
                nbviewer version:
                <a href="https://github.com/jupyter/nbviewer/commit/4f5d1d8a2539c1c8dc92873d3a775d34f0a3d417">
                  4f5d1d8
                </a>
              </p>
            
          
  
  <p>
    nbconvert version: <a href="https://github.com/jupyter/nbconvert/releases/tag/5.1.1">
      5.1.1
    </a>
  </p>
  

          
  
  
  <p>
    Rendered
    <span class='date' data-date='Wed, 01 Mar 2017 18:11:35 UTC' title='Wed, 01 Mar 2017 18:11:35 UTC'>(Wed, 01 Mar 2017 18:11:35 UTC)</span>
  </p>
  

        </div>
      </div>
    </footer>
  

  <script src="https://unpkg.com/jupyter-js-widgets@2.0.*/dist/embed.js"></script>
  <script src="/static/components/bootstrap/js/bootstrap.min.js?v=5869c96cc8f19086aee625d670d741f9"></script>
  <script src="/static/components/headroom.js/dist/headroom.min.js?v=b0a311ea668f8e768ea375f4a7abb81c"></script>
  <script src="/static/components/headroom.js/dist/jQuery.headroom.min.js?v=f3a1bae118315d0c234afc74dc6aab71"></script>

  
  
  <script>
    $(function(){ $("#menubar").headroom({
      tolerance: 5,
      offset: 205,
      classes: {
        initial: "animated",
        pinned: "slideInDown",
        unpinned: "slideOutUp"
      }
    })});
  </script>


  
  <script>
    (function(i,s,o,g,r,a,m){i['GoogleAnalyticsObject']=r;i[r]=i[r]||function(){
      (i[r].q=i[r].q||[]).push(arguments)},i[r].l=1*new Date();a=s.createElement(o),
      m=s.getElementsByTagName(o)[0];a.async=1;a.src=g;m.parentNode.insertBefore(a,m)
    })(window,document,'script','https://www.google-analytics.com/analytics.js','ga');
    ga('create', 'UA-52617120-5', 'auto');
    ga('send', 'pageview');
  </script>
  
  <script>
    require({
        paths: {
          moment: "/static/components/moment/min/moment.min.js?v=89f87298ad94aa1e6b92f42eb66da043"
        }
      }, ["moment"], function(moment){
      var date = $("footer .date"),
        m = moment(new Date(date.data('date'))),
        update = function(){ date.text(m.fromNow()); };
      setInterval(update, 61*1000);
      update();
      var w = $(window).scroll(function(event){
        $("body").toggleClass("scrolled", w.scrollTop() > 0);
      });
    });
  </script>
  <!--NEW RELIC Stop Perf Measurement-->
  
  <!--NEW RELIC End-->
</body>
</html>