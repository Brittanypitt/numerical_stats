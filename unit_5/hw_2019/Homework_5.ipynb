{
 "cells": [
  {
   "cell_type": "markdown",
   "metadata": {},
   "source": [
    "Homework 5\n",
    "====\n",
    "#### CHE 116: Numerical Methods and Statistics\n",
    "\n",
    "2/15/2019\n",
    "\n",
    "----"
   ]
  },
  {
   "cell_type": "markdown",
   "metadata": {},
   "source": []
  },
  {
   "cell_type": "markdown",
   "metadata": {
    "collapsed": true
   },
   "source": [
    "1 Standard Probility Distributions (7 Points)\n",
    "====\n",
    "\n",
    "Choose below the probability distribution that best fits the described process. Choose only from Bernoulli, Geometric, Binomial, Poisson, Exponential, and Normal. 1 Points each. \n",
    "\n",
    "\n",
    "1. Whether or not it snows on a given day.\n",
    "2. How much snow accumulates in one day.\n",
    "3. How many times you plow snow within one week.\n",
    "4. Plowing the snow only once in a week.\n",
    "5. The time difference between snowstorms in Rochester in June.\n",
    "6. The number of time it snows in Washinton DC?\n",
    "7. How many road tests one takes before gets the driver's license. "
   ]
  },
  {
   "cell_type": "markdown",
   "metadata": {},
   "source": [
    "2 Plotting Probability Distributions (20 Points)\n",
    "===\n",
    "Plot the probablities using Python. Accurately label x and y axis. State which distribution the plot is decribing. Make distinction in the use of discrete or continuous variables in the plots. Use `for` loops to compute probabilities.\n",
    "\n",
    "\n",
    "\n",
    "1. [6 points] Probablity of a rain in a given day is 0.2. A month contains 31 days. We are interested in probabilities of the first rain happening in any of the day of the month. Plot the probabilities of raining on a given day for the first time for every day of the month. Which day has the highest probability?\n",
    "2. [8 points] The probability of rain is 0.3 in a given day. Plot the number days it will rain and their corresponding probilities in a given month of 31 days. Show the expected value of the distribution as a red vertical line in the plot.\n",
    "\n",
    "3. [6 points]Probability of death cancer is 5%. Compute the probability of any number of people dying from cancer in group of 100 people\n",
    "   \n"
   ]
  },
  {
   "cell_type": "markdown",
   "metadata": {},
   "source": [
    "3 Working with Probability Distributions (10 Points)\n",
    "====\n",
    "For the following problems, choose and state an appropriate distribution, write out its parameters based on the problem statement and then compute the requested quantity. Write the distribution information in Markdown/LaTeX and compute answers in Python. Use `for` loops for computing expected value and prediction intervals. Do not use `numpy` or the formulas given in lecture notes. Assume in all these examples that multiple trials are independent.\n",
    "\n",
    "\n",
    "1. [2 points] Let's assume total solar eclipse  happens in continental USA every 38 years. The Last total solar eclipse was in 2017 in USA. What is probability of total solar eclipse in continental USA in 2020? *Remember to read the instruction above!!*\n",
    "2. [2 points] Let's assume Lyft drivers pick up clients at probability of 3% at any given time. What is the probability of a Lyft driver taking only 10 people of out 400 clients. \n",
    "3. [2 points] You are teaching your son the alphabet, the probability of him saying the letter A correctly is 0.1. After 10 tries, what is probability he will say the letter A correctly once?  \n",
    "4. [2 points] In January, you applied to 50 jobs. The probability of getting an interview is 0.3 for in January. What is the probablity that you get 7 interviews that month? What is the expected value of this distribution?    \n",
    "\n",
    "5. [2 points] On average you run with probability of 0.4 per day. What is the the expected number of days on which you run?\n"
   ]
  },
  {
   "cell_type": "code",
   "execution_count": null,
   "metadata": {},
   "outputs": [],
   "source": []
  }
 ],
 "metadata": {
  "kernelspec": {
   "display_name": "Python 3",
   "language": "python",
   "name": "python3"
  },
  "language_info": {
   "codemirror_mode": {
    "name": "ipython",
    "version": 3
   },
   "file_extension": ".py",
   "mimetype": "text/x-python",
   "name": "python",
   "nbconvert_exporter": "python",
   "pygments_lexer": "ipython3",
   "version": "3.6.6"
  }
 },
 "nbformat": 4,
 "nbformat_minor": 2
}
