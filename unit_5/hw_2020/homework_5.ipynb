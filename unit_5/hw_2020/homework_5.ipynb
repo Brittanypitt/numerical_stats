{
 "cells": [
  {
   "cell_type": "markdown",
   "metadata": {},
   "source": [
    "# Homework 5\n",
    "#### CHE 116: Numerical Methods and Statistics\n",
    "\n",
    "\n",
    "*(2/13/2020)*\n",
    "\n",
    "----"
   ]
  },
  {
   "cell_type": "markdown",
   "metadata": {},
   "source": [
    "# 1. Probability Distribution Identification (7 Points)\n",
    "\n",
    "State what probability distribution best describes the following random numbers. 1 point each.\n",
    "\n",
    "1. The number of times you win in five boxing matches\n",
    "2. Number of days until you drop and break your phone. \n",
    "3. If the temperature is above or below freezing\n",
    "4. The value of the temperature outside\n",
    "5. The number of students who get 4.0 when graduating\n",
    "6. The number of minutes between emails\n",
    "7. The number of emails received in one minute"
   ]
  },
  {
   "cell_type": "markdown",
   "metadata": {},
   "source": [
    "# 2. Computing Outcome Probabilities (12 Points)\n",
    "\n",
    "For the following problems, choose and state an appropriate distribution, write out its parameters based on the problem statement and then compute the requested quantity. Write the distribution information in Markdown/LaTeX and compute answers in Python. Choose only from the distributions presented in lecture. 4 points each\n",
    "\n",
    "1. The probability of success for becoming a successful actor is 0.01. What is the probability of not becoming a successful actor?\n",
    "\n",
    "2. Five people are competing in an ultra marathon. The probability to complete the ultra marathon is 50%. What is the probability that 3 complete the ultra marathon?\n",
    "\n",
    "3. You are watching deer walk across a street. 10 deer take 5 minutes to cross the street. What is the probability of seeing a deer cross within the first minute?"
   ]
  },
  {
   "cell_type": "markdown",
   "metadata": {},
   "source": [
    "# 3 Plotting Probability Distributions (24 Points)\n",
    "\n",
    "Plot the probablities using Python. Accurately label x and y axis. State which distribution the plot is decribing. Make distinction in the use of discrete or continuous variables in the plots. Use `for` loops to compute probabilities. Choose reasonalbe axes limits that encapsulate 99% of probability. Do not use numpy. 8 points each.\n",
    "\n",
    "\n",
    "1. Each time you make a post on Twitter, there is an 80% chance you get a retweet. Plot the probability of number of tweets before you get one with a retweet. \n",
    "\n",
    "2. You are racing your 3 friends in Mario Kart. Due to your practice, you have a 45% chance of winning in a match. Plot the probability of number of wins if you and your friends race in 14 matches. \n",
    "\n",
    "3. Over the past two hundred hunger games, district 9 has won 3 times. Plot the probability for number of district 9 wins in the next **10 years**."
   ]
  },
  {
   "cell_type": "markdown",
   "metadata": {},
   "source": [
    "# 4 Working with Probability Distributions (18 Points)\n",
    "\n",
    "\n",
    "Compute answers in Python using `for` loops. Do not use `numpy`. Use only the distributions from lecture notes. 6 points each\n",
    "\n",
    "\n",
    "1. Five people are competing in an ultra marathon. The probability to complete the ultra marathon is 50%. What is the probability that more than 3 complete the ultra marathon?\n",
    "\n",
    "2. Each time you make a post on Twitter, there is an 80% chance you get a retweet. What is the probability that it takes more than 4 tweets before you get a retweet?\n",
    "\n",
    "3. Show that the equation for the binomial distribution is normalized (sums to 1) for $n = 5$, $p = 0.2$."
   ]
  }
 ],
 "metadata": {
  "kernelspec": {
   "display_name": "Python 3",
   "language": "python",
   "name": "python3"
  },
  "language_info": {
   "codemirror_mode": {
    "name": "ipython",
    "version": 3
   },
   "file_extension": ".py",
   "mimetype": "text/x-python",
   "name": "python",
   "nbconvert_exporter": "python",
   "pygments_lexer": "ipython3",
   "version": "3.7.3"
  }
 },
 "nbformat": 4,
 "nbformat_minor": 2
}
