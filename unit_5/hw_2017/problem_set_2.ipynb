{
 "cells": [
  {
   "cell_type": "markdown",
   "metadata": {
    "deletable": true,
    "editable": true,
    "nbgrader": {
     "grade": false,
     "grade_id": "1",
     "locked": true,
     "schema_version": 1,
     "solution": false
    }
   },
   "source": [
    "#### Answer the following questions using python"
   ]
  },
  {
   "cell_type": "markdown",
   "metadata": {
    "deletable": true,
    "editable": true,
    "nbgrader": {
     "grade": false,
     "grade_id": "2",
     "locked": true,
     "schema_version": 1,
     "solution": false
    }
   },
   "source": [
    "You are digging holes to find a treasure. Each hole contains the treasure according to probability 0.05. What is the probability of find the treasure after digging less than 25 holes? There is only one treasure. "
   ]
  },
  {
   "cell_type": "code",
   "execution_count": 4,
   "metadata": {
    "collapsed": false,
    "deletable": true,
    "editable": true,
    "nbgrader": {
     "grade": true,
     "grade_id": "3",
     "locked": false,
     "points": 6,
     "schema_version": 1,
     "solution": true
    }
   },
   "outputs": [
    {
     "name": "stdout",
     "output_type": "stream",
     "text": [
      "The probability of finding the treasure in between 1 and 24 holes is 70.80%\n"
     ]
    }
   ],
   "source": [
    "p = 0.05\n",
    "psum = 0\n",
    "for i in range(1,25):\n",
    "    psum += p * (1 - p)**(i - 1)\n",
    "print('The probability of finding the treasure in between 1 and 24 holes is {:.2%}'.format(psum))"
   ]
  },
  {
   "cell_type": "markdown",
   "metadata": {
    "deletable": true,
    "editable": true,
    "nbgrader": {
     "grade": false,
     "grade_id": "4",
     "locked": true,
     "schema_version": 1,
     "solution": false
    }
   },
   "source": [
    "Digging a hole takes 30 minutes. How much time will give at least a 99% probability of finding the treasure."
   ]
  },
  {
   "cell_type": "code",
   "execution_count": 10,
   "metadata": {
    "collapsed": false,
    "deletable": true,
    "editable": true,
    "nbgrader": {
     "grade": true,
     "grade_id": "5",
     "locked": false,
     "points": 6,
     "schema_version": 1,
     "solution": true
    }
   },
   "outputs": [
    {
     "name": "stdout",
     "output_type": "stream",
     "text": [
      "After 45.0 hours, there will be a 99.01% of finding the treasure\n"
     ]
    }
   ],
   "source": [
    "p = 0.05\n",
    "psum = 0\n",
    "for i in range(1,1000):\n",
    "    psum += p * (1 - p)**(i - 1)\n",
    "    if psum >= 0.99:\n",
    "        break\n",
    "time = 30 * i / 60\n",
    "print('After {:.1f} hours, there will be a {:.2%} of finding the treasure'.format(time, psum))"
   ]
  },
  {
   "cell_type": "markdown",
   "metadata": {
    "deletable": true,
    "editable": true,
    "nbgrader": {
     "grade": false,
     "grade_id": "6",
     "locked": true,
     "schema_version": 1,
     "solution": false
    }
   },
   "source": [
    "You manage a hotel and have free umbrellas ready for guests so they can lounge on the beach. Historically, an average of nine umbrellas are requested each day. You would like to have enough umbrellas such that there is only a one in one thousand probability of you running out of umbrellas. How many umbrellas do you require?"
   ]
  },
  {
   "cell_type": "code",
   "execution_count": 14,
   "metadata": {
    "collapsed": false,
    "deletable": true,
    "editable": true,
    "nbgrader": {
     "grade": true,
     "grade_id": "7",
     "locked": false,
     "points": 6,
     "schema_version": 1,
     "solution": true
    }
   },
   "outputs": [
    {
     "name": "stdout",
     "output_type": "stream",
     "text": [
      "20 umbrellas will be sufficient with 0.99956 probability.\n"
     ]
    }
   ],
   "source": [
    "from math import factorial, exp\n",
    "mu = 9\n",
    "psum = 0\n",
    "for i in range(100):\n",
    "    psum += exp(-mu) * mu**i / (factorial(i))\n",
    "    if psum > (1 - 1 / 1000):\n",
    "        break\n",
    "print('{} umbrellas will be sufficient with {:.5} probability.'.format(i, psum))"
   ]
  },
  {
   "cell_type": "markdown",
   "metadata": {
    "deletable": true,
    "editable": true,
    "nbgrader": {
     "grade": false,
     "grade_id": "8",
     "locked": true,
     "schema_version": 1,
     "solution": false
    }
   },
   "source": [
    "Siggi, my puppy, needs to urinate on average every 2 hours. If I leave him home for 6 hours, what is the probability that he will not urinate in the house?"
   ]
  },
  {
   "cell_type": "code",
   "execution_count": 17,
   "metadata": {
    "collapsed": false,
    "deletable": true,
    "editable": true,
    "nbgrader": {
     "grade": true,
     "grade_id": "9",
     "locked": false,
     "points": 4,
     "schema_version": 1,
     "solution": true
    }
   },
   "outputs": [
    {
     "name": "stdout",
     "output_type": "stream",
     "text": [
      "Using the previously derived equation, the probability is 0.0498 that he will not urinate in the house\n"
     ]
    }
   ],
   "source": [
    "p = 1 - exp(-6 / 2)\n",
    "\n",
    "print('Using the previously derived equation, the probability is {:.3} that he will not urinate in the house'.format(1 - p))"
   ]
  },
  {
   "cell_type": "markdown",
   "metadata": {
    "deletable": true,
    "editable": true,
    "nbgrader": {
     "grade": false,
     "grade_id": "0",
     "locked": true,
     "schema_version": 1,
     "solution": false
    }
   },
   "source": [
    "You are trying to find players for a chess tournament at UR. A given student at UR has a probability of $0.07$ of knowing how to play chess and wanting to participate in the tournament. If you ask 20 students, what is the expected number of participants you will have for your tournament?"
   ]
  },
  {
   "cell_type": "code",
   "execution_count": 41,
   "metadata": {
    "collapsed": false,
    "deletable": true,
    "editable": true,
    "nbgrader": {
     "grade": true,
     "grade_id": "11",
     "locked": false,
     "points": 2,
     "schema_version": 1,
     "solution": true
    }
   },
   "outputs": [
    {
     "name": "stdout",
     "output_type": "stream",
     "text": [
      "1.4000000000000001 students\n"
     ]
    }
   ],
   "source": [
    "print('{} students'.format(20 * 0.07))"
   ]
  },
  {
   "cell_type": "markdown",
   "metadata": {
    "deletable": true,
    "editable": true,
    "nbgrader": {
     "grade": false,
     "grade_id": "22",
     "locked": true,
     "schema_version": 1,
     "solution": false
    }
   },
   "source": [
    "What is the probability that after asking 20 students you will have 3 players for your tournament?"
   ]
  },
  {
   "cell_type": "code",
   "execution_count": 42,
   "metadata": {
    "collapsed": false,
    "deletable": true,
    "editable": true,
    "nbgrader": {
     "grade": true,
     "grade_id": "33",
     "locked": false,
     "points": 2,
     "schema_version": 1,
     "solution": true
    }
   },
   "outputs": [
    {
     "name": "stdout",
     "output_type": "stream",
     "text": [
      "The probability is 0.114\n"
     ]
    }
   ],
   "source": [
    "p = factorial(20) / (factorial(17) * factorial(3)) * 0.07**3 * (1 - 0.07)**17\n",
    "print('The probability is {:.3}'.format(p))"
   ]
  },
  {
   "cell_type": "markdown",
   "metadata": {
    "deletable": true,
    "editable": true,
    "nbgrader": {
     "grade": false,
     "grade_id": "44",
     "locked": true,
     "schema_version": 1,
     "solution": false
    }
   },
   "source": [
    "What is the probability that after asking 20 students you will have 3 or more players for your tournament?"
   ]
  },
  {
   "cell_type": "code",
   "execution_count": 43,
   "metadata": {
    "collapsed": false,
    "deletable": true,
    "editable": true,
    "nbgrader": {
     "grade": true,
     "grade_id": "55",
     "locked": false,
     "points": 6,
     "schema_version": 1,
     "solution": true
    }
   },
   "outputs": [
    {
     "name": "stdout",
     "output_type": "stream",
     "text": [
      "The probability is 0.161\n"
     ]
    }
   ],
   "source": [
    "p = 0.07\n",
    "N = 20\n",
    "psum = 0\n",
    "for i in range(3, N + 1):\n",
    "    psum += factorial(N) / (factorial(N - i) * factorial(i)) * p**i * (1 - p)**(N - i)\n",
    "print('The probability is {:.3}'.format(psum))"
   ]
  },
  {
   "cell_type": "markdown",
   "metadata": {
    "deletable": true,
    "editable": true,
    "nbgrader": {
     "grade": false,
     "grade_id": "66",
     "locked": true,
     "schema_version": 1,
     "solution": false
    }
   },
   "source": [
    "What is the most likely number of participants?"
   ]
  },
  {
   "cell_type": "code",
   "execution_count": 45,
   "metadata": {
    "collapsed": false,
    "deletable": true,
    "editable": true,
    "nbgrader": {
     "grade": true,
     "grade_id": "77",
     "locked": false,
     "points": 6,
     "schema_version": 1,
     "solution": true
    }
   },
   "outputs": [
    {
     "name": "stdout",
     "output_type": "stream",
     "text": [
      "The most likely value is 1 with probability 0.3526176592770194\n"
     ]
    }
   ],
   "source": [
    "import numpy as np\n",
    "from scipy.special import binom\n",
    "\n",
    "p = 0.07\n",
    "N = 20\n",
    "\n",
    "x = np.arange(0, N + 1)\n",
    "Px = binom(N, x) * p**x * (1 - p)**(N - x)\n",
    "\n",
    "i = np.argmax(Px)\n",
    "print('The most likely value is {} with probability {}'.format(x[i], Px[i]))"
   ]
  }
 ],
 "metadata": {
  "celltoolbar": "Create Assignment",
  "kernelspec": {
   "display_name": "Python 3",
   "language": "python",
   "name": "python3"
  },
  "language_info": {
   "codemirror_mode": {
    "name": "ipython",
    "version": 3
   },
   "file_extension": ".py",
   "mimetype": "text/x-python",
   "name": "python",
   "nbconvert_exporter": "python",
   "pygments_lexer": "ipython3",
   "version": "3.5.3"
  }
 },
 "nbformat": 4,
 "nbformat_minor": 2
}
