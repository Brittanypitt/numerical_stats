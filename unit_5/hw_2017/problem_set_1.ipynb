{
 "cells": [
  {
   "cell_type": "markdown",
   "metadata": {
    "deletable": true,
    "editable": true,
    "nbgrader": {
     "grade": false,
     "grade_id": "1",
     "locked": true,
     "schema_version": 1,
     "solution": false
    }
   },
   "source": [
    "#### Answer the following questions analytically in Markdown"
   ]
  },
  {
   "cell_type": "markdown",
   "metadata": {
    "deletable": true,
    "editable": true,
    "nbgrader": {
     "grade": false,
     "grade_id": "2",
     "locked": true,
     "schema_version": 1,
     "solution": false
    }
   },
   "source": [
    "Prove that the expectation value of the Bernoulli distribution is $p$"
   ]
  },
  {
   "cell_type": "markdown",
   "metadata": {
    "deletable": true,
    "editable": true,
    "nbgrader": {
     "grade": true,
     "grade_id": "3",
     "locked": false,
     "points": 2,
     "schema_version": 1,
     "solution": true
    }
   },
   "source": [
    "$$\n",
    "E[X] = P(X = 0) \\times 0 + P(X = 1)\\times 1 = 0 + p = p\n",
    "$$"
   ]
  },
  {
   "cell_type": "markdown",
   "metadata": {
    "deletable": true,
    "editable": true,
    "nbgrader": {
     "grade": false,
     "grade_id": "4",
     "locked": true,
     "schema_version": 1,
     "solution": false
    }
   },
   "source": [
    "Prove that the variance of the Bernoulli distribution is $p(1-p)$"
   ]
  },
  {
   "cell_type": "markdown",
   "metadata": {
    "deletable": true,
    "editable": true,
    "nbgrader": {
     "grade": true,
     "grade_id": "5",
     "locked": false,
     "points": 4,
     "schema_version": 1,
     "solution": true
    }
   },
   "source": [
    "$$\n",
    "\\textrm{Var}(X) = E[X^2] - E[X]^2\n",
    "$$\n",
    "\n",
    "$$\n",
    "E[X]^2 = p^2\n",
    "$$\n",
    "\n",
    "$$\n",
    "E[X^2] =  P(X = 0) \\times 0^2 + P(X = 1)\\times 1^2 = 0 + p = p\n",
    "$$\n",
    "\n",
    "$$\n",
    "\\textrm{Var}(X) = E[X^2] - E[X]^2 = p - p^2 = p(1 - p)\n",
    "$$"
   ]
  },
  {
   "cell_type": "markdown",
   "metadata": {
    "deletable": true,
    "editable": true,
    "nbgrader": {
     "grade": false,
     "grade_id": "6",
     "locked": true,
     "schema_version": 1,
     "solution": false
    }
   },
   "source": [
    "Prove that the Bernoulli distribution is normalized."
   ]
  },
  {
   "cell_type": "markdown",
   "metadata": {
    "deletable": true,
    "editable": true,
    "nbgrader": {
     "grade": true,
     "grade_id": "7",
     "locked": false,
     "points": 2,
     "schema_version": 1,
     "solution": true
    }
   },
   "source": [
    "$$\n",
    "P(X = 0) + P(X = 0) = p + (1 - p) = 1\n",
    "$$"
   ]
  },
  {
   "cell_type": "markdown",
   "metadata": {
    "deletable": true,
    "editable": true,
    "nbgrader": {
     "grade": false,
     "grade_id": "8",
     "locked": true,
     "schema_version": 1,
     "solution": false
    }
   },
   "source": [
    "Prove that the Poisson distribution is normalized. *Hint: remember your sums and series lessons from calculus*"
   ]
  },
  {
   "cell_type": "markdown",
   "metadata": {
    "deletable": true,
    "editable": true,
    "nbgrader": {
     "grade": true,
     "grade_id": "9",
     "locked": false,
     "points": 4,
     "schema_version": 1,
     "solution": true
    }
   },
   "source": [
    "$$\n",
    "P(N = n) = \\frac{e^{-\\mu}\\mu^n}{n!}\n",
    "$$\n",
    "\n",
    "$$\n",
    "\\sum_0^\\infty \\frac{e^{-\\mu}\\mu^n}{n!} = e^{-\\mu}\\sum_0^\\infty \\frac{\\mu^n}{n!} = e^{-\\mu} e^\\mu = 1\n",
    "$$\n",
    "where we have used the Taylor series expansion for the exponential function"
   ]
  },
  {
   "cell_type": "markdown",
   "metadata": {
    "deletable": true,
    "editable": true,
    "nbgrader": {
     "grade": false,
     "grade_id": "0",
     "locked": true,
     "schema_version": 1,
     "solution": false
    }
   },
   "source": [
    "Derive an analytical equation for $P(0 < t < T)$ for the exponential distribution. Your input to your function is $T$ and the output is $P(0 < t < T)$."
   ]
  },
  {
   "cell_type": "markdown",
   "metadata": {
    "deletable": true,
    "editable": true,
    "nbgrader": {
     "grade": true,
     "grade_id": "11",
     "locked": false,
     "points": 4,
     "schema_version": 1,
     "solution": true
    }
   },
   "source": [
    "$$\n",
    "P(0 < t < T) = \\int_0^T \\lambda e^{-\\lambda t} \\,dt = \\left. -e^{-\\lambda t}\\right]_0^T = 1 - e^{-\\lambda T}\n",
    "$$\n"
   ]
  }
 ],
 "metadata": {
  "celltoolbar": "Create Assignment",
  "kernelspec": {
   "display_name": "Python 3",
   "language": "python",
   "name": "python3"
  },
  "language_info": {
   "codemirror_mode": {
    "name": "ipython",
    "version": 3
   },
   "file_extension": ".py",
   "mimetype": "text/x-python",
   "name": "python",
   "nbconvert_exporter": "python",
   "pygments_lexer": "ipython3",
   "version": "3.5.3"
  }
 },
 "nbformat": 4,
 "nbformat_minor": 2
}
