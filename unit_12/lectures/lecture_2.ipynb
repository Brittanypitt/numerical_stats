{
 "cells": [
  {
   "cell_type": "markdown",
   "metadata": {
    "slideshow": {
     "slide_type": "slide"
    }
   },
   "source": [
    "Nonlinear Least Squares\n",
    "====\n",
    "\n",
    "## Unit 12, Lecture 2\n",
    "\n",
    "*Numerical Methods and Statistics*\n",
    "\n",
    "----\n",
    "\n",
    "#### Prof. Andrew White, April 17 2018"
   ]
  },
  {
   "cell_type": "markdown",
   "metadata": {},
   "source": [
    "Goals:\n",
    "---\n",
    "\n",
    "1. Be able to apply the same analysis from 1D/ND OLS to NLS\n",
    "2. Compute the F-matrix and understand its use in error analysis\n",
    "3. Distinguish between when linearized OLS is possible and NLS is required"
   ]
  },
  {
   "cell_type": "code",
   "execution_count": 1,
   "metadata": {
    "slideshow": {
     "slide_type": "skip"
    }
   },
   "outputs": [],
   "source": [
    "%matplotlib inline\n",
    "import random\n",
    "import numpy as np\n",
    "import matplotlib.pyplot as plt\n",
    "import scipy.stats\n",
    "import scipy.linalg as linalg\n",
    "import matplotlib"
   ]
  },
  {
   "cell_type": "markdown",
   "metadata": {
    "slideshow": {
     "slide_type": "slide"
    }
   },
   "source": [
    "Linearizing An Exponential\n",
    "---\n",
    "\n",
    "We previously learned how to linearize polynomials into OLS-ND. What about a more complex equation, like:\n",
    "\n",
    "$$y = \\beta_0 e^{-\\beta_1 x^2} + \\epsilon $$\n",
    "\n",
    "Well, you could of course just do this:\n",
    "\n",
    "$$\\ln y = \\ln\\beta_0 - \\beta_1 x^2 + \\epsilon $$\n",
    "\n",
    "and then choose our $x$ matrix to be $[1,-x^2]$\n",
    "\n",
    "What is wrong with this?"
   ]
  },
  {
   "cell_type": "markdown",
   "metadata": {
    "slideshow": {
     "slide_type": "subslide"
    }
   },
   "source": [
    "**We changed our assumption of noise!** To do the math I just above, it should have been that our original equation was:\n",
    "$$y = \\beta_0 e^{-\\beta_1 x^2}\\times e^{\\epsilon} $$ so that after taking the log, we ended up with that above. But that equation doesn't our assumption that we have normally distributed 0-centered noise."
   ]
  },
  {
   "cell_type": "markdown",
   "metadata": {
    "slideshow": {
     "slide_type": "slide"
    }
   },
   "source": [
    "Can we neglect our assumption of linear normal noise?\n",
    "==="
   ]
  },
  {
   "cell_type": "code",
   "execution_count": 2,
   "metadata": {
    "slideshow": {
     "slide_type": "subslide"
    }
   },
   "outputs": [
    {
     "data": {
      "image/png": "[encoded data removed]",
      "text/plain": [
       "<matplotlib.figure.Figure at 0x7fafba6a4828>"
      ]
     },
     "metadata": {},
     "output_type": "display_data"
    }
   ],
   "source": [
    "#NOT PART OF REGRESSION!\n",
    "#Make up an equation and create data from it\n",
    "x = np.linspace(0, 10, 20)\n",
    "y = 2 * np.exp(-x**2 * 0.1) + scipy.stats.norm.rvs(size=len(x), loc=0, scale=0.2)\n",
    "#END\n",
    "\n",
    "plt.plot(x,y, 'o', label='data')\n",
    "plt.plot(x, 2 * np.exp(-x**2 * 0.1), '-', label='exact solution')\n",
    "plt.legend(loc='upper right')\n",
    "plt.show()"
   ]
  },
  {
   "cell_type": "code",
   "execution_count": 3,
   "metadata": {
    "slideshow": {
     "slide_type": "subslide"
    }
   },
   "outputs": [
    {
     "name": "stdout",
     "output_type": "stream",
     "text": [
      "[-0.45476464  0.14558161]\n",
      "0.634597306917 2\n",
      "0.145581614711 0.1\n"
     ]
    }
   ],
   "source": [
    "#Now we compute the least squares solution\n",
    "\n",
    "x_mat = np.column_stack( (np.ones(len(x)), -x**2) )\n",
    "\n",
    "#Any negative y-values will not work, since log of a negative number is undefined\n",
    "y_clean = []\n",
    "for yi in y:\n",
    "    if yi < 0:\n",
    "        y_clean.append(0.0000001)\n",
    "    else:\n",
    "        y_clean.append(yi)\n",
    "\n",
    "lin_y = np.log(y_clean)\n",
    "\n",
    "#recall that the *_ means put all the other\n",
    "#return values into the _ variable, which we \n",
    "#don't need\n",
    "lin_beta, *_ = linalg.lstsq(x_mat, lin_y)\n",
    "print(lin_beta)\n",
    "beta_0 = np.exp(lin_beta[0])\n",
    "beta_1 = lin_beta[1]\n",
    "\n",
    "print(beta_0, 2)\n",
    "print(beta_1, 0.1)"
   ]
  },
  {
   "cell_type": "code",
   "execution_count": 4,
   "metadata": {
    "slideshow": {
     "slide_type": "subslide"
    }
   },
   "outputs": [
    {
     "data": {
      "image/png": "[encoded data removed]",
      "text/plain": [
       "<matplotlib.figure.Figure at 0x7fafb85be400>"
      ]
     },
     "metadata": {},
     "output_type": "display_data"
    }
   ],
   "source": [
    "plt.plot(x,y, 'o', label='data')\n",
    "plt.plot(x, 2 * np.exp(-x**2 * 0.1), '-', label='exact solution')\n",
    "plt.plot(x, beta_0 * np.exp(-x**2 * beta_1), '-', label='linearized least squares')\n",
    "plt.legend(loc='upper right')\n",
    "plt.show()"
   ]
  },
  {
   "cell_type": "markdown",
   "metadata": {
    "slideshow": {
     "slide_type": "subslide"
    }
   },
   "source": [
    "**NO, we cannot linearize and ignore the impact on noise**"
   ]
  },
  {
   "cell_type": "markdown",
   "metadata": {
    "slideshow": {
     "slide_type": "slide"
    }
   },
   "source": [
    "Checking if Linearization is Valid\n",
    "====\n",
    "\n",
    "The way to check if the linearization is valid is to see if the residuals are normally distributed. Since you are assuming the noise is normal after linearization, you can check that assumption:"
   ]
  },
  {
   "cell_type": "code",
   "execution_count": 5,
   "metadata": {
    "slideshow": {
     "slide_type": "fragment"
    }
   },
   "outputs": [
    {
     "data": {
      "text/plain": [
       "(0.8758969306945801, 0.014939770102500916)"
      ]
     },
     "execution_count": 5,
     "metadata": {},
     "output_type": "execute_result"
    }
   ],
   "source": [
    "resids = y - beta_0 * np.exp(-x**2 * beta_1)\n",
    "scipy.stats.shapiro(resids)"
   ]
  },
  {
   "cell_type": "markdown",
   "metadata": {
    "slideshow": {
     "slide_type": "subslide"
    }
   },
   "source": [
    "The Shapiro-Welk test says absolutely not are they normal, as we can imagine from looking at the graph."
   ]
  },
  {
   "cell_type": "markdown",
   "metadata": {
    "slideshow": {
     "slide_type": "slide"
    }
   },
   "source": [
    "Nonlinear Multidimensional Least-Squares\n",
    "===="
   ]
  },
  {
   "cell_type": "markdown",
   "metadata": {
    "slideshow": {
     "slide_type": "subslide"
    }
   },
   "source": [
    "To treat things like the exponential distribution from above, we need to use an objective function and minimization. We'll minimize the SSR directly:\n",
    "\n",
    "$$SSR = \\sum_i (\\hat{y}_i - y_i)^2 $$\n",
    "\n",
    "$$SSR = \\sum_i (\\beta_0 e^{-\\beta_1 x^2} - y_i)^2 $$\n",
    "\n",
    "So our SSR is a function which takes in $(\\beta_0, \\beta_1)$"
   ]
  },
  {
   "cell_type": "markdown",
   "metadata": {
    "slideshow": {
     "slide_type": "subslide"
    }
   },
   "source": [
    "We're going to use a new technique this time. Instead of relying on the data being defined, we'll have our SSR take that as extra arguments and we'll tell the minimizer about these extra args."
   ]
  },
  {
   "cell_type": "code",
   "execution_count": 6,
   "metadata": {
    "slideshow": {
     "slide_type": "subslide"
    }
   },
   "outputs": [
    {
     "name": "stdout",
     "output_type": "stream",
     "text": [
      "      fun: 0.4667897692648762\n",
      " hess_inv: array([[ 0.16249951,  0.00990674],\n",
      "       [ 0.00990674,  0.00222634]])\n",
      "      jac: array([ -3.46451998e-07,  -2.47359276e-06])\n",
      "  message: 'Optimization terminated successfully.'\n",
      "     nfev: 88\n",
      "      nit: 12\n",
      "     njev: 22\n",
      "   status: 0\n",
      "  success: True\n",
      "        x: array([ 1.93977826,  0.09949203])\n"
     ]
    }
   ],
   "source": [
    "#Create an objective function, that takes in 1 D-dimensional argument and outputs a measure of the goodness of fit (SSR)\n",
    "def obj(beta, x, y):\n",
    "    beta_0 = beta[0] #<- extract the elements of the beta vector\n",
    "    beta_1 = beta[1]\n",
    "    yhat = beta_0 * np.exp(-beta_1 * x**2) # <- This is our model equation\n",
    "    resids = yhat - y #<- compute residuals\n",
    "    SSR = np.sum(resids**2) #<- square and sum them\n",
    "    return SSR\n",
    "\n",
    "#Use the minimize (BGFS) function, with starting points\n",
    "result = scipy.optimize.minimize(obj, x0=[1,1], args=(x, y))\n",
    "beta_opt = result.x #<- remember, we get out a whole bunch of extra stuff from optimization\n",
    "print(result)"
   ]
  },
  {
   "cell_type": "code",
   "execution_count": 7,
   "metadata": {
    "slideshow": {
     "slide_type": "subslide"
    }
   },
   "outputs": [
    {
     "data": {
      "image/png": "[encoded data removed]",
      "text/plain": [
       "<matplotlib.figure.Figure at 0x7fafb85635c0>"
      ]
     },
     "metadata": {},
     "output_type": "display_data"
    }
   ],
   "source": [
    "plt.plot(x,y, 'o', label='data')\n",
    "plt.plot(x, 2 * np.exp(-x**2 * 0.1), '-', label='exact solution')\n",
    "plt.plot(x, beta_0 * np.exp(-x**2 * beta_1), '-', label='linearized least squares')\n",
    "plt.plot(x, beta_opt[0] * np.exp(-x**2 * beta_opt[1]), '-', label='Nonlinear least squares')\n",
    "plt.legend(loc='upper right')\n",
    "plt.show()"
   ]
  },
  {
   "cell_type": "markdown",
   "metadata": {
    "slideshow": {
     "slide_type": "subslide"
    }
   },
   "source": [
    "Error Analysis in Nonlinear Least Squares\n",
    "====\n",
    "\n",
    "Just like for the one-dimensional and multidimensional case, there exists an expression to go from standard error in the residuals to standard error for the fit. That expression is:\n",
    "\n",
    "$$y = f(\\beta, x) + \\epsilon$$\n",
    "\n",
    "$$ F_{ij} = \\frac{\\partial f(\\hat{\\beta}, x_i)}{\\partial \\hat{\\beta_j}}$$\n",
    "\n",
    "$$S^2_{\\beta_{ij}} = S^2_{\\epsilon}\\left(\\mathbf{F}^T\\mathbf{F}\\right)^{-1}$$\n",
    "\n",
    "where again, the standard error for the $i$th given fit parameter is $S^2_{\\beta{ii}}$"
   ]
  },
  {
   "cell_type": "markdown",
   "metadata": {
    "slideshow": {
     "slide_type": "fragment"
    }
   },
   "source": [
    "Take a close look at the partial derivatives. $x_i$ can be a vector here and remember that you're taking the partial with respect to the fit parameters, not $x$"
   ]
  },
  {
   "cell_type": "markdown",
   "metadata": {
    "slideshow": {
     "slide_type": "slide"
    }
   },
   "source": [
    "Sketch of Derivation of Error Terms\n",
    "====\n",
    "\n",
    "Let's try to understand this equation. It is a generalization of the OLS in N-D, so our derivation will apply to all cases we learned in lecture 1 too."
   ]
  },
  {
   "cell_type": "markdown",
   "metadata": {
    "slideshow": {
     "slide_type": "subslide"
    }
   },
   "source": [
    "Consider the $\\mathbf{F}^T\\mathbf{F}$ term. You can see by expanding the terms that it is\n",
    "\n",
    "$$\n",
    "\\mathbf{F}^T\\mathbf{F} = \\sum_k^N \\frac{\\partial f(\\hat{\\beta}, x_k)}{\\partial \\hat{\\beta_i}} \\frac{\\partial f(\\hat{\\beta}, x_k)}{\\partial \\hat{\\beta_j}}\n",
    "$$"
   ]
  },
  {
   "cell_type": "markdown",
   "metadata": {
    "slideshow": {
     "slide_type": "fragment"
    }
   },
   "source": [
    "where $i$ is the row and $j$ is the index. This expression is approximately:\n",
    "\n",
    "$$\n",
    "\\mathbf{F}^T\\mathbf{F} \\approx \\frac{\\sum_k^N \n",
    "\\left(\\Delta f(\\hat{\\beta}, x_k)\\right)^2}{\\Delta\\hat{\\beta_i} \\Delta \\hat{\\beta_j}}\n",
    "$$"
   ]
  },
  {
   "cell_type": "markdown",
   "metadata": {
    "slideshow": {
     "slide_type": "subslide"
    }
   },
   "source": [
    "So the *diagonal* of $\\mathbf{F}^T\\mathbf{F}$ is the total change in the value of the squared function per change in the square of the value of a fit coefficient.\n",
    "\n",
    "$$\n",
    "\\mathrm{diag}\\left[\\mathbf{F}^T\\mathbf{F}\\right] \\approx \\frac{\\sum_k^N \n",
    "\\left(\\Delta f(\\hat{\\beta}, x_k)\\right)^2}{\\Delta\\hat{\\beta_i}^2}\n",
    "$$"
   ]
  },
  {
   "cell_type": "markdown",
   "metadata": {
    "slideshow": {
     "slide_type": "fragment"
    }
   },
   "source": [
    "We can loosely think of $\\mathbf{F}^T\\mathbf{F}$ as a function, or operator, that goes from a change in the fit coefficients squared to a change in the squared value of the function. \n",
    "\n",
    "We also know that our residual, $f(\\hat{\\beta}, x) - y$, has the same derivative wrt the fit coefficients as the function itself. Thus $\\mathbf{F}^T\\mathbf{F}$ allows us to compute a change in the residual given a change in the fit coefficients (*this is a simplification*)."
   ]
  },
  {
   "cell_type": "markdown",
   "metadata": {
    "slideshow": {
     "slide_type": "subslide"
    }
   },
   "source": [
    "Therefore the inverse, $\\left(\\mathbf{F}^T\\mathbf{F}\\right)^{-1}$, goes from a change in the residual squared to a change in the fit coefficients squared."
   ]
  },
  {
   "cell_type": "markdown",
   "metadata": {
    "slideshow": {
     "slide_type": "fragment"
    }
   },
   "source": [
    "Now we can see that:\n",
    "    \n",
    "$$ S^2_{\\epsilon}\\left(\\mathbf{F}^T\\mathbf{F}\\right)^{-1} $$\n",
    "\n",
    "is the product of a change in the residual squared with our operator that translate that into a squared change in the fit coefficient squared. "
   ]
  },
  {
   "cell_type": "markdown",
   "metadata": {
    "slideshow": {
     "slide_type": "subslide"
    }
   },
   "source": [
    "Example: Error Analysis for Exponential Fit in Nonlinear Least Squares\n",
    "----\n",
    "\n",
    "To do the analysis from our example above, we must first compute the partial derivatives. Recall the model is:\n",
    "\n",
    "$$y = \\beta_0 e^{-\\beta_1 x^2} + \\epsilon $$\n",
    "\n",
    "So that \n",
    "\n",
    "$$f(\\beta, x) = \\beta_0 e^{-\\beta_1 x^2}$$\n",
    "\n",
    "$$\\frac{\\partial f}{\\partial \\beta_0} = e^{-\\beta_1 x^2}$$\n",
    "$$\\frac{\\partial f}{\\partial \\beta_1} = -\\beta_0 x^2 e^{-\\beta_1 x^2}$$\n",
    "\n",
    "To compute $\\mathbf{F}$, we'll need to compute these functions at various points, so it's best to create a python function"
   ]
  },
  {
   "cell_type": "code",
   "execution_count": 8,
   "metadata": {
    "slideshow": {
     "slide_type": "subslide"
    }
   },
   "outputs": [
    {
     "name": "stdout",
     "output_type": "stream",
     "text": [
      "[[  1.00000000e+00   0.00000000e+00]\n",
      " [  9.72816195e-01   5.22727896e-01]\n",
      " [  8.95618732e-01   1.92498808e+00]\n",
      " [  7.80327889e-01   3.77367525e+00]\n",
      " [  6.43417210e-01   5.53168627e+00]\n",
      " [  5.02076393e-01   6.74457667e+00]\n",
      " [  3.70773354e-01   7.17225796e+00]\n",
      " [  2.59124700e-01   6.82259792e+00]\n",
      " [  1.71384165e-01   5.89380215e+00]\n",
      " [  1.07273922e-01   4.66900203e+00]\n",
      " [  6.35446817e-02   3.41447623e+00]\n",
      " [  3.56226187e-02   2.31609356e+00]\n",
      " [  1.88987927e-02   1.46231669e+00]\n",
      " [  9.48863766e-03   8.61659048e-01]\n",
      " [  4.50853296e-03   4.74827874e-01]\n",
      " [  2.02734761e-03   2.45106948e-01]\n",
      " [  8.62745642e-04   1.18677291e-01]\n",
      " [  3.47455278e-04   5.39562355e-02]\n",
      " [  1.32427029e-04   2.30550746e-02]\n",
      " [  4.77656777e-05   9.26548230e-03]]\n"
     ]
    }
   ],
   "source": [
    "def build_F(beta, x):\n",
    "    #Compute the individual partials for each data point\n",
    "    beta_0_vec = np.exp(-beta[1] * x**2)\n",
    "    beta_1_vec = beta[0] * x**2 * np.exp(-beta[1] * x**2)\n",
    "    #Now stack them together\n",
    "    return np.column_stack( (beta_0_vec, beta_1_vec) )\n",
    "\n",
    "print(build_F(beta_opt, x))"
   ]
  },
  {
   "cell_type": "markdown",
   "metadata": {
    "slideshow": {
     "slide_type": "subslide"
    }
   },
   "source": [
    "Now to actually compute the standard error:"
   ]
  },
  {
   "cell_type": "code",
   "execution_count": 9,
   "metadata": {
    "slideshow": {
     "slide_type": "fragment"
    }
   },
   "outputs": [
    {
     "name": "stdout",
     "output_type": "stream",
     "text": [
      "0.0259327649592\n"
     ]
    }
   ],
   "source": [
    "#The code below is our normal way of computing the standard error in the noise\n",
    "resids = y - beta_opt[0] * np.exp(-x**2 * beta_opt[1])\n",
    "SSR = np.sum(resids**2)\n",
    "s2_epsilon = SSR / (len(x) - len(beta_opt))\n",
    "print(s2_epsilon)"
   ]
  },
  {
   "cell_type": "code",
   "execution_count": 10,
   "metadata": {
    "slideshow": {
     "slide_type": "subslide"
    }
   },
   "outputs": [
    {
     "name": "stdout",
     "output_type": "stream",
     "text": [
      "[[ 0.00859695 -0.00058792]\n",
      " [-0.00058792  0.0001366 ]]\n"
     ]
    }
   ],
   "source": [
    "#Using our F, compute the standard error in beta\n",
    "F = build_F(beta_opt, x)\n",
    "\n",
    "s2_beta = s2_epsilon * linalg.inv(F.transpose().dot(F))\n",
    "print(s2_beta)"
   ]
  },
  {
   "cell_type": "code",
   "execution_count": 11,
   "metadata": {
    "slideshow": {
     "slide_type": "subslide"
    }
   },
   "outputs": [
    {
     "name": "stdout",
     "output_type": "stream",
     "text": [
      "95% confidence interval for beta_0 is 1.9397782572775968 +/ 0.19479696590118417\n",
      "95% confidence interval for beta_1 is 0.09949203216805058 +/ 0.024554379932182655\n"
     ]
    }
   ],
   "source": [
    "#We have standard error and can now compute a confidence interval\n",
    "T = scipy.stats.t.ppf(0.975, len(x) - len(beta_opt))\n",
    "c0_width = T * np.sqrt(s2_beta[0,0])\n",
    "print('95% confidence interval for beta_0 is {} +/ {}'.format(beta_opt[0], c0_width))\n",
    "\n",
    "c1_width = T * np.sqrt(s2_beta[1,1])\n",
    "print('95% confidence interval for beta_1 is {} +/ {}'.format(beta_opt[1], c1_width))"
   ]
  },
  {
   "cell_type": "markdown",
   "metadata": {
    "slideshow": {
     "slide_type": "subslide"
    }
   },
   "source": [
    "Of course, we could continue on and do hypothesis tests"
   ]
  },
  {
   "cell_type": "markdown",
   "metadata": {},
   "source": [
    "Multidimesional Non-Linear Regression\n",
    "====\n",
    "\n",
    "When we have multiple dimensions in $y$, the dependent variable, a few things need to change. Our model equation becomes:\n",
    "\n",
    "$$\n",
    "\\vec{y} = f(x, \\beta) + \\vec{\\epsilon}\n",
    "$$\n",
    "\n",
    "where the noise is now a multivariate normal distribution. Multivariate normals are like multiple normal distributions, except that they have both different parameters for each dimension and they also may have correlation between dimensions. We will assume here that there is no correlation between the noise. \n",
    "\n",
    "Here I derive the $F$-matrix from above using its actual derivation. These are my notes.\n",
    "\n",
    "$$\n",
    "\\mathcal{l} = \\sum_k -(y_k - \\hat{y})_k^2) / 2\\sigma_k^2 - \\log \\sqrt{2\\pi\\sigma_k^2}\n",
    "$$\n",
    "\n",
    "The best estimaet for $\\sigma_k^2$ is\n",
    "\n",
    "$$\n",
    "\\sigma_k^2 = \\frac{1}{N - D}\\sum_k (y_k - \\hat{y})_k^2\n",
    "$$\n",
    "\n",
    "First, we need to redefine the SSR to be:\n",
    "\n",
    "$$\n",
    "\\textrm{SSR} = \\sum_i (y_i - \\hat{y}_i)\\cdot (y_i- \\hat{y}_i)\n",
    "$$\n",
    "\n",
    "This quantity should be minimized to find the regression parameters [ref](https://ieeexplore.ieee.org/stamp/stamp.jsp?tp=&arnumber=4285368)"
   ]
  },
  {
   "cell_type": "markdown",
   "metadata": {},
   "source": [
    "The error analysis becomes:\n",
    "$$\n",
    "S^2_e = \\frac{SSR}{N - D}\n",
    "$$\n",
    "\n",
    "$$\n",
    "\\mathcal{I} = E[\\frac{\\partial^2}{\\partial \\beta_i \\partial \\beta_j} SSR \n",
    "$$"
   ]
  },
  {
   "cell_type": "markdown",
   "metadata": {
    "slideshow": {
     "slide_type": "slide"
    }
   },
   "source": [
    "A Complete & Complex Example - Deconvolution of Spectrum\n",
    "==="
   ]
  },
  {
   "cell_type": "markdown",
   "metadata": {
    "slideshow": {
     "slide_type": "subslide"
    }
   },
   "source": [
    "In spectroscopy and chromatography, often we have a spectrum that is a mixture of peaks and we'd like to spearate them out. For example, here's a plot of a spectrum"
   ]
  },
  {
   "cell_type": "code",
   "execution_count": 12,
   "metadata": {
    "slideshow": {
     "slide_type": "subslide"
    }
   },
   "outputs": [
    {
     "data": {
      "image/png": "[encoded data removed]",
      "text/plain": [
       "<matplotlib.figure.Figure at 0x7fafb8596c50>"
      ]
     },
     "metadata": {},
     "output_type": "display_data"
    }
   ],
   "source": [
    "data = np.genfromtxt('spectrum.txt')\n",
    "\n",
    "plt.plot(data[:,0], data[:,1])\n",
    "plt.show()"
   ]
  },
  {
   "cell_type": "markdown",
   "metadata": {
    "slideshow": {
     "slide_type": "subslide"
    }
   },
   "source": [
    "You can see that there are probably 3 peaks in here. What we'd like to find out is what percentage each peak contributes. For example, this would tell us the amount of absorbance contributed by each of these three bonds or perhaps the amount of each compound in chromatography. "
   ]
  },
  {
   "cell_type": "markdown",
   "metadata": {
    "slideshow": {
     "slide_type": "subslide"
    }
   },
   "source": [
    "The equation for each peak is:\n",
    "\n",
    "$$ f(x, a, b, c) = \\frac{a}{\\sqrt{2 c \\pi}}\\,e^{-(x - b)^2 / c} $$\n",
    "\n",
    "and the total spectrum is \n",
    "\n",
    "$$ f(x_i, \\vec{a}, \\vec{b}, \\vec{c}) = \\sum_j^M \\frac{a_j}{\\sqrt{2 \\pi c_j}} e^{-(x_i - b_j)^2 / c_j} $$\n",
    "\n",
    "where $j$ is the index of peak and runs from $1$ to $M$ where $M$ is the number of peaks."
   ]
  },
  {
   "cell_type": "markdown",
   "metadata": {
    "slideshow": {
     "slide_type": "subslide"
    }
   },
   "source": [
    "Let's start by writing an equation that can predict a spectrum given some parameters"
   ]
  },
  {
   "cell_type": "code",
   "execution_count": 13,
   "metadata": {
    "slideshow": {
     "slide_type": "subslide"
    }
   },
   "outputs": [],
   "source": [
    "def peak(x, a, b, c):\n",
    "    '''computes the peak equation for given parameters'''\n",
    "    return a / np.sqrt(2 * np.pi * c) * np.exp(-(x - b)**2 / c)\n",
    "def spectrum(x, a_array, b_array, c_array):\n",
    "    '''Takes in the x data and parameters for a set of peaks. Computes spectrum'''\n",
    "    yhat = np.zeros(np.shape(x))\n",
    "    for i in range(len(a_array)):\n",
    "        yhat += peak(x, a_array[i], b_array[i], c_array[i])\n",
    "    return yhat\n",
    "        "
   ]
  },
  {
   "cell_type": "markdown",
   "metadata": {
    "slideshow": {
     "slide_type": "subslide"
    }
   },
   "source": [
    "It's always good to test your functions, so let's do that"
   ]
  },
  {
   "cell_type": "code",
   "execution_count": 14,
   "metadata": {
    "slideshow": {
     "slide_type": "fragment"
    }
   },
   "outputs": [
    {
     "data": {
      "image/png": "[encoded data removed]",
      "text/plain": [
       "<matplotlib.figure.Figure at 0x7fafb83990f0>"
      ]
     },
     "metadata": {},
     "output_type": "display_data"
    }
   ],
   "source": [
    "x = np.linspace(0, 10, 100)\n",
    "y = peak(x, 1, 5, 1)\n",
    "plt.plot(x,y)\n",
    "plt.show()"
   ]
  },
  {
   "cell_type": "code",
   "execution_count": 15,
   "metadata": {
    "slideshow": {
     "slide_type": "subslide"
    }
   },
   "outputs": [
    {
     "data": {
      "image/png": "[encoded data removed]",
      "text/plain": [
       "<matplotlib.figure.Figure at 0x7fafb8434860>"
      ]
     },
     "metadata": {},
     "output_type": "display_data"
    }
   ],
   "source": [
    "y = spectrum(x, [1, 2], [3, 5], [1,1])\n",
    "plt.plot(x,y)\n",
    "plt.show()"
   ]
  },
  {
   "cell_type": "markdown",
   "metadata": {
    "slideshow": {
     "slide_type": "subslide"
    }
   },
   "source": [
    "Ok! Now let's do the regression"
   ]
  },
  {
   "cell_type": "markdown",
   "metadata": {
    "slideshow": {
     "slide_type": "slide"
    }
   },
   "source": [
    "Justifying a regression\n",
    "---\n",
    "\n",
    "Let's first test if there is a correlation"
   ]
  },
  {
   "cell_type": "code",
   "execution_count": 16,
   "metadata": {
    "slideshow": {
     "slide_type": "fragment"
    }
   },
   "outputs": [
    {
     "data": {
      "text/plain": [
       "SpearmanrResult(correlation=0.34909264909264914, pvalue=4.933615809540912e-30)"
      ]
     },
     "execution_count": 16,
     "metadata": {},
     "output_type": "execute_result"
    }
   ],
   "source": [
    "spec_x = data[:,0]\n",
    "spec_y = data[:,1]\n",
    "\n",
    "scipy.stats.spearmanr(spec_x, spec_y)"
   ]
  },
  {
   "cell_type": "markdown",
   "metadata": {
    "slideshow": {
     "slide_type": "subslide"
    }
   },
   "source": [
    "Looks like there is a correlation, as indicated by the $p$-value. "
   ]
  },
  {
   "cell_type": "markdown",
   "metadata": {
    "slideshow": {
     "slide_type": "subslide"
    }
   },
   "source": [
    "Computing the SSR\n",
    "---\n",
    "\n",
    "Let's write our SSR function"
   ]
  },
  {
   "cell_type": "code",
   "execution_count": 17,
   "metadata": {
    "slideshow": {
     "slide_type": "subslide"
    }
   },
   "outputs": [],
   "source": [
    "def spec_ssr(params, data, M):\n",
    "    '''Compute SSR given the parameters, data, and number of desired peaks.'''\n",
    "    x = data[:,0]\n",
    "    y = data[:,1]\n",
    "    a_array = params[:M]\n",
    "    b_array = params[M:2*M]\n",
    "    c_array = params[2*M:3 * M]\n",
    "    yhat = spectrum(x, a_array, b_array, c_array)\n",
    "    return np.sum((yhat - y)**2)"
   ]
  },
  {
   "cell_type": "code",
   "execution_count": 18,
   "metadata": {
    "slideshow": {
     "slide_type": "subslide"
    }
   },
   "outputs": [],
   "source": [
    "def obj(params):\n",
    "    return spec_ssr(params, data=data, M=3)"
   ]
  },
  {
   "cell_type": "markdown",
   "metadata": {
    "slideshow": {
     "slide_type": "slide"
    }
   },
   "source": [
    "Optimizing\n",
    "---"
   ]
  },
  {
   "cell_type": "markdown",
   "metadata": {
    "slideshow": {
     "slide_type": "subslide"
    }
   },
   "source": [
    "Now we need to think aobut if this is non-convex! It is in fact non-convex, because there are many local minimums. This means we'll have to be smart about our starting parameters and/or run for many interations"
   ]
  },
  {
   "cell_type": "code",
   "execution_count": 19,
   "metadata": {
    "slideshow": {
     "slide_type": "subslide"
    }
   },
   "outputs": [
    {
     "name": "stderr",
     "output_type": "stream",
     "text": [
      "/opt/conda/lib/python3.6/site-packages/scipy/optimize/optimize.py:964: RuntimeWarning: divide by zero encountered in double_scalars\n",
      "  rhok = 1.0 / (numpy.dot(yk, sk))\n",
      "/opt/conda/lib/python3.6/site-packages/scipy/optimize/optimize.py:964: RuntimeWarning: divide by zero encountered in double_scalars\n",
      "  rhok = 1.0 / (numpy.dot(yk, sk))\n"
     ]
    },
    {
     "name": "stdout",
     "output_type": "stream",
     "text": [
      "[  515.00769763  2001.23133404   182.37000527   644.33899431   651.35194791\n",
      "   218.04629843    58.43057196   961.08494658   129.83415624]\n"
     ]
    }
   ],
   "source": [
    "import scipy.optimize as opt\n",
    "\n",
    "result = opt.basinhopping(obj, x0=[100, 100, 100, 600, 650, 700, 100, 100, 100], niter=100)\n",
    "print(result.x)"
   ]
  },
  {
   "cell_type": "markdown",
   "metadata": {
    "slideshow": {
     "slide_type": "subslide"
    }
   },
   "source": [
    "Let's see if 100 iterations gave us good data!"
   ]
  },
  {
   "cell_type": "code",
   "execution_count": 20,
   "metadata": {
    "slideshow": {
     "slide_type": "subslide"
    }
   },
   "outputs": [],
   "source": [
    "def spec_yhat(params, data, M):\n",
    "    '''compute the yhats for the spectrum problem'''\n",
    "    x = data[:,0]\n",
    "    a_array = params[:M]\n",
    "    b_array = params[M:2*M]\n",
    "    c_array = params[2*M:3 * M]\n",
    "    return spectrum(x, a_array, b_array, c_array)\n"
   ]
  },
  {
   "cell_type": "code",
   "execution_count": 21,
   "metadata": {
    "slideshow": {
     "slide_type": "subslide"
    }
   },
   "outputs": [
    {
     "data": {
      "image/png": "[encoded data removed]",
      "text/plain": [
       "<matplotlib.figure.Figure at 0x7fafb84a03c8>"
      ]
     },
     "metadata": {},
     "output_type": "display_data"
    }
   ],
   "source": [
    "plt.plot(spec_x, spec_y, label='data')\n",
    "plt.plot(spec_x, spec_yhat(result.x, data, 3), label='fit')\n",
    "plt.legend()\n",
    "plt.show()"
   ]
  },
  {
   "cell_type": "markdown",
   "metadata": {
    "slideshow": {
     "slide_type": "subslide"
    }
   },
   "source": [
    "What a bad fit! Let's try plotting the individual peaks"
   ]
  },
  {
   "cell_type": "code",
   "execution_count": 22,
   "metadata": {
    "slideshow": {
     "slide_type": "subslide"
    }
   },
   "outputs": [
    {
     "data": {
      "image/png": "[encoded data removed]",
      "text/plain": [
       "<matplotlib.figure.Figure at 0x7fafb861cbe0>"
      ]
     },
     "metadata": {},
     "output_type": "display_data"
    }
   ],
   "source": [
    "for i in range(3):\n",
    "    plt.plot(spec_x, peak(spec_x, result.x[i], result.x[i + 3], result.x[i + 6]))"
   ]
  },
  {
   "cell_type": "markdown",
   "metadata": {
    "slideshow": {
     "slide_type": "slide"
    }
   },
   "source": [
    "Wow, that is really wrong! We can hit on particular peaks, but they usually have no meaning. Let's try to add more info. What info do we have? The peak centers. Let's try adding some constraints describing this info:"
   ]
  },
  {
   "cell_type": "markdown",
   "metadata": {
    "slideshow": {
     "slide_type": "subslide"
    }
   },
   "source": [
    "Adding constraints describing what we know:\n",
    "\n",
    "$$ 600 < b_1 < 630 $$\n",
    "\n",
    "$$ 630 < b_2 < 650 $$\n",
    "\n",
    "$$ 650 < b_3 < 690 $$\n"
   ]
  },
  {
   "cell_type": "code",
   "execution_count": 23,
   "metadata": {
    "slideshow": {
     "slide_type": "subslide"
    }
   },
   "outputs": [],
   "source": [
    "#constraints follow the order above:\n",
    "\n",
    "constraints = [{'type': 'ineq', 'fun': lambda params: params[3] - 600},\n",
    "              {'type': 'ineq', 'fun': lambda params: 630 - params[3]},\n",
    "              {'type': 'ineq', 'fun': lambda params: params[4] - 630},\n",
    "              {'type': 'ineq', 'fun': lambda params: 650 - params[4]},\n",
    "              {'type': 'ineq', 'fun': lambda params: params[5] - 650},\n",
    "              {'type': 'ineq', 'fun': lambda params: 690 - params[5]}]\n",
    "minimizer_kwargs = {'constraints': constraints}\n"
   ]
  },
  {
   "cell_type": "code",
   "execution_count": 24,
   "metadata": {
    "slideshow": {
     "slide_type": "fragment"
    }
   },
   "outputs": [
    {
     "name": "stderr",
     "output_type": "stream",
     "text": [
      "/opt/conda/lib/python3.6/site-packages/ipykernel_launcher.py:3: RuntimeWarning: invalid value encountered in sqrt\n",
      "  This is separate from the ipykernel package so we can avoid doing imports until\n"
     ]
    },
    {
     "name": "stdout",
     "output_type": "stream",
     "text": [
      "[  396.93541544  1535.87382867   623.85248498   610.00912868   645.0092527\n",
      "   670.00493516   249.15574141   150.16975098    99.1654385 ]\n"
     ]
    }
   ],
   "source": [
    "result = opt.basinhopping(obj, x0=[100, 100, 100, 600, 650, 700, 100, 100, 100], niter=350, minimizer_kwargs=minimizer_kwargs)\n",
    "print(result.x)"
   ]
  },
  {
   "cell_type": "code",
   "execution_count": 25,
   "metadata": {
    "slideshow": {
     "slide_type": "subslide"
    }
   },
   "outputs": [
    {
     "data": {
      "image/png": "[encoded data removed]",
      "text/plain": [
       "<matplotlib.figure.Figure at 0x7fafb84f1828>"
      ]
     },
     "metadata": {},
     "output_type": "display_data"
    }
   ],
   "source": [
    "plt.plot(spec_x, spec_y, label='data')\n",
    "plt.plot(spec_x, spec_yhat(result.x, data, 3), label='fit')\n",
    "for i in range(3):\n",
    "    plt.plot(spec_x, peak(spec_x, result.x[i], result.x[i + 3], result.x[i + 6]), label='peak {}'.format(i))\n",
    "plt.legend()\n",
    "plt.show()"
   ]
  },
  {
   "cell_type": "markdown",
   "metadata": {
    "slideshow": {
     "slide_type": "slide"
    }
   },
   "source": [
    "Checking residuals\n",
    "---"
   ]
  },
  {
   "cell_type": "code",
   "execution_count": 26,
   "metadata": {
    "slideshow": {
     "slide_type": "fragment"
    }
   },
   "outputs": [
    {
     "data": {
      "image/png": "[encoded data removed]",
      "text/plain": [
       "<matplotlib.figure.Figure at 0x7fafb8623390>"
      ]
     },
     "metadata": {},
     "output_type": "display_data"
    },
    {
     "data": {
      "text/plain": [
       "(0.9985390305519104, 0.5803068280220032)"
      ]
     },
     "execution_count": 26,
     "metadata": {},
     "output_type": "execute_result"
    }
   ],
   "source": [
    "resids = spec_y - spec_yhat(result.x, data, 3)\n",
    "plt.hist(resids)\n",
    "plt.show()\n",
    "scipy.stats.shapiro(resids)"
   ]
  },
  {
   "cell_type": "markdown",
   "metadata": {
    "slideshow": {
     "slide_type": "subslide"
    }
   },
   "source": [
    "Looks like they are normal"
   ]
  },
  {
   "cell_type": "markdown",
   "metadata": {
    "slideshow": {
     "slide_type": "slide"
    }
   },
   "source": [
    "Computing Standard Error\n",
    "---\n",
    "\n",
    "We need the partials:\n",
    "\n",
    "$$\\frac{\\partial f}{\\partial a} = \\frac{1}{\\sqrt{2 \\pi c}}e^{-(x - b)^2 / c}$$\n",
    "\n",
    "$$\\frac{\\partial f}{\\partial b} = \\frac{2a(x - b)}{c\\sqrt{2 \\pi c}} e^{-(x - b)^2 / c}$$\n",
    "\n",
    "$$\\frac{\\partial f}{\\partial c} = \\frac{a}{\\sqrt{2 \\pi}}e^{-(x - b)^2 / c}\\left[\\frac{(x - b)^2}{c^{5/2}} - \\frac{1}{2c^{3/2}}\\right]$$"
   ]
  },
  {
   "cell_type": "code",
   "execution_count": 27,
   "metadata": {
    "slideshow": {
     "slide_type": "subslide"
    }
   },
   "outputs": [],
   "source": [
    "def peak_partials(x, a, b, c):\n",
    "    '''Returns partial derivatives of peak functions with respect to parameters as a tuple'''\n",
    "    return (1 / (np.sqrt(2 * np.pi * c)) * np.exp(-(x - b)**2 / c), \\\n",
    "            2 * a * (x - b) / c / np.sqrt(2 * np.pi * c) * np.exp(-(x - b)**2 / c),\\\n",
    "            a / np.sqrt( 2 * np.pi) * np.exp(-(x - b)**2 / c) * ((x - b)**2 / c**(5 / 2) - 1 / 2 / c**(3/2)))"
   ]
  },
  {
   "cell_type": "markdown",
   "metadata": {
    "slideshow": {
     "slide_type": "subslide"
    }
   },
   "source": [
    "We have to decide how we want to build the ${\\mathbf F}$ matrix. I want to build it as \n",
    "\n",
    "$$\\left[\\frac{\\partial f}{\\partial a_1}, \\frac{\\partial f}{\\partial a_2}, \\frac{\\partial f}{\\partial a_3}, \\frac{\\partial f}{\\partial b_1}, \\ldots\\right]$$"
   ]
  },
  {
   "cell_type": "code",
   "execution_count": 28,
   "metadata": {
    "slideshow": {
     "slide_type": "fragment"
    }
   },
   "outputs": [],
   "source": [
    "def spectrum_partials(x, a_array, b_array, c_array):\n",
    "    '''Takes in the x data and parameters for a set of peaks. Computes partial derivatives and returns as matrix'''\n",
    "    result = np.empty( (len(x), len(a_array) * 3 ) )\n",
    "    for i in range(len(a_array)):\n",
    "        a_p, b_p, c_p = peak_partials(x, a_array[i], b_array[i], c_array[i])\n",
    "        result[:, i] = a_p\n",
    "        result[:, i  + 3] = b_p\n",
    "        result[:, i + 6] = c_p\n",
    "    return result"
   ]
  },
  {
   "cell_type": "code",
   "execution_count": 29,
   "metadata": {
    "slideshow": {
     "slide_type": "subslide"
    }
   },
   "outputs": [
    {
     "name": "stdout",
     "output_type": "stream",
     "text": [
      "[[  5.95848965e-047   3.41177674e-112   4.22368213e-214 ...,\n",
      "    9.70700887e-045   8.81908090e-109   1.29560374e-210]\n",
      " [  8.75972015e-047   7.43774617e-112   1.59948877e-213 ...,\n",
      "    1.42167329e-044   1.91665006e-108   4.89299234e-210]\n",
      " [  1.28685583e-046   1.61949829e-111   6.04618284e-213 ...,\n",
      "    2.08063875e-044   4.16043405e-108   1.84452847e-209]\n",
      " ..., \n",
      " [  3.43201572e-036   9.93941578e-034   9.92362659e-030 ...,\n",
      "    4.23641692e-034   7.32601408e-031   3.93715452e-027]\n",
      " [  2.45169493e-036   6.54303835e-034   6.12974023e-030 ...,\n",
      "    3.03946504e-034   4.85063627e-031   2.45052509e-027]\n",
      " [  1.75012557e-036   4.30206003e-034   3.77940852e-030 ...,\n",
      "    2.17909989e-034   3.20775189e-031   1.52241598e-027]]\n"
     ]
    }
   ],
   "source": [
    "M = 3\n",
    "F = spectrum_partials(spec_x, result.x[:M], result.x[M:2*M], result.x[2*M:3*M])\n",
    "print(F)"
   ]
  },
  {
   "cell_type": "markdown",
   "metadata": {
    "slideshow": {
     "slide_type": "subslide"
    }
   },
   "source": [
    "Now we compute all the confidence intervals"
   ]
  },
  {
   "cell_type": "code",
   "execution_count": 30,
   "metadata": {
    "slideshow": {
     "slide_type": "subslide"
    }
   },
   "outputs": [
    {
     "name": "stdout",
     "output_type": "stream",
     "text": [
      "396.9354154386834 +/- 2.9053366898222883\n",
      "1535.873828670205 +/- 3.7269024838978595\n",
      "623.8524849832462 +/- 2.9100116043569404\n",
      "610.009128680343 +/- 0.0904228571242341\n",
      "645.0092526985368 +/- 0.018911754815363144\n",
      "670.0049351617578 +/- 0.03502566937598972\n",
      "249.15574141296509 +/- 4.418046657853202\n",
      "150.16975097868857 +/- 0.8458177121562067\n",
      "99.16543850420483 +/- 0.962331882813084\n"
     ]
    }
   ],
   "source": [
    "SSR = np.sum(resids**2)\n",
    "s2_epsilon = SSR / (len(spec_x) - len(result.x))\n",
    "s2_beta = np.diag(s2_epsilon * linalg.inv(F.transpose().dot(F)))\n",
    "ci = np.sqrt(s2_beta) * scipy.stats.norm.ppf(0.975)\n",
    "\n",
    "for pi, c in zip(result.x, ci):\n",
    "    print('{} +/- {}'.format(pi, c))"
   ]
  },
  {
   "cell_type": "markdown",
   "metadata": {
    "slideshow": {
     "slide_type": "skip"
    }
   },
   "source": [
    "The relative populations, the integrated peaks, are just the $a$ values. I'll normalize them into percent:"
   ]
  },
  {
   "cell_type": "code",
   "execution_count": 31,
   "metadata": {},
   "outputs": [
    {
     "name": "stdout",
     "output_type": "stream",
     "text": [
      "15.525535% +/- 0.113638%\n",
      "60.073408% +/- 0.145772%\n",
      "24.401057% +/- 0.113821%\n"
     ]
    }
   ],
   "source": [
    "for pi, c in zip(result.x[:3], ci[:3]):\n",
    "    print('{:%} +/- {:%}'.format(pi / np.sum(result.x[:3]), c / np.sum(result.x[:3])))"
   ]
  }
 ],
 "metadata": {
  "celltoolbar": "Slideshow",
  "kernelspec": {
   "display_name": "Python 3",
   "language": "python",
   "name": "python3"
  },
  "language_info": {
   "codemirror_mode": {
    "name": "ipython",
    "version": 3
   },
   "file_extension": ".py",
   "mimetype": "text/x-python",
   "name": "python",
   "nbconvert_exporter": "python",
   "pygments_lexer": "ipython3",
   "version": "3.6.3"
  }
 },
 "nbformat": 4,
 "nbformat_minor": 1
}
