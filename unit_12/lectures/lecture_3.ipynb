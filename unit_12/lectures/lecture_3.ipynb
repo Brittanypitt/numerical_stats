{
 "cells": [
  {
   "cell_type": "markdown",
   "metadata": {
    "slideshow": {
     "slide_type": "slide"
    }
   },
   "source": [
    "Categorical Ordinary Least-Squares \n",
    "====\n",
    "\n",
    "## Unit 12, Lecture 3\n",
    "\n",
    "*Numerical Methods and Statistics*\n",
    "\n",
    "----\n",
    "\n",
    "#### Prof. Andrew White, April 19 2018"
   ]
  },
  {
   "cell_type": "markdown",
   "metadata": {},
   "source": [
    "Goals:\n",
    "---\n",
    "\n",
    "1. Regress on categorical data\n",
    "2. Learn that unordered categories have to be split into dummy variables\n",
    "3. Know when to test interaction variables"
   ]
  },
  {
   "cell_type": "code",
   "execution_count": 1,
   "metadata": {
    "slideshow": {
     "slide_type": "skip"
    }
   },
   "outputs": [],
   "source": [
    "%matplotlib inline\n",
    "import random\n",
    "import numpy as np\n",
    "import matplotlib.pyplot as plt\n",
    "from math import sqrt, pi, erf\n",
    "import seaborn\n",
    "seaborn.set_context(\"talk\")\n",
    "#seaborn.set_style(\"white\")\n",
    "import scipy.stats"
   ]
  },
  {
   "cell_type": "markdown",
   "metadata": {
    "slideshow": {
     "slide_type": "slide"
    }
   },
   "source": [
    "Regression with discrete domains\n",
    "===\n",
    "\n",
    "Let's say we have a potential drug molecule that improves your test-taking abilities. We give 10 people the drug and 7 are given a plcebo. Here's their results on an exam:\n",
    "\n",
    "Drug Group | Control Group\n",
    "---------- | ---------:|\n",
    "35 | 27\n",
    "38 | 29\n",
    "25 | 34\n",
    "34 | 32\n",
    "42 | 35\n",
    "41 | 22\n",
    "27 | 19\n",
    "32 |\n",
    "43 |\n",
    "36 |"
   ]
  },
  {
   "cell_type": "markdown",
   "metadata": {
    "slideshow": {
     "slide_type": "subslide"
    }
   },
   "source": [
    "Did the drug make a difference?"
   ]
  },
  {
   "cell_type": "markdown",
   "metadata": {
    "slideshow": {
     "slide_type": "subslide"
    }
   },
   "source": [
    "We know how to solve this from hypothesis testing - Wilcoxon Sum of Ranks"
   ]
  },
  {
   "cell_type": "code",
   "execution_count": 2,
   "metadata": {
    "slideshow": {
     "slide_type": "fragment"
    }
   },
   "outputs": [
    {
     "data": {
      "text/plain": [
       "RanksumsResult(statistic=2.04939015319192, pvalue=0.04042397933690852)"
      ]
     },
     "execution_count": 2,
     "metadata": {},
     "output_type": "execute_result"
    }
   ],
   "source": [
    "import scipy.stats as boop\n",
    "\n",
    "drug = np.array([35, 38, 25 , 34, 42, 41 , 27, 32, 43, 36])\n",
    "control = np.array([27, 29, 34 , 32, 35 , 22, 19])\n",
    "\n",
    "boop.ranksums(drug, control)"
   ]
  },
  {
   "cell_type": "markdown",
   "metadata": {
    "slideshow": {
     "slide_type": "subslide"
    }
   },
   "source": [
    "Let's try regressing it! To regress, we need two dimensions. Right now we only have one. Let's create a *category* or *dummy* variable indicating if the exam score came from the drug or control group:"
   ]
  },
  {
   "cell_type": "code",
   "execution_count": 3,
   "metadata": {
    "slideshow": {
     "slide_type": "fragment"
    }
   },
   "outputs": [
    {
     "name": "stdout",
     "output_type": "stream",
     "text": [
      "[[ 1. 35.]\n",
      " [ 1. 38.]\n",
      " [ 1. 25.]\n",
      " [ 1. 34.]\n",
      " [ 1. 42.]\n",
      " [ 1. 41.]\n",
      " [ 1. 27.]\n",
      " [ 1. 32.]\n",
      " [ 1. 43.]\n",
      " [ 1. 36.]\n",
      " [ 0. 27.]\n",
      " [ 0. 29.]\n",
      " [ 0. 34.]\n",
      " [ 0. 32.]\n",
      " [ 0. 35.]\n",
      " [ 0. 22.]\n",
      " [ 0. 19.]]\n"
     ]
    }
   ],
   "source": [
    "drugged = np.concatenate( (np.ones(10), np.zeros(7)) )\n",
    "exam = np.concatenate( (drug, control) )\n",
    "\n",
    "print(np.column_stack( (drugged, exam) ) )"
   ]
  },
  {
   "cell_type": "code",
   "execution_count": 4,
   "metadata": {
    "slideshow": {
     "slide_type": "subslide"
    }
   },
   "outputs": [
    {
     "data": {
      "image/png": "[encoded data removed]",
      "text/plain": [
       "<Figure size 432x288 with 1 Axes>"
      ]
     },
     "metadata": {
      "needs_background": "light"
     },
     "output_type": "display_data"
    }
   ],
   "source": [
    "plt.plot(drugged, exam, 'o')\n",
    "plt.xlim(-0.1, 1.1)\n",
    "plt.xlabel('Drug Category')\n",
    "plt.ylabel('Exam Score')\n",
    "plt.show()"
   ]
  },
  {
   "cell_type": "markdown",
   "metadata": {
    "slideshow": {
     "slide_type": "subslide"
    }
   },
   "source": [
    "It looks like we can indeed regress this data! The equation we're modeling is this:\n",
    "\n",
    "$$y = \\beta_0 + \\beta_1 \\delta_d + \\epsilon $$\n"
   ]
  },
  {
   "cell_type": "code",
   "execution_count": 5,
   "metadata": {
    "slideshow": {
     "slide_type": "subslide"
    }
   },
   "outputs": [
    {
     "name": "stdout",
     "output_type": "stream",
     "text": [
      "7.014285714285715 28.28571428571429\n"
     ]
    }
   ],
   "source": [
    "dof = len(drugged) - 2\n",
    "cov = np.cov(drugged, exam, ddof=2)\n",
    "slope = cov[0,1] / cov[0,0]\n",
    "intercept = np.mean(exam - slope * drugged)\n",
    "\n",
    "print(slope, intercept)"
   ]
  },
  {
   "cell_type": "code",
   "execution_count": 6,
   "metadata": {
    "slideshow": {
     "slide_type": "subslide"
    }
   },
   "outputs": [
    {
     "data": {
      "image/png": "[encoded data removed]",
      "text/plain": [
       "<Figure size 432x288 with 1 Axes>"
      ]
     },
     "metadata": {
      "needs_background": "light"
     },
     "output_type": "display_data"
    }
   ],
   "source": [
    "plt.plot(drugged, exam, 'o')\n",
    "plt.plot(drugged, slope * drugged + intercept, '-')\n",
    "plt.xlim(-0.1, 1.1)\n",
    "plt.xlabel('Drug Category')\n",
    "plt.ylabel('Exam Score')\n",
    "plt.show()"
   ]
  },
  {
   "cell_type": "markdown",
   "metadata": {
    "slideshow": {
     "slide_type": "subslide"
    }
   },
   "source": [
    "Well that's interesting. But can we get a $p$-value out of this? We can, by seeing if the slope is necessary. Let's take the null hypothesis to be that $\\beta_1 = 0$"
   ]
  },
  {
   "cell_type": "code",
   "execution_count": 8,
   "metadata": {
    "slideshow": {
     "slide_type": "fragment"
    }
   },
   "outputs": [
    {
     "name": "stdout",
     "output_type": "stream",
     "text": [
      "0.032\n"
     ]
    }
   ],
   "source": [
    "s2_e = np.sum( (exam - slope * drugged - intercept)**2 ) / dof\n",
    "s2_b = s2_e / np.sum( (drugged - np.mean(drugged)) ** 2 )\n",
    "\n",
    "slope_se = np.sqrt(s2_b)\n",
    "T = slope / slope_se\n",
    "\n",
    "#The null hypothesis is that you have no slope, so DOF = N - 1\n",
    "print('{:.2}'.format(2 * (1 - boop.t.cdf(T, len(drugged) - 1))))"
   ]
  },
  {
   "cell_type": "markdown",
   "metadata": {
    "slideshow": {
     "slide_type": "subslide"
    }
   },
   "source": [
    "We get a $p$-value of $0.032$, which is quite close to what the sum of ranks test gave. However, we can now do more dimensions than the sum of ranks test."
   ]
  },
  {
   "cell_type": "markdown",
   "metadata": {
    "slideshow": {
     "slide_type": "slide"
    }
   },
   "source": [
    "Multiple Categories\n",
    "---\n",
    "\n",
    "Now let's say that I'm studying plant growth and I have two categories: I fertilized the plant and I put the plant in direct sunlight. Let's turn that into two variables: $\\delta_s$ for sunlight and $\\delta_f$ for fertilizer. "
   ]
  },
  {
   "cell_type": "markdown",
   "metadata": {
    "slideshow": {
     "slide_type": "subslide"
    }
   },
   "source": [
    "Now you might believe that there is an *interaction* between these two *factors*. That is, having sunlight and fertilizer has an effect beyond the sum of the two individually. I can write this as $\\delta_{fs}$. This category is 1 when both fertilizer and direct sunlight is provided. It turns out:\n",
    "\n",
    "$$\\delta_{fs} = \\delta_s \\times \\delta_f $$"
   ]
  },
  {
   "cell_type": "markdown",
   "metadata": {
    "slideshow": {
     "slide_type": "subslide"
    }
   },
   "source": [
    "Our model equation will then be:\n",
    "    \n",
    "$$ g = \\beta_0 + \\beta_s \\delta_s + \\beta_f \\delta_f + \\beta_{sf} \\delta_s \\delta_f + \\epsilon$$\n",
    "\n",
    "and here's some data"
   ]
  },
  {
   "cell_type": "code",
   "execution_count": 9,
   "metadata": {
    "slideshow": {
     "slide_type": "subslide"
    }
   },
   "outputs": [],
   "source": [
    "growth = [13.4,11.4, 11.9, 13.1, 14.8, 12.0, 14.3, 13.2, 13.4, 12.2, 1.9, 3.1, 4.4, 3.9, 4.2, 3.2, 2.1, 2.1, 3.4, 4.2, 5.6, 4.5, 4.7, 6.9, 5.1, 3.2, 2.7, 5.2, 5.4, 4.9, 3.5, 2.3, 3.4, 5.4, 4.1, 4.0, 3.2, 4.1, 3.3, 3.4]\n",
    "fertilizer = [1.0,1.0, 1.0, 1.0, 1.0, 1.0, 1.0, 1.0, 1.0, 1.0, 1.0, 1.0, 1.0, 1.0, 1.0, 1.0, 1.0, 1.0, 1.0, 1.0, 0.0, 0.0, 0.0, 0.0, 0.0, 0.0, 0.0, 0.0, 0.0, 0.0, 0.0, 0.0, 0.0, 0.0, 0.0, 0.0, 0.0, 0.0, 0.0, 0.0]\n",
    "sunlight = [1.0,1.0, 1.0, 1.0, 1.0, 1.0, 1.0, 1.0, 1.0, 1.0, 0.0, 0.0, 0.0, 0.0, 0.0, 0.0, 0.0, 0.0, 0.0, 0.0, 1.0, 1.0, 1.0, 1.0, 1.0, 1.0, 1.0, 1.0, 1.0, 1.0, 0.0, 0.0, 0.0, 0.0, 0.0, 0.0, 0.0, 0.0, 0.0, 0.0]"
   ]
  },
  {
   "cell_type": "code",
   "execution_count": 10,
   "metadata": {
    "slideshow": {
     "slide_type": "subslide"
    }
   },
   "outputs": [
    {
     "name": "stdout",
     "output_type": "stream",
     "text": [
      "[[ 1.   1.  13.4]\n",
      " [ 1.   1.  11.4]\n",
      " [ 1.   1.  11.9]\n",
      " [ 1.   1.  13.1]\n",
      " [ 1.   1.  14.8]\n",
      " [ 1.   1.  12. ]\n",
      " [ 1.   1.  14.3]\n",
      " [ 1.   1.  13.2]\n",
      " [ 1.   1.  13.4]\n",
      " [ 1.   1.  12.2]\n",
      " [ 1.   0.   1.9]\n",
      " [ 1.   0.   3.1]\n",
      " [ 1.   0.   4.4]\n",
      " [ 1.   0.   3.9]\n",
      " [ 1.   0.   4.2]\n",
      " [ 1.   0.   3.2]\n",
      " [ 1.   0.   2.1]\n",
      " [ 1.   0.   2.1]\n",
      " [ 1.   0.   3.4]\n",
      " [ 1.   0.   4.2]\n",
      " [ 0.   1.   5.6]\n",
      " [ 0.   1.   4.5]\n",
      " [ 0.   1.   4.7]\n",
      " [ 0.   1.   6.9]\n",
      " [ 0.   1.   5.1]\n",
      " [ 0.   1.   3.2]\n",
      " [ 0.   1.   2.7]\n",
      " [ 0.   1.   5.2]\n",
      " [ 0.   1.   5.4]\n",
      " [ 0.   1.   4.9]\n",
      " [ 0.   0.   3.5]\n",
      " [ 0.   0.   2.3]\n",
      " [ 0.   0.   3.4]\n",
      " [ 0.   0.   5.4]\n",
      " [ 0.   0.   4.1]\n",
      " [ 0.   0.   4. ]\n",
      " [ 0.   0.   3.2]\n",
      " [ 0.   0.   4.1]\n",
      " [ 0.   0.   3.3]\n",
      " [ 0.   0.   3.4]]\n"
     ]
    }
   ],
   "source": [
    "print(np.column_stack((fertilizer, sunlight, growth)))"
   ]
  },
  {
   "cell_type": "markdown",
   "metadata": {
    "slideshow": {
     "slide_type": "subslide"
    }
   },
   "source": [
    "You can see we have 10 examples of each possible combination of categories. Let's now regress it using multidimensional least squares. Our columns will be $[1, \\delta_s, \\delta_f, \\delta_s \\delta_f] $, so we'll be doing 4-dimensional regression."
   ]
  },
  {
   "cell_type": "code",
   "execution_count": 11,
   "metadata": {
    "slideshow": {
     "slide_type": "subslide"
    }
   },
   "outputs": [
    {
     "name": "stdout",
     "output_type": "stream",
     "text": [
      "[[1. 1. 1. 1.]\n",
      " [1. 1. 1. 1.]\n",
      " [1. 1. 1. 1.]\n",
      " [1. 1. 1. 1.]\n",
      " [1. 1. 1. 1.]\n",
      " [1. 1. 1. 1.]\n",
      " [1. 1. 1. 1.]\n",
      " [1. 1. 1. 1.]\n",
      " [1. 1. 1. 1.]\n",
      " [1. 1. 1. 1.]\n",
      " [1. 0. 1. 0.]\n",
      " [1. 0. 1. 0.]\n",
      " [1. 0. 1. 0.]\n",
      " [1. 0. 1. 0.]\n",
      " [1. 0. 1. 0.]\n",
      " [1. 0. 1. 0.]\n",
      " [1. 0. 1. 0.]\n",
      " [1. 0. 1. 0.]\n",
      " [1. 0. 1. 0.]\n",
      " [1. 0. 1. 0.]\n",
      " [1. 1. 0. 0.]\n",
      " [1. 1. 0. 0.]\n",
      " [1. 1. 0. 0.]\n",
      " [1. 1. 0. 0.]\n",
      " [1. 1. 0. 0.]\n",
      " [1. 1. 0. 0.]\n",
      " [1. 1. 0. 0.]\n",
      " [1. 1. 0. 0.]\n",
      " [1. 1. 0. 0.]\n",
      " [1. 1. 0. 0.]\n",
      " [1. 0. 0. 0.]\n",
      " [1. 0. 0. 0.]\n",
      " [1. 0. 0. 0.]\n",
      " [1. 0. 0. 0.]\n",
      " [1. 0. 0. 0.]\n",
      " [1. 0. 0. 0.]\n",
      " [1. 0. 0. 0.]\n",
      " [1. 0. 0. 0.]\n",
      " [1. 0. 0. 0.]\n",
      " [1. 0. 0. 0.]]\n"
     ]
    }
   ],
   "source": [
    "N = len(growth)\n",
    "dof = N - 4\n",
    "\n",
    "x_mat = np.column_stack( (np.ones(N), sunlight, fertilizer, np.array(sunlight) * np.array(fertilizer)) )\n",
    "print(x_mat)"
   ]
  },
  {
   "cell_type": "code",
   "execution_count": 12,
   "metadata": {
    "slideshow": {
     "slide_type": "subslide"
    }
   },
   "outputs": [
    {
     "name": "stdout",
     "output_type": "stream",
     "text": [
      "[ 3.67  1.15 -0.42  8.57]\n"
     ]
    }
   ],
   "source": [
    "import scipy.linalg as linalg\n",
    "\n",
    "#I'll use the lstsq convienence function\n",
    "#It gives back a bunch of stuff I don't want though\n",
    "#I'll throw it away by assigning it all the an underscore\n",
    "beta,*_ = linalg.lstsq(x_mat, growth)\n",
    "\n",
    "print(beta)"
   ]
  },
  {
   "cell_type": "markdown",
   "metadata": {
    "slideshow": {
     "slide_type": "subslide"
    }
   },
   "source": [
    "That tells us about what you'd expect: the combination is quite important! Let's get individual confidence intervals on the factors"
   ]
  },
  {
   "cell_type": "code",
   "execution_count": 13,
   "metadata": {
    "slideshow": {
     "slide_type": "subslide"
    }
   },
   "outputs": [
    {
     "name": "stdout",
     "output_type": "stream",
     "text": [
      "beta_0: 3.67 +/- 0.65\n",
      "beta_s: 1.15 +/- 0.92\n",
      "beta_f: -0.42 +/- 0.92\n",
      "beta_sf: 8.57 +/- 1.3\n"
     ]
    }
   ],
   "source": [
    "s2_e = np.sum( (growth - x_mat.dot(beta))**2 ) / dof\n",
    "s2_b = linalg.inv(x_mat.transpose().dot(x_mat)) * s2_e\n",
    "s_b = np.sqrt(np.diag(s2_b))\n",
    "\n",
    "names = ['beta_0', 'beta_s', 'beta_f', 'beta_sf']\n",
    "for bi, si, ni in zip(beta, s_b, names):\n",
    "    print('{}: {:.3} +/- {:.2}'.format(ni, bi, si * boop.t.ppf(0.975, dof)))"
   ]
  },
  {
   "cell_type": "markdown",
   "metadata": {
    "slideshow": {
     "slide_type": "subslide"
    }
   },
   "source": [
    "We could go farther and justify the existence of the coefficients. As you can see from the confidence intervals, the $\\beta_s$ and/or $\\beta_f$ may be unnecessary."
   ]
  },
  {
   "cell_type": "markdown",
   "metadata": {
    "slideshow": {
     "slide_type": "slide"
    }
   },
   "source": [
    "Some notes on our regression\n",
    "---\n",
    "\n",
    "What we've learned about so far is part of a large field: the design and analysis of experiments with statistics. We've used simple analysis, hypothesis tests on existence of coefficeints, but that is not the most robust measure. For example, if two coefficients are unneeded, do you remove both or one at a time? A better way is to use an *Analysis of Variance* (ANOVA) and *F-test*, a hypothesis test for comparing models. You can find more information on this in your Langley statistics book. "
   ]
  },
  {
   "cell_type": "markdown",
   "metadata": {
    "slideshow": {
     "slide_type": "slide"
    }
   },
   "source": [
    "Unordered categorical data\n",
    "===\n",
    "\n",
    "When working with categorical data that has more than one category, but they are unordered, you must create a series of dummy variables. For example, if your category is color from three possibilities: `red`, `blue`, `orange`, it's *incorrect* to assign a number to each color. This would induce an ordering and imply that `red` is greater than `blue` or vice-versa. "
   ]
  },
  {
   "cell_type": "markdown",
   "metadata": {
    "slideshow": {
     "slide_type": "fragment"
    }
   },
   "source": [
    "You should instead create dummy variables for each value in the category:\n",
    "\n",
    "$$\n",
    "[\\delta_{\\textrm{red}}, \\delta_{\\textrm{blue}}, \\delta_{\\textrm{orange}}]\n",
    "$$"
   ]
  }
 ],
 "metadata": {
  "celltoolbar": "Slideshow",
  "kernelspec": {
   "display_name": "Python 3",
   "language": "python",
   "name": "python3"
  },
  "language_info": {
   "codemirror_mode": {
    "name": "ipython",
    "version": 3
   },
   "file_extension": ".py",
   "mimetype": "text/x-python",
   "name": "python",
   "nbconvert_exporter": "python",
   "pygments_lexer": "ipython3",
   "version": "3.7.1"
  }
 },
 "nbformat": 4,
 "nbformat_minor": 1
}
