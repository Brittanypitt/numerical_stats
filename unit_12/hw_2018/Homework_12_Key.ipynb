{
 "cells": [
  {
   "cell_type": "markdown",
   "metadata": {},
   "source": [
    "Homework 12 Key\n",
    "====\n",
    "#### CHE 116: Numerical Methods and Statistics\n",
    "\n",
    "4/19/2018\n",
    "\n",
    "----\n",
    "\n",
    "Homework Requirements:\n",
    "\n",
    "1. Write all equations in $\\LaTeX$\n",
    "2. Simplify all expressions\n",
    "2. Put comments in your Python code\n",
    "3. Explain or show your work\n",
    "4. Follow the academic honesty guidelines in the syllabus\n",
    "\n",
    "-----"
   ]
  },
  {
   "cell_type": "markdown",
   "metadata": {},
   "source": [
    "1\\. Conceptual Questions (20 Points)\n",
    "====\n",
    "\n",
    "*Answer in Markdown* 2 Points each\n",
    "\n",
    "1. What assumption do we make on the noise terms when doing linear regression? How can we check it?\n",
    "\n",
    "2. Your friend tells you that it's important to minimize both the SSR and TSS. What's wrong with minimizing the TSS?\n",
    "\n",
    "3. How do you justify the presence of a slope?\n",
    "\n",
    "4. What is the best numeric value or statistic for justifying the existence of a correlation?\n",
    "\n",
    "5. What should you plot to justify an ordinary 4-dimensional least squares regression?\n",
    "\n",
    "6. Why do we use different number of deducted degrees of freedom when doing hypothesis testing vs performing the regression?\n",
    "\n",
    "7. Write a model equation for 3-dimensional ordinary least squares regression with an intercept. For example, a one dimensional model equation without an intercept would be $y = \\beta_0 x + \\epsilon$\n",
    "\n",
    "8. Write a model equation for when $y \\propto \\ln{x}$. Assume no intercept\n",
    "\n",
    "9. Write a model equation for a person's life expectancy ($l$) assuming it depends on gender ($s$) and if the person eats vegetables ($v$). Assume for this problem that gender and eating vegetables are both binary (0 or 1). \n",
    "\n",
    "10. Write a model equation for homework performanced ($h$) based on music genre listended to while working. The following genres are conisdered: Kwaito, Electroswing, and Djent Metal. You can only listen to one genre at a time. Use the letters $k$, $e$, and $d$."
   ]
  },
  {
   "cell_type": "markdown",
   "metadata": {},
   "source": [
    "### 1.1 \n",
    "Normal. Shapiro-Wilks\n",
    "\n",
    "### 1.2\n",
    "TSS is fixed based on data and cannot change based on model parameters\n",
    "\n",
    "### 1.3\n",
    "Hypothesis test on slope coefficient or Spearman hypothesis test\n",
    "\n",
    "### 1.4\n",
    "$p$-value for slope or $p$-value from Spearman hypothesis test\n",
    "\n",
    "### 1.5\n",
    "$\\hat{y}$ vs $y$ or histogram residuals\n",
    "\n",
    "### 1.6\n",
    "In regression, ddof is number of parameters. In hypothesis test, we assume null which means the paraemter we're considering is 0 and not part of model. \n",
    "\n",
    "### 1.7\n",
    "$y = \\beta_0 x_0 + \\beta_1 x_1 + \\beta_2 x_2 + \\beta_3 + \\epsilon$\n",
    "\n",
    "### 1.8\n",
    "\n",
    "$y = \\beta \\ln x +  \\epsilon$\n",
    "\n",
    "### 1.9\n",
    "\n",
    "$l = \\beta_0 \\delta_s + \\beta_1 \\delta_v + \\beta_2 \\delta_v\\delta_s + \\beta_3 + \\epsilon$\n",
    "\n",
    "### 1.10\n",
    "**no interaction, because you can only listen to one at a time**\n",
    "\n",
    "$h = \\beta_0 \\delta_k + \\beta_1 \\delta_e + \\beta_2 \\delta_d + \\beta_3 + \\epsilon$"
   ]
  },
  {
   "cell_type": "markdown",
   "metadata": {},
   "source": [
    "2\\. Short Answer Questions (16 Points)\n",
    "====\n",
    "\n",
    "*Answer in Python or Markdown as appropiate* 4 Points each\n",
    "\n",
    "1. If $\\sigma_{xy} = -2.1$, $\\sigma_{x}^2 = 3.5$, $\\sigma_{y}^2  = 1.7$, what is the best fit slope? How does it change if the intercept is $-2.1$?\n",
    "\n",
    "2. If your model equation is $y = \\beta_0 + \\beta_1 x + \\beta_2 z + \\epsilon$, what is the deducted degrees of freedom?\n",
    "\n",
    "3. If $N = 12$, $D = 2$, and $S^2_{\\beta_0} = 2.5$, what is the width of a 90% confidence interval for $\\beta_0$?\n",
    "\n",
    "4. If your best fit intercept is $\\hat{\\alpha} = 3$ with a standard error of $0.7$, what is the $p$-value for the existence of the that intercept? Take $N = 15$ and assume it's 1D OLS.\n"
   ]
  },
  {
   "cell_type": "markdown",
   "metadata": {},
   "source": [
    "### 2.1"
   ]
  },
  {
   "cell_type": "code",
   "execution_count": 1,
   "metadata": {},
   "outputs": [
    {
     "name": "stdout",
     "output_type": "stream",
     "text": [
      "-0.6 no change if wrt intercept\n"
     ]
    }
   ],
   "source": [
    "slope = -2.1 / 3.5\n",
    "print(slope, 'no change if wrt intercept')"
   ]
  },
  {
   "cell_type": "markdown",
   "metadata": {},
   "source": [
    "### 2.2\n",
    "$D = 3$"
   ]
  },
  {
   "cell_type": "markdown",
   "metadata": {},
   "source": [
    "### 2.3"
   ]
  },
  {
   "cell_type": "code",
   "execution_count": 2,
   "metadata": {},
   "outputs": [
    {
     "name": "stdout",
     "output_type": "stream",
     "text": [
      "2.86575265929\n"
     ]
    }
   ],
   "source": [
    "import scipy.stats as ss\n",
    "import numpy as np\n",
    "T = ss.t.ppf(0.95, 12 - 2)\n",
    "print(np.sqrt(2.5) * T)"
   ]
  },
  {
   "cell_type": "markdown",
   "metadata": {},
   "source": [
    "### 2.4"
   ]
  },
  {
   "cell_type": "code",
   "execution_count": 3,
   "metadata": {},
   "outputs": [
    {
     "name": "stdout",
     "output_type": "stream",
     "text": [
      "0.000754107597155\n"
     ]
    }
   ],
   "source": [
    "T = 3 / 0.7\n",
    "p = (1 - (ss.t.cdf(T, 15 - 1) - ss.t.cdf(-T, 15 - 1)))\n",
    "print(p)"
   ]
  },
  {
   "cell_type": "markdown",
   "metadata": {},
   "source": [
    "3\\. Linearized Regression (24 Points)\n",
    "===\n",
    "\n",
    "Regress the following data to the model equation $y = \\beta_0 \\ln x + \\beta_1 x + \\beta_2 +\\epsilon$ using a linearization so that you use ND OLS. Report the following:\n",
    "\n",
    "1. [4 points] Justification for regression. Use words and statistics.\n",
    "2. [12 points] Fit coefficients with 95% confidence intervals.\n",
    "3. [4 points] Plot fit\n",
    "4. [4 points] Show if residuals are normal\n",
    "\n",
    "```python\n",
    "x = [0.2, 0.29, 0.39, 0.48, 0.57, 0.66, 0.76, 0.85, 0.94, 1.04, 1.13, 1.22, 1.31, 1.41, 1.5]\n",
    "y = [2.92, 2.58, 3.18, 4.27, 4.5, 3.93, 4.32, 4.57, 4.55, 4.7, 5.02, 4.21, 3.04, 4.98, 6.45]\n",
    "```"
   ]
  },
  {
   "cell_type": "code",
   "execution_count": 4,
   "metadata": {},
   "outputs": [],
   "source": [
    "x = [0.2, 0.29, 0.39, 0.48, 0.57, 0.66, 0.76, 0.85, 0.94, 1.04, 1.13, 1.22, 1.31, 1.41, 1.5]\n",
    "y = [2.92, 2.58, 3.18, 4.27, 4.5, 3.93, 4.32, 4.57, 4.55, 4.7, 5.02, 4.21, 3.04, 4.98, 6.45]\n",
    "x = np.array(x)\n",
    "y = np.array(y)"
   ]
  },
  {
   "cell_type": "code",
   "execution_count": 5,
   "metadata": {},
   "outputs": [
    {
     "data": {
      "text/plain": [
       "SpearmanrResult(correlation=0.66071428571428559, pvalue=0.007330569830891703)"
      ]
     },
     "execution_count": 5,
     "metadata": {},
     "output_type": "execute_result"
    }
   ],
   "source": [
    "#justification\n",
    "ss.spearmanr(x, y)"
   ]
  },
  {
   "cell_type": "markdown",
   "metadata": {},
   "source": [
    "$p$-value shows the correlation is significant."
   ]
  },
  {
   "cell_type": "code",
   "execution_count": 6,
   "metadata": {},
   "outputs": [
    {
     "name": "stdout",
     "output_type": "stream",
     "text": [
      "[ 1.19374141 -0.07794449  4.6485906 ]\n"
     ]
    }
   ],
   "source": [
    "#fit\n",
    "x_mat = np.column_stack( (np.log(x), x, np.ones(len(x))) )\n",
    "beta, *_ = np.linalg.lstsq(x_mat, y)\n",
    "print(beta)"
   ]
  },
  {
   "cell_type": "code",
   "execution_count": 7,
   "metadata": {},
   "outputs": [
    {
     "name": "stdout",
     "output_type": "stream",
     "text": [
      "beta_0 is 1.194 +/- 2.783 with 95% confidence\n",
      "beta_1 is -0.078 +/- 4.057 with 95% confidence\n",
      "beta_2 is 4.649 +/- 4.303 with 95% confidence\n"
     ]
    }
   ],
   "source": [
    "#confidence intervals\n",
    "yhat = beta[0] * np.log(x) + beta[1] * x + beta[2] \n",
    "s2_e = np.sum( (yhat - y)**2 ) / (len(x) - len(beta))\n",
    "se2_beta = s2_e * np.linalg.inv(x_mat.transpose() @ x_mat)\n",
    "for i in range(len(beta)):\n",
    "    T = ss.t.ppf(0.975, len(x) - len(beta)) \n",
    "    cwidth = T * np.sqrt(se2_beta[i,i]) \n",
    "    print(\"beta_{} is {:.3f} +/- {:.3f} with 95% confidence\".format(i, beta[i], cwidth)) "
   ]
  },
  {
   "cell_type": "code",
   "execution_count": 8,
   "metadata": {},
   "outputs": [
    {
     "data": {
      "image/png": "[encoded data removed]",
      "text/plain": [
       "<matplotlib.figure.Figure at 0x7f84a1f37550>"
      ]
     },
     "metadata": {},
     "output_type": "display_data"
    }
   ],
   "source": [
    "#plot\n",
    "import matplotlib.pyplot as plt\n",
    "%matplotlib inline\n",
    "\n",
    "plt.plot(x,y, 'p', label='data')\n",
    "plt.plot(x, yhat, '-', label='fit')\n",
    "plt.xlabel('x')\n",
    "plt.ylabel('y')\n",
    "plt.legend()\n",
    "plt.show()\n"
   ]
  },
  {
   "cell_type": "code",
   "execution_count": 9,
   "metadata": {},
   "outputs": [
    {
     "data": {
      "text/plain": [
       "(0.908310055732727, 0.12756651639938354)"
      ]
     },
     "execution_count": 9,
     "metadata": {},
     "output_type": "execute_result"
    }
   ],
   "source": [
    "ss.shapiro(y - yhat)"
   ]
  },
  {
   "cell_type": "markdown",
   "metadata": {},
   "source": [
    "The $p$-value is 0.13, so the residuals are not not normal. So probably normal"
   ]
  },
  {
   "cell_type": "markdown",
   "metadata": {},
   "source": [
    "4\\. Non-Linear Regression (12 Points)\n",
    "====\n",
    "\n",
    "Repeat problem 3 with non-linear least squares instead. Only do the computation of the coefficients with confidence intervals. Be sure to write out your partials making up your $F$-matrix in markdown."
   ]
  },
  {
   "cell_type": "code",
   "execution_count": 10,
   "metadata": {},
   "outputs": [
    {
     "name": "stdout",
     "output_type": "stream",
     "text": [
      "Optimization terminated successfully.\n",
      "[ 1.19374083 -0.07794365  4.6485897 ]\n"
     ]
    }
   ],
   "source": [
    "#fit\n",
    "import scipy.optimize as opt\n",
    "\n",
    "def SSR(beta):\n",
    "    yhat =  beta[0] * np.log(x) + beta[1] * x + beta[2] \n",
    "    return np.sum( (yhat - y)**2)\n",
    "result = opt.minimize(SSR, x0=[1,1,1])\n",
    "print(result.message)\n",
    "print(result.x)"
   ]
  },
  {
   "cell_type": "markdown",
   "metadata": {},
   "source": [
    "$$\n",
    "F_0 = \\ln x\n",
    "$$\n",
    "$$\n",
    "F_1 = x\n",
    "$$\n",
    "$$\n",
    "F_2 = \\vec{1}\n",
    "$$"
   ]
  },
  {
   "cell_type": "code",
   "execution_count": 11,
   "metadata": {},
   "outputs": [],
   "source": [
    "#making F\n",
    "f_mat = np.column_stack( (np.log(x), x, np.ones(len(x))) )"
   ]
  },
  {
   "cell_type": "code",
   "execution_count": 12,
   "metadata": {},
   "outputs": [
    {
     "name": "stdout",
     "output_type": "stream",
     "text": [
      "beta_0 is 1.194 +/- 2.789 with 95% confidence\n",
      "beta_1 is -0.078 +/- 4.065 with 95% confidence\n",
      "beta_2 is 4.649 +/- 4.312 with 95% confidence\n"
     ]
    }
   ],
   "source": [
    "#confidence intervals\n",
    "yhat = beta[0] * np.log(x) + beta[1] * x**2 + beta[2] \n",
    "s2_e = np.sum( (yhat - y)**2 ) / (len(x) - len(beta))\n",
    "#MAKE SURE THEY CHANGE TO f_mat AND NOT REPEAT x_mat\n",
    "se2_beta = s2_e * np.linalg.inv(f_mat.transpose() @ f_mat)\n",
    "for i in range(len(beta)):\n",
    "    T = ss.t.ppf(0.975, len(x) - len(beta)) \n",
    "    cwidth = T * np.sqrt(se2_beta[i,i]) \n",
    "    print(\"beta_{} is {:.3f} +/- {:.3f} with 95% confidence\".format(i, beta[i], cwidth)) "
   ]
  }
 ],
 "metadata": {
  "kernelspec": {
   "display_name": "Python 3",
   "language": "python",
   "name": "python3"
  },
  "language_info": {
   "codemirror_mode": {
    "name": "ipython",
    "version": 3
   },
   "file_extension": ".py",
   "mimetype": "text/x-python",
   "name": "python",
   "nbconvert_exporter": "python",
   "pygments_lexer": "ipython3",
   "version": "3.6.3"
  }
 },
 "nbformat": 4,
 "nbformat_minor": 2
}
