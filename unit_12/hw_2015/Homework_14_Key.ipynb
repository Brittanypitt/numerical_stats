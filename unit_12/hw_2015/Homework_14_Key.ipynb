








<!DOCTYPE html>
<html lang="en">

<head>
  <meta charset="utf-8">
  <title>Jupyter Notebook Viewer</title>
  <meta name="viewport" content="width=device-width, initial-scale=1.0">
  <meta name="description" content="">
  <meta name="author" content="">
  
  <meta name="robots" content="noindex,nofollow">
  

  <!--NEW RELIC Start Perf Measurement-->
  
  <!--NREND-->

  <!-- Le styles -->
  <script type="text/javascript">
//<![CDATA[
try{if (!window.CloudFlare) {var CloudFlare=[{verbose:0,p:0,byc:0,owlid:"cf",bag2:1,mirage2:0,oracle:0,paths:{cloudflare:"/cdn-cgi/nexp/dok3v=1613a3a185/"},atok:"376da8cb9918edf84801212417e68122",petok:"dd1f8e296763cb96cedec0d17f975caa96672805-1492949658-3600",zone:"jupyter.org",rocket:"0",apps:{"ga_key":{"ua":"UA-52617120-1","ga_bs":"2"}}}];!function(a,b){a=document.createElement("script"),b=document.getElementsByTagName("script")[0],a.async=!0,a.src="//ajax.cloudflare.com/cdn-cgi/nexp/dok3v=85b614c0f6/cloudflare.min.js",b.parentNode.insertBefore(a,b)}()}}catch(e){};
//]]>
</script>
<link href="/static/build/styles.css?v=c18d49652a516277e15114bbd447f1c1" rel="stylesheet">

  <!-- Le HTML5 shim, for IE6-8 support of HTML5 elements -->
  <!--[if lt IE 9]>
    <script src="http://html5shim.googlecode.com/svn/trunk/html5.js"></script>
  <![endif]-->

  <!-- Le fav and touch icons -->
  <link rel="shortcut icon" href="/static/ico/ipynb_icon_16x16.png">
  <link rel="apple-touch-icon-precomposed" sizes="144x144"
        href="/static/ico/apple-touch-icon-144-precomposed.png?v=5a3c9ede93e2a8b8ea9e3f8f3da1a905">
  <link rel="apple-touch-icon-precomposed" sizes="114x114"
        href="/static/ico/apple-touch-icon-114-precomposed.png?v=45d86fc8f24dc00638035e1dd7a6d898">
  <link rel="apple-touch-icon-precomposed" sizes="72x72"
        href="/static/ico/apple-touch-icon-72-precomposed.png?v=540b5eb0f3cfd25f1439d1c9bd30e15f">
  <link rel="apple-touch-icon-precomposed"
        href="/static/ico/apple-touch-icon-57-precomposed.png?v=225f0590e187e1458625654f10a28f56">
  
  

  

  
  <meta name="twitter:card" content="summary">
  <meta name="twitter:title" content="Notebook on nbviewer">
  <meta name="twitter:description" content="Check out this Jupyter notebook!">

  
  <meta name="twitter:domain" content="nbviewer.ipython.org">
  <meta name="twitter:image:src" content="http://ipython.org/ipython-doc/dev/_images/ipynb_icon_128x128.png">

  
    <link href="/static/build/notebook.css?v=d05748bef7d8f0edbc1e0133b9a41fe0" rel="stylesheet">
  

  

  
    <script src="https://cdn.mathjax.org/mathjax/latest/MathJax.js?config=TeX-AMS_HTML" type="text/javascript">
    </script>
    <script type="text/javascript">
      init_mathjax = function() {
        if (window.MathJax) {
          // MathJax loaded
          MathJax.Hub.Config({
            TeX: {
              equationNumbers: {
                autoNumber: "AMS",
                useLabelIds: true
              }
            },
            tex2jax: {
              inlineMath: [ ['$','$'], ["\\(","\\)"] ],
              displayMath: [ ['$$','$$'], ["\\[","\\]"] ],
              processEscapes: true,
              processEnvironments: true
            },
            displayAlign: 'center',
            "HTML-CSS": {
              styles: {'.MathJax_Display': {"margin": 0}},
              linebreaks: { automatic: true }
            }
          });
          MathJax.Hub.Queue(["Typeset", MathJax.Hub]);
        }
      }
      init_mathjax();
    </script>
  

<script type="text/javascript">
/* <![CDATA[ */
var _gaq = _gaq || [];
_gaq.push(['_setAccount', 'UA-52617120-1']);
_gaq.push(['_trackPageview']);

(function() {
var ga = document.createElement('script'); ga.type = 'text/javascript'; ga.async = true;
ga.src = ('https:' == document.location.protocol ? 'https://ssl' : 'http://www') + '.google-analytics.com/ga.js';
var s = document.getElementsByTagName('script')[0]; s.parentNode.insertBefore(ga, s);
})();

(function(b){(function(a){"__CF"in b&&"DJS"in b.__CF?b.__CF.DJS.push(a):"addEventListener"in b?b.addEventListener("load",a,!1):b.attachEvent("onload",a)})(function(){"FB"in b&&"Event"in FB&&"subscribe"in FB.Event&&(FB.Event.subscribe("edge.create",function(a){_gaq.push(["_trackSocial","facebook","like",a])}),FB.Event.subscribe("edge.remove",function(a){_gaq.push(["_trackSocial","facebook","unlike",a])}),FB.Event.subscribe("message.send",function(a){_gaq.push(["_trackSocial","facebook","send",a])}));"twttr"in b&&"events"in twttr&&"bind"in twttr.events&&twttr.events.bind("tweet",function(a){if(a){var b;if(a.target&&a.target.nodeName=="IFRAME")a:{if(a=a.target.src){a=a.split("#")[0].match(/[^?=&]+=([^&]*)?/g);b=0;for(var c;c=a[b];++b)if(c.indexOf("url")===0){b=unescape(c.split("=")[1]);break a}}b=void 0}_gaq.push(["_trackSocial","twitter","tweet",b])}})})})(window);
/* ]]> */
</script>
</head>

<body class="nbviewer">

  <!-- These are loaded at the top of the body so they are available to
       notebook cells when they are loaded below. -->
  <script src="/static/components/jquery/dist/jquery.min.js?v=e071abda8fe61194711cfc2ab99fe104"></script>
  <script src="/static/components/requirejs/require.js?v=6da8be361b9ee26c5e721e76c6d4afce"></script>
  <script src="/static/components/moment/min/moment.min.js?v=89f87298ad94aa1e6b92f42eb66da043"></script>

<!-- Navbar
================================================== -->
  <nav id="menubar" class="navbar navbar-default navbar-fixed-top" data-spy="affix">
    <div class="container">
      <div class="navbar-header">
        <button type="button" class="navbar-toggle collapsed" data-toggle="collapse" data-target=".navbar-collapse">
          <span class="sr-only">Toggle navigation</span>
          <i class="fa fa-bars"></i>
        </button>
        <a class="navbar-brand" href="/">
          <img src="/static/img/nav_logo.svg?v=479cefe8d932fb14a67b93911b97d70f" width="159"/>
        </a>
      </div>

      <div class="collapse navbar-collapse">
        <ul class="nav navbar-nav navbar-right">
          <li>
            <a class="active" href="http://jupyter.org">JUPYTER</a>
          </li>
          <li>
    <a href="/faq" title="FAQ" >
      
        <span>FAQ</span>
      
    </a>
  </li>

          
  
    
  
    
      
        <li>
    <a href="/format/script/url/thewhitelab.org/Classes/CHE116/Unit_14/Homework_14_Key.ipynb" title="View as Code" >
      <span class="fa fa-code fa-2x menu-icon"></span>
      <span class="menu-text">View as Code</span>
    </a>
  </li>
      
    
  

  

  

  <li>
    <a href="http://thewhitelab.org/Classes/CHE116/Unit_14/Homework_14_Key.ipynb" title="Download Notebook" download>
      <span class="fa fa-download fa-2x menu-icon"></span>
      <span class="menu-text">Download Notebook</span>
    </a>
  </li>

        </ul>
      </div><!-- /.navbar-collapse -->
      
      
    </div>
  </nav>

  <div class="container container-main">
    
  
  <div id="notebook">
    <div id="notebook-container">
      
<div class="cell border-box-sizing text_cell rendered">
<div class="prompt input_prompt">
</div>
<div class="inner_cell">
<div class="text_cell_render border-box-sizing rendered_html">
<h1 id="Conceptual-Questions-(3-Points)">Conceptual Questions (3 Points)<a class="anchor-link" href="#Conceptual-Questions-(3-Points)">&#182;</a></h1><ol>
<li><p>Is Error Propogation using partial derivatives exact or an approximation? If it is an approximation, when and why is it valid?</p>
</li>
<li><p>If you have a constant error in your independent variable, you almost always require weighted least-squares instead of ordinary least-squares for non-linear regression. Why?</p>
</li>
<li><p>Is attenuation possible in non-linear weighted least-squares?</p>
</li>
</ol>

</div>
</div>
</div>
<div class="cell border-box-sizing text_cell rendered">
<div class="prompt input_prompt">
</div>
<div class="inner_cell">
<div class="text_cell_render border-box-sizing rendered_html">
<h1 id="Answers-to-Ex1">Answers to Ex1<a class="anchor-link" href="#Answers-to-Ex1">&#182;</a></h1><ol>
<li>It is an approximation. It is valid when the error is small relative to the partial derivatives. This is valid, because the error is smaller than the curvature of the function, making it approximately linear. </li>
<li>Ordinary least squares are not good for non-linear behavior of varaibles, whereas weighted leas squares work both for linear anc non-linear functions.</li>
<li>No, the weighted least-squares takes care of the attenuation by not mentioning the sample size in the formula for the error.????</li>
</ol>

</div>
</div>
</div>
<div class="cell border-box-sizing text_cell rendered">
<div class="prompt input_prompt">
</div>
<div class="inner_cell">
<div class="text_cell_render border-box-sizing rendered_html">
<h1 id="Exercises-(8-Points)">Exercises (8 Points)<a class="anchor-link" href="#Exercises-(8-Points)">&#182;</a></h1><ol>
<li><p>If you have a measurement error of $\sigma_{\lambda} = 2.0$ and you are using the equation:</p>
<p>$$ y = \lambda e^{-\lambda x}$$</p>
<p>what is your uncertainty in $y$? Assume $x$ is exact.</p>
</li>
<li><p>What is the equation for standard error in residuals with constant uncertainty in the independent variable?</p>
</li>
<li><p>What is the equation for standard error in residuals with variable uncertainty in the dependent variable?</p>
</li>
<li><p>Give two examples of when to use weighted least-squares</p>
</li>
</ol>

</div>
</div>
</div>
<div class="cell border-box-sizing text_cell rendered">
<div class="prompt input_prompt">
</div>
<div class="inner_cell">
<div class="text_cell_render border-box-sizing rendered_html">
<h1 id="Answers-to-EX2">Answers to EX2<a class="anchor-link" href="#Answers-to-EX2">&#182;</a></h1><p>2.1 $$\sigma_{y}=\frac{\delta y}{\delta\lambda}\sigma_{\lambda}=\sqrt{4(e^{-\lambda x}-\lambda xe^{-\lambda x})^{2}}$$</p>
<p>2.2 $$ S^2_{\epsilon} = \frac{SSR}{N} + \hat{\beta}^2\sigma_{\eta}^2 $$</p>
<p>2.3 
$$ S^2_{\epsilon} =\frac{SSR + \sum_i\sigma_{x_i}^2\beta^2}{N} $$</p>
<p>2.4</p>

</div>
</div>
</div>
<div class="cell border-box-sizing text_cell rendered">
<div class="prompt input_prompt">
</div>
<div class="inner_cell">
<div class="text_cell_render border-box-sizing rendered_html">
<h1 id="Arrhenius-Equation-Problem-(20-Points)">Arrhenius Equation Problem (20 Points)<a class="anchor-link" href="#Arrhenius-Equation-Problem-(20-Points)">&#182;</a></h1><p>The Arrhenius Equation allows you to find a reaction rate at a temperature. It is:</p>
$$ k = A e^{-\frac{E_a}{RT}} $$<p>where $k$ is the reaction rate, $A$ is an empirical constant, $E_a$ is the activation energy, $R$ is the Universal gas constant and $T$ is temperature. In this homework problem, you will determine $A$ and $E_a$ and their confidence intervals.</p>
<p>The chemical reaction that you're observing is the unimolecular dissolution of a 125 Dalton compound in water. This reaction occurs over the course of days inside a large tank which has a controlled temperature. You take an approximately 250mL sample every four hours from the tank and can compute a concentration of the compound by drying the water off and weighing the dry mass. The measurement process takes about 10 minutes and so you may estimate your measurement error in time as 5 minutes, since the reaction continues during the drying process and taking the sample requires some time. Your volume measurements have a measurement error of 0.25 mL and your balance has a measurement error of 0.5 g. You know the temperature exactly.</p>
<p>Knowing the information above, you may fit your concentration data vs time to an exponential decay:</p>
$$C(t) = C_0 e^{-kt}$$<p>and thus compute a reaction rate. Using reaction rates at four temperatures, you may estimate the activation energy and pre-exponential empricial factor $A$ from the Arrhenius equation. Carefully propogate error at all steps and ensure your final confidence interval includes error from the measurements and the regression. Report the reaction rate in mol / s$\cdot$L and activation energy in kJ. Also, plot concentration vs time for one experiment with error bars on the data and your best fit line. Also plot the best-fit Arrhenius equation and your data with error bars. As a hint, here's the basic workflow of this problem:</p>
<ol>
<li>Compute concentration and error in concentration at each temperature</li>
<li>Fit the exponential equation above to the concentration vs time for each temperature to get a rate</li>
<li>Compute the error in that rate for each tempeture</li>
<li>Put the rates and temperatures onto one plot</li>
<li>Fit the Arrhenius equation to that plot</li>
<li>Compute the error in the Arrhenius plot terms</li>
</ol>
<p><em>Hints: you'll need to use <code>basinhopping</code> to do the minimization. Also, you should have variable measurement error for concentration due to error propogation.</em></p>

</div>
</div>
</div>
<div class="cell border-box-sizing text_cell rendered">
<div class="prompt input_prompt">
</div>
<div class="inner_cell">
<div class="text_cell_render border-box-sizing rendered_html">
<h2 id="$T-=-25^\circ$C">$T = 25^\circ$C<a class="anchor-link" href="#$T-=-25^\circ$C">&#182;</a></h2><ul>
<li>volume in mL</li>
<li>mass in g</li>
<li>time in minutes</li>
</ul>

</div>
</div>
</div>
<div class="cell border-box-sizing code_cell rendered">
<div class="input">
<div class="prompt input_prompt">In&nbsp;[2]:</div>
<div class="inner_cell">
    <div class="input_area">
<div class=" highlight hl-ipython3"><pre><span></span><span class="o">%</span><span class="k">matplotlib</span> inline
<span class="kn">import</span> <span class="nn">numpy</span> <span class="k">as</span> <span class="nn">np</span>
<span class="kn">import</span> <span class="nn">scipy</span>
<span class="kn">import</span> <span class="nn">matplotlib.pyplot</span> <span class="k">as</span> <span class="nn">plt</span>

<span class="kn">import</span> <span class="nn">numpy</span> <span class="k">as</span> <span class="nn">np</span>

<span class="n">volume_25</span> <span class="o">=</span> <span class="n">np</span><span class="o">.</span><span class="n">array</span><span class="p">([</span><span class="mf">276.1</span><span class="p">,</span> <span class="mf">240.5</span><span class="p">,</span>  <span class="mf">277.6</span><span class="p">,</span>  <span class="mf">260.3</span><span class="p">,</span>  <span class="mf">296.0</span><span class="p">,</span>  <span class="mf">237.1</span><span class="p">,</span>  <span class="mf">247.5</span><span class="p">,</span>  <span class="mf">263.2</span><span class="p">,</span>  <span class="mf">232.2</span><span class="p">,</span>  <span class="mf">264.1</span><span class="p">,</span>  <span class="mf">236.0</span><span class="p">,</span>  <span class="mf">262.2</span><span class="p">,</span>  <span class="mf">293.4</span><span class="p">,</span>  <span class="mf">268.6</span><span class="p">,</span>  <span class="mf">222.7</span><span class="p">,</span>  <span class="mf">280.5</span><span class="p">,</span>  <span class="mf">239.3</span><span class="p">,</span>  <span class="mf">267.6</span><span class="p">,</span>  <span class="mf">242.6</span><span class="p">,</span>  <span class="mf">225.5</span><span class="p">,</span>  <span class="mf">278.0</span><span class="p">])</span>
<span class="n">mass_25</span> <span class="o">=</span> <span class="n">np</span><span class="o">.</span><span class="n">array</span><span class="p">([</span> <span class="mf">13.8</span><span class="p">,</span>  <span class="mf">10.1</span><span class="p">,</span>   <span class="mf">12.8</span><span class="p">,</span>   <span class="mf">12.3</span><span class="p">,</span>   <span class="mf">12.8</span><span class="p">,</span>    <span class="mf">9.7</span><span class="p">,</span>    <span class="mf">9.2</span><span class="p">,</span>   <span class="mf">10.3</span><span class="p">,</span>    <span class="mf">8.2</span><span class="p">,</span>    <span class="mf">8.1</span><span class="p">,</span>    <span class="mf">7.8</span><span class="p">,</span>    <span class="mf">8.1</span><span class="p">,</span>    <span class="mf">8.4</span><span class="p">,</span>    <span class="mf">7.6</span><span class="p">,</span>    <span class="mf">5.3</span><span class="p">,</span>    <span class="mf">7.4</span><span class="p">,</span>    <span class="mf">5.2</span><span class="p">,</span>    <span class="mf">5.4</span><span class="p">,</span>    <span class="mf">5.2</span><span class="p">,</span>    <span class="mf">4.2</span><span class="p">,</span>    <span class="mf">4.9</span><span class="p">])</span>
<span class="n">time</span> <span class="o">=</span> <span class="n">np</span><span class="o">.</span><span class="n">array</span><span class="p">([</span><span class="mi">0</span><span class="p">,</span> <span class="mi">480</span><span class="p">,</span>  <span class="mi">960</span><span class="p">,</span>  <span class="mi">1440</span><span class="p">,</span>  <span class="mi">1920</span><span class="p">,</span>  <span class="mi">2400</span><span class="p">,</span>  <span class="mi">2880</span><span class="p">,</span>  <span class="mi">3360</span><span class="p">,</span>  <span class="mi">3840</span><span class="p">,</span>  <span class="mi">4320</span><span class="p">,</span>  <span class="mi">4800</span><span class="p">,</span>  <span class="mi">5280</span><span class="p">,</span>  <span class="mi">5760</span><span class="p">,</span>  <span class="mi">6240</span><span class="p">,</span>  <span class="mi">6720</span><span class="p">,</span>  <span class="mi">7200</span><span class="p">,</span>  <span class="mi">7680</span><span class="p">,</span>  <span class="mi">8160</span><span class="p">,</span>  <span class="mi">8640</span><span class="p">,</span>  <span class="mi">9120</span><span class="p">,</span>  <span class="mi">9600</span><span class="p">])</span>
</pre></div>

</div>
</div>
</div>

</div>
<div class="cell border-box-sizing text_cell rendered">
<div class="prompt input_prompt">
</div>
<div class="inner_cell">
<div class="text_cell_render border-box-sizing rendered_html">
<p>Let's first compute the measurement error in concentration due to our error in volume and mass:</p>
$$c = f(m,v) = \frac{m}{MW v}$$<p></p>
<p>Notice we do not need to consider molecular weight, since it is known exactly.</p>
$$\sigma_{c}^2 = \left(\frac{\partial f(m, v)}{\partial v}\right)^2 \sigma_v^2  + \left(\frac{\partial f(m, v)}{\partial m}\right)^2 \sigma_m^2$$$$\sigma_c^2 = \frac{m^2}{MW^2 v^4}\sigma_v^2 + \frac{1}{MW^2 v^2}\sigma_m^2$$
</div>
</div>
</div>
<div class="cell border-box-sizing code_cell rendered">
<div class="input">
<div class="prompt input_prompt">In&nbsp;[3]:</div>
<div class="inner_cell">
    <div class="input_area">
<div class=" highlight hl-ipython3"><pre><span></span><span class="c1">#Setup constants and divens</span>
<span class="n">MW</span> <span class="o">=</span> <span class="mf">125.0</span>
<span class="n">terr</span> <span class="o">=</span> <span class="mf">5.0</span>
<span class="n">merr</span> <span class="o">=</span> <span class="mf">0.5</span>
<span class="n">verr</span> <span class="o">=</span> <span class="mf">0.25</span>
<span class="c1">#compute concentration and error in concentration </span>
<span class="n">c_25</span> <span class="o">=</span> <span class="n">mass_25</span> <span class="o">/</span> <span class="n">volume_25</span> <span class="o">*</span> <span class="p">(</span><span class="mi">1000</span> <span class="o">/</span> <span class="n">MW</span><span class="p">)</span>
<span class="n">c_25_err</span> <span class="o">=</span> <span class="n">np</span><span class="o">.</span><span class="n">sqrt</span><span class="p">(</span> <span class="mf">1.0</span> <span class="o">/</span> <span class="p">(</span><span class="n">volume_25</span><span class="p">)</span><span class="o">**</span><span class="mi">2</span> <span class="o">*</span> <span class="n">merr</span><span class="o">**</span><span class="mi">2</span> <span class="o">+</span> <span class="n">mass_25</span><span class="o">**</span><span class="mi">2</span> <span class="o">/</span> <span class="n">volume_25</span><span class="o">**</span><span class="mi">4</span> <span class="o">*</span> <span class="n">verr</span><span class="o">**</span><span class="mi">2</span> <span class="p">)</span> <span class="o">*</span> <span class="mf">1000.0</span> <span class="o">/</span> <span class="n">MW</span>
<span class="nb">print</span> <span class="n">c_25_err</span><span class="p">,</span> <span class="n">c_25</span>
<span class="c1">#plot em</span>
<span class="n">plt</span><span class="o">.</span><span class="n">errorbar</span><span class="p">(</span><span class="n">time</span><span class="p">,</span> <span class="n">c_25</span><span class="p">,</span> <span class="n">xerr</span><span class="o">=</span><span class="n">terr</span><span class="p">,</span> <span class="n">yerr</span><span class="o">=</span><span class="n">c_25_err</span><span class="p">,</span> <span class="n">capthick</span><span class="o">=</span><span class="mi">3</span><span class="p">)</span>
<span class="n">plt</span><span class="o">.</span><span class="n">ylabel</span><span class="p">(</span><span class="s1">&#39;Concentration [mol/L]&#39;</span><span class="p">)</span>
<span class="n">plt</span><span class="o">.</span><span class="n">xlabel</span><span class="p">(</span><span class="s1">&#39;Time [minutes]&#39;</span><span class="p">)</span>
<span class="n">plt</span><span class="o">.</span><span class="n">show</span><span class="p">()</span>
</pre></div>

</div>
</div>
</div>

<div class="output_wrapper">
<div class="output">


<div class="output_area">
<div class="prompt"></div>

<div class="output_subarea output_stream output_stdout output_text">
<pre>[ 0.01449203  0.01663568  0.01441305  0.01537117  0.01351667  0.01687405
  0.01616441  0.01520048  0.01722921  0.01514756  0.01695147  0.01525735
  0.01363466  0.01489352  0.01796265  0.01426149  0.01671641  0.01494844
  0.01648899  0.01773913  0.01438905] [ 0.39985512  0.33596674  0.36887608  0.37802536  0.34594595  0.32728806
  0.29737374  0.31306991  0.28251507  0.24536161  0.26440678  0.24713959
  0.22903885  0.2263589   0.19039066  0.21105169  0.17384037  0.16143498
  0.17147568  0.14900222  0.14100719]
</pre>
</div>
</div>

<div class="output_area">
<div class="prompt"></div>



<div class="output_png output_subarea ">
<img src="data:image/png;base64,iVBORw0KGgoAAAANSUhEUgAAAZQAAAEPCAYAAABlZDIgAAAABHNCSVQICAgIfAhkiAAAAAlwSFlz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"
>
</div>

</div>

</div>
</div>

</div>
<div class="cell border-box-sizing text_cell rendered">
<div class="prompt input_prompt">
</div>
<div class="inner_cell">
<div class="text_cell_render border-box-sizing rendered_html">
<p>For the analysis, we have two adjustable parameters: $C_0$ and $k$. This requires weighted-least squares in the non-linear regression setting. First, let's compute our weights. The equation is:</p>
$$W_i = \frac{1}{\sigma^2_{c_i} + \sigma_{f(t_i)}^2}$$$$\sigma_{f(x_i)}^2 = \left(\frac{\partial C_0e^{-kt}}{\partial t}\right)^2 \sigma_{t}^2 = C_0^2k^2e^{-2kt} \sigma_t^2$$<p>We'll just use $\hat{C}_0$ as our first concentration measurement. However, we cannot forget it is an adjustable parameter in our error analysis.</p>

</div>
</div>
</div>
<div class="cell border-box-sizing code_cell rendered">
<div class="input">
<div class="prompt input_prompt">In&nbsp;[4]:</div>
<div class="inner_cell">
    <div class="input_area">
<div class=" highlight hl-ipython3"><pre><span></span><span class="kn">import</span> <span class="nn">scipy.stats</span>
<span class="c1">#This our weighted SSR following the derivation above.</span>
<span class="k">def</span> <span class="nf">WSSR</span><span class="p">(</span><span class="n">k</span><span class="p">,</span> <span class="n">t</span><span class="p">,</span> <span class="n">c</span><span class="p">,</span> <span class="n">terr</span><span class="p">,</span> <span class="n">cerr</span><span class="p">):</span>
    <span class="n">w</span> <span class="o">=</span> <span class="mf">1.0</span> <span class="o">/</span> <span class="p">(</span><span class="n">cerr</span><span class="o">**</span><span class="mi">2</span> <span class="o">+</span> <span class="n">terr</span><span class="o">**</span><span class="mi">2</span> <span class="o">*</span> <span class="p">(</span><span class="n">k</span> <span class="o">*</span> <span class="n">np</span><span class="o">.</span><span class="n">exp</span><span class="p">(</span><span class="o">-</span><span class="n">k</span> <span class="o">*</span> <span class="n">t</span><span class="p">))</span><span class="o">**</span><span class="mi">2</span><span class="p">)</span>
    <span class="n">chat</span> <span class="o">=</span> <span class="n">c</span><span class="p">[</span><span class="mi">0</span><span class="p">]</span> <span class="o">*</span> <span class="n">np</span><span class="o">.</span><span class="n">exp</span><span class="p">(</span><span class="o">-</span><span class="n">k</span> <span class="o">*</span> <span class="n">t</span><span class="p">)</span>
    <span class="k">return</span> <span class="n">np</span><span class="o">.</span><span class="n">sum</span><span class="p">(</span><span class="n">w</span><span class="o">*</span><span class="p">(</span><span class="n">chat</span> <span class="o">-</span> <span class="n">c</span><span class="p">)</span><span class="o">**</span><span class="mi">2</span><span class="p">)</span>


<span class="c1">#WE need to bound this and use basin_hopping because it is a non-linear problem</span>
<span class="n">mini_args</span> <span class="o">=</span> <span class="p">{</span><span class="s1">&#39;bounds&#39;</span><span class="p">:</span> <span class="p">[(</span><span class="mi">10</span><span class="o">**-</span><span class="mi">10</span><span class="p">,</span> <span class="mi">10</span><span class="p">)]}</span>
<span class="n">result</span> <span class="o">=</span> <span class="n">scipy</span><span class="o">.</span><span class="n">optimize</span><span class="o">.</span><span class="n">basinhopping</span><span class="p">(</span><span class="k">lambda</span> <span class="n">s</span><span class="p">:</span> <span class="n">WSSR</span><span class="p">(</span><span class="n">s</span><span class="p">,</span> <span class="n">time</span><span class="p">,</span> <span class="n">c_25</span><span class="p">,</span> <span class="n">terr</span><span class="p">,</span> <span class="n">c_25_err</span><span class="p">),</span> <span class="n">x0</span><span class="o">=</span><span class="mf">0.1</span><span class="p">,</span> <span class="n">minimizer_kwargs</span><span class="o">=</span><span class="n">mini_args</span><span class="p">,</span> <span class="n">niter</span><span class="o">=</span><span class="mi">1000</span><span class="p">)</span>
<span class="nb">print</span> <span class="n">result</span>

<span class="c1">#now get the predicted chats and compare </span>
<span class="n">chat</span> <span class="o">=</span> <span class="n">c_25</span><span class="p">[</span><span class="mi">0</span><span class="p">]</span> <span class="o">*</span> <span class="n">np</span><span class="o">.</span><span class="n">exp</span><span class="p">(</span><span class="o">-</span><span class="n">result</span><span class="o">.</span><span class="n">x</span> <span class="o">*</span> <span class="n">time</span><span class="p">)</span>
<span class="n">plt</span><span class="o">.</span><span class="n">errorbar</span><span class="p">(</span><span class="n">time</span><span class="p">,</span> <span class="n">c_25</span><span class="p">,</span> <span class="n">xerr</span><span class="o">=</span><span class="n">terr</span><span class="p">,</span> <span class="n">yerr</span><span class="o">=</span><span class="n">c_25_err</span><span class="p">,</span> <span class="n">capthick</span><span class="o">=</span><span class="mi">3</span><span class="p">)</span>
<span class="n">plt</span><span class="o">.</span><span class="n">plot</span><span class="p">(</span><span class="n">time</span><span class="p">,</span> <span class="n">chat</span><span class="p">)</span>
<span class="n">plt</span><span class="o">.</span><span class="n">show</span><span class="p">()</span>
</pre></div>

</div>
</div>
</div>

<div class="output_wrapper">
<div class="output">


<div class="output_area">
<div class="prompt"></div>

<div class="output_subarea output_stream output_stdout output_text">
<pre>                  nfev: 47238
 minimization_failures: 2
                   fun: 24.759824922716565
                     x: array([  9.80721733e-05])
               message: [&#39;requested number of basinhopping iterations completed successfully&#39;]
                   nit: 1000
</pre>
</div>
</div>

<div class="output_area">
<div class="prompt"></div>

<div class="output_subarea output_stream output_stderr output_text">
<pre>/usr/lib/python2.7/dist-packages/scipy/optimize/_basinhopping.py:290: RuntimeWarning: overflow encountered in exp
  w = min(1.0, np.exp(-(energy_new - energy_old) * self.beta))
</pre>
</div>
</div>

<div class="output_area">
<div class="prompt"></div>



<div class="output_png output_subarea ">
<img src="data:image/png;base64,iVBORw0KGgoAAAANSUhEUgAAAYUAAAEACAYAAABcXmojAAAABHNCSVQICAgIfAhkiAAAAAlwSFlz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"
>
</div>

</div>

</div>
</div>

</div>
<div class="cell border-box-sizing text_cell rendered">
<div class="prompt input_prompt">
</div>
<div class="inner_cell">
<div class="text_cell_render border-box-sizing rendered_html">
<p>We need to find the standard error in the fit rate. We start by building our $\mathbf{F}$ matrix:</p>
$$F_{ij} = \left. \frac{\partial f(\beta, x)}{\partial \beta_j}\right|_{x=x_i}$$$$F_{i1} = \left. \frac{\partial (C_0e^{-kt})}{\partial k}\right|_{t=t_i} = -t_iC_0e^{-kt_i}$$$$F_{i2} = \left. \frac{\partial (C_0e^{-kt})}{\partial C_0}\right|_{t=t_i} = e^{-kt_i}$$<p>Recall, that even though we just used our first concentration point as our estimate for $\hat{C}_0$, we have to propogate error in that measurement. Next we need the standard error in the residuals:</p>
$$S_{\epsilon}^2 = \frac{\sigma_{\epsilon}^2 + \frac{1}{N}\sum_i^N \sigma_{f(x_i)}^2 + \frac{1}{N} \sum_i^N \sigma_c^2}{N - 2}$$<p>where $\sigma_\epsilon^2 = \frac{1}{N}\sum_i^N (\hat{y} - y)^2$</p>
<p>The $-2$ is OK to omit, but accounts for our degrees of freedom. We need to find the variance in $f(x_i)$ term, which we already found for the weights. It is:</p>
$$\sigma_{f(x_i)}^2 = \left(\frac{\partial C_0e^{-kt}}{\partial t}\right)^2 \sigma_{t}^2 = C_0^2k^2e^{-2kt} \sigma_t^2$$<p>Now, combining the $\mathbf{F}$ matrix with the standard error in the residuals:</p>
$$S_{\beta}^2 = S_{\epsilon}^2(\mathbf{F}^T\mathbf{F})^{-1}$$<h2 id="For-grading-purposes,-it's-ok-to-only-do-error-in-k-but-notice-that-will-slightly-change-the-uncertainty-values">For grading purposes, it's ok to only do error in k but notice that will slightly change the uncertainty values<a class="anchor-link" href="#For-grading-purposes,-it's-ok-to-only-do-error-in-k-but-notice-that-will-slightly-change-the-uncertainty-values">&#182;</a></h2>
</div>
</div>
</div>
<div class="cell border-box-sizing code_cell rendered">
<div class="input">
<div class="prompt input_prompt">In&nbsp;[5]:</div>
<div class="inner_cell">
    <div class="input_area">
<div class=" highlight hl-ipython3"><pre><span></span><span class="kn">import</span> <span class="nn">numpy.linalg</span> <span class="k">as</span> <span class="nn">linalg</span>

<span class="c1">#Get the best fit</span>
<span class="n">khat</span> <span class="o">=</span> <span class="n">result</span><span class="o">.</span><span class="n">x</span>
<span class="c1">#Now we computer error in residuals</span>
<span class="n">s2_e</span> <span class="o">=</span> <span class="p">(</span><span class="n">np</span><span class="o">.</span><span class="n">sum</span><span class="p">((</span><span class="n">chat</span> <span class="o">-</span> <span class="n">c_25</span><span class="p">)</span><span class="o">**</span><span class="mi">2</span><span class="p">)</span> <span class="o">+</span> <span class="n">np</span><span class="o">.</span><span class="n">sum</span><span class="p">(</span><span class="n">c_25_err</span><span class="o">**</span><span class="mi">2</span><span class="p">)</span> <span class="o">+</span> <span class="n">np</span><span class="o">.</span><span class="n">sum</span><span class="p">((</span><span class="n">c_25</span><span class="p">[</span><span class="mi">0</span><span class="p">]</span> <span class="o">*</span> <span class="n">khat</span> <span class="o">*</span> <span class="n">np</span><span class="o">.</span><span class="n">exp</span><span class="p">(</span><span class="o">-</span><span class="n">khat</span> <span class="o">*</span> <span class="n">time</span><span class="p">)</span> <span class="o">*</span> <span class="n">terr</span><span class="p">)</span><span class="o">**</span><span class="mi">2</span><span class="p">))</span> <span class="o">/</span> <span class="p">(</span><span class="nb">len</span><span class="p">(</span><span class="n">time</span><span class="p">)</span> <span class="o">-</span> <span class="mi">2</span><span class="p">)</span>
<span class="nb">print</span> <span class="n">s2_e</span>
<span class="c1">#Stack our f-matrix.</span>
<span class="n">F_mat</span> <span class="o">=</span> <span class="n">np</span><span class="o">.</span><span class="n">column_stack</span><span class="p">(</span> <span class="p">(</span><span class="o">-</span><span class="n">time</span> <span class="o">*</span> <span class="n">c_25</span><span class="p">[</span><span class="mi">0</span><span class="p">]</span> <span class="o">*</span> <span class="n">np</span><span class="o">.</span><span class="n">exp</span><span class="p">(</span><span class="o">-</span><span class="n">khat</span> <span class="o">*</span> <span class="n">time</span><span class="p">),</span> <span class="n">np</span><span class="o">.</span><span class="n">exp</span><span class="p">(</span><span class="o">-</span><span class="n">khat</span> <span class="o">*</span> <span class="n">time</span><span class="p">)</span> <span class="p">)</span> <span class="p">)</span>
<span class="c1">#and now compute uncertainty</span>
<span class="n">s2_beta</span> <span class="o">=</span> <span class="n">s2_e</span> <span class="o">*</span> <span class="n">linalg</span><span class="o">.</span><span class="n">inv</span><span class="p">(</span><span class="n">F_mat</span><span class="o">.</span><span class="n">transpose</span><span class="p">()</span><span class="o">.</span><span class="n">dot</span><span class="p">(</span><span class="n">F_mat</span><span class="p">))</span>
<span class="nb">print</span> <span class="n">khat</span><span class="p">,</span> <span class="n">np</span><span class="o">.</span><span class="n">sqrt</span><span class="p">(</span><span class="n">s2_beta</span><span class="p">[</span><span class="mi">0</span><span class="p">,</span> <span class="mi">0</span><span class="p">])</span>
<span class="n">khat_25</span> <span class="o">=</span> <span class="n">khat</span>
<span class="n">kerr_25</span> <span class="o">=</span> <span class="n">np</span><span class="o">.</span><span class="n">sqrt</span><span class="p">(</span><span class="n">s2_beta</span><span class="p">[</span><span class="mi">0</span><span class="p">,</span><span class="mi">0</span><span class="p">])</span>
</pre></div>

</div>
</div>
</div>

<div class="output_wrapper">
<div class="output">


<div class="output_area">
<div class="prompt"></div>

<div class="output_subarea output_stream output_stdout output_text">
<pre>0.000598825916206
[  9.80721733e-05] 7.46021701307e-06
</pre>
</div>
</div>

</div>
</div>

</div>
<div class="cell border-box-sizing text_cell rendered">
<div class="prompt input_prompt">
</div>
<div class="inner_cell">
<div class="text_cell_render border-box-sizing rendered_html">
<p>Now, let's turn this into a function to make it easier</p>

</div>
</div>
</div>
<div class="cell border-box-sizing code_cell rendered">
<div class="input">
<div class="prompt input_prompt">In&nbsp;[7]:</div>
<div class="inner_cell">
    <div class="input_area">
<div class=" highlight hl-ipython3"><pre><span></span><span class="c1">#Givens</span>

<span class="n">MW</span> <span class="o">=</span> <span class="mf">125.0</span>
<span class="n">terr</span> <span class="o">=</span> <span class="mf">5.0</span>
<span class="n">merr</span> <span class="o">=</span> <span class="mf">0.5</span>
<span class="n">verr</span> <span class="o">=</span> <span class="mf">0.25</span>

<span class="c1">#The SSR function to minimize</span>
<span class="k">def</span> <span class="nf">WSSR</span><span class="p">(</span><span class="n">k</span><span class="p">,</span> <span class="n">t</span><span class="p">,</span> <span class="n">c</span><span class="p">,</span> <span class="n">terr</span><span class="p">,</span> <span class="n">cerr</span><span class="p">):</span>
    <span class="n">w</span> <span class="o">=</span> <span class="mf">1.0</span> <span class="o">/</span> <span class="p">(</span><span class="n">cerr</span><span class="o">**</span><span class="mi">2</span> <span class="o">+</span> <span class="n">terr</span><span class="o">**</span><span class="mi">2</span> <span class="o">*</span> <span class="p">(</span><span class="n">k</span> <span class="o">*</span> <span class="n">np</span><span class="o">.</span><span class="n">exp</span><span class="p">(</span><span class="o">-</span><span class="n">k</span> <span class="o">*</span> <span class="n">t</span><span class="p">))</span><span class="o">**</span><span class="mi">2</span><span class="p">)</span>
    <span class="n">chat</span> <span class="o">=</span> <span class="n">c</span><span class="p">[</span><span class="mi">0</span><span class="p">]</span> <span class="o">*</span> <span class="n">np</span><span class="o">.</span><span class="n">exp</span><span class="p">(</span><span class="o">-</span><span class="n">k</span> <span class="o">*</span> <span class="n">t</span><span class="p">)</span>
    <span class="k">return</span> <span class="n">np</span><span class="o">.</span><span class="n">sum</span><span class="p">(</span><span class="n">w</span><span class="o">*</span><span class="p">(</span><span class="n">chat</span> <span class="o">-</span> <span class="n">c</span><span class="p">)</span><span class="o">**</span><span class="mi">2</span><span class="p">)</span>


<span class="k">def</span> <span class="nf">regress_data</span><span class="p">(</span><span class="n">time</span><span class="p">,</span> <span class="n">volume</span><span class="p">,</span> <span class="n">mass</span><span class="p">):</span>
    
    <span class="c1">#compute c and error</span>
    <span class="n">c</span> <span class="o">=</span> <span class="n">mass</span> <span class="o">/</span> <span class="n">volume</span> <span class="o">*</span> <span class="p">(</span><span class="mi">1000</span> <span class="o">/</span> <span class="n">MW</span><span class="p">)</span>
    <span class="n">c_err</span> <span class="o">=</span> <span class="n">np</span><span class="o">.</span><span class="n">sqrt</span><span class="p">(</span> <span class="mf">1.0</span> <span class="o">/</span> <span class="p">(</span><span class="n">volume</span><span class="p">)</span><span class="o">**</span><span class="mi">2</span> <span class="o">*</span> <span class="n">merr</span><span class="o">**</span><span class="mi">2</span> <span class="o">+</span> <span class="n">mass</span><span class="o">**</span><span class="mi">2</span> <span class="o">/</span> <span class="n">volume</span><span class="o">**</span><span class="mi">4</span> <span class="o">*</span> <span class="n">verr</span><span class="o">**</span><span class="mi">2</span> <span class="p">)</span> <span class="o">*</span> <span class="mf">1000.0</span> <span class="o">/</span> <span class="n">MW</span>
    
    <span class="c1">#compute the best-fit</span>
    <span class="n">mini_args</span> <span class="o">=</span> <span class="p">{</span><span class="s1">&#39;bounds&#39;</span><span class="p">:</span> <span class="p">[(</span><span class="mi">10</span><span class="o">**-</span><span class="mi">10</span><span class="p">,</span> <span class="mi">10</span><span class="p">)]}</span>
    <span class="n">result</span> <span class="o">=</span> <span class="n">scipy</span><span class="o">.</span><span class="n">optimize</span><span class="o">.</span><span class="n">basinhopping</span><span class="p">(</span><span class="k">lambda</span> <span class="n">s</span><span class="p">:</span> <span class="n">WSSR</span><span class="p">(</span><span class="n">s</span><span class="p">,</span> <span class="n">time</span><span class="p">,</span> <span class="n">c</span><span class="p">,</span> <span class="n">terr</span><span class="p">,</span> <span class="n">c_err</span><span class="p">),</span> <span class="n">x0</span><span class="o">=</span><span class="mf">0.1</span><span class="p">,</span> <span class="n">minimizer_kwargs</span><span class="o">=</span><span class="n">mini_args</span><span class="p">,</span> <span class="n">niter</span><span class="o">=</span><span class="mi">1000</span><span class="p">)</span>
    
    <span class="c1">#plot it and compute chats    </span>
    <span class="n">chat</span> <span class="o">=</span> <span class="n">c</span><span class="p">[</span><span class="mi">0</span><span class="p">]</span> <span class="o">*</span> <span class="n">np</span><span class="o">.</span><span class="n">exp</span><span class="p">(</span><span class="o">-</span><span class="n">result</span><span class="o">.</span><span class="n">x</span> <span class="o">*</span> <span class="n">time</span><span class="p">)</span>
    <span class="n">plt</span><span class="o">.</span><span class="n">plot</span><span class="p">(</span><span class="n">time</span><span class="p">,</span> <span class="n">chat</span><span class="p">)</span>
    <span class="n">plt</span><span class="o">.</span><span class="n">errorbar</span><span class="p">(</span><span class="n">time</span><span class="p">,</span> <span class="n">c</span><span class="p">,</span> <span class="n">xerr</span><span class="o">=</span><span class="n">terr</span><span class="p">,</span> <span class="n">yerr</span><span class="o">=</span><span class="n">c_err</span><span class="p">,</span> <span class="n">capthick</span><span class="o">=</span><span class="mi">3</span><span class="p">)</span>
    <span class="n">plt</span><span class="o">.</span><span class="n">ylabel</span><span class="p">(</span><span class="s1">&#39;Concentration [mol/L]&#39;</span><span class="p">)</span>
    <span class="n">plt</span><span class="o">.</span><span class="n">xlabel</span><span class="p">(</span><span class="s1">&#39;Time [minutes]&#39;</span><span class="p">)</span>
    <span class="n">plt</span><span class="o">.</span><span class="n">show</span><span class="p">()</span>
    
    <span class="c1">#uncertainty analysis</span>
    <span class="n">khat</span> <span class="o">=</span> <span class="n">result</span><span class="o">.</span><span class="n">x</span>
    <span class="n">s2_e</span> <span class="o">=</span> <span class="p">(</span><span class="n">np</span><span class="o">.</span><span class="n">sum</span><span class="p">((</span><span class="n">chat</span> <span class="o">-</span> <span class="n">c</span><span class="p">)</span><span class="o">**</span><span class="mi">2</span><span class="p">)</span> <span class="o">+</span> <span class="n">np</span><span class="o">.</span><span class="n">sum</span><span class="p">(</span><span class="n">c_err</span><span class="o">**</span><span class="mi">2</span><span class="p">)</span> <span class="o">+</span> <span class="n">np</span><span class="o">.</span><span class="n">sum</span><span class="p">((</span><span class="n">c</span><span class="p">[</span><span class="mi">0</span><span class="p">]</span> <span class="o">*</span> <span class="n">khat</span> <span class="o">*</span> <span class="n">np</span><span class="o">.</span><span class="n">exp</span><span class="p">(</span><span class="o">-</span><span class="n">khat</span> <span class="o">*</span> <span class="n">time</span><span class="p">)</span> <span class="o">*</span> <span class="n">terr</span><span class="p">)</span><span class="o">**</span><span class="mi">2</span><span class="p">))</span> <span class="o">/</span> <span class="p">(</span><span class="nb">len</span><span class="p">(</span><span class="n">time</span><span class="p">)</span> <span class="o">-</span> <span class="mi">2</span><span class="p">)</span>
    <span class="n">F_mat</span> <span class="o">=</span> <span class="n">np</span><span class="o">.</span><span class="n">column_stack</span><span class="p">(</span> <span class="p">(</span><span class="o">-</span><span class="n">time</span> <span class="o">*</span> <span class="n">c</span><span class="p">[</span><span class="mi">0</span><span class="p">]</span> <span class="o">*</span> <span class="n">np</span><span class="o">.</span><span class="n">exp</span><span class="p">(</span><span class="o">-</span><span class="n">khat</span> <span class="o">*</span> <span class="n">time</span><span class="p">),</span> <span class="n">np</span><span class="o">.</span><span class="n">exp</span><span class="p">(</span><span class="o">-</span><span class="n">khat</span> <span class="o">*</span> <span class="n">time</span><span class="p">)</span> <span class="p">)</span> <span class="p">)</span>
    <span class="c1">#print F_mat</span>
    <span class="n">s2_beta</span> <span class="o">=</span> <span class="n">s2_e</span> <span class="o">*</span> <span class="n">linalg</span><span class="o">.</span><span class="n">inv</span><span class="p">(</span><span class="n">F_mat</span><span class="o">.</span><span class="n">transpose</span><span class="p">()</span><span class="o">.</span><span class="n">dot</span><span class="p">(</span><span class="n">F_mat</span><span class="p">))</span>
    <span class="k">return</span> <span class="n">khat</span><span class="p">,</span> <span class="n">np</span><span class="o">.</span><span class="n">sqrt</span><span class="p">(</span><span class="n">s2_beta</span><span class="p">[</span><span class="mi">0</span><span class="p">,</span> <span class="mi">0</span><span class="p">])</span>
</pre></div>

</div>
</div>
</div>

</div>
<div class="cell border-box-sizing text_cell rendered">
<div class="prompt input_prompt">
</div>
<div class="inner_cell">
<div class="text_cell_render border-box-sizing rendered_html">
<h2 id="$T-=-30^\circ$C">$T = 30^\circ$C<a class="anchor-link" href="#$T-=-30^\circ$C">&#182;</a></h2><ul>
<li>volume in mL</li>
<li>mass in g</li>
<li>time in minutes</li>
</ul>

</div>
</div>
</div>
<div class="cell border-box-sizing code_cell rendered">
<div class="input">
<div class="prompt input_prompt">In&nbsp;[8]:</div>
<div class="inner_cell">
    <div class="input_area">
<div class=" highlight hl-ipython3"><pre><span></span><span class="n">volume_30</span> <span class="o">=</span> <span class="n">np</span><span class="o">.</span><span class="n">array</span><span class="p">([</span><span class="mf">243.7</span><span class="p">,</span> <span class="mf">262.7</span><span class="p">,</span>  <span class="mf">247.4</span><span class="p">,</span>  <span class="mf">224.4</span><span class="p">,</span>  <span class="mf">225.0</span><span class="p">,</span>  <span class="mf">298.5</span><span class="p">,</span>  <span class="mf">233.0</span><span class="p">,</span>  <span class="mf">285.7</span><span class="p">,</span>  <span class="mf">227.5</span><span class="p">,</span>  <span class="mf">243.3</span><span class="p">,</span>  <span class="mf">240.3</span><span class="p">,</span>  <span class="mf">276.1</span><span class="p">,</span>  <span class="mf">276.4</span><span class="p">,</span>  <span class="mf">228.0</span><span class="p">,</span>  <span class="mf">245.2</span><span class="p">,</span>  <span class="mf">236.0</span><span class="p">,</span>  <span class="mf">261.1</span><span class="p">,</span>  <span class="mf">243.3</span><span class="p">,</span>  <span class="mf">275.9</span><span class="p">,</span>  <span class="mf">239.5</span><span class="p">,</span>  <span class="mf">208.0</span><span class="p">])</span>
<span class="n">mass_30</span> <span class="o">=</span> <span class="n">np</span><span class="o">.</span><span class="n">array</span><span class="p">([</span> <span class="mf">12.1</span><span class="p">,</span>  <span class="mf">12.4</span><span class="p">,</span>    <span class="mf">9.0</span><span class="p">,</span>    <span class="mf">8.5</span><span class="p">,</span>    <span class="mf">7.3</span><span class="p">,</span>    <span class="mf">8.3</span><span class="p">,</span>    <span class="mf">4.8</span><span class="p">,</span>    <span class="mf">5.3</span><span class="p">,</span>    <span class="mf">3.3</span><span class="p">,</span>    <span class="mf">3.6</span><span class="p">,</span>    <span class="mf">2.6</span><span class="p">,</span>    <span class="mf">2.6</span><span class="p">,</span>    <span class="mf">2.4</span><span class="p">,</span>    <span class="mf">1.5</span><span class="p">,</span>    <span class="mf">2.4</span><span class="p">,</span>    <span class="mf">1.2</span><span class="p">,</span>    <span class="mf">2.3</span><span class="p">,</span>    <span class="mf">2.0</span><span class="p">,</span>    <span class="mf">2.2</span><span class="p">,</span>    <span class="mf">0.9</span><span class="p">,</span>    <span class="mf">0.4</span><span class="p">])</span>
</pre></div>

</div>
</div>
</div>

</div>
<div class="cell border-box-sizing code_cell rendered">
<div class="input">
<div class="prompt input_prompt">In&nbsp;[9]:</div>
<div class="inner_cell">
    <div class="input_area">
<div class=" highlight hl-ipython3"><pre><span></span><span class="n">khat_30</span><span class="p">,</span> <span class="n">kerr_30</span> <span class="o">=</span> <span class="n">regress_data</span><span class="p">(</span><span class="n">time</span><span class="p">,</span> <span class="n">volume_30</span><span class="p">,</span> <span class="n">mass_30</span><span class="p">)</span>
</pre></div>

</div>
</div>
</div>

<div class="output_wrapper">
<div class="output">


<div class="output_area">
<div class="prompt"></div>



<div class="output_png output_subarea ">
<img src="data:image/png;base64,iVBORw0KGgoAAAANSUhEUgAAAZUAAAEPCAYAAACKplkeAAAABHNCSVQICAgIfAhkiAAAAAlwSFlz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"
>
</div>

</div>

</div>
</div>

</div>
<div class="cell border-box-sizing text_cell rendered">
<div class="prompt input_prompt">
</div>
<div class="inner_cell">
<div class="text_cell_render border-box-sizing rendered_html">
<h2 id="$T-=--10^\circ$C">$T = -10^\circ$C<a class="anchor-link" href="#$T-=--10^\circ$C">&#182;</a></h2><ul>
<li>volume in mL</li>
<li>mass in g</li>
<li>time in minutes</li>
</ul>

</div>
</div>
</div>
<div class="cell border-box-sizing code_cell rendered">
<div class="input">
<div class="prompt input_prompt">In&nbsp;[10]:</div>
<div class="inner_cell">
    <div class="input_area">
<div class=" highlight hl-ipython3"><pre><span></span><span class="n">volume_10</span> <span class="o">=</span> <span class="n">np</span><span class="o">.</span><span class="n">array</span><span class="p">([</span><span class="mf">254.1</span><span class="p">,</span> <span class="mf">280.5</span><span class="p">,</span>  <span class="mf">265.7</span><span class="p">,</span>  <span class="mf">233.8</span><span class="p">,</span>  <span class="mf">258.8</span><span class="p">,</span>  <span class="mf">239.6</span><span class="p">,</span>  <span class="mf">279.0</span><span class="p">,</span>  <span class="mf">194.8</span><span class="p">,</span>  <span class="mf">285.9</span><span class="p">,</span>  <span class="mf">278.6</span><span class="p">,</span>  <span class="mf">281.0</span><span class="p">,</span>  <span class="mf">302.7</span><span class="p">,</span>  <span class="mf">265.3</span><span class="p">,</span>  <span class="mf">209.9</span><span class="p">,</span>  <span class="mf">278.0</span><span class="p">,</span>  <span class="mf">213.2</span><span class="p">,</span>  <span class="mf">243.3</span><span class="p">,</span>  <span class="mf">274.4</span><span class="p">,</span>  <span class="mf">238.9</span><span class="p">,</span>  <span class="mf">259.3</span><span class="p">,</span>  <span class="mf">251.6</span><span class="p">])</span>
<span class="n">mass_10</span> <span class="o">=</span> <span class="n">np</span><span class="o">.</span><span class="n">array</span><span class="p">([</span> <span class="mf">12.8</span><span class="p">,</span>  <span class="mf">13.6</span><span class="p">,</span>   <span class="mf">12.5</span><span class="p">,</span>   <span class="mf">11.4</span><span class="p">,</span>   <span class="mf">13.4</span><span class="p">,</span>   <span class="mf">12.5</span><span class="p">,</span>   <span class="mf">12.7</span><span class="p">,</span>   <span class="mf">10.2</span><span class="p">,</span>   <span class="mf">14.0</span><span class="p">,</span>   <span class="mf">13.7</span><span class="p">,</span>   <span class="mf">13.1</span><span class="p">,</span>   <span class="mf">14.2</span><span class="p">,</span>   <span class="mf">12.8</span><span class="p">,</span>    <span class="mf">9.2</span><span class="p">,</span>   <span class="mf">13.0</span><span class="p">,</span>    <span class="mf">8.9</span><span class="p">,</span>   <span class="mf">11.7</span><span class="p">,</span>   <span class="mf">12.8</span><span class="p">,</span>   <span class="mf">10.6</span><span class="p">,</span>   <span class="mf">12.2</span><span class="p">,</span>   <span class="mf">11.1</span><span class="p">])</span>
</pre></div>

</div>
</div>
</div>

</div>
<div class="cell border-box-sizing code_cell rendered">
<div class="input">
<div class="prompt input_prompt">In&nbsp;[11]:</div>
<div class="inner_cell">
    <div class="input_area">
<div class=" highlight hl-ipython3"><pre><span></span><span class="n">khat_m10</span><span class="p">,</span> <span class="n">kerr_m10</span> <span class="o">=</span> <span class="n">regress_data</span><span class="p">(</span><span class="n">time</span><span class="p">,</span> <span class="n">volume_10</span><span class="p">,</span> <span class="n">mass_10</span><span class="p">)</span>
</pre></div>

</div>
</div>
</div>

<div class="output_wrapper">
<div class="output">


<div class="output_area">
<div class="prompt"></div>



<div class="output_png output_subarea ">
<img src="data:image/png;base64,iVBORw0KGgoAAAANSUhEUgAAAZQAAAEPCAYAAABlZDIgAAAABHNCSVQICAgIfAhkiAAAAAlwSFlz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"
>
</div>

</div>

</div>
</div>

</div>
<div class="cell border-box-sizing text_cell rendered">
<div class="prompt input_prompt">
</div>
<div class="inner_cell">
<div class="text_cell_render border-box-sizing rendered_html">
<h2 id="$T-=-8^\circ$C">$T = 8^\circ$C<a class="anchor-link" href="#$T-=-8^\circ$C">&#182;</a></h2><ul>
<li>volume in mL</li>
<li>mass in g</li>
<li>time in minutes</li>
</ul>

</div>
</div>
</div>
<div class="cell border-box-sizing code_cell rendered">
<div class="input">
<div class="prompt input_prompt">In&nbsp;[12]:</div>
<div class="inner_cell">
    <div class="input_area">
<div class=" highlight hl-ipython3"><pre><span></span><span class="n">volume_8</span> <span class="o">=</span> <span class="n">np</span><span class="o">.</span><span class="n">array</span><span class="p">([</span><span class="mf">249.3</span><span class="p">,</span> <span class="mf">251.0</span><span class="p">,</span>  <span class="mf">202.6</span><span class="p">,</span>  <span class="mf">291.9</span><span class="p">,</span>  <span class="mf">251.6</span><span class="p">,</span>  <span class="mf">214.1</span><span class="p">,</span>  <span class="mf">272.5</span><span class="p">,</span>  <span class="mf">257.8</span><span class="p">,</span>  <span class="mf">274.7</span><span class="p">,</span>  <span class="mf">261.7</span><span class="p">,</span>  <span class="mf">227.6</span><span class="p">,</span>  <span class="mf">260.9</span><span class="p">,</span>  <span class="mf">295.4</span><span class="p">,</span>  <span class="mf">277.4</span><span class="p">,</span>  <span class="mf">237.2</span><span class="p">,</span>  <span class="mf">260.8</span><span class="p">,</span>  <span class="mf">243.0</span><span class="p">,</span>  <span class="mf">249.6</span><span class="p">,</span>  <span class="mf">258.0</span><span class="p">,</span>  <span class="mf">260.6</span><span class="p">,</span>  <span class="mf">272.4</span><span class="p">])</span>
<span class="n">mass_8</span> <span class="o">=</span> <span class="n">np</span><span class="o">.</span><span class="n">array</span><span class="p">([</span> <span class="mf">12.8</span><span class="p">,</span>  <span class="mf">12.3</span><span class="p">,</span>    <span class="mf">9.6</span><span class="p">,</span>   <span class="mf">14.2</span><span class="p">,</span>   <span class="mf">11.8</span><span class="p">,</span>   <span class="mf">10.1</span><span class="p">,</span>   <span class="mf">12.0</span><span class="p">,</span>   <span class="mf">11.0</span><span class="p">,</span>   <span class="mf">11.4</span><span class="p">,</span>   <span class="mf">11.1</span><span class="p">,</span>    <span class="mf">9.2</span><span class="p">,</span>   <span class="mf">11.0</span><span class="p">,</span>   <span class="mf">11.4</span><span class="p">,</span>   <span class="mf">11.2</span><span class="p">,</span>    <span class="mf">9.6</span><span class="p">,</span>   <span class="mf">10.1</span><span class="p">,</span>   <span class="mf">10.2</span><span class="p">,</span>    <span class="mf">9.2</span><span class="p">,</span>    <span class="mf">9.2</span><span class="p">,</span>    <span class="mf">8.8</span><span class="p">,</span>   <span class="mf">10.5</span><span class="p">])</span>
</pre></div>

</div>
</div>
</div>

</div>
<div class="cell border-box-sizing code_cell rendered">
<div class="input">
<div class="prompt input_prompt">In&nbsp;[13]:</div>
<div class="inner_cell">
    <div class="input_area">
<div class=" highlight hl-ipython3"><pre><span></span><span class="n">khat_8</span><span class="p">,</span> <span class="n">kerr_8</span> <span class="o">=</span> <span class="n">regress_data</span><span class="p">(</span><span class="n">time</span><span class="p">,</span> <span class="n">volume_8</span><span class="p">,</span> <span class="n">mass_8</span><span class="p">)</span>
</pre></div>

</div>
</div>
</div>

<div class="output_wrapper">
<div class="output">


<div class="output_area">
<div class="prompt"></div>



<div class="output_png output_subarea ">
<img src="data:image/png;base64,iVBORw0KGgoAAAANSUhEUgAAAZQAAAEPCAYAAABlZDIgAAAABHNCSVQICAgIfAhkiAAAAAlwSFlz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"
>
</div>

</div>

</div>
</div>

</div>
<div class="cell border-box-sizing text_cell rendered">
<div class="prompt input_prompt">
</div>
<div class="inner_cell">
<div class="text_cell_render border-box-sizing rendered_html">
<p>Now combine the results. Remember, that the temperature must be in an absolute scale</p>

</div>
</div>
</div>
<div class="cell border-box-sizing code_cell rendered">
<div class="input">
<div class="prompt input_prompt">In&nbsp;[16]:</div>
<div class="inner_cell">
    <div class="input_area">
<div class=" highlight hl-ipython3"><pre><span></span><span class="c1">#Put together our data</span>
<span class="n">k</span> <span class="o">=</span> <span class="n">np</span><span class="o">.</span><span class="n">array</span><span class="p">([</span><span class="n">khat_m10</span><span class="p">,</span> <span class="n">khat_8</span><span class="p">,</span> <span class="n">khat_25</span><span class="p">,</span> <span class="n">khat_30</span><span class="p">])</span>
<span class="n">k</span> <span class="o">=</span> <span class="n">np</span><span class="o">.</span><span class="n">reshape</span><span class="p">(</span><span class="n">k</span><span class="p">,</span> <span class="p">(</span><span class="mi">4</span><span class="p">,))</span>
<span class="n">kerr</span> <span class="o">=</span> <span class="n">np</span><span class="o">.</span><span class="n">array</span><span class="p">([</span><span class="n">kerr_m10</span><span class="p">,</span> <span class="n">kerr_8</span><span class="p">,</span> <span class="n">kerr_25</span><span class="p">,</span> <span class="n">kerr_30</span><span class="p">])</span>
<span class="n">temp</span> <span class="o">=</span> <span class="n">np</span><span class="o">.</span><span class="n">array</span><span class="p">([</span><span class="o">-</span><span class="mi">10</span><span class="p">,</span> <span class="mi">8</span><span class="p">,</span> <span class="mi">25</span><span class="p">,</span> <span class="mi">30</span><span class="p">])</span> <span class="o">+</span> <span class="mf">273.15</span>

<span class="c1">#Convert to kJ/ mol</span>
<span class="n">R</span> <span class="o">=</span> <span class="mf">8.314</span> <span class="o">/</span> <span class="mf">1000.0</span>

<span class="c1">#our new WSSR. Notice our weights do not have partial derivatives, since we have no dependent variable uncertainty.</span>
<span class="k">def</span> <span class="nf">WSSR</span><span class="p">(</span><span class="n">A</span><span class="p">,</span> <span class="n">E_a</span><span class="p">,</span> <span class="n">temp</span><span class="p">,</span> <span class="n">k</span><span class="p">,</span> <span class="n">kerr</span><span class="p">):</span>
    <span class="n">w</span> <span class="o">=</span> <span class="mf">1.0</span>  <span class="o">/</span> <span class="n">kerr</span><span class="o">**</span><span class="mi">2</span>
    <span class="n">khat</span> <span class="o">=</span> <span class="n">A</span> <span class="o">*</span> <span class="n">np</span><span class="o">.</span><span class="n">exp</span><span class="p">(</span><span class="o">-</span><span class="n">E_a</span> <span class="o">/</span> <span class="p">(</span><span class="n">R</span> <span class="o">*</span> <span class="n">temp</span><span class="p">)</span> <span class="p">)</span>
    <span class="n">ssr</span> <span class="o">=</span> <span class="n">np</span><span class="o">.</span><span class="n">sum</span><span class="p">(</span> <span class="n">w</span> <span class="o">*</span> <span class="p">(</span><span class="n">khat</span> <span class="o">-</span> <span class="n">k</span><span class="p">)</span><span class="o">**</span><span class="mi">2</span><span class="p">)</span>
    <span class="k">return</span> <span class="n">ssr</span>

<span class="c1">#Again, ust use bounded optimization</span>
<span class="n">mini_args</span> <span class="o">=</span> <span class="p">{</span><span class="s1">&#39;bounds&#39;</span><span class="p">:</span> <span class="p">[(</span><span class="mi">10</span><span class="o">**-</span><span class="mi">10</span><span class="p">,</span> <span class="mi">10</span><span class="o">**</span><span class="mi">10</span><span class="p">),</span> <span class="p">(</span><span class="mi">10</span><span class="p">,</span> <span class="mi">1000000</span><span class="p">)]}</span>
<span class="n">result</span> <span class="o">=</span> <span class="n">scipy</span><span class="o">.</span><span class="n">optimize</span><span class="o">.</span><span class="n">basinhopping</span><span class="p">(</span><span class="k">lambda</span> <span class="n">x</span><span class="p">:</span> <span class="n">WSSR</span><span class="p">(</span><span class="n">x</span><span class="p">[</span><span class="mi">0</span><span class="p">],</span> <span class="n">x</span><span class="p">[</span><span class="mi">1</span><span class="p">],</span> <span class="n">temp</span><span class="p">,</span> <span class="n">k</span><span class="p">,</span> <span class="n">kerr</span><span class="p">),</span> <span class="n">x0</span><span class="o">=</span><span class="p">[</span><span class="mi">1</span><span class="p">,</span><span class="mi">1</span><span class="p">],</span> <span class="n">minimizer_kwargs</span><span class="o">=</span><span class="n">mini_args</span><span class="p">,</span> <span class="n">niter</span><span class="o">=</span><span class="mi">10000</span><span class="p">)</span>
<span class="nb">print</span> <span class="n">result</span>


<span class="c1">#Get estimated values for the fit</span>
<span class="n">A</span> <span class="o">=</span> <span class="n">result</span><span class="o">.</span><span class="n">x</span><span class="p">[</span><span class="mi">0</span><span class="p">]</span>
<span class="n">E_a</span> <span class="o">=</span> <span class="n">result</span><span class="o">.</span><span class="n">x</span><span class="p">[</span><span class="mi">1</span><span class="p">]</span>
<span class="n">khat</span> <span class="o">=</span> <span class="n">A</span> <span class="o">*</span> <span class="n">np</span><span class="o">.</span><span class="n">exp</span><span class="p">(</span><span class="o">-</span><span class="n">E_a</span> <span class="o">/</span> <span class="p">(</span><span class="n">R</span> <span class="o">*</span> <span class="n">temp</span><span class="p">)</span> <span class="p">)</span>

<span class="c1">#plot it</span>

<span class="n">plt</span><span class="o">.</span><span class="n">errorbar</span><span class="p">(</span><span class="n">temp</span><span class="p">,</span> <span class="n">k</span><span class="p">,</span> <span class="n">fmt</span><span class="o">=</span><span class="s1">&#39;o&#39;</span><span class="p">,</span>  <span class="n">yerr</span><span class="o">=</span><span class="n">kerr</span><span class="p">)</span>
<span class="n">plt</span><span class="o">.</span><span class="n">plot</span><span class="p">(</span><span class="n">temp</span><span class="p">,</span> <span class="n">khat</span><span class="p">)</span>

<span class="n">plt</span><span class="o">.</span><span class="n">show</span><span class="p">()</span>
</pre></div>

</div>
</div>
</div>

<div class="output_wrapper">
<div class="output">


<div class="output_area">
<div class="prompt"></div>

<div class="output_subarea output_stream output_stdout output_text">
<pre>                  nfev: 243248
 minimization_failures: 9
                   fun: 41.681447726782316
                     x: array([  1.60981213e+05,   5.20174199e+01])
               message: [&#39;requested number of basinhopping iterations completed successfully&#39;]
                   nit: 10000
</pre>
</div>
</div>

<div class="output_area">
<div class="prompt"></div>



<div class="output_png output_subarea ">
<img src="data:image/png;base64,iVBORw0KGgoAAAANSUhEUgAAAZIAAAEACAYAAACZLPCyAAAABHNCSVQICAgIfAhkiAAAAAlwSFlz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"
>
</div>

</div>

</div>
</div>

</div>
<div class="cell border-box-sizing code_cell rendered">
<div class="input">
<div class="prompt input_prompt">In&nbsp;[17]:</div>
<div class="inner_cell">
    <div class="input_area">
<div class=" highlight hl-ipython3"><pre><span></span><span class="c1">#The math is not shown here, but it&#39;s very similar to above (same equation).</span>

<span class="c1">#Nootice we don&#39;t have partials, just the independent variable uncertainty.</span>
<span class="n">s2_e</span> <span class="o">=</span> <span class="p">(</span><span class="n">np</span><span class="o">.</span><span class="n">sum</span><span class="p">((</span><span class="n">khat</span> <span class="o">-</span> <span class="n">k</span><span class="p">)</span><span class="o">**</span><span class="mi">2</span><span class="p">)</span> <span class="o">+</span> <span class="n">np</span><span class="o">.</span><span class="n">sum</span><span class="p">(</span><span class="n">kerr</span><span class="o">**</span><span class="mi">2</span><span class="p">))</span> <span class="o">/</span> <span class="p">(</span><span class="nb">len</span><span class="p">(</span><span class="n">k</span><span class="p">)</span> <span class="o">-</span> <span class="mi">2</span><span class="p">)</span><span class="c1">#subtract 2 because we have two adjustable parameters</span>

<span class="c1">#stuck up the F-matrix</span>
<span class="n">F_overall_mat</span> <span class="o">=</span> <span class="n">np</span><span class="o">.</span><span class="n">column_stack</span><span class="p">(</span> <span class="p">(</span><span class="n">np</span><span class="o">.</span><span class="n">exp</span><span class="p">(</span><span class="o">-</span><span class="n">E_a</span> <span class="o">/</span> <span class="p">(</span><span class="n">temp</span> <span class="o">*</span> <span class="n">R</span><span class="p">)),</span>  <span class="o">-</span><span class="n">A</span> <span class="o">/</span> <span class="p">(</span><span class="n">temp</span> <span class="o">*</span> <span class="n">R</span><span class="p">)</span> <span class="o">*</span> <span class="n">np</span><span class="o">.</span><span class="n">exp</span><span class="p">(</span><span class="o">-</span><span class="n">E_a</span> <span class="o">/</span> <span class="p">(</span><span class="n">temp</span> <span class="o">*</span> <span class="n">R</span><span class="p">))</span> <span class="p">)</span> <span class="p">)</span>
<span class="nb">print</span> <span class="n">F_overall_mat</span>
<span class="nb">print</span> <span class="n">s2_e</span>
<span class="n">s2_beta</span> <span class="o">=</span> <span class="n">s2_e</span> <span class="o">*</span> <span class="n">linalg</span><span class="o">.</span><span class="n">inv</span><span class="p">(</span><span class="n">F_overall_mat</span><span class="o">.</span><span class="n">transpose</span><span class="p">()</span><span class="o">.</span><span class="n">dot</span><span class="p">(</span><span class="n">F_overall_mat</span><span class="p">))</span>

<span class="c1">#print results</span>
<span class="nb">print</span> <span class="n">A</span><span class="p">,</span> <span class="n">np</span><span class="o">.</span><span class="n">sqrt</span><span class="p">(</span><span class="n">s2_beta</span><span class="p">[</span><span class="mi">0</span><span class="p">,</span><span class="mi">0</span><span class="p">])</span> <span class="o">*</span> <span class="n">scipy</span><span class="o">.</span><span class="n">stats</span><span class="o">.</span><span class="n">t</span><span class="o">.</span><span class="n">ppf</span><span class="p">(</span><span class="mf">0.975</span><span class="p">,</span> <span class="nb">len</span><span class="p">(</span><span class="n">k</span><span class="p">)</span> <span class="o">-</span> <span class="mi">2</span><span class="p">)</span>
<span class="nb">print</span> <span class="n">E_a</span><span class="p">,</span> <span class="n">np</span><span class="o">.</span><span class="n">sqrt</span><span class="p">(</span><span class="n">s2_beta</span><span class="p">[</span><span class="mi">1</span><span class="p">,</span><span class="mi">1</span><span class="p">])</span> <span class="o">*</span> <span class="n">scipy</span><span class="o">.</span><span class="n">stats</span><span class="o">.</span><span class="n">t</span><span class="o">.</span><span class="n">ppf</span><span class="p">(</span><span class="mf">0.975</span><span class="p">,</span> <span class="nb">len</span><span class="p">(</span><span class="n">k</span><span class="p">)</span> <span class="o">-</span> <span class="mi">2</span><span class="p">)</span>
</pre></div>

</div>
</div>
</div>

<div class="output_wrapper">
<div class="output">


<div class="output_area">
<div class="prompt"></div>

<div class="output_subarea output_stream output_stdout output_text">
<pre>[[  4.72383536e-11  -3.47581420e-06]
 [  2.16458647e-10  -1.49074042e-05]
 [  7.69901616e-10  -4.99994920e-05]
 [  1.08830262e-09  -6.95115988e-05]]
5.53353513672e-09
160981.212783 16154348.9907
52.017419883 250.97548581
</pre>
</div>
</div>

</div>
</div>

</div>
<div class="cell border-box-sizing text_cell rendered">
<div class="prompt input_prompt">
</div>
<div class="inner_cell">
<div class="text_cell_render border-box-sizing rendered_html">
<p>So our final answer is $$E_a = 52 \pm 251 \textrm{kJ/mol}$$</p>
$$A = 200,000 \pm 10,000,000 \frac{1}{\textrm{minutes}}$$<p>For grading, the $E_a$ is all that matters. The uncertainty value is very sensitive to the value of $E_a$ and $A$, so be easy on them. the most important part is it's done correctly, the error bars are correct on the plot, and that they have near the correct $E_a$ value</p>

</div>
</div>
</div>
<div class="cell border-box-sizing code_cell rendered">
<div class="input">
<div class="prompt input_prompt">In&nbsp;[&nbsp;]:</div>
<div class="inner_cell">
    <div class="input_area">
<div class=" highlight hl-ipython3"><pre><span></span> 
</pre></div>

</div>
</div>
</div>

</div>
 


    </div>
  </div>

  </div>


  
    <footer class="footer hidden-print">
      <div class="container">
        <div class="col-md-4">
          <p>
            This website does not host notebooks, it only renders notebooks
            available on other websites.
          </p>
        </div>

        <div class="col-md-4">
          <p>
            Delivered by <a href="http://www.fastly.com/">Fastly</a>,
            Rendered by <a href="https://developer.rackspace.com/?nbviewer=awesome">Rackspace</a>
          </p>
          <p>
            nbviewer GitHub <a href="https://github.com/jupyter/nbviewer">repository</a>.
          </p>
        </div>

        <div class="col-md-4">
          
  
            
              <p>
                nbviewer version:
                <a href="https://github.com/jupyter/nbviewer/commit/4f5d1d8a2539c1c8dc92873d3a775d34f0a3d417">
                  4f5d1d8
                </a>
              </p>
            
          
  
  <p>
    nbconvert version: <a href="https://github.com/jupyter/nbconvert/releases/tag/5.1.1">
      5.1.1
    </a>
  </p>
  

          
  
  
  <p>
    Rendered
    <span class='date' data-date='Sun, 23 Apr 2017 12:14:17 UTC' title='Sun, 23 Apr 2017 12:14:17 UTC'>(Sun, 23 Apr 2017 12:14:17 UTC)</span>
  </p>
  

        </div>
      </div>
    </footer>
  

  <script src="https://unpkg.com/jupyter-js-widgets@2.0.*/dist/embed.js"></script>
  <script src="/static/components/bootstrap/js/bootstrap.min.js?v=5869c96cc8f19086aee625d670d741f9"></script>
  <script src="/static/components/headroom.js/dist/headroom.min.js?v=b0a311ea668f8e768ea375f4a7abb81c"></script>
  <script src="/static/components/headroom.js/dist/jQuery.headroom.min.js?v=f3a1bae118315d0c234afc74dc6aab71"></script>

  
  
  <script>
    $(function(){ $("#menubar").headroom({
      tolerance: 5,
      offset: 205,
      classes: {
        initial: "animated",
        pinned: "slideInDown",
        unpinned: "slideOutUp"
      }
    })});
  </script>


  
  <script>
    (function(i,s,o,g,r,a,m){i['GoogleAnalyticsObject']=r;i[r]=i[r]||function(){
      (i[r].q=i[r].q||[]).push(arguments)},i[r].l=1*new Date();a=s.createElement(o),
      m=s.getElementsByTagName(o)[0];a.async=1;a.src=g;m.parentNode.insertBefore(a,m)
    })(window,document,'script','https://www.google-analytics.com/analytics.js','ga');
    ga('create', 'UA-52617120-5', 'auto');
    ga('send', 'pageview');
  </script>
  
  <script>
    require({
        paths: {
          moment: "/static/components/moment/min/moment.min.js?v=89f87298ad94aa1e6b92f42eb66da043"
        }
      }, ["moment"], function(moment){
      var date = $("footer .date"),
        m = moment(new Date(date.data('date'))),
        update = function(){ date.text(m.fromNow()); };
      setInterval(update, 61*1000);
      update();
      var w = $(window).scroll(function(event){
        $("body").toggleClass("scrolled", w.scrollTop() > 0);
      });
    });
  </script>
  <!--NEW RELIC Stop Perf Measurement-->
  
  <!--NEW RELIC End-->
</body>
</html>