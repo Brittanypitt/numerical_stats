








<!DOCTYPE html>
<html lang="en">

<head>
  <meta charset="utf-8">
  <title>Jupyter Notebook Viewer</title>
  <meta name="viewport" content="width=device-width, initial-scale=1.0">
  <meta name="description" content="">
  <meta name="author" content="">
  
  <meta name="robots" content="noindex,nofollow">
  

  <!--NEW RELIC Start Perf Measurement-->
  
  <!--NREND-->

  <!-- Le styles -->
  <script type="text/javascript">
//<![CDATA[
try{if (!window.CloudFlare) {var CloudFlare=[{verbose:0,p:0,byc:0,owlid:"cf",bag2:1,mirage2:0,oracle:0,paths:{cloudflare:"/cdn-cgi/nexp/dok3v=1613a3a185/"},atok:"376da8cb9918edf84801212417e68122",petok:"92d700a295e3f9e47bb131640ae24dc7a3a521f8-1492949644-3600",zone:"jupyter.org",rocket:"0",apps:{"ga_key":{"ua":"UA-52617120-1","ga_bs":"2"}}}];!function(a,b){a=document.createElement("script"),b=document.getElementsByTagName("script")[0],a.async=!0,a.src="//ajax.cloudflare.com/cdn-cgi/nexp/dok3v=85b614c0f6/cloudflare.min.js",b.parentNode.insertBefore(a,b)}()}}catch(e){};
//]]>
</script>
<link href="/static/build/styles.css?v=c18d49652a516277e15114bbd447f1c1" rel="stylesheet">

  <!-- Le HTML5 shim, for IE6-8 support of HTML5 elements -->
  <!--[if lt IE 9]>
    <script src="http://html5shim.googlecode.com/svn/trunk/html5.js"></script>
  <![endif]-->

  <!-- Le fav and touch icons -->
  <link rel="shortcut icon" href="/static/ico/ipynb_icon_16x16.png">
  <link rel="apple-touch-icon-precomposed" sizes="144x144"
        href="/static/ico/apple-touch-icon-144-precomposed.png?v=5a3c9ede93e2a8b8ea9e3f8f3da1a905">
  <link rel="apple-touch-icon-precomposed" sizes="114x114"
        href="/static/ico/apple-touch-icon-114-precomposed.png?v=45d86fc8f24dc00638035e1dd7a6d898">
  <link rel="apple-touch-icon-precomposed" sizes="72x72"
        href="/static/ico/apple-touch-icon-72-precomposed.png?v=540b5eb0f3cfd25f1439d1c9bd30e15f">
  <link rel="apple-touch-icon-precomposed"
        href="/static/ico/apple-touch-icon-57-precomposed.png?v=225f0590e187e1458625654f10a28f56">
  
  

  

  
  <meta name="twitter:card" content="summary">
  <meta name="twitter:title" content="Notebook on nbviewer">
  <meta name="twitter:description" content="Check out this Jupyter notebook!">

  
  <meta name="twitter:domain" content="nbviewer.ipython.org">
  <meta name="twitter:image:src" content="http://ipython.org/ipython-doc/dev/_images/ipynb_icon_128x128.png">

  
    <link href="/static/build/notebook.css?v=d05748bef7d8f0edbc1e0133b9a41fe0" rel="stylesheet">
  

  

  
    <script src="https://cdn.mathjax.org/mathjax/latest/MathJax.js?config=TeX-AMS_HTML" type="text/javascript">
    </script>
    <script type="text/javascript">
      init_mathjax = function() {
        if (window.MathJax) {
          // MathJax loaded
          MathJax.Hub.Config({
            TeX: {
              equationNumbers: {
                autoNumber: "AMS",
                useLabelIds: true
              }
            },
            tex2jax: {
              inlineMath: [ ['$','$'], ["\\(","\\)"] ],
              displayMath: [ ['$$','$$'], ["\\[","\\]"] ],
              processEscapes: true,
              processEnvironments: true
            },
            displayAlign: 'center',
            "HTML-CSS": {
              styles: {'.MathJax_Display': {"margin": 0}},
              linebreaks: { automatic: true }
            }
          });
          MathJax.Hub.Queue(["Typeset", MathJax.Hub]);
        }
      }
      init_mathjax();
    </script>
  

<script type="text/javascript">
/* <![CDATA[ */
var _gaq = _gaq || [];
_gaq.push(['_setAccount', 'UA-52617120-1']);
_gaq.push(['_trackPageview']);

(function() {
var ga = document.createElement('script'); ga.type = 'text/javascript'; ga.async = true;
ga.src = ('https:' == document.location.protocol ? 'https://ssl' : 'http://www') + '.google-analytics.com/ga.js';
var s = document.getElementsByTagName('script')[0]; s.parentNode.insertBefore(ga, s);
})();

(function(b){(function(a){"__CF"in b&&"DJS"in b.__CF?b.__CF.DJS.push(a):"addEventListener"in b?b.addEventListener("load",a,!1):b.attachEvent("onload",a)})(function(){"FB"in b&&"Event"in FB&&"subscribe"in FB.Event&&(FB.Event.subscribe("edge.create",function(a){_gaq.push(["_trackSocial","facebook","like",a])}),FB.Event.subscribe("edge.remove",function(a){_gaq.push(["_trackSocial","facebook","unlike",a])}),FB.Event.subscribe("message.send",function(a){_gaq.push(["_trackSocial","facebook","send",a])}));"twttr"in b&&"events"in twttr&&"bind"in twttr.events&&twttr.events.bind("tweet",function(a){if(a){var b;if(a.target&&a.target.nodeName=="IFRAME")a:{if(a=a.target.src){a=a.split("#")[0].match(/[^?=&]+=([^&]*)?/g);b=0;for(var c;c=a[b];++b)if(c.indexOf("url")===0){b=unescape(c.split("=")[1]);break a}}b=void 0}_gaq.push(["_trackSocial","twitter","tweet",b])}})})})(window);
/* ]]> */
</script>
</head>

<body class="nbviewer">

  <!-- These are loaded at the top of the body so they are available to
       notebook cells when they are loaded below. -->
  <script src="/static/components/jquery/dist/jquery.min.js?v=e071abda8fe61194711cfc2ab99fe104"></script>
  <script src="/static/components/requirejs/require.js?v=6da8be361b9ee26c5e721e76c6d4afce"></script>
  <script src="/static/components/moment/min/moment.min.js?v=89f87298ad94aa1e6b92f42eb66da043"></script>

<!-- Navbar
================================================== -->
  <nav id="menubar" class="navbar navbar-default navbar-fixed-top" data-spy="affix">
    <div class="container">
      <div class="navbar-header">
        <button type="button" class="navbar-toggle collapsed" data-toggle="collapse" data-target=".navbar-collapse">
          <span class="sr-only">Toggle navigation</span>
          <i class="fa fa-bars"></i>
        </button>
        <a class="navbar-brand" href="/">
          <img src="/static/img/nav_logo.svg?v=479cefe8d932fb14a67b93911b97d70f" width="159"/>
        </a>
      </div>

      <div class="collapse navbar-collapse">
        <ul class="nav navbar-nav navbar-right">
          <li>
            <a class="active" href="http://jupyter.org">JUPYTER</a>
          </li>
          <li>
    <a href="/faq" title="FAQ" >
      
        <span>FAQ</span>
      
    </a>
  </li>

          
  
    
      
        <li>
    <a href="/format/script/url/thewhitelab.org/Classes/CHE116/Unit_14/Homework_14.ipynb" title="View as Code" >
      <span class="fa fa-code fa-2x menu-icon"></span>
      <span class="menu-text">View as Code</span>
    </a>
  </li>
      
    
  
    
  

  

  

  <li>
    <a href="http://thewhitelab.org/Classes/CHE116/Unit_14/Homework_14.ipynb" title="Download Notebook" download>
      <span class="fa fa-download fa-2x menu-icon"></span>
      <span class="menu-text">Download Notebook</span>
    </a>
  </li>

        </ul>
      </div><!-- /.navbar-collapse -->
      
      
    </div>
  </nav>

  <div class="container container-main">
    
  
  <div id="notebook">
    <div id="notebook-container">
      
<div class="cell border-box-sizing text_cell rendered">
<div class="prompt input_prompt">
</div>
<div class="inner_cell">
<div class="text_cell_render border-box-sizing rendered_html">
<h1 id="Homework-13">Homework 13<a class="anchor-link" href="#Homework-13">&#182;</a></h1><h4 id="CHE-116:-Numerical-Methods-and-Statistics">CHE 116: Numerical Methods and Statistics<a class="anchor-link" href="#CHE-116:-Numerical-Methods-and-Statistics">&#182;</a></h4><p>Prof. Andrew White</p>
<p>Version 1.6 (4/24/2015)</p>
<hr>

</div>
</div>
</div>
<div class="cell border-box-sizing text_cell rendered">
<div class="prompt input_prompt">
</div>
<div class="inner_cell">
<div class="text_cell_render border-box-sizing rendered_html">
<h1 id="Conceptual-Questions-(2-Points)">Conceptual Questions (2 Points)<a class="anchor-link" href="#Conceptual-Questions-(2-Points)">&#182;</a></h1><ol>
<li><p>Is Error Propogation using partial derivatives exact or an approximation? If it is an approximation, when and why is it valid?</p>
</li>
<li><p>If you have a constant error in your independent variable, you almost always require weighted least-squares instead of ordinary least-squares for non-linear regression. Why?</p>
</li>
</ol>

</div>
</div>
</div>
<div class="cell border-box-sizing text_cell rendered">
<div class="prompt input_prompt">
</div>
<div class="inner_cell">
<div class="text_cell_render border-box-sizing rendered_html">
<h1 id="Exercises-(8-Points)">Exercises (8 Points)<a class="anchor-link" href="#Exercises-(8-Points)">&#182;</a></h1><ol>
<li><p>If you have a measurement error of $\sigma_{\lambda} = 2.0$ and you are using the equation:</p>
<p>$$ y = \lambda e^{-\lambda x}$$</p>
<p>what is your uncertainty in $y$? Assume $x$ is exact.</p>
</li>
<li><p>What is the equation for standard error in residuals with constant uncertainty in the independent variable?</p>
</li>
<li><p>What is the equation for standard error in residuals with variable uncertainty in the dependent variable?</p>
</li>
<li><p>Give two cases of when to use weighted least-squares</p>
</li>
</ol>

</div>
</div>
</div>
<div class="cell border-box-sizing text_cell rendered">
<div class="prompt input_prompt">
</div>
<div class="inner_cell">
<div class="text_cell_render border-box-sizing rendered_html">
<h1 id="Arrhenius-Equation-Problem-(20-Points)">Arrhenius Equation Problem (20 Points)<a class="anchor-link" href="#Arrhenius-Equation-Problem-(20-Points)">&#182;</a></h1><p>The Arrhenius Equation allows you to find a reaction rate at a temperature. It is:</p>
$$ k = A e^{-\frac{E_a}{RT}} $$<p>where $k$ is the reaction rate, $A$ is an empirical constant, $E_a$ is the activation energy, $R$ is the Universal gas constant and $T$ is temperature. In this homework problem, you will determine $A$ and $E_a$ and their confidence intervals.</p>
<p>The chemical reaction that you're observing is the unimolecular dissolution of a 125 Dalton compound in water. This reaction occurs over the course of days inside a large tank which has a controlled temperature. You take an approximately 250mL sample every four hours from the tank and can compute a concentration of the compound by drying the water off and weighing the dry mass. The measurement process takes about 10 minutes and so you may estimate your measurement error in time as 5 minutes, since the reaction continues during the drying process and taking the sample requires some time. Your volume measurements have a measurement error of 0.25 mL and your balance has a measurement error of 0.5 g. You know the temperature exactly.</p>
<p>Knowing the information above, you may fit your concentration data vs time to an exponential decay:</p>
$$C(t) = C_0 e^{-kt}$$<p>and thus compute a reaction rate. Using reaction rates at four temperatures, you may estimate the activation energy and pre-exponential empricial factor $A$ from the Arrhenius equation. Carefully propogate error at all steps and ensure your final confidence interval includes error from the measurements and the regression. Report the reaction rate in mol / s$\cdot$L and activation energy in kJ. Also, plot concentration vs time for one experiment with error bars on the data and your best fit line. Also plot the best-fit Arrhenius equation and your data with error bars. As a hint, here's the basic workflow of this problem:</p>
<ol>
<li>Compute concentration and error in concentration at each temperature</li>
<li>Fit the exponential equation above to the concentration vs time for each temperature to get a rate</li>
<li>Compute the error in that rate for each tempeture</li>
<li>Put the rates and temperatures onto one plot</li>
<li>Fit the Arrhenius equation to that plot</li>
<li>Compute the error in the Arrhenius plot terms</li>
</ol>
<p><em>Hints: you'll need to use <code>basinhopping</code> with bounds to do the minimization. Also, you should have variable measurement error for concentration due to error propogation. For the final regression to the Arrhenius equation, be careful that your k is a length 4 array, not a 1x4 matrix. I had to reshape mine by using k = <code>np.reshape(k, 4 )</code> </em></p>
<h2 id="More-Hints">More Hints<a class="anchor-link" href="#More-Hints">&#182;</a></h2><p>The equation for standard error in your concentration fitting should be:
$$S_{\epsilon}^2 = \frac{SSR + \sum_i^N \hat{C}_0^2\hat{k}^2e^{-2\hat{k}t} \sigma_t^2 + \sum_i^N \sigma_{c_i}^2}{N}$$</p>
<p>where $SSR = \sum_i^N (\hat{y} - y)^2$.</p>
<p>The final answer should be $E_a \approx 50$ and $A \approx 1000 $ with <strong>large</strong> uncertainty. I had to use <code>niter=10000</code> as an extra argument to basinhopping for the final regression.</p>

</div>
</div>
</div>
<div class="cell border-box-sizing text_cell rendered">
<div class="prompt input_prompt">
</div>
<div class="inner_cell">
<div class="text_cell_render border-box-sizing rendered_html">
<h2 id="$T-=-25^\circ$C">$T = 25^\circ$C<a class="anchor-link" href="#$T-=-25^\circ$C">&#182;</a></h2><ul>
<li>volume in mL</li>
<li>mass in g</li>
<li>time in minutes</li>
</ul>

</div>
</div>
</div>
<div class="cell border-box-sizing code_cell rendered">
<div class="input">
<div class="prompt input_prompt">In&nbsp;[2]:</div>
<div class="inner_cell">
    <div class="input_area">
<div class=" highlight hl-ipython3"><pre><span></span><span class="kn">import</span> <span class="nn">numpy</span> <span class="k">as</span> <span class="nn">np</span>

<span class="n">volume_25</span> <span class="o">=</span> <span class="n">np</span><span class="o">.</span><span class="n">array</span><span class="p">([</span><span class="mf">276.1</span><span class="p">,</span> <span class="mf">240.5</span><span class="p">,</span>  <span class="mf">277.6</span><span class="p">,</span>  <span class="mf">260.3</span><span class="p">,</span>  <span class="mf">296.0</span><span class="p">,</span>  <span class="mf">237.1</span><span class="p">,</span>  <span class="mf">247.5</span><span class="p">,</span>  <span class="mf">263.2</span><span class="p">,</span>  <span class="mf">232.2</span><span class="p">,</span>  <span class="mf">264.1</span><span class="p">,</span>  <span class="mf">236.0</span><span class="p">,</span>  <span class="mf">262.2</span><span class="p">,</span>  <span class="mf">293.4</span><span class="p">,</span>  <span class="mf">268.6</span><span class="p">,</span>  <span class="mf">222.7</span><span class="p">,</span>  <span class="mf">280.5</span><span class="p">,</span>  <span class="mf">239.3</span><span class="p">,</span>  <span class="mf">267.6</span><span class="p">,</span>  <span class="mf">242.6</span><span class="p">,</span>  <span class="mf">225.5</span><span class="p">,</span>  <span class="mf">278.0</span><span class="p">])</span>
<span class="n">mass_25</span> <span class="o">=</span> <span class="n">np</span><span class="o">.</span><span class="n">array</span><span class="p">([</span> <span class="mf">13.8</span><span class="p">,</span>  <span class="mf">10.1</span><span class="p">,</span>   <span class="mf">12.8</span><span class="p">,</span>   <span class="mf">12.3</span><span class="p">,</span>   <span class="mf">12.8</span><span class="p">,</span>    <span class="mf">9.7</span><span class="p">,</span>    <span class="mf">9.2</span><span class="p">,</span>   <span class="mf">10.3</span><span class="p">,</span>    <span class="mf">8.2</span><span class="p">,</span>    <span class="mf">8.1</span><span class="p">,</span>    <span class="mf">7.8</span><span class="p">,</span>    <span class="mf">8.1</span><span class="p">,</span>    <span class="mf">8.4</span><span class="p">,</span>    <span class="mf">7.6</span><span class="p">,</span>    <span class="mf">5.3</span><span class="p">,</span>    <span class="mf">7.4</span><span class="p">,</span>    <span class="mf">5.2</span><span class="p">,</span>    <span class="mf">5.4</span><span class="p">,</span>    <span class="mf">5.2</span><span class="p">,</span>    <span class="mf">4.2</span><span class="p">,</span>    <span class="mf">4.9</span><span class="p">])</span>
<span class="n">time</span> <span class="o">=</span> <span class="n">np</span><span class="o">.</span><span class="n">array</span><span class="p">([</span><span class="mi">0</span><span class="p">,</span> <span class="mi">480</span><span class="p">,</span>  <span class="mi">960</span><span class="p">,</span>  <span class="mi">1440</span><span class="p">,</span>  <span class="mi">1920</span><span class="p">,</span>  <span class="mi">2400</span><span class="p">,</span>  <span class="mi">2880</span><span class="p">,</span>  <span class="mi">3360</span><span class="p">,</span>  <span class="mi">3840</span><span class="p">,</span>  <span class="mi">4320</span><span class="p">,</span>  <span class="mi">4800</span><span class="p">,</span>  <span class="mi">5280</span><span class="p">,</span>  <span class="mi">5760</span><span class="p">,</span>  <span class="mi">6240</span><span class="p">,</span>  <span class="mi">6720</span><span class="p">,</span>  <span class="mi">7200</span><span class="p">,</span>  <span class="mi">7680</span><span class="p">,</span>  <span class="mi">8160</span><span class="p">,</span>  <span class="mi">8640</span><span class="p">,</span>  <span class="mi">9120</span><span class="p">,</span>  <span class="mi">9600</span><span class="p">])</span>
</pre></div>

</div>
</div>
</div>

</div>
<div class="cell border-box-sizing text_cell rendered">
<div class="prompt input_prompt">
</div>
<div class="inner_cell">
<div class="text_cell_render border-box-sizing rendered_html">
<h2 id="$T-=-30^\circ$C">$T = 30^\circ$C<a class="anchor-link" href="#$T-=-30^\circ$C">&#182;</a></h2><ul>
<li>volume in mL</li>
<li>mass in g</li>
<li>time - same as above</li>
</ul>

</div>
</div>
</div>
<div class="cell border-box-sizing code_cell rendered">
<div class="input">
<div class="prompt input_prompt">In&nbsp;[9]:</div>
<div class="inner_cell">
    <div class="input_area">
<div class=" highlight hl-ipython3"><pre><span></span><span class="n">volume_30</span> <span class="o">=</span> <span class="n">np</span><span class="o">.</span><span class="n">array</span><span class="p">([</span><span class="mf">243.7</span><span class="p">,</span> <span class="mf">262.7</span><span class="p">,</span>  <span class="mf">247.4</span><span class="p">,</span>  <span class="mf">224.4</span><span class="p">,</span>  <span class="mf">225.0</span><span class="p">,</span>  <span class="mf">298.5</span><span class="p">,</span>  <span class="mf">233.0</span><span class="p">,</span>  <span class="mf">285.7</span><span class="p">,</span>  <span class="mf">227.5</span><span class="p">,</span>  <span class="mf">243.3</span><span class="p">,</span>  <span class="mf">240.3</span><span class="p">,</span>  <span class="mf">276.1</span><span class="p">,</span>  <span class="mf">276.4</span><span class="p">,</span>  <span class="mf">228.0</span><span class="p">,</span>  <span class="mf">245.2</span><span class="p">,</span>  <span class="mf">236.0</span><span class="p">,</span>  <span class="mf">261.1</span><span class="p">,</span>  <span class="mf">243.3</span><span class="p">,</span>  <span class="mf">275.9</span><span class="p">,</span>  <span class="mf">239.5</span><span class="p">,</span>  <span class="mf">208.0</span><span class="p">])</span>
<span class="n">mass_30</span> <span class="o">=</span> <span class="n">np</span><span class="o">.</span><span class="n">array</span><span class="p">([</span> <span class="mf">12.1</span><span class="p">,</span>  <span class="mf">12.4</span><span class="p">,</span>    <span class="mf">9.0</span><span class="p">,</span>    <span class="mf">8.5</span><span class="p">,</span>    <span class="mf">7.3</span><span class="p">,</span>    <span class="mf">8.3</span><span class="p">,</span>    <span class="mf">4.8</span><span class="p">,</span>    <span class="mf">5.3</span><span class="p">,</span>    <span class="mf">3.3</span><span class="p">,</span>    <span class="mf">3.6</span><span class="p">,</span>    <span class="mf">2.6</span><span class="p">,</span>    <span class="mf">2.6</span><span class="p">,</span>    <span class="mf">2.4</span><span class="p">,</span>    <span class="mf">1.5</span><span class="p">,</span>    <span class="mf">2.4</span><span class="p">,</span>    <span class="mf">1.2</span><span class="p">,</span>    <span class="mf">2.3</span><span class="p">,</span>    <span class="mf">2.0</span><span class="p">,</span>    <span class="mf">2.2</span><span class="p">,</span>    <span class="mf">0.9</span><span class="p">,</span>    <span class="mf">0.4</span><span class="p">])</span>
</pre></div>

</div>
</div>
</div>

</div>
<div class="cell border-box-sizing text_cell rendered">
<div class="prompt input_prompt">
</div>
<div class="inner_cell">
<div class="text_cell_render border-box-sizing rendered_html">
<h2 id="$T-=--10^\circ$C">$T = -10^\circ$C<a class="anchor-link" href="#$T-=--10^\circ$C">&#182;</a></h2><ul>
<li>volume in mL</li>
<li>mass in g</li>
<li>time - same as above</li>
</ul>

</div>
</div>
</div>
<div class="cell border-box-sizing code_cell rendered">
<div class="input">
<div class="prompt input_prompt">In&nbsp;[10]:</div>
<div class="inner_cell">
    <div class="input_area">
<div class=" highlight hl-ipython3"><pre><span></span><span class="n">volume_minus_10</span> <span class="o">=</span> <span class="n">np</span><span class="o">.</span><span class="n">array</span><span class="p">([</span><span class="mf">254.1</span><span class="p">,</span> <span class="mf">280.5</span><span class="p">,</span>  <span class="mf">265.7</span><span class="p">,</span>  <span class="mf">233.8</span><span class="p">,</span>  <span class="mf">258.8</span><span class="p">,</span>  <span class="mf">239.6</span><span class="p">,</span>  <span class="mf">279.0</span><span class="p">,</span>  <span class="mf">194.8</span><span class="p">,</span>  <span class="mf">285.9</span><span class="p">,</span>  <span class="mf">278.6</span><span class="p">,</span>  <span class="mf">281.0</span><span class="p">,</span>  <span class="mf">302.7</span><span class="p">,</span>  <span class="mf">265.3</span><span class="p">,</span>  <span class="mf">209.9</span><span class="p">,</span>  <span class="mf">278.0</span><span class="p">,</span>  <span class="mf">213.2</span><span class="p">,</span>  <span class="mf">243.3</span><span class="p">,</span>  <span class="mf">274.4</span><span class="p">,</span>  <span class="mf">238.9</span><span class="p">,</span>  <span class="mf">259.3</span><span class="p">,</span>  <span class="mf">251.6</span><span class="p">])</span>
<span class="n">mass_minus_10</span> <span class="o">=</span> <span class="n">np</span><span class="o">.</span><span class="n">array</span><span class="p">([</span> <span class="mf">12.8</span><span class="p">,</span>  <span class="mf">13.6</span><span class="p">,</span>   <span class="mf">12.5</span><span class="p">,</span>   <span class="mf">11.4</span><span class="p">,</span>   <span class="mf">13.4</span><span class="p">,</span>   <span class="mf">12.5</span><span class="p">,</span>   <span class="mf">12.7</span><span class="p">,</span>   <span class="mf">10.2</span><span class="p">,</span>   <span class="mf">14.0</span><span class="p">,</span>   <span class="mf">13.7</span><span class="p">,</span>   <span class="mf">13.1</span><span class="p">,</span>   <span class="mf">14.2</span><span class="p">,</span>   <span class="mf">12.8</span><span class="p">,</span>    <span class="mf">9.2</span><span class="p">,</span>   <span class="mf">13.0</span><span class="p">,</span>    <span class="mf">8.9</span><span class="p">,</span>   <span class="mf">11.7</span><span class="p">,</span>   <span class="mf">12.8</span><span class="p">,</span>   <span class="mf">10.6</span><span class="p">,</span>   <span class="mf">12.2</span><span class="p">,</span>   <span class="mf">11.1</span><span class="p">])</span>
</pre></div>

</div>
</div>
</div>

</div>
<div class="cell border-box-sizing text_cell rendered">
<div class="prompt input_prompt">
</div>
<div class="inner_cell">
<div class="text_cell_render border-box-sizing rendered_html">
<h2 id="$T-=-8^\circ$C">$T = 8^\circ$C<a class="anchor-link" href="#$T-=-8^\circ$C">&#182;</a></h2><ul>
<li>volume in mL</li>
<li>mass in g</li>
<li>time - same as above</li>
</ul>

</div>
</div>
</div>
<div class="cell border-box-sizing code_cell rendered">
<div class="input">
<div class="prompt input_prompt">In&nbsp;[8]:</div>
<div class="inner_cell">
    <div class="input_area">
<div class=" highlight hl-ipython3"><pre><span></span><span class="n">volume_8</span> <span class="o">=</span> <span class="n">np</span><span class="o">.</span><span class="n">array</span><span class="p">([</span><span class="mf">249.3</span><span class="p">,</span> <span class="mf">251.0</span><span class="p">,</span>  <span class="mf">202.6</span><span class="p">,</span>  <span class="mf">291.9</span><span class="p">,</span>  <span class="mf">251.6</span><span class="p">,</span>  <span class="mf">214.1</span><span class="p">,</span>  <span class="mf">272.5</span><span class="p">,</span>  <span class="mf">257.8</span><span class="p">,</span>  <span class="mf">274.7</span><span class="p">,</span>  <span class="mf">261.7</span><span class="p">,</span>  <span class="mf">227.6</span><span class="p">,</span>  <span class="mf">260.9</span><span class="p">,</span>  <span class="mf">295.4</span><span class="p">,</span>  <span class="mf">277.4</span><span class="p">,</span>  <span class="mf">237.2</span><span class="p">,</span>  <span class="mf">260.8</span><span class="p">,</span>  <span class="mf">243.0</span><span class="p">,</span>  <span class="mf">249.6</span><span class="p">,</span>  <span class="mf">258.0</span><span class="p">,</span>  <span class="mf">260.6</span><span class="p">,</span>  <span class="mf">272.4</span><span class="p">])</span>
<span class="n">mass_8</span> <span class="o">=</span> <span class="n">np</span><span class="o">.</span><span class="n">array</span><span class="p">([</span> <span class="mf">12.8</span><span class="p">,</span>  <span class="mf">12.3</span><span class="p">,</span>    <span class="mf">9.6</span><span class="p">,</span>   <span class="mf">14.2</span><span class="p">,</span>   <span class="mf">11.8</span><span class="p">,</span>   <span class="mf">10.1</span><span class="p">,</span>   <span class="mf">12.0</span><span class="p">,</span>   <span class="mf">11.0</span><span class="p">,</span>   <span class="mf">11.4</span><span class="p">,</span>   <span class="mf">11.1</span><span class="p">,</span>    <span class="mf">9.2</span><span class="p">,</span>   <span class="mf">11.0</span><span class="p">,</span>   <span class="mf">11.4</span><span class="p">,</span>   <span class="mf">11.2</span><span class="p">,</span>    <span class="mf">9.6</span><span class="p">,</span>   <span class="mf">10.1</span><span class="p">,</span>   <span class="mf">10.2</span><span class="p">,</span>    <span class="mf">9.2</span><span class="p">,</span>    <span class="mf">9.2</span><span class="p">,</span>    <span class="mf">8.8</span><span class="p">,</span>   <span class="mf">10.5</span><span class="p">])</span>
</pre></div>

</div>
</div>
</div>

</div>
 


    </div>
  </div>

  </div>


  
    <footer class="footer hidden-print">
      <div class="container">
        <div class="col-md-4">
          <p>
            This website does not host notebooks, it only renders notebooks
            available on other websites.
          </p>
        </div>

        <div class="col-md-4">
          <p>
            Delivered by <a href="http://www.fastly.com/">Fastly</a>,
            Rendered by <a href="https://developer.rackspace.com/?nbviewer=awesome">Rackspace</a>
          </p>
          <p>
            nbviewer GitHub <a href="https://github.com/jupyter/nbviewer">repository</a>.
          </p>
        </div>

        <div class="col-md-4">
          
  
            
              <p>
                nbviewer version:
                <a href="https://github.com/jupyter/nbviewer/commit/4f5d1d8a2539c1c8dc92873d3a775d34f0a3d417">
                  4f5d1d8
                </a>
              </p>
            
          
  
  <p>
    nbconvert version: <a href="https://github.com/jupyter/nbconvert/releases/tag/5.1.1">
      5.1.1
    </a>
  </p>
  

          
  
  
  <p>
    Rendered
    <span class='date' data-date='Sun, 23 Apr 2017 12:14:04 UTC' title='Sun, 23 Apr 2017 12:14:04 UTC'>(Sun, 23 Apr 2017 12:14:04 UTC)</span>
  </p>
  

        </div>
      </div>
    </footer>
  

  <script src="https://unpkg.com/jupyter-js-widgets@2.0.*/dist/embed.js"></script>
  <script src="/static/components/bootstrap/js/bootstrap.min.js?v=5869c96cc8f19086aee625d670d741f9"></script>
  <script src="/static/components/headroom.js/dist/headroom.min.js?v=b0a311ea668f8e768ea375f4a7abb81c"></script>
  <script src="/static/components/headroom.js/dist/jQuery.headroom.min.js?v=f3a1bae118315d0c234afc74dc6aab71"></script>

  
  
  <script>
    $(function(){ $("#menubar").headroom({
      tolerance: 5,
      offset: 205,
      classes: {
        initial: "animated",
        pinned: "slideInDown",
        unpinned: "slideOutUp"
      }
    })});
  </script>


  
  <script>
    (function(i,s,o,g,r,a,m){i['GoogleAnalyticsObject']=r;i[r]=i[r]||function(){
      (i[r].q=i[r].q||[]).push(arguments)},i[r].l=1*new Date();a=s.createElement(o),
      m=s.getElementsByTagName(o)[0];a.async=1;a.src=g;m.parentNode.insertBefore(a,m)
    })(window,document,'script','https://www.google-analytics.com/analytics.js','ga');
    ga('create', 'UA-52617120-5', 'auto');
    ga('send', 'pageview');
  </script>
  
  <script>
    require({
        paths: {
          moment: "/static/components/moment/min/moment.min.js?v=89f87298ad94aa1e6b92f42eb66da043"
        }
      }, ["moment"], function(moment){
      var date = $("footer .date"),
        m = moment(new Date(date.data('date'))),
        update = function(){ date.text(m.fromNow()); };
      setInterval(update, 61*1000);
      update();
      var w = $(window).scroll(function(event){
        $("body").toggleClass("scrolled", w.scrollTop() > 0);
      });
    });
  </script>
  <!--NEW RELIC Stop Perf Measurement-->
  
  <!--NEW RELIC End-->
</body>
</html>