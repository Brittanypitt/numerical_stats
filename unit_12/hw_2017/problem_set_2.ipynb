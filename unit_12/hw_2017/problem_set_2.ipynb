{
 "cells": [
  {
   "cell_type": "markdown",
   "metadata": {
    "deletable": true,
    "editable": true,
    "nbgrader": {
     "grade": false,
     "grade_id": "1",
     "locked": true,
     "schema_version": 1,
     "solution": false
    }
   },
   "source": [
    "Regress the following $x$,$y$ data using ordinary least-squares in 1D. Justify your regression.\n",
    "\n",
    "```python\n",
    "x = [0.00, 0.42, 0.83, 1.25, 1.67, 2.08, 2.50, 2.92, 3.33, 3.75, 4.17, 4.58, 5.00, 5.42, 5.83, 6.25, 6.67, 7.08, 7.50, 7.92, 8.33, 8.75, 9.17, 9.58, 10.00]\n",
    "\n",
    "y = [1.54, -0.73, 1.81, 3.98, 4.65, 5.64, 7.36, 8.09, 9.66, 10.48, 9.14, 11.61, 14.41, 16.04, 15.79, 17.06, 19.33, 21.96, 21.96, 19.42, 23.49, 23.66, 25.45, 26.38, 27.34]\n",
    "```"
   ]
  },
  {
   "cell_type": "code",
   "execution_count": 1,
   "metadata": {
    "collapsed": false,
    "deletable": true,
    "editable": true,
    "nbgrader": {
     "grade": true,
     "grade_id": "2",
     "locked": false,
     "points": 20,
     "schema_version": 1,
     "solution": true
    }
   },
   "outputs": [
    {
     "name": "stdout",
     "output_type": "stream",
     "text": [
      "p-value for regression is 2.4813451026020177e-23\n",
      "slope is -0.04046526770663721 +/- 0.1490812491586265\n",
      "intercept is 2.7722530535413274 +/- 0.8796026602395756\n",
      "The intercept hypothesis test (null: no intercept) p-value is 0.9281551091008817\n",
      "Shapiro-Wilks Result: (0.9484186172485352, 0.2309073954820633)\n"
     ]
    },
    {
     "data": {
      "image/png": "[encoded data removed]",
      "text/plain": [
       "<matplotlib.figure.Figure at 0x7fafd803b080>"
      ]
     },
     "metadata": {},
     "output_type": "display_data"
    },
    {
     "data": {
      "image/png": "[encoded data removed]",
      "text/plain": [
       "<matplotlib.figure.Figure at 0x7fafdc041748>"
      ]
     },
     "metadata": {},
     "output_type": "display_data"
    }
   ],
   "source": [
    "import numpy as np\n",
    "import scipy.stats as ss\n",
    "import matplotlib.pyplot as plt\n",
    "\n",
    "x = np.array([0.00, 0.42, 0.83, 1.25, 1.67, 2.08, 2.50, 2.92, 3.33, 3.75, 4.17, 4.58, 5.00, 5.42, 5.83, 6.25, 6.67, 7.08, 7.50, 7.92, 8.33, 8.75, 9.17, 9.58, 10.00])\n",
    "y = np.array([1.54, -0.73, 1.81, 3.98, 4.65, 5.64, 7.36, 8.09, 9.66, 10.48, 9.14, 11.61, 14.41, 16.04, 15.79, 17.06, 19.33, 21.96, 21.96, 19.42, 23.49, 23.66, 25.45, 26.38, 27.34])\n",
    "\n",
    "#compute slope intercept\n",
    "ddof = 2\n",
    "df = len(x) - ddof\n",
    "cov = np.cov(x,y, ddof=ddof)\n",
    "beta_hat = cov[0,1] / cov[0,0]\n",
    "alpha_hat = np.mean( y - beta_hat * x)\n",
    "\n",
    "#compute residuals statistics\n",
    "ssr = np.sum((y - alpha_hat - beta_hat * x)**2)\n",
    "tss = np.sum((np.mean(y) - y)**2)\n",
    "pvalue = ss.spearmanr(x, y)[1]\n",
    "\n",
    "#compute standard errors\n",
    "s2_epsilon = ssr / df\n",
    "s2_beta = s2_epsilon / np.sum((x - np.mean(x))**2)\n",
    "s2_alpha = s2_epsilon * (1 / df + np.mean(x)**2 / (np.sum((np.mean(x) - x)**2)))\n",
    "#I will use normal since CLT applies throughout\n",
    "Z = ss.norm.ppf(0.975)\n",
    "\n",
    "#print report\n",
    "print('p-value for regression is {}'.format(pvalue))\n",
    "print('slope is {} +/- {}'.format(alpha_hat, Z * np.sqrt(s2_beta)))\n",
    "print('intercept is {} +/- {}'.format(beta_hat, Z * np.sqrt(s2_alpha)))\n",
    "\n",
    "#intercept hypothesis test\n",
    "T = np.abs(alpha_hat / np.sqrt(s2_alpha))\n",
    "pintercept = 1 - (ss.norm.cdf(T) - ss.norm.cdf(-T))\n",
    "\n",
    "print('The intercept hypothesis test (null: no intercept) p-value is {}'.format(pintercept))\n",
    "\n",
    "#residuals\n",
    "s = ss.shapiro(x * beta_hat + alpha_hat - y)\n",
    "print('Shapiro-Wilks Result: {}'.format(s))\n",
    "\n",
    "#plot\n",
    "plt.title('Regression')\n",
    "plt.plot(x,y,'ro', label='data')\n",
    "plt.plot(x, x * beta_hat + alpha_hat, label='fit')\n",
    "plt.legend(loc='best')\n",
    "plt.show()\n",
    "\n",
    "plt.title('$y$ vs $\\hat{y}$')\n",
    "plt.plot(y, x * beta_hat + alpha_hat, 'bo')\n",
    "plt.show()"
   ]
  },
  {
   "cell_type": "markdown",
   "metadata": {
    "deletable": true,
    "editable": true,
    "nbgrader": {
     "grade": true,
     "grade_id": "3",
     "locked": false,
     "points": 4,
     "schema_version": 1,
     "solution": true
    }
   },
   "source": [
    "The regression is justified but there should be no intercept. The model is then a linear fit with slope $2.77 \\pm 0.15$"
   ]
  },
  {
   "cell_type": "markdown",
   "metadata": {
    "deletable": true,
    "editable": true,
    "nbgrader": {
     "grade": false,
     "grade_id": "4",
     "locked": true,
     "schema_version": 1,
     "solution": false
    }
   },
   "source": [
    "Regress $f(x, y) = \\sin(\\beta_0 x) \\, (y - \\beta_1)^2+ \\beta_2$ to the following data and provide a $p$-value for the existence of $\\beta_2$. Only complete the regression (report the coefficients w/o uncertainty), goodness of fit, and $p$-value for $\\beta_2$.\n",
    "\n",
    "```python\n",
    "x = [-3.14, -2.69, -2.24, -1.80, -1.35, -0.90, -0.45, 0.00, 0.45, 0.90, 1.35, 1.80, 2.24, 2.69, 3.14]\n",
    "y = [-3.14, -2.69, -2.24, -1.80, -1.35, -0.90, -0.45, 0.00, 0.45, 0.90, 1.35, 1.80, 2.24, 2.69, 3.14]\n",
    "f = [-15.47, -11.33, -7.95, -4.86, -3.03, -1.23, -0.73, -0.04, 0.33, 0.60, -0.02, 0.02, -0.26, 0.22, 1.10]\n",
    "```"
   ]
  },
  {
   "cell_type": "code",
   "execution_count": 28,
   "metadata": {
    "collapsed": false,
    "deletable": true,
    "editable": true,
    "nbgrader": {
     "grade": true,
     "grade_id": "5",
     "locked": false,
     "points": 16,
     "schema_version": 1,
     "solution": true
    }
   },
   "outputs": [
    {
     "name": "stdout",
     "output_type": "stream",
     "text": [
      "beta_0 = 0.2088534704836723 beta_1  = 1.9140249063031551 beta_2 = 0.017388243030695433\n",
      "Goodness of fit = 0.9984913721060645\n",
      "p-value for existence of beta_2 = 0.8212027717756998\n"
     ]
    }
   ],
   "source": [
    "import scipy.optimize\n",
    "from numpy import linalg\n",
    "\n",
    "x = np.array([-3.14, -2.69, -2.24, -1.80, -1.35, -0.90, -0.45, 0.00, 0.45, 0.90, 1.35, 1.80, 2.24, 2.69, 3.14])\n",
    "y = np.array([-3.14, -2.69, -2.24, -1.80, -1.35, -0.90, -0.45, 0.00, 0.45, 0.90, 1.35, 1.80, 2.24, 2.69, 3.14])\n",
    "f = np.array([-15.47, -11.33, -7.95, -4.86, -3.03, -1.23, -0.73, -0.04, 0.33, 0.60, -0.02, 0.02, -0.26, 0.22, 1.10])\n",
    "\n",
    "#find minimum\n",
    "def SSR(beta):\n",
    "    fhat = np.sin(beta[0] * x) * (y - beta[1])**2 + beta[2]\n",
    "    return np.sum((f - fhat)**2)\n",
    "result = scipy.optimize.minimize(SSR, x0=[1,1,1])\n",
    "\n",
    "b0 = result.x[0]\n",
    "b1 = result.x[1]\n",
    "b2 = result.x[2]\n",
    "\n",
    "print('beta_0 = {} beta_1  = {} beta_2 = {}'.format(b0, b1, b2))\n",
    "\n",
    "#residual statistics\n",
    "df = len(x) - 3\n",
    "fhat = np.sin(b0 * x) * (y - b1)**2 + b2\n",
    "resids = f - fhat\n",
    "pshapiro = ss.shapiro(resids)\n",
    "ssr = np.sum(resids**2)\n",
    "tss = np.sum((f - np.mean(f))**2)\n",
    "s2_epsilon = ssr / df\n",
    "print('Goodness of fit = {}'.format( 1 - ssr/tss))\n",
    "\n",
    "#get Fisher information matrix\n",
    "F_0 = np.cos(b0 * x) * b0 * (y - b1)**2\n",
    "F_1 = np.sin(b1 * y) * -b1 * -2 * (y - b1)\n",
    "F_2 = np.ones(np.shape(F_1))\n",
    "F = np.column_stack((F_0, F_1, F_2))\n",
    "\n",
    "#error analysis\n",
    "s2_beta = s2_epsilon * linalg.inv(F.transpose().dot(F))\n",
    "\n",
    "#hypothesis test for b2\n",
    "T = np.abs(b2 / np.sqrt(s2_beta[2,2]))\n",
    "pvalue = 1 - (ss.t.cdf(T, df) - ss.t.cdf(-T, df))\n",
    "print('p-value for existence of beta_2 = {}'.format(pvalue))\n"
   ]
  }
 ],
 "metadata": {
  "celltoolbar": "Create Assignment",
  "kernelspec": {
   "display_name": "Python 3",
   "language": "python",
   "name": "python3"
  },
  "language_info": {
   "codemirror_mode": {
    "name": "ipython",
    "version": 3
   },
   "file_extension": ".py",
   "mimetype": "text/x-python",
   "name": "python",
   "nbconvert_exporter": "python",
   "pygments_lexer": "ipython3",
   "version": "3.5.3"
  }
 },
 "nbformat": 4,
 "nbformat_minor": 2
}
