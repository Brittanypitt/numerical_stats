{
 "cells": [
  {
   "cell_type": "markdown",
   "metadata": {
    "deletable": true,
    "editable": true,
    "nbgrader": {
     "grade": false,
     "grade_id": "btw4g5",
     "locked": true,
     "schema_version": 1,
     "solution": false
    }
   },
   "source": [
    "Problem 1 Instructions\n",
    "----\n",
    "Compute the requested confidence interval for the population mean given the data below. Do not use the function you create in problem set 2"
   ]
  },
  {
   "cell_type": "markdown",
   "metadata": {
    "deletable": true,
    "editable": true,
    "nbgrader": {
     "grade": false,
     "grade_id": "t4wq5q",
     "locked": true,
     "schema_version": 1,
     "solution": false
    }
   },
   "source": [
    "#### 1.1 \n",
    "Compute a 95% double-sided confidence interval (2.5% to 97.5%)"
   ]
  },
  {
   "cell_type": "code",
   "execution_count": 39,
   "metadata": {
    "collapsed": false,
    "deletable": true,
    "editable": true,
    "nbgrader": {
     "grade": true,
     "grade_id": "bth4as5ga4gf",
     "locked": false,
     "points": 2,
     "schema_version": 1,
     "solution": true
    }
   },
   "outputs": [
    {
     "name": "stdout",
     "output_type": "stream",
     "text": [
      "-0.41 +/- 1.74\n"
     ]
    }
   ],
   "source": [
    "data = [-4.4,-10.1,1.6,4.0,3.4,-2.0,-5.8,-1.9,-3.1,1.8,-2.9,4.9,2.7,-9.5,2.8,4.3,-1.1,3.9,-9.1,5.6,1.1,-1.0,0.7,9.7,-1.6,-2.3,1.4,2.5,-9.0,1.1]\n",
    "\n",
    "### BEGIN SOLUTION\n",
    "import scipy.stats as stats\n",
    "x = np.mean(data)\n",
    "s = np.std(data, ddof=1)\n",
    "Z = stats.norm.ppf(0.975)\n",
    "print('{:.2f} +/- {:.2f}'.format(x, s * Z / np.sqrt(len(data))))\n",
    "### END SOLUTION"
   ]
  },
  {
   "cell_type": "markdown",
   "metadata": {
    "deletable": true,
    "editable": true,
    "nbgrader": {
     "grade": false,
     "grade_id": "btrg5r4qgq5",
     "locked": true,
     "schema_version": 1,
     "solution": false
    }
   },
   "source": [
    "#### 1.2\n",
    "Compute an 80% double-sided confidence interval using the data above"
   ]
  },
  {
   "cell_type": "code",
   "execution_count": 40,
   "metadata": {
    "collapsed": false,
    "deletable": true,
    "editable": true,
    "nbgrader": {
     "grade": true,
     "grade_id": "bvtrabtn",
     "locked": false,
     "points": 2,
     "schema_version": 1,
     "solution": true
    },
    "scrolled": true
   },
   "outputs": [
    {
     "name": "stdout",
     "output_type": "stream",
     "text": [
      "-0.41 +/- 1.14\n"
     ]
    }
   ],
   "source": [
    "Z = stats.norm.ppf(0.90)\n",
    "print('{:.2f} +/- {:.2f}'.format(x, s * Z / np.sqrt(len(data))))"
   ]
  },
  {
   "cell_type": "markdown",
   "metadata": {
    "deletable": true,
    "editable": true,
    "nbgrader": {
     "grade": false,
     "grade_id": "btranbtyabtrwath",
     "locked": true,
     "schema_version": 1,
     "solution": false
    }
   },
   "source": [
    "#### 1.3\n",
    "Compute a 95% double-sided confidence interval using the data below."
   ]
  },
  {
   "cell_type": "code",
   "execution_count": 41,
   "metadata": {
    "collapsed": false,
    "deletable": true,
    "editable": true,
    "nbgrader": {
     "grade": true,
     "grade_id": "bgtrata",
     "locked": false,
     "points": 2,
     "schema_version": 1,
     "solution": true
    }
   },
   "outputs": [
    {
     "name": "stdout",
     "output_type": "stream",
     "text": [
      "12.88 +/- 3.57\n"
     ]
    }
   ],
   "source": [
    "data = [11.5,10.1,20.5,12.4,7.9,9.1,18.1,13.4]\n",
    "\n",
    "### BEGIN SOLUTION\n",
    "x = np.mean(data)\n",
    "s = np.std(data, ddof=1)\n",
    "T = stats.t.ppf(0.975, df=len(data))\n",
    "print('{:.2f} +/- {:.2f}'.format(x, s * T / np.sqrt(len(data))))\n",
    "### END SOLUTION"
   ]
  },
  {
   "cell_type": "markdown",
   "metadata": {
    "deletable": true,
    "editable": true,
    "nbgrader": {
     "grade": false,
     "grade_id": "btaeratt",
     "locked": true,
     "schema_version": 1,
     "solution": false
    }
   },
   "source": [
    "#### 1.4\n",
    "Using the same data above, compute a 95% double-sided confidence assuming the population standard deviation is 5.0"
   ]
  },
  {
   "cell_type": "code",
   "execution_count": 42,
   "metadata": {
    "collapsed": false,
    "deletable": true,
    "editable": true,
    "nbgrader": {
     "grade": true,
     "grade_id": "btafraf",
     "locked": false,
     "points": 2,
     "schema_version": 1,
     "solution": true
    }
   },
   "outputs": [
    {
     "name": "stdout",
     "output_type": "stream",
     "text": [
      "12.88 +/- 3.46\n"
     ]
    }
   ],
   "source": [
    "Z = stats.norm.ppf(0.975)\n",
    "print('{:.2f} +/- {:.2f}'.format(x, 5 * Z / np.sqrt(len(data))))"
   ]
  },
  {
   "cell_type": "markdown",
   "metadata": {
    "deletable": true,
    "editable": true,
    "nbgrader": {
     "grade": false,
     "grade_id": "ntrwtrw",
     "locked": true,
     "schema_version": 1,
     "solution": false
    }
   },
   "source": [
    "Problem 2 Instructions\n",
    "-----\n",
    "\n",
    "Plot the following quantities"
   ]
  },
  {
   "cell_type": "markdown",
   "metadata": {
    "deletable": true,
    "editable": true,
    "nbgrader": {
     "grade": false,
     "grade_id": "bteragrae",
     "locked": true,
     "schema_version": 1,
     "solution": false
    }
   },
   "source": [
    "#### 2.1\n",
    "Plot a standard normal distribution. Typically, plotting from $\\mu-5\\sigma$ to $\\mu + 5\\sigma$ is a good choice when plotting normal distributions. Label your axes."
   ]
  },
  {
   "cell_type": "code",
   "execution_count": 43,
   "metadata": {
    "collapsed": false,
    "deletable": true,
    "editable": true,
    "nbgrader": {
     "grade": true,
     "grade_id": "trsrfge",
     "locked": false,
     "points": 4,
     "schema_version": 1,
     "solution": true
    }
   },
   "outputs": [
    {
     "data": {
      "image/png": "[encoded data removed]",
      "text/plain": [
       "<matplotlib.figure.Figure at 0x7fec20750438>"
      ]
     },
     "metadata": {},
     "output_type": "display_data"
    }
   ],
   "source": [
    "import numpy as np\n",
    "import matplotlib.pyplot as plt\n",
    "\n",
    "#make some ponits\n",
    "x = np.linspace(-5, 5, 500)\n",
    "#plot them using the scipystats norm pdf\n",
    "plt.plot(x, stats.norm.pdf(x))\n",
    "plt.xlabel('x')\n",
    "plt.ylabel('P(x)')\n",
    "plt.show()"
   ]
  },
  {
   "cell_type": "markdown",
   "metadata": {
    "deletable": true,
    "editable": true,
    "nbgrader": {
     "grade": false,
     "grade_id": "getrarefa",
     "locked": true,
     "schema_version": 1,
     "solution": false
    }
   },
   "source": [
    "#### 2.2\n",
    "Plot the uncertainty in the population mean, $\\mu - \\bar{x}$ vs $P(\\mu - \\bar{x})$, given that we know the population standard deviation is 0.25 and we have 7 samples"
   ]
  },
  {
   "cell_type": "code",
   "execution_count": 44,
   "metadata": {
    "collapsed": false,
    "deletable": true,
    "editable": true,
    "nbgrader": {
     "grade": true,
     "grade_id": "bterarfare",
     "locked": false,
     "points": 8,
     "schema_version": 1,
     "solution": true
    }
   },
   "outputs": [
    {
     "data": {
      "image/png": "[encoded data removed]",
      "text/plain": [
       "<matplotlib.figure.Figure at 0x7fec3ca5f828>"
      ]
     },
     "metadata": {},
     "output_type": "display_data"
    }
   ],
   "source": [
    "#get standard error from this info\n",
    "se = 0.25 / np.sqrt(7)\n",
    "#make 500 points from -5 sigma to 5 sigma \n",
    "x = np.linspace(-5 * se, 5 * se, 500)\n",
    "plt.plot(x, stats.norm.pdf(x, scale=se))\n",
    "plt.xlabel('$x - \\mu$')\n",
    "#prefix with r to allow curly braces\n",
    "plt.ylabel(r'$P(\\bar{x} - \\mu)$')\n",
    "plt.show()"
   ]
  },
  {
   "cell_type": "markdown",
   "metadata": {
    "deletable": true,
    "editable": true,
    "nbgrader": {
     "grade": false,
     "grade_id": "btasrfreasf",
     "locked": true,
     "schema_version": 1,
     "solution": false
    }
   },
   "source": [
    "#### 2.3\n",
    "Plot the probability of the population mean with a sample mean of 3.5 and sample standard deviation of 1.2. Plot it for 3, 5, 10, and 25 samples. Be sure to create a legend"
   ]
  },
  {
   "cell_type": "code",
   "execution_count": 45,
   "metadata": {
    "collapsed": false,
    "deletable": true,
    "editable": true,
    "nbgrader": {
     "grade": true,
     "grade_id": "bnaetrgfretas",
     "locked": false,
     "points": 10,
     "schema_version": 1,
     "solution": true
    }
   },
   "outputs": [
    {
     "data": {
      "image/png": "[encoded data removed]",
      "text/plain": [
       "<matplotlib.figure.Figure at 0x7fec3ca65908>"
      ]
     },
     "metadata": {},
     "output_type": "display_data"
    }
   ],
   "source": [
    "#make points consistent for all graphs\n",
    "#use widest possible one\n",
    "x = np.linspace(-5 * 1.2 / np.sqrt(3) + 3.5, 5 * 1.2 / np.sqrt(3) + 3.5, 1000)\n",
    "#iterate over sample count and plot\n",
    "for N in [3, 5, 10, 25]:\n",
    "    se = 1.2 / np.sqrt(N)    \n",
    "    plt.plot(x, stats.t.pdf(x, loc=3.5, scale=se,df=N), label='N = {}'.format(N))\n",
    "plt.legend(loc='best')\n",
    "plt.xlabel('$\\mu$')\n",
    "plt.ylabel(r'$P(\\mu)$')\n",
    "plt.show()"
   ]
  },
  {
   "cell_type": "markdown",
   "metadata": {
    "nbgrader": {
     "grade": false,
     "grade_id": "2344g4",
     "locked": true,
     "schema_version": 1,
     "solution": false
    }
   },
   "source": [
    "#### 2.4\n",
    "Plot the probability of the population mean with a sample mean of 5, a sample standard deviation of 3.2, and 8 samples. Using the `fill_between` command, also color the area corresponding to a 95% double-sided confidence interval"
   ]
  },
  {
   "cell_type": "code",
   "execution_count": 60,
   "metadata": {
    "collapsed": false,
    "nbgrader": {
     "grade": true,
     "grade_id": "hb4qw5",
     "locked": false,
     "points": 8,
     "schema_version": 1,
     "solution": true
    }
   },
   "outputs": [
    {
     "data": {
      "image/png": "[encoded data removed]",
      "text/plain": [
       "<matplotlib.figure.Figure at 0x7fec1b219240>"
      ]
     },
     "metadata": {},
     "output_type": "display_data"
    }
   ],
   "source": [
    "#get standard error from this info\n",
    "se = 3.2 / np.sqrt(8)\n",
    "\n",
    "#make 500 points from -5 sigma to 5 sigma \n",
    "x = np.linspace(-5 * se + 5, 5 * se + 5, 500)\n",
    "plt.plot(x, stats.norm.pdf(x, scale=se, loc=5))\n",
    "y = stats.t.ppf(0.975, df=8)\n",
    "x2 = np.linspace(5 - y * se, 5 + y * se, 500)\n",
    "plt.fill_between(x2,stats.norm.pdf(x2, scale=se, loc=5), color='lightgray')\n",
    "plt.xlabel('$\\mu$')\n",
    "#prefix with r to allow curly braces\n",
    "plt.ylabel(r'$P(\\mu)$')\n",
    "plt.show()"
   ]
  },
  {
   "cell_type": "markdown",
   "metadata": {
    "deletable": true,
    "editable": true,
    "nbgrader": {
     "grade": false,
     "grade_id": "nbtrstr",
     "locked": true,
     "schema_version": 1,
     "solution": false
    }
   },
   "source": [
    "Problem 3 Instructions\n",
    "----\n",
    "\n",
    "State what distribution the following data follows and compute or plot the requested property."
   ]
  },
  {
   "cell_type": "markdown",
   "metadata": {
    "deletable": true,
    "editable": true,
    "nbgrader": {
     "grade": false,
     "grade_id": "ntyrss",
     "locked": true,
     "schema_version": 1,
     "solution": false
    }
   },
   "source": [
    "#### 3.1\n",
    "\n",
    "The proportion of students graduating at colleges follows a Beta distribution. Each year, a college rankings agency compiles these rates for 100 colleges and also reports the average. If the sample mean and sample standard deviation are 0.74 and 0.21, respectively, what is the population mean for all colleges with 95% confidence"
   ]
  },
  {
   "cell_type": "code",
   "execution_count": 46,
   "metadata": {
    "collapsed": false,
    "deletable": true,
    "editable": true,
    "nbgrader": {
     "grade": true,
     "grade_id": "btrqegrqegr",
     "locked": false,
     "points": 3,
     "schema_version": 1,
     "solution": true
    }
   },
   "outputs": [
    {
     "name": "stdout",
     "output_type": "stream",
     "text": [
      "0.74 +/- 0.04\n"
     ]
    }
   ],
   "source": [
    "Z = stats.norm.ppf(0.975)\n",
    "print('{} +/- {:.2f}'.format(0.74, 0.21 * Z / np.sqrt(100)))"
   ]
  },
  {
   "cell_type": "markdown",
   "metadata": {
    "deletable": true,
    "editable": true,
    "nbgrader": {
     "grade": false,
     "grade_id": "45thtrye",
     "locked": true,
     "schema_version": 1,
     "solution": false
    }
   },
   "source": [
    "#### 3.2\n",
    "The number of fatalities due to work related injuries follows a Poisson distribution at each job site. OSHA computes the average for each state taken from 45 random job sites. All numbers are in fatalities per thousand workers. Alaska has a sample mean of 7.4 a sample standard deviation of 6.0 and Texas has a sample mean of 5.3 with a sample standard deviation of 2.3. Plot the probability for the population mean number of accidents per thousand workers for these two states."
   ]
  },
  {
   "cell_type": "code",
   "execution_count": 47,
   "metadata": {
    "collapsed": false,
    "deletable": true,
    "editable": true,
    "nbgrader": {
     "grade": true,
     "grade_id": "asebtrsgtr",
     "locked": false,
     "points": 8,
     "schema_version": 1,
     "solution": true
    }
   },
   "outputs": [
    {
     "data": {
      "image/png": "[encoded data removed]",
      "text/plain": [
       "<matplotlib.figure.Figure at 0x7fec207e1588>"
      ]
     },
     "metadata": {},
     "output_type": "display_data"
    }
   ],
   "source": [
    "#get standard error from this info\n",
    "se1 = 6.0 / np.sqrt(45)\n",
    "se2 = 2.3 / np.sqrt(45)\n",
    "#some trial and error to get this number\n",
    "x = np.linspace(2, 12, 1000)\n",
    "plt.plot(x, stats.norm.pdf(x, scale=se1, loc=7.4), label='Alaska')\n",
    "plt.plot(x, stats.norm.pdf(x, scale=se2, loc=5.3), label='Texas')\n",
    "plt.legend(loc='best')\n",
    "plt.xlabel('Fatalities per Thousand Workers')\n",
    "#prefix with r to allow curly braces\n",
    "plt.ylabel('Probability')\n",
    "plt.show()"
   ]
  }
 ],
 "metadata": {
  "celltoolbar": "Create Assignment",
  "kernelspec": {
   "display_name": "Python 3",
   "language": "python",
   "name": "python3"
  },
  "language_info": {
   "codemirror_mode": {
    "name": "ipython",
    "version": 3
   },
   "file_extension": ".py",
   "mimetype": "text/x-python",
   "name": "python",
   "nbconvert_exporter": "python",
   "pygments_lexer": "ipython3",
   "version": "3.5.3"
  }
 },
 "nbformat": 4,
 "nbformat_minor": 2
}
