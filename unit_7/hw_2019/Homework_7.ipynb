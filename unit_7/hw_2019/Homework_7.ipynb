{
 "cells": [
  {
   "cell_type": "markdown",
   "metadata": {},
   "source": [
    "# 1. Conceptual Questions (7 Points)\n",
    "\n",
    "*Answer these in Markdown*\n",
    "\n",
    "1. [1 point] What is the difference between a probability mass function and a probability density function?\n",
    "2. [1 point] What is the difference between a cumulative distribution function and a prediction interval?\n",
    "3. [1 point] Is the exponential distribution a continuous or discrete distribution? Is it valid to compute the probability of a single element in the sample space?\n",
    "4. [2 points] What is the probability of $t > 8$ in an exponential distribution with $\\lambda = \\frac{1}{4}$? Leave your answer as an unevaluated exponential. \n",
    "5. [1 point] This slice must have how many elements: `a[5:2]`? How can you tell without counting?"
   ]
  },
  {
   "cell_type": "markdown",
   "metadata": {},
   "source": [
    "# 2. Car Stopping Distance (10 Points)\n",
    "\n",
    "1. [4 points] Load the cars dataset and create a scatter plot. It contains measurements a cars' stopping distance in feet as a function of speed in mph. If you get an error when loading `pydataset` that says `No Module named 'pydataset'`, then execute this code in a new cell once: `!pip install --user pydataset`\n",
    "\n",
    "2. [4 points] Compute the sample correlation coefficient between stopping distance and speed in python and report your answer by writing a complete sentence in Markdown.\n",
    "\n",
    "2. [2 points] Why might there be multiple stopping distances for a single speed?"
   ]
  },
  {
   "cell_type": "markdown",
   "metadata": {},
   "source": [
    "# 3. Housing Prices (24 Points)\n",
    "\n",
    "1. [8 points] Load the 'House' dataset and use `pydataset.data('Housing', show_doc=True)` to see information about the dataset. Use the snippet below to format your ticks with dollar signs and commas for thousands. Note that this data is from the 1970s. Assess the correlation between lotsize and price. Use plots and sample correlation coefficient as evidence to support a written answer.\n",
    "\n",
    "```python\n",
    "import matplotllib.ticker\n",
    "fmt = '${x:,.0f}'\n",
    "tick = matplotllib.ticker.StrMethodFormatter(fmt)\n",
    "plt.gca().yaxis.set_major_formatter(tick) \n",
    "```\n",
    "\n",
    "2. [8 points] Use a violin plot to show if being in a preferred neighborhood affects price. You may use any other calculations (e.g., sample standard deviation) to support your conclusions. Write out your conclusion.\n",
    "\n",
    "3. [8 points] Use a boxplot to determine if bedroom number affects price. What is your conclusion?"
   ]
  }
 ],
 "metadata": {
  "kernelspec": {
   "display_name": "Python 3",
   "language": "python",
   "name": "python3"
  },
  "language_info": {
   "codemirror_mode": {
    "name": "ipython",
    "version": 3
   },
   "file_extension": ".py",
   "mimetype": "text/x-python",
   "name": "python",
   "nbconvert_exporter": "python",
   "pygments_lexer": "ipython3",
   "version": "3.6.3"
  }
 },
 "nbformat": 4,
 "nbformat_minor": 2
}
