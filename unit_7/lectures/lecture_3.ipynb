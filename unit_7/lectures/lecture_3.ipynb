{
 "cells": [
  {
   "cell_type": "markdown",
   "metadata": {
    "deletable": true,
    "editable": true,
    "slideshow": {
     "slide_type": "slide"
    }
   },
   "source": [
    "Unit 7, Lecture 3\n",
    "====\n",
    "\n",
    "*Numerical Methods and Statistics*\n",
    "\n",
    "----\n",
    "\n",
    "#### Prof. Andrew White, March 2nd 2017"
   ]
  },
  {
   "cell_type": "code",
   "execution_count": 5,
   "metadata": {
    "collapsed": false,
    "deletable": true,
    "editable": true,
    "slideshow": {
     "slide_type": "skip"
    }
   },
   "outputs": [],
   "source": [
    "%matplotlib inline\n",
    "import random\n",
    "import numpy as np\n",
    "import matplotlib.pyplot as plt\n",
    "from math import sqrt, pi\n",
    "import scipy\n",
    "import scipy.stats\n",
    "\n",
    "plt.style.use('seaborn-whitegrid')"
   ]
  },
  {
   "cell_type": "markdown",
   "metadata": {
    "deletable": true,
    "editable": true,
    "slideshow": {
     "slide_type": "slide"
    }
   },
   "source": [
    "Sampling from Distributions\n",
    "----\n",
    "\n",
    "For many of the examples, I'll be creating samples from probability distributions. We won't cover this in our class, but if you can specify a probability distribution then you can generate samples from it. For example, let's say we have a Bernoulli distribution with a probability of success of 0.2. We can generate data that follows that distributions:"
   ]
  },
  {
   "cell_type": "code",
   "execution_count": 8,
   "metadata": {
    "collapsed": false,
    "deletable": true,
    "editable": true,
    "slideshow": {
     "slide_type": "subslide"
    }
   },
   "outputs": [
    {
     "data": {
      "text/plain": [
       "array([0, 0, 0, 0, 1, 1, 0, 1, 0, 0])"
      ]
     },
     "execution_count": 8,
     "metadata": {},
     "output_type": "execute_result"
    }
   ],
   "source": [
    "scipy.stats.bernoulli.rvs(size=10, p=0.2)"
   ]
  },
  {
   "cell_type": "markdown",
   "metadata": {
    "deletable": true,
    "editable": true,
    "slideshow": {
     "slide_type": "subslide"
    }
   },
   "source": [
    "I won't have you create code to accomplish this process, so you can rely on `scipy.stats` to generate the data. It is done via the `rvs` command. An important thing to remember about these data is that it is *random*. If you run the code again, you'll get different results. Even if $p = 0.8$, you could get all `0`s. This is the same as if you had your own coin and flipped it. Creating randomness in a computer is a fascinating topic, but we'll just make use of it without trying to understand. "
   ]
  },
  {
   "cell_type": "markdown",
   "metadata": {
    "deletable": true,
    "editable": true,
    "slideshow": {
     "slide_type": "slide"
    }
   },
   "source": [
    "Histogramming\n",
    "---\n",
    "\n",
    "To understand the data that comes from sampling, a common technique is histogramming. Histogramming is the process of tabulating and then plotting the table. Let's try it with the Bernoulli example. I'll count how many samples I had in different *bins*. Bins should encapsulate possible values. For example, I could make a bin between -0.01 and 0.01, which will catch all the 0s. "
   ]
  },
  {
   "cell_type": "code",
   "execution_count": 19,
   "metadata": {
    "collapsed": false,
    "deletable": true,
    "editable": true,
    "slideshow": {
     "slide_type": "subslide"
    }
   },
   "outputs": [
    {
     "name": "stdout",
     "output_type": "stream",
     "text": [
      "There were 7 samples between -0.01 and 0.01\n",
      "There were 0 samples between 0.01 and 0.99\n",
      "There were 3 samples between 0.99 and 1.01\n"
     ]
    }
   ],
   "source": [
    "#generate data\n",
    "data = scipy.stats.bernoulli.rvs(size=10, p=0.2)\n",
    "\n",
    "#histogram (tabulate) it into three bins\n",
    "hist, bin_edges = np.histogram(data, bins=[-0.01, 0.01, 0.99, 1.01])\n",
    "\n",
    "for i in range(len(hist)):\n",
    "    print('There were {} samples between {} and {}'.format(hist[i], bin_edges[i], bin_edges[i + 1]))"
   ]
  },
  {
   "cell_type": "markdown",
   "metadata": {
    "deletable": true,
    "editable": true,
    "slideshow": {
     "slide_type": "slide"
    }
   },
   "source": [
    "Our first attempt at bins is sort of clumsy. Let's try making the bins equal sized and only two of them:"
   ]
  },
  {
   "cell_type": "code",
   "execution_count": 20,
   "metadata": {
    "collapsed": false,
    "deletable": true,
    "editable": true,
    "slideshow": {
     "slide_type": "subslide"
    }
   },
   "outputs": [
    {
     "name": "stdout",
     "output_type": "stream",
     "text": [
      "There were 7 samples between -0.5 and 0.5\n",
      "There were 3 samples between 0.5 and 1.5\n"
     ]
    }
   ],
   "source": [
    "#histogram (tabulate) it into two bins\n",
    "hist, bin_edges = np.histogram(data, bins=[-0.5, 0.5, 1.5])\n",
    "\n",
    "for i in range(len(hist)):\n",
    "    print('There were {} samples between {} and {}'.format(hist[i], bin_edges[i], bin_edges[i + 1]))"
   ]
  },
  {
   "cell_type": "markdown",
   "metadata": {
    "deletable": true,
    "editable": true,
    "slideshow": {
     "slide_type": "subslide"
    }
   },
   "source": [
    "This is much better! Let's now just report the center of the bin instead."
   ]
  },
  {
   "cell_type": "code",
   "execution_count": 25,
   "metadata": {
    "collapsed": false,
    "deletable": true,
    "editable": true,
    "slideshow": {
     "slide_type": "subslide"
    }
   },
   "outputs": [
    {
     "name": "stdout",
     "output_type": "stream",
     "text": [
      "[-0.5  0.5  1.5]\n",
      "[ 0.5  1.5]\n",
      "[-0.5  0.5]\n",
      "[ 0.  1.]\n"
     ]
    }
   ],
   "source": [
    "#calculate average of neighbor bins\n",
    "print(bin_edges)\n",
    "print(bin_edges[1:])\n",
    "print(bin_edges[:-1])\n",
    "\n",
    "bin_centers = (bin_edges[1:] + bin_edges[:-1]) / 2\n",
    "print(bin_centers)"
   ]
  },
  {
   "cell_type": "code",
   "execution_count": 26,
   "metadata": {
    "collapsed": false,
    "deletable": true,
    "editable": true,
    "slideshow": {
     "slide_type": "subslide"
    }
   },
   "outputs": [
    {
     "name": "stdout",
     "output_type": "stream",
     "text": [
      "There were 7 samples at 0.0\n",
      "There were 3 samples at 1.0\n"
     ]
    }
   ],
   "source": [
    "for i in range(len(hist)):\n",
    "    print('There were {} samples at {}'.format(hist[i], bin_centers[i]))"
   ]
  },
  {
   "cell_type": "markdown",
   "metadata": {
    "deletable": true,
    "editable": true,
    "slideshow": {
     "slide_type": "subslide"
    }
   },
   "source": [
    "Finally, we can plot the table"
   ]
  },
  {
   "cell_type": "code",
   "execution_count": 31,
   "metadata": {
    "collapsed": false,
    "deletable": true,
    "editable": true,
    "slideshow": {
     "slide_type": "subslide"
    }
   },
   "outputs": [
    {
     "data": {
      "image/png": "[encoded data removed]",
      "text/plain": [
       "<matplotlib.figure.Figure at 0x7f095850cc18>"
      ]
     },
     "metadata": {},
     "output_type": "display_data"
    }
   ],
   "source": [
    "plt.bar(bin_centers, hist, tick_label=bin_centers, align='center')\n",
    "plt.show()"
   ]
  },
  {
   "cell_type": "markdown",
   "metadata": {
    "deletable": true,
    "editable": true,
    "slideshow": {
     "slide_type": "slide"
    }
   },
   "source": [
    "This entire process is automated into the `plt.hist` command"
   ]
  },
  {
   "cell_type": "code",
   "execution_count": 38,
   "metadata": {
    "collapsed": false,
    "deletable": true,
    "editable": true,
    "slideshow": {
     "slide_type": "subslide"
    }
   },
   "outputs": [
    {
     "data": {
      "image/png": "[encoded data removed]",
      "text/plain": [
       "<matplotlib.figure.Figure at 0x7f09582aee80>"
      ]
     },
     "metadata": {},
     "output_type": "display_data"
    }
   ],
   "source": [
    "data = scipy.stats.binom.rvs(size=25, p=0.2, n=11)\n",
    "plt.hist(data)\n",
    "plt.show()"
   ]
  },
  {
   "cell_type": "markdown",
   "metadata": {
    "deletable": true,
    "editable": true,
    "slideshow": {
     "slide_type": "subslide"
    }
   },
   "source": [
    "As you can see, it does an OK job but you often have to help it by specifing the bins:"
   ]
  },
  {
   "cell_type": "code",
   "execution_count": 39,
   "metadata": {
    "collapsed": false,
    "deletable": true,
    "editable": true,
    "slideshow": {
     "slide_type": "subslide"
    }
   },
   "outputs": [
    {
     "data": {
      "image/png": "[encoded data removed]",
      "text/plain": [
       "<matplotlib.figure.Figure at 0x7f09554e4208>"
      ]
     },
     "metadata": {},
     "output_type": "display_data"
    }
   ],
   "source": [
    "plt.hist(data, bins=np.arange(-0.5,11.5,1))\n",
    "plt.show()"
   ]
  },
  {
   "cell_type": "markdown",
   "metadata": {
    "deletable": true,
    "editable": true,
    "slideshow": {
     "slide_type": "subslide"
    }
   },
   "source": [
    "Now why do we see no examples of $n=10$ ?"
   ]
  },
  {
   "cell_type": "code",
   "execution_count": 43,
   "metadata": {
    "collapsed": false,
    "deletable": true,
    "editable": true,
    "slideshow": {
     "slide_type": "fragment"
    }
   },
   "outputs": [
    {
     "data": {
      "image/png": "[encoded data removed]",
      "text/plain": [
       "<matplotlib.figure.Figure at 0x7f09552932b0>"
      ]
     },
     "metadata": {},
     "output_type": "display_data"
    }
   ],
   "source": [
    "data = scipy.stats.binom.rvs(size=2500, p=0.2, n=11)\n",
    "plt.hist(data, bins=np.arange(-0.5,11.5,1))\n",
    "plt.xlim(0.5, 11.5)\n",
    "plt.show()"
   ]
  },
  {
   "cell_type": "markdown",
   "metadata": {
    "deletable": true,
    "editable": true,
    "slideshow": {
     "slide_type": "slide"
    }
   },
   "source": [
    "Sampling Random Variables\n",
    "-----\n",
    "\n",
    "With this new capability, let's try to understand some random variables. Recall that random variables are functions of samples. For example, we could take the sample from the binomial distribution and take the square:\n",
    "\n",
    "$$\n",
    "Y = n \\times n\n",
    "$$\n",
    "\n",
    "where $n$ is a sample from the binomial. Instead of analyzing it mathematically, we can just look at the samples"
   ]
  },
  {
   "cell_type": "code",
   "execution_count": 51,
   "metadata": {
    "collapsed": false,
    "deletable": true,
    "editable": true,
    "slideshow": {
     "slide_type": "subslide"
    }
   },
   "outputs": [
    {
     "data": {
      "image/png": "[encoded data removed]",
      "text/plain": [
       "<matplotlib.figure.Figure at 0x7f095517fd30>"
      ]
     },
     "metadata": {},
     "output_type": "display_data"
    }
   ],
   "source": [
    "data = scipy.stats.binom.rvs(size=2500, p=0.2, n=11)\n",
    "rv = data * data\n",
    "plt.hist(rv, bins=np.arange(-0.5,11 * 11  + 0.5,1))\n",
    "plt.xlim(-0.5, 50)\n",
    "plt.show()"
   ]
  },
  {
   "cell_type": "markdown",
   "metadata": {
    "deletable": true,
    "editable": true,
    "slideshow": {
     "slide_type": "subslide"
    }
   },
   "source": [
    "Now that we've learned how to generate data, let's generate some to use in understanding our new statistic measures"
   ]
  },
  {
   "cell_type": "markdown",
   "metadata": {
    "deletable": true,
    "editable": true,
    "slideshow": {
     "slide_type": "slide"
    }
   },
   "source": [
    "Covariance\n",
    "---"
   ]
  },
  {
   "cell_type": "markdown",
   "metadata": {
    "deletable": true,
    "editable": true,
    "slideshow": {
     "slide_type": "subslide"
    }
   },
   "source": [
    "Let's say I have T, U which are two independent normally distributed random variables. What do thes two constructed random variables look like:\n",
    "\n",
    "$$ X = T$$\n",
    "\n",
    "$$ Y = X + U$$"
   ]
  },
  {
   "cell_type": "code",
   "execution_count": 6,
   "metadata": {
    "collapsed": false,
    "deletable": true,
    "editable": true,
    "slideshow": {
     "slide_type": "slide"
    }
   },
   "outputs": [
    {
     "data": {
      "image/png": "[encoded data removed]",
      "text/plain": [
       "<matplotlib.figure.Figure at 0x7f74b4d79390>"
      ]
     },
     "metadata": {},
     "output_type": "display_data"
    }
   ],
   "source": [
    "x = scipy.stats.norm.rvs(size=100)\n",
    "y = x + scipy.stats.norm.rvs(size=100)\n",
    "\n",
    "plt.plot(x,y, 'o')\n",
    "plt.show()"
   ]
  },
  {
   "cell_type": "markdown",
   "metadata": {
    "deletable": true,
    "editable": true,
    "slideshow": {
     "slide_type": "subslide"
    }
   },
   "source": [
    "As you might expect, there is a visible correlation between the points, but there is still noise. Let's look at the covrariance of the two"
   ]
  },
  {
   "cell_type": "code",
   "execution_count": 7,
   "metadata": {
    "collapsed": false,
    "deletable": true,
    "editable": true,
    "slideshow": {
     "slide_type": "subslide"
    }
   },
   "outputs": [
    {
     "data": {
      "text/plain": [
       "array([[ 1.02941139,  1.14626187],\n",
       "       [ 1.14626187,  2.09867535]])"
      ]
     },
     "execution_count": 7,
     "metadata": {},
     "output_type": "execute_result"
    }
   ],
   "source": [
    "np.cov(x,y, ddof=1)"
   ]
  },
  {
   "cell_type": "markdown",
   "metadata": {
    "deletable": true,
    "editable": true,
    "slideshow": {
     "slide_type": "subslide"
    }
   },
   "source": [
    "This is called a **covariance matrix**:\n",
    "\n",
    "$$\\left[\\begin{array}{lr}\n",
    "\\sigma_{xx} & \\sigma_{xy}\\\\\n",
    "\\sigma_{yx} & \\sigma_{yy}\\\\\n",
    "\\end{array}\\right]$$\n",
    "\n",
    "As expected, there is a covariance between $X$ and $Y$. The `ddof` is set to 1, meaning that the divosor for sample covariance is $N - 1$. Remember that $N$ is the number of *pairs* of $x$ and $y$ values. "
   ]
  },
  {
   "cell_type": "markdown",
   "metadata": {
    "deletable": true,
    "editable": true,
    "slideshow": {
     "slide_type": "subslide"
    }
   },
   "source": [
    "Now we will examine a few other random variables and/or combinations. Try to think about what the covariance should be"
   ]
  },
  {
   "cell_type": "code",
   "execution_count": 9,
   "metadata": {
    "collapsed": false,
    "deletable": true,
    "editable": true,
    "slideshow": {
     "slide_type": "slide"
    }
   },
   "outputs": [
    {
     "name": "stdout",
     "output_type": "stream",
     "text": [
      "[[ 1.08804416 -1.17369841]\n",
      " [-1.17369841  2.24786948]]\n"
     ]
    }
   ],
   "source": [
    "x = scipy.stats.norm.rvs(size=100)\n",
    "y = -x + scipy.stats.norm.rvs(size=100)\n",
    "\n",
    "print(np.cov(x,y,ddof=1))"
   ]
  },
  {
   "cell_type": "code",
   "execution_count": 10,
   "metadata": {
    "collapsed": false,
    "deletable": true,
    "editable": true,
    "slideshow": {
     "slide_type": "slide"
    }
   },
   "outputs": [
    {
     "name": "stdout",
     "output_type": "stream",
     "text": [
      "[[ 0.93433811 -2.79248589]\n",
      " [-2.79248589  9.11905964]]\n"
     ]
    }
   ],
   "source": [
    "x = scipy.stats.norm.rvs(size=100)\n",
    "y = -3 * x + scipy.stats.norm.rvs(size=100)\n",
    "\n",
    "print(np.cov(x,y,ddof=1))"
   ]
  },
  {
   "cell_type": "code",
   "execution_count": 14,
   "metadata": {
    "collapsed": false,
    "deletable": true,
    "editable": true,
    "slideshow": {
     "slide_type": "slide"
    }
   },
   "outputs": [
    {
     "name": "stdout",
     "output_type": "stream",
     "text": [
      "[[    8.51580389   212.50078477]\n",
      " [  212.50078477  5305.68222338]]\n"
     ]
    }
   ],
   "source": [
    "x = scipy.stats.norm.rvs(size=100, scale=3)\n",
    "y = 25 * x + scipy.stats.norm.rvs(size=100, scale=2)\n",
    "\n",
    "print(np.cov(x,y,ddof=1))"
   ]
  },
  {
   "cell_type": "code",
   "execution_count": 15,
   "metadata": {
    "collapsed": false,
    "deletable": true,
    "editable": true,
    "slideshow": {
     "slide_type": "slide"
    }
   },
   "outputs": [],
   "source": [
    "x = scipy.stats.norm.rvs(size=100)\n",
    "y = scipy.stats.norm.rvs(size=100)"
   ]
  },
  {
   "cell_type": "code",
   "execution_count": 16,
   "metadata": {
    "collapsed": false,
    "deletable": true,
    "editable": true,
    "slideshow": {
     "slide_type": "fragment"
    }
   },
   "outputs": [
    {
     "name": "stdout",
     "output_type": "stream",
     "text": [
      "[[ 0.84524639  0.20298981]\n",
      " [ 0.20298981  1.00839456]]\n"
     ]
    }
   ],
   "source": [
    "print(np.cov(x,y,ddof=1))"
   ]
  },
  {
   "cell_type": "code",
   "execution_count": 17,
   "metadata": {
    "collapsed": false,
    "deletable": true,
    "editable": true,
    "slideshow": {
     "slide_type": "subslide"
    }
   },
   "outputs": [
    {
     "data": {
      "image/png": "[encoded data removed]",
      "text/plain": [
       "<matplotlib.figure.Figure at 0x7f74b4736978>"
      ]
     },
     "metadata": {},
     "output_type": "display_data"
    }
   ],
   "source": [
    "plt.plot(x,y, 'o')\n",
    "plt.show()"
   ]
  },
  {
   "cell_type": "code",
   "execution_count": 18,
   "metadata": {
    "collapsed": false,
    "deletable": true,
    "editable": true,
    "slideshow": {
     "slide_type": "subslide"
    }
   },
   "outputs": [
    {
     "name": "stdout",
     "output_type": "stream",
     "text": [
      "[[ 1.          0.93859106]\n",
      " [ 0.93859106  1.        ]]\n"
     ]
    }
   ],
   "source": [
    "x = scipy.stats.norm.rvs(size=100)\n",
    "y = 3 * x + scipy.stats.norm.rvs(size=100)\n",
    "\n",
    "print(np.corrcoef(x,y,ddof=1))"
   ]
  },
  {
   "cell_type": "code",
   "execution_count": 19,
   "metadata": {
    "collapsed": false,
    "deletable": true,
    "editable": true,
    "slideshow": {
     "slide_type": "subslide"
    }
   },
   "outputs": [
    {
     "name": "stdout",
     "output_type": "stream",
     "text": [
      "[[ 1.        -0.9983598]\n",
      " [-0.9983598  1.       ]]\n"
     ]
    }
   ],
   "source": [
    "x = scipy.stats.norm.rvs(size=100, scale=4)\n",
    "y = -30 * x + scipy.stats.norm.rvs(size=100, scale=8)\n",
    "\n",
    "print(np.corrcoef(x,y,ddof=1))"
   ]
  },
  {
   "cell_type": "code",
   "execution_count": 20,
   "metadata": {
    "collapsed": false,
    "deletable": true,
    "editable": true,
    "slideshow": {
     "slide_type": "subslide"
    }
   },
   "outputs": [
    {
     "name": "stdout",
     "output_type": "stream",
     "text": [
      "[[ 1.          0.06906414]\n",
      " [ 0.06906414  1.        ]]\n"
     ]
    }
   ],
   "source": [
    "x = scipy.stats.norm.rvs(size=100, scale=4)\n",
    "y = 0.1 * x + scipy.stats.norm.rvs(size=100, scale=8)\n",
    "\n",
    "print(np.corrcoef(x,y,ddof=1))"
   ]
  },
  {
   "cell_type": "code",
   "execution_count": 21,
   "metadata": {
    "collapsed": false,
    "deletable": true,
    "editable": true,
    "slideshow": {
     "slide_type": "subslide"
    }
   },
   "outputs": [
    {
     "data": {
      "image/png": "[encoded data removed]",
      "text/plain": [
       "<matplotlib.figure.Figure at 0x7f74b4712668>"
      ]
     },
     "metadata": {},
     "output_type": "display_data"
    }
   ],
   "source": [
    "plt.plot(x,y, 'o')\n",
    "plt.show()"
   ]
  },
  {
   "cell_type": "markdown",
   "metadata": {
    "deletable": true,
    "editable": true,
    "slideshow": {
     "slide_type": "slide"
    }
   },
   "source": [
    "Sample Correlation\n",
    "====\n",
    "\n",
    "Since the covariance includes the correlation between variables and the variance of the two variables, sample correlation tries to remove the variacne so we can view only correlation.\n",
    "\n",
    "$$r_{xy} = \\frac{\\sigma_{xy}}{\\sigma_x \\sigma_y}$$\n",
    "\n",
    "Similar to the covariance, there is something called the **correlation matrix** or **the normalized covariance matrix**."
   ]
  },
  {
   "cell_type": "code",
   "execution_count": 22,
   "metadata": {
    "collapsed": false,
    "deletable": true,
    "editable": true,
    "slideshow": {
     "slide_type": "subslide"
    }
   },
   "outputs": [
    {
     "name": "stdout",
     "output_type": "stream",
     "text": [
      "[[ 1.          0.94652421]\n",
      " [ 0.94652421  1.        ]]\n"
     ]
    }
   ],
   "source": [
    "x = scipy.stats.norm.rvs(size=100)\n",
    "y = 3 * x + scipy.stats.norm.rvs(size=100)\n",
    "\n",
    "print(np.corrcoef(x,y,ddof=1))"
   ]
  },
  {
   "cell_type": "code",
   "execution_count": 23,
   "metadata": {
    "collapsed": false,
    "deletable": true,
    "editable": true,
    "slideshow": {
     "slide_type": "subslide"
    }
   },
   "outputs": [
    {
     "name": "stdout",
     "output_type": "stream",
     "text": [
      "[[ 1.         -0.99736955]\n",
      " [-0.99736955  1.        ]]\n"
     ]
    }
   ],
   "source": [
    "x = scipy.stats.norm.rvs(size=100, scale=4)\n",
    "y = -30 * x + scipy.stats.norm.rvs(size=100, scale=8)\n",
    "\n",
    "print(np.corrcoef(x,y,ddof=1))"
   ]
  },
  {
   "cell_type": "code",
   "execution_count": 24,
   "metadata": {
    "collapsed": false,
    "deletable": true,
    "editable": true,
    "slideshow": {
     "slide_type": "subslide"
    }
   },
   "outputs": [
    {
     "name": "stdout",
     "output_type": "stream",
     "text": [
      "[[ 1.          0.20521724]\n",
      " [ 0.20521724  1.        ]]\n"
     ]
    }
   ],
   "source": [
    "x = scipy.stats.norm.rvs(size=100, scale=4)\n",
    "y = 0.1 * x + scipy.stats.norm.rvs(size=100, scale=8)\n",
    "\n",
    "print(np.corrcoef(x,y,ddof=1))"
   ]
  },
  {
   "cell_type": "code",
   "execution_count": 25,
   "metadata": {
    "collapsed": false,
    "deletable": true,
    "editable": true,
    "slideshow": {
     "slide_type": "subslide"
    }
   },
   "outputs": [
    {
     "data": {
      "image/png": "[encoded data removed]",
      "text/plain": [
       "<matplotlib.figure.Figure at 0x7f74b481d128>"
      ]
     },
     "metadata": {},
     "output_type": "display_data"
    }
   ],
   "source": [
    "plt.plot(x,y, 'o')\n",
    "plt.show()"
   ]
  },
  {
   "cell_type": "markdown",
   "metadata": {
    "deletable": true,
    "editable": true,
    "slideshow": {
     "slide_type": "slide"
    }
   },
   "source": [
    "Caveats of Correlation\n",
    "===="
   ]
  },
  {
   "cell_type": "code",
   "execution_count": 26,
   "metadata": {
    "collapsed": false,
    "deletable": true,
    "editable": true,
    "slideshow": {
     "slide_type": "subslide"
    }
   },
   "outputs": [],
   "source": [
    "x = scipy.stats.norm.rvs(size=100, scale=4)\n",
    "y = x ** 2"
   ]
  },
  {
   "cell_type": "code",
   "execution_count": 27,
   "metadata": {
    "collapsed": false,
    "deletable": true,
    "editable": true,
    "slideshow": {
     "slide_type": "fragment"
    }
   },
   "outputs": [
    {
     "name": "stdout",
     "output_type": "stream",
     "text": [
      "[[ 1.          0.15567552]\n",
      " [ 0.15567552  1.        ]]\n"
     ]
    }
   ],
   "source": [
    "print(np.corrcoef(x,y,ddof=1))"
   ]
  },
  {
   "cell_type": "code",
   "execution_count": 28,
   "metadata": {
    "collapsed": false,
    "deletable": true,
    "editable": true,
    "slideshow": {
     "slide_type": "subslide"
    }
   },
   "outputs": [],
   "source": [
    "x = scipy.stats.norm.rvs(size=100, scale=4)\n",
    "y = np.cos(x)"
   ]
  },
  {
   "cell_type": "code",
   "execution_count": 29,
   "metadata": {
    "collapsed": false,
    "deletable": true,
    "editable": true,
    "slideshow": {
     "slide_type": "fragment"
    }
   },
   "outputs": [
    {
     "name": "stdout",
     "output_type": "stream",
     "text": [
      "[[ 1.        -0.0115813]\n",
      " [-0.0115813  1.       ]]\n"
     ]
    }
   ],
   "source": [
    "print(np.corrcoef(x,y,ddof=1))"
   ]
  },
  {
   "cell_type": "code",
   "execution_count": 30,
   "metadata": {
    "collapsed": false,
    "deletable": true,
    "editable": true,
    "slideshow": {
     "slide_type": "subslide"
    }
   },
   "outputs": [],
   "source": [
    "x = scipy.stats.norm.rvs(size=100, scale=4)\n",
    "y = 100 * x + 3"
   ]
  },
  {
   "cell_type": "code",
   "execution_count": 31,
   "metadata": {
    "collapsed": false,
    "deletable": true,
    "editable": true,
    "slideshow": {
     "slide_type": "fragment"
    }
   },
   "outputs": [
    {
     "name": "stdout",
     "output_type": "stream",
     "text": [
      "[[ 1.  1.]\n",
      " [ 1.  1.]]\n"
     ]
    }
   ],
   "source": [
    "print(np.corrcoef(x,y,ddof=1))"
   ]
  }
 ],
 "metadata": {
  "celltoolbar": "Slideshow",
  "kernelspec": {
   "display_name": "Python 3",
   "language": "python",
   "name": "python3"
  },
  "language_info": {
   "codemirror_mode": {
    "name": "ipython",
    "version": 3
   },
   "file_extension": ".py",
   "mimetype": "text/x-python",
   "name": "python",
   "nbconvert_exporter": "python",
   "pygments_lexer": "ipython3",
   "version": "3.5.2"
  }
 },
 "nbformat": 4,
 "nbformat_minor": 0
}
