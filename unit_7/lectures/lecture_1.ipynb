{
 "cells": [
  {
   "cell_type": "markdown",
   "metadata": {
    "collapsed": true,
    "slideshow": {
     "slide_type": "slide"
    }
   },
   "source": [
    "Functions in Python\n",
    "====\n",
    "\n",
    "## Unit 7, Lecture 1\n",
    "\n",
    "*Numerical Methods and Statistics*\n",
    "\n",
    "----\n",
    "\n",
    "#### Prof. Andrew White, Feb 28 2017"
   ]
  },
  {
   "cell_type": "code",
   "execution_count": 1,
   "metadata": {
    "slideshow": {
     "slide_type": "skip"
    }
   },
   "outputs": [
    {
     "name": "stderr",
     "output_type": "stream",
     "text": [
      "/opt/conda/lib/python3.5/site-packages/matplotlib/font_manager.py:273: UserWarning: Matplotlib is building the font cache using fc-list. This may take a moment.\n",
      "  warnings.warn('Matplotlib is building the font cache using fc-list. This may take a moment.')\n",
      "/opt/conda/lib/python3.5/site-packages/matplotlib/font_manager.py:273: UserWarning: Matplotlib is building the font cache using fc-list. This may take a moment.\n",
      "  warnings.warn('Matplotlib is building the font cache using fc-list. This may take a moment.')\n"
     ]
    }
   ],
   "source": [
    "import matplotlib.pyplot as plt\n",
    "import numpy as np\n",
    "%matplotlib inline\n",
    "import matplotlib"
   ]
  },
  {
   "cell_type": "markdown",
   "metadata": {
    "slideshow": {
     "slide_type": "slide"
    }
   },
   "source": [
    "Defining Functions\n",
    "===\n",
    "\n",
    "Sometimes it's nice to use functions instead of writing the equation for a geometric distribution each time."
   ]
  },
  {
   "cell_type": "markdown",
   "metadata": {
    "slideshow": {
     "slide_type": "slide"
    }
   },
   "source": [
    "Function Definition\n",
    "====\n",
    "\n",
    "You may define your own functions using the `def` command."
   ]
  },
  {
   "cell_type": "code",
   "execution_count": 2,
   "metadata": {
    "slideshow": {
     "slide_type": "fragment"
    }
   },
   "outputs": [
    {
     "name": "stdout",
     "output_type": "stream",
     "text": [
      "Hello\n"
     ]
    }
   ],
   "source": [
    "def print_hello():\n",
    "    print('Hello')\n",
    "\n",
    "print_hello()"
   ]
  },
  {
   "cell_type": "markdown",
   "metadata": {
    "slideshow": {
     "slide_type": "subslide"
    }
   },
   "source": [
    "You may give arguments by putting them inside the `()`. Like this:"
   ]
  },
  {
   "cell_type": "code",
   "execution_count": 3,
   "metadata": {
    "slideshow": {
     "slide_type": "fragment"
    }
   },
   "outputs": [
    {
     "name": "stdout",
     "output_type": "stream",
     "text": [
      "Go dog\n",
      "See dog go\n"
     ]
    }
   ],
   "source": [
    "def print_string(s):\n",
    "    print(s) # <--- I can now use s anywhere inside the function\n",
    "\n",
    "print_string('Go dog')\n",
    "print_string('See dog go')"
   ]
  },
  {
   "cell_type": "markdown",
   "metadata": {
    "slideshow": {
     "slide_type": "subslide"
    }
   },
   "source": [
    "What if you want to return something? You can, with the `return` function."
   ]
  },
  {
   "cell_type": "code",
   "execution_count": 4,
   "metadata": {
    "slideshow": {
     "slide_type": "fragment"
    }
   },
   "outputs": [
    {
     "name": "stdout",
     "output_type": "stream",
     "text": [
      "4\n"
     ]
    }
   ],
   "source": [
    "def square(x):\n",
    "    return x * x\n",
    "\n",
    "x_squared = square(2)\n",
    "print(x_squared)"
   ]
  },
  {
   "cell_type": "markdown",
   "metadata": {
    "slideshow": {
     "slide_type": "subslide"
    }
   },
   "source": [
    "You can pass multple arguments and your function can be multiple lines, just like `for` loops and `if` statements."
   ]
  },
  {
   "cell_type": "code",
   "execution_count": 5,
   "metadata": {
    "slideshow": {
     "slide_type": "fragment"
    }
   },
   "outputs": [
    {
     "data": {
      "text/plain": [
       "0.06561"
      ]
     },
     "execution_count": 5,
     "metadata": {},
     "output_type": "execute_result"
    }
   ],
   "source": [
    "def geometric(n, p):\n",
    "    P_n = (1 - p)**(n - 1) * p\n",
    "    return P_n \n",
    "geometric(5, 0.1)"
   ]
  },
  {
   "cell_type": "code",
   "execution_count": 6,
   "metadata": {
    "slideshow": {
     "slide_type": "subslide"
    }
   },
   "outputs": [
    {
     "data": {
      "image/png": "[encoded data removed]",
      "text/plain": [
       "<matplotlib.figure.Figure at 0x7f8a7640af98>"
      ]
     },
     "metadata": {},
     "output_type": "display_data"
    }
   ],
   "source": [
    "Q = np.arange(1,100)\n",
    "plt.plot(Q, geometric(Q, 0.1), 'o')\n",
    "plt.show()"
   ]
  },
  {
   "cell_type": "markdown",
   "metadata": {
    "slideshow": {
     "slide_type": "subslide"
    }
   },
   "source": [
    "Documenting Your Function\n",
    "----\n",
    "\n",
    "You can make your own documentation. Use the `'''` instead of just one `'` so that you can use multiple lines\n"
   ]
  },
  {
   "cell_type": "code",
   "execution_count": 7,
   "metadata": {
    "slideshow": {
     "slide_type": "subslide"
    }
   },
   "outputs": [],
   "source": [
    "def my_geom(n, p=0.5):\n",
    "        '''This function will compute the probability of n from a geometric distribution given p\n",
    "        \n",
    "        Args:\n",
    "            p: The probability of success\n",
    "            n: The number of times before and including success\n",
    "            \n",
    "        returns: the probability'''\n",
    "        return (1 - p)**(n - 1)* p"
   ]
  },
  {
   "cell_type": "code",
   "execution_count": 8,
   "metadata": {
    "slideshow": {
     "slide_type": "subslide"
    }
   },
   "outputs": [
    {
     "name": "stdout",
     "output_type": "stream",
     "text": [
      "Help on function my_geom in module __main__:\n",
      "\n",
      "my_geom(n, p=0.5)\n",
      "    This function will compute the probability of n from a geometric distribution given p\n",
      "    \n",
      "    Args:\n",
      "        p: The probability of success\n",
      "        n: The number of times before and including success\n",
      "        \n",
      "    returns: the probability\n",
      "\n"
     ]
    }
   ],
   "source": [
    "help(my_geom)"
   ]
  },
  {
   "cell_type": "markdown",
   "metadata": {
    "slideshow": {
     "slide_type": "subslide"
    }
   },
   "source": [
    "Notice I used a default value for `p`"
   ]
  },
  {
   "cell_type": "code",
   "execution_count": 9,
   "metadata": {
    "scrolled": true,
    "slideshow": {
     "slide_type": "fragment"
    }
   },
   "outputs": [
    {
     "data": {
      "text/plain": [
       "0.0625"
      ]
     },
     "execution_count": 9,
     "metadata": {},
     "output_type": "execute_result"
    }
   ],
   "source": [
    "my_geom(n=4)"
   ]
  },
  {
   "cell_type": "markdown",
   "metadata": {
    "slideshow": {
     "slide_type": "slide"
    }
   },
   "source": [
    "Things to consider in creating a fucntion\n",
    "----\n",
    "\n",
    "1. Write the signature and doc string describing what your function should do\n",
    "2. Define the input/output in the doc string\n",
    "3. Write a function that generates correct output for most inputs\n",
    "4. Consider edge cases of your method where specific behavior may be required\n",
    "5. Write input validation to prevent user error\n",
    "6. Validate for numpy (optional)\n",
    "7. Repeat above steps"
   ]
  },
  {
   "cell_type": "markdown",
   "metadata": {
    "slideshow": {
     "slide_type": "slide"
    }
   },
   "source": [
    "Example\n",
    "---\n",
    "\n",
    "For our example, we'll write a function that computes the Fibonacci sequence up to the $n$th term. The Fibonacci sequence is a sequence whose $n$th element is the sum of the $n-1$ and $n-2$ elements. The first two elements are defined to be $1$. Here's the first few terms:\n",
    "\n",
    "$$\n",
    "1,\\,1,\\,2,\\,3,\\,5,\\,8\n",
    "$$\n",
    "\n",
    "So our function should return `5` if it is passed `4` (first term is indexed as `0`). "
   ]
  },
  {
   "cell_type": "markdown",
   "metadata": {
    "slideshow": {
     "slide_type": "slide"
    }
   },
   "source": [
    "Write doc string\n",
    "---"
   ]
  },
  {
   "cell_type": "code",
   "execution_count": 10,
   "metadata": {
    "collapsed": true,
    "slideshow": {
     "slide_type": "fragment"
    }
   },
   "outputs": [],
   "source": [
    "def fib():\n",
    "    '''Returns the nth element from the Fibonacci sequence\n",
    "    \n",
    "    '''"
   ]
  },
  {
   "cell_type": "markdown",
   "metadata": {
    "slideshow": {
     "slide_type": "slide"
    }
   },
   "source": [
    "Define the input/output\n",
    "----\n",
    "\n",
    "We decide only 1 input is necessary"
   ]
  },
  {
   "cell_type": "code",
   "execution_count": 11,
   "metadata": {
    "collapsed": true,
    "slideshow": {
     "slide_type": "subslide"
    }
   },
   "outputs": [],
   "source": [
    "def fib(i):\n",
    "    '''Returns the nth element from the Fibonacci sequence\n",
    "\n",
    "        Args:\n",
    "            i: the index of the element in the Fibonacci sequence    \n",
    "\n",
    "        returns: the element at the given index in the Fibonacci sequence\n",
    "    '''"
   ]
  },
  {
   "cell_type": "markdown",
   "metadata": {
    "slideshow": {
     "slide_type": "slide"
    }
   },
   "source": [
    "Make it work\n",
    "---\n",
    "\n",
    "Now we actually test it out! I'll omit the docstring to make the slides easier to view. We should use inline comments with a `#` to indicate our logic in the program"
   ]
  },
  {
   "cell_type": "code",
   "execution_count": 12,
   "metadata": {
    "collapsed": true,
    "slideshow": {
     "slide_type": "subslide"
    }
   },
   "outputs": [],
   "source": [
    "def fib_1(i):\n",
    "    last = 1 # our n - 1 element\n",
    "    last_last = 1 # our n -2 element\n",
    "    for j in range(i): #go until we are at the ith element\n",
    "        current = last + last_last #the add\n",
    "        last_last = last #our new n - 2\n",
    "        last = current # our new n - 1\n",
    "    return current"
   ]
  },
  {
   "cell_type": "code",
   "execution_count": 13,
   "metadata": {
    "slideshow": {
     "slide_type": "subslide"
    }
   },
   "outputs": [
    {
     "data": {
      "text/plain": [
       "8"
      ]
     },
     "execution_count": 13,
     "metadata": {},
     "output_type": "execute_result"
    }
   ],
   "source": [
    "fib_1(4)"
   ]
  },
  {
   "cell_type": "markdown",
   "metadata": {
    "slideshow": {
     "slide_type": "subslide"
    }
   },
   "source": [
    "It looks pretty good! Except, it is off by 1 from our original example."
   ]
  },
  {
   "cell_type": "code",
   "execution_count": 14,
   "metadata": {
    "collapsed": true,
    "slideshow": {
     "slide_type": "subslide"
    }
   },
   "outputs": [],
   "source": [
    "def fib_2(i):\n",
    "    last = 1 # our n - 1 element\n",
    "    last_last = 1 # our n -2 element\n",
    "    #sub 1 because last and last_last\n",
    "    #are set corresponding to n=2\n",
    "    for j in range(i - 1): \n",
    "        current = last + last_last #the add\n",
    "        last_last = last #our new n - 2\n",
    "        last = current # our new n - 1\n",
    "    return current"
   ]
  },
  {
   "cell_type": "code",
   "execution_count": 15,
   "metadata": {
    "slideshow": {
     "slide_type": "subslide"
    }
   },
   "outputs": [
    {
     "data": {
      "text/plain": [
       "5"
      ]
     },
     "execution_count": 15,
     "metadata": {},
     "output_type": "execute_result"
    }
   ],
   "source": [
    "fib_2(4)"
   ]
  },
  {
   "cell_type": "code",
   "execution_count": 16,
   "metadata": {
    "slideshow": {
     "slide_type": "fragment"
    }
   },
   "outputs": [
    {
     "data": {
      "text/plain": [
       "8"
      ]
     },
     "execution_count": 16,
     "metadata": {},
     "output_type": "execute_result"
    }
   ],
   "source": [
    "fib_2(5)"
   ]
  },
  {
   "cell_type": "code",
   "execution_count": 17,
   "metadata": {
    "slideshow": {
     "slide_type": "fragment"
    }
   },
   "outputs": [
    {
     "data": {
      "text/plain": [
       "13"
      ]
     },
     "execution_count": 17,
     "metadata": {},
     "output_type": "execute_result"
    }
   ],
   "source": [
    "fib_2(6)"
   ]
  },
  {
   "cell_type": "markdown",
   "metadata": {
    "slideshow": {
     "slide_type": "subslide"
    }
   },
   "source": [
    "Looks like it works on our original example"
   ]
  },
  {
   "cell_type": "markdown",
   "metadata": {
    "slideshow": {
     "slide_type": "slide"
    }
   },
   "source": [
    "Consider Edge Case\n",
    "---\n",
    "\n",
    "How does it deal with the starting point?"
   ]
  },
  {
   "cell_type": "code",
   "execution_count": 19,
   "metadata": {
    "slideshow": {
     "slide_type": "subslide"
    }
   },
   "outputs": [
    {
     "ename": "UnboundLocalError",
     "evalue": "local variable 'current' referenced before assignment",
     "output_type": "error",
     "traceback": [
      "\u001b[0;31m---------------------------------------------------------------------------\u001b[0m",
      "\u001b[0;31mUnboundLocalError\u001b[0m                         Traceback (most recent call last)",
      "\u001b[0;32m<ipython-input-19-d4a739e2f51f>\u001b[0m in \u001b[0;36m<module>\u001b[0;34m()\u001b[0m\n\u001b[0;32m----> 1\u001b[0;31m \u001b[0mfib_2\u001b[0m\u001b[0;34m(\u001b[0m\u001b[0;36m0\u001b[0m\u001b[0;34m)\u001b[0m\u001b[0;34m\u001b[0m\u001b[0m\n\u001b[0m",
      "\u001b[0;32m<ipython-input-14-dbfebd64ba2d>\u001b[0m in \u001b[0;36mfib_2\u001b[0;34m(i)\u001b[0m\n\u001b[1;32m      8\u001b[0m         \u001b[0mlast_last\u001b[0m \u001b[0;34m=\u001b[0m \u001b[0mlast\u001b[0m \u001b[0;31m#our new n - 2\u001b[0m\u001b[0;34m\u001b[0m\u001b[0m\n\u001b[1;32m      9\u001b[0m         \u001b[0mlast\u001b[0m \u001b[0;34m=\u001b[0m \u001b[0mcurrent\u001b[0m \u001b[0;31m# our new n - 1\u001b[0m\u001b[0;34m\u001b[0m\u001b[0m\n\u001b[0;32m---> 10\u001b[0;31m     \u001b[0;32mreturn\u001b[0m \u001b[0mcurrent\u001b[0m\u001b[0;34m\u001b[0m\u001b[0m\n\u001b[0m",
      "\u001b[0;31mUnboundLocalError\u001b[0m: local variable 'current' referenced before assignment"
     ]
    }
   ],
   "source": [
    "fib_2(0)"
   ]
  },
  {
   "cell_type": "code",
   "execution_count": 20,
   "metadata": {
    "slideshow": {
     "slide_type": "subslide"
    }
   },
   "outputs": [
    {
     "ename": "UnboundLocalError",
     "evalue": "local variable 'current' referenced before assignment",
     "output_type": "error",
     "traceback": [
      "\u001b[0;31m---------------------------------------------------------------------------\u001b[0m",
      "\u001b[0;31mUnboundLocalError\u001b[0m                         Traceback (most recent call last)",
      "\u001b[0;32m<ipython-input-20-b9eccf2b3e3b>\u001b[0m in \u001b[0;36m<module>\u001b[0;34m()\u001b[0m\n\u001b[0;32m----> 1\u001b[0;31m \u001b[0mfib_2\u001b[0m\u001b[0;34m(\u001b[0m\u001b[0;36m1\u001b[0m\u001b[0;34m)\u001b[0m\u001b[0;34m\u001b[0m\u001b[0m\n\u001b[0m",
      "\u001b[0;32m<ipython-input-14-dbfebd64ba2d>\u001b[0m in \u001b[0;36mfib_2\u001b[0;34m(i)\u001b[0m\n\u001b[1;32m      8\u001b[0m         \u001b[0mlast_last\u001b[0m \u001b[0;34m=\u001b[0m \u001b[0mlast\u001b[0m \u001b[0;31m#our new n - 2\u001b[0m\u001b[0;34m\u001b[0m\u001b[0m\n\u001b[1;32m      9\u001b[0m         \u001b[0mlast\u001b[0m \u001b[0;34m=\u001b[0m \u001b[0mcurrent\u001b[0m \u001b[0;31m# our new n - 1\u001b[0m\u001b[0;34m\u001b[0m\u001b[0m\n\u001b[0;32m---> 10\u001b[0;31m     \u001b[0;32mreturn\u001b[0m \u001b[0mcurrent\u001b[0m\u001b[0;34m\u001b[0m\u001b[0m\n\u001b[0m",
      "\u001b[0;31mUnboundLocalError\u001b[0m: local variable 'current' referenced before assignment"
     ]
    }
   ],
   "source": [
    "fib_2(1)"
   ]
  },
  {
   "cell_type": "code",
   "execution_count": 21,
   "metadata": {
    "slideshow": {
     "slide_type": "subslide"
    }
   },
   "outputs": [
    {
     "data": {
      "text/plain": [
       "2"
      ]
     },
     "execution_count": 21,
     "metadata": {},
     "output_type": "execute_result"
    }
   ],
   "source": [
    "fib_2(2)"
   ]
  },
  {
   "cell_type": "code",
   "execution_count": 22,
   "metadata": {
    "collapsed": true,
    "slideshow": {
     "slide_type": "subslide"
    }
   },
   "outputs": [],
   "source": [
    "def fib_3(i):\n",
    "    \n",
    "    #deal with edge cases\n",
    "    if i == 0 or i == 1:\n",
    "        return 1\n",
    "    \n",
    "    last = 1 # our n - 1 element\n",
    "    last_last = 1 # our n -2 element\n",
    "    #sub 1 because last and last_last\n",
    "    #are set corresponding to n=2\n",
    "    for j in range(i - 1): \n",
    "        current = last + last_last #the add\n",
    "        last_last = last #our new n - 2\n",
    "        last = current # our new n - 1\n",
    "    return current"
   ]
  },
  {
   "cell_type": "code",
   "execution_count": 23,
   "metadata": {
    "slideshow": {
     "slide_type": "subslide"
    }
   },
   "outputs": [
    {
     "data": {
      "text/plain": [
       "1"
      ]
     },
     "execution_count": 23,
     "metadata": {},
     "output_type": "execute_result"
    }
   ],
   "source": [
    "fib_3(0)"
   ]
  },
  {
   "cell_type": "markdown",
   "metadata": {
    "slideshow": {
     "slide_type": "slide"
    }
   },
   "source": [
    "Deal with use error\n",
    "----\n",
    "\n",
    "Make your function easy to use by gracefully dealing with bad input conditions."
   ]
  },
  {
   "cell_type": "code",
   "execution_count": 24,
   "metadata": {
    "collapsed": true,
    "slideshow": {
     "slide_type": "subslide"
    }
   },
   "outputs": [],
   "source": [
    "def fib_4(i):\n",
    "    \n",
    "    #check that i is valid\n",
    "    if(type(i) != int or i < 0):\n",
    "        return None\n",
    "    \n",
    "    #deal with edge cases\n",
    "    if i == 0 or i == 1:\n",
    "        return 1\n",
    "    \n",
    "    last = 1 # our n - 1 element\n",
    "    last_last = 1 # our n -2 element\n",
    "    #sub 1 because last and last_last\n",
    "    #are set corresponding to n=2\n",
    "    for j in range(i - 1): \n",
    "        current = last + last_last #the add\n",
    "        last_last = last #our new n - 2\n",
    "        last = current # our new n - 1\n",
    "    return current"
   ]
  },
  {
   "cell_type": "code",
   "execution_count": 25,
   "metadata": {
    "slideshow": {
     "slide_type": "subslide"
    }
   },
   "outputs": [
    {
     "name": "stdout",
     "output_type": "stream",
     "text": [
      "None\n"
     ]
    }
   ],
   "source": [
    "print(fib_4(-4))"
   ]
  },
  {
   "cell_type": "code",
   "execution_count": 26,
   "metadata": {
    "slideshow": {
     "slide_type": "fragment"
    }
   },
   "outputs": [
    {
     "name": "stdout",
     "output_type": "stream",
     "text": [
      "None\n"
     ]
    }
   ],
   "source": [
    "print(fib_4('fdsa'))"
   ]
  },
  {
   "cell_type": "code",
   "execution_count": 27,
   "metadata": {
    "slideshow": {
     "slide_type": "fragment"
    }
   },
   "outputs": [
    {
     "data": {
      "text/plain": [
       "34"
      ]
     },
     "execution_count": 27,
     "metadata": {},
     "output_type": "execute_result"
    }
   ],
   "source": [
    "fib_4(8)"
   ]
  },
  {
   "cell_type": "markdown",
   "metadata": {
    "slideshow": {
     "slide_type": "subslide"
    }
   },
   "source": [
    "Dealing with user error is a fascinating topic and gets into user interface design, which is covered nicely in this [introductory video](https://www.youtube.com/watch?v=r2CbbBLVaPk) from the web design community. "
   ]
  },
  {
   "cell_type": "markdown",
   "metadata": {
    "slideshow": {
     "slide_type": "slide"
    }
   },
   "source": [
    "How to convert a function into a numpy function\n",
    "====\n",
    "\n",
    "`np.vectorize(fxn)` will turn your function into a numpy version. You pass it your function (`fxn`) and it returns a new function which is yours but upgraded to work on numpy arrays."
   ]
  },
  {
   "cell_type": "code",
   "execution_count": 28,
   "metadata": {
    "slideshow": {
     "slide_type": "fragment"
    }
   },
   "outputs": [
    {
     "name": "stdout",
     "output_type": "stream",
     "text": [
      "[ 0.          0.68163876  0.99749499  0.7780732   0.14112001]\n"
     ]
    }
   ],
   "source": [
    "import numpy as np\n",
    "from math import sin\n",
    "\n",
    "#Don't actually do this, this is an example. Just use np.sin instead.\n",
    "my_np_sin = np.vectorize(sin) #<-- I'm turning the math sine into my own version\n",
    "\n",
    "x = np.linspace(0,3,5)\n",
    "print(my_np_sin(x))"
   ]
  },
  {
   "cell_type": "code",
   "execution_count": 29,
   "metadata": {
    "slideshow": {
     "slide_type": "subslide"
    }
   },
   "outputs": [
    {
     "ename": "ValueError",
     "evalue": "The truth value of an array with more than one element is ambiguous. Use a.any() or a.all()",
     "output_type": "error",
     "traceback": [
      "\u001b[0;31m---------------------------------------------------------------------------\u001b[0m",
      "\u001b[0;31mValueError\u001b[0m                                Traceback (most recent call last)",
      "\u001b[0;32m<ipython-input-29-b2bbe32da974>\u001b[0m in \u001b[0;36m<module>\u001b[0;34m()\u001b[0m\n\u001b[1;32m      7\u001b[0m \u001b[0;34m\u001b[0m\u001b[0m\n\u001b[1;32m      8\u001b[0m \u001b[0mx\u001b[0m \u001b[0;34m=\u001b[0m \u001b[0mnp\u001b[0m\u001b[0;34m.\u001b[0m\u001b[0mlinspace\u001b[0m\u001b[0;34m(\u001b[0m\u001b[0;36m0\u001b[0m\u001b[0;34m,\u001b[0m\u001b[0;36m100\u001b[0m\u001b[0;34m,\u001b[0m\u001b[0;36m10\u001b[0m\u001b[0;34m)\u001b[0m\u001b[0;34m\u001b[0m\u001b[0m\n\u001b[0;32m----> 9\u001b[0;31m \u001b[0mprint\u001b[0m\u001b[0;34m(\u001b[0m\u001b[0mmy_distribution\u001b[0m\u001b[0;34m(\u001b[0m\u001b[0mx\u001b[0m\u001b[0;34m)\u001b[0m\u001b[0;34m)\u001b[0m\u001b[0;34m\u001b[0m\u001b[0m\n\u001b[0m",
      "\u001b[0;32m<ipython-input-29-b2bbe32da974>\u001b[0m in \u001b[0;36mmy_distribution\u001b[0;34m(x)\u001b[0m\n\u001b[1;32m      1\u001b[0m \u001b[0;32mdef\u001b[0m \u001b[0mmy_distribution\u001b[0m\u001b[0;34m(\u001b[0m\u001b[0mx\u001b[0m\u001b[0;34m)\u001b[0m\u001b[0;34m:\u001b[0m\u001b[0;34m\u001b[0m\u001b[0m\n\u001b[1;32m      2\u001b[0m     \u001b[0;34m'''my special snowflake distribution'''\u001b[0m\u001b[0;34m\u001b[0m\u001b[0m\n\u001b[0;32m----> 3\u001b[0;31m     \u001b[0;32mif\u001b[0m \u001b[0mx\u001b[0m \u001b[0;34m>\u001b[0m \u001b[0;36m40\u001b[0m\u001b[0;34m:\u001b[0m\u001b[0;34m\u001b[0m\u001b[0m\n\u001b[0m\u001b[1;32m      4\u001b[0m         \u001b[0;32mreturn\u001b[0m \u001b[0;36m0.2\u001b[0m\u001b[0;34m\u001b[0m\u001b[0m\n\u001b[1;32m      5\u001b[0m     \u001b[0;32melse\u001b[0m\u001b[0;34m:\u001b[0m\u001b[0;34m\u001b[0m\u001b[0m\n",
      "\u001b[0;31mValueError\u001b[0m: The truth value of an array with more than one element is ambiguous. Use a.any() or a.all()"
     ]
    }
   ],
   "source": [
    "def my_distribution(x):\n",
    "    '''my special snowflake distribution'''\n",
    "    if x > 40:\n",
    "        return 0.2\n",
    "    else:\n",
    "        return 0.8\n",
    "\n",
    "x = np.linspace(0,100,10)\n",
    "print(my_distribution(x))"
   ]
  },
  {
   "cell_type": "code",
   "execution_count": 30,
   "metadata": {
    "slideshow": {
     "slide_type": "subslide"
    }
   },
   "outputs": [
    {
     "name": "stdout",
     "output_type": "stream",
     "text": [
      "[ 0.8  0.8  0.8  0.8  0.2  0.2  0.2  0.2  0.2  0.2]\n"
     ]
    }
   ],
   "source": [
    "numpy_version_distribution = np.vectorize(my_distribution)\n",
    "print(numpy_version_distribution(x))"
   ]
  },
  {
   "cell_type": "markdown",
   "metadata": {
    "slideshow": {
     "slide_type": "subslide"
    }
   },
   "source": [
    "What happened with the doc string though? You can only access it through the `np.info`, instead of `help`"
   ]
  },
  {
   "cell_type": "code",
   "execution_count": 31,
   "metadata": {
    "slideshow": {
     "slide_type": "fragment"
    }
   },
   "outputs": [
    {
     "name": "stdout",
     "output_type": "stream",
     "text": [
      "my special snowflake distribution\n"
     ]
    }
   ],
   "source": [
    "np.info(numpy_version_distribution)"
   ]
  },
  {
   "cell_type": "markdown",
   "metadata": {
    "slideshow": {
     "slide_type": "subslide"
    }
   },
   "source": [
    "This is not always necessary - usually only needed when working with loops and `if` statements. "
   ]
  },
  {
   "cell_type": "code",
   "execution_count": 32,
   "metadata": {
    "slideshow": {
     "slide_type": "slide"
    }
   },
   "outputs": [
    {
     "name": "stdout",
     "output_type": "stream",
     "text": [
      "[ 2.          2.16011948  2.33305808  2.5198421   2.72158     2.93946898\n",
      "  3.1748021   3.42897593  3.70349885  4.        ]\n"
     ]
    }
   ],
   "source": [
    "def foo(x):\n",
    "    return 2 ** x\n",
    "data = np.linspace(1,2,10)\n",
    "\n",
    "print(foo(data))"
   ]
  },
  {
   "cell_type": "markdown",
   "metadata": {
    "slideshow": {
     "slide_type": "slide"
    }
   },
   "source": [
    "Revise\n",
    "----\n",
    "\n",
    "It's always good to revise your functions after considering each of these aspects. Let's say we want our Fibonacci function to be capable of specifying the starting point? That would require specifying two values."
   ]
  },
  {
   "cell_type": "code",
   "execution_count": 33,
   "metadata": {
    "collapsed": true,
    "slideshow": {
     "slide_type": "subslide"
    }
   },
   "outputs": [],
   "source": [
    "def fib_5(i, start=(1,1)):\n",
    "    \n",
    "    #check that i is valid\n",
    "    if(type(i) != int or i < 0):        \n",
    "        return None\n",
    "    \n",
    "    #deal with edge cases\n",
    "    if i == 0:\n",
    "        return start[0]\n",
    "    if i == 1:\n",
    "        return start[1]\n",
    "    \n",
    "    last = start[0] # our n - 1 element\n",
    "    last_last = start[1] # our n -2 element\n",
    "    #sub 1 because last and last_last\n",
    "    #are set corresponding to n=2\n",
    "    for j in range(i - 1): \n",
    "        current = last + last_last #the add\n",
    "        last_last = last #our new n - 2\n",
    "        last = current # our new n - 1\n",
    "    return current"
   ]
  },
  {
   "cell_type": "code",
   "execution_count": 34,
   "metadata": {
    "slideshow": {
     "slide_type": "subslide"
    }
   },
   "outputs": [
    {
     "data": {
      "text/plain": [
       "3"
      ]
     },
     "execution_count": 34,
     "metadata": {},
     "output_type": "execute_result"
    }
   ],
   "source": [
    "fib_5(2, start=(1, 2))"
   ]
  },
  {
   "cell_type": "markdown",
   "metadata": {
    "slideshow": {
     "slide_type": "subslide"
    }
   },
   "source": [
    "Now we'll put it all together with numpy and the doc string"
   ]
  },
  {
   "cell_type": "code",
   "execution_count": 35,
   "metadata": {
    "collapsed": true,
    "slideshow": {
     "slide_type": "subslide"
    }
   },
   "outputs": [],
   "source": [
    "def py_fib(i, start=(1,1)):\n",
    "    '''Returns the nth element from the Fibonacci sequence\n",
    "\n",
    "        Args:\n",
    "            i: the index of the element in the Fibonacci sequence    \n",
    "            start: the first and second elements of the sequence. Default is 1,1\n",
    "\n",
    "        returns: the element at the given index in the Fibonacci sequence\n",
    "    '''\n",
    "    #check that i is valid\n",
    "    if(type(i) != int or i < 0):        \n",
    "        return None\n",
    "    \n",
    "    #deal with edge cases\n",
    "    if i == 0:\n",
    "        return start[0]\n",
    "    if i == 1:\n",
    "        return start[1]\n",
    "    \n",
    "    last = start[0] # our n - 1 element\n",
    "    last_last = start[1] # our n -2 element\n",
    "    #sub 1 because last and last_last\n",
    "    #are set corresponding to n=2\n",
    "    for j in range(i - 1): \n",
    "        current = last + last_last #the add\n",
    "        last_last = last #our new n - 2\n",
    "        last = current # our new n - 1\n",
    "    return current"
   ]
  },
  {
   "cell_type": "code",
   "execution_count": 36,
   "metadata": {
    "slideshow": {
     "slide_type": "subslide"
    }
   },
   "outputs": [],
   "source": [
    "#you can specifiy that it returns integers\n",
    "#to simplifiy your output\n",
    "fib = np.vectorize(py_fib, otypes=[np.int])"
   ]
  },
  {
   "cell_type": "code",
   "execution_count": 37,
   "metadata": {
    "slideshow": {
     "slide_type": "fragment"
    }
   },
   "outputs": [
    {
     "data": {
      "text/plain": [
       "array([ 1,  1,  2,  3,  5,  8, 13, 21, 34, 55])"
      ]
     },
     "execution_count": 37,
     "metadata": {},
     "output_type": "execute_result"
    }
   ],
   "source": [
    "i = np.arange(10)\n",
    "fib(i)"
   ]
  },
  {
   "cell_type": "code",
   "execution_count": 38,
   "metadata": {
    "slideshow": {
     "slide_type": "subslide"
    }
   },
   "outputs": [
    {
     "name": "stdout",
     "output_type": "stream",
     "text": [
      "Returns the nth element from the Fibonacci sequence\n",
      "\n",
      "Args:\n",
      "    i: the index of the element in the Fibonacci sequence    \n",
      "    start: the first and second elements of the sequence. Default is 1,1\n",
      "\n",
      "returns: the element at the given index in the Fibonacci sequence\n"
     ]
    }
   ],
   "source": [
    "np.info(fib)"
   ]
  }
 ],
 "metadata": {
  "celltoolbar": "Slideshow",
  "kernelspec": {
   "display_name": "Python 3",
   "language": "python",
   "name": "python3"
  },
  "language_info": {
   "codemirror_mode": {
    "name": "ipython",
    "version": 3
   },
   "file_extension": ".py",
   "mimetype": "text/x-python",
   "name": "python",
   "nbconvert_exporter": "python",
   "pygments_lexer": "ipython3",
   "version": "3.5.2"
  }
 },
 "nbformat": 4,
 "nbformat_minor": 1
}
