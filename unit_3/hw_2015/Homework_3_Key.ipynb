








<!DOCTYPE html>
<html lang="en">

<head>
  <meta charset="utf-8">
  <title>Jupyter Notebook Viewer</title>
  <meta name="viewport" content="width=device-width, initial-scale=1.0">
  <meta name="description" content="">
  <meta name="author" content="">
  
  <meta name="robots" content="noindex,nofollow">
  

  <!--NEW RELIC Start Perf Measurement-->
  
  <!--NREND-->

  <!-- Le styles -->
  <script type="text/javascript">
//<![CDATA[
try{if (!window.CloudFlare) {var CloudFlare=[{verbose:0,p:0,byc:0,owlid:"cf",bag2:1,mirage2:0,oracle:0,paths:{cloudflare:"/cdn-cgi/nexp/dok3v=1613a3a185/"},atok:"d5780763e19e7d19f23070ae83c9af3a",petok:"f97a37720e05ffd6a1c46c041f1c8e9d9615ec28-1486740131-1800",zone:"jupyter.org",rocket:"0",apps:{"ga_key":{"ua":"UA-52617120-5","ga_bs":"2"}}}];!function(a,b){a=document.createElement("script"),b=document.getElementsByTagName("script")[0],a.async=!0,a.src="//ajax.cloudflare.com/cdn-cgi/nexp/dok3v=f2befc48d1/cloudflare.min.js",b.parentNode.insertBefore(a,b)}()}}catch(e){};
//]]>
</script>
<link href="/static/build/styles.css?v=c18d49652a516277e15114bbd447f1c1" rel="stylesheet">

  <!-- Le HTML5 shim, for IE6-8 support of HTML5 elements -->
  <!--[if lt IE 9]>
    <script src="http://html5shim.googlecode.com/svn/trunk/html5.js"></script>
  <![endif]-->

  <!-- Le fav and touch icons -->
  <link rel="shortcut icon" href="/static/ico/ipynb_icon_16x16.png">
  <link rel="apple-touch-icon-precomposed" sizes="144x144"
        href="/static/ico/apple-touch-icon-144-precomposed.png?v=5a3c9ede93e2a8b8ea9e3f8f3da1a905">
  <link rel="apple-touch-icon-precomposed" sizes="114x114"
        href="/static/ico/apple-touch-icon-114-precomposed.png?v=45d86fc8f24dc00638035e1dd7a6d898">
  <link rel="apple-touch-icon-precomposed" sizes="72x72"
        href="/static/ico/apple-touch-icon-72-precomposed.png?v=540b5eb0f3cfd25f1439d1c9bd30e15f">
  <link rel="apple-touch-icon-precomposed"
        href="/static/ico/apple-touch-icon-57-precomposed.png?v=225f0590e187e1458625654f10a28f56">
  
  

  

  
  <meta name="twitter:card" content="summary">
  <meta name="twitter:title" content="Notebook on nbviewer">
  <meta name="twitter:description" content="Check out this Jupyter notebook!">

  
  <meta name="twitter:domain" content="nbviewer.ipython.org">
  <meta name="twitter:image:src" content="http://ipython.org/ipython-doc/dev/_images/ipynb_icon_128x128.png">

  
    <link href="/static/build/notebook.css?v=f5b9901b9b1ce080900a843637976afe" rel="stylesheet">
  

  

  
    <script src="https://cdn.mathjax.org/mathjax/latest/MathJax.js?config=TeX-AMS_HTML" type="text/javascript">
    </script>
    <script type="text/javascript">
      init_mathjax = function() {
        if (window.MathJax) {
          // MathJax loaded
          MathJax.Hub.Config({
            TeX: {
              equationNumbers: {
                autoNumber: "AMS",
                useLabelIds: true
              }
            },
            tex2jax: {
              inlineMath: [ ['$','$'], ["\\(","\\)"] ],
              displayMath: [ ['$$','$$'], ["\\[","\\]"] ],
              processEscapes: true,
              processEnvironments: true
            },
            displayAlign: 'center',
            "HTML-CSS": {
              styles: {'.MathJax_Display': {"margin": 0}},
              linebreaks: { automatic: true }
            }
          });
          MathJax.Hub.Queue(["Typeset", MathJax.Hub]);
        }
      }
      init_mathjax();
    </script>
  

<script type="text/javascript">
/* <![CDATA[ */
var _gaq = _gaq || [];
_gaq.push(['_setAccount', 'UA-52617120-5']);
_gaq.push(['_trackPageview']);

(function() {
var ga = document.createElement('script'); ga.type = 'text/javascript'; ga.async = true;
ga.src = ('https:' == document.location.protocol ? 'https://ssl' : 'http://www') + '.google-analytics.com/ga.js';
var s = document.getElementsByTagName('script')[0]; s.parentNode.insertBefore(ga, s);
})();

(function(b){(function(a){"__CF"in b&&"DJS"in b.__CF?b.__CF.DJS.push(a):"addEventListener"in b?b.addEventListener("load",a,!1):b.attachEvent("onload",a)})(function(){"FB"in b&&"Event"in FB&&"subscribe"in FB.Event&&(FB.Event.subscribe("edge.create",function(a){_gaq.push(["_trackSocial","facebook","like",a])}),FB.Event.subscribe("edge.remove",function(a){_gaq.push(["_trackSocial","facebook","unlike",a])}),FB.Event.subscribe("message.send",function(a){_gaq.push(["_trackSocial","facebook","send",a])}));"twttr"in b&&"events"in twttr&&"bind"in twttr.events&&twttr.events.bind("tweet",function(a){if(a){var b;if(a.target&&a.target.nodeName=="IFRAME")a:{if(a=a.target.src){a=a.split("#")[0].match(/[^?=&]+=([^&]*)?/g);b=0;for(var c;c=a[b];++b)if(c.indexOf("url")===0){b=unescape(c.split("=")[1]);break a}}b=void 0}_gaq.push(["_trackSocial","twitter","tweet",b])}})})})(window);
/* ]]> */
</script>
</head>

<body class="nbviewer">

  <!-- These are loaded at the top of the body so they are available to
       notebook cells when they are loaded below. -->
  <script src="/static/components/jquery/dist/jquery.min.js?v=e071abda8fe61194711cfc2ab99fe104"></script>
  <script src="/static/components/requirejs/require.js?v=6da8be361b9ee26c5e721e76c6d4afce"></script>
  <script src="/static/components/moment/min/moment.min.js?v=89f87298ad94aa1e6b92f42eb66da043"></script>

<!-- Navbar
================================================== -->
  <nav id="menubar" class="navbar navbar-default navbar-fixed-top" data-spy="affix">
    <div class="container">
      <div class="navbar-header">
        <button type="button" class="navbar-toggle collapsed" data-toggle="collapse" data-target=".navbar-collapse">
          <span class="sr-only">Toggle navigation</span>
          <i class="fa fa-bars"></i>
        </button>
        <a class="navbar-brand" href="/">
          <img src="/static/img/nav_logo.svg?v=479cefe8d932fb14a67b93911b97d70f" width="159"/>
        </a>
      </div>

      <div class="collapse navbar-collapse">
        <ul class="nav navbar-nav navbar-right">
          <li>
            <a class="active" href="http://jupyter.org">JUPYTER</a>
          </li>
          <li>
    <a href="/faq" title="FAQ" >
      
        <span>FAQ</span>
      
    </a>
  </li>

          
  
    
      
        <li>
    <a href="/format/script/url/thewhitelab.org/Classes/CHE116/Unit_3/Homework_3_Key.ipynb" title="View as Code" >
      <span class="fa fa- fa-2x menu-icon"></span>
      <span class="menu-text">View as Code</span>
    </a>
  </li>
      
    
  
    
  

  

  

  <li>
    <a href="http://thewhitelab.org/Classes/CHE116/Unit_3/Homework_3_Key.ipynb" title="Download Notebook" download>
      <span class="fa fa-download fa-2x menu-icon"></span>
      <span class="menu-text">Download Notebook</span>
    </a>
  </li>

        </ul>
      </div><!-- /.navbar-collapse -->
      
      
    </div>
  </nav>

  <div class="container container-main">
    
  
  <div id="notebook">
    <div id="notebook-container">
      
<div class="cell border-box-sizing text_cell rendered">
<div class="prompt input_prompt">
</div>
<div class="inner_cell">
<div class="text_cell_render border-box-sizing rendered_html">
<h1 id="1.-Identifying-Distributions-(5-Points)">1. Identifying Distributions (5 Points)<a class="anchor-link" href="#1.-Identifying-Distributions-(5-Points)">&#182;</a></h1><p>List if a distribution is continuous or discrete, its support, and an example of a random variable which follows the distribution. 1 Bonus point per problem for identifying a rv related to chemical engineering.</p>
<ol>
<li>Geometric distribution</li>
<li>Poisson Distribution</li>
<li>Binomial Distribution</li>
<li>Exponential Distribution</li>
<li>Bernoulli Distribution</li>
</ol>

</div>
</div>
</div>
<div class="cell border-box-sizing text_cell rendered">
<div class="prompt input_prompt">
</div>
<div class="inner_cell">
<div class="text_cell_render border-box-sizing rendered_html">
<h4 id="Answers">Answers<a class="anchor-link" href="#Answers">&#182;</a></h4><p>1.1 Discrete, $[1,\infty)$, the number of collisions until two molecules react</p>
<p>1.2 Discrete, $[0, N]$ or $[0,\infty]$, the number of accidents at a refinery</p>
<p>1.3 Discrete, $[0, N]$, the number of failures of a metal at a certain temperature</p>
<p>1.4 Continuous, $(0,\infty)$, the amount of time between between incoming crude oil shipments</p>
<p>1.5 Discrete, $\{0,1\}$, the open/close state of a valve</p>

</div>
</div>
</div>
<div class="cell border-box-sizing text_cell rendered">
<div class="prompt input_prompt">
</div>
<div class="inner_cell">
<div class="text_cell_render border-box-sizing rendered_html">
<h1 id="2.-Slicing-Lists-(6-Points)">2. Slicing Lists (6 Points)<a class="anchor-link" href="#2.-Slicing-Lists-(6-Points)">&#182;</a></h1><p>Using this sentence: "The quick brown fox jumps over the lazy dog", Create slices of the array to answer the following questions. <strong>Answer in Python</strong></p>
<ol>
<li>What is the first element?</li>
<li>What is the sentence without the last element?</li>
<li>What are the first 5 characeters?</li>
<li>What is the first half of the sentence?</li>
<li>What is the second half?</li>
<li>What is every 3rd character, starting from the 4th?</li>
</ol>

</div>
</div>
</div>
<div class="cell border-box-sizing text_cell rendered">
<div class="prompt input_prompt">
</div>
<div class="inner_cell">
<div class="text_cell_render border-box-sizing rendered_html">
<h4 id="2.1-Answer">2.1 Answer<a class="anchor-link" href="#2.1-Answer">&#182;</a></h4>
</div>
</div>
</div>
<div class="cell border-box-sizing code_cell rendered">
<div class="input">
<div class="prompt input_prompt">In&nbsp;[2]:</div>
<div class="inner_cell">
    <div class="input_area">
<div class=" highlight hl-ipython3"><pre><span></span><span class="n">string</span><span class="o">=</span><span class="s1">&#39;The quick brown fox jumps over the lazy dog&#39;</span>
<span class="nb">print</span> <span class="s1">&#39;The first element is &quot;</span><span class="si">{}</span><span class="s1">&quot;&#39;</span> <span class="o">.</span><span class="n">format</span><span class="p">(</span><span class="n">string</span><span class="p">[</span><span class="mi">0</span><span class="p">])</span>
</pre></div>

</div>
</div>
</div>

<div class="output_wrapper">
<div class="output">


<div class="output_area"><div class="prompt"></div>
<div class="output_subarea output_stream output_stdout output_text">
<pre>The first element is &#34;T&#34;
</pre>
</div>
</div>

</div>
</div>

</div>
<div class="cell border-box-sizing text_cell rendered">
<div class="prompt input_prompt">
</div>
<div class="inner_cell">
<div class="text_cell_render border-box-sizing rendered_html">
<h4 id="2.2-Answer">2.2 Answer<a class="anchor-link" href="#2.2-Answer">&#182;</a></h4>
</div>
</div>
</div>
<div class="cell border-box-sizing code_cell rendered">
<div class="input">
<div class="prompt input_prompt">In&nbsp;[3]:</div>
<div class="inner_cell">
    <div class="input_area">
<div class=" highlight hl-ipython3"><pre><span></span><span class="nb">print</span> <span class="s1">&#39;The sentence without the the last element is: &#39;</span><span class="p">,</span> <span class="n">string</span><span class="p">[:</span><span class="o">-</span><span class="mi">1</span><span class="p">]</span>
</pre></div>

</div>
</div>
</div>

<div class="output_wrapper">
<div class="output">


<div class="output_area"><div class="prompt"></div>
<div class="output_subarea output_stream output_stdout output_text">
<pre>The sentence without the the last element is:  The quick brown fox jumps over the lazy do
</pre>
</div>
</div>

</div>
</div>

</div>
<div class="cell border-box-sizing text_cell rendered">
<div class="prompt input_prompt">
</div>
<div class="inner_cell">
<div class="text_cell_render border-box-sizing rendered_html">
<h4 id="2.3-Answer">2.3 Answer<a class="anchor-link" href="#2.3-Answer">&#182;</a></h4>
</div>
</div>
</div>
<div class="cell border-box-sizing code_cell rendered">
<div class="input">
<div class="prompt input_prompt">In&nbsp;[4]:</div>
<div class="inner_cell">
    <div class="input_area">
<div class=" highlight hl-ipython3"><pre><span></span><span class="nb">print</span> <span class="n">string</span><span class="p">[</span><span class="mi">0</span><span class="p">:</span><span class="mi">5</span><span class="p">]</span>
</pre></div>

</div>
</div>
</div>

<div class="output_wrapper">
<div class="output">


<div class="output_area"><div class="prompt"></div>
<div class="output_subarea output_stream output_stdout output_text">
<pre>The q
</pre>
</div>
</div>

</div>
</div>

</div>
<div class="cell border-box-sizing text_cell rendered">
<div class="prompt input_prompt">
</div>
<div class="inner_cell">
<div class="text_cell_render border-box-sizing rendered_html">
<h4 id="2.4-Answer">2.4 Answer<a class="anchor-link" href="#2.4-Answer">&#182;</a></h4>
</div>
</div>
</div>
<div class="cell border-box-sizing code_cell rendered">
<div class="input">
<div class="prompt input_prompt">In&nbsp;[5]:</div>
<div class="inner_cell">
    <div class="input_area">
<div class=" highlight hl-ipython3"><pre><span></span><span class="n">s</span><span class="o">=</span><span class="nb">len</span><span class="p">(</span><span class="n">string</span><span class="p">)</span>
<span class="nb">print</span> <span class="n">s</span>
<span class="nb">print</span> <span class="s1">&#39;</span><span class="si">{:s}</span><span class="s1">&#39;</span><span class="o">.</span><span class="n">format</span><span class="p">(</span><span class="n">string</span><span class="p">[</span><span class="mi">0</span><span class="p">:(</span><span class="n">s</span><span class="o">/</span><span class="mi">2</span><span class="p">)])</span>
<span class="n">k</span><span class="o">=</span><span class="nb">len</span><span class="p">(</span><span class="n">string</span><span class="p">[</span><span class="mi">0</span><span class="p">:((</span><span class="n">s</span><span class="p">)</span><span class="o">/</span><span class="mi">2</span><span class="p">)])</span>
<span class="nb">print</span> <span class="n">k</span>
</pre></div>

</div>
</div>
</div>

<div class="output_wrapper">
<div class="output">


<div class="output_area"><div class="prompt"></div>
<div class="output_subarea output_stream output_stdout output_text">
<pre>43
The quick brown fox j
21
</pre>
</div>
</div>

</div>
</div>

</div>
<div class="cell border-box-sizing text_cell rendered">
<div class="prompt input_prompt">
</div>
<div class="inner_cell">
<div class="text_cell_render border-box-sizing rendered_html">
<h4 id="2.5-Anwser">2.5 Anwser<a class="anchor-link" href="#2.5-Anwser">&#182;</a></h4>
</div>
</div>
</div>
<div class="cell border-box-sizing code_cell rendered">
<div class="input">
<div class="prompt input_prompt">In&nbsp;[6]:</div>
<div class="inner_cell">
    <div class="input_area">
<div class=" highlight hl-ipython3"><pre><span></span><span class="n">s</span><span class="o">=</span><span class="nb">len</span><span class="p">(</span><span class="n">string</span><span class="p">)</span>
<span class="nb">print</span> <span class="n">s</span>
<span class="nb">print</span> <span class="n">string</span><span class="p">[((</span><span class="n">s</span><span class="p">)</span><span class="o">/</span><span class="mi">2</span><span class="p">):]</span>
<span class="n">l</span><span class="o">=</span><span class="nb">len</span><span class="p">(</span><span class="n">string</span><span class="p">[((</span><span class="n">s</span><span class="p">)</span><span class="o">/</span><span class="mi">2</span><span class="p">):])</span>
<span class="nb">print</span>  <span class="n">l</span>
</pre></div>

</div>
</div>
</div>

<div class="output_wrapper">
<div class="output">


<div class="output_area"><div class="prompt"></div>
<div class="output_subarea output_stream output_stdout output_text">
<pre>43
umps over the lazy dog
22
</pre>
</div>
</div>

</div>
</div>

</div>
<div class="cell border-box-sizing text_cell rendered">
<div class="prompt input_prompt">
</div>
<div class="inner_cell">
<div class="text_cell_render border-box-sizing rendered_html">
<h4 id="2.6-Answer">2.6 Answer<a class="anchor-link" href="#2.6-Answer">&#182;</a></h4>
</div>
</div>
</div>
<div class="cell border-box-sizing code_cell rendered">
<div class="input">
<div class="prompt input_prompt">In&nbsp;[4]:</div>
<div class="inner_cell">
    <div class="input_area">
<div class=" highlight hl-ipython3"><pre><span></span><span class="nb">print</span> <span class="n">string</span><span class="p">[</span><span class="mi">3</span><span class="p">::</span><span class="mi">3</span><span class="p">]</span>
</pre></div>

</div>
</div>
</div>

<div class="output_wrapper">
<div class="output">


<div class="output_area"><div class="prompt"></div>
<div class="output_subarea output_stream output_stdout output_text">
<pre> i o xusv ea g
</pre>
</div>
</div>

</div>
</div>

</div>
<div class="cell border-box-sizing text_cell rendered">
<div class="prompt input_prompt">
</div>
<div class="inner_cell">
<div class="text_cell_render border-box-sizing rendered_html">
<h1 id="3.-Numpy-Arrays-and-Arithmetic-(12-Points)">3. Numpy Arrays and Arithmetic (12 Points)<a class="anchor-link" href="#3.-Numpy-Arrays-and-Arithmetic-(12-Points)">&#182;</a></h1><ol>
<li>Create a numpy array containing a set of points between 0 and 30 spaced apart by 0.02. This should be done with a numpy function.</li>
<li>Using a <code>for</code> loop, sum all the elements in the array and print the sum. Check your answer using the numpy <code>sum</code> function.</li>
<li>Using the array from question 3.1, create an array representing a $\lambda = 3$ exponential distribution on the interval $[0,30)$. A factorial function which works on arrays can be imported by calling <code>from scipy.misc import factorial</code>. <em>Note: the word <code>lambda</code> is a reserved word in python, meaning you cannot use it for a variable name. You can tell if a variable is reserved because it is a different color/font than other variables in ipython. Also, when applying mathematical functions to numpy arrays, you must use the numpy versions, for example <code>numpy.cos</code> instead of <code>math.cos</code></em></li>
<li>Using a <code>for</code> loop and the array from Question 3.3, compute the expected value of the exponential distribution. To evaluate the integral, use $\int f(x)dx = \sum_i f(x_i) \Delta x$, where $\Delta x$ is the spacing between your points and $f(x_i)$ is the function evaluated at point $x_i$. As you know, it should be $1/3$.</li>
<li>Using both the arrays from Question 3.1 and 3.3 and the <code>sum</code> function from numpy, compute the expected value without a <code>for</code> loop. </li>
<li>Using your equation from HW 2, problem 5 (see key), compute the expected value and variance of the sum of two dice</li>
</ol>

</div>
</div>
</div>
<div class="cell border-box-sizing text_cell rendered">
<div class="prompt input_prompt">
</div>
<div class="inner_cell">
<div class="text_cell_render border-box-sizing rendered_html">
<h4 id="3.1-Answer">3.1 Answer<a class="anchor-link" href="#3.1-Answer">&#182;</a></h4>
</div>
</div>
</div>
<div class="cell border-box-sizing code_cell rendered">
<div class="input">
<div class="prompt input_prompt">In&nbsp;[8]:</div>
<div class="inner_cell">
    <div class="input_area">
<div class=" highlight hl-ipython3"><pre><span></span><span class="kn">import</span> <span class="nn">numpy</span> <span class="k">as</span> <span class="nn">np</span>
<span class="n">x</span> <span class="o">=</span> <span class="n">np</span><span class="o">.</span><span class="n">arange</span><span class="p">(</span><span class="mi">0</span><span class="p">,</span><span class="mi">30</span><span class="p">,</span> <span class="mf">0.02</span><span class="p">)</span>
<span class="nb">print</span> <span class="n">x</span>
</pre></div>

</div>
</div>
</div>

<div class="output_wrapper">
<div class="output">


<div class="output_area"><div class="prompt"></div>
<div class="output_subarea output_stream output_stdout output_text">
<pre>[  0.00000000e+00   2.00000000e-02   4.00000000e-02 ...,   2.99400000e+01
   2.99600000e+01   2.99800000e+01]
</pre>
</div>
</div>

</div>
</div>

</div>
<div class="cell border-box-sizing text_cell rendered">
<div class="prompt input_prompt">
</div>
<div class="inner_cell">
<div class="text_cell_render border-box-sizing rendered_html">
<h4 id="3.2-Answer">3.2 Answer<a class="anchor-link" href="#3.2-Answer">&#182;</a></h4>
</div>
</div>
</div>
<div class="cell border-box-sizing code_cell rendered">
<div class="input">
<div class="prompt input_prompt">In&nbsp;[9]:</div>
<div class="inner_cell">
    <div class="input_area">
<div class=" highlight hl-ipython3"><pre><span></span><span class="n">xsum</span> <span class="o">=</span> <span class="mi">0</span>
<span class="k">for</span> <span class="n">element</span> <span class="ow">in</span> <span class="n">x</span><span class="p">:</span>
    <span class="n">xsum</span> <span class="o">+=</span> <span class="n">element</span>
<span class="nb">print</span> <span class="n">xsum</span><span class="p">,</span> <span class="n">np</span><span class="o">.</span><span class="n">sum</span><span class="p">(</span><span class="n">x</span><span class="p">)</span>
</pre></div>

</div>
</div>
</div>

<div class="output_wrapper">
<div class="output">


<div class="output_area"><div class="prompt"></div>
<div class="output_subarea output_stream output_stdout output_text">
<pre>22485.0 22485.0
</pre>
</div>
</div>

</div>
</div>

</div>
<div class="cell border-box-sizing text_cell rendered">
<div class="prompt input_prompt">
</div>
<div class="inner_cell">
<div class="text_cell_render border-box-sizing rendered_html">
<h4 id="3.3-Answer">3.3 Answer<a class="anchor-link" href="#3.3-Answer">&#182;</a></h4>
</div>
</div>
</div>
<div class="cell border-box-sizing code_cell rendered">
<div class="input">
<div class="prompt input_prompt">In&nbsp;[10]:</div>
<div class="inner_cell">
    <div class="input_area">
<div class=" highlight hl-ipython3"><pre><span></span><span class="kn">from</span> <span class="nn">scipy.misc</span> <span class="k">import</span> <span class="n">factorial</span>
<span class="n">lamb</span> <span class="o">=</span> <span class="mf">3.0</span>
<span class="n">y</span> <span class="o">=</span> <span class="n">np</span><span class="o">.</span><span class="n">exp</span><span class="p">(</span><span class="o">-</span><span class="n">lamb</span> <span class="o">*</span> <span class="n">x</span><span class="p">)</span> <span class="o">*</span> <span class="n">lamb</span>
<span class="nb">print</span> <span class="n">y</span>
</pre></div>

</div>
</div>
</div>

<div class="output_wrapper">
<div class="output">


<div class="output_area"><div class="prompt"></div>
<div class="output_subarea output_stream output_stdout output_text">
<pre>[  3.00000000e+00   2.82529360e+00   2.66076131e+00 ...,   2.94300426e-39
   2.77161703e-39   2.61021062e-39]
</pre>
</div>
</div>

</div>
</div>

</div>
<div class="cell border-box-sizing text_cell rendered">
<div class="prompt input_prompt">
</div>
<div class="inner_cell">
<div class="text_cell_render border-box-sizing rendered_html">
<h4 id="3.4-Answer">3.4 Answer<a class="anchor-link" href="#3.4-Answer">&#182;</a></h4>$$E[x] = \int_0^{30} \underbrace{x P(x)}_{f(x_i)} \,dx$$$$P(x) = \lambda e^{-\lambda x}$$$$E[x] \approx \sum_i^N \lambda e^{-\lambda x_i} x_i \Delta x$$
</div>
</div>
</div>
<div class="cell border-box-sizing code_cell rendered">
<div class="input">
<div class="prompt input_prompt">In&nbsp;[11]:</div>
<div class="inner_cell">
    <div class="input_area">
<div class=" highlight hl-ipython3"><pre><span></span><span class="n">expected_value</span> <span class="o">=</span> <span class="mi">0</span>
<span class="k">for</span> <span class="n">element</span> <span class="ow">in</span> <span class="n">x</span><span class="p">:</span>
    <span class="n">expected_value</span> <span class="o">+=</span> <span class="n">element</span> <span class="o">*</span> <span class="n">np</span><span class="o">.</span><span class="n">exp</span><span class="p">(</span><span class="o">-</span><span class="n">lamb</span> <span class="o">*</span> <span class="n">element</span><span class="p">)</span> <span class="o">*</span> <span class="n">lamb</span> <span class="o">*</span> <span class="mf">0.02</span>
<span class="nb">print</span> <span class="n">expected_value</span><span class="p">,</span> <span class="mi">1</span> <span class="o">/</span> <span class="mf">3.</span>
</pre></div>

</div>
</div>
</div>

<div class="output_wrapper">
<div class="output">


<div class="output_area"><div class="prompt"></div>
<div class="output_subarea output_stream output_stdout output_text">
<pre>0.333233351331 0.333333333333
</pre>
</div>
</div>

</div>
</div>

</div>
<div class="cell border-box-sizing text_cell rendered">
<div class="prompt input_prompt">
</div>
<div class="inner_cell">
<div class="text_cell_render border-box-sizing rendered_html">
<h4 id="3.5-Answer">3.5 Answer<a class="anchor-link" href="#3.5-Answer">&#182;</a></h4>
</div>
</div>
</div>
<div class="cell border-box-sizing code_cell rendered">
<div class="input">
<div class="prompt input_prompt">In&nbsp;[12]:</div>
<div class="inner_cell">
    <div class="input_area">
<div class=" highlight hl-ipython3"><pre><span></span><span class="n">expected_value</span> <span class="o">=</span> <span class="n">np</span><span class="o">.</span><span class="n">sum</span><span class="p">(</span><span class="n">x</span> <span class="o">*</span> <span class="n">y</span> <span class="o">*</span> <span class="mf">0.02</span><span class="p">)</span>
<span class="nb">print</span> <span class="n">expected_value</span><span class="p">,</span> <span class="mf">1.</span> <span class="o">/</span> <span class="mi">3</span>
</pre></div>

</div>
</div>
</div>

<div class="output_wrapper">
<div class="output">


<div class="output_area"><div class="prompt"></div>
<div class="output_subarea output_stream output_stdout output_text">
<pre>0.333233351331 0.333333333333
</pre>
</div>
</div>

</div>
</div>

</div>
<div class="cell border-box-sizing text_cell rendered">
<div class="prompt input_prompt">
</div>
<div class="inner_cell">
<div class="text_cell_render border-box-sizing rendered_html">
<h4 id="3.6-Answer">3.6 Answer<a class="anchor-link" href="#3.6-Answer">&#182;</a></h4>
</div>
</div>
</div>
<div class="cell border-box-sizing code_cell rendered">
<div class="input">
<div class="prompt input_prompt">In&nbsp;[16]:</div>
<div class="inner_cell">
    <div class="input_area">
<div class=" highlight hl-ipython3"><pre><span></span><span class="c1">#create the sample space</span>
<span class="n">Q</span> <span class="o">=</span> <span class="n">np</span><span class="o">.</span><span class="n">arange</span><span class="p">(</span><span class="mi">2</span><span class="p">,</span><span class="mi">13</span><span class="p">)</span>
<span class="c1">#probability of a roll</span>
<span class="n">P_n</span> <span class="o">=</span> <span class="p">(</span><span class="mf">6.</span> <span class="o">-</span> <span class="nb">abs</span><span class="p">(</span><span class="n">Q</span> <span class="o">-</span> <span class="mi">7</span><span class="p">))</span> <span class="o">/</span> <span class="mi">36</span>
<span class="c1">#sum of n * P_n to get E[n]</span>
<span class="n">expected_value</span> <span class="o">=</span> <span class="n">np</span><span class="o">.</span><span class="n">sum</span><span class="p">(</span><span class="n">Q</span> <span class="o">*</span> <span class="n">P_n</span><span class="p">)</span>
<span class="c1">#sum of n^2 * P_n to get E[n^2]</span>
<span class="n">expected_value_2</span> <span class="o">=</span> <span class="n">np</span><span class="o">.</span><span class="n">sum</span><span class="p">(</span><span class="n">Q</span><span class="o">**</span><span class="mi">2</span> <span class="o">*</span> <span class="n">P_n</span><span class="p">)</span>
<span class="c1">#variance via E[n^2] - E[n]^2</span>
<span class="n">variance</span> <span class="o">=</span> <span class="n">expected_value_2</span> <span class="o">-</span> <span class="n">expected_value</span> <span class="o">**</span> <span class="mi">2</span>
<span class="nb">print</span> <span class="s1">&#39;E[x] = </span><span class="si">{}</span><span class="s1">, Var(x) = </span><span class="si">{}</span><span class="s1">&#39;</span><span class="o">.</span><span class="n">format</span><span class="p">(</span><span class="n">expected_value</span><span class="p">,</span> <span class="n">variance</span><span class="p">)</span>
</pre></div>

</div>
</div>
</div>

<div class="output_wrapper">
<div class="output">


<div class="output_area"><div class="prompt"></div>
<div class="output_subarea output_stream output_stdout output_text">
<pre>E[x] = 7.0, Var(x) = 5.83333333333
</pre>
</div>
</div>

</div>
</div>

</div>
<div class="cell border-box-sizing text_cell rendered">
<div class="prompt input_prompt">
</div>
<div class="inner_cell">
<div class="text_cell_render border-box-sizing rendered_html">
<h1 id="4.-Plotting-(4-Points)">4. Plotting (4 Points)<a class="anchor-link" href="#4.-Plotting-(4-Points)">&#182;</a></h1><ol>
<li>Create a numpy array of points and evaluate the exponential distribution on it. Make sure your inteval is within the support of the distribution. Plot the distribution</li>
<li>Do the same for the geometric distribution. Think carefully about whether it should be a line or a point plot and what the sample space of the distribution is.</li>
<li>Plot the binomial distribution with $N=10$, $p=0.25$.</li>
<li>Plot the binomial distribution with $N=150$, $p=0.5$. </li>
</ol>

</div>
</div>
</div>
<div class="cell border-box-sizing text_cell rendered">
<div class="prompt input_prompt">
</div>
<div class="inner_cell">
<div class="text_cell_render border-box-sizing rendered_html">
<h4 id="4.1-Answer">4.1 Answer<a class="anchor-link" href="#4.1-Answer">&#182;</a></h4>
</div>
</div>
</div>
<div class="cell border-box-sizing code_cell rendered">
<div class="input">
<div class="prompt input_prompt">In&nbsp;[9]:</div>
<div class="inner_cell">
    <div class="input_area">
<div class=" highlight hl-ipython3"><pre><span></span><span class="o">%</span><span class="k">matplotlib</span> inline
<span class="kn">import</span> <span class="nn">matplotlib.pyplot</span> <span class="k">as</span> <span class="nn">plt</span>
<span class="kn">import</span> <span class="nn">seaborn</span>
<span class="n">seaborn</span><span class="o">.</span><span class="n">set_context</span><span class="p">(</span><span class="s2">&quot;talk&quot;</span><span class="p">)</span>
<span class="n">x</span> <span class="o">=</span> <span class="n">np</span><span class="o">.</span><span class="n">linspace</span><span class="p">(</span><span class="mi">0</span><span class="p">,</span> <span class="mi">4</span><span class="p">,</span> <span class="mi">250</span><span class="p">)</span>
<span class="n">y</span> <span class="o">=</span> <span class="mf">2.0</span> <span class="o">*</span> <span class="n">np</span><span class="o">.</span><span class="n">exp</span><span class="p">(</span><span class="o">-</span><span class="mf">2.0</span> <span class="o">*</span> <span class="n">x</span><span class="p">)</span>
<span class="n">plt</span><span class="o">.</span><span class="n">plot</span><span class="p">(</span><span class="n">x</span><span class="p">,</span><span class="n">y</span><span class="p">)</span>
<span class="n">plt</span><span class="o">.</span><span class="n">show</span><span class="p">()</span>
</pre></div>

</div>
</div>
</div>

<div class="output_wrapper">
<div class="output">


<div class="output_area"><div class="prompt"></div>


<div class="output_png output_subarea ">
<img src="data:image/png;base64,iVBORw0KGgoAAAANSUhEUgAAAnUAAAG4CAYAAAAjaRGjAAAABHNCSVQICAgIfAhkiAAAAAlwSFlz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"
>
</div>

</div>

</div>
</div>

</div>
<div class="cell border-box-sizing text_cell rendered">
<div class="prompt input_prompt">
</div>
<div class="inner_cell">
<div class="text_cell_render border-box-sizing rendered_html">
<h4 id="4.2-Answer">4.2 Answer<a class="anchor-link" href="#4.2-Answer">&#182;</a></h4>
</div>
</div>
</div>
<div class="cell border-box-sizing code_cell rendered">
<div class="input">
<div class="prompt input_prompt">In&nbsp;[10]:</div>
<div class="inner_cell">
    <div class="input_area">
<div class=" highlight hl-ipython3"><pre><span></span><span class="n">n</span><span class="o">=</span><span class="n">np</span><span class="o">.</span><span class="n">arange</span><span class="p">(</span><span class="mi">1</span><span class="p">,</span> <span class="mi">9</span><span class="p">)</span>
<span class="n">p</span><span class="o">=</span><span class="mf">0.4</span>
<span class="n">pgeo</span><span class="o">=</span><span class="p">(</span><span class="mi">1</span><span class="o">-</span><span class="n">p</span><span class="p">)</span><span class="o">**</span><span class="p">(</span><span class="n">n</span><span class="o">-</span><span class="mi">1</span><span class="p">)</span><span class="o">*</span><span class="n">p</span>
<span class="n">plt</span><span class="o">.</span><span class="n">plot</span><span class="p">(</span><span class="n">n</span><span class="p">,</span> <span class="n">pgeo</span><span class="p">,</span> <span class="s1">&#39;yo-&#39;</span><span class="p">)</span>
<span class="n">plt</span><span class="o">.</span><span class="n">show</span><span class="p">()</span>
</pre></div>

</div>
</div>
</div>

<div class="output_wrapper">
<div class="output">


<div class="output_area"><div class="prompt"></div>


<div class="output_png output_subarea ">
<img src="data:image/png;base64,iVBORw0KGgoAAAANSUhEUgAAAncAAAG4CAYAAAAnnMGeAAAABHNCSVQICAgIfAhkiAAAAAlwSFlz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"
>
</div>

</div>

</div>
</div>

</div>
<div class="cell border-box-sizing text_cell rendered">
<div class="prompt input_prompt">
</div>
<div class="inner_cell">
<div class="text_cell_render border-box-sizing rendered_html">
<p>4.3 Plot the binomial distribution with $N=10$, $p=0.25$.</p>

</div>
</div>
</div>
<div class="cell border-box-sizing code_cell rendered">
<div class="input">
<div class="prompt input_prompt">In&nbsp;[11]:</div>
<div class="inner_cell">
    <div class="input_area">
<div class=" highlight hl-ipython3"><pre><span></span><span class="kn">from</span> <span class="nn">scipy.misc</span> <span class="k">import</span> <span class="n">comb</span>
<span class="n">p</span> <span class="o">=</span> <span class="mf">0.25</span>
<span class="n">N</span> <span class="o">=</span> <span class="mi">10</span>
<span class="n">h</span><span class="o">=</span><span class="n">np</span><span class="o">.</span><span class="n">arange</span><span class="p">(</span><span class="n">N</span><span class="o">+</span><span class="mi">1</span><span class="p">)</span>
<span class="n">L</span><span class="o">=</span><span class="n">comb</span><span class="p">(</span><span class="n">N</span><span class="p">,</span> <span class="n">h</span><span class="p">)</span>
<span class="n">pbi</span><span class="o">=</span><span class="n">L</span><span class="o">*</span><span class="n">p</span><span class="o">**</span><span class="n">h</span><span class="o">*</span><span class="p">(</span><span class="mi">1</span><span class="o">-</span><span class="n">p</span><span class="p">)</span><span class="o">**</span><span class="p">(</span><span class="n">N</span><span class="o">-</span><span class="n">h</span><span class="p">)</span>
<span class="n">plt</span><span class="o">.</span><span class="n">plot</span><span class="p">(</span><span class="n">h</span><span class="p">,</span> <span class="n">pbi</span><span class="p">,</span> <span class="s1">&#39;ro-&#39;</span><span class="p">)</span>
<span class="n">plt</span><span class="o">.</span><span class="n">show</span><span class="p">()</span>
</pre></div>

</div>
</div>
</div>

<div class="output_wrapper">
<div class="output">


<div class="output_area"><div class="prompt"></div>


<div class="output_png output_subarea ">
<img src="data:image/png;base64,iVBORw0KGgoAAAANSUhEUgAAAnoAAAG4CAYAAADSYkouAAAABHNCSVQICAgIfAhkiAAAAAlwSFlz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"
>
</div>

</div>

</div>
</div>

</div>
<div class="cell border-box-sizing code_cell rendered">
<div class="input">
<div class="prompt input_prompt">In&nbsp;[15]:</div>
<div class="inner_cell">
    <div class="input_area">
<div class=" highlight hl-ipython3"><pre><span></span><span class="n">N</span> <span class="o">=</span> <span class="mi">150</span>
<span class="n">p</span> <span class="o">=</span> <span class="mf">0.5</span>
<span class="n">h</span><span class="o">=</span><span class="n">np</span><span class="o">.</span><span class="n">arange</span><span class="p">(</span><span class="n">N</span><span class="o">+</span><span class="mi">1</span><span class="p">)</span>
<span class="n">L</span><span class="o">=</span><span class="n">comb</span><span class="p">(</span><span class="n">N</span><span class="p">,</span> <span class="n">h</span><span class="p">)</span>
<span class="n">pbi</span><span class="o">=</span><span class="n">L</span><span class="o">*</span><span class="n">p</span><span class="o">**</span><span class="n">h</span><span class="o">*</span><span class="p">(</span><span class="mi">1</span><span class="o">-</span><span class="n">p</span><span class="p">)</span><span class="o">**</span><span class="p">(</span><span class="n">N</span><span class="o">-</span><span class="n">h</span><span class="p">)</span>
<span class="n">plt</span><span class="o">.</span><span class="n">plot</span><span class="p">(</span><span class="n">h</span><span class="p">,</span> <span class="n">pbi</span><span class="p">,</span> <span class="s1">&#39;go-&#39;</span><span class="p">)</span>
<span class="n">plt</span><span class="o">.</span><span class="n">show</span><span class="p">()</span>
</pre></div>

</div>
</div>
</div>

<div class="output_wrapper">
<div class="output">


<div class="output_area"><div class="prompt"></div>


<div class="output_png output_subarea ">
<img src="data:image/png;base64,iVBORw0KGgoAAAANSUhEUgAAAn4AAAG4CAYAAADbiepUAAAABHNCSVQICAgIfAhkiAAAAAlwSFlz
AAALEgAACxIB0t1+/AAAIABJREFUeJzt3Xt4nOV95//3SD5gywZhAz5wtMG3IZzaFJFuSEmawxYb
U7LXbnM1QKihaRuybPsrOLZjukmTLI4wiluSlk2btjGFBH5pfyVbH9btbkNDmjSJaBoIBLgNgnAw
trGNsSXLJ0m/P2ZGFiNpxpJn5nlm5v26rlyRnrk1850vkvzRfT/384AkSZIkSZIkSZIkSZIkSZIk
SZIkSZIkSZIkqQwypQaEENqALwEzgcPA52OM948w7kZgJTAR2AXcGmN8LITwLuArBcNPAf5XjPGj
x1m/JEmSjlHR4BdCmAw8D9wWY/xGCOFc4DHgl2KMTw4ZdwnwbeCyGOPzIYQPAR3AuTHGwyM854+B
G2KM/1betyNJkqTRNJV4/H3AQIzxGwAxxueBjcCHC8bdAGzIPU5ufAZ4zwjP+d+Bbxn6JEmSqqtU
8Dsf2FJwLAIXFhxbmDs+1JbCcSGEWcDvAJ8ZW5mSJEk6XqWCXwvQW3DsQO54qXG9wNSCY58A7o8x
7hhLkZIkSTp+E0o8vg+YUnCsBeguONbN8JD3lnEhhGbgI8CvjL1MSZIkHa9Swe8pYFnBsQuAx0cY
tzD/SQghQ3aZ+IkhY94NHIwx/nisRfb39w9kMiU3IEuSJNWtTBnCUKng9whwJISwNMa4LoRwKfAB
YFXBuAeA74UQLsrt9v0o2dnCR4eMuQL46XiKzGQy7NnTQ3//wHi+vK41NWVobW2xP0XYo+LsT2n2
qDj7U5o9Ks7+lNbUVJ4JsKLBL8Z4JIRwLXBvCGEV2fP7bo4xPhdCWA30xBjvjDE+HUK4BXgohDAJ
2ApcG2PsH/J0p+eOj0t//wB9fX4zjMb+lGaPirM/pdmj4uxPafaoOPtTeTWxfjowMDCwe3e33wwj
aG7OMGPGNOzP6OxRcfanNHtUnP0pzR4VZ39Ka27OMHPm9OPObaV29UqSJKlOGPwkSZIahMFPkiSp
QRj8JEmSGoTBT5IkqUEY/CRJkhqEwU+SJKlBGPwkSZIahMFPkiSpQRj8JEmSGoTBT5IkqUEY/CRJ
khqEwU+SJKlBGPwkSZIahMFPkiSpQRj8JEmSGoTBT5IkqUEY/CRJkhqEwU+SJKlBGPwk1aWNXeu5
eF3g4nWBTV0bki5HklLB4Cep7nR0tnPT5uvZvn8b2/dvY+nm6+jobE+6LElKnMFPUl3p6GxnTefq
YcfXdK42/ElqeAY/SXVjU9eGEUNf3prO1S77SmpoBj9JdWPFo7eVZYwk1SuDn6S6sLFrPa/37ig5
7sCRA1WoRpLSyeAnqeblN3P0D/SXHPvmoT2e6yepYRn8JNW00TZzFONGD0mNyuAnqWaV2sxRjBs9
JDUig5+kmnW8GzXc6CGp0Rj8JEmSGoTBT1LNuuvKtYl+vSTVGoOfpJq1eP4SlretGvXxK+b+0qiP
LW9bxeL5SypRliSllsFPUk1b1raS3/+FTww7vuLyO3j4gxtHDIbvPev9LGtbWY3yJClVDH6Sat47
575r8OPTps7ivkUPcvtlK4BsMFx31deZNXU2JzSfAMCkpkmJ1ClJSTP4Sap53331OwCEkxfy5NIt
LJp39VseXzx/CT9ZGvnsFZ8H4Htbv0tff1/V65SkpBn8JNW8f3n1UQCuOH30c/oA3nX6lQDsPfQm
T+58ouJ1SVLaGPwk1bTuw938+PUfAfCu099ddOy5recxu2UOAP+SmyWUpEZi8JNU03742r9ypP8I
8NZz/UaSyWQGd/p+NzdLKEmNxOAnqSZt7FrPxesCN2++EYC3zbyImVNmlvy6/HLvP730f7h4XfC2
bZIaisFPUs3p6Gznps3Xs33/NvYf6QFgyoQpx/S1T+9+CoABBti+fxtLN19HR2d7xWqVpDQx+Emq
KR2d7azpXD3s+L9t7ywZ4Do62/nzJ/7nsONrOlcb/iQ1BIOfpJqxqWvDiKEvb03n6lGXbo/nayWp
Xhj8JNWMFY/eNu4xx/O1klQvDH6SJEkNwuAnqWbcdeXacY85nq+VpHph8JNUMxbPX8LytlWjPr68
bRWL5y8p+9dKUr2YkHQBkjQWy9pWAgzbqLHi8ju4/bIVFftaSaoHJYNfCKEN+BIwEzgMfD7GeP8I
424EVgITgV3ArTHGx3KPzQD+DHhH7jnWxRg/V643IamxLGtbyY79O1j31F/QRBNfXfQ1Fs27+pi/
9m0zL+LWf/ptug93c8a0Mw19khpG0aXeEMJk4GFgbYxxAXAN8MUQwkUF4y4B7gGuyY1bC/xdCCEf
LL8KbIsxnkU2/H0ghHBeed+KpEYyecJkAH5x7juPOfTlLZ6/hHvem72e34792wdv+SZJ9a7UOX7v
AwZijN8AiDE+D2wEPlww7gZgQ+5xcuMzwHtCCHOBRcAf5h7bGWO8Msb4XNnehaSGE3c/A8CCkxeO
6+tD7usO9R/ipb0vlqssSUq1UsHvfGBLwbEIXFhwbGHu+FBbgIuAnwN2ADeHEJ4IIfw4hPCxcdYr
SQBseSP7KyecHMb19fNOms+EpuyixLNvPFu2uiQpzUoFvxagt+DYgdzxUuN6c8dbgdOAAzHGS4CP
AO0hhPePq2JJDa/7cDevdL8MjH/Gb1LzJOadOB+ALQY/SQ2i1OaOfUDhnc9bgO6CY93A1BHG7QP2
AAPAnwDEGH8SQthIdvn3/x5roU1NmWMd2lDyfbE/o7NHxdVif17YdfRMkfNPOZ/m5vHVHmYsZMue
yJY9zxZ9jlrsUTXZn9LsUXH2p7Ry9aZU8HsKWFZw7ALg8RHGDf7ZHULIkF0mfgJ4jexO32lkg2De
4bEU2tpaOMmooexPafaouFrqz6svvwjA9EnTuejMQCYzvl+Il869mI1d6+na+xwzZkwrOb6WepQE
+1OaPSrO/lReqeD3CHAkhLA0xrguhHAp8AGg8CqoDwDfCyFcFGN8Evgo2ZD3aIyxP4Tw3dzXfDKE
cA7Z2b5rx1Lonj099PcPjOVLGkJTU4bW1hb7U4Q9Kq4W+/Ojl7N/ey44eSFvvNEz7uc5c8o8AJ5+
/Rl27do3aoCsxR5Vk/0pzR4VZ39Kq8qMX4zxSAjhWuDeEMIqsuf33RxjfC6EsBroiTHeGWN8OoRw
C/BQCGESsBW4NsbYn3uqjwB/GUJ4EegBVsYYvzOWQvv7B+jr85thNPanNHtUXC3159nd2XPyFrSG
46p5QWt2oaL78D5e2fsqc6edXnR8LfUoCfanNHtUnP2pvJIXcI4xPg5cMcLxVQWfPwQ8NMpzvEj2
0jCSdNzymzHGu7Ej79zWBYMfP7v7mZLBT5JqnffqlVRTDvUd4oU3uwBYOOP843quloktnDn9LMCd
vZIag8FPUk3pevN5+gb6AFgwzmv4DZV/jvhG4aVIJan+GPwk1ZT8zNzk5smcPf2c436+/HLxlj3O
+EmqfwY/STUl5oLf/JPOo7mp+bifL3/rNpd6JTUCg5+kmrGxaz33/NsXgOw1/MohnJw9T3Bn704u
/Op5bOraUJbnlaQ0MvhJqgkdne3ctPl6DvQdAOCH275PR2f7cT/vP774vwc/fr13B0s3X1eW55Wk
NDL4SUq9js521nSuHnZ8Tefq4wppHZ3tfOnf/6jszytJaWXwk5Rqm7o2jBj68tZ0rh7X8mylnleS
0szgJynVVjx6W1nGVOt5JSnNDH6SJEkNwuAnKdXuunJtWcZU63klKc0MfpJSbfH8JSxvWzXq48vb
VrF4/pLUPK8kpdmEpAuQpFKWta0EGLYZY8Xld3D7ZStS97ySlFbO+EmqCcvaVg5etPmkSSdx36IH
yxLOlrWt5KtXfY0MGQA+ful/M/RJqlsGP0k1oedwD/sO7QPgq4u+xqJ5V5ftua+efw0LZ2Tv4DFj
yille15JShuDn6Sa8Mq+lwc/PnP6WWV//vxzvrzvpbI/tySlhcFPUk14ed/PAGjKNDG35fSyP//R
4Pezsj+3JKWFwU9STXgpNxM3p2UuE5snlv35z8gHv73O+EmqXwY/STUhv9RbiWVegLOGLPUODAxU
5DUkKWkGP0k1IT8TV6ngl3/eA30HeL339Yq8hiQlzeAnqSbkz70788QKBb8Tzx78+BU3eEiqUwY/
STUhf47fWdPPLjFyfGaeMJOpE6YC7uyVVL8MfpJSb//h/ezMLb9Waqk3k8kMPvdLBj9JdcrgJyn1
Kn0Nv8Lnfnmvl3SRVJ8MfpJS75Xu7AxcU6aJudPKfw2/vPz5gy71SqpXBj9JqfdSbkfv7KlzmNQ8
qWKvc4Z375BU5wx+klIvH8QqtaM3z2v5Sap3Bj9JqTd4KZcKnt839Pl7j/Sys3dnRV9LkpJg8JOU
ei8PXsql0sHPa/lJqm8GP0mp99LgXTsqcw2/vFOmnMKUCVMAz/OTVJ8MfpJSrfdIL6/37gAqf46f
1/KTVO8MfpJS7dV9rwx+XOlz/Ia+Rv68QkmqJwY/San2Ui6AZchw+rQzKv56g5d02euMn6T6Y/CT
lFobu9bz2/+4FIDWya0VvYZfXs/hHgAeeflbbOraUPHXk6RqMvhJSqWOznZu2nw9ew/tBeCNg2/Q
0dle8df82/gQAH0DR1i6+bqKv6YkVZPBT1LqdHS2s6Zz9bDjazpXVyyIFXvNu39o+JNUHwx+klJl
U9eGEQNY3prO1WVfgi31mu0/uJNvPvPNsr6mJCXB4CcpVVY8eltZxpT7NT++8eNlfU1JSoLBT5Ik
qUEY/CSlyl1Xri3LmHK/5r1X31vW15SkJBj8JKXK4vlLWN62atTHl7etYvH8JVV9zZXvuIMPnv/B
sr6mJCVhQtIFSFKhZW0rAYZtuFhx+R3cftmKqr/mJy5fWZHXlKRqc8ZPUiota1vJh8+/AYDmTDP3
LXqwYqFv6Guuu+rrTJ90IgCnnHBqxV9TkqrJ4CcptVonnwzAO+e+i0Xzrq7Kay6ev4QvvffLAOw9
9Cb9A/1VeV1JqgaDn6TUeq3nVQBmt8yp6uvOyb3eof5D7OrdVdXXlqRKMvhJSq3Xel4DYO6006v6
ukNfb1vP1qq+tiRVksFPUmq91p0NXdWe8Ttlyqk0Z5oB2Grwk1RHSu7qDSG0AV8CZgKHgc/HGO8f
YdyNwEpgIrALuDXG+FgI4RygC3i24EuuiDHuPr7yJdWr/oF+XsuFrmrP+DU3NTO7ZQ6vdr8yGD4l
qR4UDX4hhMnAw8BtMcZvhBDOBR4LIfx7jPHJIeMuAe4BLosxPh9C+BDwdyGE+fkxMcYLKvMWJNWj
Xb27ONx/GDh6zl01DQa/3HmGklQPSi31vg8YiDF+AyDG+DywEfhwwbgbgA25x8mNzwDvKWu1khrG
0MA1p8ozfnB0ljF/nqEk1YNSS73nA1sKjkXg7QXHFgKPFRzbAlyY//oQwl8DPw8cAO6JMT4wnoIl
NYZ84JrQNIFTp5xa9dfPzzJudalXUh0pNePXAvQWHDuQO15qXG/ueDfwV0BHjPFi4P8B/iyE8Evj
qlhSQ9janbuUy9Q5NGWqvw9tTkt2xs9dvZLqSakZv33AlIJj+TA3VDcwdaRxMcZdwEfzB2OM3w0h
/D3wq8B3jrXQpqbMsQ5tKPm+2J/R2aPi0tqf7fuzM35zps2hubn6tZ1+4lwgO+OX1h6lhf0pzR4V
Z39KK1dvSgW/p4BlBccuAB4fYdzC/CchhAzZZeInQggnA6fEGIcuGTcDh8ZSaGtr4SSjhrI/pdmj
4tLWn12HdwBwzoyzmTFjWtVf//w55wHQfXgfTVP6gPT1KG3sT2n2qDj7U3mlgt8jwJEQwtIY47oQ
wqXAB4BVBeMeAL4XQrgot9v3o2RnCx8FFgF/FUJoizG+FEK4CLgKuHsshe7Z00N//8BYvqQhNDVl
aG1tsT9F2KPi0tqfF3e/BMDMSaexe3fhIkPltfS3Dn789KtbeMf8X0hdj9Iird9DaWKPirM/pVVl
xi/GeCSEcC1wbwhhFdnz+26OMT4XQlgN9MQY74wxPh1CuAV4KIQwCdgKXBtj7Ac2hhDuBP4xhDCQ
e46Pxhg7x1Jof/8AfX1+M4zG/pRmj4pLW3+27suf4zc3kbpOPWH24Mev7t0K/ELqepQ29qc0e1Sc
/am8khdwjjE+DlwxwvFVBZ8/BDw0ynN8EfjiOGuU1IDyu3qTuIYfwAkTTmDmCTPZdWAXW72Wn6Q6
4S3bJKXOvkN76T68D0jmGn55+dd+rdtr+UmqDwY/SakzNGjNbZmbWB1Hr+XnjJ+k+mDwk5Q6Q5dW
Zye01Atey09S/TH4SUqdbbnz+06ZciqTmiclVsfcaUev5SdJ9cDgJyl18kurcxJc5h36+q8Z/CTV
CYOfpNTJ7+jNz7glZU7u9V/vfZ2DRw4mWosklYPBT1LqvJa/T29KZvzAnb2S6oPBT1LqbM1tpkhy
Ry+8dcbxlb2vJFiJJJWHwU9S6uR30c5JeKl3+qQTaZmYvU/wq3u9pIuk2mfwk5QqB/sOsrN3J5D8
5g44OuvojJ+kemDwk5QqDz79wODHW96ICVaSNaF5IgCf/udPs/H59QlXI0nHx+AnKTU6OttZ/ujv
D36+6l8+QUdne6L1PL3rKQB6Dvdw46brEq1Hko6XwU9SKnR0trOmc/Ww42s6VycSttJWjySVg8FP
UuI2dW0YMWTlrelczaauDQ1bjySVi8FPUuJWPHpbWcaUS9rqkaRyMfhJkiQ1CIOfpMTddeXasowp
l7TVI0nlYvCTlLjF85ewvG3VqI8vb1vF4vlLGrYeSSqXCUkXIEkAy9pWAgzbVLHi8ju4/bIVDV+P
JJWDM36SUuO3L7ll8OMZJ8zkvkUPJhqylrWtZN1VX2dCU/Zv5P+84NcMfZJqmsFPUmps69k2+PE/
/JdHWDTv6gSryVo8fwnvP/sDAEyffGLC1UjS8TH4SUqN7fuPBr9ZU2cnWMlbzW6ZA8C2ntcSrkSS
jo/BT1Jq5INV6+RWTphwQsLVHHU0+G0rMVKS0s3gJyk1tu/fDhwNWmkxuyU7++iMn6RaZ/CTlBrb
c8HqtBQt88LRILpj/3b6+vsSrkaSxs/gJyk18uf45WfY0iIf/PoH+tnZ+3rC1UjS+Bn8JKVG/hy6
2VPTtdQ7a0gQdblXUi0z+ElKjXyomtUyK+FK3uqUKafQnGkGYNt+N3hIql0GP0mpMDAwwI6Ubu5o
yjQxZ7qXdJFU+wx+klJh36G97D+yH0jf5g6AudPnArDdS7pIqmEGP0mpkL+UC6RvcwcMCX4u9Uqq
YQY/SakwdAk1TXftyJs7LRv8XOqVVMsMfpJSIT+Tlra7duTlZ/y8e4ekWmbwk5QKg5dySdnGjryj
wc8ZP0m1y+AnKRXSeteOvHzw29n7Oof7DidcjSSNj8FPUiqk9a4defngN8AAr/fuSLgaSRofg5+k
VMgv9aZxYwcweB0/cLlXUu0y+ElKhbTP+M2cMpOJTRMBN3hIql0GP0mJGxgYGLwwclo3d2QymcHa
tu13xk9SbTL4SUpc9+F9qb5rR15+NnKHM36SapTBT1Lihi6dpnWpF47ORrrUK6lWGfwkJS7td+3I
c6lXUq0z+ElKXNrv2pGXn410xk9SrTL4SUpc2i/lkpef8dvu5Vwk1SiDn6TE5Wf8ZqV0R29ePvjt
OrCLg30HE65GksbO4CcpcfkZtDRv7IC31rdj//YEK5Gk8TH4SUrUxq71bOxaD0D3oe6Eqynu8R0/
Hvz44S1/m2AlkjQ+E0oNCCG0AV8CZgKHgc/HGO8fYdyNwEpgIrALuDXG+FjBmFbgKeAfY4w3HX/5
kmpZR2c7azpXD36+6YX1dHS2s6xtZYJVjeyz3/4sn/7nTw9+/j++/4cc6juUylolaTRFZ/xCCJOB
h4G1McYFwDXAF0MIFxWMuwS4B7gmN24t8HchhIkFT3kP0AsMlKl+STWqMPTlrelcTUdnewIVje7u
H7a/JfTlpbFWSSqm1FLv+4CBGOM3AGKMzwMbgQ8XjLsB2JB7nNz4DPCe/IAQwhJgHvC13GOSGtSm
rg0jhr68NZ2r2dS1oYoVjW5T1wbaf3DnqI+nqVZJKqVU8Dsf2FJwLAIXFhxbmDs+1Jb8uBDCycAf
ATfhbJ/U8FY8eltZxlRDLdUqSaWUCn4tZJdmhzqQO15qXC8wNffxPcCf5GYEDX6SJEkJKLW5Yx8w
peBYC1C49a6boyHvLeNCCNcAZwO/kTs+rmXepiZXh0eS74v9GZ09Ki6J/tz9nrXcuOm6kmOam5P/
b1ZLtSbFn7HS7FFx9qe0cvWmVPB7ClhWcOwC4PERxi3MfxJCyJBdJn4C+E3gPKArhADQCkwIIYQY
4xXHWmhra+Eko4ayP6XZo+Kq2Z+PzPgwL+zfMuKGCYDPvOczfKSt8FTiZNRSrUnzZ6w0e1Sc/am8
UsHvEeBICGFpjHFdCOFS4APAqoJxDwDfCyFcFGN8Evgo2dnCR2OM/zx0YAjh08DZMcabx1Lonj09
9Pe7SlyoqSlDa2uL/SnCHhWXVH9uvfg2ensPDds48cl3/AG3Xnwbu3en55p+v3vp7QDDwt+ythWp
qzUJ/oyVZo+Ksz+lVWXGL8Z4JIRwLXBvCGEV2fP7bo4xPhdCWA30xBjvjDE+HUK4BXgohDAJ2Apc
G2PsL0uVQH//AH19fjOMxv6UZo+KS6I/t/3CCr71s3/ih9u+zwnNU/iz//hXLJp3dSr/O33q3Z9i
3tQF/P4jv8uu3p0AfChcl8pak+LPWGn2qDj7U3klL+AcY3wcGLYkG2NcVfD5Q8BDx/B8nxlLgZLq
W3NTMwC/dcnHWDTv6oSrKe7qc6/hirlXcu5fnAHAtv3bOOekeQlXJUnHzlu2SUrUttx9emdNnZVw
Jcdm2sTpTJ2QPQ8pf49hSaoVBj9JiRkYGGB7z3YAZrfMSbiaY5PJZJjdMhuA7T3bEq5GksbG4Ccp
Md2H97H/SA8As2ok+MHRkLptv8FPUm0x+ElKzLYhM2a1stQLDM74bXOpV1KNMfhJSsz2ITNms3Jh
qhbMmpqd8XOpV1KtMfhJSkx+xuykya1MmVB4k6D0GlzqdcZPUo0x+ElKzODGjqm1M9sHQ5Z6PcdP
Uo0x+ElKzLb9uUu51NDGDjg647fv0F66Dzf2XTsk1RaDn6TE7MidI1dLGzvgrfXu8Dw/STXE4Ccp
Mfml0lq5hl/eaUM2omwz+EmqIQY/SYmptbt25E2bOI3pk04Eji5XS1ItMPhJSkQt3rVjqPyGlPx7
kKRaYPCTlIihd+04rYau4ZfnJV0k1SKDn6REDJ0pq7XLucDRC05vd6lXUg0x+ElKxNBz42rprh15
R2f83NwhqXYY/CQlIn+7s1q7a0defpbSpV5JtcTgJykR+ZmyWlzmhbfO+A0MDCRcjSQdG4OfpETk
l3prcWMHHK17/5Eeug/vS7gaSTo2Bj9JidhR6zN+U72Is6TaY/CTlIj8XTtqcWMHvLVuz/OTVCsM
fpISsb3GZ/ymTJhC6+RWwOAnqXYY/CQlYnBzRw3etSMvX/v2/d69Q1JtMPhJqrruQ7V91468WYO3
bXPGT1JtMPhJqrqhmyFqdakXvIizpNpj8JNUdbV+1468weDnbdsk1QiDn6Sq2ti1npv+9/UATJ0w
tSbv2pG3q/d1AB7b9kM2dW1IuBpJKs3gJ6lqOjrbuWnz9bx56E0A9h/ZT0dne8JVjU9HZzsPPP3X
APQN9LF083U1+14kNQ6Dn6Sq6OhsZ03n6mHH13SurrnAVE/vRVJjMfhJqrhNXRtGDEp5azpX18xS
aT29F0mNx+AnqeJWPHpbWcakQT29F0mNx+AnSZLUIAx+kirurivXlmVMGtTTe5HUeAx+kipu8fwl
LG9bNerjy9tWsXj+kipWNH719F4kNZ4JSRcgqTEsa1sJMGxjxIrL7+D2y1YkUdK41dN7kdRYnPGT
VDXL2lay7LKVg5//5a/8dc0GpWVtK1l31ddpmdgCwLknLajZ9yKpcRj8JFXVWSeeDcApU07hmnM/
mHA1x2fx/CV86j98DoBD/QcTrkaSSjP4SaqqbT3Z+9rOmjon4UrKY/B+vT2vMTAwkHA1klScwU9S
VeWD35yW+gh+s6bOAuBw/2F2H9idcDWSVJzBT1JVvZYLfrPrJPgNfR/5UCtJaWXwk1RV2+ss+J06
5TQyZADYvt/gJyndDH6SqqreZvwmNk/klCmnArC9Z3vC1UhScQY/SVXT19/Hjv3ZcFQv5/jBWzd4
SFKaGfwkVc3O3tfpG+gD6mfGD2B2y2wAtrnUKynlDH6Squa1nq2DH89umZtgJeV1dMZvW8KVSFJx
Bj9JVZMPRhObJjJzysyEqymfWVOzM37bXeqVlHIGP0lVk5/xmzV1Nk2Z+vn144yfpFpRP795JaVe
fkZsVu6cuHqRfz/b92+jf6A/4WokaXQTSg0IIbQBXwJmAoeBz8cY7x9h3I3ASmAisAu4Ncb4WO6x
q4DPAdOAAeDLMcYvlutNSKoNrw3etaN+zu8DmJ1b6u0b6GNn705Om3pawhVJ0siKzviFECYDDwNr
Y4wLgGuAL4YQLioYdwlwD3BNbtxa4O9CCBNCCLOBvwF+N8Z4AXA18LkQwrvK/3Ykpdm2wWv41deM
39Adyp7nJynNSi31vg8YiDF+AyDG+DywEfhwwbgbgA25x8mNzwC/DPQD18UY/zX32AvAFuBt5XoT
kmrD0eBXXzN+p0w5dfCcRa/lJynNSgW/88mGtKEicGHBsYW540NtAS6MMe6IMa7PHwwhvBc4G/g/
Yy9XUi3bNrjUWz/X8ANobmrmtKmzANi+37t3SEqvUuf4tQC9BccO5I6XGtcLTM1/EkJYDHw5N/aW
3MyfpAbRe6SXNw6+AdTXxZvzZk+dzbae15zxk5RqpYLfPmBKwbEWoLvgWDdDQt5I42KMm4CzQgjn
A+tDCBNjjF871kKbmjLHOrSh5Ptif0Znj4qrVn92dh+dCTv9xLk0N9fOf49j6dHsaXPg9X9nR++2
mnpv5eCQvyT9AAAgAElEQVTPWGn2qDj7U1q5elMq+D0FLCs4dgHw+AjjFuY/CSFkyC4TPxFCCMCC
GONGgBjjMyGEvye7yeOYg19ra+Eko4ayP6XZo+Iq3Z+n9u0Z/PhtZyxg+uRpFX29SijWo3NmnAUv
wK5DrzNjRu29t3LwZ6w0e1Sc/am8UsHvEeBICGFpjHFdCOFS4APAqoJxDwDfCyFcFGN8Evgo2dnC
R4HLgQdDCFfEGH8SQmgF3g/cN5ZC9+zpob9/YCxf0hCamjK0trbYnyLsUXHV6k98rQuAaROnc7gn
w+6ewoWD9DqWHp084RQAXtrzCrt31857Kwd/xkqzR8XZn9KqMuMXYzwSQrgWuDeEsIrs+X03xxif
CyGsBnpijHfGGJ8OIdwCPBRCmARsBa6NMfYD3w8h/Ffgb0IIzWR3+z4M/PFYCu3vH6Cvz2+G0dif
0uxRcZXuz6v7snftmN0yu2b/OxTr0WlTspeo2db9Ws2+v+Plz1hp9qg4+1N5JS/gHGN8HLhihOOr
Cj5/CHholOe4Hxh20WdJjSN/u7Z6u3hz3qyW7K7e13t3cKT/CBOaSv56laSq85ZtkqqiXm/Xljcr
t1O5f6Cfnb2vJ1yNJI3M4CepKur1dm15s6cevUSNl3SRlFYGP0lVUa+3a8ubOWXm4PLutp5tCVcj
SSMz+EmquI3P/z0v7s1es31r99aEq6mMpkwTJ046CYBb/+m32dS1IeGKJGk4g5+kiurobOemf7hh
8PM//fE9dHS2J1hRZXR0trP7wC4A9h7ay9LN19Xl+5RU2wx+kiqmo7OdNZ2rhx1f07m6rkJRo7xP
SbXP4CepIjZ1bRgxDOWt6VxdF8uhjfI+JdUHg5+kiljx6G1lGZN2jfI+JdUHg58kSVKDMPhJqoi7
rlxbljFp1yjvU1J9MPhJqojF85ewvG3VqI8vb1vF4vlLqlhRZTTK+5RUH7yZpKSKWda2EmDY5ocV
l9/B7ZetSKKkimiU9ymp9jnjJ6milrWt5IQJUwA4aXIr9y16sC7D0LK2lay76utkyADwWxd/rC7f
p6TaZvCTVFH7Du3lwJFeAO5f9BCL5l2dcEWVs3j+Ei485WIATplyasLVSNJwBj9JFfVq96uDH8+Z
NjfBSqpjbkv2PQ5935KUFgY/SRW1tfsVADJkmNPSAMFv2unA0fctSWli8JNUUVu7twJw6tTTmNQ8
KeFqKu/0aWcAzvhJSieDn6SKejU383V6bias3g3O+PUY/CSlj8FPUkVtzc18zc3NhNW7/Izfmwf3
0H24O+FqJOmtDH6SKiq/5NloM34AW/c56ycpXQx+kioqv8mhUWb8hu5cftUNHpJSxuAnqWIGBgYG
l3obZcZvcvNkTp1yGnB0mVuS0sLgJ6li9hx8g/1H9gNvXQKtd/mQ64yfpLQx+EmqmKGXNDm9QZZ6
4eiytjN+ktLG4CepYvLn9zVnmpk1dXbC1VSPM36S0srgJ6li8jN+s1vm0NzUnHA11eOMn6S0MvhJ
qpij1/BrnPP7YOiM36sMDAwkXI0kHWXwk1QxjXbXjrz8jN/+Iz3sPfRmwtVI0lEGP0kV02h37cgb
GnS9Z6+kNDH4SaqYRp3xm9Uym6ZM9tfrVjd4SEoRg5+kiugf6Oe17q0AzGlprOA3oWnC4C5mZ/wk
pYnBT1JF7OzdyaH+Q0DjzfjB0Q0tzvhJShODn6SKGBp45k5vrHP84OgFq53xk5QmBj9JFZEPPBOb
JnLqlFMTrqb6js74GfwkpYfBT1JF5Gf85kw7fXCjQyPx7h2S0qjxfhtLqriNXeu58/ufBWBK8wkJ
V5OMbT3bAHjhzS42dq1PuBpJyjL4SSqrjs52btp8PfuP9ADw7BvP0NHZnnBV1dXR2c6f/viewc9v
2nx9w/VAUjoZ/CSVTUdnO2s6Vw87vqZzdcMEH3sgKc0MfpLKYlPXhhEDT96aztVs6tpQxYqqzx5I
SjuDn6SyWPHobWUZU8vsgaS0M/hJkiQ1CIOfpLK468q1ZRlTy+yBpLQz+Ekqi8Xzl7C8bdWojy9v
W8Xi+UuqWFH12QNJaTch6QIk1Y9lbSsBhm1wWHH5Hdx+2YokSqo6eyApzZzxk1RWy9pWcsXcXwJg
cvMJ3LfowYYLPMvaVrLuqq9z8gkzBo/99iW3JFiRJGUZ/CSVXT/9APzmxb/NonlXJ1xNMhbPX8K3
fu1fBj9/ae9LCVYjSVkGP0ll99LenwFw1olnJ1xJsma3zGFi00QAXtr3s4SrkaRjOMcvhNAGfAmY
CRwGPh9jvH+EcTcCK4GJwC7g1hjjY7nH3gfcCZwENAP3xhj/uFxvQlJ6HOo7xNbuVwE4e3pjB7/m
pmZOn3YGL+59gZf2vph0OZJUfMYvhDAZeBhYG2NcAFwDfDGEcFHBuEuAe4BrcuPWAn8XQpgQQpgN
fBP4ZIzxAuAq4LMhhF8s/9uRlLRXul9mgAEAzmzw4Adw1onnAEdnQSUpSaWWet8HDMQYvwEQY3we
2Ah8uGDcDcCG3OPkxmeAXwaOADfEGB/JPdYF/BS4uFxvQlJ6vDzkXLYzTzwrwUrS4ezccrdLvZLS
oNRS7/nAloJjEXh7wbGFwGMFx7YAF8YY/w/wv/IHQwjnAhcB3x1ztZJSLx9wTps6iykTpiRcTfLO
ys16OuMnKQ1Kzfi1AL0Fxw7kjpca1wtMHXoghHAGsB64K8b407GVKqkWDG7scJkXOLrB5Wd7f8bA
wEDC1UhqdKVm/PYBhX+ytwDdBce6KQh5heNCCG8ne67fl2KMd4+10KamzFi/pCHk+2J/RmePiit3
f17Ozfidc9I5NDfXR8+Pp0dnt2aD3/4jPbx5eDczp5xS1trSwJ+x0uxRcfantHL1plTwewpYVnDs
AuDxEcYtzH8SQsiQXSZ+Ivf528meG/jxGOPD4ym0tbVwklFD2Z/S7FFx5erPq/tfBmDhrAXMmDGt
LM+ZFuPp0c9NunDw4z28zoIZ55SxonTxZ6w0e1Sc/am8UsHvEeBICGFpjHFdCOFS4ANA4c0oHwC+
F0K4KMb4JPBRsrOFj4YQTgD+huMIfQB79vTQ3+8ySaGmpgytrS32pwh7VFy5+9O1uwuA0ybOYffu
wsWB2nQ8PZowMJWpE6ay/8h+fvLK05w75YIKVZkcf8ZKs0fF2Z/SqjLjF2M8EkK4Frg3hLCK7Pl9
N8cYnwshrAZ6Yox3xhifDiHcAjwUQpgEbAWujTH2hxD+E3A2sDr3NXkPxhg/e6yF9vcP0NfnN8No
7E9p9qi4cvRn/+H9vN77OgCnTzur7vo93h6dOf0snn3jGV7Y82Ld9WQof8ZKs0fF2Z/KK3kB5xjj
48AVIxxfVfD5Q8BDI4x7EHjwOGqUVCNe3nf0Ui5u7jjqrBPP5tk3nnFnr6TEecs2SWWTvztFU6aJ
06edkWwxKXLW4LX8Xky2EEkNz+AnqWzy1/A7fdoZTGyemHA16XGm1/KTlBIGP0ll8zOv4TeifD9e
2fcy/QP9CVcjqZEZ/CSVTf4cv/zSprLyt2071H+I7T3bEq5GUiMz+Ekqm8G7dhj83mJoP37mPXsl
JcjgJ6ls8uf4udT7VidNbuWkya3A0Q0wkpQEg5+ksnjz4B7ePLgHgDOd8RvmLDd4SEoBg5+k47ax
az2/+LWfH/z8bGf8hpnYlN3l/MV//yM2dW1IuBpJjcrgJ+m4dHS2c9Pm69l1YNfgsQeevi/BitKn
o7OdH+14DIADR3pZuvk6OjrbE65KUiMy+Ekat47OdtZ0rh52/O7Ozxtsckbr0ZrO1fZIUtUZ/CSN
y6auDSMGmrw1nasbfknTHklKG4OfpHFZ8ehtZRlTz+yRpLQx+EmSJDUIg5+kcbnryrVlGVPP7JGk
tDH4SRqXxfOXsLxt1aiPL29bxeL5S6pYUfrYI0lpMyHpAiTVrmVtKwGGbWBYcfkd3H7ZiiRKSh17
JClNnPGTdFyWta3k18KvA9Ccaea+RQ8aaAosa1vJuqu+zvRJJwJw8uST7ZGkRBj8JB23/F0pPnDO
VSyad3XC1aTT4vlL+OpVDwDwxsE36D7cnXBFkhqRwU/ScXtuzxYAzmtdkHAl6Ta0P117nkuwEkmN
yuAn6bg9b/A7JnNa5jJ1QgtwNCxLUjUZ/CQdlzcO7B68T+/81vMSribdMpkM5+Z69LwzfpISYPCT
dFyGBhhn/Eo7t/Vc4OgsqSRVk8FP0nHJL1m2Tm5l5gkzE64m/c7NhePnnPGTlACDn6Tjkp/xO7f1
PDKZTMLVpF9+VvT5Pc8xMDCQcDWSGo3BT9Jxyc/4nesy7zHJB7+ew91s378t4WokNRqDn6Tjkr8s
ief3HZv5uXP8wJ29kqrP4Cdp3Pr6++h683mAwd2qKm76pBOZNXU2AM+9YfCTVF0GP0nj9kr3yxzs
Owi41DsWg+f5vekGD0nVZfCTNG75S5JkyDDvpPkJV1M78tc7fN4ZP0lVZvCTNG75Hb1nTD+TKROm
JFxN7Thv8JIuBj9J1WXwkzQuG7vW8z++/xkATpx0UsLV1JbzcjN+L+59gYvXLWBT14aEK5LUKAx+
ksaso7OdmzZfT++R/QA8tesndHS2J1xV7fjnV741+PH2/dtZuvk6+yepKgx+ksako7OdNZ2rhx1f
07na8HIMOjrb+coTXx523P5JqgaDn6Rjtqlrw4ihL29N52qXLYuwf5KSZvCTdMxWPHpbWcY0Kvsn
KWkGP0mSpAZh8JN0zO66cm1ZxjQq+ycpaQY/Scds8fwlLG9bNerjy9tWsXj+kipWVFvsn6SkTUi6
AEm1ZVnbSoBhmxRWXH4Ht1+2IomSaor9k5QkZ/wkjdlvXPibgx/POGEm9y160NAyBsvaVrLuqq8z
oSn7t/evnvtB+yepKgx+ksbsqV0/Gfz4sRueYNG8qxOspjYtnr+EXwu/DsDBvoMJVyOpURj8JI3Z
UzufBODsE89h2qTpCVdTuy6ceRFwtJ+SVGkGP0lj9uTOJwC46JRLEq6ktl14ysUAvNL9Mm8c2J1w
NZIagcFP0pj9dFd2hio/Y6XxGdq/n+56KsFKJDUKg5+kMTlw5ABb9kTg6IyVxqf1hJM5Y9qZADy1
8yclRkvS8TP4SRqT+MYzHOk/AsBFBr/jduEp2Vm/J3cZ/CRVnsFP0pjkNyKcNLl1cLZK4+cGD0nV
VPICziGENuBLwEzgMPD5GOP9I4y7EVgJTAR2AbfGGB8b8vjHgC8An4oxfqE85UuqtvylXN4280Iy
mUzC1dS+C3MbZJ7d/TSH+w4zsXliwhVJqmdFZ/xCCJOBh4G1McYFwDXAF0MIFxWMuwS4B7gmN24t
8HchhAm5x/8n8E7gKWCg7O9CUtU8mTsX7aKZLvOWQ36p91D/ocFzJyWpUkot9b4PGIgxfgMgxvg8
sBH4cMG4G4ANucfJjc8Av5x7/CsxxhuBnnIVLqn6BgYGeCq/o9fz+8rinBPn0TJxGuAGD0mVVyr4
nQ9sKTgWgQsLji3MHR9qS35cjPFH4y1QUjps7FrPhevO482DewAv5VIuTZkmZk+dDcAnvv37bOra
kHBFkupZqeDXAvQWHDuQO15qXC8wdfylSUqLjs52btp8PTt7Xx889r9f2JhgRfWjo7Od5998DoD9
R3pYuvk6OjrbE65KUr0qtbljHzCl4FgL0F1wrJvhIW+kcePW1ORJ5CPJ98X+jM4eFVeqP3f/sJ01
nauHHV/7b2uYNGEin7h8ZUXrS4NKfQ+N1ts1natpasrUTG/9GSvNHhVnf0orV29KBb+ngGUFxy4A
Hh9h3ML8JyGEDNll4ieOt8C81tbCSUYNZX9Ks0fFjdSfbz7zTdp/cOeoX9P+gzt5xzmX8cHzP1jJ
0lKjnN9D9dhbf8ZKs0fF2Z/KKxX8HgGOhBCWxhjXhRAuBT4ArCoY9wDwvRDCRTHGJ4GPkp0tfLRg
XCb3vzHbs6eH/n43BBdqasrQ2tpif4qwR8UV68/HNtxS8us/tuEWrjzt/ZUqLxUq8T1UT731Z6w0
e1Sc/SmtKjN+McYjIYRrgXtDCKvInt93c4zxuRDCaqAnxnhnjPHpEMItwEMhhEnAVuDaGGN/CKGZ
7G7eAWAS8M4Qwv8A/jrG+DvHWmh//wB9fX4zjMb+lGaPihuxP8fSrgEapq9l/R6qw976M1aaPSrO
/lReyQs4xxgfB64Y4fiqgs8fAh4aYVwfcMJx1CgpIXdduZalm68rOUZjZ28lJcFbtkka1eL5S1je
Vnhmx1HL21axeP6SKlZUP+ytpCSUnPGT1NiWtWV3lhbuPl1x+R3cftmKJEqqG6P19jfedvPgY5JU
Ts74SSrpv/7879GcaQagdfLJ3LfoQUNfmSxrW8m6q77OrKmzacpkfyUvODkkXJWkemXwk1TSj3f8
iL6BPgC+8+s/YNG8qxOuqL4snr+EnyyNXD3/VwH4wbbvJ1yRpHpl8JNU0g9e+1cAzj7xHGa1zE64
mvr1jtm/CGT7PTDgzkZJ5Wfwk1RSPvi9Y85/SLiS+pbv747923lx7wsJVyOpHhn8JBXVP9BP57Yf
Aga/SrvwlIuZOiF754IfvuZyr6TyM/hJKuqZ3U+z99CbALxjtsGvkiY0TeAXZrcB8EPP85NUAQY/
SUXll3lnnDDD3aZVMPQ8P0kqN4OfpFFt7FrPp7+bvcjw2dPPIZMpz70iNbr8cnp841ku/Op5bOra
kHBFkuqJwU/SiDo627lp8/Uc6DsAwL+//iM6OtsTrqr+fffV7wx+/HrvDpZuvs6+Syobg5+kYTo6
24fdTQKyd5gwhFROR2c7f/yjjmHH7bukcjH4SXqLTV0bRgx9eWs6V7v8WAH2XVI1GPwkvcWKR28r
yxiNjX2XVA0GP0mSpAZh8JP0FnddubYsYzQ29l1SNRj8JL3F4vlLWN62atTHl7etYvH8JVWsqDHY
d0nVYPCTNMyytpWcOuW0YcdXXH4Hy9pWJlBRY1jWtnLE8Hfd+R+x75LKwuAnaZiX9v6M13t3AHDy
5BnMbpnDfYse5PbLViRcWf1b1raSdVd9nVlTZzMhMwGAEyeflHBVkuqFwU/SMP/w4iYATprcypNL
t/DEbzzLonlXJ1xV41g8fwk/WRr5rz//ewBsfmEjAwMDCVclqR4Y/CQN2ti1novXBT7zvf8OwPvO
+gATmycmXFXj+pVzFgHw4t4XeNtXz/U6fpKOm8FPEgB3/zB7i7bt+7dxqP8QAEf6DidcVWN75OV/
Gvx414Gd3r5N0nEz+Enis9/+LO0/uHPY8b/v+qZBIyEdne3c3fn5Yce9fZuk42HwkxrcxufX8+l/
/vSoj3ursOrz9m2SKsXgJzW4T3zbW4Wljbdvk1QpBj9JkqQGYfCTGtzd7/ZWYWnj7dskVYrBT2pw
V597DZ95z2dGfdxbhVWft2+TVCkGP0l86t2f4vLZ7xh23Fu0JWe027dNbp7MLT/33xKoSFI9MPhJ
DWxj13re9lcLmPOFOTy580kAWiZO8xZtKTH09m2nTTmNpkwTB/sOcul9C7l4XXBnr6Qxm5B0AZKS
0dHZPuySIRkyfO/DjzFn2tyEqlKhxfOXDC7rXvngO3jmjafZe2gvew/tZenm61jetspZWUnHzBk/
qQGNFPoABhjga0//dQIVqZSOznaeeePpYce9oLOksTD4SQ3GiwPXHv+bSSoXg5/UYLw4cO3xv5mk
cjH4SZIkNQiDn9RgvDhw7fG/maRyMfhJDWaAAVomThv1cS8OnD6lLujcMnEaKx69zfP8JJVk8JMa
SEdnOzdtvp6ew90jPu4Fm9NrtAs6A/Qc7mb7/m0s3XydO3wlFWXwkxrEaJdwAZg+aTr3X+0Fm9Nu
6AWdp40ya+vlXSQVY/CTGkCpy4HsO7SPgYGBKlak8Vo8fwl3XbmW7lFmbcHLu0gancFPqnMbu9Zz
8z/cUHLcJ77t5UBqxbFcuuX3vvXxKlQiqdYY/KQ6lj+nr3+gP+lSVGVvHtrjkq+kYQx+Up0qdk7f
SO5+t5cDqRXHeukWz/eTVMjgJ9WZjV3rWfAXZ40p9H3mPZ/h6nOvqWBVKqdSl3cZak3nasJfnuU5
f5IAg59UV/JLu28e2nPMX/PJd/wBn3r3pypYlSqh2OVdCu05uMdLvUgCDH5SXdjYtZ55X5k7plm+
pkwT9y16kGWXewmXWrWsbSWtk1uPefyaztXM+8pcLl4XnAGUGtSEpAuQNHYbu9az8tHbAXjn3Hfx
8HN/O+bn+KtfeYBF864ud2mqsj/+5XtZuvm6Yx7fc7ibnsPdLN18HS0TpzFt4jTuunKtd2uRGkTJ
4BdCaAO+BMwEDgOfjzHeP8K4G4GVwERgF3BrjPGxsTyH1MiGhrm7rlzLAAMjft6d+4c7bzyhz9uy
1Y/8+X5jme3NGxoCP3jef+Zft34XGP7996GFH+Ybzz44+JjfO1LtyhR7MIQwGXgeuC3G+I0QwrnA
Y8AvxRifHDLuEuDbwGUxxudDCB8COoD5QPOxPEcxczrmDPxa+HX+32eO/uIZ7R9FGP5L6lgfq9TY
ir5mfJCmTIa7rvwCff3Jvs/U9KRw7HdupymToVzfQ5V4n4VhrpJWXH7HW+7Q0dycYcaMaeze3U1f
nxdxHkkt9Gisu7iPx9CQWOz3UNI/V6l6zdzvobH8rq7J9zne10zx91Ba/thpbs4wc+b0orntWJQK
fouBP4sxnjnk2APAz2KMdww5tgaYE2P8yJBjLwM3k50BLPkcRf0h6fxNK9WQ1sknc8977x22vFsL
oSZptdKjTV0b+L1vfXxMm3sklba8bVXi9zEvV/ArtbnjfGBLwbEIXFhwbGHu+FBbcuMWHuNzSKqQ
5W2riL/5M8/pq3OL5y9hy0dfOubdvpKOTT1dE7NU8GsBeguOHcgdLzWuN3f8WJ9DUgWsuPyOxP9S
VXWN5VIvko5NvdwDu9Tmjn3AlIJjLUDhyUjdwNRRxmWO8TkkldG0idP4n//xKyXPTWlqyrzl/zVc
LfZoxS9+kotOvYhPfPs2eg51012lc0ilerbiO7dxzYJkLnZfrt8/pYLfU8CygmMXAI+PMG5h/pMQ
QobsMvHjZM/xO5bnkFQ+n+q+o/tzH7njw0nXobT4Qz4FfCbpMqRatr1n22szZ06fm3Qdx6PU5o4J
wHPAH8YY14UQLgX+GWiLMT43ZNwFwPfI7dQNIfwWsJxsGGwme45f0eeQJElSZZWcN8wFtXuBU8me
m/fpGOPDIYTVQE+M8c7cuF8H/gCYBGwFPh5j/Gmx56jA+5EkSZIkSZIkSZIkSZIkSZIkSZIkSZIk
SZKkhKT6MvQhhDbgS8BM4DDw+Rjj/clWlawQwvuAO4GTyF4j8d4Y4x+HEE4B/pLsPZD7gb8HPhFj
TO8d5SsohNBK9sLi/xhjvMn+HBVCmAH8GfAOsj9X62KMn7NHWSGEK4G7gROBI8BXYoxfbPT+hBA+
BnwB+FSM8Qu5Y6P2JITQRLaPv5p7iqeA34wx7qp68VUySo/mA18EziV7Q4NHgFtjjAcbrUcj9afg
8Y3A22KM83KfN1R/YPQe5S6hdz3QB3wf+K0YY894elTqXr2JCSFMBh4G1sYYFwDXAF8MIVyUbGXJ
CSHMBr4JfDLGeAFwFfDZEMIvAl8GXokxngf8HPBu4GOJFZu8e8jeIzr/j7L9OeqrwLYY41lkw9/7
QwgLsEeEEKYC/wv4XO5n7P3AH4QQfoUG7k8I4V7gnWT/URkadIv15OPAlcAlud/hr5K9nmtdKtKj
vwEey30/XQJcCvx+7rGG6VGR/uQfv4nsTR+GPtYw/YHRexRC+H3gvWTveraA7B+ki3MPj7lHqQ1+
wPuAgRjjNwBijM8DG4FGvgfVEeCGGOMjADHGLuCnwOXAtcDa3PH9ZGd0bkiozkSFEJYA84CvAZkQ
wjTsDwAhhLnAIuAPAWKMO2OM7wa2YY8AziI7m/4PADHG7WRvL9lGY/fnL2KMNwI9+QMhhOkU78mN
wJdjjL25z/8I+E8hhMJ7t9eLkXqUAVYDHTDYo0eAi3NDGqlHw/qTF0I4newNIO7grSuRjdQfGL1H
HyO74rk/xtgXY7wxxvg3ucfG3KNS9+pN0vlkb/U2VATenkAtqRBj3El2NgKAEMK5wEXAv+cef37I
8C1kl18aSgjhZLLf+FcBH8kfBvuT83PADuDmEMJHyC7PfRn4Idgjsu85kg0vX839jF0MrCB7x6GG
7E+M8UcjHF6Qe2y0niwk28u8LrKTDYE6vFf7SD3KnQbw/+U/z61kLQb+NHeoYXo0yvdQ3lfIBr/t
Bccbpj8wco9CCC1kf9bOCiF8j+ypbxuBVTHGA4yjR2me8Wshu1Q31IHc8YYXQjgDWA/clTt0qGBI
L43Zq3uAP8n9Y5SfKp+K/ck7GTgNOBBjvIRsOG4n+49Rw/coxtgH3ATcHUJ4HXiW7HnGLdifQqV6
8pbf4THGfuAgDdqzXOj7GtmluD/PHW74HoUQbgYOxhgfHOHhhu8P0Jr7/8uA9wD/AfglskEZxtGj
NAe/fUDhVGUL0J1ALakSQng78D3gqzHGz5HtyeSCYQ3XqxDCNcDZZE+khqNLBj3Yn7w9ZAPxnwDE
GH9C9q/H92KPCCHMIfsH1XUxxlOBWWRPmn4P9qdQqd873Qz5HR5CaM6Nb7ie5TbB/F+yM+y/mvvH
GRq8R7kJjFWMfq5sQ/cnZ0/u//88xngoxrib7B8Oi3LHx9yjNAe/p8gt0Q1xAXU4vTsWudC3Efi9
GOPducMR6MudoJ/XiL36EHAe0BVCeAH4PeC/kN11eMT+APAc2Z2F0wqOP4bfQwBXAHtijP8IkNsZ
t57sX9h+D71Vqd87T5E9ZSdvIdnzlJ+tTnnpkDv95J+A78QYPxRjHDpL2ug9uhqYDnw/9zv7QeCM
EEJXCOEs7A8xxh6y52CfXPDQ4dz/j7lHaQ5+j5D9RbsUIIRwKfAB4IEki0pSCOEEsjvEPh5jfDh/
PF4UzXIAAAGaSURBVPeN8bdk/3LKX8rkFrK7NxtGjPEjMcbTY4zzcpcD+GPgb2KMbyd7nk1D9wcg
xvgs8F2O9uIcsn85rsfvIchuljo9hHAZDO7y/QDZyyf4PZSdRc/AMf3eWQfcGkI4MbfJ4ZPAgzHG
g9UuusoGe5Tzp8C3Y4yrRhi7jsbr0dDvoT+LMc4a8jv718nuEp8fY3yJxuwPDP8e+kvg9hDCpNym
jaVkJ4BgHD1K+3X8LiW7LflUsuf3fXpo4Gk0IYQPA/czfNPLg2SXN/+C7Mn7fWT/w/9hVQtMmRDC
p4GzY4w35/5Rsj8Mhr2/JHtdsR7gnhjjn9ujrBDCdWQ3c0wm+zvy/wK3AyfQgP3JLR31kD1FYBLZ
994H/DXZPo3akxDC54H/TLaPncDvxBj3VbP+aijSo/uBjwIvkj3vKu/5GOOS3NfWfY+KfQ/FGH9n
yLj3AH8VY5w/5Fjd9wdK/pz9Ltks9B+B/cBmstfLPJT72obokSRJkiRJkiRJkiRJkiRJkiRJkiRJ
kiRJkiRJkiRJkiRJkiRJknR8/n+atPZXGXaM2gAAAABJRU5ErkJggg==
"
>
</div>

</div>

</div>
</div>

</div>
<div class="cell border-box-sizing code_cell rendered">
<div class="input">
<div class="prompt input_prompt">In&nbsp;[&nbsp;]:</div>
<div class="inner_cell">
    <div class="input_area">
<div class=" highlight hl-ipython3"><pre><span></span> 
</pre></div>

</div>
</div>
</div>

</div>
 


    </div>
  </div>

  </div>


  
    <footer class="footer hidden-print">
      <div class="container">
        <div class="col-md-4">
          <p>
            This website does not host notebooks, it only renders notebooks
            available on other websites.
          </p>
        </div>

        <div class="col-md-4">
          <p>
            Delivered by <a href="http://www.fastly.com/">Fastly</a>,
            Rendered by <a href="https://developer.rackspace.com/?nbviewer=awesome">Rackspace</a>
          </p>
          <p>
            nbviewer GitHub <a href="https://github.com/jupyter/nbviewer">repository</a>.
          </p>
        </div>

        <div class="col-md-4">
          
  
            
              <p>
                nbviewer version:
                <a href="https://github.com/jupyter/nbviewer/commit/b5359ba07905c50c2021266b08f984d69653f45e">
                  b5359ba
                </a>
              </p>
            
          
  
  <p>
    nbconvert version: <a href="https://github.com/jupyter/nbconvert/releases/tag/4.3.0">
      4.3.0
    </a>
  </p>
  

          
  
  
  <p>
    Rendered
    <span class='date' data-date='Fri, 10 Feb 2017 15:22:11 UTC' title='Fri, 10 Feb 2017 15:22:11 UTC'>(Fri, 10 Feb 2017 15:22:11 UTC)</span>
  </p>
  

        </div>
      </div>
    </footer>
  

  <script src="https://unpkg.com/jupyter-js-widgets@2.0.*/dist/embed.js"></script>
  <script src="/static/components/bootstrap/js/bootstrap.min.js?v=5869c96cc8f19086aee625d670d741f9"></script>
  <script src="/static/components/headroom.js/dist/headroom.min.js?v=b0a311ea668f8e768ea375f4a7abb81c"></script>
  <script src="/static/components/headroom.js/dist/jQuery.headroom.min.js?v=f3a1bae118315d0c234afc74dc6aab71"></script>

  
  
  <script>
    $(function(){ $("#menubar").headroom({
      tolerance: 5,
      offset: 205,
      classes: {
        initial: "animated",
        pinned: "slideInDown",
        unpinned: "slideOutUp"
      }
    })});
  </script>


  <script>
    (function(i,s,o,g,r,a,m){i['GoogleAnalyticsObject']=r;i[r]=i[r]||function(){
      (i[r].q=i[r].q||[]).push(arguments)},i[r].l=1*new Date();a=s.createElement(o),
      m=s.getElementsByTagName(o)[0];a.async=1;a.src=g;m.parentNode.insertBefore(a,m)
    })(window,document,'script','//www.google-analytics.com/analytics.js','ga');
    ga('create', 'UA-38683231-2', 'auto');
    ga('send', 'pageview');
  </script>
  <script>
    require({
        paths: {
          moment: "/static/components/moment/min/moment.min.js?v=89f87298ad94aa1e6b92f42eb66da043"
        }
      }, ["moment"], function(moment){
      var date = $("footer .date"),
        m = moment(new Date(date.data('date'))),
        update = function(){ date.text(m.fromNow()); };
      setInterval(update, 61*1000);
      update();
      var w = $(window).scroll(function(event){
        $("body").toggleClass("scrolled", w.scrollTop() > 0);
      });
    });
  </script>
  <!--NEW RELIC Stop Perf Measurement-->
  
  <!--NEW RELIC End-->
</body>
</html>