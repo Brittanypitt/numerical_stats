{
 "cells": [
  {
   "cell_type": "markdown",
   "metadata": {},
   "source": [
    "# Homework 3\n",
    "#### CHE 116: Numerical Methods and Statistics\n",
    "\n",
    "*2/2/2019*\n",
    "\n",
    "----"
   ]
  },
  {
   "cell_type": "markdown",
   "metadata": {},
   "source": [
    "# 1. String Formatting\n",
    "\n",
    "1. [1 point]  Using the `math` module, print euler's number to 5 digits precision in scientific notation format\n",
    "2. [1 point] Print the first 5 powers of 7 with exactly 5 spaces starting from $7^1$\n",
    "3. [1 point] Create a variable `v` whose value is None and print it out\n",
    "4. [4 points] Use the same variable, `v`, and print it with 3 digits of precision in scientific notation. You should receive an error. Using the definition of a sentinel value, why would we want to not have an error if printed without formatting (problem 1.3) but receieve an error when we format it?"
   ]
  },
  {
   "cell_type": "markdown",
   "metadata": {},
   "source": [
    "# 2. Representing Numbers \n",
    "\n",
    "1. [1 point] What is the Manitissa for the number $0.4335 \\times 10^{-3}$?\n",
    "2. [1 point] How many numbers can be represented with 4 bytes?\n",
    "3. [1 point] Youtube previously represented view counts on videos with 4 bytes. What is the largest number of views that could be represented? \n",
    "4. [2 points] One more person viewed the video from 2.3? What would the view count be? What is this called?\n",
    "5. [3 points] We learned that we shouldn't compare floating point numbers with `==`. Compare `0.75` and `3 / 4` in Python using `==` (even though we said we should not). Explain why it worked. "
   ]
  },
  {
   "cell_type": "markdown",
   "metadata": {},
   "source": [
    "# 3. Booleans"
   ]
  },
  {
   "cell_type": "markdown",
   "metadata": {},
   "source": [
    "1. [4 points] Write an `if` statement that prints a variable if it has a magnitude less than 40, otherwise it prints 'Error, number is too large'. Demonstrate with your variable being `-12`.\n",
    "2. [2 points] Write an `if` statement that compares two variables to see if they're equal. Demonstrate this with two strings.\n"
   ]
  },
  {
   "cell_type": "markdown",
   "metadata": {},
   "source": [
    "# 4. Lists\n",
    "\n",
    "Use this list for the examples `[3, 6, 1, 12, 43, 3, 100]` and use *only* slicing to answer the questions.\n",
    "\n",
    "1. [2 points] Reverse the list \n",
    "2. [2 points] Print out every 3rd element starting from `6`\n",
    "3. [2 points] Print out the first 4 elements. \n",
    "5. [2 points] Print out the last element using negative indexing\n",
    "6. [2 points] Print out all elements except the last one"
   ]
  },
  {
   "cell_type": "markdown",
   "metadata": {},
   "source": [
    "# 5. List Functinos \n",
    "\n",
    "[4 points] Using the `len` function, write a python expression that can print the second half of a list variable `a`. Your answer should be *exactly* 13 characters."
   ]
  }
 ],
 "metadata": {
  "kernelspec": {
   "display_name": "Python 3",
   "language": "python",
   "name": "python3"
  },
  "language_info": {
   "codemirror_mode": {
    "name": "ipython",
    "version": 3
   },
   "file_extension": ".py",
   "mimetype": "text/x-python",
   "name": "python",
   "nbconvert_exporter": "python",
   "pygments_lexer": "ipython3",
   "version": "3.6.4"
  }
 },
 "nbformat": 4,
 "nbformat_minor": 2
}
