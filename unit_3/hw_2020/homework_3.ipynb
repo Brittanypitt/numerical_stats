{
 "cells": [
  {
   "cell_type": "markdown",
   "metadata": {},
   "source": [
    "Homework 3\n",
    "====\n",
    "#### CHE 116: Numerical Methods and Statistics\n",
    "\n",
    "1/31/2020\n",
    "\n",
    "----"
   ]
  },
  {
   "cell_type": "markdown",
   "metadata": {},
   "source": [
    "# 1. String Formatting\n",
    "\n",
    "Answer in Python\n",
    "\n",
    "1. [2 points] Print $\\sin 0.5$ to 5 digits of precision\n",
    "2. [2 points] Print 1.30, 21.83, and 0.21 on separate lines and aligned on the decimal place using only one print statement like this:\n",
    "\n",
    "```\n",
    "     1.30\n",
    "    21.83\n",
    "     0.21\n",
    "```\n",
    "\n",
    "3. [2 points] Create a variable with a value of pi using the `math` module. Print it with 3 digits of precision\n",
    "4. [2 points] Print out the number 65,535 as binary using string formatting."
   ]
  },
  {
   "cell_type": "markdown",
   "metadata": {},
   "source": [
    "# 2. Representing Numbers\n",
    "Answer in Markdown. You can use Python for supporting your answer.\n",
    "\n",
    "\n",
    "1. [2 points] The total number of people in a group chat is limited 256. What could be the reason for this very specific number?\n",
    "2. [3 points] What is the minimum number of bytes it will it take to encode a phone number with an area code?\n",
    "3. [4 points] In a certain video game, a very powerful boss has 32,000 health points represented as a signed integer. You dicover that if instead of fighting the boss, you cast a spell that heals it for 800 points you immediately kill it. Why might this be?\n",
    "4. [1 point] What is the mantissa for 1.0 in decimal? \n",
    "5. [4 points] We want to write a computer program to detect if a student is at the boarder between an A- and B+ (90% score) so that we can decide which grade better represents their performance. Essentially the program should check if the grade is right at the 90% cutoff. Why is it impossible for a computer program to accomplish this seemingly simple task? Prove your hypothesis with python code.\n",
    "6. [1 point] We want to write a computer program to detect if a student is at the boarder between B and B+ (87.5%) score. Why is this a trivial task for a computer program?"
   ]
  },
  {
   "cell_type": "markdown",
   "metadata": {},
   "source": [
    "# 3. Booleans\n",
    "\n",
    "Answer in Python\n",
    "\n",
    "1. [2 points] Write an `if` statement that prints if a variable `v` is positive or negative. Demonstrate it by setting `v` to -1 and then 1.\n",
    "\n",
    "2. [2 points] Write an `if` statement that will print `foo` if a string has more than 5 characters and `bar` otherwise. Demonstrate with a variable whose value is `foobar`. \n",
    "\n",
    "3. [2 points] Write an `if` statement to check if the character `*` is in a string and prints `hello` if it is.  Demonstrate with a varaible whose value is `fizz*buzz`. "
   ]
  },
  {
   "cell_type": "markdown",
   "metadata": {},
   "source": [
    "# 4. Lists\n",
    "\n",
    "Answer in Python\n",
    "\n",
    "Use this list to answer the questions: `['A', 'B', 'C', 'D', 'E', 'F', 'G']`\n",
    "\n",
    "1. [2 points] Print out the second to last element of the list using a negative index.\n",
    "2. [2 points] Print out the last three elements of the list using negative indices.\n",
    "3. [2 points] Print out the middle element of the list using the `len` function\n",
    "4. [2 points] Print every other element of the list.\n",
    "5. [2 points] Print every other element of the list starting from the second element."
   ]
  }
 ],
 "metadata": {
  "kernelspec": {
   "display_name": "Python 3",
   "language": "python",
   "name": "python3"
  },
  "language_info": {
   "codemirror_mode": {
    "name": "ipython",
    "version": 3
   },
   "file_extension": ".py",
   "mimetype": "text/x-python",
   "name": "python",
   "nbconvert_exporter": "python",
   "pygments_lexer": "ipython3",
   "version": "3.7.3"
  }
 },
 "nbformat": 4,
 "nbformat_minor": 2
}
