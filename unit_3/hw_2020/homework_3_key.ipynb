{
 "cells": [
  {
   "cell_type": "markdown",
   "metadata": {},
   "source": [
    "Homework 3 Key\n",
    "====\n",
    "#### CHE 116: Numerical Methods and Statistics\n",
    "\n",
    "1/31/2020\n",
    "\n",
    "----"
   ]
  },
  {
   "cell_type": "markdown",
   "metadata": {},
   "source": [
    "# 1. String Formatting\n",
    "\n",
    "Answer in Python\n",
    "\n",
    "1. [2 points] Print $\\sin 0.5$ to 5 digits of precision\n",
    "2. [2 points] Print 1.30, 21.83, and 0.21 on separate lines and aligned on the decimal place using only one print statement like this:\n",
    "\n",
    "```\n",
    "     1.30\n",
    "    21.83\n",
    "     0.21\n",
    "```\n",
    "\n",
    "3. [2 points] Create a variable with a value of pi using the `math` module. Print it with 3 digits of precision\n",
    "4. [2 points] Print out the number 65,535 as binary using string formatting."
   ]
  },
  {
   "cell_type": "code",
   "execution_count": 1,
   "metadata": {},
   "outputs": [
    {
     "name": "stdout",
     "output_type": "stream",
     "text": [
      "0.47943\n"
     ]
    }
   ],
   "source": [
    "# 1.1\n",
    "import math\n",
    "\n",
    "print('{:.5}'.format(math.sin(0.5)))"
   ]
  },
  {
   "cell_type": "code",
   "execution_count": 40,
   "metadata": {},
   "outputs": [
    {
     "name": "stdout",
     "output_type": "stream",
     "text": [
      " 1.30\n",
      "21.83\n",
      " 0.21\n",
      "1.30\n",
      "21.83\n",
      " 0.21\n"
     ]
    }
   ],
   "source": [
    "# 1.2\n",
    "# clean way\n",
    "print('{:5.2f}\\n{:5.2f}\\n{:5.2f}'.format(1.3, 21.83, 0.21))\n",
    "\n",
    "# kind of hack\n",
    "print('{:4.2f}\\n{:5}\\n{:5}'.format(1.3, 21.83, 0.21))"
   ]
  },
  {
   "cell_type": "code",
   "execution_count": 34,
   "metadata": {},
   "outputs": [
    {
     "name": "stdout",
     "output_type": "stream",
     "text": [
      "3.14\n"
     ]
    }
   ],
   "source": [
    "# 1.3\n",
    "\n",
    "v = math.pi\n",
    "print('{:.3}'.format(v))"
   ]
  },
  {
   "cell_type": "code",
   "execution_count": 36,
   "metadata": {
    "scrolled": true
   },
   "outputs": [
    {
     "name": "stdout",
     "output_type": "stream",
     "text": [
      "1111111111111111\n"
     ]
    }
   ],
   "source": [
    "# 1.4\n",
    "print('{:b}'.format(65535))"
   ]
  },
  {
   "cell_type": "markdown",
   "metadata": {},
   "source": [
    "# 2. Representing Numbers\n",
    "Answer in Markdown. You can use Python for supporting your answer.\n",
    "\n",
    "\n",
    "1. [2 points] The total number of people in a group chat is limited 256. What could be the reason for this very specific number?\n",
    "2. [3 points] What is the minimum number of bytes it will it take to encode a phone number with an area code?\n",
    "3. [4 points] In a certain video game, a very powerful boss has 32,000 health points represented as a signed integer. You dicover that if instead of fighting the boss, you cast a spell that heals it for 800 points you immediately kill it. Why might this be?\n",
    "4. [1 point] What is the mantissa for 1.0 in decimal? \n",
    "5. [4 points] We want to write a computer program to detect if a student is at the boarder between an A- and B+ (90% score) so that we can decide which grade better represents their performance. Essentially the program should check if the grade is right at the 90% cutoff. Why is it impossible for a computer program to accomplish this seemingly simple task? Prove your hypothesis with python code.\n",
    "6. [1 point] We want to write a computer program to detect if a student is at the boarder between B and B+ (87.5%) score. Why is this a trivial task for a computer program?"
   ]
  },
  {
   "cell_type": "markdown",
   "metadata": {},
   "source": [
    "### 2.1\n",
    "\n",
    "This is $2^8$, so probably 1 byte is used for this\n",
    "\n",
    "### 2.2\n",
    "Let's try 4 bytes, that is $2^{32} = 4,294,967,296$ which wouldn't include the Rochester area code. Instead $2^{40}$ (5 bytes) exceeds 10 digis. So we'll need 5 bytes.\n",
    "\n",
    "### 2.3 \n",
    "Integer overflow because only 2 bytes are available (max 32,768 because $2^{15}$) are in use for health. The health point value rolls over to be negative\n",
    "\n",
    "### 2.4\n",
    "1\n",
    "\n",
    "### 2.5\n",
    "0.9 cannot be represented exactly in binary\n",
    "\n",
    "### 2.6\n",
    "0.875 can be represented exactly. "
   ]
  },
  {
   "cell_type": "code",
   "execution_count": 13,
   "metadata": {},
   "outputs": [
    {
     "name": "stdout",
     "output_type": "stream",
     "text": [
      "0.90000000000000002220446049250313080847263336181641\n",
      "0.87500000000000000000000000000000000000000000000000\n"
     ]
    }
   ],
   "source": [
    "# code for 2.5, 2.6\n",
    "print('{:.50f}'.format(0.9))\n",
    "print('{:.50f}'.format(0.875))"
   ]
  },
  {
   "cell_type": "markdown",
   "metadata": {},
   "source": [
    "# 3. Booleans\n",
    "\n",
    "Answer in Python\n",
    "\n",
    "1. [2 points] Write an `if` statement that prints if a variable `v` is positive or negative. Demonstrate it by setting `v` to -1 and then 1.\n",
    "\n",
    "2. [2 points] Write an `if` statement that will print `foo` if a string has more than 5 characters and `bar` otherwise. Demonstrate with a variable whose value is `foobar`. \n",
    "\n",
    "3. [2 points] Write an `if` statement to check if the character `*` is in a string and prints `hello` if it is.  Demonstrate with a varaible whose value is `fizz*buzz`. "
   ]
  },
  {
   "cell_type": "code",
   "execution_count": 14,
   "metadata": {},
   "outputs": [
    {
     "name": "stdout",
     "output_type": "stream",
     "text": [
      "negative\n",
      "positive\n"
     ]
    }
   ],
   "source": [
    "# 3.1\n",
    "\n",
    "v = -1\n",
    "if v < 0:\n",
    "    print('negative')\n",
    "else:\n",
    "    print('positive')\n",
    "\n",
    "v = 1\n",
    "if v < 0:\n",
    "    print('negative')\n",
    "else:\n",
    "    print('positive')\n"
   ]
  },
  {
   "cell_type": "code",
   "execution_count": 41,
   "metadata": {},
   "outputs": [
    {
     "name": "stdout",
     "output_type": "stream",
     "text": [
      "foo\n"
     ]
    }
   ],
   "source": [
    "#3.2\n",
    "s = 'foobar'\n",
    "\n",
    "if len(s) > 5:\n",
    "    print('foo')\n",
    "else:\n",
    "    print('bar')"
   ]
  },
  {
   "cell_type": "code",
   "execution_count": 16,
   "metadata": {},
   "outputs": [
    {
     "name": "stdout",
     "output_type": "stream",
     "text": [
      "hello\n"
     ]
    }
   ],
   "source": [
    "#3.3\n",
    "s = 'fizz*buzz'\n",
    "if '*' in s:\n",
    "    print('hello')"
   ]
  },
  {
   "cell_type": "markdown",
   "metadata": {},
   "source": [
    "# 4. Lists\n",
    "\n",
    "Answer in Python\n",
    "\n",
    "Use this list to answer the questions: `['A', 'B', 'C', 'D', 'E', 'F', 'G']`\n",
    "\n",
    "1. [2 points] Print out the second to last element of the list using a negative index.\n",
    "2. [2 points] Print out the last three elements of the list using negative indices.\n",
    "3. [2 points] Print out the middle element of the list using the `len` function\n",
    "4. [2 points] Print every other element of the list.\n",
    "5. [2 points] Print every other element of the list starting from the second element."
   ]
  },
  {
   "cell_type": "code",
   "execution_count": 17,
   "metadata": {},
   "outputs": [
    {
     "name": "stdout",
     "output_type": "stream",
     "text": [
      "F\n"
     ]
    }
   ],
   "source": [
    "#4.1\n",
    "\n",
    "v = ['A', 'B', 'C', 'D', 'E', 'F', 'G']\n",
    "\n",
    "print(v[-2])"
   ]
  },
  {
   "cell_type": "code",
   "execution_count": 18,
   "metadata": {},
   "outputs": [
    {
     "name": "stdout",
     "output_type": "stream",
     "text": [
      "['E', 'F', 'G']\n"
     ]
    }
   ],
   "source": [
    "#4.2\n",
    "print(v[-3:])"
   ]
  },
  {
   "cell_type": "code",
   "execution_count": 19,
   "metadata": {},
   "outputs": [
    {
     "name": "stdout",
     "output_type": "stream",
     "text": [
      "D\n"
     ]
    }
   ],
   "source": [
    "#4.3\n",
    "print(v[len(v) // 2])"
   ]
  },
  {
   "cell_type": "code",
   "execution_count": 20,
   "metadata": {},
   "outputs": [
    {
     "name": "stdout",
     "output_type": "stream",
     "text": [
      "['A', 'C', 'E', 'G']\n"
     ]
    }
   ],
   "source": [
    "#4.4\n",
    "print(v[::2])"
   ]
  },
  {
   "cell_type": "code",
   "execution_count": 21,
   "metadata": {},
   "outputs": [
    {
     "name": "stdout",
     "output_type": "stream",
     "text": [
      "['B', 'D', 'F']\n"
     ]
    }
   ],
   "source": [
    "#4.5\n",
    "print(v[1::2])"
   ]
  }
 ],
 "metadata": {
  "kernelspec": {
   "display_name": "Python 3",
   "language": "python",
   "name": "python3"
  },
  "language_info": {
   "codemirror_mode": {
    "name": "ipython",
    "version": 3
   },
   "file_extension": ".py",
   "mimetype": "text/x-python",
   "name": "python",
   "nbconvert_exporter": "python",
   "pygments_lexer": "ipython3",
   "version": "3.7.3"
  }
 },
 "nbformat": 4,
 "nbformat_minor": 2
}
