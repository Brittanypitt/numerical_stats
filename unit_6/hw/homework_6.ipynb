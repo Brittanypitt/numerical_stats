{
 "cells": [
  {
   "cell_type": "markdown",
   "metadata": {},
   "source": [
    "Homework 6\n",
    "====\n",
    "#### CHE 116: Numerical Methods and Statistics\n",
    "Version 1.0 (2/17/2016)\n",
    "\n",
    "----"
   ]
  },
  {
   "cell_type": "markdown",
   "metadata": {},
   "source": [
    "1. Misc Distribution Problems (16 Points)\n",
    "====\n",
    "Answer symbolically first, indicating what equations your Python program is using, and then compute the answer in Python. If not specified, say which distribution you're assuming.\n",
    "\n",
    "1. [1] The time between traffic tickets is exponentially distributed. Based on past experience, you receive a traffic ticket about every 3 years. What's the probability of having two traffic tickets within 12 months? Use scipy stats.\n",
    "\n",
    "2. [2] You see two deer per day. How many days must pass before you have a 99% of having seen a deer? Answer in days, hours, and minutes.\n",
    "\n",
    "3. [1] The expected score on a test is 90% with a standard deviation of 15%. You cannot receive more than 100% on this test. What's the probability failing (< 60%)?\n",
    "\n",
    "4. [2] Using the above parameters, what's the probability of getting an A (93%-100%)?\n",
    "\n",
    "5. [2] Starbucks can sell at most 120 drinks per hour, but on average they sell 65. What distribution describes this process and what are its parameters?\n",
    "\n",
    "6. [4] Americans drive about 5,000 miles per year per person. They drive on average for 35 years in their lifetime and experience 3 major accidents. How many accidents are experienced by the worst 1% of drivers?  You may use scipy stats for this problem.\n",
    "\n",
    "7. [4] Using the definition of expected value, write a for loop that computes the expected value of a binomial distribution with $N = 10$ and $p = 0.3$. Do not use scipy stats. Compre with the fomula $E[x] = pN$ for binomial."
   ]
  },
  {
   "cell_type": "markdown",
   "metadata": {},
   "source": [
    "2. Lottery Problem Part 2 (6 Points)\n",
    "====\n",
    "Revisit the lottery problem from HW 2. In problm 3.5 we used the probability of winning, $1 \\, / \\, 258,890,850$, to compute the probability that no one wins. We used $N = 517,781,700$ for 3.5 as well.\n",
    "\n",
    "1. What distribution does the number of winners follow?\n",
    "2. What's the expected number of winners? Answer using a for-loop and the definition of expected value. Write what your program does symbolically first.\n",
    "3.  Now, let's define a new random variable, the per-person winnings, and compute the expected per-person winnings. Use this definition of expected value:\n",
    "\n",
    "$$E[W] = \\sum_x P(x) W(x)$$\n",
    "\n",
    "where $x$ is elements in the sample space and $W$ is our new random variable. Use $J = \\frac{2}{p}$ Use a for loop to compute this. Write your equation in detail first"
   ]
  },
  {
   "cell_type": "markdown",
   "metadata": {},
   "source": [
    "2. CLT Theory (5 Points)\n",
    "====\n",
    "Indicate if the CLT applies with yes or no. If no, state why.\n",
    "\n",
    "1. You measure the density of a solution 50 times and take the average\n",
    "2. You sum the number of students who attended the last 20 lectures\n",
    "3. You keep a record of how much you spend at dunkin donuts for the last 25 visits\n",
    "4. Flip a coin 25 times and consider a heads 0 and a tails 1 and take the average\n",
    "5. Your final grade, which is the average of 25 homeworks, tests, and a project"
   ]
  },
  {
   "cell_type": "markdown",
   "metadata": {},
   "source": [
    "3. Confidence Intervals (15 Points)\n",
    "====\n",
    "Report the given confidence interval for error in the mean using the data in the next cell and describe in words what the confidence interval is for each example\n",
    "\n",
    "1. 80% Double\n",
    "2. 99% Upper ( a value such that the mean lies above that value 99% of the time)\n",
    "3. 95% Double\n",
    "4. 5% Lower (a value such that the mean lies below that value 5% of the time)\n",
    "5. Redo part 3 with a known standard deviation of 2"
   ]
  },
  {
   "cell_type": "code",
   "execution_count": 1,
   "metadata": {
    "collapsed": false
   },
   "outputs": [],
   "source": [
    "data_3_1 = [93.14,94.66, 102.1, 79.98, 96.85, 106.79, 101.92, 91.99, 97.22, 99.1, 88.7, 123.66, 99.7, 115.03, 99.28, 114.59, 102.25, 88.4, 111.06, 75.19, 107.32, 81.21, 100.49, 109.04, 105.09, 96.17, 78.13, 98.37, 104.47, 95.41]\n",
    "data_3_2 = [2.24,3.86, 2.19, 1.5, 2.34, 2.55, 1.8, 3.99, 2.64, 3.8]\n",
    "data_3_3 = [53.43,50.49, 52.55, 51.73]\n",
    "data_3_4 = [-1.17,19.49, -0.83, 27.7, -1.71, -5.37, -2.49, -15.58, 10.38, 9.73, 18.54, 3.5, 6.9, 5.49, -0.88, 4.8, -6.28, 15.49, -5.14, -19.26]"
   ]
  },
  {
   "cell_type": "markdown",
   "metadata": {},
   "source": [
    "4. Sample Statistics (17 Points)\n",
    "=====\n",
    "\n",
    "Answer the following questions using the data given in the next cell.\n",
    "\n",
    "1. [1] What is the sample correlation between $X$ and $Y$?\n",
    "4. [5] Write your own method to compute sample covariance using a for loop. Use the code in the second cell below as a starting point. Do  not use any numpy methods except to check your answer. *Hint: You will need to use two loops*\n",
    "3. [5 + 1] What is the median of $Y$? Use Python and Numpy. Be careful if you use the sort method, since it will permanently alter your $Y$ array. Use `y2 = Y[:]` to copy the list\n",
    "\n"
   ]
  },
  {
   "cell_type": "code",
   "execution_count": 2,
   "metadata": {
    "collapsed": true
   },
   "outputs": [],
   "source": [
    "X = [1.6,0.4, -1.05, -0.08, 0.99, -1.89, 0.29, 0.71, -0.47, 1.15]\n",
    "Y = [3.59,1.49, -2.57, -0.0, 2.0, -3.48, 0.14, 1.38, -1.48, 2.6]"
   ]
  },
  {
   "cell_type": "code",
   "execution_count": 3,
   "metadata": {
    "collapsed": false
   },
   "outputs": [
    {
     "name": "stdout",
     "output_type": "stream",
     "text": [
      "1.6 3.59\n",
      "0.4 1.49\n",
      "-1.05 -2.57\n",
      "-0.08 -0.0\n",
      "0.99 2.0\n",
      "-1.89 -3.48\n",
      "0.29 0.14\n",
      "0.71 1.38\n",
      "-0.47 -1.48\n",
      "1.15 2.6\n"
     ]
    }
   ],
   "source": [
    "for xi, yi in zip(X, Y): \n",
    "    print(xi, yi)"
   ]
  },
  {
   "cell_type": "code",
   "execution_count": null,
   "metadata": {
    "collapsed": true
   },
   "outputs": [],
   "source": []
  }
 ],
 "metadata": {
  "kernelspec": {
   "display_name": "Python 3",
   "language": "python",
   "name": "python3"
  },
  "language_info": {
   "codemirror_mode": {
    "name": "ipython",
    "version": 3
   },
   "file_extension": ".py",
   "mimetype": "text/x-python",
   "name": "python",
   "nbconvert_exporter": "python",
   "pygments_lexer": "ipython3",
   "version": "3.4.2"
  }
 },
 "nbformat": 4,
 "nbformat_minor": 0
}
