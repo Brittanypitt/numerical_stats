{
 "cells": [
  {
   "cell_type": "markdown",
   "metadata": {
    "nbgrader": {
     "grade": false,
     "grade_id": "43",
     "locked": true,
     "schema_version": 1,
     "solution": false
    }
   },
   "source": [
    "#### Answer the following questions in Python and Markdown. Show the expression you are evaluating in Markdown first and then calculate the answer in Python. You should report your answer in Markdown. You may use `scipy.stats` for all problems in this set.\n",
    "\n",
    "Your Markdown answer should look like the following:\n",
    "\n",
    "**Distribution**: Bernoulli\n",
    "\n",
    "**p**: 0.3\n",
    "\n",
    "we are being asked to calculate the expected values, whose equation is:\n",
    "\n",
    "$\\sum_{x=0}^1 x P(x)$\n",
    "\n",
    "Using the python cell below, the answer is $0.3$"
   ]
  },
  {
   "cell_type": "markdown",
   "metadata": {
    "nbgrader": {
     "grade": false,
     "grade_id": "4123234",
     "locked": true,
     "schema_version": 1,
     "solution": false
    }
   },
   "source": [
    "The time between Siggi, my puppy, stealing socks is exponentially distributed. He steals a sock about every 6 hours. What's the probability that we go an entire day without him stealing a sock?\n"
   ]
  },
  {
   "cell_type": "markdown",
   "metadata": {
    "nbgrader": {
     "grade": true,
     "grade_id": "341512",
     "locked": false,
     "points": 4,
     "schema_version": 1,
     "solution": true
    }
   },
   "source": [
    "**Distribution:** Exponential\n",
    "\n",
    "**$\\lambda$:** 1 / 6 socks per hour\n",
    "\n",
    "We are being asked a cumulative probability:\n",
    "\n",
    "$$\n",
    "\\int_{24}^\\infty \\lambda e^{-\\lambda x} \\, dx\n",
    "$$\n",
    "\n",
    "which is 0.018. "
   ]
  },
  {
   "cell_type": "code",
   "execution_count": 18,
   "metadata": {
    "collapsed": false,
    "nbgrader": {
     "grade": true,
     "grade_id": "14322",
     "locked": false,
     "points": 4,
     "schema_version": 1,
     "solution": true
    }
   },
   "outputs": [
    {
     "data": {
      "text/plain": [
       "0.01831563888873422"
      ]
     },
     "execution_count": 18,
     "metadata": {},
     "output_type": "execute_result"
    }
   ],
   "source": [
    "import scipy.stats as ss\n",
    "\n",
    "1 - ss.expon.cdf(24, scale=6)"
   ]
  },
  {
   "cell_type": "markdown",
   "metadata": {
    "nbgrader": {
     "grade": false,
     "grade_id": "5t41",
     "locked": true,
     "schema_version": 1,
     "solution": false
    }
   },
   "source": [
    "My cat Pizzicato loves to go outside and I let her out about once every other day. With a probability of 99%, what's the longest amount of time between Pizzicato going outside. Another way of saying it: what's the amount of time that corresponds to 99% of the probability between trips outside for Pizzicato"
   ]
  },
  {
   "cell_type": "markdown",
   "metadata": {
    "nbgrader": {
     "grade": true,
     "grade_id": "h6y53",
     "locked": false,
     "points": 4,
     "schema_version": 1,
     "solution": true
    }
   },
   "source": [
    "**Distribution**: Exponential\n",
    "\n",
    "**$\\lambda$**: 0.5 per day\n",
    "\n",
    "We are being asked to compute a prediction interval for 99%:\n",
    "\n",
    "$$\n",
    "\\int_0^x \\lambda e^{-\\lambda t}\\,dt = 0.99\n",
    "$$\n",
    "\n",
    "which is 9.2 days"
   ]
  },
  {
   "cell_type": "code",
   "execution_count": 19,
   "metadata": {
    "collapsed": false,
    "nbgrader": {
     "grade": true,
     "grade_id": "wbtrrtg",
     "locked": false,
     "points": 4,
     "schema_version": 1,
     "solution": true
    }
   },
   "outputs": [
    {
     "data": {
      "text/plain": [
       "9.2103403719761818"
      ]
     },
     "execution_count": 19,
     "metadata": {},
     "output_type": "execute_result"
    }
   ],
   "source": [
    "ss.expon.ppf(0.99, scale=2)"
   ]
  },
  {
   "cell_type": "markdown",
   "metadata": {
    "nbgrader": {
     "grade": false,
     "grade_id": "gwtrgtrb",
     "locked": true,
     "schema_version": 1,
     "solution": false
    }
   },
   "source": [
    "At a manufacturing plant, there are on average 2 defective parts per one thousand. What's the probability of less than 5 defective parts in a given lot of one thousand parts?"
   ]
  },
  {
   "cell_type": "markdown",
   "metadata": {
    "nbgrader": {
     "grade": true,
     "grade_id": "betybtr",
     "locked": false,
     "points": 4,
     "schema_version": 1,
     "solution": true
    }
   },
   "source": [
    "**Distribution**: Poisson\n",
    "\n",
    "**$\\mu$**: 2\n",
    "\n",
    "We are being asked a cumulative distribution function\n",
    "\n",
    "$$\n",
    "\\sum_{x=0}^4 \\frac{e^{-\\mu}\\mu^x}{x!}\n",
    "$$\n",
    "\n",
    "which is 0.947"
   ]
  },
  {
   "cell_type": "code",
   "execution_count": 20,
   "metadata": {
    "collapsed": false,
    "nbgrader": {
     "grade": true,
     "grade_id": "gsgtr",
     "locked": false,
     "points": 3,
     "schema_version": 1,
     "solution": true
    }
   },
   "outputs": [
    {
     "data": {
      "text/plain": [
       "0.94734698265628892"
      ]
     },
     "execution_count": 20,
     "metadata": {},
     "output_type": "execute_result"
    }
   ],
   "source": [
    "ss.poisson.cdf(4, 2)"
   ]
  },
  {
   "cell_type": "markdown",
   "metadata": {
    "nbgrader": {
     "grade": false,
     "grade_id": "w45bth",
     "locked": true,
     "schema_version": 1,
     "solution": false
    }
   },
   "source": [
    "At a manufacturing plant, the quality assurance inspector examines five parts from a lot of one thousand and rejects the entire lot if any of them are defective. If we have the same rate of defects, 2 part per thousand, then what's the probability that a lot is rejected?"
   ]
  },
  {
   "cell_type": "markdown",
   "metadata": {
    "nbgrader": {
     "grade": true,
     "grade_id": "rnmyu",
     "locked": false,
     "points": 4,
     "schema_version": 1,
     "solution": true
    }
   },
   "source": [
    "**Distribution**: Geometric\n",
    "\n",
    "**p**: 2 / 1000\n",
    "\n",
    "We are being asked about a cumulative distribution function:\n",
    "\n",
    "$$\n",
    "\\sum_{x=1}^5 p(1-p)^{x - 1}\n",
    "$$\n",
    "\n",
    "which is 0.0100"
   ]
  },
  {
   "cell_type": "code",
   "execution_count": 21,
   "metadata": {
    "collapsed": false,
    "nbgrader": {
     "grade": true,
     "grade_id": "nury",
     "locked": false,
     "points": 4,
     "schema_version": 1,
     "solution": true
    }
   },
   "outputs": [
    {
     "data": {
      "text/plain": [
       "0.0099600799200320004"
      ]
     },
     "execution_count": 21,
     "metadata": {},
     "output_type": "execute_result"
    }
   ],
   "source": [
    "ss.geom.cdf(5, 2 / 1000)"
   ]
  },
  {
   "cell_type": "markdown",
   "metadata": {
    "nbgrader": {
     "grade": false,
     "grade_id": "nrnru",
     "locked": true,
     "schema_version": 1,
     "solution": false
    }
   },
   "source": [
    "A reaction vessel can tolerate a maximum temperature of 2250 $^\\circ$C. You measure the temperature in the vessel many times and determine the average temperature is 1350 $^\\circ$ C with a standard deviation of 400$^\\circ$ C. What's the probability that the temperature in the reaction vessel exceeds its maximum temperature?"
   ]
  },
  {
   "cell_type": "markdown",
   "metadata": {
    "nbgrader": {
     "grade": true,
     "grade_id": "aebtrbe",
     "locked": false,
     "points": 4,
     "schema_version": 1,
     "solution": true
    }
   },
   "source": [
    "**Distribution**: Normal\n",
    "\n",
    "**$\\mu$**: 1350\n",
    "\n",
    "**$\\sigma$**: 400\n",
    "\n",
    "We are being asked about this cumulative probability distribution interval:\n",
    "\n",
    "$$\n",
    "\\int_{2250}^\\infty {\\mathcal{N}(1350, 400)}\\,dx\n",
    "$$\n",
    "\n",
    "which has a probability of 0.0122"
   ]
  },
  {
   "cell_type": "code",
   "execution_count": 22,
   "metadata": {
    "collapsed": false,
    "nbgrader": {
     "grade": true,
     "grade_id": "bevtrafr",
     "locked": false,
     "points": 4,
     "schema_version": 1,
     "solution": true
    }
   },
   "outputs": [
    {
     "data": {
      "text/plain": [
       "0.012224472655044671"
      ]
     },
     "execution_count": 22,
     "metadata": {},
     "output_type": "execute_result"
    }
   ],
   "source": [
    "1 - ss.norm.cdf(2250, loc=1350, scale=400)"
   ]
  },
  {
   "cell_type": "markdown",
   "metadata": {
    "nbgrader": {
     "grade": false,
     "grade_id": "bretafre",
     "locked": true,
     "schema_version": 1,
     "solution": false
    }
   },
   "source": [
    "English Mastiff dogs weigh 134 pounds on average with a standard deviation of 12 pounds. What's the probability of having a Mastiff that weighs less than 100 pounds?"
   ]
  },
  {
   "cell_type": "markdown",
   "metadata": {
    "nbgrader": {
     "grade": true,
     "grade_id": "bvaert",
     "locked": false,
     "points": 4,
     "schema_version": 1,
     "solution": true
    }
   },
   "source": [
    "**Distribution**: Normal\n",
    "\n",
    "**$\\mu$**: 134\n",
    "\n",
    "**$\\sigma$**: 12\n",
    "\n",
    "We are being asked about this cumulative probability distribution interval:\n",
    "\n",
    "$$\n",
    "\\int_{-\\infty}^{100} {\\mathcal{N}(134, 12)}\\,dx\n",
    "$$\n",
    "\n",
    "which has a probability of 0.00230"
   ]
  },
  {
   "cell_type": "code",
   "execution_count": 23,
   "metadata": {
    "collapsed": false,
    "nbgrader": {
     "grade": true,
     "grade_id": "baetrbtbt",
     "locked": false,
     "points": 4,
     "schema_version": 1,
     "solution": true
    }
   },
   "outputs": [
    {
     "data": {
      "text/plain": [
       "0.0023032661316958825"
      ]
     },
     "execution_count": 23,
     "metadata": {},
     "output_type": "execute_result"
    }
   ],
   "source": [
    "ss.norm.cdf(100, scale=12, loc=134)"
   ]
  },
  {
   "cell_type": "markdown",
   "metadata": {
    "nbgrader": {
     "grade": false,
     "grade_id": "je767j",
     "locked": true,
     "schema_version": 1,
     "solution": false
    }
   },
   "source": [
    "In a class, the average score on a test is 94% with a standard deviation of 13%. Can we model this with a normal distribution? Why or why not? Assume that the highest possible score is 100% (no extra credit)."
   ]
  },
  {
   "cell_type": "markdown",
   "metadata": {
    "nbgrader": {
     "grade": true,
     "grade_id": "hytethy",
     "locked": false,
     "points": 4,
     "schema_version": 1,
     "solution": true
    }
   },
   "source": [
    "**Distribution**: Normal\n",
    "\n",
    "**$\\mu$**: 94\n",
    "\n",
    "**$\\sigma$**: 13\n",
    "\n",
    "We are being asked about this cumulative probability distribution interval:\n",
    "\n",
    "$$\n",
    "\\int_{100}^{\\infty} {\\mathcal{N}(134, 12)}\\,dx\n",
    "$$\n",
    "\n",
    "which has a probability of 0.32. **No,** this is not a good approximation since the model predicts 32% of the students have greater than 100%."
   ]
  },
  {
   "cell_type": "code",
   "execution_count": 24,
   "metadata": {
    "collapsed": false,
    "nbgrader": {
     "grade": true,
     "grade_id": "hetyyth",
     "locked": false,
     "points": 4,
     "schema_version": 1,
     "solution": true
    }
   },
   "outputs": [
    {
     "data": {
      "text/plain": [
       "0.32220616688490566"
      ]
     },
     "execution_count": 24,
     "metadata": {},
     "output_type": "execute_result"
    }
   ],
   "source": [
    "1 - ss.norm.cdf(100, scale=13, loc=94)"
   ]
  }
 ],
 "metadata": {
  "celltoolbar": "Create Assignment",
  "kernelspec": {
   "display_name": "Python 3",
   "language": "python",
   "name": "python3"
  },
  "language_info": {
   "codemirror_mode": {
    "name": "ipython",
    "version": 3
   },
   "file_extension": ".py",
   "mimetype": "text/x-python",
   "name": "python",
   "nbconvert_exporter": "python",
   "pygments_lexer": "ipython3",
   "version": "3.5.3"
  }
 },
 "nbformat": 4,
 "nbformat_minor": 2
}
