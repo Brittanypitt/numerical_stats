{
 "cells": [
  {
   "cell_type": "markdown",
   "metadata": {},
   "source": [
    "#### Answer the following questions in Python by defining a function. Ensure you have a docstring and that your function succeeds on the example use. "
   ]
  },
  {
   "cell_type": "markdown",
   "metadata": {
    "nbgrader": {
     "grade": false,
     "grade_id": "45345",
     "locked": true,
     "schema_version": 1,
     "solution": false
    }
   },
   "source": [
    "Write your own implementation of the cumulative distribution function for the Binomial distribution. Your function should be called `binom_cdf` and take in `x, p, N` as arguments. It should return the probability of a sample between `0` and `x`, including `x`. It should return `None` if the arguments are invalid (e.g., `x = 'foo'` or `p = -4` or `x = -4`)"
   ]
  },
  {
   "cell_type": "code",
   "execution_count": 31,
   "metadata": {
    "collapsed": false,
    "nbgrader": {
     "grade": true,
     "grade_id": "24242",
     "locked": false,
     "points": 4,
     "schema_version": 1,
     "solution": true
    }
   },
   "outputs": [],
   "source": [
    "#The points awarded this cell corresopnd to partial credit and/or documentation\n",
    "\n",
    "### BEGIN SOLUTION\n",
    "import numpy as np\n",
    "from scipy.special import binom\n",
    "def binom_cdf(x, p, N):\n",
    "    '''The binomial distribution cumulative probability function\n",
    "    \n",
    "    Args:\n",
    "        x: the inclusive upper bound\n",
    "        p: the probability of success\n",
    "        N: the number of trials of the binomial \n",
    "        \n",
    "    returns: the sum of probability of samples from 0 to x\n",
    "    '''\n",
    "    \n",
    "    if(type(x) != int or type(x) != int or type(N) != int):\n",
    "        return None\n",
    "    if(p < 0 or p > 1):\n",
    "        return None\n",
    "    if(N < 1):\n",
    "        return None\n",
    "    if x < 0 or x > N:\n",
    "        return None\n",
    "    \n",
    "    n = np.arange(0,x + 1)\n",
    "    Pn = binom(N, n) * p**n * (1 - p)**(N - n)\n",
    "    return np.sum(Pn)\n",
    "### END SOLUTION"
   ]
  },
  {
   "cell_type": "code",
   "execution_count": 32,
   "metadata": {
    "collapsed": false,
    "nbgrader": {
     "grade": true,
     "grade_id": "4534",
     "locked": true,
     "points": 4,
     "schema_version": 1,
     "solution": false
    }
   },
   "outputs": [],
   "source": [
    "'''Check that your answer is correct on some test inputs using scipy stats'''\n",
    "\n",
    "from numpy import testing as t\n",
    "import scipy.stats as ss\n",
    "\n",
    "t.assert_almost_equal( binom_cdf(2, 0.5, 5), ss.binom.cdf(2, p=0.5, n=5) )\n",
    "\n",
    "### BEGIN HIDDEN TESTS\n",
    "t.assert_almost_equal( binom_cdf(2, 0.1, 5), ss.binom.cdf(2, p=0.1, n=5) )\n",
    "t.assert_almost_equal( binom_cdf(0, 0.7, 15), ss.binom.cdf(0, p=0.7, n=15) )\n",
    "### END HIDDEN TESTS"
   ]
  },
  {
   "cell_type": "code",
   "execution_count": 33,
   "metadata": {
    "collapsed": false,
    "nbgrader": {
     "grade": true,
     "grade_id": "34",
     "locked": true,
     "points": 4,
     "schema_version": 1,
     "solution": false
    }
   },
   "outputs": [],
   "source": [
    "'''Check that your answer deals with invalid input correclty'''\n",
    "\n",
    "from numpy import testing as t\n",
    "import scipy.stats as ss\n",
    "\n",
    "t.assert_equal( binom_cdf('test', 0.5, 5), None)\n",
    "\n",
    "### BEGIN HIDDEN TESTS\n",
    "t.assert_equal( binom_cdf(-4, 0.5, 5), None)\n",
    "t.assert_equal( binom_cdf(6, 0.5, 5), None)\n",
    "t.assert_equal( binom_cdf(2, 5, 5), None)\n",
    "t.assert_equal( binom_cdf(2, 0.4, -4), None)\n",
    "### END HIDDEN TESTS"
   ]
  }
 ],
 "metadata": {
  "celltoolbar": "Create Assignment",
  "kernelspec": {
   "display_name": "Python 3",
   "language": "python",
   "name": "python3"
  },
  "language_info": {
   "codemirror_mode": {
    "name": "ipython",
    "version": 3
   },
   "file_extension": ".py",
   "mimetype": "text/x-python",
   "name": "python",
   "nbconvert_exporter": "python",
   "pygments_lexer": "ipython3",
   "version": "3.5.3"
  }
 },
 "nbformat": 4,
 "nbformat_minor": 2
}
