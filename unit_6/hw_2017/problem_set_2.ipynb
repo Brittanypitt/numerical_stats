{
 "cells": [
  {
   "cell_type": "markdown",
   "metadata": {
    "deletable": true,
    "editable": true,
    "nbgrader": {
     "grade": false,
     "grade_id": "1",
     "locked": true,
     "schema_version": 1,
     "solution": false
    }
   },
   "source": [
    "#### Answer the following questions in Python by defining a function. Ensure you have a docstring and that your function succeeds on the example use. "
   ]
  },
  {
   "cell_type": "markdown",
   "metadata": {
    "deletable": true,
    "editable": true,
    "nbgrader": {
     "grade": false,
     "grade_id": "2",
     "locked": true,
     "schema_version": 1,
     "solution": false
    }
   },
   "source": [
    "Create a function which takes two arguments: `x` and `p`, where `p` defaults to 2. It should return $x\\,^p$. Your function must be named `power` to receive credit. For this problem, do not consider invalid use of your function (i.e., what happens if `x` is a string)."
   ]
  },
  {
   "cell_type": "code",
   "execution_count": 19,
   "metadata": {
    "collapsed": false,
    "deletable": true,
    "editable": true,
    "nbgrader": {
     "grade": true,
     "grade_id": "3",
     "locked": false,
     "points": 4,
     "schema_version": 1,
     "solution": true
    }
   },
   "outputs": [],
   "source": [
    "#The points awarded this cell corresopnd to partial credit and/or documentation\n",
    "\n",
    "### BEGIN SOLUTION\n",
    "def power(x, p=2):\n",
    "    '''Computes x^p\n",
    "    \n",
    "    Args:\n",
    "        x: input number\n",
    "        p: input power, defaults to 2\n",
    "        \n",
    "    returns: x^p as a floating point\n",
    "    '''\n",
    "    return x**p\n",
    "### END SOLUTION"
   ]
  },
  {
   "cell_type": "code",
   "execution_count": 26,
   "metadata": {
    "collapsed": false,
    "nbgrader": {
     "grade": true,
     "grade_id": "4",
     "locked": true,
     "points": 4,
     "schema_version": 1,
     "solution": false
    }
   },
   "outputs": [],
   "source": [
    "'''Check if your function returns the correct values'''\n",
    "\n",
    "from numpy import testing as t\n",
    "\n",
    "t.assert_almost_equal( power(3,2), 9 )\n",
    "\n",
    "### BEGIN HIDDEN TESTS\n",
    "import numpy as np\n",
    "test_x = np.array([-2, -1.5, 0, 4])\n",
    "test_p = np.array([-3, 2, 4, 1])\n",
    "t.assert_almost_equal( power(test_x, test_p), test_x ** test_p)\n",
    "t.assert_almost_equal( power(3), 3**2)\n",
    "### END HIDDEN TESTS"
   ]
  },
  {
   "cell_type": "markdown",
   "metadata": {
    "nbgrader": {
     "grade": false,
     "grade_id": "5",
     "locked": true,
     "schema_version": 1,
     "solution": false
    }
   },
   "source": [
    "Create a function which sums the numbers between its first (inclusive) and second argument (exclusive). For example, if you pass in `3` and `6`, it should return `12` (`3+4+5`). Your function should return `None` if the given arguments are not integers. Your function must be called `int_sum` to receive credit. "
   ]
  },
  {
   "cell_type": "code",
   "execution_count": 23,
   "metadata": {
    "collapsed": true,
    "nbgrader": {
     "grade": true,
     "grade_id": "6",
     "locked": false,
     "points": 4,
     "schema_version": 1,
     "solution": true
    }
   },
   "outputs": [],
   "source": [
    "#The points awarded this cell corresopnd to partial credit and/or documentation\n",
    "\n",
    "### BEGIN SOLUTION\n",
    "def int_sum(x, y):\n",
    "    '''Computes sum from x to y (excluding y)\n",
    "    \n",
    "    Args:\n",
    "        x: start of sum\n",
    "        p: end of sum\n",
    "        \n",
    "    returns: the sum as an integer\n",
    "    '''\n",
    "    if type(x) != type(1) or type(y) != type(1):\n",
    "        return None\n",
    "    s = 0\n",
    "    for i in range(x, y):\n",
    "        s += i\n",
    "    return s\n",
    "### END SOLUTION"
   ]
  },
  {
   "cell_type": "code",
   "execution_count": 24,
   "metadata": {
    "collapsed": false,
    "nbgrader": {
     "grade": true,
     "grade_id": "7",
     "locked": true,
     "points": 4,
     "schema_version": 1,
     "solution": false
    }
   },
   "outputs": [],
   "source": [
    "'''check that it returns correct answer'''\n",
    "from numpy import testing as t\n",
    "\n",
    "t.assert_equal( int_sum(3,6), 12)\n",
    "\n",
    "### BEGIN HIDDEN TESTS\n",
    "t.assert_equal( int_sum(-2, 7), sum(range(-2, 7)))\n",
    "t.assert_equal( int_sum(0, 5), sum(range(0, 5)))\n",
    "### END HIDDEN TESTS"
   ]
  },
  {
   "cell_type": "code",
   "execution_count": 25,
   "metadata": {
    "collapsed": false,
    "nbgrader": {
     "grade": true,
     "grade_id": "8",
     "locked": true,
     "points": 4,
     "schema_version": 1,
     "solution": false
    }
   },
   "outputs": [],
   "source": [
    "'''check that it deals with invalid input correctly'''\n",
    "from numpy import testing as t\n",
    "\n",
    "t.assert_equal( int_sum(4.4, 4.6), None)\n",
    "\n",
    "### BEGIN HIDDEN TESTS\n",
    "t.assert_equal( int_sum('test', 4), None)\n",
    "t.assert_equal( int_sum(3, 'test'), None)\n",
    "t.assert_array_equal( int_sum(5,4), 0)\n",
    "### END HIDDEN TESTS"
   ]
  },
  {
   "cell_type": "markdown",
   "metadata": {
    "nbgrader": {
     "grade": false,
     "grade_id": "353534",
     "locked": true,
     "schema_version": 1,
     "solution": false
    }
   },
   "source": [
    "Create a function which takes in two arguments: a floating point number and an integer representing precision. It should return a string that prints the number to the given precision or `None` if any of the arguments are invalid. Your function must be called `pprint` to receive credit. "
   ]
  },
  {
   "cell_type": "code",
   "execution_count": 43,
   "metadata": {
    "collapsed": true,
    "nbgrader": {
     "grade": true,
     "grade_id": "43",
     "locked": false,
     "points": 4,
     "schema_version": 1,
     "solution": true
    }
   },
   "outputs": [],
   "source": [
    "#The points awarded this cell corresopnd to partial credit and/or documentation\n",
    "\n",
    "### BEGIN SOLUTION\n",
    "def pprint(x, i):\n",
    "    '''Prints x to the given precision indicated by i\n",
    "    \n",
    "    Args:\n",
    "        x: the number to print\n",
    "        i: the integer precision\n",
    "        \n",
    "    returns: a string\n",
    "    '''\n",
    "    if( not (type(x) == float or type(x) == int)):\n",
    "        return None\n",
    "    if(type(i) != int or i <= 0):\n",
    "        return None\n",
    "    \n",
    "    return '{:.{}}'.format(x, i)\n",
    "### END SOLUTION"
   ]
  },
  {
   "cell_type": "code",
   "execution_count": 45,
   "metadata": {
    "collapsed": false,
    "nbgrader": {
     "grade": true,
     "grade_id": "45",
     "locked": true,
     "points": 4,
     "schema_version": 1,
     "solution": false
    }
   },
   "outputs": [],
   "source": [
    "'''check answer is correct'''\n",
    "from numpy import testing as t\n",
    "\n",
    "t.assert_equal( pprint(4.3212, 2), '4.3')\n",
    "### BEGIN HIDDEN TESTS\n",
    "t.assert_equal( pprint(-4.3212, 2), '-4.3')\n",
    "t.assert_equal( pprint(5.45676, 3), '5.46')\n",
    "t.assert_equal( pprint(11.2, 1), '1e+01')\n",
    "### END HIDDEN TESTS"
   ]
  },
  {
   "cell_type": "code",
   "execution_count": 46,
   "metadata": {
    "collapsed": false,
    "nbgrader": {
     "grade": true,
     "grade_id": "56",
     "locked": true,
     "points": 4,
     "schema_version": 1,
     "solution": false
    }
   },
   "outputs": [],
   "source": [
    "'''check that your function correctly deals with invalid input'''\n",
    "from numpy import testing as t\n",
    "\n",
    "t.assert_equal( pprint('not a number', 4), None)\n",
    "### BEGIN HIDDEN TESTS\n",
    "t.assert_equal( pprint(-4.3212, -2), None)\n",
    "t.assert_equal( pprint(5.45676, 'b'), None)\n",
    "t.assert_equal( pprint(55, 4.12), None)\n",
    "t.assert_equal( pprint(55, 0), None)\n",
    "### END HIDDEN TESTS"
   ]
  }
 ],
 "metadata": {
  "celltoolbar": "Create Assignment",
  "kernelspec": {
   "display_name": "Python 3",
   "language": "python",
   "name": "python3"
  },
  "language_info": {
   "codemirror_mode": {
    "name": "ipython",
    "version": 3
   },
   "file_extension": ".py",
   "mimetype": "text/x-python",
   "name": "python",
   "nbconvert_exporter": "python",
   "pygments_lexer": "ipython3",
   "version": "3.5.3"
  }
 },
 "nbformat": 4,
 "nbformat_minor": 2
}
