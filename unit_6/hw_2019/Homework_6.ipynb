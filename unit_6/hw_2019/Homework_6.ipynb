{
 "metadata": {
  "name": "",
  "signature": "sha256:c61060666a7ce3a7505e1ee782530ed8662f00ee9c86c775bf36afea1d351334"
 },
 "nbformat": 3,
 "nbformat_minor": 0,
 "worksheets": [
  {
   "cells": [
    {
     "cell_type": "markdown",
     "metadata": {},
     "source": [
      "Homework 6\n",
      "====\n",
      "####CHE 116: Numerical Methods and Statistics\n",
      "Prof. Andrew White\n",
      "\n",
      "Version 1.5 (2/20/2015)\n",
      "\n",
      "----"
     ]
    },
    {
     "cell_type": "markdown",
     "metadata": {},
     "source": [
      "0. Warmup (2 Points)\n",
      "====\n",
      "\n",
      "1. We've seen two types of confidence intervals. One type is for predicting where the next sample will be in a known distribution and one type is for predicting where a true mean will be given some data. For the latter type, predicting the true mean, we saw how with many data points or if we know the true standard deviation we can use a normal distribution. When predicting the true mean with a few data points, the confidence interval for error in the mean follows a $t$-distribution. Thus there are three possible confidence interval problems. Write out and label an example problem that demonstrates each of the confidence intervals. Refer back to the example problems in Unit 6, Lecture 2. You only need to set-up your problems, not solve them.\n",
      "\n",
      "2. Find a problem you missed in any of your homeworks. Look at the key and state what mistake you made and how it would be fixed. Indicate which homework and problem you're referring to."
     ]
    },
    {
     "cell_type": "markdown",
     "metadata": {},
     "source": [
      "1. Book Problems (5 Points)\n",
      "====\n",
      "Complete the following problems from Bulmer. Use Python or Markdown where appropiate. \n",
      "\n",
      "* Exercise 6.10\n",
      "* Exercise 7.1\n",
      "\n",
      "Complete the following problems from Langley:\n",
      "\n",
      "* Q15 on pg 66 (you can skip the shortcut method and Snedecor's check)\n",
      "* Q17 on pg 88\n",
      "* Q25 on pg 90"
     ]
    },
    {
     "cell_type": "markdown",
     "metadata": {},
     "source": [
      "2. CLT Theory (5 Points)\n",
      "====\n",
      "Indicate if the CLT applies with yes or no. If no, state why.\n",
      "\n",
      "1. You measure the density of a solution 5 times and take the average\n",
      "2. You sum the volume of oil in 20 barrels\n",
      "3. You record your electricity bill 25 times\n",
      "4. Flip a coin 25 times and consider a heads 0 and a tails 1 and take the average\n",
      "5. Your grade is the average of 20 homework"
     ]
    },
    {
     "cell_type": "markdown",
     "metadata": {},
     "source": [
      "3. Confidence Intervals (4 Points)\n",
      "====\n",
      "Report the given confidence interval for error in the mean using the data in the next cell and describe in words what the confidence interval is for each example\n",
      "\n",
      "1. 90% Double\n",
      "2. 95% Double\n",
      "3. 99% Double\n",
      "4. 90% Lower (a value such that the mean lies below that value 90% of the time)"
     ]
    },
    {
     "cell_type": "code",
     "collapsed": false,
     "input": [
      "data_3_1 = [5.81, 5.27,  5.4,  4.9,  5.83,  3.2,  6.76,  4.29,  4.76,  5.51]\n",
      "data_3_2 = [51.47, 48.18,  48.35,  53.57]\n",
      "data_3_3 = [91.8, 104.04,  129.62,  99.34,  75.92,  56.03,  103.87,  66.27,  88.41,  105.17,  115.05,  111.13,  86.2,  113.48,  96.25,  100.81,  96.56,  89.02,  111.9,  106.55,  117.35,  87.61,  81.97,  106.32,  78.38,  102.38,  80.87,  110.6,  89.09,  132.1]\n",
      "data_3_4 = [5.89, 3.73,  -10.77,  -13.92,  0.73,  -2.52,  -9.69,  14.15,  -8.16,  2.62,  -0.93,  -13.46,  -2.95,  -7.13,  1.01,  1.45,  16.0,  -17.47,  9.58,  13.3]"
     ],
     "language": "python",
     "metadata": {},
     "outputs": [],
     "prompt_number": 3
    },
    {
     "cell_type": "markdown",
     "metadata": {},
     "source": [
      "4. Math Equations (3 Points)\n",
      "====\n",
      "\n",
      "Solve the following equations using Newton's metod\n",
      "\n",
      "\n",
      "1. $\\cos(x^2) = x$\n",
      "2. $x^2 = 4839$\n",
      "3. $\\int_{\\pi}^{x} \\sin^2{s}\\,ds = 1$ *Hint: Review your previous homeworks to recall how to use quad to integrate*"
     ]
    },
    {
     "cell_type": "code",
     "collapsed": false,
     "input": [],
     "language": "python",
     "metadata": {},
     "outputs": []
    }
   ],
   "metadata": {}
  }
 ]
}