{
 "cells": [
  {
   "cell_type": "markdown",
   "metadata": {
    "deletable": true,
    "editable": true,
    "nbgrader": {
     "grade": false,
     "grade_id": "prompt",
     "locked": true,
     "schema_version": 1,
     "solution": false
    }
   },
   "source": [
    "Answer the following questions in Python. Do all calculations in Python. Your answers should have a pattern similar to this:\n",
    "\n",
    "```python\n",
    "if 3 < (5 * 2):\n",
    "    print('3 is less than 5 times 2')\n",
    "else:\n",
    "    print('3 is not less than 5 times 2')\n",
    "```"
   ]
  },
  {
   "cell_type": "markdown",
   "metadata": {
    "deletable": true,
    "editable": true,
    "nbgrader": {
     "grade": false,
     "grade_id": "1",
     "locked": true,
     "schema_version": 1,
     "solution": false
    }
   },
   "source": [
    "Which is greater: $10^5$ or $3^9$?"
   ]
  },
  {
   "cell_type": "code",
   "execution_count": 4,
   "metadata": {
    "collapsed": false,
    "deletable": true,
    "editable": true,
    "nbgrader": {
     "grade": true,
     "grade_id": "1-a",
     "locked": false,
     "points": 4,
     "schema_version": 1,
     "solution": true
    }
   },
   "outputs": [
    {
     "name": "stdout",
     "output_type": "stream",
     "text": [
      "10^5 is greater\n"
     ]
    }
   ],
   "source": [
    "if 10**5 > 3**9:\n",
    "    print('10^5 is greater')\n",
    "else:\n",
    "    print('3^9 is greater')"
   ]
  },
  {
   "cell_type": "markdown",
   "metadata": {
    "deletable": true,
    "editable": true,
    "nbgrader": {
     "grade": false,
     "grade_id": "2",
     "locked": true,
     "schema_version": 1,
     "solution": false
    }
   },
   "source": [
    "Demonstrate the $0.25 \\neq 0.35$"
   ]
  },
  {
   "cell_type": "code",
   "execution_count": 8,
   "metadata": {
    "collapsed": false,
    "deletable": true,
    "editable": true,
    "nbgrader": {
     "grade": true,
     "grade_id": "2-a",
     "locked": false,
     "points": 4,
     "schema_version": 1,
     "solution": true
    }
   },
   "outputs": [
    {
     "name": "stdout",
     "output_type": "stream",
     "text": [
      "0.25 != 0.35\n"
     ]
    }
   ],
   "source": [
    "if 0.25 != 0.35:\n",
    "    print('0.25 != 0.35')\n",
    "else:\n",
    "    print('hmmm')"
   ]
  },
  {
   "cell_type": "markdown",
   "metadata": {
    "deletable": true,
    "editable": true,
    "nbgrader": {
     "grade": false,
     "grade_id": "3",
     "locked": true,
     "schema_version": 1,
     "solution": false
    }
   },
   "source": [
    "Using the `//` operator, show that 3 is not divisible by 2."
   ]
  },
  {
   "cell_type": "code",
   "execution_count": 9,
   "metadata": {
    "collapsed": false,
    "deletable": true,
    "editable": true,
    "nbgrader": {
     "grade": true,
     "grade_id": "3-a",
     "locked": false,
     "points": 4,
     "schema_version": 1,
     "solution": true
    }
   },
   "outputs": [
    {
     "name": "stdout",
     "output_type": "stream",
     "text": [
      "3 is not divisble by 2\n"
     ]
    }
   ],
   "source": [
    "if 3 // 2 != 3 / 2:\n",
    "    print('3 is not divisble by 2')\n",
    "else:\n",
    "    print('it is divisible by 2')"
   ]
  },
  {
   "cell_type": "markdown",
   "metadata": {
    "deletable": true,
    "editable": true,
    "nbgrader": {
     "grade": false,
     "grade_id": "4",
     "locked": true,
     "schema_version": 1,
     "solution": false
    }
   },
   "source": [
    "Using a set of if `if` statements, print whether a variable is odd or even and negative or positive. Use the variable name `x` and demonstrate your code works using `x = -3`, but ensure it can handle any integer (e.g., 3, 0, -100). Make sure your print statements use the value of `x`, not the name of the variable. For example, you should print out `-3 is negative`, not `x is negative`."
   ]
  },
  {
   "cell_type": "code",
   "execution_count": 15,
   "metadata": {
    "collapsed": false,
    "deletable": true,
    "editable": true,
    "nbgrader": {
     "grade": true,
     "grade_id": "4-a",
     "locked": false,
     "points": 4,
     "schema_version": 1,
     "solution": true
    }
   },
   "outputs": [
    {
     "name": "stdout",
     "output_type": "stream",
     "text": [
      "-3 is odd\n",
      "-3 is negative\n"
     ]
    }
   ],
   "source": [
    "x = -3\n",
    "\n",
    "if x // 2 == x / 2:\n",
    "    print('{} is even'.format(x))\n",
    "else:\n",
    "    print('{} is odd'.format(x))\n",
    "if x < 0:\n",
    "    print('{} is negative'.format(x))\n",
    "elif x > 0:\n",
    "    print('{} is positive'.format(x))\n",
    "else:\n",
    "    print('{} is 0'.format(x))"
   ]
  }
 ],
 "metadata": {
  "celltoolbar": "Create Assignment",
  "kernelspec": {
   "display_name": "Python 3",
   "language": "python",
   "name": "python3"
  },
  "language_info": {
   "codemirror_mode": {
    "name": "ipython",
    "version": 3
   },
   "file_extension": ".py",
   "mimetype": "text/x-python",
   "name": "python",
   "nbconvert_exporter": "python",
   "pygments_lexer": "ipython3",
   "version": "3.5.3"
  }
 },
 "nbformat": 4,
 "nbformat_minor": 2
}
