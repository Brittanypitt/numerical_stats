{
 "cells": [
  {
   "cell_type": "markdown",
   "metadata": {},
   "source": [
    "Homework 4\n",
    "====\n",
    "#### CHE 116: Numerical Methods and Statistics\n",
    "\n",
    "2/8/2018\n",
    "\n",
    "----"
   ]
  },
  {
   "cell_type": "markdown",
   "metadata": {
    "collapsed": true
   },
   "source": [
    "1. String Formatting (4 Points)\n",
    "===\n",
    "\n",
    "*Answer these in Python*\n",
    "\n",
    "1. [1 point] Print $\\pi$ to 4 digits of precision. Use `pi` from the `math` module.\n",
    "2. [2 points] Print the square root of the first 5 integers starting from 1 with 4 digits of precision. Print the terms with one per line and have them all take up exactly 5 spaces. 2 Bonus points if you use a `for` loop\n",
    "3. [1 point] Show how to print the same variable twice using the variable index part of the `:` operator in a string.}"
   ]
  },
  {
   "cell_type": "code",
   "execution_count": 1,
   "metadata": {},
   "outputs": [
    {
     "name": "stdout",
     "output_type": "stream",
     "text": [
      "3.142\n"
     ]
    }
   ],
   "source": [
    "#1.1\n",
    "import math\n",
    "print('{:.4}'.format(math.pi))"
   ]
  },
  {
   "cell_type": "code",
   "execution_count": 2,
   "metadata": {},
   "outputs": [
    {
     "name": "stdout",
     "output_type": "stream",
     "text": [
      "  1.0\n",
      "1.414\n",
      "1.732\n",
      "  2.0\n",
      "2.236\n"
     ]
    }
   ],
   "source": [
    "#1.2 - no for loop\n",
    "print('{:5.4}'.format(math.sqrt(1)))\n",
    "print('{:5.4}'.format(math.sqrt(2)))\n",
    "print('{:5.4}'.format(math.sqrt(3)))\n",
    "print('{:5.4}'.format(math.sqrt(4)))\n",
    "print('{:5.4}'.format(math.sqrt(5)))"
   ]
  },
  {
   "cell_type": "code",
   "execution_count": 3,
   "metadata": {},
   "outputs": [
    {
     "name": "stdout",
     "output_type": "stream",
     "text": [
      "  1.0\n",
      "1.414\n",
      "1.732\n",
      "  2.0\n",
      "2.236\n"
     ]
    }
   ],
   "source": [
    "#1.2 - for loop\n",
    "for i in range(1, 6):\n",
    "    print('{:5.4}'.format(math.sqrt(i)))"
   ]
  },
  {
   "cell_type": "code",
   "execution_count": 4,
   "metadata": {},
   "outputs": [
    {
     "name": "stdout",
     "output_type": "stream",
     "text": [
      "test test\n"
     ]
    }
   ],
   "source": [
    "print('{0:} {0:}'.format('test'))"
   ]
  },
  {
   "cell_type": "markdown",
   "metadata": {},
   "source": [
    "2. Representing Numbers (5 Points)\n",
    "====\n",
    "\n",
    "*Answers these symbolically*\n",
    "\n",
    "1. [1 point] What is the mantissa and what is the exponent of $0.3422 \\times 10^{-4}$. \n",
    "2. [1 point] What is the largest representable number with 10 bits?\n",
    "3. [1 point] In a number system of base 8, how many numbers can be represented with 4 digits places?\n",
    "4. [2 points] How do we do boolean expressions with floating numbers? Is it valid to compare floating numbers at all?"
   ]
  },
  {
   "cell_type": "markdown",
   "metadata": {},
   "source": [
    "### 2.1\n",
    "\n",
    "0.3442\n",
    "\n",
    "\n",
    "### 2.2\n",
    "\n",
    "$$\n",
    "2^{10} - 1 = 1023\n",
    "$$\n",
    "\n",
    "### 2.3\n",
    "\n",
    "$$\n",
    "8^4 = 4096\n",
    "$$\n",
    "\n",
    "### 2.4\n",
    "\n",
    "Floating point comparisons are fine with inequalities (`<, >`), but not equalities (`==`)"
   ]
  },
  {
   "cell_type": "markdown",
   "metadata": {},
   "source": [
    "3. Booleans (20 Points)\n",
    "====\n",
    "\n",
    "1. [4 points] Write python code that will print 'greater than 10' when the variable `z` is greater than 10.\n",
    "2. [4 points] Write python code that will print 'special' if the variable `z` less than -25 but greater than -35.\n",
    "3. [2 points] Use the `%` operator in python, which computes the remainder of the left number after being divided by the right number, to compute the remainder of 12 divided by 5.\n",
    "4. [4 points] Use the `%` operator in a boolean expression to print 'even' if the variable `z` is even.\n",
    "5. [6 points] Write code that prints out if the variable `z` is positive or negative, even or odd, and greater in magnitude than 10."
   ]
  },
  {
   "cell_type": "code",
   "execution_count": 5,
   "metadata": {
    "collapsed": true
   },
   "outputs": [],
   "source": [
    "#3.1\n",
    "z = -27\n",
    "if z > 10:\n",
    "    print('greater than 10')"
   ]
  },
  {
   "cell_type": "code",
   "execution_count": 6,
   "metadata": {},
   "outputs": [
    {
     "name": "stdout",
     "output_type": "stream",
     "text": [
      "special\n"
     ]
    }
   ],
   "source": [
    "#3.2\n",
    "if z < -25 and z > -35:\n",
    "    print('special')"
   ]
  },
  {
   "cell_type": "code",
   "execution_count": 7,
   "metadata": {},
   "outputs": [
    {
     "data": {
      "text/plain": [
       "2"
      ]
     },
     "execution_count": 7,
     "metadata": {},
     "output_type": "execute_result"
    }
   ],
   "source": [
    "#3.3\n",
    "12 % 5"
   ]
  },
  {
   "cell_type": "code",
   "execution_count": 8,
   "metadata": {
    "collapsed": true
   },
   "outputs": [],
   "source": [
    "#3.4\n",
    "if z % 2 == 0:\n",
    "    print('even')"
   ]
  },
  {
   "cell_type": "code",
   "execution_count": 9,
   "metadata": {},
   "outputs": [
    {
     "name": "stdout",
     "output_type": "stream",
     "text": [
      "odd\n",
      "negative\n",
      "greater in magnitude than 10\n"
     ]
    }
   ],
   "source": [
    "#3.5\n",
    "if z % 2 == 0:\n",
    "    print('even')\n",
    "else:\n",
    "    print('odd')\n",
    "\n",
    "if z > 0:\n",
    "    print ('positive')\n",
    "elif z < 0:\n",
    "    print('negative')\n",
    "\n",
    "if abs(z) > 10:\n",
    "    print('greater in magnitude than 10')\n"
   ]
  },
  {
   "cell_type": "markdown",
   "metadata": {},
   "source": [
    "4. Lists and Slicing (11 Points)\n",
    "===\n",
    "\n",
    "*Answers these questions in Python. Print your result*\n",
    "\n",
    "1. [2 points] Create a list of all positive even integers less than 20 using the `range` function.\n",
    "2. [1 point] Using the list created above and a slice, print out the third-largest even integer less than 20.\n",
    "3. [2 points] Print out the first 3 integers from your list in question 4.1\n",
    "4. [2 points] Create a list of the integers 1 to 10 and then using the assignment operator (`=`), override the last element to be 100. \n",
    "4. [4 points] Create a list of the integers 1 to 4 and then use a `for` loop print out $2^i$, where $i$ is the elements in your list."
   ]
  },
  {
   "cell_type": "code",
   "execution_count": 10,
   "metadata": {},
   "outputs": [
    {
     "data": {
      "text/plain": [
       "[2, 4, 6, 8, 10, 12, 14, 16, 18]"
      ]
     },
     "execution_count": 10,
     "metadata": {},
     "output_type": "execute_result"
    }
   ],
   "source": [
    "#4.1\n",
    "x = list(range(2,20,2))\n",
    "x"
   ]
  },
  {
   "cell_type": "code",
   "execution_count": 11,
   "metadata": {},
   "outputs": [
    {
     "data": {
      "text/plain": [
       "14"
      ]
     },
     "execution_count": 11,
     "metadata": {},
     "output_type": "execute_result"
    }
   ],
   "source": [
    "#4.2\n",
    "x[-3]"
   ]
  },
  {
   "cell_type": "code",
   "execution_count": 12,
   "metadata": {},
   "outputs": [
    {
     "data": {
      "text/plain": [
       "[2, 4, 6]"
      ]
     },
     "execution_count": 12,
     "metadata": {},
     "output_type": "execute_result"
    }
   ],
   "source": [
    "#4.3\n",
    "x[:3]"
   ]
  },
  {
   "cell_type": "code",
   "execution_count": 13,
   "metadata": {},
   "outputs": [
    {
     "data": {
      "text/plain": [
       "[1, 2, 3, 4, 5, 6, 7, 8, 9, 100]"
      ]
     },
     "execution_count": 13,
     "metadata": {},
     "output_type": "execute_result"
    }
   ],
   "source": [
    "#4.4\n",
    "x = list(range(1,11))\n",
    "x[-1] = 100\n",
    "x"
   ]
  },
  {
   "cell_type": "code",
   "execution_count": 14,
   "metadata": {},
   "outputs": [
    {
     "name": "stdout",
     "output_type": "stream",
     "text": [
      "2\n",
      "4\n",
      "8\n",
      "16\n"
     ]
    }
   ],
   "source": [
    "#4.5\n",
    "x = list(range(1,5))\n",
    "for thing in x:\n",
    "    print(2**thing)"
   ]
  },
  {
   "cell_type": "markdown",
   "metadata": {},
   "source": [
    "5. Numpy (12 Points)\n",
    "====\n",
    "*Answers these questions in Python*\n",
    "\n",
    "When specifying an interval, parenthesis indicate an exclusive end-point and brackets indicate an inclusive end-point. So $\\left(0,1\\right)$ means from 0 to 1, not including 0 or 1. $\\left[0, 1\\right)$ means from 0 to 1 including 0 but not including 1. \n",
    "\n",
    "1. [2 points] Create an array of numbers that goes from $\\left[1, 10\\right)$ in increments of 0.25 using the `arange` function.\n",
    "2. [2 points] Create an array of numbers that goes from $\\left[1, 10\\right)$ in increments of 0.25 using the `linspace` function.\n",
    "3. [2 points] Create an array of 21 numbers that go from $\\left[0,1\\right]$ using the `arange` function.\n",
    "4. [2 points] Create an array of 21 numbers that go from $\\left[0,1\\right]$ using the `linspace` function.\n",
    "5. [4 points] Using an array, print out the first 8 powers of 3 (e.g., $3^0$, $3^1$, $3^2$, etc)"
   ]
  },
  {
   "cell_type": "code",
   "execution_count": 15,
   "metadata": {},
   "outputs": [
    {
     "data": {
      "text/plain": [
       "array([ 1.  ,  1.25,  1.5 ,  1.75,  2.  ,  2.25,  2.5 ,  2.75,  3.  ,\n",
       "        3.25,  3.5 ,  3.75,  4.  ,  4.25,  4.5 ,  4.75,  5.  ,  5.25,\n",
       "        5.5 ,  5.75,  6.  ,  6.25,  6.5 ,  6.75,  7.  ,  7.25,  7.5 ,\n",
       "        7.75,  8.  ,  8.25,  8.5 ,  8.75,  9.  ,  9.25,  9.5 ,  9.75])"
      ]
     },
     "execution_count": 15,
     "metadata": {},
     "output_type": "execute_result"
    }
   ],
   "source": [
    "#5.1\n",
    "import numpy as np\n",
    "np.arange(1, 10, 0.25)"
   ]
  },
  {
   "cell_type": "code",
   "execution_count": 16,
   "metadata": {},
   "outputs": [
    {
     "data": {
      "text/plain": [
       "array([ 1.  ,  1.25,  1.5 ,  1.75,  2.  ,  2.25,  2.5 ,  2.75,  3.  ,\n",
       "        3.25,  3.5 ,  3.75,  4.  ,  4.25,  4.5 ,  4.75,  5.  ,  5.25,\n",
       "        5.5 ,  5.75,  6.  ,  6.25,  6.5 ,  6.75,  7.  ,  7.25,  7.5 ,\n",
       "        7.75,  8.  ,  8.25,  8.5 ,  8.75,  9.  ,  9.25,  9.5 ,  9.75])"
      ]
     },
     "execution_count": 16,
     "metadata": {},
     "output_type": "execute_result"
    }
   ],
   "source": [
    "#5.2\n",
    "np.linspace(1,9.75,36)"
   ]
  },
  {
   "cell_type": "code",
   "execution_count": 17,
   "metadata": {},
   "outputs": [
    {
     "data": {
      "text/plain": [
       "array([ 0.  ,  0.05,  0.1 ,  0.15,  0.2 ,  0.25,  0.3 ,  0.35,  0.4 ,\n",
       "        0.45,  0.5 ,  0.55,  0.6 ,  0.65,  0.7 ,  0.75,  0.8 ,  0.85,\n",
       "        0.9 ,  0.95,  1.  ])"
      ]
     },
     "execution_count": 17,
     "metadata": {},
     "output_type": "execute_result"
    }
   ],
   "source": [
    "#5.3\n",
    "np.arange(0,1.05, 0.05)"
   ]
  },
  {
   "cell_type": "code",
   "execution_count": 18,
   "metadata": {},
   "outputs": [
    {
     "data": {
      "text/plain": [
       "array([ 0.  ,  0.05,  0.1 ,  0.15,  0.2 ,  0.25,  0.3 ,  0.35,  0.4 ,\n",
       "        0.45,  0.5 ,  0.55,  0.6 ,  0.65,  0.7 ,  0.75,  0.8 ,  0.85,\n",
       "        0.9 ,  0.95,  1.  ])"
      ]
     },
     "execution_count": 18,
     "metadata": {},
     "output_type": "execute_result"
    }
   ],
   "source": [
    "#5.4\n",
    "np.linspace(0,1,21)"
   ]
  },
  {
   "cell_type": "code",
   "execution_count": 19,
   "metadata": {},
   "outputs": [
    {
     "name": "stdout",
     "output_type": "stream",
     "text": [
      "[   1    3    9   27   81  243  729 2187]\n"
     ]
    }
   ],
   "source": [
    "#5.5\n",
    "x = np.arange(0,8)\n",
    "print(3**x)"
   ]
  },
  {
   "cell_type": "markdown",
   "metadata": {},
   "source": [
    "6. Plotting (16 Points)\n",
    "===\n",
    "\n",
    "*Answer these in questions in Python. Label your axes as `x-axis` and `y-axis`. *\n",
    "\n",
    "1. [4 points] Make a plot of the cosine from $-pi$ to $0$.\n",
    "\n",
    "2. [4 points] We will see that the equation $e^{-x^2}$ is important in a few weeks. Make a plot of it from -2, to 2. \n",
    "\n",
    "3. [8 pints] Plot $x$, $x^2$, and $x^3$ from -1 to 1. Label your lines with a legend, add a title, use the `seaborn-darkgrid` style, and set the figure size as $4\\times3$."
   ]
  },
  {
   "cell_type": "code",
   "execution_count": 20,
   "metadata": {},
   "outputs": [
    {
     "data": {
      "image/png": "[encoded data removed]",
      "text/plain": [
       "<matplotlib.figure.Figure at 0x7f5a68c91128>"
      ]
     },
     "metadata": {},
     "output_type": "display_data"
    }
   ],
   "source": [
    "%matplotlib inline\n",
    "import matplotlib.pyplot as plt\n",
    "\n",
    "#6.1\n",
    "x = np.linspace(-np.pi, 0, 100)\n",
    "y = np.cos(x)\n",
    "plt.plot(x,y)\n",
    "plt.xlabel('x')\n",
    "plt.ylabel('y')\n",
    "plt.show()"
   ]
  },
  {
   "cell_type": "code",
   "execution_count": 21,
   "metadata": {},
   "outputs": [
    {
     "data": {
      "image/png": "[encoded data removed]",
      "text/plain": [
       "<matplotlib.figure.Figure at 0x7f5a6b9c2588>"
      ]
     },
     "metadata": {},
     "output_type": "display_data"
    }
   ],
   "source": [
    "#6.2\n",
    "x = np.linspace(-2, 2, 100)\n",
    "y = np.exp(-x**2)\n",
    "plt.plot(x,y)\n",
    "plt.xlabel('x')\n",
    "plt.ylabel('y')\n",
    "plt.show()"
   ]
  },
  {
   "cell_type": "code",
   "execution_count": 22,
   "metadata": {},
   "outputs": [
    {
     "data": {
      "image/png": "[encoded data removed]",
      "text/plain": [
       "<matplotlib.figure.Figure at 0x7f5aa4650390>"
      ]
     },
     "metadata": {},
     "output_type": "display_data"
    }
   ],
   "source": [
    "#6.3\n",
    "plt.style.use('seaborn-darkgrid')\n",
    "plt.figure(figsize=(4,3))\n",
    "x = np.linspace(-1, 1, 100)\n",
    "y1 = x\n",
    "y2 = x**2\n",
    "y3 = x**3\n",
    "\n",
    "plt.plot(x,y1, label='x')\n",
    "plt.plot(x,y2, label='x^2')\n",
    "plt.plot(x,y3, label='x^3')\n",
    "plt.xlabel('x')\n",
    "plt.ylabel('y')\n",
    "plt.legend()\n",
    "plt.title('Nice Title')\n",
    "plt.show()"
   ]
  },
  {
   "cell_type": "code",
   "execution_count": null,
   "metadata": {
    "collapsed": true
   },
   "outputs": [],
   "source": []
  }
 ],
 "metadata": {
  "kernelspec": {
   "display_name": "Python 3",
   "language": "python",
   "name": "python3"
  },
  "language_info": {
   "codemirror_mode": {
    "name": "ipython",
    "version": 3
   },
   "file_extension": ".py",
   "mimetype": "text/x-python",
   "name": "python",
   "nbconvert_exporter": "python",
   "pygments_lexer": "ipython3",
   "version": "3.6.2"
  }
 },
 "nbformat": 4,
 "nbformat_minor": 2
}
