{
 "cells": [
  {
   "cell_type": "markdown",
   "metadata": {},
   "source": [
    "# Homework 4\n",
    "#### CHE 116: Numerical Methods and Statistics\n",
    "\n",
    "\n",
    "*(2/6/2020)*\n",
    "\n",
    "----"
   ]
  },
  {
   "cell_type": "markdown",
   "metadata": {},
   "source": [
    "# 1. Lists Problems\n",
    "\n",
    "1. Create a variable called `x` which is a list containing all even numbers less than 100 using the `list(range(...))` syntax. \n",
    "\n",
    "2. Compute the sum of `x` without using a `for` loop\n",
    "\n",
    "3. Compute the sum of `x` with a `for ` loop.\n",
    "\n",
    "4. Print the elements of `x` reversed using a slice\n",
    "\n",
    "5. Print the second half of `x` using the `len(x) // 2` syntax\n",
    "\n",
    "6. Create a new empty list `y`. Using a `for` loop and the `append` keyword, make `y` contain the square of each element of `x`. So it should contain: `[4, 16, ..., ]`."
   ]
  },
  {
   "cell_type": "markdown",
   "metadata": {},
   "source": [
    "# 2. Array Problem\n",
    "\n",
    "1. Create a variable called `a` which is an array containing all even numbers less than 100 using the `numpy` `arange` syntax. \n",
    "\n",
    "2. Compute the sum of `a` without using a `for` loop\n",
    "\n",
    "3. Print the elements of `x` reversed using a slice\n",
    "\n",
    "4. Print the minimum, maximum, and mean elements of `a` using `numpy` functions.\n",
    "\n",
    "5. Print the square of each element in `a` without using a `for` loop or lists. You should just have one line of `numpy` code."
   ]
  },
  {
   "cell_type": "markdown",
   "metadata": {},
   "source": [
    "# 3 Plotting\n",
    "\n",
    "For each problem below, use numpy to create `x` and `y` arrays which are plotted. Be sure to label your x-axis, y-axis, put the problem number as the title, use at least 500 points, make your figures be 4x3 inches, and add a legend if you have more than one line being plotted.\n",
    "\n",
    "1. Plot $y = x^2$ from $-1$ to $1$\n",
    "\n",
    "2. A hanging rope, wire, or chain follows a catenary curve ($y = a\\textrm{cosh}\\frac{x}{a} - a$), although many including Galileo mistakenly believed hanging ropes a parabolas. Compare the catenary and parabolic ($y = x^2$) curves over $-1$ to $1$ where $a = 0.63$.\n",
    "\n",
    "3. Compare the functions $\\cos x$ and $\\cosh x - 1$ from $-\\pi/2$ to $\\pi/2$"
   ]
  },
  {
   "cell_type": "markdown",
   "metadata": {},
   "source": [
    "# 4 Expected Value/Variance\n",
    "\n",
    "\n",
    "Use this probability distribution:\n",
    "\n",
    "$$\n",
    "Q = \\{\\textrm{red},\\textrm{ green}, \\textrm{blue}\\}\n",
    "$$\n",
    "\n",
    "$$\n",
    "P(\\textrm{red}) = 0.1,\\, P(\\textrm{green}) = 0.5,\\, P(\\textrm{blue}),\\, = 0.4\n",
    "$$\n",
    "\n",
    "1. Create a dictionary called `prob` where the key is the colors as a string and the values are the probability.\n",
    "\n",
    "2. Starting with this fragment, show that your probability distribution is normalized.\n",
    "\n",
    "```\n",
    "for key,value in prob.items():\n",
    "    print(key, value)\n",
    "```\n",
    "\n",
    "3. Let's define a random variable $X$ that is 1 for red, 2 for green, and 0 for blue. Using your `for` loop from 4.2, use boolean statements to set a variable $x$ to what the value of $X$ should be using the `key` variable. Print out `key, x`, which should look like `red, 1`, `green, 2`...\n",
    "\n",
    "4. Compute the expected value of `x` using the `for` loop from 4.3\n",
    "\n",
    "5. Compute the variance by hand, showing the steps in Markdown"
   ]
  }
 ],
 "metadata": {
  "kernelspec": {
   "display_name": "Python 3",
   "language": "python",
   "name": "python3"
  },
  "language_info": {
   "codemirror_mode": {
    "name": "ipython",
    "version": 3
   },
   "file_extension": ".py",
   "mimetype": "text/x-python",
   "name": "python",
   "nbconvert_exporter": "python",
   "pygments_lexer": "ipython3",
   "version": "3.7.3"
  }
 },
 "nbformat": 4,
 "nbformat_minor": 2
}
