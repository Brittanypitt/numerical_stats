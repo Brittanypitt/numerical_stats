{
 "cells": [
  {
   "cell_type": "markdown",
   "metadata": {},
   "source": [
    "# Homework 4\n",
    "#### CHE 116: Numerical Methods and Statistics\n",
    "\n",
    "\n",
    "*(2/6/2020)*\n",
    "\n",
    "----"
   ]
  },
  {
   "cell_type": "markdown",
   "metadata": {},
   "source": [
    "# 1. Lists Problems\n",
    "\n",
    "1. [2 points] Create a variable called `x` which is a list containing all even numbers less than 100 using the `list(range(...))` syntax. \n",
    "\n",
    "2. [1 point] Compute the sum of `x` without using a `for` loop\n",
    "\n",
    "3. [4 points] Compute the sum of `x` with a `for ` loop.\n",
    "\n",
    "4. [1 point] Print the elements of `x` reversed using a slice\n",
    "\n",
    "5. [2 point] Print the second half of `x` using the `len(x) // 2` syntax\n",
    "\n",
    "6. [4 points] Create a new empty list `y`. Using a `for` loop and the `append` keyword, make `y` contain the square of each element of `x`. So it should contain: `[4, 16, ..., ]`."
   ]
  },
  {
   "cell_type": "code",
   "execution_count": 1,
   "metadata": {},
   "outputs": [
    {
     "name": "stdout",
     "output_type": "stream",
     "text": [
      "[2, 4, 6, 8, 10, 12, 14, 16, 18, 20, 22, 24, 26, 28, 30, 32, 34, 36, 38, 40, 42, 44, 46, 48, 50, 52, 54, 56, 58, 60, 62, 64, 66, 68, 70, 72, 74, 76, 78, 80, 82, 84, 86, 88, 90, 92, 94, 96, 98]\n"
     ]
    }
   ],
   "source": [
    "#1.1\n",
    "x = list(range(2,100,2))\n",
    "print(x)"
   ]
  },
  {
   "cell_type": "code",
   "execution_count": 2,
   "metadata": {},
   "outputs": [
    {
     "name": "stdout",
     "output_type": "stream",
     "text": [
      "2450\n"
     ]
    }
   ],
   "source": [
    "#1.2\n",
    "print(sum(x))"
   ]
  },
  {
   "cell_type": "code",
   "execution_count": 3,
   "metadata": {},
   "outputs": [
    {
     "name": "stdout",
     "output_type": "stream",
     "text": [
      "2450\n"
     ]
    }
   ],
   "source": [
    "#1.3\n",
    "s = 0\n",
    "for xi in x:\n",
    "    s += xi\n",
    "print(s)"
   ]
  },
  {
   "cell_type": "code",
   "execution_count": 4,
   "metadata": {},
   "outputs": [
    {
     "name": "stdout",
     "output_type": "stream",
     "text": [
      "[98, 96, 94, 92, 90, 88, 86, 84, 82, 80, 78, 76, 74, 72, 70, 68, 66, 64, 62, 60, 58, 56, 54, 52, 50, 48, 46, 44, 42, 40, 38, 36, 34, 32, 30, 28, 26, 24, 22, 20, 18, 16, 14, 12, 10, 8, 6, 4, 2]\n"
     ]
    }
   ],
   "source": [
    "#1.4\n",
    "print(x[::-1])"
   ]
  },
  {
   "cell_type": "code",
   "execution_count": 5,
   "metadata": {},
   "outputs": [
    {
     "name": "stdout",
     "output_type": "stream",
     "text": [
      "[50, 52, 54, 56, 58, 60, 62, 64, 66, 68, 70, 72, 74, 76, 78, 80, 82, 84, 86, 88, 90, 92, 94, 96, 98]\n"
     ]
    }
   ],
   "source": [
    "#1.5\n",
    "print(x[len(x)//2:])"
   ]
  },
  {
   "cell_type": "code",
   "execution_count": 6,
   "metadata": {},
   "outputs": [
    {
     "name": "stdout",
     "output_type": "stream",
     "text": [
      "[4, 16, 36, 64, 100, 144, 196, 256, 324, 400, 484, 576, 676, 784, 900, 1024, 1156, 1296, 1444, 1600, 1764, 1936, 2116, 2304, 2500, 2704, 2916, 3136, 3364, 3600, 3844, 4096, 4356, 4624, 4900, 5184, 5476, 5776, 6084, 6400, 6724, 7056, 7396, 7744, 8100, 8464, 8836, 9216, 9604]\n"
     ]
    }
   ],
   "source": [
    "#1.6\n",
    "y = []\n",
    "for xi in x:\n",
    "    y.append(xi**2)\n",
    "print(y)"
   ]
  },
  {
   "cell_type": "markdown",
   "metadata": {},
   "source": [
    "# 2. Array Problem\n",
    "\n",
    "1. [2 points]  Create a variable called `a` which is an array containing all even numbers less than 100 using the `numpy` `arange` syntax. \n",
    "\n",
    "2. [1 point] Compute the sum of `a` without using a `for` loop\n",
    "\n",
    "3. [1 point] Print the elements of `a` reversed using a slice\n",
    "\n",
    "4. [2 points] Print the minimum, maximum, and mean elements of `a` using `numpy` functions.\n",
    "\n",
    "5. [1 point] Print the square of each element in `a` without using a `for` loop or lists. You should just have one line of `numpy` code."
   ]
  },
  {
   "cell_type": "code",
   "execution_count": 7,
   "metadata": {},
   "outputs": [
    {
     "name": "stdout",
     "output_type": "stream",
     "text": [
      "[ 2  4  6  8 10 12 14 16 18 20 22 24 26 28 30 32 34 36 38 40 42 44 46 48\n",
      " 50 52 54 56 58 60 62 64 66 68 70 72 74 76 78 80 82 84 86 88 90 92 94 96\n",
      " 98]\n"
     ]
    }
   ],
   "source": [
    "#2.1\n",
    "import numpy as np\n",
    "a = np.arange(2,100,2)\n",
    "print(a)"
   ]
  },
  {
   "cell_type": "code",
   "execution_count": 8,
   "metadata": {},
   "outputs": [
    {
     "name": "stdout",
     "output_type": "stream",
     "text": [
      "2450\n"
     ]
    }
   ],
   "source": [
    "#2.2\n",
    "print(np.sum(a))"
   ]
  },
  {
   "cell_type": "code",
   "execution_count": 9,
   "metadata": {},
   "outputs": [
    {
     "name": "stdout",
     "output_type": "stream",
     "text": [
      "[98 96 94 92 90 88 86 84 82 80 78 76 74 72 70 68 66 64 62 60 58 56 54 52\n",
      " 50 48 46 44 42 40 38 36 34 32 30 28 26 24 22 20 18 16 14 12 10  8  6  4\n",
      "  2]\n"
     ]
    }
   ],
   "source": [
    "#2.3\n",
    "print(a[::-1])"
   ]
  },
  {
   "cell_type": "code",
   "execution_count": 10,
   "metadata": {},
   "outputs": [
    {
     "name": "stdout",
     "output_type": "stream",
     "text": [
      "2 98 50.0\n"
     ]
    }
   ],
   "source": [
    "#2.4\n",
    "print(np.min(a), np.max(a), np.mean(a))"
   ]
  },
  {
   "cell_type": "code",
   "execution_count": 11,
   "metadata": {},
   "outputs": [
    {
     "name": "stdout",
     "output_type": "stream",
     "text": [
      "[   4   16   36   64  100  144  196  256  324  400  484  576  676  784\n",
      "  900 1024 1156 1296 1444 1600 1764 1936 2116 2304 2500 2704 2916 3136\n",
      " 3364 3600 3844 4096 4356 4624 4900 5184 5476 5776 6084 6400 6724 7056\n",
      " 7396 7744 8100 8464 8836 9216 9604]\n"
     ]
    }
   ],
   "source": [
    "print(a**2)"
   ]
  },
  {
   "cell_type": "markdown",
   "metadata": {},
   "source": [
    "# 3 Plotting\n",
    "\n",
    "For each problem below, use numpy to create `x` and `y` arrays which are plotted. Be sure to label your x-axis, y-axis, put the problem number as the title, use at least 500 points, make your figures be 4x3 inches, and add a legend if you have more than one line being plotted.\n",
    "\n",
    "1. [6 points] Plot $y = x^2$ from $-1$ to $1$\n",
    "\n",
    "2. [8 points] A hanging rope, wire, or chain follows a catenary curve ($y = a\\textrm{cosh}\\frac{x}{a} - a$), although many including Galileo mistakenly believed hanging ropes a parabolas. Compare the catenary and parabolic ($y = x^2$) curves over $-1$ to $1$ where $a = 0.63$.\n",
    "\n",
    "3. [8 points] Compare the functions $\\cos x$ and $\\cosh x - 1$ from $-\\pi/2$ to $\\pi/2$"
   ]
  },
  {
   "cell_type": "code",
   "execution_count": 12,
   "metadata": {},
   "outputs": [
    {
     "data": {
      "image/png": "[encoded data removed]",
      "text/plain": [
       "<Figure size 288x216 with 1 Axes>"
      ]
     },
     "metadata": {
      "needs_background": "light"
     },
     "output_type": "display_data"
    }
   ],
   "source": [
    "#3.1\n",
    "\n",
    "import matplotlib.pyplot as plt\n",
    "%matplotlib inline\n",
    "\n",
    "x = np.linspace(-1, 1, 500)\n",
    "y = x**2\n",
    "\n",
    "plt.figure(figsize=(4,3))\n",
    "plt.plot(x,y)\n",
    "plt.xlabel('$x$')\n",
    "plt.ylabel('$y$')\n",
    "plt.title('Problem 3.1')\n",
    "plt.show()"
   ]
  },
  {
   "cell_type": "code",
   "execution_count": 19,
   "metadata": {},
   "outputs": [
    {
     "data": {
      "image/png": "[encoded data removed]",
      "text/plain": [
       "<Figure size 288x216 with 1 Axes>"
      ]
     },
     "metadata": {
      "needs_background": "light"
     },
     "output_type": "display_data"
    }
   ],
   "source": [
    "# 3.2\n",
    "x = np.linspace(-1, 1, 500)\n",
    "a = 0.62\n",
    "y2 = a * np.cosh(x / a) - a\n",
    "\n",
    "plt.figure(figsize=(4,3))\n",
    "plt.plot(x,y, label='Parabolic')\n",
    "plt.plot(x,y2, label='Catenary')\n",
    "plt.legend()\n",
    "plt.xlabel('$x$')\n",
    "plt.ylabel('$y$')\n",
    "plt.title('Problem 3.2')\n",
    "plt.show()"
   ]
  },
  {
   "cell_type": "code",
   "execution_count": 20,
   "metadata": {},
   "outputs": [
    {
     "data": {
      "image/png": "[encoded data removed]",
      "text/plain": [
       "<Figure size 288x216 with 1 Axes>"
      ]
     },
     "metadata": {
      "needs_background": "light"
     },
     "output_type": "display_data"
    }
   ],
   "source": [
    "#3.3\n",
    "\n",
    "x = np.linspace(-np.pi/2, np.pi/2, 500)\n",
    "y1 = np.cos(x)\n",
    "y2 = np.cosh(x) - 1\n",
    "\n",
    "plt.figure(figsize=(4,3))\n",
    "plt.plot(x,y1, label='$\\cos x$')\n",
    "plt.plot(x,y2, label='$\\cosh x$')\n",
    "plt.legend()\n",
    "plt.xlabel('$x$')\n",
    "plt.ylabel('$y$')\n",
    "plt.title('Problem 3.3')\n",
    "plt.show()"
   ]
  },
  {
   "cell_type": "markdown",
   "metadata": {},
   "source": [
    "# 4 Expected Value/Variance\n",
    "\n",
    "\n",
    "Use this probability distribution:\n",
    "\n",
    "$$\n",
    "Q = \\{\\textrm{red},\\textrm{ green}, \\textrm{blue}\\}\n",
    "$$\n",
    "\n",
    "$$\n",
    "P(\\textrm{red}) = 0.1,\\, P(\\textrm{green}) = 0.5,\\, P(\\textrm{blue}),\\, = 0.4\n",
    "$$\n",
    "\n",
    "1. [2 points] Create a dictionary called `prob` where the key is the colors as a string and the values are the probability.\n",
    "\n",
    "2. [4 points] Starting with this fragment, show that your probability distribution is normalized.\n",
    "\n",
    "```\n",
    "for key,value in prob.items():\n",
    "    print(key, value)\n",
    "```\n",
    "\n",
    "3. [4 points] Let's define a random variable $X$ that is 1 for red, 2 for green, and 0 for blue. Using your `for` loop from 4.2, use boolean statements to set a variable $x$ to what the value of $X$ should be using the `key` variable. Print out `key, x`, which should look like `red, 1`, `green, 2`...\n",
    "\n",
    "4. [4 points] Compute the expected value of `x` using the `for` loop from 4.3\n",
    "\n",
    "5. [4 points] Compute the variance by hand, showing the steps in Markdown"
   ]
  },
  {
   "cell_type": "code",
   "execution_count": 15,
   "metadata": {},
   "outputs": [],
   "source": [
    "#4.1\n",
    "prob = {'red': 0.1, 'green': 0.5, 'blue': 0.4}"
   ]
  },
  {
   "cell_type": "code",
   "execution_count": 16,
   "metadata": {},
   "outputs": [
    {
     "name": "stdout",
     "output_type": "stream",
     "text": [
      "1.0\n"
     ]
    }
   ],
   "source": [
    "#4.2\n",
    "psum = 0\n",
    "for key, value in prob.items():\n",
    "    psum += value\n",
    "print(psum)"
   ]
  },
  {
   "cell_type": "code",
   "execution_count": 17,
   "metadata": {},
   "outputs": [
    {
     "name": "stdout",
     "output_type": "stream",
     "text": [
      "red 1\n",
      "green 2\n",
      "blue 0\n"
     ]
    }
   ],
   "source": [
    "#4.3\n",
    "for key,value in prob.items():\n",
    "    x = 0\n",
    "    if key == 'red':\n",
    "        x = 1\n",
    "    elif key == 'green':\n",
    "        x = 2\n",
    "    print(key, x)"
   ]
  },
  {
   "cell_type": "code",
   "execution_count": 18,
   "metadata": {},
   "outputs": [
    {
     "name": "stdout",
     "output_type": "stream",
     "text": [
      "1.1\n"
     ]
    }
   ],
   "source": [
    "#4.4\n",
    "ev = 0\n",
    "for key,value in prob.items():\n",
    "    x = 0\n",
    "    if key == 'red':\n",
    "        x = 1\n",
    "    elif key == 'green':\n",
    "        x = 2\n",
    "    ev += x * value\n",
    "print(ev)"
   ]
  },
  {
   "cell_type": "markdown",
   "metadata": {},
   "source": [
    "### 4.5\n",
    "\n",
    "$$\n",
    "Var(x) = E[x^2] - E[x]^2\n",
    "$$\n",
    "\n",
    "$$\n",
    "E[x] = \\sum_Q X(q)P(q)\n",
    "$$\n",
    "\n",
    "$$\n",
    "E[x] = 1 \\times 0.1 + 2 \\times 0.5 + 0 \\times 0.4 = 1.1\n",
    "$$\n",
    "\n",
    "$$\n",
    "E[x] = 1^2 \\times 0.1 + 2^2 \\times 0.5 + 0^2 \\times 0.4 = 2.1\n",
    "$$\n",
    "\n",
    "$$\n",
    "Var(x) = 2.1 - 1.1^2 = 0.89\n",
    "$$"
   ]
  }
 ],
 "metadata": {
  "kernelspec": {
   "display_name": "Python 3",
   "language": "python",
   "name": "python3"
  },
  "language_info": {
   "codemirror_mode": {
    "name": "ipython",
    "version": 3
   },
   "file_extension": ".py",
   "mimetype": "text/x-python",
   "name": "python",
   "nbconvert_exporter": "python",
   "pygments_lexer": "ipython3",
   "version": "3.7.3"
  }
 },
 "nbformat": 4,
 "nbformat_minor": 2
}
