








<!DOCTYPE html>
<html lang="en">

<head>
  <meta charset="utf-8">
  <title>Jupyter Notebook Viewer</title>
  <meta name="viewport" content="width=device-width, initial-scale=1.0">
  <meta name="description" content="">
  <meta name="author" content="">
  
  <meta name="robots" content="noindex,nofollow">
  

  <!--NEW RELIC Start Perf Measurement-->
  
  <!--NREND-->

  <!-- Le styles -->
  <script type="text/javascript">
//<![CDATA[
try{if (!window.CloudFlare) {var CloudFlare=[{verbose:0,p:0,byc:0,owlid:"cf",bag2:1,mirage2:0,oracle:0,paths:{cloudflare:"/cdn-cgi/nexp/dok3v=1613a3a185/"},atok:"d5780763e19e7d19f23070ae83c9af3a",petok:"2591a9de516994da78cfb95f86c7893479073360-1487082635-1800",zone:"jupyter.org",rocket:"0",apps:{"ga_key":{"ua":"UA-52617120-5","ga_bs":"2"}}}];!function(a,b){a=document.createElement("script"),b=document.getElementsByTagName("script")[0],a.async=!0,a.src="//ajax.cloudflare.com/cdn-cgi/nexp/dok3v=f2befc48d1/cloudflare.min.js",b.parentNode.insertBefore(a,b)}()}}catch(e){};
//]]>
</script>
<link href="/static/build/styles.css?v=c18d49652a516277e15114bbd447f1c1" rel="stylesheet">

  <!-- Le HTML5 shim, for IE6-8 support of HTML5 elements -->
  <!--[if lt IE 9]>
    <script src="http://html5shim.googlecode.com/svn/trunk/html5.js"></script>
  <![endif]-->

  <!-- Le fav and touch icons -->
  <link rel="shortcut icon" href="/static/ico/ipynb_icon_16x16.png">
  <link rel="apple-touch-icon-precomposed" sizes="144x144"
        href="/static/ico/apple-touch-icon-144-precomposed.png?v=5a3c9ede93e2a8b8ea9e3f8f3da1a905">
  <link rel="apple-touch-icon-precomposed" sizes="114x114"
        href="/static/ico/apple-touch-icon-114-precomposed.png?v=45d86fc8f24dc00638035e1dd7a6d898">
  <link rel="apple-touch-icon-precomposed" sizes="72x72"
        href="/static/ico/apple-touch-icon-72-precomposed.png?v=540b5eb0f3cfd25f1439d1c9bd30e15f">
  <link rel="apple-touch-icon-precomposed"
        href="/static/ico/apple-touch-icon-57-precomposed.png?v=225f0590e187e1458625654f10a28f56">
  
  

  

  
  <meta name="twitter:card" content="summary">
  <meta name="twitter:title" content="Notebook on nbviewer">
  <meta name="twitter:description" content="Check out this Jupyter notebook!">

  
  <meta name="twitter:domain" content="nbviewer.ipython.org">
  <meta name="twitter:image:src" content="http://ipython.org/ipython-doc/dev/_images/ipynb_icon_128x128.png">

  
    <link href="/static/build/notebook.css?v=f5b9901b9b1ce080900a843637976afe" rel="stylesheet">
  

  

  
    <script src="https://cdn.mathjax.org/mathjax/latest/MathJax.js?config=TeX-AMS_HTML" type="text/javascript">
    </script>
    <script type="text/javascript">
      init_mathjax = function() {
        if (window.MathJax) {
          // MathJax loaded
          MathJax.Hub.Config({
            TeX: {
              equationNumbers: {
                autoNumber: "AMS",
                useLabelIds: true
              }
            },
            tex2jax: {
              inlineMath: [ ['$','$'], ["\\(","\\)"] ],
              displayMath: [ ['$$','$$'], ["\\[","\\]"] ],
              processEscapes: true,
              processEnvironments: true
            },
            displayAlign: 'center',
            "HTML-CSS": {
              styles: {'.MathJax_Display': {"margin": 0}},
              linebreaks: { automatic: true }
            }
          });
          MathJax.Hub.Queue(["Typeset", MathJax.Hub]);
        }
      }
      init_mathjax();
    </script>
  

<script type="text/javascript">
/* <![CDATA[ */
var _gaq = _gaq || [];
_gaq.push(['_setAccount', 'UA-52617120-5']);
_gaq.push(['_trackPageview']);

(function() {
var ga = document.createElement('script'); ga.type = 'text/javascript'; ga.async = true;
ga.src = ('https:' == document.location.protocol ? 'https://ssl' : 'http://www') + '.google-analytics.com/ga.js';
var s = document.getElementsByTagName('script')[0]; s.parentNode.insertBefore(ga, s);
})();

(function(b){(function(a){"__CF"in b&&"DJS"in b.__CF?b.__CF.DJS.push(a):"addEventListener"in b?b.addEventListener("load",a,!1):b.attachEvent("onload",a)})(function(){"FB"in b&&"Event"in FB&&"subscribe"in FB.Event&&(FB.Event.subscribe("edge.create",function(a){_gaq.push(["_trackSocial","facebook","like",a])}),FB.Event.subscribe("edge.remove",function(a){_gaq.push(["_trackSocial","facebook","unlike",a])}),FB.Event.subscribe("message.send",function(a){_gaq.push(["_trackSocial","facebook","send",a])}));"twttr"in b&&"events"in twttr&&"bind"in twttr.events&&twttr.events.bind("tweet",function(a){if(a){var b;if(a.target&&a.target.nodeName=="IFRAME")a:{if(a=a.target.src){a=a.split("#")[0].match(/[^?=&]+=([^&]*)?/g);b=0;for(var c;c=a[b];++b)if(c.indexOf("url")===0){b=unescape(c.split("=")[1]);break a}}b=void 0}_gaq.push(["_trackSocial","twitter","tweet",b])}})})})(window);
/* ]]> */
</script>
</head>

<body class="nbviewer">

  <!-- These are loaded at the top of the body so they are available to
       notebook cells when they are loaded below. -->
  <script src="/static/components/jquery/dist/jquery.min.js?v=e071abda8fe61194711cfc2ab99fe104"></script>
  <script src="/static/components/requirejs/require.js?v=6da8be361b9ee26c5e721e76c6d4afce"></script>
  <script src="/static/components/moment/min/moment.min.js?v=89f87298ad94aa1e6b92f42eb66da043"></script>

<!-- Navbar
================================================== -->
  <nav id="menubar" class="navbar navbar-default navbar-fixed-top" data-spy="affix">
    <div class="container">
      <div class="navbar-header">
        <button type="button" class="navbar-toggle collapsed" data-toggle="collapse" data-target=".navbar-collapse">
          <span class="sr-only">Toggle navigation</span>
          <i class="fa fa-bars"></i>
        </button>
        <a class="navbar-brand" href="/">
          <img src="/static/img/nav_logo.svg?v=479cefe8d932fb14a67b93911b97d70f" width="159"/>
        </a>
      </div>

      <div class="collapse navbar-collapse">
        <ul class="nav navbar-nav navbar-right">
          <li>
            <a class="active" href="http://jupyter.org">JUPYTER</a>
          </li>
          <li>
    <a href="/faq" title="FAQ" >
      
        <span>FAQ</span>
      
    </a>
  </li>

          
  
    
      
        <li>
    <a href="/format/script/url/thewhitelab.org/Classes/CHE116/Unit_4/Homework_4_Key.ipynb" title="View as Code" >
      <span class="fa fa- fa-2x menu-icon"></span>
      <span class="menu-text">View as Code</span>
    </a>
  </li>
      
    
  
    
  

  

  

  <li>
    <a href="http://thewhitelab.org/Classes/CHE116/Unit_4/Homework_4_Key.ipynb" title="Download Notebook" download>
      <span class="fa fa-download fa-2x menu-icon"></span>
      <span class="menu-text">Download Notebook</span>
    </a>
  </li>

        </ul>
      </div><!-- /.navbar-collapse -->
      
      
    </div>
  </nav>

  <div class="container container-main">
    
  
  <div id="notebook">
    <div id="notebook-container">
      
<div class="cell border-box-sizing text_cell rendered">
<div class="prompt input_prompt">
</div>
<div class="inner_cell">
<div class="text_cell_render border-box-sizing rendered_html">
<h1 id="Homework-4">Homework 4<a class="anchor-link" href="#Homework-4">&#182;</a></h1><h4 id="CHE-116:-Numerical-Methods-and-Statistics">CHE 116: Numerical Methods and Statistics<a class="anchor-link" href="#CHE-116:-Numerical-Methods-and-Statistics">&#182;</a></h4><p>Prof. Andrew White</p>
<p>Version 1.1(2/5/2015)</p>
<hr>

</div>
</div>
</div>
<div class="cell border-box-sizing text_cell rendered">
<div class="prompt input_prompt">
</div>
<div class="inner_cell">
<div class="text_cell_render border-box-sizing rendered_html">
<h1 id="1.-Plotting-Practice-(6-Points)">1. Plotting Practice (6 Points)<a class="anchor-link" href="#1.-Plotting-Practice-(6-Points)">&#182;</a></h1><p>Create a plot of $\sin(2x)$ and $\sin(x)$ from $0$ to $2\pi$ with the following properties:</p>
<ol>
<li>In Seaborn in the "Poster" context</li>
<li>LaTeX equations labeling the two curves</li>
<li>A Vertical line at $\pi$ that is the color of the same sine wave</li>
<li>A legend</li>
<li>An $x$ and $y$ label</li>
<li>A title that says "I love Python"</li>
</ol>

</div>
</div>
</div>
<div class="cell border-box-sizing code_cell rendered">
<div class="input">
<div class="prompt input_prompt">In&nbsp;[1]:</div>
<div class="inner_cell">
    <div class="input_area">
<div class=" highlight hl-ipython3"><pre><span></span><span class="o">%</span><span class="k">matplotlib</span> inline
<span class="kn">import</span> <span class="nn">numpy</span> <span class="k">as</span> <span class="nn">np</span>
<span class="kn">import</span> <span class="nn">matplotlib.pyplot</span> <span class="k">as</span> <span class="nn">plt</span>
<span class="kn">from</span> <span class="nn">math</span> <span class="k">import</span> <span class="n">pi</span>
<span class="kn">import</span> <span class="nn">seaborn</span>

<span class="n">seaborn</span><span class="o">.</span><span class="n">set_context</span><span class="p">(</span><span class="s2">&quot;talk&quot;</span><span class="p">)</span>

<span class="n">x</span> <span class="o">=</span> <span class="n">np</span><span class="o">.</span><span class="n">linspace</span><span class="p">(</span><span class="mi">0</span><span class="p">,</span> <span class="mi">2</span><span class="o">*</span><span class="n">pi</span><span class="p">,</span> <span class="mi">250</span><span class="p">)</span>
              
<span class="n">y1</span> <span class="o">=</span> <span class="n">np</span><span class="o">.</span><span class="n">sin</span><span class="p">(</span><span class="n">x</span><span class="p">)</span>
<span class="n">y2</span> <span class="o">=</span> <span class="n">np</span><span class="o">.</span><span class="n">sin</span><span class="p">(</span><span class="mi">2</span><span class="o">*</span><span class="n">x</span><span class="p">)</span>
<span class="n">plt</span><span class="o">.</span><span class="n">xlim</span><span class="p">(</span><span class="mi">0</span><span class="p">,</span> <span class="mi">2</span><span class="o">*</span><span class="n">pi</span><span class="p">)</span>

<span class="n">plt</span><span class="o">.</span><span class="n">xlabel</span><span class="p">(</span><span class="s1">&#39;$x$&#39;</span><span class="p">)</span>
<span class="n">plt</span><span class="o">.</span><span class="n">ylabel</span><span class="p">(</span><span class="s1">&#39;$sine$   $wave$&#39;</span><span class="p">)</span>
<span class="n">plt</span><span class="o">.</span><span class="n">plot</span><span class="p">(</span><span class="n">x</span><span class="p">,</span> <span class="n">y1</span><span class="p">,</span> <span class="n">label</span><span class="o">=</span><span class="s1">&#39;$sin(x)$&#39;</span><span class="p">)</span>
<span class="n">lines1</span> <span class="o">=</span> <span class="n">plt</span><span class="o">.</span><span class="n">plot</span><span class="p">(</span><span class="n">x</span><span class="p">,</span> <span class="n">y2</span><span class="p">,</span> <span class="n">label</span><span class="o">=</span><span class="s1">&#39;$sin(2x)$&#39;</span><span class="p">)</span>
<span class="c1"># A backslace, \, allows you to wrap a line</span>
<span class="n">plt</span><span class="o">.</span><span class="n">vlines</span><span class="p">(</span><span class="n">x</span><span class="o">=</span><span class="n">pi</span><span class="p">,</span> <span class="n">ymin</span><span class="o">=-</span><span class="mf">1.5</span><span class="p">,</span> <span class="n">ymax</span><span class="o">=</span><span class="mf">1.5</span><span class="p">,</span> <span class="n">label</span><span class="o">=</span><span class="s1">&#39;$x=\pi$&#39;</span><span class="p">,</span> <span class="n">color</span><span class="o">=</span><span class="n">lines1</span><span class="p">[</span><span class="mi">0</span><span class="p">]</span><span class="o">.</span><span class="n">get_color</span><span class="p">())</span>
<span class="n">plt</span><span class="o">.</span><span class="n">xlabel</span><span class="p">(</span><span class="s1">&#39;$x$&#39;</span><span class="p">)</span>
<span class="n">plt</span><span class="o">.</span><span class="n">ylabel</span><span class="p">(</span><span class="s1">&#39;$y$&#39;</span><span class="p">)</span>
<span class="n">plt</span><span class="o">.</span><span class="n">title</span><span class="p">(</span><span class="s1">u&#39;Me Gusta el Pitón!!!&#39;</span><span class="p">)</span>
<span class="n">plt</span><span class="o">.</span><span class="n">legend</span><span class="p">(</span><span class="n">loc</span><span class="o">=</span><span class="s1">&#39;lower left&#39;</span><span class="p">)</span>
<span class="n">plt</span><span class="o">.</span><span class="n">show</span><span class="p">()</span>
</pre></div>

</div>
</div>
</div>

<div class="output_wrapper">
<div class="output">


<div class="output_area"><div class="prompt"></div>


<div class="output_png output_subarea ">
<img src="data:image/png;base64,iVBORw0KGgoAAAANSUhEUgAAAocAAAHWCAYAAAAFLiMtAAAABHNCSVQICAgIfAhkiAAAAAlwSFlz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"
>
</div>

</div>

</div>
</div>

</div>
<div class="cell border-box-sizing text_cell rendered">
<div class="prompt input_prompt">
</div>
<div class="inner_cell">
<div class="text_cell_render border-box-sizing rendered_html">
<h1 id="2.-Working-with-Data-(5-Points)">2. Working with Data (5 Points)<a class="anchor-link" href="#2.-Working-with-Data-(5-Points)">&#182;</a></h1><p>Make sure you have downloaded the Excel spreadsheet for this week's homework. The data in the spreadsheet is from a 4-plate hydrogen fuel cell. The cell below loads the data. Run the cell and then write your own python code in subsequent cells.</p>
<ol>
<li>Using a <code>for</code> loop, calculate the sample mean of Power of the fuel cell.</li>
<li>Using the numpy <code>mean</code> function, calculate the sample mean of the Power of the fuel cell.</li>
<li>Use a <code>for</code> loop to calculate the standard deviation of the Power of the fuel cell.</li>
<li>Using the numpy <code>var</code> function, calculate the standard deviation of the Power of the fuel cell. </li>
<li>Your answers between 2.3 and 2.4 should be slightly different. Why?</li>
</ol>

</div>
</div>
</div>
<div class="cell border-box-sizing code_cell rendered">
<div class="input">
<div class="prompt input_prompt">In&nbsp;[2]:</div>
<div class="inner_cell">
    <div class="input_area">
<div class=" highlight hl-ipython3"><pre><span></span><span class="o">%</span><span class="k">matplotlib</span> inline
<span class="kn">import</span> <span class="nn">pandas</span> <span class="k">as</span> <span class="nn">pd</span>
<span class="kn">import</span> <span class="nn">numpy</span> <span class="k">as</span> <span class="nn">np</span>
<span class="kn">import</span> <span class="nn">matplotlib.pyplot</span> <span class="k">as</span> <span class="nn">plt</span>
<span class="kn">import</span> <span class="nn">seaborn</span>
<span class="n">seaborn</span><span class="o">.</span><span class="n">set_context</span><span class="p">(</span><span class="s2">&quot;poster&quot;</span><span class="p">)</span>

<span class="c1">#load the fuel cell data</span>
<span class="n">fuel_data</span> <span class="o">=</span> <span class="n">pd</span><span class="o">.</span><span class="n">read_excel</span><span class="p">(</span><span class="s1">&#39;fuel_cell.xlsx&#39;</span><span class="p">)</span>

<span class="c1">#show the columns</span>
<span class="k">for</span> <span class="n">i</span> <span class="ow">in</span> <span class="n">fuel_data</span><span class="o">.</span><span class="n">columns</span><span class="p">:</span>
    <span class="nb">print</span> <span class="s1">&#39;</span><span class="se">\&#39;</span><span class="si">{}</span><span class="se">\&#39;</span><span class="s1">&#39;</span><span class="o">.</span><span class="n">format</span><span class="p">(</span><span class="n">i</span><span class="p">)</span>
</pre></div>

</div>
</div>
</div>

<div class="output_wrapper">
<div class="output">


<div class="output_area"><div class="prompt"></div>
<div class="output_subarea output_stream output_stdout output_text">
<pre>&#39;Time&#39;
&#39;Voltage&#39;
&#39;Current&#39;
&#39;Power&#39;
&#39;Efficiency&#39;
&#39;Resistance&#39;
&#39;Control Sig&#39;
&#39;Fan %&#39;
&#39;H2 In&#39;
&#39;H2 Out&#39;
&#39;Cell 1&#39;
&#39;Cell 2&#39;
&#39;Cell 3&#39;
&#39;Cell 4&#39;
&#39;RH %&#39;
&#39;Temperature&#39;
</pre>
</div>
</div>

</div>
</div>

</div>
<div class="cell border-box-sizing code_cell rendered">
<div class="input">
<div class="prompt input_prompt">In&nbsp;[4]:</div>
<div class="inner_cell">
    <div class="input_area">
<div class=" highlight hl-ipython3"><pre><span></span><span class="c1">#This is how you access data</span>
<span class="nb">print</span> <span class="n">fuel_data</span><span class="p">[</span><span class="s1">&#39;Time&#39;</span><span class="p">]</span>
</pre></div>

</div>
</div>
</div>

<div class="output_wrapper">
<div class="output">


<div class="output_area"><div class="prompt"></div>
<div class="output_subarea output_stream output_stdout output_text">
<pre>0     3691.651
1     3693.891
2     3696.715
3     3699.508
4     3702.460
5     3705.275
6     3707.923
7     3710.187
8     3712.795
9     3715.428
10    3718.260
11    3721.035
12    3723.707
13    3725.963
14    3728.203
...
662    5496.243
663    5499.492
664    5502.652
665    5505.819
666    5508.987
667    5512.171
668    5514.691
669    5516.948
670    5519.284
671    5522.412
672    5525.595
673    5528.739
674    5531.987
675    5535.188
676    5538.324
Name: Time, Length: 677, dtype: float64
</pre>
</div>
</div>

</div>
</div>

</div>
<div class="cell border-box-sizing text_cell rendered">
<div class="prompt input_prompt">
</div>
<div class="inner_cell">
<div class="text_cell_render border-box-sizing rendered_html">
<h4 id="2.1-Answer">2.1 Answer<a class="anchor-link" href="#2.1-Answer">&#182;</a></h4>
</div>
</div>
</div>
<div class="cell border-box-sizing code_cell rendered">
<div class="input">
<div class="prompt input_prompt">In&nbsp;[5]:</div>
<div class="inner_cell">
    <div class="input_area">
<div class=" highlight hl-ipython3"><pre><span></span><span class="c1">#Ex2.1</span>
<span class="nb">sum</span><span class="o">=</span><span class="mi">0</span>
<span class="n">power</span><span class="o">=</span><span class="n">fuel_data</span><span class="p">[</span><span class="s1">&#39;Power&#39;</span><span class="p">]</span>
<span class="n">totalnumber</span><span class="o">=</span><span class="nb">len</span><span class="p">(</span><span class="n">power</span><span class="p">)</span>
<span class="k">for</span> <span class="n">i</span> <span class="ow">in</span> <span class="n">power</span><span class="p">:</span>
    <span class="nb">sum</span><span class="o">+=</span><span class="n">i</span>
<span class="nb">print</span> <span class="nb">sum</span><span class="o">/</span><span class="n">totalnumber</span><span class="p">,</span> <span class="nb">sum</span><span class="o">/</span><span class="mi">676</span>
</pre></div>

</div>
</div>
</div>

<div class="output_wrapper">
<div class="output">


<div class="output_area"><div class="prompt"></div>
<div class="output_subarea output_stream output_stdout output_text">
<pre>0.898273435746 0.899602242604
</pre>
</div>
</div>

</div>
</div>

</div>
<div class="cell border-box-sizing text_cell rendered">
<div class="prompt input_prompt">
</div>
<div class="inner_cell">
<div class="text_cell_render border-box-sizing rendered_html">
<h4 id="2.2-Answer">2.2 Answer<a class="anchor-link" href="#2.2-Answer">&#182;</a></h4>
</div>
</div>
</div>
<div class="cell border-box-sizing code_cell rendered">
<div class="input">
<div class="prompt input_prompt">In&nbsp;[6]:</div>
<div class="inner_cell">
    <div class="input_area">
<div class=" highlight hl-ipython3"><pre><span></span><span class="c1">#Ex 2.2</span>
<span class="n">mu</span><span class="o">=</span><span class="n">np</span><span class="o">.</span><span class="n">mean</span><span class="p">(</span><span class="n">power</span><span class="p">)</span>
<span class="nb">print</span> <span class="n">mu</span>
</pre></div>

</div>
</div>
</div>

<div class="output_wrapper">
<div class="output">


<div class="output_area"><div class="prompt"></div>
<div class="output_subarea output_stream output_stdout output_text">
<pre>0.898273435746
</pre>
</div>
</div>

</div>
</div>

</div>
<div class="cell border-box-sizing text_cell rendered">
<div class="prompt input_prompt">
</div>
<div class="inner_cell">
<div class="text_cell_render border-box-sizing rendered_html">
<h4 id="2.3-Answer">2.3 Answer<a class="anchor-link" href="#2.3-Answer">&#182;</a></h4>
</div>
</div>
</div>
<div class="cell border-box-sizing code_cell rendered">
<div class="input">
<div class="prompt input_prompt">In&nbsp;[8]:</div>
<div class="inner_cell">
    <div class="input_area">
<div class=" highlight hl-ipython3"><pre><span></span><span class="c1"># Ex 2.3</span>
<span class="kn">import</span>  <span class="nn">math</span>

<span class="n">sume</span><span class="o">=</span><span class="mi">0</span>
<span class="k">for</span> <span class="n">i</span> <span class="ow">in</span> <span class="n">power</span><span class="p">:</span>
    <span class="n">sume</span><span class="o">+=</span><span class="p">(</span><span class="n">i</span><span class="o">-</span><span class="n">mu</span><span class="p">)</span><span class="o">**</span><span class="mi">2</span>
<span class="nb">print</span> <span class="n">math</span><span class="o">.</span><span class="n">sqrt</span><span class="p">(</span><span class="n">sume</span><span class="o">/</span><span class="p">(</span><span class="n">totalnumber</span><span class="o">-</span><span class="mi">1</span><span class="p">))</span>
<span class="nb">print</span> <span class="n">math</span><span class="o">.</span><span class="n">sqrt</span><span class="p">(</span><span class="n">np</span><span class="o">.</span><span class="n">var</span><span class="p">(</span><span class="n">power</span><span class="p">,</span> <span class="n">ddof</span><span class="o">=</span><span class="mi">1</span><span class="p">))</span>
</pre></div>

</div>
</div>
</div>

<div class="output_wrapper">
<div class="output">


<div class="output_area"><div class="prompt"></div>
<div class="output_subarea output_stream output_stdout output_text">
<pre>0.0123478111501
0.01234781115
</pre>
</div>
</div>

</div>
</div>

</div>
<div class="cell border-box-sizing text_cell rendered">
<div class="prompt input_prompt">
</div>
<div class="inner_cell">
<div class="text_cell_render border-box-sizing rendered_html">
<h4 id="2.4-Answer">2.4 Answer<a class="anchor-link" href="#2.4-Answer">&#182;</a></h4>
</div>
</div>
</div>
<div class="cell border-box-sizing code_cell rendered">
<div class="input">
<div class="prompt input_prompt">In&nbsp;[8]:</div>
<div class="inner_cell">
    <div class="input_area">
<div class=" highlight hl-ipython3"><pre><span></span><span class="c1">#Ex 2.4</span>
<span class="n">var</span><span class="o">=</span> <span class="n">np</span><span class="o">.</span><span class="n">var</span><span class="p">(</span><span class="n">power</span><span class="p">)</span>
<span class="nb">print</span> <span class="n">math</span><span class="o">.</span><span class="n">sqrt</span><span class="p">(</span><span class="n">var</span><span class="p">)</span>
</pre></div>

</div>
</div>
</div>

<div class="output_wrapper">
<div class="output">


<div class="output_area"><div class="prompt"></div>
<div class="output_subarea output_stream output_stdout output_text">
<pre>0.0123386882739
</pre>
</div>
</div>

</div>
</div>

</div>
<div class="cell border-box-sizing text_cell rendered">
<div class="prompt input_prompt">
</div>
<div class="inner_cell">
<div class="text_cell_render border-box-sizing rendered_html">
<h4 id="2.5-Answer">2.5 Answer<a class="anchor-link" href="#2.5-Answer">&#182;</a></h4>
</div>
</div>
</div>
<div class="cell border-box-sizing text_cell rendered">
<div class="prompt input_prompt">
</div>
<div class="inner_cell">
<div class="text_cell_render border-box-sizing rendered_html">
<p>2.3 divides by N and 2.4 divides by $(N-1)$</p>

</div>
</div>
</div>
<div class="cell border-box-sizing text_cell rendered">
<div class="prompt input_prompt">
</div>
<div class="inner_cell">
<div class="text_cell_render border-box-sizing rendered_html">
<h1 id="3.-Watching-Youtube-with-the-Geometric-Distribution-(3-Points)">3. Watching Youtube with the Geometric Distribution (3 Points)<a class="anchor-link" href="#3.-Watching-Youtube-with-the-Geometric-Distribution-(3-Points)">&#182;</a></h1><p>Write what quantity the question asks for symbolically, write the equation you need to compute symbolically (if necessary) and compute your answer in Python.</p>
<ol>
<li><p>You accidentally open youtube while doing your homework. After watching one video, you find another interesting video you must watch with probability 75%. What is the probability you return to your homework after 1 video?</p>
</li>
<li><p>What is the probability you return to your homework after exactly 5 videos?</p>
</li>
<li><p>What is the expected number of videos you will watch? You may use any method to compute this.</p>
</li>
</ol>

</div>
</div>
</div>
<div class="cell border-box-sizing text_cell rendered">
<div class="prompt input_prompt">
</div>
<div class="inner_cell">
<div class="text_cell_render border-box-sizing rendered_html">
<h4 id="3.1-Answer">3.1 Answer<a class="anchor-link" href="#3.1-Answer">&#182;</a></h4><p>Given:
$p=1-0.75$ - probability of not finding a video that you will watch.</p>
<p>$P(n)=(1-p)^{(n-1)}\times p$</p>
<p>$n = 1$ because we have success (go back to HW) on the first video.</p>

</div>
</div>
</div>
<div class="cell border-box-sizing code_cell rendered">
<div class="input">
<div class="prompt input_prompt">In&nbsp;[9]:</div>
<div class="inner_cell">
    <div class="input_area">
<div class=" highlight hl-ipython3"><pre><span></span><span class="n">n</span><span class="o">=</span><span class="mi">1</span>
<span class="n">p</span><span class="o">=</span><span class="mf">0.25</span>
<span class="n">P</span><span class="o">=</span><span class="p">(</span><span class="mi">1</span><span class="o">-</span><span class="n">p</span><span class="p">)</span><span class="o">**</span><span class="p">(</span><span class="n">n</span><span class="o">-</span><span class="mi">1</span><span class="p">)</span><span class="o">*</span><span class="n">p</span>
<span class="nb">print</span> <span class="n">P</span>
</pre></div>

</div>
</div>
</div>

<div class="output_wrapper">
<div class="output">


<div class="output_area"><div class="prompt"></div>
<div class="output_subarea output_stream output_stdout output_text">
<pre>0.25
</pre>
</div>
</div>

</div>
</div>

</div>
<div class="cell border-box-sizing text_cell rendered">
<div class="prompt input_prompt">
</div>
<div class="inner_cell">
<div class="text_cell_render border-box-sizing rendered_html">
<h4 id="3.2-Answer">3.2 Answer<a class="anchor-link" href="#3.2-Answer">&#182;</a></h4><p>$P(n = 5)$</p>

</div>
</div>
</div>
<div class="cell border-box-sizing code_cell rendered">
<div class="input">
<div class="prompt input_prompt">In&nbsp;[10]:</div>
<div class="inner_cell">
    <div class="input_area">
<div class=" highlight hl-ipython3"><pre><span></span><span class="n">n</span><span class="o">=</span><span class="mi">5</span>
<span class="n">p</span><span class="o">=</span><span class="mf">0.25</span>
<span class="n">P</span><span class="o">=</span><span class="p">(</span><span class="mi">1</span><span class="o">-</span><span class="n">p</span><span class="p">)</span><span class="o">**</span><span class="p">(</span><span class="n">n</span><span class="o">-</span><span class="mi">1</span><span class="p">)</span><span class="o">*</span><span class="n">p</span>
<span class="nb">print</span> <span class="n">P</span> 
</pre></div>

</div>
</div>
</div>

<div class="output_wrapper">
<div class="output">


<div class="output_area"><div class="prompt"></div>
<div class="output_subarea output_stream output_stdout output_text">
<pre>0.0791015625
</pre>
</div>
</div>

</div>
</div>

</div>
<div class="cell border-box-sizing text_cell rendered">
<div class="prompt input_prompt">
</div>
<div class="inner_cell">
<div class="text_cell_render border-box-sizing rendered_html">
<h4 id="3.3-Answer">3.3 Answer<a class="anchor-link" href="#3.3-Answer">&#182;</a></h4><p>There are many ways to answer this one. I'll show two.</p>

</div>
</div>
</div>
<div class="cell border-box-sizing text_cell rendered">
<div class="prompt input_prompt">
</div>
<div class="inner_cell">
<div class="text_cell_render border-box-sizing rendered_html">
<p>$E(N=n)=\displaystyle\sum\limits_{n}^N nP(N=n)$.</p>
<p>For geometric we know $E[n] = 1 / p$.</p>

</div>
</div>
</div>
<div class="cell border-box-sizing code_cell rendered">
<div class="input">
<div class="prompt input_prompt">In&nbsp;[11]:</div>
<div class="inner_cell">
    <div class="input_area">
<div class=" highlight hl-ipython3"><pre><span></span><span class="c1">#Print the analytical expected value.</span>

<span class="n">p</span><span class="o">=</span><span class="mf">0.25</span>
<span class="n">E</span><span class="o">=</span><span class="mi">1</span><span class="o">/</span><span class="n">p</span>
<span class="nb">print</span> <span class="n">E</span>

<span class="c1">#Compute using numpy</span>
<span class="n">n</span> <span class="o">=</span> <span class="n">np</span><span class="o">.</span><span class="n">arange</span><span class="p">(</span><span class="mi">1</span><span class="p">,</span><span class="mi">100</span><span class="p">)</span>
<span class="n">exp_n</span> <span class="o">=</span> <span class="n">n</span> <span class="o">*</span> <span class="p">(</span><span class="mi">1</span> <span class="o">-</span> <span class="n">p</span><span class="p">)</span><span class="o">**</span><span class="p">(</span><span class="n">n</span><span class="o">-</span><span class="mi">1</span><span class="p">)</span> <span class="o">*</span> <span class="n">p</span>
<span class="n">E</span> <span class="o">=</span> <span class="n">np</span><span class="o">.</span><span class="n">sum</span><span class="p">(</span><span class="n">exp_n</span><span class="p">)</span>
<span class="nb">print</span> <span class="n">E</span>
</pre></div>

</div>
</div>
</div>

<div class="output_wrapper">
<div class="output">


<div class="output_area"><div class="prompt"></div>
<div class="output_subarea output_stream output_stdout output_text">
<pre>4.0
3.99999999996
</pre>
</div>
</div>

</div>
</div>

</div>
<div class="cell border-box-sizing text_cell rendered">
<div class="prompt input_prompt">
</div>
<div class="inner_cell">
<div class="text_cell_render border-box-sizing rendered_html">
<h1 id="4.-Python-Practice-(10-Points)">4. Python Practice (10 Points)<a class="anchor-link" href="#4.-Python-Practice-(10-Points)">&#182;</a></h1><p>Answer the following problems in Python</p>
<ol>
<li>Create an array containing the integers from 1 to 100 squared. Note: do not include 0.</li>
<li>Using a <code>for</code> loop, sum the squared integers and <code>break</code> if your sum is greater than 1000. Print the integer which causes your sum to exceed 1000.</li>
<li>Take the geometric distribution from Problem 3 and sum the probability of from 1 to 100 videos using a <code>for</code> loop. It should be very close to 1.</li>
<li>Add a break to your <code>for</code> loop from 4.3 and print the number of videos when the sum is 0.95. What does that represent?</li>
<li>[3 Points] Turn your <code>for</code> loop into <code>while</code> loop, so that you do not need to guess how big your array will need to be and turn it into a function. Your function should take two arguments: the probability of success and the confidence level (default 5%) for a geometric distribution. It should return a number of trials for which there is $>=$ 95% probability of success before reaching that trial number.</li>
<li>[3 Points] Given a normal distribution with $\mu=5$, $\sigma = 2.5$, what is $P(-5 < x < 1)$?</li>
</ol>

</div>
</div>
</div>
<div class="cell border-box-sizing text_cell rendered">
<div class="prompt input_prompt">
</div>
<div class="inner_cell">
<div class="text_cell_render border-box-sizing rendered_html">
<h4 id="4.1-Answer">4.1 Answer<a class="anchor-link" href="#4.1-Answer">&#182;</a></h4>
</div>
</div>
</div>
<div class="cell border-box-sizing code_cell rendered">
<div class="input">
<div class="prompt input_prompt">In&nbsp;[12]:</div>
<div class="inner_cell">
    <div class="input_area">
<div class=" highlight hl-ipython3"><pre><span></span><span class="kn">import</span> <span class="nn">numpy</span> <span class="k">as</span> <span class="nn">np</span>
<span class="n">some_ints</span> <span class="o">=</span> <span class="n">np</span><span class="o">.</span><span class="n">arange</span><span class="p">(</span><span class="mi">1</span><span class="p">,</span><span class="mi">101</span><span class="p">)</span> <span class="o">**</span> <span class="mi">2</span>
<span class="nb">print</span> <span class="n">some_ints</span>
</pre></div>

</div>
</div>
</div>

<div class="output_wrapper">
<div class="output">


<div class="output_area"><div class="prompt"></div>
<div class="output_subarea output_stream output_stdout output_text">
<pre>[    1     4     9    16    25    36    49    64    81   100   121   144
   169   196   225   256   289   324   361   400   441   484   529   576
   625   676   729   784   841   900   961  1024  1089  1156  1225  1296
  1369  1444  1521  1600  1681  1764  1849  1936  2025  2116  2209  2304
  2401  2500  2601  2704  2809  2916  3025  3136  3249  3364  3481  3600
  3721  3844  3969  4096  4225  4356  4489  4624  4761  4900  5041  5184
  5329  5476  5625  5776  5929  6084  6241  6400  6561  6724  6889  7056
  7225  7396  7569  7744  7921  8100  8281  8464  8649  8836  9025  9216
  9409  9604  9801 10000]
</pre>
</div>
</div>

</div>
</div>

</div>
<div class="cell border-box-sizing text_cell rendered">
<div class="prompt input_prompt">
</div>
<div class="inner_cell">
<div class="text_cell_render border-box-sizing rendered_html">
<h4 id="4.2-Answer">4.2 Answer<a class="anchor-link" href="#4.2-Answer">&#182;</a></h4>
</div>
</div>
</div>
<div class="cell border-box-sizing code_cell rendered">
<div class="input">
<div class="prompt input_prompt">In&nbsp;[13]:</div>
<div class="inner_cell">
    <div class="input_area">
<div class=" highlight hl-ipython3"><pre><span></span><span class="c1">#4.2</span>
<span class="n">sqsum</span><span class="o">=</span><span class="mi">0</span> <span class="c1"># sum of the squared integers</span>
<span class="k">for</span> <span class="n">i</span> <span class="ow">in</span> <span class="n">some_ints</span><span class="p">:</span>
    <span class="n">sqsum</span> <span class="o">+=</span> <span class="n">i</span>
    <span class="k">if</span><span class="p">(</span><span class="n">sqsum</span> <span class="o">&gt;</span> <span class="mi">1000</span><span class="p">):</span>
        <span class="k">break</span>
    
<span class="nb">print</span> <span class="s1">&#39;</span><span class="si">{}</span><span class="s1"> was an integer that gives a sum greater than 1000. The sum finished with a value of </span><span class="si">{}</span><span class="s1">&#39;</span><span class="o">.</span><span class="n">format</span><span class="p">(</span><span class="n">i</span><span class="p">,</span> <span class="n">sqsum</span><span class="p">)</span> 
</pre></div>

</div>
</div>
</div>

<div class="output_wrapper">
<div class="output">


<div class="output_area"><div class="prompt"></div>
<div class="output_subarea output_stream output_stdout output_text">
<pre>196 was an integer that gives a sum greater than 1000. The sum finished with a value of 1015
</pre>
</div>
</div>

</div>
</div>

</div>
<div class="cell border-box-sizing text_cell rendered">
<div class="prompt input_prompt">
</div>
<div class="inner_cell">
<div class="text_cell_render border-box-sizing rendered_html">
<h4 id="4.3-Answer">4.3 Answer<a class="anchor-link" href="#4.3-Answer">&#182;</a></h4>
</div>
</div>
</div>
<div class="cell border-box-sizing code_cell rendered">
<div class="input">
<div class="prompt input_prompt">In&nbsp;[14]:</div>
<div class="inner_cell">
    <div class="input_area">
<div class=" highlight hl-ipython3"><pre><span></span><span class="c1">#4.3</span>
<span class="c1">#create domain</span>
<span class="n">n</span><span class="o">=</span><span class="n">np</span><span class="o">.</span><span class="n">arange</span><span class="p">(</span><span class="mi">1</span><span class="p">,</span> <span class="mi">101</span><span class="p">)</span>
<span class="c1">#set parameters</span>
<span class="n">p</span><span class="o">=</span><span class="mf">0.25</span>
<span class="c1">#initialize sum</span>
<span class="n">Psum</span> <span class="o">=</span> <span class="mi">0</span>
<span class="k">for</span> <span class="n">ni</span> <span class="ow">in</span> <span class="n">n</span><span class="p">:</span>
    <span class="n">Psum</span> <span class="o">+=</span> <span class="p">(</span><span class="mi">1</span><span class="o">-</span><span class="n">p</span><span class="p">)</span><span class="o">**</span><span class="p">(</span><span class="n">ni</span><span class="o">-</span><span class="mi">1</span><span class="p">)</span><span class="o">*</span><span class="n">p</span> <span class="c1">#add to Psum</span>
<span class="nb">print</span> <span class="s2">&quot;</span><span class="si">{:e}</span><span class="s2">is the probability of watching </span><span class="si">{}</span><span class="s2"> or less videos.&quot;</span><span class="o">.</span><span class="n">format</span><span class="p">(</span><span class="n">Psum</span><span class="p">,</span> <span class="n">ni</span><span class="p">)</span>
</pre></div>

</div>
</div>
</div>

<div class="output_wrapper">
<div class="output">


<div class="output_area"><div class="prompt"></div>
<div class="output_subarea output_stream output_stdout output_text">
<pre>1.000000e+00is the probability of watching 100 or less videos.
</pre>
</div>
</div>

</div>
</div>

</div>
<div class="cell border-box-sizing text_cell rendered">
<div class="prompt input_prompt">
</div>
<div class="inner_cell">
<div class="text_cell_render border-box-sizing rendered_html">
<h4 id="4.4-Answer">4.4 Answer<a class="anchor-link" href="#4.4-Answer">&#182;</a></h4>
</div>
</div>
</div>
<div class="cell border-box-sizing code_cell rendered">
<div class="input">
<div class="prompt input_prompt">In&nbsp;[15]:</div>
<div class="inner_cell">
    <div class="input_area">
<div class=" highlight hl-ipython3"><pre><span></span><span class="c1">#4.4</span>
<span class="c1">#create domain</span>
<span class="n">n</span><span class="o">=</span><span class="n">np</span><span class="o">.</span><span class="n">arange</span><span class="p">(</span><span class="mi">1</span><span class="p">,</span> <span class="mi">101</span><span class="p">)</span>
<span class="c1">#set parameters</span>
<span class="n">p</span><span class="o">=</span><span class="mf">0.25</span>
<span class="c1">#initialize sum</span>
<span class="n">Psum</span> <span class="o">=</span> <span class="mi">0</span>
<span class="k">for</span> <span class="n">ni</span> <span class="ow">in</span> <span class="n">n</span><span class="p">:</span>
    <span class="n">Psum</span> <span class="o">+=</span> <span class="p">(</span><span class="mi">1</span><span class="o">-</span><span class="n">p</span><span class="p">)</span><span class="o">**</span><span class="p">(</span><span class="n">ni</span><span class="o">-</span><span class="mi">1</span><span class="p">)</span><span class="o">*</span><span class="n">p</span> <span class="c1">#add to Psum</span>
    <span class="k">if</span> <span class="p">(</span><span class="n">Psum</span><span class="o">&gt;</span><span class="mf">0.95</span><span class="p">):</span>
        <span class="k">break</span>
<span class="nb">print</span> <span class="s2">&quot;When </span><span class="si">{}</span><span class="s2"> videos are watched, the probability is greater than 0.95&quot;</span> <span class="o">.</span><span class="n">format</span><span class="p">(</span><span class="n">ni</span><span class="p">)</span>
</pre></div>

</div>
</div>
</div>

<div class="output_wrapper">
<div class="output">


<div class="output_area"><div class="prompt"></div>
<div class="output_subarea output_stream output_stdout output_text">
<pre>When 11 videos are watched, the probability is greater than 0.95
</pre>
</div>
</div>

</div>
</div>

</div>
<div class="cell border-box-sizing text_cell rendered">
<div class="prompt input_prompt">
</div>
<div class="inner_cell">
<div class="text_cell_render border-box-sizing rendered_html">
<h4 id="4.5-Answer">4.5 Answer<a class="anchor-link" href="#4.5-Answer">&#182;</a></h4>
</div>
</div>
</div>
<div class="cell border-box-sizing code_cell rendered">
<div class="input">
<div class="prompt input_prompt">In&nbsp;[16]:</div>
<div class="inner_cell">
    <div class="input_area">
<div class=" highlight hl-ipython3"><pre><span></span><span class="k">def</span> <span class="nf">geometric_trial</span><span class="p">(</span><span class="n">p</span><span class="p">,</span> <span class="n">confidence</span><span class="o">=</span><span class="mf">0.05</span><span class="p">):</span>
    <span class="c1">#Takes in a probability of success and confidence level</span>
    <span class="c1">#Returns the maxmium number of trials which will occur according</span>
    <span class="c1">#to the confidence level.</span>
    <span class="n">n</span> <span class="o">=</span> <span class="mi">1</span>
    <span class="n">psum</span> <span class="o">=</span> <span class="mi">0</span>
    
    <span class="k">while</span> <span class="n">psum</span> <span class="o">&lt;</span> <span class="mi">1</span> <span class="o">-</span> <span class="n">confidence</span><span class="p">:</span>
        <span class="n">psum</span> <span class="o">+=</span> <span class="p">(</span><span class="mi">1</span> <span class="o">-</span> <span class="n">p</span><span class="p">)</span> <span class="o">**</span> <span class="p">(</span><span class="n">n</span> <span class="o">-</span> <span class="mi">1</span><span class="p">)</span> <span class="o">*</span> <span class="n">p</span>
        <span class="n">n</span> <span class="o">+=</span> <span class="mi">1</span>
        
    <span class="k">return</span> <span class="n">n</span> <span class="o">-</span> <span class="mi">1</span> <span class="c1">#Note: Since we added 1 before our check in the while loop, we must subtract one</span>
<span class="nb">print</span> <span class="n">geometric_trial</span><span class="p">(</span><span class="mf">0.25</span><span class="p">)</span>
<span class="nb">print</span> <span class="n">geometric_trial</span><span class="p">(</span><span class="mf">0.25</span><span class="p">,</span> <span class="o">.</span><span class="mi">1</span><span class="p">)</span>
</pre></div>

</div>
</div>
</div>

<div class="output_wrapper">
<div class="output">


<div class="output_area"><div class="prompt"></div>
<div class="output_subarea output_stream output_stdout output_text">
<pre>11
9
</pre>
</div>
</div>

</div>
</div>

</div>
<div class="cell border-box-sizing text_cell rendered">
<div class="prompt input_prompt">
</div>
<div class="inner_cell">
<div class="text_cell_render border-box-sizing rendered_html">
<h4 id="4.5-Answer">4.5 Answer<a class="anchor-link" href="#4.5-Answer">&#182;</a></h4>
</div>
</div>
</div>
<div class="cell border-box-sizing code_cell rendered">
<div class="input">
<div class="prompt input_prompt">In&nbsp;[17]:</div>
<div class="inner_cell">
    <div class="input_area">
<div class=" highlight hl-ipython3"><pre><span></span><span class="kn">from</span> <span class="nn">math</span> <span class="k">import</span> <span class="n">pi</span><span class="p">,</span> <span class="n">sqrt</span>

<span class="n">dx</span> <span class="o">=</span> <span class="mf">0.000025</span>
<span class="n">T</span> <span class="o">=</span> <span class="n">np</span><span class="o">.</span><span class="n">arange</span><span class="p">(</span><span class="o">-</span><span class="mi">5</span><span class="p">,</span> <span class="mi">1</span><span class="p">,</span> <span class="n">dx</span><span class="p">)</span>
<span class="n">sigma</span> <span class="o">=</span> <span class="mf">2.5</span>
<span class="n">mu</span> <span class="o">=</span> <span class="mi">5</span>
<span class="n">prob</span> <span class="o">=</span> <span class="n">np</span><span class="o">.</span><span class="n">sum</span><span class="p">(</span> <span class="mi">1</span> <span class="o">/</span> <span class="p">(</span><span class="n">sigma</span> <span class="o">*</span> <span class="n">sqrt</span><span class="p">(</span><span class="mi">2</span> <span class="o">*</span> <span class="n">pi</span><span class="p">)</span> <span class="p">)</span> <span class="o">*</span> <span class="n">np</span><span class="o">.</span><span class="n">exp</span><span class="p">(</span><span class="o">-</span><span class="p">(</span><span class="n">T</span> <span class="o">-</span> <span class="n">mu</span><span class="p">)</span><span class="o">**</span><span class="mi">2</span> <span class="o">/</span> <span class="p">(</span><span class="mi">2</span> <span class="o">*</span> <span class="n">sigma</span> <span class="o">**</span> <span class="mi">2</span><span class="p">))</span> <span class="p">)</span> <span class="o">*</span> <span class="n">dx</span>
<span class="nb">print</span> <span class="s2">&quot;P(-5 &lt; x &lt; 1)=&quot;</span><span class="p">,</span> <span class="n">prob</span>
</pre></div>

</div>
</div>
</div>

<div class="output_wrapper">
<div class="output">


<div class="output_area"><div class="prompt"></div>
<div class="output_subarea output_stream output_stdout output_text">
<pre>P(-5 &lt; x &lt; 1)= 0.0547670665237
</pre>
</div>
</div>

</div>
</div>

</div>
<div class="cell border-box-sizing text_cell rendered">
<div class="prompt input_prompt">
</div>
<div class="inner_cell">
<div class="text_cell_render border-box-sizing rendered_html">
<h1 id="5.-Laughing-at-Tweets-with-Poisson-Distribution-(3-Points)">5. Laughing at Tweets with Poisson Distribution (3 Points)<a class="anchor-link" href="#5.-Laughing-at-Tweets-with-Poisson-Distribution-(3-Points)">&#182;</a></h1><p>Write what quantity the question asks for symbolically, write the equation you need to compute symbolically and compute your answer in Python.</p>
<ol>
<li>The probability of laughing at a tweet is 0.1%. If you browse 500 tweets, what's the probability that you laugh three times?</li>
<li>What is the probability you laugh less than three times?</li>
<li>What is the probability you laugh more than three times?</li>
</ol>

</div>
</div>
</div>
<div class="cell border-box-sizing text_cell rendered">
<div class="prompt input_prompt">
</div>
<div class="inner_cell">
<div class="text_cell_render border-box-sizing rendered_html">
<h4 id="5.1-Answer">5.1 Answer<a class="anchor-link" href="#5.1-Answer">&#182;</a></h4>$$\mu = 500 \times 0.001$$$$P(x = 3) = \frac{e^{-\mu} \mu^x}{x!}$$
</div>
</div>
</div>
<div class="cell border-box-sizing code_cell rendered">
<div class="input">
<div class="prompt input_prompt">In&nbsp;[18]:</div>
<div class="inner_cell">
    <div class="input_area">
<div class=" highlight hl-ipython3"><pre><span></span><span class="kn">from</span> <span class="nn">math</span> <span class="k">import</span> <span class="n">exp</span><span class="p">,</span> <span class="n">factorial</span>
<span class="n">p</span><span class="o">=</span><span class="mf">0.001</span><span class="c1"># probability of the laugh</span>
<span class="n">N</span><span class="o">=</span><span class="mi">500</span> <span class="c1"># number of tweets</span>
<span class="n">x</span><span class="o">=</span><span class="mi">3</span> <span class="c1"># number of times one laughs</span>
<span class="n">mu</span> <span class="o">=</span> <span class="n">N</span> <span class="o">*</span> <span class="n">p</span>
<span class="c1">#P(x=3)?</span>
<span class="n">P3</span><span class="o">=</span><span class="n">exp</span><span class="p">(</span><span class="o">-</span><span class="n">mu</span><span class="p">)</span><span class="o">*</span><span class="p">(</span><span class="n">mu</span><span class="p">)</span><span class="o">**</span><span class="n">x</span> <span class="o">/</span> <span class="n">factorial</span><span class="p">(</span><span class="n">x</span><span class="p">)</span>
<span class="nb">print</span> <span class="s2">&quot;The probability of laughing </span><span class="si">{}</span><span class="s2"> times is </span><span class="si">{:%}</span><span class="s2">&quot;</span> <span class="o">.</span><span class="n">format</span><span class="p">(</span><span class="n">x</span><span class="p">,</span> <span class="n">P3</span><span class="p">)</span> 
</pre></div>

</div>
</div>
</div>

<div class="output_wrapper">
<div class="output">


<div class="output_area"><div class="prompt"></div>
<div class="output_subarea output_stream output_stdout output_text">
<pre>The probability of laughing 3 times is 1.263606%
</pre>
</div>
</div>

</div>
</div>

</div>
<div class="cell border-box-sizing text_cell rendered">
<div class="prompt input_prompt">
</div>
<div class="inner_cell">
<div class="text_cell_render border-box-sizing rendered_html">
<h4 id="5.2-Answer">5.2 Answer<a class="anchor-link" href="#5.2-Answer">&#182;</a></h4>$$P(x < 3) = P(1) + P(2)$$
</div>
</div>
</div>
<div class="cell border-box-sizing code_cell rendered">
<div class="input">
<div class="prompt input_prompt">In&nbsp;[19]:</div>
<div class="inner_cell">
    <div class="input_area">
<div class=" highlight hl-ipython3"><pre><span></span><span class="n">Psum</span> <span class="o">=</span> <span class="n">exp</span><span class="p">(</span><span class="o">-</span><span class="n">mu</span><span class="p">)</span><span class="o">*</span><span class="p">(</span><span class="n">mu</span><span class="p">)</span><span class="o">**</span><span class="mi">1</span> <span class="o">/</span> <span class="n">factorial</span><span class="p">(</span><span class="mi">1</span><span class="p">)</span> <span class="o">+</span> <span class="n">exp</span><span class="p">(</span><span class="o">-</span><span class="n">mu</span><span class="p">)</span><span class="o">*</span><span class="p">(</span><span class="n">mu</span><span class="p">)</span><span class="o">**</span><span class="mi">2</span> <span class="o">/</span> <span class="n">factorial</span><span class="p">(</span><span class="mi">2</span><span class="p">)</span>
<span class="nb">print</span> <span class="s2">&quot;The probability of laughing less than three time is: </span><span class="si">{:%}</span><span class="s2">&quot;</span>  <span class="o">.</span><span class="n">format</span><span class="p">(</span><span class="n">Psum</span><span class="p">)</span>
</pre></div>

</div>
</div>
</div>

<div class="output_wrapper">
<div class="output">


<div class="output_area"><div class="prompt"></div>
<div class="output_subarea output_stream output_stdout output_text">
<pre>The probability of laughing less than three time is: 37.908166%
</pre>
</div>
</div>

</div>
</div>

</div>
<div class="cell border-box-sizing text_cell rendered">
<div class="prompt input_prompt">
</div>
<div class="inner_cell">
<div class="text_cell_render border-box-sizing rendered_html">
<h4 id="5.3-Answer">5.3 Answer<a class="anchor-link" href="#5.3-Answer">&#182;</a></h4>$$P(x > 3) = 1 - P(x < 3) - P(x = 3)$$
</div>
</div>
</div>
<div class="cell border-box-sizing code_cell rendered">
<div class="input">
<div class="prompt input_prompt">In&nbsp;[20]:</div>
<div class="inner_cell">
    <div class="input_area">
<div class=" highlight hl-ipython3"><pre><span></span><span class="n">Pmore</span><span class="o">=</span><span class="p">(</span><span class="mi">1</span><span class="o">-</span><span class="n">Psum</span><span class="o">-</span><span class="n">P3</span><span class="p">)</span> 
<span class="nb">print</span> <span class="s2">&quot;The probability of laughing more than three times is: </span><span class="si">{:%}</span><span class="s2">&quot;</span> <span class="o">.</span><span class="n">format</span><span class="p">(</span><span class="n">Pmore</span><span class="p">)</span>
</pre></div>

</div>
</div>
</div>

<div class="output_wrapper">
<div class="output">


<div class="output_area"><div class="prompt"></div>
<div class="output_subarea output_stream output_stdout output_text">
<pre>The probability of laughing more than three times is: 60.828228%
</pre>
</div>
</div>

</div>
</div>

</div>
<div class="cell border-box-sizing text_cell rendered">
<div class="prompt input_prompt">
</div>
<div class="inner_cell">
<div class="text_cell_render border-box-sizing rendered_html">
<h1 id="6.--Weekend-Dating-with-Binomial-Distribution-(4-Points)">6.  Weekend Dating with Binomial Distribution (4 Points)<a class="anchor-link" href="#6.--Weekend-Dating-with-Binomial-Distribution-(4-Points)">&#182;</a></h1><ol>
<li><p>The probability that you go on a second date is 10%. If you go on 8 first dates this weekend, what's the probability you'll have 3 second dates next weekend? State the distribution, its parameters and the question being asked symbolically and answer the problem in Python.</p>
</li>
<li><p>What is the probability of having more than 3 second dates for next weekend? State the question being asked symbolically and answer the problem in Python. <em>Hint: consider using the <code>np.sum</code> function to make it easy, but to answer 6.5 you might want to try it with a for loop</em>.</p>
</li>
<li><p>To better understand your dating agenda, make a plot of the probability of the number of second dates.</p>
</li>
<li><p>Caclulate the expected number of second dates with the parameters above using a <code>for</code> loop. <em>Do not just use the expected value equation for the binomial distribution</em>.</p>
</li>
</ol>

</div>
</div>
</div>
<div class="cell border-box-sizing text_cell rendered">
<div class="prompt input_prompt">
</div>
<div class="inner_cell">
<div class="text_cell_render border-box-sizing rendered_html">
<h4 id="6.1-Answer">6.1 Answer<a class="anchor-link" href="#6.1-Answer">&#182;</a></h4>
</div>
</div>
</div>
<div class="cell border-box-sizing text_cell rendered">
<div class="prompt input_prompt">
</div>
<div class="inner_cell">
<div class="text_cell_render border-box-sizing rendered_html">
<p>$P(x;N,p) = {N \choose x} p^{x}(1−p)^{N−x}$</p>
<p>$p=0.10$ - probability of the second date</p>
<p>$N=8$ number of dates per first week</p>
<p>$P(x=3)= {8 \choose 3} 0.1^{3}(1−0.1)^{8−3}$</p>

</div>
</div>
</div>
<div class="cell border-box-sizing code_cell rendered">
<div class="input">
<div class="prompt input_prompt">In&nbsp;[21]:</div>
<div class="inner_cell">
    <div class="input_area">
<div class=" highlight hl-ipython3"><pre><span></span><span class="kn">from</span> <span class="nn">scipy.misc</span> <span class="k">import</span> <span class="n">comb</span>
<span class="n">pbnm</span><span class="o">=</span><span class="mf">0.1</span>
<span class="n">N</span><span class="o">=</span><span class="mi">8</span>
<span class="n">x</span><span class="o">=</span><span class="mi">3</span>
<span class="n">P3</span><span class="o">=</span><span class="n">comb</span><span class="p">(</span><span class="n">N</span><span class="p">,</span><span class="n">x</span><span class="p">)</span><span class="o">*</span><span class="n">pbnm</span><span class="o">**</span><span class="n">x</span><span class="o">*</span><span class="p">(</span><span class="mi">1</span><span class="o">-</span><span class="n">pbnm</span><span class="p">)</span><span class="o">**</span><span class="p">(</span><span class="n">N</span><span class="o">-</span><span class="n">x</span><span class="p">)</span>
<span class="nb">print</span> <span class="s2">&quot;The probability of going to </span><span class="si">{}</span><span class="s2"> second dates is </span><span class="si">{:%}</span><span class="s2">&quot;</span><span class="o">.</span><span class="n">format</span><span class="p">(</span><span class="n">x</span><span class="p">,</span> <span class="n">P3</span><span class="p">)</span>
</pre></div>

</div>
</div>
</div>

<div class="output_wrapper">
<div class="output">


<div class="output_area"><div class="prompt"></div>
<div class="output_subarea output_stream output_stdout output_text">
<pre>The probability of going to 3 second dates is 3.306744%
</pre>
</div>
</div>

</div>
</div>

</div>
<div class="cell border-box-sizing text_cell rendered">
<div class="prompt input_prompt">
</div>
<div class="inner_cell">
<div class="text_cell_render border-box-sizing rendered_html">
<h4 id="6.2-Answer">6.2 Answer<a class="anchor-link" href="#6.2-Answer">&#182;</a></h4>
</div>
</div>
</div>
<div class="cell border-box-sizing code_cell rendered">
<div class="input">
<div class="prompt input_prompt">In&nbsp;[22]:</div>
<div class="inner_cell">
    <div class="input_area">
<div class=" highlight hl-ipython3"><pre><span></span><span class="n">dates</span><span class="o">=</span><span class="n">np</span><span class="o">.</span><span class="n">arange</span><span class="p">(</span><span class="mi">4</span><span class="p">,</span> <span class="mi">9</span><span class="p">)</span>
<span class="n">pbnm</span><span class="o">=</span><span class="mf">0.1</span>
<span class="n">N</span><span class="o">=</span><span class="mi">8</span>
<span class="n">P_3_more</span> <span class="o">=</span> <span class="mi">0</span>
<span class="k">for</span> <span class="n">di</span> <span class="ow">in</span> <span class="n">dates</span><span class="p">:</span>
    <span class="n">P_3_more</span> <span class="o">+=</span> <span class="n">comb</span><span class="p">(</span><span class="n">N</span><span class="p">,</span><span class="n">di</span><span class="p">)</span><span class="o">*</span><span class="n">pbnm</span><span class="o">**</span><span class="n">di</span><span class="o">*</span><span class="p">(</span><span class="mi">1</span><span class="o">-</span><span class="n">pbnm</span><span class="p">)</span><span class="o">**</span><span class="p">(</span><span class="n">N</span><span class="o">-</span><span class="n">di</span><span class="p">)</span>
<span class="nb">print</span> <span class="s2">&quot;The probability of having more than three dates is&quot;</span><span class="p">,</span> <span class="n">P_3_more</span>
</pre></div>

</div>
</div>
</div>

<div class="output_wrapper">
<div class="output">


<div class="output_area"><div class="prompt"></div>
<div class="output_subarea output_stream output_stdout output_text">
<pre>The probability of having more than three dates is 0.00502435
</pre>
</div>
</div>

</div>
</div>

</div>
<div class="cell border-box-sizing text_cell rendered">
<div class="prompt input_prompt">
</div>
<div class="inner_cell">
<div class="text_cell_render border-box-sizing rendered_html">
<h4 id="6.3-Answer">6.3 Answer<a class="anchor-link" href="#6.3-Answer">&#182;</a></h4>
</div>
</div>
</div>
<div class="cell border-box-sizing code_cell rendered">
<div class="input">
<div class="prompt input_prompt">In&nbsp;[23]:</div>
<div class="inner_cell">
    <div class="input_area">
<div class=" highlight hl-ipython3"><pre><span></span><span class="n">dates</span><span class="o">=</span><span class="n">np</span><span class="o">.</span><span class="n">arange</span><span class="p">(</span><span class="mi">0</span><span class="p">,</span> <span class="mi">9</span><span class="p">)</span>
<span class="n">P3more</span><span class="o">=</span><span class="n">comb</span><span class="p">(</span><span class="n">N</span><span class="p">,</span> <span class="n">dates</span><span class="p">)</span><span class="o">*</span><span class="n">pbnm</span><span class="o">**</span><span class="n">dates</span><span class="o">*</span><span class="p">(</span><span class="mi">1</span><span class="o">-</span><span class="n">pbnm</span><span class="p">)</span><span class="o">**</span><span class="p">(</span><span class="n">N</span><span class="o">-</span><span class="n">dates</span><span class="p">)</span>
<span class="n">plt</span><span class="o">.</span><span class="n">plot</span><span class="p">(</span><span class="n">dates</span><span class="p">,</span> <span class="n">P3more</span><span class="p">,</span> <span class="s1">&#39;yo-&#39;</span><span class="p">)</span>
<span class="n">plt</span><span class="o">.</span><span class="n">title</span><span class="p">(</span><span class="s2">&quot;Second Dates&quot;</span><span class="p">)</span>
<span class="n">plt</span><span class="o">.</span><span class="n">show</span><span class="p">()</span>
</pre></div>

</div>
</div>
</div>

<div class="output_wrapper">
<div class="output">


<div class="output_area"><div class="prompt"></div>


<div class="output_png output_subarea ">
<img src="data:image/png;base64,iVBORw0KGgoAAAANSUhEUgAAAwUAAAIlCAYAAACEvlT7AAAABHNCSVQICAgIfAhkiAAAAAlwSFlz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"
>
</div>

</div>

</div>
</div>

</div>
<div class="cell border-box-sizing text_cell rendered">
<div class="prompt input_prompt">
</div>
<div class="inner_cell">
<div class="text_cell_render border-box-sizing rendered_html">
<h4 id="6.4-Answer">6.4 Answer<a class="anchor-link" href="#6.4-Answer">&#182;</a></h4>
</div>
</div>
</div>
<div class="cell border-box-sizing text_cell rendered">
<div class="prompt input_prompt">
</div>
<div class="inner_cell">
<div class="text_cell_render border-box-sizing rendered_html">
$$E[n] = \sum_0^N n P(n)$$
</div>
</div>
</div>
<div class="cell border-box-sizing code_cell rendered">
<div class="input">
<div class="prompt input_prompt">In&nbsp;[24]:</div>
<div class="inner_cell">
    <div class="input_area">
<div class=" highlight hl-ipython3"><pre><span></span><span class="n">dates</span><span class="o">=</span><span class="n">np</span><span class="o">.</span><span class="n">arange</span><span class="p">(</span><span class="mi">0</span><span class="p">,</span> <span class="mi">9</span><span class="p">)</span>
<span class="n">En</span> <span class="o">=</span> <span class="mi">0</span>
<span class="k">for</span> <span class="n">di</span> <span class="ow">in</span> <span class="n">dates</span><span class="p">:</span>
    <span class="n">En</span> <span class="o">+=</span> <span class="n">di</span> <span class="o">*</span> <span class="n">comb</span><span class="p">(</span><span class="n">N</span><span class="p">,</span><span class="n">di</span><span class="p">)</span><span class="o">*</span><span class="n">pbnm</span><span class="o">**</span><span class="n">di</span><span class="o">*</span><span class="p">(</span><span class="mi">1</span><span class="o">-</span><span class="n">pbnm</span><span class="p">)</span><span class="o">**</span><span class="p">(</span><span class="n">N</span><span class="o">-</span><span class="n">di</span><span class="p">)</span>

<span class="n">analytical</span><span class="o">=</span> <span class="n">N</span> <span class="o">*</span> <span class="n">pbnm</span>
<span class="nb">print</span> <span class="s2">&quot;The numerical </span><span class="si">{}</span><span class="s2"> and analytical, </span><span class="si">{}</span><span class="s2"> expected values are the same!&quot;</span> <span class="o">.</span><span class="n">format</span><span class="p">(</span><span class="n">En</span><span class="p">,</span> <span class="n">analytical</span><span class="p">)</span>
</pre></div>

</div>
</div>
</div>

<div class="output_wrapper">
<div class="output">


<div class="output_area"><div class="prompt"></div>
<div class="output_subarea output_stream output_stdout output_text">
<pre>The numerical 0.8 and analytical, 0.8 expected values are the same!
</pre>
</div>
</div>

</div>
</div>

</div>
<div class="cell border-box-sizing code_cell rendered">
<div class="input">
<div class="prompt input_prompt">In&nbsp;[24]:</div>
<div class="inner_cell">
    <div class="input_area">
<div class=" highlight hl-ipython3"><pre><span></span> 
</pre></div>

</div>
</div>
</div>

</div>
 


    </div>
  </div>

  </div>


  
    <footer class="footer hidden-print">
      <div class="container">
        <div class="col-md-4">
          <p>
            This website does not host notebooks, it only renders notebooks
            available on other websites.
          </p>
        </div>

        <div class="col-md-4">
          <p>
            Delivered by <a href="http://www.fastly.com/">Fastly</a>,
            Rendered by <a href="https://developer.rackspace.com/?nbviewer=awesome">Rackspace</a>
          </p>
          <p>
            nbviewer GitHub <a href="https://github.com/jupyter/nbviewer">repository</a>.
          </p>
        </div>

        <div class="col-md-4">
          
  
            
              <p>
                nbviewer version:
                <a href="https://github.com/jupyter/nbviewer/commit/b5359ba07905c50c2021266b08f984d69653f45e">
                  b5359ba
                </a>
              </p>
            
          
  
  <p>
    nbconvert version: <a href="https://github.com/jupyter/nbconvert/releases/tag/4.3.0">
      4.3.0
    </a>
  </p>
  

          
  
  
  <p>
    Rendered
    <span class='date' data-date='Tue, 14 Feb 2017 14:30:35 UTC' title='Tue, 14 Feb 2017 14:30:35 UTC'>(Tue, 14 Feb 2017 14:30:35 UTC)</span>
  </p>
  

        </div>
      </div>
    </footer>
  

  <script src="https://unpkg.com/jupyter-js-widgets@2.0.*/dist/embed.js"></script>
  <script src="/static/components/bootstrap/js/bootstrap.min.js?v=5869c96cc8f19086aee625d670d741f9"></script>
  <script src="/static/components/headroom.js/dist/headroom.min.js?v=b0a311ea668f8e768ea375f4a7abb81c"></script>
  <script src="/static/components/headroom.js/dist/jQuery.headroom.min.js?v=f3a1bae118315d0c234afc74dc6aab71"></script>

  
  
  <script>
    $(function(){ $("#menubar").headroom({
      tolerance: 5,
      offset: 205,
      classes: {
        initial: "animated",
        pinned: "slideInDown",
        unpinned: "slideOutUp"
      }
    })});
  </script>


  <script>
    (function(i,s,o,g,r,a,m){i['GoogleAnalyticsObject']=r;i[r]=i[r]||function(){
      (i[r].q=i[r].q||[]).push(arguments)},i[r].l=1*new Date();a=s.createElement(o),
      m=s.getElementsByTagName(o)[0];a.async=1;a.src=g;m.parentNode.insertBefore(a,m)
    })(window,document,'script','//www.google-analytics.com/analytics.js','ga');
    ga('create', 'UA-38683231-2', 'auto');
    ga('send', 'pageview');
  </script>
  <script>
    require({
        paths: {
          moment: "/static/components/moment/min/moment.min.js?v=89f87298ad94aa1e6b92f42eb66da043"
        }
      }, ["moment"], function(moment){
      var date = $("footer .date"),
        m = moment(new Date(date.data('date'))),
        update = function(){ date.text(m.fromNow()); };
      setInterval(update, 61*1000);
      update();
      var w = $(window).scroll(function(event){
        $("body").toggleClass("scrolled", w.scrollTop() > 0);
      });
    });
  </script>
  <!--NEW RELIC Stop Perf Measurement-->
  
  <!--NEW RELIC End-->
</body>
</html>