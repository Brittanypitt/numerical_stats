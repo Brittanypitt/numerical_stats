{
 "cells": [
  {
   "cell_type": "markdown",
   "metadata": {
    "deletable": true,
    "editable": true
   },
   "source": [
    "Projects\n",
    "====\n",
    "The goal of the projects are for you to demonstrate that you know how to apply numerical methods and statistics on open-ended problems. Your project should be on something interesting to you and your target audience should be someone who knows little about statistics or numerical methods. You should be demonstrating how numerical methods and statistics can solve complex problems."
   ]
  },
  {
   "cell_type": "markdown",
   "metadata": {
    "deletable": true,
    "editable": true
   },
   "source": [
    "Timeline\n",
    "====\n",
    "\n",
    "**March 28th 5pm**: Last day to have submitted a 1 paragraph description of your project\n",
    "\n",
    "**April 21th**: Projects due for Peer Review\n",
    "\n",
    "**April 25th**: Peer Review due\n",
    "\n",
    "**May 3rd**: Projects due\n"
   ]
  },
  {
   "cell_type": "markdown",
   "metadata": {
    "deletable": true,
    "editable": true
   },
   "source": [
    "Grading\n",
    "====\n",
    "\n",
    "Your final notebook should consist of about 750 words with equations and plots. Your notebook will be ungraded if you have no equations or plots, unless discussed ahead of submission. For the word count, you should be as descriptive as necessary so that someone who does not understand Python could  Your project will be graded according to the following rubric:\n",
    "\n",
    "7. Your logical argument is reasonable and supported by your notebook or your teaching material effectively describes the topic of choice.\n",
    "\n",
    "1. Your writing is clear and your target audience is someone who has not taken the class, but is a sophomore in an engineering major.\n",
    "\n",
    "2. Your plots are well-labeled and support your argument or teaching. You use headings, code, links, and other style to communicate in a clean well laid out document. \n",
    "\n",
    "3. Each equation you write has all the terms in it defined. You introduce every equation that is used in your functions or cite a reference where the equation may be found. \n",
    "\n",
    "3. You correctly apply the methods we learned in class and correctly state what they do. Your equations are correct.\n",
    "\n",
    "4. Your functions are clearly documented and your variables and functions have descriptive names\n",
    "\n",
    "5.  You cite sources with author, title, year. You clearly state where your data comes from, if applicable. You must have at least 2 sources.\n",
    "\n",
    "6. There are no errors in your python code, equation formatting, or markdown code. \n",
    "\n",
    "8. You satisify the contraints of the project of the particular project you're doing\n",
    "\n",
    "Bonuses (up to 5% each): \n",
    "\n",
    "1.  You utilize a python library we didn't see in lecture\n",
    "2.  You create a 2D-color plot or 3D Plot\n",
    "3.  You create an animation"
   ]
  },
  {
   "cell_type": "markdown",
   "metadata": {
    "deletable": true,
    "editable": true
   },
   "source": [
    "Peer Review\n",
    "====\n",
    "\n",
    "You will first receieve a peer-reivew grade from three of your peers. This will be anonymous and count as a homework grade. You will receive the feedback in a web form ([example 1](http://www.che.rochester.edu/~awhite38/?grade=ff4410d6-ad1c-34bf-98ed-3fbaea0fe736), [example 2](http://www.che.rochester.edu/~awhite38/?grade=5ec3b141-25b3-3185-880a-28eb63197bad))"
   ]
  },
  {
   "cell_type": "markdown",
   "metadata": {
    "deletable": true,
    "editable": true
   },
   "source": [
    "Project Options\n",
    "===\n",
    "\n",
    "You may do one of three types of projects. Type I is to use data to calculate something interesting statistically. Type II is to explore more in depth a topic in lecture. Type III is to create a numerical model using programming. \n",
    "\n",
    "Type I\n",
    "----\n",
    "The goal of this project type is to utilize our statistical methods in class to analyze a dataset. You must use two of the following methods:\n",
    "  \n",
    "  * Histogramming\n",
    "  \n",
    "  * Linear Regression\n",
    "  \n",
    "  * Hypothesis testing\n",
    "  \n",
    "  * Creating a probability model and sampling\n",
    "  \n",
    "  * Non-linear regression\n",
    "  \n",
    "Type I Examples\n",
    "----\n",
    "\n",
    "1. Install the [PyDataset](https://github.com/iamaziz/PyDataset) which contains about 1000 curated interesting dataset along with documentatino about where the data comes from.\n",
    "\n",
    "1. Visit the site [open government](http://www.data.gov/) website and find an interesting database. Construct a hypothesis about the data. For example, there is a database that contains information on the time a weapon was purchased and when a crime was committed with that weapon broken down per state by the department of justice. One question could be is there difference in crime committed with a weapon immediately after it's purchased or is the time after the purchase uncorrelated with crime. \n",
    "\n",
    "2. Visit google search trends and see if there is a connection between season and some search term. For example, do more people search for jobs at a certain time of year? You can download the data there as a CSV file.\n",
    "\n",
    "Tips:\n",
    "  * Use the `pandas` library reading excel or csv files\n",
    "  * `pandas` has built in tools for dealing with missing data\n",
    "  * On the open government website, try filtering out geospatial data and only seeing csv files to see easy to work with data\n",
    "\n",
    "\n",
    "Type II\n",
    "----\n",
    "The goal of this project is to create a compelling and comprehensive webpage about a topic *NOT* covered in lecture. Your notebook should be go deeper into a topic covered in lecture and possibly use interactivity and plots to demonstrate the topic.\n",
    "Type II Examples\n",
    "----\n",
    "\n",
    "1. We didn't cover linear programming, which is discrete optimization. Create a notebook describing linear programming and how to do it with `numpy`.\n",
    "\n",
    "2. There is a great amount of plotting features in `matplotolib`. Create a notebook giving examples of creating more complex plots that demonstrate the topics of the course\n",
    "\n",
    "3. How are complex numbers treated in Python?\n",
    "\n",
    "Type III\n",
    "-----\n",
    "\n",
    "Create a numerical method to model some process, such as fluid flow, heat transfer, predator-prey models or flow on network graphs. You should create interactive, descriptive plots of your model. You must also use optimization at some stage in constructing your model. \n",
    "\n",
    "Type III Examples\n",
    "----\n",
    "\n",
    "1. Build a model of an interesting fluid dynamics problem and optimize a parameter in the model.\n",
    "\n",
    "2. Create a matrix model of linear ODEs that represent reaction rates. The eigenvectors of the rate matrix provide the equilbirium concentrations of the rate matrix. Using optimization, find some rates that yield a set equilbrium concentration. This could be used, for example, to obtain reaction rates by measuring equilibrium concentrations.\n",
    "\n",
    "3. Using a Markov model, a probability distribution, create a chatbot which converses with you using a Markov model. Use different old books to train the chatbot so it speaks like it's from the 19th century or from tweets."
   ]
  }
 ],
 "metadata": {
  "kernelspec": {
   "display_name": "Python 3",
   "language": "python",
   "name": "python3"
  },
  "language_info": {
   "codemirror_mode": {
    "name": "ipython",
    "version": 3
   },
   "file_extension": ".py",
   "mimetype": "text/x-python",
   "name": "python",
   "nbconvert_exporter": "python",
   "pygments_lexer": "ipython3",
   "version": "3.5.2"
  }
 },
 "nbformat": 4,
 "nbformat_minor": 0
}
