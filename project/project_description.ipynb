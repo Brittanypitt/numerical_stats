{
 "cells": [
  {
   "cell_type": "markdown",
   "metadata": {},
   "source": [
    "Projects\n",
    "====\n",
    "\n",
    "The goal of the project is for you to work collaboratively on an open-ended complex problem using the numerical methods and statistics you've learned in the course and communicate your findings with a non-technical audience. You should develop reasonable assumptions to construct a numerical model for your topic of choice in Python. This can be built using chemical engineering principles and/or from data relevant to your topic. Each of the topics has an objective or question which should be answered with a reasoned argument supported by evidence from your model. In addition to a written report to me and your peers, you will create web-based deliverable whose target audience is the general public. You may choose to create a blog-style entry, a video, or some other creative medium for the web-based deliverable. "
   ]
  },
  {
   "cell_type": "markdown",
   "metadata": {},
   "source": [
    "Timeline\n",
    "====\n",
    "See syllabus for dates. These are the steps in the process.\n",
    "\n",
    "1. Submit Abstract\n",
    "\n",
    "2. Projects due for Peer Review\n",
    "\n",
    "3. Peer Review due\n",
    "\n",
    "4. Projects due\n"
   ]
  },
  {
   "cell_type": "markdown",
   "metadata": {},
   "source": [
    "Notebook Report Grading (80% of grade)\n",
    "====\n",
    "\n",
    "Your final notebook report should consist of about 1500-2000 words with equations and plots. Your notebook will be ungraded if you have no equations or plots, unless discussed ahead of submission. The target audience here is for your peers and instructor. Your project will be graded according to the following rubric (see example grades below for point breakdown).\n",
    "\n",
    "1. [25 Points] Your logical argument is reasonable and supported by your notebook or your teaching material effectively describes the topic of choice.\n",
    "\n",
    "1. [15 Points] Your writing is clear and your target audience is someone who has not taken the class, but is a sophomore in an engineering major.\n",
    "\n",
    "2. [15 Points] Your plots are well-labeled and support your argument or teaching. You use headings, code, links, and other style to communicate in a clean well laid out document. \n",
    "\n",
    "3. [15 Points] Each equation you write has all the terms in it defined. You introduce every equation that is used in your functions or cite a reference where the equation may be found. \n",
    "\n",
    "3. [15 Points] You correctly apply the methods we learned in class and correctly state what they do. Your equations are correct.\n",
    "\n",
    "4. [15 Points] Your functions are clearly documented and your variables and functions have descriptive names\n",
    "\n",
    "The following are not graded on a scale and should just be present in your project. If any are missing, you will have a penalty of -10%.\n",
    "\n",
    "1. [Pass/Fail] You cite sources in text and clearly state where your data comes from, if applicable. You must have at least 1 scholarly source and 4 total sources. See the library resource guide for a description of scholarly vs non-scholarly sources. Briefly, peer-reviewed articles apply *including* review articles. You may cite as many news or web sources as needed (non-scholarly). \n",
    "\n",
    "2. [Pass/Fail]  There are no errors in your python code, equation formatting, or markdown code. "
   ]
  },
  {
   "cell_type": "markdown",
   "metadata": {},
   "source": [
    "Public Deliverable (20% of grade)\n",
    "===\n",
    "\n",
    "This should be web-based content that demonstrates what work a chemical engineer can do and be appropiate for display on our department's web page. A non-technical reader should be able to read and understand the content in 10-15 minutes or 5 minutes if in video format. You should describe the problem you solved, its relevance to society, how you built your numerical model and its limitations, and your conclusions supported with evidence. A theme of your deliverable should be why and how chemical engineers can change the world. "
   ]
  },
  {
   "cell_type": "markdown",
   "metadata": {},
   "source": [
    "Peer Review\n",
    "====\n",
    "\n",
    "You will first receieve a peer-reivew grade from three of your peers. This will be anonymous and count as a homework grade. You will receive the feedback in a web form ([example 1](http://www.che.rochester.edu/~awhite38/?grade=ff4410d6-ad1c-34bf-98ed-3fbaea0fe736), [example 2](http://www.che.rochester.edu/~awhite38/?grade=5ec3b141-25b3-3185-880a-28eb63197bad))"
   ]
  },
  {
   "cell_type": "markdown",
   "metadata": {},
   "source": [
    "Abstract\n",
    "===\n",
    "\n",
    "Your abstract should clearly state which type of project (1,2,3) you will do, what your topic of choice will be, and what analysis or numerical model you will construct. If you are doing a Type 1 project, you should state the dataset you will use. If you are not using a provided dataset, you need to provide the data with your abstract as a link or upload. You should give at least one scholarly or non-scholarly citation to show you've begun your research into the topic. Your abstract should be at least 5 sentences and not more than 1 paragraph. Do not hesitate to contact me or your TAs with questions. The abstract is meant to be a chance for feedback, so you will have a chance to revise your change your project choice after submission and receiving feedback. "
   ]
  },
  {
   "cell_type": "markdown",
   "metadata": {},
   "source": [
    "Citing Sources Example\n",
    "===\n",
    "\n",
    "Professor Andrew White worked with colleagues and students to build an augmented reality version of a chemical plant that students could manipulate.$^{1}$  This was inspired by recent work that describes how a mobile tracked display may be used in engineering education.$^{2}$  Additionally, __[PubChem](https://pubchem.ncbi.nlm.nih.gov/)__  is a freely available database of chemicals that can be used to download chemical structures, aspirin for example.$^{3}$ Finally, Wu discusses opportunities and challenges for using augmented reality in education.$^{4}$\n",
    "\n",
    "\n",
    "Bibliography\n",
    "----\n",
    "\n",
    "1.Marcotte, B. Augmented reality lets students operate a chemical plant. *Newscenter*, Feb. 13, 2018, http://www.rochester.edu/newscenter/augmented-reality-chemical-plant-297792/ (accessed March 6, 2018)\n",
    "\n",
    "2.Tanner, E.; Savadatti, S.; Manning, B.; Johnsen, K. In *Usability and cognitive benefits of a mobile tracked display in virtual laboratories for engineering education*, 2016 IEEE Symposium on 3D User Interfaces (3DUI), 19-20 March 2016; 2016; pp 269-270.\n",
    "\n",
    "3.*PubChem*; US National Library of Medicine, National Center for Biotechnology Information: Bethesda, MD, 2018; CID 2244 (Aspirin). https://pubchem.ncbi.nlm.nih.gov/compound/2244 (accessed Mar 7, 2018)\n",
    "\n",
    "4.Wu, H.-K.; Lee, S. W.-Y.; Chang, H.-Y.; Liang, J.-C., Current status, opportunities and challenges of augmented reality in education. *Comput.Educ.* **2013**, *62*, 41–49. \n",
    "\n"
   ]
  }
 ],
 "metadata": {
  "kernelspec": {
   "display_name": "Python 3",
   "language": "python",
   "name": "python3"
  },
  "language_info": {
   "codemirror_mode": {
    "name": "ipython",
    "version": 3
   },
   "file_extension": ".py",
   "mimetype": "text/x-python",
   "name": "python",
   "nbconvert_exporter": "python",
   "pygments_lexer": "ipython3",
   "version": "3.6.7"
  }
 },
 "nbformat": 4,
 "nbformat_minor": 1
}
