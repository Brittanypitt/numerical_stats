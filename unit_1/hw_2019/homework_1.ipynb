{
 "cells": [
  {
   "cell_type": "markdown",
   "metadata": {},
   "source": [
    "Homework 1\n",
    "====\n",
    "#### CHE 116: Numerical Methods and Statistics\n",
    "\n",
    "Version 1.0 (1/17/2019)\n",
    "\n",
    "----"
   ]
  },
  {
   "cell_type": "markdown",
   "metadata": {},
   "source": [
    "# 1. Probability\n",
    "\n",
    "The probability of an event or element in a sample space is written as $P(A)$, where $A$ is the event or element in the sample space. **Answer the following problems symbolically and simplified.** Each problem is worth 1 point.\n",
    "\n",
    "1. [2 points] Our sample space contains three elements: $Q = \\{A, B, C, D\\}$. What is the probability of observing $P(A \\,\\textrm{OR} \\,\\textrm{B}\\, \\textrm{OR}\\, C, \\textrm{OR} D)$\n",
    "\n",
    "2. [2 points] What has to be true of the two elements that are part of an OR statement? \n",
    "\n",
    "3. [2 points] Consider the sample space of months in a year and assume each month has equal probability. If event $E$ is elements $\\{\\textrm{September}, \\textrm{October}, \\textrm{December}\\}$, then what is the probability of the event $E$, $P(E)$?\n",
    "\n",
    "4. [2 points] What is the probability of observing September and then November?\n",
    "\n",
    "4. [2 points] What is the probability of not event $E$ from the previous question?\n",
    "\n",
    "5. [4 points] State the number of observations/samples for the probabilities specified in questions 1.1-1.5. "
   ]
  },
  {
   "cell_type": "markdown",
   "metadata": {},
   "source": [
    "# Die Probability\n",
    " \n",
    " You are rolling a die with **8 sides**. Event $A$ is that you roll a number less than 4. Event $B$ is that you roll a $6$. Event $C$ is rolling a number greater than 2. **Answer these problems using python code**. Each problem is worth 1 point.\n",
    " \n",
    "1. [1 point] What is the probability of event $A$?\n",
    "2. [1 point] If you roll a 4, what is then the probability of rolling event $A$ or $C$ on your next roll?\n",
    "4. [2 points] What is the probability of rolling event $A$ and event $C$ in the course of two rolls?\n",
    "3. [2 point] If you roll event $A$, on your next roll what is the probability of event $B$?\n",
    "5. [2 points] What is the probability of rolling event $A$ followed by event $C$?"
   ]
  },
  {
   "cell_type": "markdown",
   "metadata": {},
   "source": [
    "# 3. Sample Spaces\n",
    "\n",
    "**Answers these problems symbolically**\n",
    "\n",
    "Each problem is worth 4 points\n",
    "\n",
    "1. [2 points] Each morning you grab one of your two necklaces randomly and then pick one of your three hats randomly. Both of these actions make up an observation.  What is the single \"joined\" sample space?\n",
    "2. [1 point] What is the sample space for number of students attending lecture if there are 38 students enrolled? Do not report just the size.\n",
    "3. [1 point] You are trying to guess a 4 digit PIN. What's the sample space size?\n",
    "4. [1 point] You have an 8 character password which can contain lowercase letters, uppercase letters and numbers. What's the size of the sample space size? \n",
    "5. [1 point] You double the length of your password. What's the size of the sample size now?\n",
    "6. [4 points] Based on the previous problem, would a password that is a complete sentence (35 characters) with only lowercase letters be more or less secure than the previous problem? Justify your answer."
   ]
  }
 ],
 "metadata": {
  "kernelspec": {
   "display_name": "Python 3",
   "language": "python",
   "name": "python3"
  },
  "language_info": {
   "codemirror_mode": {
    "name": "ipython",
    "version": 3
   },
   "file_extension": ".py",
   "mimetype": "text/x-python",
   "name": "python",
   "nbconvert_exporter": "python",
   "pygments_lexer": "ipython3",
   "version": "3.6.3"
  }
 },
 "nbformat": 4,
 "nbformat_minor": 2
}
