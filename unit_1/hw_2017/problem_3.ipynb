{
 "cells": [
  {
   "cell_type": "markdown",
   "metadata": {
    "nbgrader": {
     "grade": false,
     "grade_id": "3_description",
     "locked": true,
     "schema_version": 1,
     "solution": false
    }
   },
   "source": [
    "3. Sample Spaces\n",
    "====\n",
    "**Answers these problems symbolically**\n",
    "\n",
    "Each problem is worth 4 points\n",
    "\n",
    "1. You play a game where each time you flip a coin and draw a card. Both of these actions make up an observation. What is the size of the sample space?\n",
    "2. What is the sample space for temperature of macroscopic objects?\n",
    "2. You dial random 10 digit phone numbers. What's the sample size?\n",
    "4. You have a 6 character password which can contain uppercase, lowercase and numbers. What's the sample space size? \n",
    "5. You double the length of your password. What's the sample size now?\n",
    "7. Based on the previous problem, would a password that is a complete sentence (35 characters) with only lower case letters plus a space be more or less secure from the previous problem? Justify your answer."
   ]
  },
  {
   "cell_type": "markdown",
   "metadata": {
    "nbgrader": {
     "grade": true,
     "grade_id": "3_1",
     "locked": false,
     "points": 4,
     "schema_version": 1,
     "solution": true
    }
   },
   "source": [
    "#### Answer 3.1\n",
    "$$\n",
    "2 \\times 52 = 104\n",
    "$$"
   ]
  },
  {
   "cell_type": "markdown",
   "metadata": {
    "nbgrader": {
     "grade": true,
     "grade_id": "3_2",
     "locked": false,
     "points": 4,
     "schema_version": 1,
     "solution": true
    }
   },
   "source": [
    "#### Answer 3.2\n",
    "$$\n",
    "(0,\\infty)\n",
    "$$"
   ]
  },
  {
   "cell_type": "markdown",
   "metadata": {
    "nbgrader": {
     "grade": true,
     "grade_id": "3_3",
     "locked": false,
     "points": 4,
     "schema_version": 1,
     "solution": true
    }
   },
   "source": [
    "#### Answer 3.3\n",
    "$$\n",
    "10^{10}\n",
    "$$"
   ]
  },
  {
   "cell_type": "markdown",
   "metadata": {
    "nbgrader": {
     "grade": true,
     "grade_id": "3_4",
     "locked": false,
     "points": 4,
     "schema_version": 1,
     "solution": true
    }
   },
   "source": [
    "#### Answer 3.4\n",
    "$$\n",
    "\\left(26 + 26 + 10\\right)^6 = 62^6\n",
    "$$"
   ]
  },
  {
   "cell_type": "markdown",
   "metadata": {
    "nbgrader": {
     "grade": true,
     "grade_id": "3_5",
     "locked": false,
     "points": 4,
     "schema_version": 1,
     "solution": true
    }
   },
   "source": [
    "#### Answer 3.5\n",
    "$$\n",
    "62^{12}\n",
    "$$"
   ]
  },
  {
   "cell_type": "markdown",
   "metadata": {
    "nbgrader": {
     "grade": true,
     "grade_id": "3_6",
     "locked": false,
     "points": 4,
     "schema_version": 1,
     "solution": true
    }
   },
   "source": [
    "#### Answer 3.6\n",
    "$$\n",
    "\\textrm{sentence} = 27^{35} \\approx 10^{50}\n",
    "$$\n",
    "\n",
    "$$\n",
    "\\textrm{normal} = 62^{13} \\approx 10^{17}\n",
    "$$\n",
    "\n",
    "A sentence is significantly more secure"
   ]
  }
 ],
 "metadata": {
  "celltoolbar": "Create Assignment",
  "kernelspec": {
   "display_name": "Python 3",
   "language": "python",
   "name": "python3"
  },
  "language_info": {
   "codemirror_mode": {
    "name": "ipython",
    "version": 3
   },
   "file_extension": ".py",
   "mimetype": "text/x-python",
   "name": "python",
   "nbconvert_exporter": "python",
   "pygments_lexer": "ipython3",
   "version": "3.5.2"
  }
 },
 "nbformat": 4,
 "nbformat_minor": 2
}
