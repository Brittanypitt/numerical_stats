{
 "cells": [
  {
   "cell_type": "markdown",
   "metadata": {},
   "source": [
    "Homework 1\n",
    "====\n",
    "#### CHE 116: Numerical Methods and Statistics\n",
    "\n",
    "Version 1.0 (1/17/2020)\n",
    "\n",
    "----"
   ]
  },
  {
   "cell_type": "markdown",
   "metadata": {},
   "source": [
    "# 1. Probability\n",
    "\n",
    "The probability of an event or element in a sample space is written as $P(A)$, where $A$ is the event or element in the sample space. **Answer the following problems symbolically and simplified.** Each problem is worth 1 point.\n",
    "\n",
    "1. [2 points] Our sample space contains three elements: $Q = \\{1, 2, 3\\}$. What is the probability of observing $P(1 \\,\\textrm{OR} \\,2\\, \\textrm{OR}\\, 3)$?\n",
    "\n",
    "2. [2 points] What is the key differnce between $B_1$ and $B_2$ in these two expressions: $P( A \\,\\textrm{OR} \\,B_1)$ and $P(A \\,\\textrm{AND}\\, B_2)$ aside from the fact that OR is in the first expression and AND in the second.  \n",
    "\n",
    "3. [2 points] Consider the sample space of days in 2020 and assume each day has equal probability. If event $E$ is elements $\\{\\textrm{September 3rd}, \\textrm{October 24th}, \\textrm{December 13th}\\}$, then what is the probability of the event $E$, $P(E)$?\n",
    "\n",
    "4. [2 points] What is the probability of not event $E$ from the previous question?\n",
    "\n",
    "5. [2 points] What is the probability of observing September 3rd and then September 4th?\n",
    "\n",
    "6. [4 points] State the number of observations/samples for the probabilities specified in questions 1.3-1.5. \n",
    " "
   ]
  },
  {
   "cell_type": "markdown",
   "metadata": {
    "collapsed": true
   },
   "source": [
    "### 1.1\n",
    "\n",
    "$$\n",
    "P(1 \\,\\textrm{OR} \\,2\\, \\textrm{OR}\\, 3\\,\\textrm{OR}) = P(1) + P(2) + P(3) = 1\n",
    "$$"
   ]
  },
  {
   "cell_type": "markdown",
   "metadata": {},
   "source": [
    "### 1.2\n",
    "$B_1$ is another possible element from the same observation as $A$ in the OR expression. $B_2$ is for a second sequential independent sample. Another possible answer is stating that A and $B_1$ must be in the same sample space, where $B_2$ could be a different sample space than $A$. "
   ]
  },
  {
   "cell_type": "markdown",
   "metadata": {},
   "source": [
    "### 1.3\n",
    "$$\n",
    "\\frac{1}{366} + \\frac{1}{366} + \\frac{1}{366} = \\frac{3}{366}\n",
    "$$"
   ]
  },
  {
   "cell_type": "markdown",
   "metadata": {},
   "source": [
    "### 1.4\n",
    "$$\n",
    "1 - \\frac{3}{366} = \\frac{363}{366}\n",
    "$$"
   ]
  },
  {
   "cell_type": "markdown",
   "metadata": {},
   "source": [
    "### 1.5\n",
    "\n",
    "$$\n",
    "\\frac{1}{366} \\times \\frac{1}{366} = \\frac{1}{133956}\n",
    "$$"
   ]
  },
  {
   "cell_type": "markdown",
   "metadata": {},
   "source": [
    "### 1.6\n",
    "\n",
    "- 1.3: 1\n",
    "- 1.4: 1\n",
    "- 1.5: 2"
   ]
  },
  {
   "cell_type": "markdown",
   "metadata": {},
   "source": [
    "# Die Probability\n",
    " \n",
    " You are rolling a die with **6 sides**. Event $A$ is that you roll a 4. Event $B$ is that you roll a $6$. Event $C$ is rolling a number greater than 2. **Answer these problems using python code**. Each problem is worth 1 point.\n",
    " \n",
    "1. [1 point] What is the probability of event $A$?\n",
    "2. [1 point] If you roll a 4, what is then the probability of rolling event $A$ or $C$ on your next roll?\n",
    "3. [2 points] What is the probability of rolling event $A$ and event $C$ in the course of two rolls?\n",
    "4. [2 points] If you roll event $A$, on your next roll what is the probability of event $A$?\n",
    "5. [2 points] What is the probability of rolling event $A$ followed by event $B$?\n",
    "6. [4 points] What is the probability of having event $A$ occur within 10 rolls?"
   ]
  },
  {
   "cell_type": "markdown",
   "metadata": {},
   "source": [
    "### 2.1\n",
    "\n",
    "*The markdown answers are only for clarity and not required for credit*\n",
    "\n",
    "$$\n",
    "A = \\{4\\}\n",
    "$$"
   ]
  },
  {
   "cell_type": "code",
   "execution_count": 1,
   "metadata": {},
   "outputs": [
    {
     "data": {
      "text/plain": [
       "0.16666666666666666"
      ]
     },
     "execution_count": 1,
     "metadata": {},
     "output_type": "execute_result"
    }
   ],
   "source": [
    "1 / 6"
   ]
  },
  {
   "cell_type": "markdown",
   "metadata": {},
   "source": [
    "### 2.2\n",
    "\n",
    "The first roll has no impact\n",
    "\n",
    "$$\n",
    "P(A\\,\\textrm{OR}\\, C) = P(A) + P(C) - P(A \\cap C)\n",
    "$$\n"
   ]
  },
  {
   "cell_type": "code",
   "execution_count": 2,
   "metadata": {},
   "outputs": [
    {
     "data": {
      "text/plain": [
       "0.6666666666666666"
      ]
     },
     "execution_count": 2,
     "metadata": {},
     "output_type": "execute_result"
    }
   ],
   "source": [
    "1 / 6  + 4 / 6 - 1/6"
   ]
  },
  {
   "cell_type": "markdown",
   "metadata": {},
   "source": [
    "### 2.3\n",
    "\n",
    "The wording means we could roll A then C or C then A. A combination. "
   ]
  },
  {
   "cell_type": "code",
   "execution_count": 9,
   "metadata": {},
   "outputs": [
    {
     "data": {
      "text/plain": [
       "0.2222222222222222"
      ]
     },
     "execution_count": 9,
     "metadata": {},
     "output_type": "execute_result"
    }
   ],
   "source": [
    "(1 / 6) * (4 / 6) + (4 / 6) * (1 / 6)"
   ]
  },
  {
   "cell_type": "markdown",
   "metadata": {},
   "source": [
    "### 2.3\n",
    "\n",
    "Again, the roll has no impact"
   ]
  },
  {
   "cell_type": "code",
   "execution_count": 4,
   "metadata": {
    "scrolled": true
   },
   "outputs": [
    {
     "data": {
      "text/plain": [
       "0.16666666666666666"
      ]
     },
     "execution_count": 4,
     "metadata": {},
     "output_type": "execute_result"
    }
   ],
   "source": [
    "1/6"
   ]
  },
  {
   "cell_type": "markdown",
   "metadata": {},
   "source": [
    "#### 2.5\n",
    "\n",
    "The wording means only one permutation: A then C"
   ]
  },
  {
   "cell_type": "code",
   "execution_count": 5,
   "metadata": {},
   "outputs": [
    {
     "data": {
      "text/plain": [
       "0.027777777777777776"
      ]
     },
     "execution_count": 5,
     "metadata": {},
     "output_type": "execute_result"
    }
   ],
   "source": [
    "(1 /  6) * ( 1 / 6)"
   ]
  },
  {
   "cell_type": "markdown",
   "metadata": {},
   "source": [
    "**2.6**\n",
    "\n",
    "We can compute $P(\\sim A)$ and compute probability of that occuring 10 times in a row and negate that. Put another way, we know NOT (NOT A AND NOT A AND NOT A AND NOT A AND NOT A...) is the same thing as A occuring at least once."
   ]
  },
  {
   "cell_type": "code",
   "execution_count": 8,
   "metadata": {},
   "outputs": [
    {
     "data": {
      "text/plain": [
       "0.8384944171101543"
      ]
     },
     "execution_count": 8,
     "metadata": {},
     "output_type": "execute_result"
    }
   ],
   "source": [
    "1 - (5 / 6)**10"
   ]
  },
  {
   "cell_type": "markdown",
   "metadata": {},
   "source": [
    "# 3. Sample Spaces\n",
    "\n",
    "**Answers these problems symbolically**\n",
    "\n",
    "Each problem is worth 4 points\n",
    "\n",
    "1. [1 point] What could the sample space be for number of foxes on campus?\n",
    "2. [2 points] Each day I come to lecture with at most three whiteboard markers and each marker has ink or is out of ink. What is the sample space?\n",
    "3. [1 point] You are trying to guess a 10 digit phone numebr. What's the sample space size?\n",
    "4. [1 point] You have an 8 character password which can contain lowercase letters, uppercase letters, numbers, and 6 symbols (e.g., %, \\$, !). What's the size of the sample space size? \n",
    "5. [1 point] You double the length of your password. What's the size of the sample size now?\n",
    "6. [4 points] Many websites require having each of these characters (lowercase, uppercase, number). What is more effective, a 12 character password with only lowercase or an 8 character password requiring each of the extra classes?"
   ]
  },
  {
   "cell_type": "markdown",
   "metadata": {},
   "source": [
    "### 3.1\n",
    "\n",
    "\n",
    "Can use anything reasonable instead of $\\infty$\n",
    "$$\n",
    "\\{0, 1, 2, \\ldots, \\infty\\}\n",
    "$$\n"
   ]
  },
  {
   "cell_type": "markdown",
   "metadata": {},
   "source": [
    "### 3.2\n",
    "\n",
    "W - working, B - broken. It's ok if they assume markers are distinguishable, but they should have a much bigger sample space, $2^3 + 2^2 + 2^1 + 2^0 = 15$\n",
    "\n",
    "$$\n",
    "\\{ (), (W), (B), (WW), (WB), (BB), (WWW), (WWB), (WBB), (BBB)\\}\n",
    "$$"
   ]
  },
  {
   "cell_type": "markdown",
   "metadata": {},
   "source": [
    "### 3.3\n",
    "\n",
    "$$\n",
    "10^{10}\n",
    "$$"
   ]
  },
  {
   "cell_type": "markdown",
   "metadata": {},
   "source": [
    "### 3.4\n",
    "\n",
    "$$\n",
    "(26 + 26 + 10 + 6)^8 \\approx 4.6\\times10^{14}\n",
    "$$"
   ]
  },
  {
   "cell_type": "markdown",
   "metadata": {},
   "source": [
    "### 3.5\n",
    "\n",
    "$$\n",
    "(26 + 26 + 10 + 6)^{16} \\approx 2.1\\times10^{29}\n",
    "$$"
   ]
  },
  {
   "cell_type": "markdown",
   "metadata": {},
   "source": [
    "### 3.5\n",
    "\n",
    "$$\n",
    "(26)^{12} \\approx 9.5\\times10^{16}\n",
    "$$\n",
    "\n",
    "The length of the password raises the power which increases the number of possible passwords much more than changing the base of the exponent. So it is better to have longer passwords than silly rules."
   ]
  },
  {
   "cell_type": "markdown",
   "metadata": {},
   "source": [
    "# 4. Data Collection\n",
    "\n",
    "Choose two random things to observe over the course of the semester. Record your data youself and you should end up with at least 10 observations per month. Examples could be: screen time per day, time it takes to get to class, number of people you eat lunch with, colors in your outfit, number of birds in a particular tree, temperature at 9am.\n",
    "\n",
    "[8points] Write out the sample space of your two data and give an example of them."
   ]
  }
 ],
 "metadata": {
  "kernelspec": {
   "display_name": "Python 3",
   "language": "python",
   "name": "python3"
  },
  "language_info": {
   "codemirror_mode": {
    "name": "ipython",
    "version": 3
   },
   "file_extension": ".py",
   "mimetype": "text/x-python",
   "name": "python",
   "nbconvert_exporter": "python",
   "pygments_lexer": "ipython3",
   "version": "3.7.3"
  }
 },
 "nbformat": 4,
 "nbformat_minor": 2
}
