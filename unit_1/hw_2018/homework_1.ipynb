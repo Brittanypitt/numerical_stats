{
 "cells": [
  {
   "cell_type": "markdown",
   "metadata": {},
   "source": [
    "Homework 1\n",
    "====\n",
    "#### CHE 116: Numerical Methods and Statistics\n",
    "\n",
    "1/18/2018\n",
    "\n",
    "----"
   ]
  },
  {
   "cell_type": "markdown",
   "metadata": {},
   "source": [
    "1. Probability\n",
    "====\n",
    "\n",
    "The probability of an event or element in a sample space is written as $P(A)$, where $A$ is the event or element in the sample space. **Answer the following problems symbolically and simplified.** Each problem is worth 1 point.\n",
    "\n",
    "1. Our sample space contains three elements: $Q = \\{A, B, C\\}$. What is the probability of observing $P(A\\, \\textrm{OR}\\, \\textrm{B}\\, \\textrm{OR}\\, C)$\n",
    "\n",
    "2. If we observe two sequential independent samples with the same sample space as above, what is the probability of observing $A$ and then $B$?\n",
    "\n",
    "3. You have a sample space with the numbers 1-10, where each element in the sample space has the same probability. If event $E$ is elements $\\{2, 5, 7\\}$, then what is the probability of the event $E$, $P(E)$?\n",
    "\n",
    "4. What is the probability of not event $E$ from the previous question?\n",
    "\n",
    "5. State the number of observations/samples for the probabilities specified in questions 1.1-1.4. "
   ]
  },
  {
   "cell_type": "markdown",
   "metadata": {},
   "source": [
    "2. Die Probability\n",
    "====\n",
    " \n",
    " You are rolling a die with 6 sides. Event $A$ is that you roll a number less than 5. Event $B$ is that you roll a $6$. Event $C$ rolling a number less than 2. **Answer these problems using python code**. Each problem is worth 1 point.\n",
    " \n",
    "1. What is the probability of event $A$?\n",
    "2. If you roll once, what is the probability of rolling event $A$ or $C$?\n",
    "3. If you roll event $A$, on your next roll what is the probability of event $B$?\n",
    "4. What is the probability of rolling event $A$ and event $B$ in the course of two rolls?\n",
    "5. What is the probability of rolling event $A$ followed by event $B$?\n",
    "6. Why are your answers different for questions 2.4 and 2.5? Answer this in words using Markdown."
   ]
  },
  {
   "cell_type": "markdown",
   "metadata": {},
   "source": [
    "3. Sample Spaces\n",
    "====\n",
    "**Answers these problems symbolically**\n",
    "\n",
    "Each problem is worth 4 points\n",
    "\n",
    "1. You play a game where each time you flip a coin and draw a card from a 52 card deck. Both of these actions make up an observation. What is the size of the sample space?\n",
    "2. What is the sample space for number of students attending lecture if there are 80 students enrolled?\n",
    "3. You dial random 10 digit phone numbers. What's the sample size?\n",
    "4. You have a 10 character password which can contain lowercase letters and numbers. What's the sample space size? \n",
    "5. You double the length of your password. What's the sample size now?\n",
    "6. Based on the previous problem, would a password that is a complete sentence (35 characters) with only lowercase letters plus a space be more or less secure than the previous problem? Justify your answer."
   ]
  }
 ],
 "metadata": {
  "kernelspec": {
   "display_name": "Python 3",
   "language": "python",
   "name": "python3"
  },
  "language_info": {
   "codemirror_mode": {
    "name": "ipython",
    "version": 3
   },
   "file_extension": ".py",
   "mimetype": "text/x-python",
   "name": "python",
   "nbconvert_exporter": "python",
   "pygments_lexer": "ipython3",
   "version": "3.6.2"
  }
 },
 "nbformat": 4,
 "nbformat_minor": 2
}
