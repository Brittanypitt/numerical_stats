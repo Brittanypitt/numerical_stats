{
 "cells": [
  {
   "cell_type": "markdown",
   "metadata": {},
   "source": [
    "Homework 9 Key\n",
    "====\n",
    "#### CHE 116: Numerical Methods and Statistics\n",
    "\n",
    "3/29/2018\n",
    "\n",
    "----\n",
    "\n",
    "Homework Requirements:\n",
    "\n",
    "1. Write all equations in $\\LaTeX$\n",
    "2. Simplify all expressions\n",
    "2. Put comments in your Python code\n",
    "3. Explain or show your work\n",
    "4. Follow the academic honesty guidelines in the syllabus\n",
    "\n",
    "-----"
   ]
  },
  {
   "cell_type": "markdown",
   "metadata": {},
   "source": [
    "1. Slicing (20 Points)\n",
    "===\n",
    "\n",
    "Answer the following questions by slicing a numpy array containing the given array. Each answer should be done using slicing and summing multiple copies of the array. Do not use `for` loops or any other approach. See example answer. 4 Points each.\n",
    "\n",
    "$$\n",
    "[1, 4, 7, 11, 34, -3, 5, 7, 5, 2, 3, 13]\n",
    "$$\n",
    "\n",
    "\n",
    "\n",
    "1. $x_0 , x_2,  x_4, \\ldots $\n",
    "2. $x_0 + x_1, x_1 + x_2, \\ldots$\n",
    "3. $x_1 - x_0, x_2 - x_1, \\ldots$\n",
    "4. $ x_0 / x_1, x_2 / x_3, x_4 / x_5 \\ldots$\n",
    "5. $ x_0 \\cdot x_N, x_1 \\cdot x_{N - 1}, \\ldots x_{\\frac{N}{2} - 1} \\cdot x_{\\frac{N}{2}}$"
   ]
  },
  {
   "cell_type": "markdown",
   "metadata": {},
   "source": [
    "#### 1.1 Answer\n"
   ]
  },
  {
   "cell_type": "code",
   "execution_count": 1,
   "metadata": {},
   "outputs": [
    {
     "data": {
      "text/plain": [
       "array([ 1,  7, 34,  5,  5,  3])"
      ]
     },
     "execution_count": 1,
     "metadata": {},
     "output_type": "execute_result"
    }
   ],
   "source": [
    "import numpy as np\n",
    "x = np.array([1, 4, 7, 11, 34, -3, 5, 7, 5, 2, 3, 13])\n",
    "###-------###\n",
    "x[::2]"
   ]
  },
  {
   "cell_type": "markdown",
   "metadata": {},
   "source": [
    "#### 1.2 Answer"
   ]
  },
  {
   "cell_type": "code",
   "execution_count": 2,
   "metadata": {},
   "outputs": [
    {
     "data": {
      "text/plain": [
       "array([ 5, 11, 18, 45, 31,  2, 12, 12,  7,  5, 16])"
      ]
     },
     "execution_count": 2,
     "metadata": {},
     "output_type": "execute_result"
    }
   ],
   "source": [
    "x[:-1] + x[1:]"
   ]
  },
  {
   "cell_type": "markdown",
   "metadata": {},
   "source": [
    "#### 1.3 Answer"
   ]
  },
  {
   "cell_type": "code",
   "execution_count": 3,
   "metadata": {},
   "outputs": [
    {
     "data": {
      "text/plain": [
       "array([  3,   3,   4,  23, -37,   8,   2,  -2,  -3,   1,  10])"
      ]
     },
     "execution_count": 3,
     "metadata": {},
     "output_type": "execute_result"
    }
   ],
   "source": [
    "x[1:] - x[:-1]"
   ]
  },
  {
   "cell_type": "markdown",
   "metadata": {},
   "source": [
    "#### 1.4 Answer"
   ]
  },
  {
   "cell_type": "code",
   "execution_count": 4,
   "metadata": {},
   "outputs": [
    {
     "data": {
      "text/plain": [
       "array([  0.25      ,   0.63636364, -11.33333333,   0.71428571,\n",
       "         2.5       ,   0.23076923])"
      ]
     },
     "execution_count": 4,
     "metadata": {},
     "output_type": "execute_result"
    }
   ],
   "source": [
    "x[::2] / x[1::2]"
   ]
  },
  {
   "cell_type": "markdown",
   "metadata": {},
   "source": [
    "#### 1.5 Answer"
   ]
  },
  {
   "cell_type": "code",
   "execution_count": 5,
   "metadata": {},
   "outputs": [
    {
     "data": {
      "text/plain": [
       "array([  5,  28,  35,  22, 102, -39])"
      ]
     },
     "execution_count": 5,
     "metadata": {},
     "output_type": "execute_result"
    }
   ],
   "source": [
    "N = len(x)\n",
    "x[:N // 2] * x[N // 2:]"
   ]
  },
  {
   "cell_type": "markdown",
   "metadata": {},
   "source": [
    "2. Matrix Calculations (12 Points)\n",
    "===\n",
    "\n",
    "Use the two matrices given to answer the following problems. Answer in Python.\n",
    "\n",
    "$$\n",
    "\\mathbf{A} = \\left[\\begin{array}{lcr}\n",
    "3 & 2 & -1\\\\\n",
    "6 & 4 & -2\\\\\n",
    "5 & 0 & 3\\\\\n",
    "\\end{array}\\right]\n",
    "\\quad\n",
    "\\mathbf{B} = \\left[\\begin{array}{lcr}\n",
    "2 & 3 & 2\\\\\n",
    "3 & -4 & -2\\\\\n",
    "4 & -1 & 1\\\\\n",
    "\\end{array}\\right]\n",
    "$$\n",
    "\n",
    "1. [2 points] Report the rank of matrix $\\mathbf{A}$\n",
    "2. [2 points] Compute $\\mathbf{A \\cdot B}$\n",
    "3. [4 points] What is the second eigenvector of $\\mathbf{B}$? \n",
    "4. [4 points] Solve $\\mathbf{B}\\vec{x} = \\vec{b}$ where $\\vec{b} = \\left[14, -1, 11\\right]$"
   ]
  },
  {
   "cell_type": "markdown",
   "metadata": {},
   "source": [
    "#### Answer 2.1"
   ]
  },
  {
   "cell_type": "code",
   "execution_count": 6,
   "metadata": {},
   "outputs": [
    {
     "data": {
      "text/plain": [
       "2"
      ]
     },
     "execution_count": 6,
     "metadata": {},
     "output_type": "execute_result"
    }
   ],
   "source": [
    "import numpy.linalg as linalg\n",
    "A = np.array([ [3, 2, -1], [6, 4, -2], [5, 0, 3]])\n",
    "B = np.array([ [2, 3, 2], [3, -4, -2], [4, -1, 1]])\n",
    "linalg.matrix_rank(A)"
   ]
  },
  {
   "cell_type": "markdown",
   "metadata": {},
   "source": [
    "#### Answer 2.2"
   ]
  },
  {
   "cell_type": "code",
   "execution_count": 7,
   "metadata": {},
   "outputs": [
    {
     "data": {
      "text/plain": [
       "array([[ 8,  2,  1],\n",
       "       [16,  4,  2],\n",
       "       [22, 12, 13]])"
      ]
     },
     "execution_count": 7,
     "metadata": {},
     "output_type": "execute_result"
    }
   ],
   "source": [
    "A @ B"
   ]
  },
  {
   "cell_type": "markdown",
   "metadata": {},
   "source": [
    "#### Answer 2.3"
   ]
  },
  {
   "cell_type": "code",
   "execution_count": 8,
   "metadata": {},
   "outputs": [
    {
     "data": {
      "text/plain": [
       "array([-0.66610619, -0.0601505 , -0.74342751])"
      ]
     },
     "execution_count": 8,
     "metadata": {},
     "output_type": "execute_result"
    }
   ],
   "source": [
    "eig_vals, eig_vecs = linalg.eig(B)\n",
    "eig_vecs[:,1]"
   ]
  },
  {
   "cell_type": "markdown",
   "metadata": {},
   "source": [
    "#### Answer 2.4"
   ]
  },
  {
   "cell_type": "code",
   "execution_count": 9,
   "metadata": {},
   "outputs": [
    {
     "data": {
      "text/plain": [
       "array([3., 2., 1.])"
      ]
     },
     "execution_count": 9,
     "metadata": {},
     "output_type": "execute_result"
    }
   ],
   "source": [
    "b = np.array([14, -1, 11])\n",
    "linalg.solve(B, b)"
   ]
  },
  {
   "cell_type": "markdown",
   "metadata": {},
   "source": [
    "3. Definite Integrals (16 Points)\n",
    "==\n",
    "\n",
    "Evaluate the following definite integrals using the `quad` function and the `lambda` keyword. You may only report your answer in Python and you should only print the integral area *to 4 significant figures* and nothing else. Do not define a function, use `lambda` to define your integrands if necessary. 4 points each.\n",
    "\n",
    "1. $ \\int_0^{\\pi / 4} \\tan x\\, dx $\n",
    "\n",
    "2. $\\int_{-2}^0 3x^3\\, dx$\n",
    "\n",
    "3. $\\int_0^3 4x^2 - x \\,dx$\n",
    "\n",
    "4. $\\int_{-2}^2 \\sin x^2 \\, dx$"
   ]
  },
  {
   "cell_type": "markdown",
   "metadata": {},
   "source": [
    "#### Answer 3.1"
   ]
  },
  {
   "cell_type": "code",
   "execution_count": 10,
   "metadata": {},
   "outputs": [
    {
     "name": "stdout",
     "output_type": "stream",
     "text": [
      "0.3466\n"
     ]
    }
   ],
   "source": [
    "from scipy.integrate import quad\n",
    "\n",
    "ans, err = quad(lambda x: np.tan(x), 0, np.pi / 4)\n",
    "print(f'{ans:.4}')"
   ]
  },
  {
   "cell_type": "markdown",
   "metadata": {},
   "source": [
    "#### Answer 3.2"
   ]
  },
  {
   "cell_type": "code",
   "execution_count": 11,
   "metadata": {},
   "outputs": [
    {
     "name": "stdout",
     "output_type": "stream",
     "text": [
      "-12.0\n"
     ]
    }
   ],
   "source": [
    "ans, err = quad(lambda x: 3*x**3, -2, 0)\n",
    "print(f'{ans:.4}')"
   ]
  },
  {
   "cell_type": "markdown",
   "metadata": {},
   "source": [
    "#### Answer 3.3"
   ]
  },
  {
   "cell_type": "code",
   "execution_count": 12,
   "metadata": {},
   "outputs": [
    {
     "name": "stdout",
     "output_type": "stream",
     "text": [
      "31.5\n"
     ]
    }
   ],
   "source": [
    "ans, err = quad(lambda x: 4 * x**2 - x, 0, 3)\n",
    "print(f'{ans:.4}')"
   ]
  },
  {
   "cell_type": "markdown",
   "metadata": {},
   "source": [
    "#### Answer 3.4"
   ]
  },
  {
   "cell_type": "code",
   "execution_count": 13,
   "metadata": {},
   "outputs": [
    {
     "name": "stdout",
     "output_type": "stream",
     "text": [
      "1.61\n"
     ]
    }
   ],
   "source": [
    "ans, err = quad(lambda x: np.sin(x**2), -2, 2)\n",
    "print(f'{ans:.4}')"
   ]
  },
  {
   "cell_type": "markdown",
   "metadata": {},
   "source": [
    "4. Complex Functions (14 Points)\n",
    "===\n",
    "\n",
    "#### 1 (8 Points)\n",
    "Plot [4 points] & evaluate [4 points] the following definite integral. Report your answer to 4 significant figures.\n",
    "\n",
    "$$\n",
    "\\int_0^3 f(x)\\, dx, \\quad f(x) = \\; \\left. \\begin{array}{llr}\n",
    "x^2 & \\textrm{if} &  |x| < 2\\\\\n",
    "4 & \\textrm{if} & x > 2 \\\\\n",
    "x & \\textrm{otherwise} & \\\\\n",
    "\\end{array}\\right\\}\n",
    "$$\n",
    "\n",
    "#### 2 (6 Points)\n",
    "Evlaute the following integral. Report your answer to 4 significant figures.\n",
    "\n",
    "$$\n",
    "\\int_0^{1}\\int_{-2 x}^x \\sin xy \\,dy\\, dx\n",
    "$$"
   ]
  },
  {
   "cell_type": "markdown",
   "metadata": {},
   "source": [
    "#### 4.1 Answer"
   ]
  },
  {
   "cell_type": "code",
   "execution_count": 14,
   "metadata": {},
   "outputs": [
    {
     "name": "stdout",
     "output_type": "stream",
     "text": [
      "6.667\n"
     ]
    }
   ],
   "source": [
    "def fxn(x):\n",
    "    if abs(x) < 2:\n",
    "        return x ** 2\n",
    "    elif x > 2:\n",
    "        return 4\n",
    "    else:\n",
    "        x\n",
    "\n",
    "npfxn = np.vectorize(fxn)\n",
    "#remove 1 point if they put lambda x: npfxn(x) instead of just the name.\n",
    "ans, err = quad(npfxn, 0, 3)\n",
    "print(f'{ans:.4}')"
   ]
  },
  {
   "cell_type": "markdown",
   "metadata": {},
   "source": [
    "### 4.2 Answer"
   ]
  },
  {
   "cell_type": "code",
   "execution_count": 15,
   "metadata": {},
   "outputs": [
    {
     "name": "stdout",
     "output_type": "stream",
     "text": [
      "-0.3038\n"
     ]
    }
   ],
   "source": [
    "def integrand(x):\n",
    "    ans, err = quad(lambda y: np.sin(x * y), -2* x, x)\n",
    "    return ans\n",
    "\n",
    "ans, err = quad(integrand, 0, 1)\n",
    "print(f'{ans:.4}')"
   ]
  },
  {
   "cell_type": "markdown",
   "metadata": {},
   "source": [
    "5. Working with Data (26 Points)\n",
    "===\n",
    "\n",
    "Use the given datasets to compute the requested quantities:\n",
    "\n",
    "```python\n",
    "\n",
    "x = [-0.42,1.34,1.6,2.65,3.53,4.48,5.48,6.21,7.49,8.14,8.91,10.1]\n",
    "y = [1.58,1.61,2.04,5.47,9.8,16.46,25.34,33.32,49.7,58.79,71.26,93.34]\n",
    "```\n",
    "\n",
    "1. [6 points] Plot $x$ vs $y$\n",
    "1. [6 points] Compute $\\frac{dy}{dx}$ using the central difference rule. Make sure your sigfigs are not overstated. \n",
    "2. [6 points] Compute $\\int y\\, dx$ using the trapezoidal rule\n",
    "3. [6 points] Compute $\\int y\\, dx$ using Riemann sums\n",
    "5. [2 points] Why is the difference so large between the two of them?"
   ]
  },
  {
   "cell_type": "markdown",
   "metadata": {},
   "source": [
    "#### Answer 5.1\n",
    "\n",
    "** Note: should have points visible (no line-only plots)**}"
   ]
  },
  {
   "cell_type": "code",
   "execution_count": 16,
   "metadata": {},
   "outputs": [
    {
     "data": {
      "image/png": "[encoded data removed]",
      "text/plain": [
       "<Figure size 432x288 with 1 Axes>"
      ]
     },
     "metadata": {},
     "output_type": "display_data"
    }
   ],
   "source": [
    "x = [-0.42,1.34,1.6,2.65,3.53,4.48,5.48,6.21,7.49,8.14,8.91,10.1]\n",
    "y = [1.58,1.61,2.04,5.47,9.8,16.46,25.34,33.32,49.7,58.79,71.26,93.34]\n",
    "x = np.array(x)\n",
    "y = np.array(y)\n",
    "import matplotlib.pyplot as plt\n",
    "%matplotlib inline\n",
    "\n",
    "plt.plot(x,y, 'o-')\n",
    "plt.xlabel('x')\n",
    "plt.ylabel('y')\n",
    "plt.show()"
   ]
  },
  {
   "cell_type": "markdown",
   "metadata": {},
   "source": [
    "#### Answer 5.2"
   ]
  },
  {
   "cell_type": "code",
   "execution_count": 17,
   "metadata": {},
   "outputs": [
    {
     "name": "stdout",
     "output_type": "stream",
     "text": [
      "[ 0.84  2.46  4.09  5.97  7.95  9.91 11.86 13.39 15.09 17.37]\n"
     ]
    }
   ],
   "source": [
    "forward = (y[1:] - y[:-1])  / (x[1:] - x[:-1])\n",
    "diff = 0.5 * (forward[1:] + forward[:-1])\n",
    "print(np.round(diff, decimals=2))"
   ]
  },
  {
   "cell_type": "markdown",
   "metadata": {},
   "source": [
    "#### Answer 5.3"
   ]
  },
  {
   "cell_type": "code",
   "execution_count": 18,
   "metadata": {},
   "outputs": [
    {
     "name": "stdout",
     "output_type": "stream",
     "text": [
      "259.45\n"
     ]
    }
   ],
   "source": [
    "integral = np.sum( y[:-1] * (x[1:] - x[:-1]))\n",
    "print(f'{integral:.2f}')"
   ]
  },
  {
   "cell_type": "markdown",
   "metadata": {},
   "source": [
    "#### Answer 5.4"
   ]
  },
  {
   "cell_type": "code",
   "execution_count": 19,
   "metadata": {},
   "outputs": [
    {
     "name": "stdout",
     "output_type": "stream",
     "text": [
      "138.03\n"
     ]
    }
   ],
   "source": [
    "integral = np.sum( (y[:1] + y[:-1]) * (x[1:] - x[:-1])) / 2\n",
    "print(f'{integral:.2f}')"
   ]
  },
  {
   "cell_type": "markdown",
   "metadata": {},
   "source": [
    "#### Answer 5.5\n",
    "The last Riamnn rectangle will underestimate when the function is growing fastest"
   ]
  },
  {
   "cell_type": "markdown",
   "metadata": {},
   "source": [
    "Extra Credit Confidence Interval (20 Points)\n",
    "===\n",
    "\n",
    "Write a function which will compute a confidence interval given a sample and confidence level. Your function should optionally take in the population standard deviation. Your function should return a value, $y$, such that $\\mu = \\bar{x} \\pm y$. Demonstrate it on 3 examples: (1) 10 samples with known population standard deviation, (2) 30 samples with unknonw population standard deviation, and (3) 5 samples with unknown population standard deviation. You must both define the function (+ document it) and show it on these 3 examples to receive full credit. The confidence level (90%, 95%, etc) should be adjustable."
   ]
  },
  {
   "cell_type": "code",
   "execution_count": 20,
   "metadata": {},
   "outputs": [],
   "source": [
    "import scipy.stats as ss\n",
    "\n",
    "def conf_interval(samples, confidence_level=0.95, sigma=None):\n",
    "    '''\n",
    "    computes confidence interval given samples\n",
    "    \n",
    "    Parameters\n",
    "    ---------\n",
    "    samples : list\n",
    "        The samples\n",
    "    confidence_level : float, optional\n",
    "        The confidence level. Default is 95%\n",
    "    sigam : float, optional\n",
    "        Population standard deviation. Default is None (unpsecified)\n",
    "    \n",
    "    Returns\n",
    "    ---------\n",
    "    float\n",
    "        A value, y, such that the population mean lies at the sample mean +/- y\n",
    "    '''\n",
    "    sample_mean = np.mean(samples)\n",
    "    sample_var = np.var(samples, ddof=1) \n",
    "    if sigma is not None:\n",
    "        sample_var = sigma * sigma\n",
    "    if sigma is None and len(samples) < 25:\n",
    "        score = ss.t.ppf((1 - confidence_level) / 2, df=len(samples)-1)\n",
    "    else:\n",
    "        score = ss.norm.ppf((1 - confidence_level) / 2)\n",
    "    y = -score * np.sqrt(sample_var / len(samples))\n",
    "    return y"
   ]
  },
  {
   "cell_type": "code",
   "execution_count": 21,
   "metadata": {},
   "outputs": [
    {
     "name": "stdout",
     "output_type": "stream",
     "text": [
      "-0.21 +/- 0.52\n"
     ]
    }
   ],
   "source": [
    "# case 1\n",
    "samples = np.random.normal(size=10)\n",
    "y = conf_interval(samples, 0.90, 1)\n",
    "print(f'{np.mean(samples):.2} +/- {y:.2}'.format())"
   ]
  },
  {
   "cell_type": "code",
   "execution_count": 22,
   "metadata": {},
   "outputs": [
    {
     "name": "stdout",
     "output_type": "stream",
     "text": [
      "-0.052 +/- 0.33\n"
     ]
    }
   ],
   "source": [
    "# case 2\n",
    "samples = np.random.normal(size=30)\n",
    "y = conf_interval(samples, 0.95)\n",
    "print(f'{np.mean(samples):.2} +/- {y:.2}'.format())"
   ]
  },
  {
   "cell_type": "code",
   "execution_count": 23,
   "metadata": {},
   "outputs": [
    {
     "name": "stdout",
     "output_type": "stream",
     "text": [
      "-0.44 +/- 0.78\n"
     ]
    }
   ],
   "source": [
    "# case 1\n",
    "samples = np.random.normal(size=5)\n",
    "y = conf_interval(samples, 0.99)\n",
    "print(f'{np.mean(samples):.2} +/- {y:.2}'.format())"
   ]
  }
 ],
 "metadata": {
  "kernelspec": {
   "display_name": "Python 3",
   "language": "python",
   "name": "python3"
  },
  "language_info": {
   "codemirror_mode": {
    "name": "ipython",
    "version": 3
   },
   "file_extension": ".py",
   "mimetype": "text/x-python",
   "name": "python",
   "nbconvert_exporter": "python",
   "pygments_lexer": "ipython3",
   "version": "3.6.4"
  }
 },
 "nbformat": 4,
 "nbformat_minor": 2
}
