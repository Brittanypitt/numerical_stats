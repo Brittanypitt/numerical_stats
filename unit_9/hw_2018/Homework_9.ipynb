{
 "cells": [
  {
   "cell_type": "markdown",
   "metadata": {},
   "source": [
    "Homework 9\n",
    "====\n",
    "#### CHE 116: Numerical Methods and Statistics\n",
    "\n",
    "3/29/2018\n",
    "\n",
    "----\n",
    "\n",
    "Homework Requirements:\n",
    "\n",
    "1. Write all equations in $\\LaTeX$\n",
    "2. Simplify all expressions\n",
    "2. Put comments in your Python code\n",
    "3. Explain or show your work\n",
    "4. Follow the academic honesty guidelines in the syllabus\n",
    "\n",
    "-----"
   ]
  },
  {
   "cell_type": "markdown",
   "metadata": {},
   "source": [
    "1. Slicing (20 Points)\n",
    "===\n",
    "\n",
    "Answer the following questions by slicing a numpy array containing the given array. Each answer should be done using slicing and summing multiple copies of the array. Do not use `for` loops or any other approach. See example answer. 4 Points each.\n",
    "\n",
    "$$\n",
    "[1, 4, 7, 11, 34, -3, 5, 7, 5, 2, 3, 13]\n",
    "$$\n",
    "\n",
    "\n",
    "\n",
    "1. $x_0 , x_2,  x_4, \\ldots $\n",
    "2. $x_0 + x_1, x_1 + x_2, \\ldots$\n",
    "3. $x_1 - x_0, x_2 - x_1, \\ldots$\n",
    "4. $ x_0 / x_1, x_2 / x_3, x_4 / x_5 \\ldots$\n",
    "5. $ x_0 \\cdot x_N, x_1 \\cdot x_{N - 1}, \\ldots x_{\\frac{N}{2} - 1} \\cdot x_{\\frac{N}{2}}$"
   ]
  },
  {
   "cell_type": "markdown",
   "metadata": {},
   "source": [
    "#### 1.1 Answer\n"
   ]
  },
  {
   "cell_type": "code",
   "execution_count": 1,
   "metadata": {},
   "outputs": [
    {
     "data": {
      "text/plain": [
       "array([ 1,  7, 34,  5,  5,  3])"
      ]
     },
     "execution_count": 1,
     "metadata": {},
     "output_type": "execute_result"
    }
   ],
   "source": [
    "import numpy as np\n",
    "x = np.array([1, 4, 7, 11, 34, -3, 5, 7, 5, 2, 3, 13])\n",
    "###-------###\n",
    "x[::2]"
   ]
  },
  {
   "cell_type": "markdown",
   "metadata": {},
   "source": [
    "2. Matrix Calculations (12 Points)\n",
    "===\n",
    "\n",
    "Use the two matrices given to answer the following problems. Answer in Python.\n",
    "\n",
    "$$\n",
    "\\mathbf{A} = \\left[\\begin{array}{lcr}\n",
    "3 & 2 & -1\\\\\n",
    "6 & 4 & -2\\\\\n",
    "5 & 0 & 3\\\\\n",
    "\\end{array}\\right]\n",
    "\\quad\n",
    "\\mathbf{B} = \\left[\\begin{array}{lcr}\n",
    "2 & 3 & 2\\\\\n",
    "3 & -4 & -2\\\\\n",
    "4 & -1 & 1\\\\\n",
    "\\end{array}\\right]\n",
    "$$\n",
    "\n",
    "1. [2 points] Report the rank of matrix $\\mathbf{A}$\n",
    "2. [2 points] Compute $\\mathbf{A \\cdot B}$\n",
    "3. [4 points] What is the second eigenvector of $\\mathbf{B}$? \n",
    "4. [4 points] Solve $\\mathbf{B}\\vec{x} = \\vec{b}$ where $\\vec{b} = \\left[14, -1, 11\\right]$"
   ]
  },
  {
   "cell_type": "markdown",
   "metadata": {},
   "source": [
    "3. Definite Integrals (16 Points)\n",
    "==\n",
    "\n",
    "Evaluate the following definite integrals using the `quad` function and the `lambda` keyword. You may only report your answer in Python and you should only print the integral area *to 4 significant figures* and nothing else. Do not define a function, use `lambda` to define your integrands if necessary. 4 points each.\n",
    "\n",
    "1. $ \\int_0^{\\pi / 4} \\tan x\\, dx $\n",
    "\n",
    "2. $\\int_{-2}^0 3x^3\\, dx$\n",
    "\n",
    "3. $\\int_0^3 4x^2 - x \\,dx$\n",
    "\n",
    "4. $\\int_{-2}^2 \\sin x^2 \\, dx$"
   ]
  },
  {
   "cell_type": "markdown",
   "metadata": {},
   "source": [
    "4. Complex Functions (14 Points)\n",
    "===\n",
    "\n",
    "#### 1 (8 Points)\n",
    "Plot [4 points] & evaluate [4 points] the following definite integral. Report your answer to 4 significant figures.\n",
    "\n",
    "$$\n",
    "\\int_0^3 f(x)\\, dx, \\quad f(x) = \\; \\left. \\begin{array}{llr}\n",
    "x^2 & \\textrm{if} &  |x| < 2\\\\\n",
    "4 & \\textrm{if} & x > 2 \\\\\n",
    "x & \\textrm{otherwise} & \\\\\n",
    "\\end{array}\\right\\}\n",
    "$$\n",
    "\n",
    "#### 2 (6 Points)\n",
    "Evlaute the following integral. Report your answer to 4 significant figures.\n",
    "\n",
    "$$\n",
    "\\int_0^{1}\\int_{-2 x}^x \\sin xy \\,dy\\, dx\n",
    "$$"
   ]
  },
  {
   "cell_type": "markdown",
   "metadata": {},
   "source": [
    "5. Working with Data (26 Points)\n",
    "===\n",
    "\n",
    "Use the given datasets to compute the requested quantities:\n",
    "\n",
    "```python\n",
    "\n",
    "x = [-0.42,1.34,1.6,2.65,3.53,4.48,5.48,6.21,7.49,8.14,8.91,10.1]\n",
    "y = [1.58,1.61,2.04,5.47,9.8,16.46,25.34,33.32,49.7,58.79,71.26,93.34]\n",
    "```\n",
    "\n",
    "1. [6 points] Plot $x$ vs $y$\n",
    "1. [6 points] Compute $\\frac{dy}{dx}$ using the central difference rule. Make sure your sigfigs are not overstated. \n",
    "2. [6 points] Compute $\\int y\\, dx$\n",
    "3. [6 points] Compute $\\int y\\, dx$\n",
    "5. [2 points] Why is the difference so large between the two of them?"
   ]
  },
  {
   "cell_type": "markdown",
   "metadata": {},
   "source": [
    "Extra Credit Confidence Interval (20 Points)\n",
    "===\n",
    "\n",
    "Write a function which will compute a confidence interval given a sample and confidence level. Your function should optionally take in the population standard deviation. Your function should return a value, $y$, such that $\\mu = \\bar{x} \\pm y$. Demonstrate it on 3 examples: (1) 10 samples with known population standard deviation, (2) 30 samples with unknonw population standard deviation, and (3) 5 samples with unknown population standard deviation. You must both define the function (+ document it) and show it on these 3 examples to receive full credit. The confidence level (90%, 95%, etc) should be adjustable."
   ]
  }
 ],
 "metadata": {
  "kernelspec": {
   "display_name": "Python 3",
   "language": "python",
   "name": "python3"
  },
  "language_info": {
   "codemirror_mode": {
    "name": "ipython",
    "version": 3
   },
   "file_extension": ".py",
   "mimetype": "text/x-python",
   "name": "python",
   "nbconvert_exporter": "python",
   "pygments_lexer": "ipython3",
   "version": "3.6.4"
  }
 },
 "nbformat": 4,
 "nbformat_minor": 2
}
