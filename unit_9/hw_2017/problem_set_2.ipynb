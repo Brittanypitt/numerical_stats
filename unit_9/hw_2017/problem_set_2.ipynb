{
 "cells": [
  {
   "cell_type": "markdown",
   "metadata": {
    "collapsed": true,
    "deletable": true,
    "editable": true,
    "nbgrader": {
     "grade": false,
     "grade_id": "bt65w",
     "locked": true,
     "schema_version": 1,
     "solution": false
    }
   },
   "source": [
    "Problem 1 Instructions\n",
    "----\n",
    "\n",
    "Evaluate the following definite integrals using the `quad` function and the `lambda` keyword. You may only report your answer in Python and you should only print the integral area and nothing else. Do not define a function, use `lambda` to define your integrands if necessary"
   ]
  },
  {
   "cell_type": "markdown",
   "metadata": {
    "deletable": true,
    "editable": true,
    "nbgrader": {
     "grade": false,
     "grade_id": "htrweh",
     "locked": true,
     "schema_version": 1,
     "solution": false
    }
   },
   "source": [
    "#### 1.1\n",
    "\n",
    "$$\n",
    "\\int_0^\\pi \\sin x\\, dx\n",
    "$$"
   ]
  },
  {
   "cell_type": "code",
   "execution_count": 1,
   "metadata": {
    "collapsed": false,
    "deletable": true,
    "editable": true,
    "nbgrader": {
     "grade": true,
     "grade_id": "h5ehe",
     "locked": false,
     "points": 3,
     "schema_version": 1,
     "solution": true
    }
   },
   "outputs": [
    {
     "data": {
      "text/plain": [
       "2.0"
      ]
     },
     "execution_count": 1,
     "metadata": {},
     "output_type": "execute_result"
    }
   ],
   "source": [
    "from scipy.integrate import quad\n",
    "import numpy as np\n",
    "\n",
    "quad(np.sin, 0, np.pi)[0]"
   ]
  },
  {
   "cell_type": "markdown",
   "metadata": {
    "deletable": true,
    "editable": true,
    "nbgrader": {
     "grade": false,
     "grade_id": "umyrm",
     "locked": true,
     "schema_version": 1,
     "solution": false
    }
   },
   "source": [
    "#### 1.2\n",
    "\n",
    "$$\n",
    "\\int_0^1 \\ln x\\, dx\n",
    "$$"
   ]
  },
  {
   "cell_type": "code",
   "execution_count": 2,
   "metadata": {
    "collapsed": false,
    "deletable": true,
    "editable": true,
    "nbgrader": {
     "grade": true,
     "grade_id": "tbgw4bw4",
     "locked": false,
     "points": 3,
     "schema_version": 1,
     "solution": true
    }
   },
   "outputs": [
    {
     "data": {
      "text/plain": [
       "-0.9999999999999999"
      ]
     },
     "execution_count": 2,
     "metadata": {},
     "output_type": "execute_result"
    }
   ],
   "source": [
    "quad(np.log, 0, 1)[0]"
   ]
  },
  {
   "cell_type": "markdown",
   "metadata": {
    "deletable": true,
    "editable": true,
    "nbgrader": {
     "grade": false,
     "grade_id": "byte",
     "locked": true,
     "schema_version": 1,
     "solution": false
    }
   },
   "source": [
    "#### 1.3\n",
    "\n",
    "$$\n",
    "\\int_{-1}^1 x^2 \\, dx\n",
    "$$"
   ]
  },
  {
   "cell_type": "code",
   "execution_count": 3,
   "metadata": {
    "collapsed": false,
    "deletable": true,
    "editable": true,
    "nbgrader": {
     "grade": true,
     "grade_id": "hyteny",
     "locked": false,
     "points": 3,
     "schema_version": 1,
     "solution": true
    }
   },
   "outputs": [
    {
     "data": {
      "text/plain": [
       "0.6666666666666666"
      ]
     },
     "execution_count": 3,
     "metadata": {},
     "output_type": "execute_result"
    }
   ],
   "source": [
    "quad(lambda x: x**2, -1, 1)[0]"
   ]
  },
  {
   "cell_type": "markdown",
   "metadata": {
    "deletable": true,
    "editable": true,
    "nbgrader": {
     "grade": false,
     "grade_id": "ydtetn",
     "locked": true,
     "schema_version": 1,
     "solution": false
    }
   },
   "source": [
    "#### 1.1\n",
    "\n",
    "$$\n",
    "\\int_0^{10} y^3 - 2 y \\, dy\n",
    "$$"
   ]
  },
  {
   "cell_type": "code",
   "execution_count": 4,
   "metadata": {
    "collapsed": false,
    "deletable": true,
    "editable": true,
    "nbgrader": {
     "grade": true,
     "grade_id": "yetnbe",
     "locked": false,
     "points": 3,
     "schema_version": 1,
     "solution": true
    }
   },
   "outputs": [
    {
     "data": {
      "text/plain": [
       "2400.0"
      ]
     },
     "execution_count": 4,
     "metadata": {},
     "output_type": "execute_result"
    }
   ],
   "source": [
    "quad(lambda y: y**3 - 2 * y, 0, 10)[0]"
   ]
  },
  {
   "cell_type": "markdown",
   "metadata": {
    "deletable": true,
    "editable": true,
    "nbgrader": {
     "grade": false,
     "grade_id": "bneytnwe",
     "locked": true,
     "schema_version": 1,
     "solution": false
    }
   },
   "source": [
    "Problem 2 Instruction\n",
    "----\n",
    "\n",
    "Answer the following questions in Python"
   ]
  },
  {
   "cell_type": "markdown",
   "metadata": {
    "deletable": true,
    "editable": true,
    "nbgrader": {
     "grade": false,
     "grade_id": "nbwytby",
     "locked": true,
     "schema_version": 1,
     "solution": false
    }
   },
   "source": [
    "#### 2.1\n",
    "\n",
    "Create and plot a function which integrates the standard normal distribution from $-\\infty$ to the given argument. Plot from $-3$ to $3$. You may not use `scipy.stats` and you should evaluate the integral yourself using `quad`."
   ]
  },
  {
   "cell_type": "code",
   "execution_count": 5,
   "metadata": {
    "collapsed": false,
    "deletable": true,
    "editable": true,
    "nbgrader": {
     "grade": true,
     "grade_id": "bwyetby",
     "locked": false,
     "points": 8,
     "schema_version": 1,
     "solution": true
    }
   },
   "outputs": [
    {
     "data": {
      "image/png": "[encoded data removed]",
      "text/plain": [
       "<matplotlib.figure.Figure at 0x7f22fc5a7208>"
      ]
     },
     "metadata": {},
     "output_type": "display_data"
    }
   ],
   "source": [
    "import matplotlib.pyplot as plt\n",
    "\n",
    "def my_cdf(x):\n",
    "    '''Returns the cumulative distribution function for a standard normal from -inf to x\n",
    "    \n",
    "    Args:\n",
    "        x: the upper bound of definite integral\n",
    "        \n",
    "    Returns: The probability of the interval\n",
    "    '''\n",
    "    #use np.inf for lower bound\n",
    "    return quad(lambda x: 1 / np.sqrt(2 * np.pi) * np.exp(-x**2 / 2), -np.inf, x)[0]\n",
    "\n",
    "#need to vectorize it\n",
    "v_cdf = np.vectorize(my_cdf)\n",
    "\n",
    "#plot from -3 to 3 with 1000 points\n",
    "x = np.linspace(-3,3,1000)\n",
    "plt.plot(x, v_cdf(x))\n",
    "plt.xlabel('$a$')\n",
    "plt.ylabel('$P(-\\infty < x < a$')\n",
    "plt.show()"
   ]
  },
  {
   "cell_type": "markdown",
   "metadata": {
    "deletable": true,
    "editable": true,
    "nbgrader": {
     "grade": false,
     "grade_id": "nysnswy",
     "locked": true,
     "schema_version": 1,
     "solution": false
    }
   },
   "source": [
    "#### 2.2\n",
    "\n",
    "Define the following piecewise function in Python, plot it and  integrate it from -3 to 3:\n",
    "\n",
    "$$\n",
    "f(x) = \\; \\left. \\begin{array}{llr}\n",
    "x^2 & \\textrm{if} &  |x| < 1\\\\\n",
    "x & \\textrm{otherwise} & \\\\\n",
    "\\end{array}\\right\\}\n",
    "$$"
   ]
  },
  {
   "cell_type": "code",
   "execution_count": 6,
   "metadata": {
    "collapsed": false,
    "deletable": true,
    "editable": true,
    "nbgrader": {
     "grade": true,
     "grade_id": "nytdntdn",
     "locked": false,
     "points": 8,
     "schema_version": 1,
     "solution": true
    }
   },
   "outputs": [
    {
     "name": "stdout",
     "output_type": "stream",
     "text": [
      "The integral is 0.6666666666666664\n"
     ]
    },
    {
     "data": {
      "image/png": "[encoded data removed]",
      "text/plain": [
       "<matplotlib.figure.Figure at 0x7f2328274d30>"
      ]
     },
     "metadata": {},
     "output_type": "display_data"
    }
   ],
   "source": [
    "def fxn(x):\n",
    "    if np.abs(x) < 1:\n",
    "        return x**2\n",
    "    return x\n",
    "#need to vectorize is to use with numpy\n",
    "v_fxn = np.vectorize(fxn)\n",
    "\n",
    "#integrate it\n",
    "A = quad(v_fxn, -3, 3)[0]\n",
    "print('The integral is {}'.format(A))\n",
    "\n",
    "x = np.linspace(-3, 3, 1000)\n",
    "plt.plot(x, v_fxn(x))\n",
    "plt.xlabel('x')\n",
    "plt.ylabel('f(x)')\n",
    "plt.show()\n"
   ]
  },
  {
   "cell_type": "markdown",
   "metadata": {
    "deletable": true,
    "editable": true,
    "nbgrader": {
     "grade": false,
     "grade_id": "nytdnywsynts",
     "locked": true,
     "schema_version": 1,
     "solution": false
    }
   },
   "source": [
    "#### 2.3\n",
    "\n",
    "Evaluate the following integral:\n",
    "\n",
    "$$\n",
    "\\int_0^{3.5}\\int_0^x x^2 - y^2 \\,dy\\, dx\n",
    "$$"
   ]
  },
  {
   "cell_type": "code",
   "execution_count": 7,
   "metadata": {
    "collapsed": false,
    "deletable": true,
    "editable": true,
    "nbgrader": {
     "grade": true,
     "grade_id": "nytewmwn",
     "locked": false,
     "points": 6,
     "schema_version": 1,
     "solution": true
    }
   },
   "outputs": [
    {
     "data": {
      "text/plain": [
       "25.010416666666668"
      ]
     },
     "execution_count": 7,
     "metadata": {},
     "output_type": "execute_result"
    }
   ],
   "source": [
    "def inner_integral(x):\n",
    "    return quad(lambda y: x**2 - y**2, 0, x)[0]\n",
    "\n",
    "quad(inner_integral, 0, 3.5)[0]"
   ]
  }
 ],
 "metadata": {
  "celltoolbar": "Create Assignment",
  "kernelspec": {
   "display_name": "Python 3",
   "language": "python",
   "name": "python3"
  },
  "language_info": {
   "codemirror_mode": {
    "name": "ipython",
    "version": 3
   },
   "file_extension": ".py",
   "mimetype": "text/x-python",
   "name": "python",
   "nbconvert_exporter": "python",
   "pygments_lexer": "ipython3",
   "version": "3.5.3"
  }
 },
 "nbformat": 4,
 "nbformat_minor": 2
}
