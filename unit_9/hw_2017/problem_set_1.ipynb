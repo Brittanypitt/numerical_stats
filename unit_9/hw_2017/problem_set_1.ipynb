{
 "cells": [
  {
   "cell_type": "markdown",
   "metadata": {
    "deletable": true,
    "editable": true,
    "nbgrader": {
     "grade": false,
     "grade_id": "45vh",
     "locked": true,
     "schema_version": 1,
     "solution": false
    }
   },
   "source": [
    "Problem 1 Instructions\n",
    "----\n",
    "Create the following matrices without explicitly initializing them. Instead create a matrix of ones or zeros and use slicing to create the requested pattern. Print the matrix after creating it. Note that to access diagonals, you will have to create the indices first ( `diag_indices` ) and then slice using them."
   ]
  },
  {
   "cell_type": "markdown",
   "metadata": {
    "deletable": true,
    "editable": true,
    "nbgrader": {
     "grade": false,
     "grade_id": "35v6h3vh6",
     "locked": true,
     "schema_version": 1,
     "solution": false
    }
   },
   "source": [
    "#### 1.1\n",
    "10x10 matrix whose second column is the powers of 3, diagonal is all 4's, and all other elements are zero"
   ]
  },
  {
   "cell_type": "code",
   "execution_count": 1,
   "metadata": {
    "collapsed": false,
    "deletable": true,
    "editable": true,
    "nbgrader": {
     "grade": true,
     "grade_id": "chy73",
     "locked": false,
     "points": 2,
     "schema_version": 1,
     "solution": true
    }
   },
   "outputs": [
    {
     "name": "stdout",
     "output_type": "stream",
     "text": [
      "[[ 4.  3.  0.  0.  0.  0.  0.  0.  0.  0.]\n",
      " [ 0.  4.  0.  0.  0.  0.  0.  0.  0.  0.]\n",
      " [ 0.  3.  4.  0.  0.  0.  0.  0.  0.  0.]\n",
      " [ 0.  3.  0.  4.  0.  0.  0.  0.  0.  0.]\n",
      " [ 0.  3.  0.  0.  4.  0.  0.  0.  0.  0.]\n",
      " [ 0.  3.  0.  0.  0.  4.  0.  0.  0.  0.]\n",
      " [ 0.  3.  0.  0.  0.  0.  4.  0.  0.  0.]\n",
      " [ 0.  3.  0.  0.  0.  0.  0.  4.  0.  0.]\n",
      " [ 0.  3.  0.  0.  0.  0.  0.  0.  4.  0.]\n",
      " [ 0.  3.  0.  0.  0.  0.  0.  0.  0.  4.]]\n"
     ]
    }
   ],
   "source": [
    "import numpy as np\n",
    "\n",
    "m = np.zeros( (10,10) )\n",
    "m[:,1] = 3\n",
    "m[np.diag_indices(10)] = 4\n",
    "print(m)"
   ]
  },
  {
   "cell_type": "markdown",
   "metadata": {
    "deletable": true,
    "editable": true,
    "nbgrader": {
     "grade": false,
     "grade_id": "n35y56",
     "locked": true,
     "schema_version": 1,
     "solution": false
    }
   },
   "source": [
    "#### 1.2\n",
    "12x12 matrix whose columns sum to 1, whose diagonals are 0 and off-diagonals are strictly positive. Use `np.round(mat_name,2)` to only have two decimals when printing."
   ]
  },
  {
   "cell_type": "code",
   "execution_count": 2,
   "metadata": {
    "collapsed": false,
    "deletable": true,
    "editable": true,
    "nbgrader": {
     "grade": true,
     "grade_id": "g653",
     "locked": false,
     "points": 4,
     "schema_version": 1,
     "solution": true
    }
   },
   "outputs": [
    {
     "name": "stdout",
     "output_type": "stream",
     "text": [
      "[[ 0.    0.09  0.09  0.09  0.09  0.09  0.09  0.09  0.09  0.09  0.09  0.09]\n",
      " [ 0.09  0.    0.09  0.09  0.09  0.09  0.09  0.09  0.09  0.09  0.09  0.09]\n",
      " [ 0.09  0.09  0.    0.09  0.09  0.09  0.09  0.09  0.09  0.09  0.09  0.09]\n",
      " [ 0.09  0.09  0.09  0.    0.09  0.09  0.09  0.09  0.09  0.09  0.09  0.09]\n",
      " [ 0.09  0.09  0.09  0.09  0.    0.09  0.09  0.09  0.09  0.09  0.09  0.09]\n",
      " [ 0.09  0.09  0.09  0.09  0.09  0.    0.09  0.09  0.09  0.09  0.09  0.09]\n",
      " [ 0.09  0.09  0.09  0.09  0.09  0.09  0.    0.09  0.09  0.09  0.09  0.09]\n",
      " [ 0.09  0.09  0.09  0.09  0.09  0.09  0.09  0.    0.09  0.09  0.09  0.09]\n",
      " [ 0.09  0.09  0.09  0.09  0.09  0.09  0.09  0.09  0.    0.09  0.09  0.09]\n",
      " [ 0.09  0.09  0.09  0.09  0.09  0.09  0.09  0.09  0.09  0.    0.09  0.09]\n",
      " [ 0.09  0.09  0.09  0.09  0.09  0.09  0.09  0.09  0.09  0.09  0.    0.09]\n",
      " [ 0.09  0.09  0.09  0.09  0.09  0.09  0.09  0.09  0.09  0.09  0.09  0.  ]]\n"
     ]
    }
   ],
   "source": [
    "import numpy as np\n",
    "\n",
    "s = 12\n",
    "m = np.ones( (s,s) )\n",
    "m[np.diag_indices(s)] = 0\n",
    "for i in range(s):\n",
    "    m[:,i] /= np.sum(m[:,i])\n",
    "print(np.round(m,2))"
   ]
  },
  {
   "cell_type": "markdown",
   "metadata": {
    "deletable": true,
    "editable": true,
    "nbgrader": {
     "grade": false,
     "grade_id": "g623454",
     "locked": true,
     "schema_version": 1,
     "solution": false
    }
   },
   "source": [
    "#### 1.3\n",
    "10x3 matrix where all elements are 1 except in the second column, where every other element is 0"
   ]
  },
  {
   "cell_type": "code",
   "execution_count": 3,
   "metadata": {
    "collapsed": false,
    "deletable": true,
    "editable": true,
    "nbgrader": {
     "grade": true,
     "grade_id": "h635653",
     "locked": false,
     "points": 2,
     "schema_version": 1,
     "solution": true
    }
   },
   "outputs": [
    {
     "name": "stdout",
     "output_type": "stream",
     "text": [
      "[[ 1.  0.  1.]\n",
      " [ 1.  1.  1.]\n",
      " [ 1.  0.  1.]\n",
      " [ 1.  1.  1.]\n",
      " [ 1.  0.  1.]\n",
      " [ 1.  1.  1.]\n",
      " [ 1.  0.  1.]\n",
      " [ 1.  1.  1.]\n",
      " [ 1.  0.  1.]\n",
      " [ 1.  1.  1.]]\n"
     ]
    }
   ],
   "source": [
    "import numpy as np\n",
    "\n",
    "m = np.ones( (10,3) )\n",
    "m[:-1:2,1] = 0\n",
    "print(m)"
   ]
  },
  {
   "cell_type": "markdown",
   "metadata": {
    "deletable": true,
    "editable": true,
    "nbgrader": {
     "grade": false,
     "grade_id": "bteqt",
     "locked": true,
     "schema_version": 1,
     "solution": false
    }
   },
   "source": [
    "Problem 2 Instructions\n",
    "----\n",
    "\n",
    "Solve the following system of equations:\n",
    "\n",
    "\n",
    "$$\\begin{array}{ll}\n",
    "3 x -  10 \\sin y &= 4t\\\\\n",
    "x - z &= 6t - 3 \\\\\n",
    "4t + 2z - 4\\sin y &= x - 4\\\\\n",
    "x + z + 2&= 3t \\\\\n",
    "\\end{array}$$\n",
    "\n",
    "To answer, first rearrange the equations so that they are in standard form with constants on the right and all coefficients are explicit on the left (first cell). Solve in Python (second cell) and report the answer in LaTeX (last cell)."
   ]
  },
  {
   "cell_type": "markdown",
   "metadata": {
    "deletable": true,
    "editable": true,
    "nbgrader": {
     "grade": true,
     "grade_id": "bt452b",
     "locked": false,
     "points": 2,
     "schema_version": 1,
     "solution": true
    }
   },
   "source": [
    "\n",
    "$$\\begin{array}{ll}\n",
    "3 x -  10 \\sin y + 0z - 4t &= 0\\\\\n",
    "1x + 0\\sin y - 1 z - 6t &= - 3 \\\\\n",
    "-1x -4 \\sin y + 2z  + 4t &= - 4\\\\\n",
    "1x + 0\\sin y + 1z - 3t&= -2 \\\\\n",
    "\\end{array}$$\n"
   ]
  },
  {
   "cell_type": "code",
   "execution_count": 4,
   "metadata": {
    "collapsed": false,
    "deletable": true,
    "editable": true,
    "nbgrader": {
     "grade": true,
     "grade_id": "b5t22gf5rq",
     "locked": false,
     "points": 4,
     "schema_version": 1,
     "solution": true
    }
   },
   "outputs": [
    {
     "name": "stdout",
     "output_type": "stream",
     "text": [
      "[ 2.  1. -1.  1.]\n",
      "2.0 1.57079632679 -1.0 1.0\n"
     ]
    }
   ],
   "source": [
    "import numpy as np\n",
    "import numpy.linalg as  lin\n",
    "\n",
    "A = np.array([[3, -10, 0, 4], [1, 0, -1, -6], [-1, -4, 2, 4], [1, 0, 1, -3]])\n",
    "Ainv=  lin.inv(A)\n",
    "B = np.array([0, -3, -4, -2])\n",
    "x = Ainv.dot(B)\n",
    "print(x)\n",
    "print(x[0], np.arcsin(x[1]), x[2], x[3])"
   ]
  },
  {
   "cell_type": "markdown",
   "metadata": {
    "deletable": true,
    "editable": true,
    "nbgrader": {
     "grade": true,
     "grade_id": "b45242",
     "locked": false,
     "points": 2,
     "schema_version": 1,
     "solution": true
    }
   },
   "source": [
    "$$\n",
    "x = 2,\\, y = \\frac{\\pi}{2},\\, z = -1,\\, t = 1\n",
    "$$"
   ]
  },
  {
   "cell_type": "markdown",
   "metadata": {
    "deletable": true,
    "editable": true,
    "nbgrader": {
     "grade": false,
     "grade_id": "eferer",
     "locked": true,
     "schema_version": 1,
     "solution": false
    }
   },
   "source": [
    "Problem 3 Instructions\n",
    "---\n",
    "\n",
    "Calculate the eigenvalues and eigenvectors for the following expressions. Solve in Python and then write out the eigenvalues/eigenvectors in LaTeX. When writing decimals, only report two significant figures."
   ]
  },
  {
   "cell_type": "markdown",
   "metadata": {
    "deletable": true,
    "editable": true,
    "nbgrader": {
     "grade": false,
     "grade_id": "g542635",
     "locked": true,
     "schema_version": 1,
     "solution": false
    }
   },
   "source": [
    "#### 3.1\n",
    "\n",
    "$$A = \\left[\\begin{array}{lcr}\n",
    "2 & 1 & 1\\\\\n",
    "2 & -4 & 2\\\\\n",
    "4 & 3 & -5\\\\\n",
    "\\end{array}\\right]$$"
   ]
  },
  {
   "cell_type": "code",
   "execution_count": 5,
   "metadata": {
    "collapsed": false,
    "deletable": true,
    "editable": true,
    "nbgrader": {
     "grade": true,
     "grade_id": "egfregrer",
     "locked": false,
     "points": 2,
     "schema_version": 1,
     "solution": true
    }
   },
   "outputs": [
    {
     "data": {
      "text/plain": [
       "(array([ 3.13090791, -3.08053983, -7.05036808]),\n",
       " array([[ 0.77639311,  0.26691702, -0.03470413],\n",
       "        [ 0.36237847, -0.74614174, -0.53196789],\n",
       "        [ 0.51565064, -0.60994083,  0.84605307]]))"
      ]
     },
     "execution_count": 5,
     "metadata": {},
     "output_type": "execute_result"
    }
   ],
   "source": [
    "import numpy as np\n",
    "import numpy.linalg as  lin\n",
    "\n",
    "A = np.array([[2, 1, 1], [2, -4, 2], [4, 3, -5]])\n",
    "lin.eig(A)"
   ]
  },
  {
   "cell_type": "markdown",
   "metadata": {
    "deletable": true,
    "editable": true,
    "nbgrader": {
     "grade": true,
     "grade_id": "bt5335h63",
     "locked": false,
     "points": 1,
     "schema_version": 1,
     "solution": true
    }
   },
   "source": [
    "$$\\lambda_1 = 3.1$$\n",
    "$$\n",
    "v_1 = \\left[0.78, 0.36, 0.52\\right]\n",
    "$$\n",
    "\n",
    "$$\\lambda_2 = -3.1$$\n",
    "$$\n",
    "v_2 = \\left[0.27, -0.75, -0.61\\right]\n",
    "$$\n",
    "\n",
    "\n",
    "$$\\lambda_3 = -7.1$$\n",
    "$$\n",
    "v_3 = \\left[-0.034, -0.53, 0.85\\right]\n",
    "$$"
   ]
  },
  {
   "cell_type": "markdown",
   "metadata": {
    "deletable": true,
    "editable": true,
    "nbgrader": {
     "grade": false,
     "grade_id": "4btwtw4",
     "locked": true,
     "schema_version": 1,
     "solution": false
    }
   },
   "source": [
    "#### 3.2\n",
    "\n",
    "$$A = \\left[\\begin{array}{lcr}\n",
    "4 & 3 & 4\\\\\n",
    "6 & -4 & 3\\\\\n",
    "2 & -1 & -5\\\\\n",
    "\\end{array}\\right] - \n",
    "\\left[\\begin{array}{lcr}\n",
    "1 & 3 & 1\\\\\n",
    "3 & -4 & 1\\\\\n",
    "4 & 3 & -5\\\\\n",
    "\\end{array}\\right]$$"
   ]
  },
  {
   "cell_type": "code",
   "execution_count": 6,
   "metadata": {
    "collapsed": false,
    "deletable": true,
    "editable": true,
    "nbgrader": {
     "grade": true,
     "grade_id": "gvtrwwsq",
     "locked": false,
     "points": 2,
     "schema_version": 1,
     "solution": true
    }
   },
   "outputs": [
    {
     "data": {
      "text/plain": [
       "(array([ 1.85978745+3.63561596j,  1.85978745-3.63561596j, -0.71957490+0.j        ]),\n",
       " array([[-0.16558262-0.52796719j, -0.16558262+0.52796719j, -0.57165827+0.j        ],\n",
       "        [-0.24395557-0.37475939j, -0.24395557+0.37475939j,  0.41333336+0.j        ],\n",
       "        [ 0.70276178+0.j        ,  0.70276178-0.j        ,  0.70877525+0.j        ]]))"
      ]
     },
     "execution_count": 6,
     "metadata": {},
     "output_type": "execute_result"
    }
   ],
   "source": [
    "A = np.array([[4, 3, 4], [6, -4, 3], [2, -1, -5]]) -  np.array([[1, 3, 1], [3, -4, 1], [4, 3, -5]])\n",
    "lin.eig(A)\n"
   ]
  },
  {
   "cell_type": "markdown",
   "metadata": {
    "deletable": true,
    "editable": true,
    "nbgrader": {
     "grade": true,
     "grade_id": "bgt4w",
     "locked": false,
     "points": 1,
     "schema_version": 1,
     "solution": true
    }
   },
   "source": [
    "$$\\lambda_1 = 3.4 + 4.1 i$$\n",
    "$$\n",
    "v_1 = \\left[0.27 - 0.35 i, -0.031 - 0.21 i, 0.87\\right]\n",
    "$$\n",
    "\n",
    "$$\\lambda_2 = 3.4 - 4.1 i$$\n",
    "$$\n",
    "v_2 = \\left[0.27 + 0.35 i, -0.031 + 0.21 i, 0.87\\right]\n",
    "$$\n",
    "\n",
    "\n",
    "$$\\lambda_3 = 4.2$$\n",
    "$$\n",
    "v_3 = \\left[-0.74, 0.65, 0.15\\right]\n",
    "$$"
   ]
  },
  {
   "cell_type": "markdown",
   "metadata": {
    "deletable": true,
    "editable": true,
    "nbgrader": {
     "grade": false,
     "grade_id": "g54252",
     "locked": true,
     "schema_version": 1,
     "solution": false
    }
   },
   "source": [
    "#### 3.3\n",
    "\n",
    "$$\n",
    "A = \n",
    "\\left[\\begin{array}{lcr}\n",
    "4 & 3 & 4\\\\\n",
    "6 & -4 & 3\\\\\n",
    "2 & -1 & -5\\\\\n",
    "\\end{array}\\right] - \n",
    "\\left(\\frac{3 \\sqrt{273} - 29}{8} \\right)\\left[\\begin{array}{lcr}\n",
    "0 & 1 & 0\\\\\n",
    "0 & 0 & 0\\\\\n",
    "0 & 0 & 0\\\\\n",
    "\\end{array}\\right]\n",
    "$$"
   ]
  },
  {
   "cell_type": "code",
   "execution_count": 7,
   "metadata": {
    "collapsed": false,
    "deletable": true,
    "editable": true,
    "nbgrader": {
     "grade": true,
     "grade_id": "5g3g5t42",
     "locked": false,
     "points": 3,
     "schema_version": 1,
     "solution": true
    }
   },
   "outputs": [
    {
     "data": {
      "text/plain": [
       "(array([-2.60387547,  0.10991626,  3.49395921]),\n",
       " array([[ 0.32798528, -0.73697623, -0.59100905],\n",
       "        [-0.73697623, -0.59100905,  0.32798528],\n",
       "        [ 0.59100905, -0.32798528,  0.73697623]]))"
      ]
     },
     "execution_count": 7,
     "metadata": {},
     "output_type": "execute_result"
    }
   ],
   "source": [
    "#approximately Hermitian since complex portions are miniscule, so use that instead!\n",
    "A = np.array([[1,0,-2], [0,-1,3], [-2,2,1]]) + 1/8 *  (3 *  np.sqrt(273) - 29) * np.array([[0,1,0], [0,0,0], [0,0,0]])\n",
    "lin.eigh(A)"
   ]
  },
  {
   "cell_type": "markdown",
   "metadata": {
    "deletable": true,
    "editable": true,
    "nbgrader": {
     "grade": true,
     "grade_id": "h3763h5",
     "locked": false,
     "points": 1,
     "schema_version": 1,
     "solution": true
    }
   },
   "source": [
    "$$\\lambda_1 = -2.6$$\n",
    "$$\n",
    "v_1 = \\left[0.33, -0.74, -0.59\\right]\n",
    "$$\n",
    "\n",
    "$$\\lambda_2 = 0.11$$\n",
    "$$\n",
    "v_2 = \\left[-0.74, -0.59, -0.33\\right]\n",
    "$$\n",
    "\n",
    "\n",
    "$$\\lambda_3 = 3.5$$\n",
    "$$\n",
    "v_3 = \\left[-0.59, 0.33, 0.74\\right]\n",
    "$$"
   ]
  }
 ],
 "metadata": {
  "celltoolbar": "Create Assignment",
  "kernelspec": {
   "display_name": "Python 3",
   "language": "python",
   "name": "python3"
  },
  "language_info": {
   "codemirror_mode": {
    "name": "ipython",
    "version": 3
   },
   "file_extension": ".py",
   "mimetype": "text/x-python",
   "name": "python",
   "nbconvert_exporter": "python",
   "pygments_lexer": "ipython3",
   "version": "3.5.3"
  }
 },
 "nbformat": 4,
 "nbformat_minor": 2
}
