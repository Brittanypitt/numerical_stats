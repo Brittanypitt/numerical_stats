{
 "cells": [
  {
   "cell_type": "markdown",
   "metadata": {},
   "source": [
    "# Homework 9 Key\n",
    "#### CHE 116: Numerical Methods and Statistics\n",
    "\n",
    "\n",
    "2/21/2019\n",
    "\n",
    "----"
   ]
  },
  {
   "cell_type": "code",
   "execution_count": 30,
   "metadata": {},
   "outputs": [],
   "source": [
    "import numpy as np"
   ]
  },
  {
   "cell_type": "markdown",
   "metadata": {},
   "source": [
    "# 1. Creating Matrices (12 Points)\n",
    "\n",
    "Create the following matrices using the given constraints. 4 Points each.\n",
    "\n",
    "1. In 3 lines of python (not including prints/imports), create a 6x12 matrix whose second column (where we count \"first\", \"second\", etc.) is the powers of 2 (e.g., 1, 2, 4, 8, 16). Its third is all 4's. All other elements are zero\n",
    "2. In 5 lines of python, accomplish the following: create a random 10x10 matrix using `np.random.normal` centered at 10 with standard deviation of 5, replace all negative values with 0 and then modify it so its rows sum to 1 and 0, use `np.round` to round to one decimal place.\n",
    "3. In at most 3 lines of python, create a 9x9 matrix where all elements are 0 except in the diagonal, which is 1's"
   ]
  },
  {
   "cell_type": "markdown",
   "metadata": {},
   "source": [
    "### 1.1"
   ]
  },
  {
   "cell_type": "code",
   "execution_count": 2,
   "metadata": {},
   "outputs": [
    {
     "name": "stdout",
     "output_type": "stream",
     "text": [
      "[[ 0.  1.  4.  0.  0.  0.  0.  0.  0.  0.  0.  0.]\n",
      " [ 0.  2.  4.  0.  0.  0.  0.  0.  0.  0.  0.  0.]\n",
      " [ 0.  4.  4.  0.  0.  0.  0.  0.  0.  0.  0.  0.]\n",
      " [ 0.  8.  4.  0.  0.  0.  0.  0.  0.  0.  0.  0.]\n",
      " [ 0. 16.  4.  0.  0.  0.  0.  0.  0.  0.  0.  0.]\n",
      " [ 0. 32.  4.  0.  0.  0.  0.  0.  0.  0.  0.  0.]]\n"
     ]
    }
   ],
   "source": [
    "import numpy as np\n",
    "\n",
    "m = np.zeros((6, 12))\n",
    "m[:,1] = 2**np.arange(6)\n",
    "m[:,2] = 4\n",
    "print(m)"
   ]
  },
  {
   "cell_type": "markdown",
   "metadata": {},
   "source": [
    "### 1.2"
   ]
  },
  {
   "cell_type": "code",
   "execution_count": 23,
   "metadata": {},
   "outputs": [
    {
     "name": "stdout",
     "output_type": "stream",
     "text": [
      "[[0.1 0.1 0.1 0.1 0.1 0.  0.1 0.1 0.1 0.1]\n",
      " [0.1 0.1 0.  0.1 0.  0.2 0.  0.2 0.2 0.1]\n",
      " [0.  0.1 0.2 0.1 0.1 0.2 0.1 0.1 0.1 0.1]\n",
      " [0.1 0.1 0.  0.1 0.2 0.1 0.1 0.  0.1 0.1]\n",
      " [0.1 0.2 0.1 0.1 0.1 0.1 0.1 0.  0.1 0.1]\n",
      " [0.2 0.2 0.1 0.1 0.1 0.  0.  0.1 0.1 0. ]\n",
      " [0.1 0.1 0.1 0.1 0.  0.1 0.1 0.1 0.1 0.1]\n",
      " [0.1 0.1 0.1 0.1 0.1 0.1 0.1 0.1 0.1 0.1]\n",
      " [0.1 0.1 0.1 0.2 0.1 0.1 0.2 0.1 0.1 0. ]\n",
      " [0.1 0.1 0.1 0.2 0.1 0.1 0.  0.1 0.1 0.1]]\n"
     ]
    }
   ],
   "source": [
    "data = np.random.normal(size=(10,10), scale=5, loc=10)\n",
    "\n",
    "\n",
    "data[data < 0] = 0\n",
    "\n",
    "for i in range(10):\n",
    "    data[i,:] /= np.sum(data[i,:])\n",
    "print(np.round(data, 1))"
   ]
  },
  {
   "cell_type": "markdown",
   "metadata": {},
   "source": [
    "### 1.3"
   ]
  },
  {
   "cell_type": "code",
   "execution_count": 22,
   "metadata": {},
   "outputs": [
    {
     "name": "stdout",
     "output_type": "stream",
     "text": [
      "[[1. 0. 0. 0. 0. 0. 0. 0. 0.]\n",
      " [0. 1. 0. 0. 0. 0. 0. 0. 0.]\n",
      " [0. 0. 1. 0. 0. 0. 0. 0. 0.]\n",
      " [0. 0. 0. 1. 0. 0. 0. 0. 0.]\n",
      " [0. 0. 0. 0. 1. 0. 0. 0. 0.]\n",
      " [0. 0. 0. 0. 0. 1. 0. 0. 0.]\n",
      " [0. 0. 0. 0. 0. 0. 1. 0. 0.]\n",
      " [0. 0. 0. 0. 0. 0. 0. 1. 0.]\n",
      " [0. 0. 0. 0. 0. 0. 0. 0. 1.]]\n"
     ]
    }
   ],
   "source": [
    "data = np.zeros((9,9))\n",
    "for i in range(9):\n",
    "    data[i,i] = 1\n",
    "print(data)"
   ]
  },
  {
   "cell_type": "markdown",
   "metadata": {},
   "source": [
    "# 2. Solving Systems of Equations (8 Points)\n",
    "\n",
    "Solve the following systems of equations. 4 Points each. Write out your answer in Markdown\n",
    "\n",
    "## 1. \n",
    "$$\\begin{array}{ll}\n",
    "4x - 2y + z &= 0\\\\\n",
    "2x - 4y + z &= 1 \\\\\n",
    "2x + y + 3z &= 3\\\\\n",
    "\\end{array}$$\n",
    "\n",
    "\n",
    "## 2. \n",
    "$$\\begin{array}{ll}\n",
    "e^{x} + y + 4z &= 4\\\\\n",
    "4e^{x} - 2y - z &= -1 \\\\\n",
    "3e^{x} + y + z &= 2\\\\\n",
    "\\end{array}$$\n"
   ]
  },
  {
   "cell_type": "markdown",
   "metadata": {},
   "source": [
    "### 2.1"
   ]
  },
  {
   "cell_type": "code",
   "execution_count": 24,
   "metadata": {},
   "outputs": [
    {
     "name": "stdout",
     "output_type": "stream",
     "text": [
      "[-0.38235294 -0.11764706  1.29411765]\n"
     ]
    }
   ],
   "source": [
    "import numpy.linalg as  lin\n",
    "\n",
    "A = np.array([[4, -2, 1], [2, -4, 1], [2, 1, 3]])\n",
    "Ainv=  lin.inv(A)\n",
    "B = np.array([0, 1, 3])\n",
    "x = Ainv.dot(B)\n",
    "print(x)"
   ]
  },
  {
   "cell_type": "markdown",
   "metadata": {},
   "source": [
    "$$\n",
    "x = -0.38\\,\n",
    "y = -0.12\\,\n",
    "z = 1.29\\,\n",
    "$$"
   ]
  },
  {
   "cell_type": "markdown",
   "metadata": {},
   "source": [
    "### 2.2"
   ]
  },
  {
   "cell_type": "code",
   "execution_count": 27,
   "metadata": {},
   "outputs": [
    {
     "name": "stdout",
     "output_type": "stream",
     "text": [
      "-1.5198257537444133 0.53125 0.8125\n"
     ]
    }
   ],
   "source": [
    "A = np.array([[1, 1, 4], [4, -2, -1], [3, 1, 1]])\n",
    "Ainv=  lin.inv(A)\n",
    "B = np.array([4, -1, 2])\n",
    "x = Ainv.dot(B)\n",
    "print(np.log(x[0]), x[1], x[2])"
   ]
  },
  {
   "cell_type": "markdown",
   "metadata": {},
   "source": [
    "$$\n",
    "x = -1.52\\,\n",
    "y = 0.53\\,\n",
    "z = 0.81\n",
    "$$"
   ]
  },
  {
   "cell_type": "markdown",
   "metadata": {},
   "source": [
    "# 3. Eigenvalue/Eigenvector Problems (8 Points)\n",
    "\n",
    "\n",
    "Calculate the eigenvalues and eigenvectors for the following matrices. Solve in Python and then **write out the eigenvalues/eigenvectors in LaTeX**. When writing decimals, only report two significant figures.\n",
    "\n",
    "1. [3 Points]\n",
    "$$A = \\left[\\begin{array}{lcr}\n",
    "4 & 2 & 2\\\\\n",
    "4 & -8 & 4\\\\\n",
    "8 & 6 & -10\\\\\n",
    "\\end{array}\\right]$$\n",
    "\n",
    "\n",
    "2. [3 Points]\n",
    "$$A = \\left[\\begin{array}{lcr}\n",
    "1 & 5 & 1\\\\\n",
    "2 & -1 & 2\\\\\n",
    "1 & 2 & -3\\\\\n",
    "\\end{array}\\right]$$\n",
    "\n",
    "\n",
    "3. [2 Points] Why would you use `eigh` over `eig`?"
   ]
  },
  {
   "cell_type": "markdown",
   "metadata": {},
   "source": [
    "### 3.1"
   ]
  },
  {
   "cell_type": "code",
   "execution_count": 28,
   "metadata": {},
   "outputs": [
    {
     "name": "stdout",
     "output_type": "stream",
     "text": [
      "(array([  6.26181582,  -6.16107966, -14.10073615]), array([[ 0.77639311,  0.26691702, -0.03470413],\n",
      "       [ 0.36237847, -0.74614174, -0.53196789],\n",
      "       [ 0.51565064, -0.60994083,  0.84605307]]))\n"
     ]
    }
   ],
   "source": [
    "A = np.array([[4, 2, 2], [4, -8, 4], [8, 6, -10]])\n",
    "print(lin.eig(A))"
   ]
  },
  {
   "cell_type": "markdown",
   "metadata": {},
   "source": [
    "$$\\lambda_1 = 6.3$$\n",
    "$$\n",
    "v_1 = \\left[0.78, 0.36, 0.52\\right]\n",
    "$$\n",
    "\n",
    "$$\\lambda_2 = -6.2$$\n",
    "$$\n",
    "v_2 = \\left[0.27, -0.75, -0.61\\right]\n",
    "$$\n",
    "\n",
    "\n",
    "$$\\lambda_3 = -14.1$$\n",
    "$$\n",
    "v_3 = \\left[-0.034, -0.53, 0.85\\right]\n",
    "$$"
   ]
  },
  {
   "cell_type": "markdown",
   "metadata": {},
   "source": [
    "### 3.2"
   ]
  },
  {
   "cell_type": "code",
   "execution_count": 52,
   "metadata": {},
   "outputs": [
    {
     "name": "stdout",
     "output_type": "stream",
     "text": [
      "(array([ 3.92715706, -2.57344229, -4.35371476]), array([[-0.85603357, -0.78017368,  0.4909431 ],\n",
      "       [-0.45042445,  0.47652482, -0.64319425],\n",
      "       [-0.25362244,  0.40528153,  0.58760193]]))\n"
     ]
    }
   ],
   "source": [
    "A = np.array([[1, 5, 1], [2, -1, 2], [1, 2, -3]])\n",
    "print(lin.eig(A))"
   ]
  },
  {
   "cell_type": "markdown",
   "metadata": {},
   "source": [
    "$$\\lambda_1 = 3.9$$\n",
    "$$\n",
    "v_1 = \\left[-0.85, -0.78, 0.49\\right]\n",
    "$$\n",
    "\n",
    "$$\\lambda_2 = -2.6$$\n",
    "$$\n",
    "v_2 = \\left[-0.45, 0.48, -0.64\\right]\n",
    "$$\n",
    "\n",
    "\n",
    "$$\\lambda_3 = -4.4$$\n",
    "$$\n",
    "v_3 = \\left[-0.25, 0.40, 0.59\\right]\n",
    "$$"
   ]
  },
  {
   "cell_type": "markdown",
   "metadata": {},
   "source": [
    "## 3.3\n",
    "\n",
    "If you had physical insight about the problem, like your eigenvalues provided solutions to an ODE, that disqualified complex eigenvalues you can use `eigh`. Otherwise, use `eig`. "
   ]
  },
  {
   "cell_type": "markdown",
   "metadata": {},
   "source": [
    "# 4. Slicing Practice (6 Points)\n",
    "\n",
    "Using numpy, create a sum or difference of array slices that yields the requested quantity. Consider the following example:\n",
    "\n",
    "To create this sequence:\n",
    "$$x_0 , x_2, x_4, \\ldots $$\n",
    "\n",
    "Use this slice\n",
    "```\n",
    "x[::2]\n",
    "```\n",
    "\n",
    "Use this particular array for this: `x = np.arange(15)`, but use `len(x)` when you need to refer to the length of the array. 2 Points each.\n",
    "\n",
    "1. $x_1 \\cdot x_0, x_2 \\cdot x_1, \\ldots x_N\\cdot x_{N - 1}$\n",
    "2. $ x_0 + x_N, x_1 + x_{N - 1}, \\ldots, x_0 + x_N$\n",
    "3. $x_N - x_{N - 1}, x_{N - 1} - x_{N - 2},\\ldots ,x_1 - x_0$"
   ]
  },
  {
   "cell_type": "markdown",
   "metadata": {},
   "source": [
    "### 4.1"
   ]
  },
  {
   "cell_type": "code",
   "execution_count": 20,
   "metadata": {},
   "outputs": [
    {
     "data": {
      "text/plain": [
       "array([  0,   2,   6,  12,  20,  30,  42,  56,  72,  90, 110, 132, 156,\n",
       "       182])"
      ]
     },
     "execution_count": 20,
     "metadata": {},
     "output_type": "execute_result"
    }
   ],
   "source": [
    "x = np.arange(15)\n",
    "x[1:] * x[:-1]"
   ]
  },
  {
   "cell_type": "markdown",
   "metadata": {},
   "source": [
    "### 4.2"
   ]
  },
  {
   "cell_type": "code",
   "execution_count": 21,
   "metadata": {},
   "outputs": [
    {
     "data": {
      "text/plain": [
       "array([14, 14, 14, 14, 14, 14, 14, 14, 14, 14, 14, 14, 14, 14, 14])"
      ]
     },
     "execution_count": 21,
     "metadata": {},
     "output_type": "execute_result"
    }
   ],
   "source": [
    "x + x[::-1]"
   ]
  },
  {
   "cell_type": "markdown",
   "metadata": {},
   "source": [
    "### 4.3"
   ]
  },
  {
   "cell_type": "code",
   "execution_count": 22,
   "metadata": {},
   "outputs": [
    {
     "data": {
      "text/plain": [
       "array([1, 1, 1, 1, 1, 1, 1, 1, 1, 1, 1, 1, 1, 1])"
      ]
     },
     "execution_count": 22,
     "metadata": {},
     "output_type": "execute_result"
    }
   ],
   "source": [
    "x[:0:-1] - x[-2::-1]"
   ]
  },
  {
   "cell_type": "markdown",
   "metadata": {},
   "source": [
    "# 5. Numerical Differentation/Integration Methods (5 Points)\n",
    "\n",
    "Given the following problems, what is the correct method to use? Do not solve the problems, just state the best method. 1 Point each\n",
    "\n",
    "\n",
    "1. Compute $\\int_0^1 e^{-x^2}\\,dx$\n",
    "2. You are given $f(x)$ evaluated at the following x values: $[0,0.1, 0.5, 0.9, 1.2]$. Compute the derivative at $f(0.5)$. \n",
    "3. Using the example from 5.2, compute $\\int_{0.1}^{1.2} f(x)\\,dx$\n",
    "4. $g(x) = x^3$. What is the derivative $g$ at $g'(x = 0.5)$\n",
    "5. Compute $\\int_0^1 e^{-x}\\,dx$"
   ]
  },
  {
   "cell_type": "markdown",
   "metadata": {},
   "source": [
    "### 5.1\n",
    "Gaussian quadrature (quad)\n",
    "\n",
    "### 5.2\n",
    "Central difference\n",
    "\n",
    "### 5.3\n",
    "Trapezoidal\n",
    "\n",
    "### 5.4\n",
    "Analytic\n",
    "\n",
    "### 5.5\n",
    "Analytic or quad"
   ]
  },
  {
   "cell_type": "markdown",
   "metadata": {},
   "source": [
    "# 6. Numerical Differentation/Integration Methods (22 Points)\n",
    "\n",
    "1. [4 Points] Compute $\\int_{-\\infty}^{\\infty} x^2 e^{-x^2}\\,dx$. Use `np.inf` to refer to infinity and use a `lambda` function. Make sure it's clear what is the value of the integral in your `print`.\n",
    "\n",
    "2. [4 Points] Compute the numerical derivative of the following data:\n",
    "```\n",
    "x = [0, 1, 2, 3, 4, 6, 7, 9]\n",
    "fx = [0.0, 0.84, 0.91, 0.14, -0.76, -0.28, 0.66, 0.41]\n",
    "```\n",
    "\n",
    "3. [2 Points] Compute the numerical derivative of the following data:\n",
    "```\n",
    "x2 = [0.0, 0.42, 0.83, 1.25, 1.67, 2.08, 2.5, 2.92, 3.33, 3.75, 4.17, 4.58, 5.0, 5.42, 5.83, 6.25, 6.67, 7.08, 7.5, 7.92, 8.33, 8.75, 9.17, 9.58, 10.0]\n",
    "fx2 = [0.0, 0.4, 0.74, 0.95, 1.0, 0.87, 0.6, 0.22, -0.19, -0.57, -0.85, -0.99, -0.96, -0.76, -0.43, -0.03, 0.37, 0.72, 0.94, 1.0, 0.89, 0.62, 0.26, -0.16, -0.54]\n",
    "```\n",
    "\n",
    "4. [6 Points] Plot your data from 6.2 and 6.3 against $\\cos(x)$, which is the correct derivative. Does the numerical derivative work even with the non-uniform coarse data in part 2?\n",
    "\n",
    "5. [6 Points] Integrate the data from 6.2 and compare against the true integral $\\int_0^{9} \\sin(x)\\,dx$. How accurate is it?"
   ]
  },
  {
   "cell_type": "markdown",
   "metadata": {},
   "source": [
    "### 6.1"
   ]
  },
  {
   "cell_type": "code",
   "execution_count": 57,
   "metadata": {},
   "outputs": [
    {
     "data": {
      "text/plain": [
       "0.8862269254527599"
      ]
     },
     "execution_count": 57,
     "metadata": {},
     "output_type": "execute_result"
    }
   ],
   "source": [
    "from scipy.integrate import quad\n",
    "quad(lambda x: np.exp(-x**2) * x**2, -np.inf, np.inf)[0]"
   ]
  },
  {
   "cell_type": "markdown",
   "metadata": {},
   "source": [
    "### 6.2"
   ]
  },
  {
   "cell_type": "code",
   "execution_count": 58,
   "metadata": {},
   "outputs": [
    {
     "name": "stdout",
     "output_type": "stream",
     "text": [
      "[ 0.455  -0.35   -0.835  -0.33    0.59    0.4075]\n"
     ]
    }
   ],
   "source": [
    "x = np.array([0, 1, 2, 3, 4, 6, 7, 9])\n",
    "fx = np.array([0.0, 0.84, 0.91, 0.14, -0.76, -0.28, 0.66, 0.41])\n",
    "diff = (fx[1:] - fx[:-1]) / (x[1:] - x[:-1])\n",
    "cdiff = (diff[1:] + diff[:-1]) / 2\n",
    "print(cdiff)"
   ]
  },
  {
   "cell_type": "markdown",
   "metadata": {},
   "source": [
    "### 6.3"
   ]
  },
  {
   "cell_type": "code",
   "execution_count": 59,
   "metadata": {
    "scrolled": true
   },
   "outputs": [
    {
     "name": "stdout",
     "output_type": "stream",
     "text": [
      "[ 0.89082462  0.66463415  0.30952381 -0.09901278 -0.47996516 -0.77380952\n",
      " -0.95238095 -0.95238095 -0.78571429 -0.50406504 -0.13501742  0.27380952\n",
      "  0.64053426  0.8786295   0.95238095  0.90301974  0.68873403  0.33333333\n",
      " -0.06271777 -0.45557491 -0.75       -0.94076655 -0.96457607]\n"
     ]
    }
   ],
   "source": [
    "x2 = np.array([0.0, 0.42, 0.83, 1.25, 1.67, 2.08, 2.5, 2.92, 3.33, 3.75, 4.17, 4.58, 5.0, 5.42, 5.83, 6.25, 6.67, 7.08, 7.5, 7.92, 8.33, 8.75, 9.17, 9.58, 10.0])\n",
    "fx2 = np.array([0.0, 0.4, 0.74, 0.95, 1.0, 0.87, 0.6, 0.22, -0.19, -0.57, -0.85, -0.99, -0.96, -0.76, -0.43, -0.03, 0.37, 0.72, 0.94, 1.0, 0.89, 0.62, 0.26, -0.16, -0.54])\n",
    "diff2 = (fx2[1:] - fx2[:-1]) / (x2[1:] - x2[:-1])\n",
    "cdiff2 = (diff2[1:] + diff2[:-1]) / 2\n",
    "print(cdiff2)"
   ]
  },
  {
   "cell_type": "markdown",
   "metadata": {},
   "source": [
    "### 6.4"
   ]
  },
  {
   "cell_type": "code",
   "execution_count": 62,
   "metadata": {},
   "outputs": [
    {
     "data": {
      "text/plain": [
       "array([ 0.    ,  0.455 , -0.35  , -0.835 , -0.33  ,  0.59  ,  0.4075,\n",
       "        0.41  ])"
      ]
     },
     "execution_count": 62,
     "metadata": {},
     "output_type": "execute_result"
    }
   ],
   "source": [
    "import matplotlib.pyplot as plt\n",
    "%matplotlib inline\n",
    "np.concatenate((fx[:1],cdiff,fx[-1:]))"
   ]
  },
  {
   "cell_type": "code",
   "execution_count": 65,
   "metadata": {},
   "outputs": [
    {
     "data": {
      "image/png": "[encoded data removed]",
      "text/plain": [
       "<Figure size 432x288 with 1 Axes>"
      ]
     },
     "metadata": {
      "needs_background": "light"
     },
     "output_type": "display_data"
    }
   ],
   "source": [
    "plt.plot(x[1:-1], cdiff, label='6.2 data')\n",
    "plt.plot(x2[1:-1], cdiff2, label='6.3 data')\n",
    "plt.plot(x2, np.cos(x2), label='True derivative')\n",
    "plt.legend()\n",
    "plt.show()"
   ]
  },
  {
   "cell_type": "markdown",
   "metadata": {},
   "source": [
    "The numerical derivative is quite accurate, even though it only exists at 4 points. It may not be accurate though at the end points, which have no central difference derivative"
   ]
  },
  {
   "cell_type": "markdown",
   "metadata": {},
   "source": [
    "### 6.5"
   ]
  },
  {
   "cell_type": "code",
   "execution_count": 78,
   "metadata": {},
   "outputs": [
    {
     "name": "stdout",
     "output_type": "stream",
     "text": [
      "1.7299999999999998 1.9111302618846777\n"
     ]
    }
   ],
   "source": [
    "print(np.sum((fx[1:] + fx[:-1]) / 2 * (x[1:] - x[:-1])), quad(np.sin, 0, 9)[0])"
   ]
  },
  {
   "cell_type": "markdown",
   "metadata": {},
   "source": [
    "The answer is off by only 0.2, which is not bad since there are only 6 data points."
   ]
  }
 ],
 "metadata": {
  "kernelspec": {
   "display_name": "Python 3",
   "language": "python",
   "name": "python3"
  },
  "language_info": {
   "codemirror_mode": {
    "name": "ipython",
    "version": 3
   },
   "file_extension": ".py",
   "mimetype": "text/x-python",
   "name": "python",
   "nbconvert_exporter": "python",
   "pygments_lexer": "ipython3",
   "version": "3.6.5rc1"
  }
 },
 "nbformat": 4,
 "nbformat_minor": 2
}
