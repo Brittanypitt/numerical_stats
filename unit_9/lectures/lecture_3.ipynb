{
 "cells": [
  {
   "cell_type": "markdown",
   "metadata": {
    "slideshow": {
     "slide_type": "slide"
    }
   },
   "source": [
    "Numerical Integration and Differentiation\n",
    "====\n",
    "\n",
    "## Unit 9, Lecture 3\n",
    "\n",
    "*Numerical Methods and Statistics*\n",
    "\n",
    "----\n",
    "\n",
    "#### Prof. Andrew White, March 28, 2017"
   ]
  },
  {
   "cell_type": "code",
   "execution_count": 1,
   "metadata": {
    "collapsed": true,
    "slideshow": {
     "slide_type": "skip"
    }
   },
   "outputs": [],
   "source": [
    "import numpy as np\n",
    "import matplotlib.pyplot as plt"
   ]
  },
  {
   "cell_type": "markdown",
   "metadata": {
    "slideshow": {
     "slide_type": "slide"
    }
   },
   "source": [
    "Numerical Differentiation\n",
    "====\n",
    "\n",
    "Given a set of points $x$ and $f(x)$, how do I compute $f'(x)$?"
   ]
  },
  {
   "cell_type": "markdown",
   "metadata": {
    "slideshow": {
     "slide_type": "fragment"
    }
   },
   "source": [
    "The best you can do is compute an estimate for $f'(x)$ at each of the points. Recall the definition of a derivative:\n",
    "\n",
    "$$f'(x) = \\lim_{h\\rightarrow 0} \\frac{f(x + h) - f(x)}{h}$$"
   ]
  },
  {
   "cell_type": "markdown",
   "metadata": {
    "slideshow": {
     "slide_type": "subslide"
    }
   },
   "source": [
    "An easy way to estimate at a particular point, say the 4th data point, $f'(x_4)$ is to use:\n",
    "\n",
    "$$f'(x_4) \\approx \\frac{f(x_5) - f(x_4)}{x_5 - x_4}$$\n",
    "\n",
    "[Show secant picture]"
   ]
  },
  {
   "cell_type": "markdown",
   "metadata": {
    "slideshow": {
     "slide_type": "slide"
    }
   },
   "source": [
    "The Forward Numerical Derivative\n",
    "====\n",
    "\n",
    "$$f'(x_i) \\approx \\frac{f(x_{i+1}) - f(x_i)}{x_{i+1} - x_i}$$"
   ]
  },
  {
   "cell_type": "code",
   "execution_count": 2,
   "metadata": {
    "slideshow": {
     "slide_type": "fragment"
    }
   },
   "outputs": [
    {
     "data": {
      "image/png": "[encoded data removed]",
      "text/plain": [
       "<matplotlib.figure.Figure at 0x7f7b1196ef98>"
      ]
     },
     "metadata": {},
     "output_type": "display_data"
    }
   ],
   "source": [
    "x = np.arange(0,5,0.5) #Create some points\n",
    "y = x ** 2 #Create the square of those points, now we have f(x_i)\n",
    "derivative = [] #This is where I will store the answer\n",
    "\n",
    "#Since this if the forward derivative, we can only go up to the second to last point\n",
    "for i in range(len(x) - 1): \n",
    "    dx = x[i + 1] - x[i]\n",
    "    dy = y[i + 1] - y[i]\n",
    "    derivative.append(dy / dx)\n",
    "    \n",
    "#We have to \"repair\" our problem of skipping the last point\n",
    "#We just repeat the last element\n",
    "derivative.append(derivative[-1])\n",
    "    \n",
    "plt.plot(x,derivative)\n",
    "plt.show()"
   ]
  },
  {
   "cell_type": "markdown",
   "metadata": {
    "slideshow": {
     "slide_type": "subslide"
    }
   },
   "source": [
    "Forward Rule in 1 line with Numpy\n",
    "===="
   ]
  },
  {
   "cell_type": "code",
   "execution_count": 3,
   "metadata": {
    "slideshow": {
     "slide_type": "fragment"
    }
   },
   "outputs": [
    {
     "data": {
      "image/png": "[encoded data removed]",
      "text/plain": [
       "<matplotlib.figure.Figure at 0x7f7b1196e860>"
      ]
     },
     "metadata": {},
     "output_type": "display_data"
    }
   ],
   "source": [
    "#Using numpy\n",
    "#Note x[1:] is all but the first element\n",
    "#x[:-1] is all but the last element\n",
    "#So x[1:] - x[:-1] is an idiom for x[1] - x[0], x[2] - x[1], x[3] - x[2], .....\n",
    "derivative = (y[1:] - y[:-1]) / (x[1:] - x[:-1])\n",
    "\n",
    " #Here I just skip the last point instead of adding it to the derivative\n",
    "plt.plot(x[:-1], derivative)\n",
    "plt.show()"
   ]
  },
  {
   "cell_type": "markdown",
   "metadata": {
    "slideshow": {
     "slide_type": "slide"
    }
   },
   "source": [
    "Central Difference Rule\n",
    "====\n",
    "\n",
    "Obviously going only forward seems unintuitive. That leads to the central difference rule. You approximate the derivative with the average of the forward and backward approximations. Be careful with the indexes!\n",
    "\n",
    "$$f'(x_i) = \\frac{1}{2}\\left[\\frac{f(x_{i+1})- f(x_i)}{x_{i + 1} - x_{i}} + \\frac{f(x_{i})- f(x_{i-1})}{x_{i} - x_{i-1}}\\right]$$"
   ]
  },
  {
   "cell_type": "code",
   "execution_count": 4,
   "metadata": {
    "slideshow": {
     "slide_type": "fragment"
    }
   },
   "outputs": [
    {
     "data": {
      "image/png": "[encoded data removed]",
      "text/plain": [
       "<matplotlib.figure.Figure at 0x7f7b0f80d198>"
      ]
     },
     "metadata": {},
     "output_type": "display_data"
    }
   ],
   "source": [
    "forward = (y[1:] - y[:-1]) / (x[1:] - x[:-1])\n",
    "backward = forward #They're the same numbers, but in forwards we start at 0 go to N-1 and\n",
    "                   #in backwards we start at 1 and go to N\n",
    "central = 0.5 * (forward[:-1] + backward[1:])# Combine the two \n",
    "\n",
    "plt.plot(x[1:-1], central)\n",
    "plt.show()"
   ]
  },
  {
   "cell_type": "code",
   "execution_count": 5,
   "metadata": {
    "slideshow": {
     "slide_type": "subslide"
    }
   },
   "outputs": [
    {
     "data": {
      "image/png": "[encoded data removed]",
      "text/plain": [
       "<matplotlib.figure.Figure at 0x7f7b0f7bef28>"
      ]
     },
     "metadata": {},
     "output_type": "display_data"
    }
   ],
   "source": [
    "#To fill in, we can use the backward and forward respectively\n",
    "#We have to declare it ahead of time, because we can't create it all at once. Only in pieces\n",
    "central = np.zeros(len(x)) \n",
    "\n",
    "#this code is the same as above\n",
    "forward = (y[1:] - y[:-1]) / (x[1:] - x[:-1])\n",
    "backward = forward #All that's different is which x-value the points are attached to.\n",
    "\n",
    "central[0] = forward[0] #Forwards exists at the left point\n",
    "central[-1] = backward[-1] #Backwards exists at the right point\n",
    "\n",
    "central[1:-1] = 0.5 * (forward[:-1] + backward[1:]) #Set the rest of the points\n",
    "\n",
    "plt.plot(x[1:], backward, label=\"Backward Difference\")\n",
    "plt.plot(x[:-1], forward, label=\"Forward Difference\")\n",
    "plt.plot(x, central, label=\"Central Difference\")\n",
    "plt.legend(loc=\"upper left\")\n",
    "plt.show()"
   ]
  },
  {
   "cell_type": "markdown",
   "metadata": {
    "slideshow": {
     "slide_type": "slide"
    }
   },
   "source": [
    "Numerical Integration\n",
    "===="
   ]
  },
  {
   "cell_type": "markdown",
   "metadata": {
    "slideshow": {
     "slide_type": "fragment"
    }
   },
   "source": [
    "One strategy is the Riemann integration strategy, which looks like:\n",
    "\n",
    "$$\\int f(x)\\,dx \\approx \\sum^N f(x_i) \\Delta x$$\n",
    "\n",
    "[draw picture]"
   ]
  },
  {
   "cell_type": "markdown",
   "metadata": {
    "slideshow": {
     "slide_type": "fragment"
    }
   },
   "source": [
    "We can do better than that. [Draw Picture]. The trapezoidal rule allows us to better approximate integrals. It's definition is (for non-uniform grid):\n",
    "\n",
    "$$\\int_a^b f(x)\\,dx \\approx \\frac{1}{2} \\sum_{i=1}^N (x_{i + 1} - x_i)(f(x_{i + 1}) + f(x_i))$$\n",
    "\n"
   ]
  },
  {
   "cell_type": "code",
   "execution_count": 6,
   "metadata": {
    "slideshow": {
     "slide_type": "subslide"
    }
   },
   "outputs": [
    {
     "name": "stdout",
     "output_type": "stream",
     "text": [
      "1.97965081122\n"
     ]
    }
   ],
   "source": [
    "from math import pi\n",
    "\n",
    "x = np.linspace(0,pi,10)\n",
    "y = np.sin(x)\n",
    "\n",
    "little_traps = 0.5 * (x[1:] - x[:-1]) * (y[1:] + y[:-1])\n",
    "trap = np.sum(little_traps)\n",
    "print(trap)"
   ]
  },
  {
   "cell_type": "markdown",
   "metadata": {
    "slideshow": {
     "slide_type": "subslide"
    }
   },
   "source": [
    "Comparison of Riemann vs Trapezoidal\n",
    "===="
   ]
  },
  {
   "cell_type": "code",
   "execution_count": 7,
   "metadata": {
    "collapsed": true,
    "slideshow": {
     "slide_type": "fragment"
    }
   },
   "outputs": [],
   "source": [
    "def trap(x,y):\n",
    "    return 0.5 * np.sum( (x[1:] - x[:-1]) * (y[1:] + y[:-1]) )\n",
    "\n",
    "def rie(x,y):\n",
    "    return np.sum(y[:-1] * (x[1:] - x[:-1]) )\n"
   ]
  },
  {
   "cell_type": "code",
   "execution_count": 8,
   "metadata": {
    "slideshow": {
     "slide_type": "subslide"
    }
   },
   "outputs": [
    {
     "data": {
      "image/png": "[encoded data removed]",
      "text/plain": [
       "<matplotlib.figure.Figure at 0x7f7b0f733a90>"
      ]
     },
     "metadata": {},
     "output_type": "display_data"
    }
   ],
   "source": [
    "rie_error = []\n",
    "trap_error = []\n",
    "points = range(2, 100,1)\n",
    "for i in points:\n",
    "    x = np.linspace(0,1,i)\n",
    "    y = np.exp(x)\n",
    "    rie_error.append(rie(x,y))\n",
    "    trap_error.append(trap(x,y))\n",
    "    \n",
    "plt.hlines(np.exp(1) - 1, 0,100, label=\"exact\")\n",
    "plt.plot(points, rie_error, label=\"Riemann\")\n",
    "plt.plot(points, trap_error, label=\"Trapezoidal\")\n",
    "plt.xlim(0,100)\n",
    "plt.legend()\n",
    "plt.title(\"Error in $e^x$\")\n",
    "plt.show()"
   ]
  },
  {
   "cell_type": "code",
   "execution_count": 9,
   "metadata": {
    "slideshow": {
     "slide_type": "subslide"
    }
   },
   "outputs": [
    {
     "data": {
      "image/png": "[encoded data removed]",
      "text/plain": [
       "<matplotlib.figure.Figure at 0x7f7b0f6469e8>"
      ]
     },
     "metadata": {},
     "output_type": "display_data"
    }
   ],
   "source": [
    "rie_error = []\n",
    "trap_error = []\n",
    "points = range(2, 100,1)\n",
    "for i in points:\n",
    "    x = np.linspace(0,pi,i)\n",
    "    y = np.cos(x)\n",
    "    rie_error.append(rie(x,y))\n",
    "    trap_error.append(trap(x,y))\n",
    "    \n",
    "plt.hlines(np.sin(pi), 0,100, label=\"exact\")\n",
    "plt.plot(points, rie_error, label=\"Riemann\")\n",
    "plt.plot(points, trap_error, label=\"Trapezoidal\")\n",
    "plt.xlim(0,100)\n",
    "plt.legend()\n",
    "plt.title(\"Error in $cos(x)$\")\n",
    "plt.show()"
   ]
  },
  {
   "cell_type": "markdown",
   "metadata": {
    "slideshow": {
     "slide_type": "slide"
    }
   },
   "source": [
    "Passing Functions around\n",
    "====\n",
    "\n",
    "You can pass functions to functions. Example:"
   ]
  },
  {
   "cell_type": "code",
   "execution_count": 10,
   "metadata": {
    "slideshow": {
     "slide_type": "fragment"
    }
   },
   "outputs": [
    {
     "name": "stdout",
     "output_type": "stream",
     "text": [
      "0.283662185463\n"
     ]
    }
   ],
   "source": [
    "def execute(f):\n",
    "    print(f(5)) #<--- I just assume f is a function!\n",
    "    \n",
    "execute(np.cos)"
   ]
  },
  {
   "cell_type": "code",
   "execution_count": 11,
   "metadata": {
    "slideshow": {
     "slide_type": "subslide"
    }
   },
   "outputs": [
    {
     "ename": "TypeError",
     "evalue": "'int' object is not callable",
     "output_type": "error",
     "traceback": [
      "\u001b[0;31m---------------------------------------------------------------------------\u001b[0m",
      "\u001b[0;31mTypeError\u001b[0m                                 Traceback (most recent call last)",
      "\u001b[0;32m<ipython-input-11-8cde09cf94ba>\u001b[0m in \u001b[0;36m<module>\u001b[0;34m()\u001b[0m\n\u001b[0;32m----> 1\u001b[0;31m \u001b[0mexecute\u001b[0m\u001b[0;34m(\u001b[0m\u001b[0;36m5\u001b[0m\u001b[0;34m)\u001b[0m\u001b[0;34m\u001b[0m\u001b[0m\n\u001b[0m",
      "\u001b[0;32m<ipython-input-10-45eae584bacc>\u001b[0m in \u001b[0;36mexecute\u001b[0;34m(f)\u001b[0m\n\u001b[1;32m      1\u001b[0m \u001b[0;32mdef\u001b[0m \u001b[0mexecute\u001b[0m\u001b[0;34m(\u001b[0m\u001b[0mf\u001b[0m\u001b[0;34m)\u001b[0m\u001b[0;34m:\u001b[0m\u001b[0;34m\u001b[0m\u001b[0m\n\u001b[0;32m----> 2\u001b[0;31m     \u001b[0mprint\u001b[0m\u001b[0;34m(\u001b[0m\u001b[0mf\u001b[0m\u001b[0;34m(\u001b[0m\u001b[0;36m5\u001b[0m\u001b[0;34m)\u001b[0m\u001b[0;34m)\u001b[0m \u001b[0;31m#<--- I just assume f is a function!\u001b[0m\u001b[0;34m\u001b[0m\u001b[0m\n\u001b[0m\u001b[1;32m      3\u001b[0m \u001b[0;34m\u001b[0m\u001b[0m\n\u001b[1;32m      4\u001b[0m \u001b[0mexecute\u001b[0m\u001b[0;34m(\u001b[0m\u001b[0mnp\u001b[0m\u001b[0;34m.\u001b[0m\u001b[0mcos\u001b[0m\u001b[0;34m)\u001b[0m\u001b[0;34m\u001b[0m\u001b[0m\n",
      "\u001b[0;31mTypeError\u001b[0m: 'int' object is not callable"
     ]
    }
   ],
   "source": [
    "execute(5)"
   ]
  },
  {
   "cell_type": "markdown",
   "metadata": {
    "slideshow": {
     "slide_type": "subslide"
    }
   },
   "source": [
    "Why the heck would you want to do this?!\n",
    "----"
   ]
  },
  {
   "cell_type": "markdown",
   "metadata": {
    "slideshow": {
     "slide_type": "fragment"
    }
   },
   "source": [
    "Create a function that:\n",
    "\n",
    "1. Plots the given function\n",
    "2. Evaluates an integral on a function\n",
    "3. Samples from the given function\n",
    "4. Calls the function and histograms its output"
   ]
  },
  {
   "cell_type": "code",
   "execution_count": 12,
   "metadata": {
    "slideshow": {
     "slide_type": "subslide"
    }
   },
   "outputs": [
    {
     "data": {
      "image/png": "[encoded data removed]",
      "text/plain": [
       "<matplotlib.figure.Figure at 0x7f7b0f5812b0>"
      ]
     },
     "metadata": {},
     "output_type": "display_data"
    }
   ],
   "source": [
    "def plot_function(fxn, xlo, xhi):\n",
    "    x = np.linspace(xlo, xhi, 1000)\n",
    "    plt.plot(x, fxn(x))\n",
    "    plt.show()\n",
    "    \n",
    "plot_function(np.exp, -1, 1)"
   ]
  },
  {
   "cell_type": "code",
   "execution_count": 13,
   "metadata": {
    "slideshow": {
     "slide_type": "subslide"
    }
   },
   "outputs": [
    {
     "name": "stdout",
     "output_type": "stream",
     "text": [
      "1.71828197194\n",
      "1.71828182846\n"
     ]
    }
   ],
   "source": [
    "def trap_integrate(fxn, a, b, points=1000):\n",
    "    x = np.linspace(a,b,points)\n",
    "    y = fxn(x) # <----- Just execute function. Note this only works if fxn is a numpy function!!!\n",
    "    return 0.5 * np.sum( (x[1:] - x[:-1]) * (y[1:] + y[:-1]) )\n",
    "\n",
    "print(trap_integrate(np.exp, 0,1))\n",
    "print(np.exp(1) - 1)"
   ]
  },
  {
   "cell_type": "markdown",
   "metadata": {
    "slideshow": {
     "slide_type": "slide"
    }
   },
   "source": [
    "Integrating Functions\n",
    "====\n",
    "\n",
    "Lots of people know about this hidden feature and some great integration functions exist. Such as the adaptive Gaussian-quadrature called `scipy.integrate.quad`. This works for functions which can be evaluated anywhere\n",
    "\n",
    "**If you are working with a function (not data) you use scipy.integrate.quad**"
   ]
  },
  {
   "cell_type": "markdown",
   "metadata": {
    "slideshow": {
     "slide_type": "fragment"
    }
   },
   "source": [
    "**If you are working with data (not a function) you use your own trapezoidal code**"
   ]
  },
  {
   "cell_type": "code",
   "execution_count": 14,
   "metadata": {
    "slideshow": {
     "slide_type": "fragment"
    }
   },
   "outputs": [
    {
     "name": "stdout",
     "output_type": "stream",
     "text": [
      "The answer is 2.666666666666667 with an estimated error of 2.960594732333751e-14\n"
     ]
    }
   ],
   "source": [
    "def my_special_function(x):\n",
    "    return x ** 2\n",
    "\n",
    "from scipy.integrate import quad\n",
    "#THE FUNCTION MUST BE A NUMPY COMPATIBLE FUNCTION\n",
    "#So, use vectorize or if it only uses numpy functions (+,-,*,**,np.sin,np.cos...) you're OK\n",
    "#If statements ARE NOT NUMPY FUNCTIONS\n",
    "ans, error = quad(my_special_function,0,2) #<-- Notice that this is just like the np.histogram function, which gives two values\n",
    "print('The answer is {} with an estimated error of {}'.format(ans,error))"
   ]
  },
  {
   "cell_type": "code",
   "execution_count": 15,
   "metadata": {
    "slideshow": {
     "slide_type": "fragment"
    }
   },
   "outputs": [
    {
     "name": "stdout",
     "output_type": "stream",
     "text": [
      "0.8862269254527579 7.101318390472462e-09\n"
     ]
    }
   ],
   "source": [
    "def my_special_function(x):\n",
    "    return np.exp(-x**2)\n",
    "\n",
    "ans,err = quad(my_special_function, 0, np.inf)\n",
    "print(ans, err)"
   ]
  },
  {
   "cell_type": "markdown",
   "metadata": {
    "slideshow": {
     "slide_type": "subslide"
    }
   },
   "source": [
    "Let's try a more challlenging integral\n",
    "----"
   ]
  },
  {
   "cell_type": "code",
   "execution_count": 16,
   "metadata": {
    "slideshow": {
     "slide_type": "fragment"
    }
   },
   "outputs": [
    {
     "data": {
      "image/png": "[encoded data removed]",
      "text/plain": [
       "<matplotlib.figure.Figure at 0x7f7b0db2bb38>"
      ]
     },
     "metadata": {},
     "output_type": "display_data"
    }
   ],
   "source": [
    "def confusing_function(x):\n",
    "    if x < 0:\n",
    "        return np.exp(x)\n",
    "    if x < 3:\n",
    "        return x**2\n",
    "    if x == 3:\n",
    "        return 0\n",
    "    if x > 3:\n",
    "        return np.sqrt(x)\n",
    "    if x >= 5:\n",
    "        return np.exp(-x)\n",
    "    \n",
    "#It converts my regular function into a numpy function\n",
    "np_confusing_function = np.vectorize(confusing_function)\n",
    "x = np.arange(-4,6,0.01)\n",
    "\n",
    "plt.plot(x, np_confusing_function(x))\n",
    "plt.show()"
   ]
  },
  {
   "cell_type": "code",
   "execution_count": 17,
   "metadata": {
    "slideshow": {
     "slide_type": "subslide"
    }
   },
   "outputs": [
    {
     "name": "stdout",
     "output_type": "stream",
     "text": [
      "16.315541717155426 5.6158704353492794e-09\n"
     ]
    }
   ],
   "source": [
    "ans,err = quad(np_confusing_function, -4, 6) #Integrate it from -4 to 6 using the numpy version\n",
    "print(ans,err)"
   ]
  },
  {
   "cell_type": "markdown",
   "metadata": {
    "slideshow": {
     "slide_type": "subslide"
    }
   },
   "source": [
    "Giving Hints to Quad\n",
    "----\n",
    "\n",
    "You can tell quad where it will run into problems, such as dicontinuities."
   ]
  },
  {
   "cell_type": "code",
   "execution_count": 18,
   "metadata": {
    "slideshow": {
     "slide_type": "fragment"
    }
   },
   "outputs": [
    {
     "name": "stdout",
     "output_type": "stream",
     "text": [
      "16.31554171710623 1.8113890073563594e-13\n"
     ]
    }
   ],
   "source": [
    "ans,err = quad(np_confusing_function, -4, 6, points=[0,3,5])\n",
    "print(ans,err)"
   ]
  },
  {
   "cell_type": "markdown",
   "metadata": {
    "slideshow": {
     "slide_type": "slide"
    }
   },
   "source": [
    "Lambda Functions\n",
    "====\n",
    "\n",
    "Sometimes it's tedious to define a function just to integrate. For short, you can use the special `lambda` word:"
   ]
  },
  {
   "cell_type": "code",
   "execution_count": 19,
   "metadata": {
    "slideshow": {
     "slide_type": "fragment"
    }
   },
   "outputs": [
    {
     "name": "stdout",
     "output_type": "stream",
     "text": [
      "25\n"
     ]
    }
   ],
   "source": [
    "my_special_function = lambda x: x**2\n",
    "print(my_special_function(5))"
   ]
  },
  {
   "cell_type": "code",
   "execution_count": 20,
   "metadata": {
    "slideshow": {
     "slide_type": "fragment"
    }
   },
   "outputs": [
    {
     "name": "stdout",
     "output_type": "stream",
     "text": [
      "The answer is 1.4161468365471424 with an estimated error of 1.5722388241847156e-14\n"
     ]
    }
   ],
   "source": [
    "ans, error = quad(lambda x: np.sin(x), 0, 2)\n",
    "print('The answer is {} with an estimated error of {}'.format(ans,error))"
   ]
  },
  {
   "cell_type": "markdown",
   "metadata": {
    "slideshow": {
     "slide_type": "slide"
    }
   },
   "source": [
    "Plotting Integrals\n",
    "====\n",
    "\n",
    "To plot an integral, you can loop over multiple integrations"
   ]
  },
  {
   "cell_type": "code",
   "execution_count": 21,
   "metadata": {
    "slideshow": {
     "slide_type": "fragment"
    }
   },
   "outputs": [
    {
     "data": {
      "image/png": "[encoded data removed]",
      "text/plain": [
       "<matplotlib.figure.Figure at 0x7f7b0ce15d30>"
      ]
     },
     "metadata": {},
     "output_type": "display_data"
    }
   ],
   "source": [
    "x = np.arange(0,5,0.1)\n",
    "y = []\n",
    "for xi in x:\n",
    "    ans,err = quad(lambda x: x ** 2, 0, xi)\n",
    "    y.append(ans)\n",
    "    \n",
    "plt.plot(x,y, label='$\\int_0^x\\, s^2\\,ds$')\n",
    "plt.plot(x, x**2, label='$x^2$')\n",
    "plt.legend(loc='upper left')\n",
    "plt.show()"
   ]
  },
  {
   "cell_type": "markdown",
   "metadata": {
    "slideshow": {
     "slide_type": "slide"
    }
   },
   "source": [
    "Summary of Integration and Differentiation\n",
    "===="
   ]
  },
  {
   "cell_type": "markdown",
   "metadata": {
    "slideshow": {
     "slide_type": "fragment"
    }
   },
   "source": [
    "**If you are integrating a function (not data) you use scipy.integrate.quad**"
   ]
  },
  {
   "cell_type": "markdown",
   "metadata": {
    "slideshow": {
     "slide_type": "fragment"
    }
   },
   "source": [
    "**If you are integrating data you use write your trapezoidal code**"
   ]
  },
  {
   "cell_type": "markdown",
   "metadata": {
    "slideshow": {
     "slide_type": "fragment"
    }
   },
   "source": [
    "**If you are differentiating a function (not data) just take the derivative using calculus**"
   ]
  },
  {
   "cell_type": "markdown",
   "metadata": {
    "slideshow": {
     "slide_type": "fragment"
    }
   },
   "source": [
    "**If you are differentiating data you use the central difference**"
   ]
  }
 ],
 "metadata": {
  "celltoolbar": "Slideshow",
  "kernelspec": {
   "display_name": "Python 3",
   "language": "python",
   "name": "python3"
  },
  "language_info": {
   "codemirror_mode": {
    "name": "ipython",
    "version": 3
   },
   "file_extension": ".py",
   "mimetype": "text/x-python",
   "name": "python",
   "nbconvert_exporter": "python",
   "pygments_lexer": "ipython3",
   "version": "3.6.2"
  }
 },
 "nbformat": 4,
 "nbformat_minor": 1
}
