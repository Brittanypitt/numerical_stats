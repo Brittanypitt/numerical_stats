








<!DOCTYPE html>
<html lang="en">

<head>
  <meta charset="utf-8">
  <title>Jupyter Notebook Viewer</title>
  <meta name="viewport" content="width=device-width, initial-scale=1.0">
  <meta name="description" content="">
  <meta name="author" content="">
  
  <meta name="robots" content="noindex,nofollow">
  

  <!--NEW RELIC Start Perf Measurement-->
  
  <!--NREND-->

  <!-- Le styles -->
  <script type="text/javascript">
//<![CDATA[
try{if (!window.CloudFlare) {var CloudFlare=[{verbose:0,p:0,byc:0,owlid:"cf",bag2:1,mirage2:0,oracle:0,paths:{cloudflare:"/cdn-cgi/nexp/dok3v=1613a3a185/"},atok:"d5780763e19e7d19f23070ae83c9af3a",petok:"125b715e3be4eabc6da9917783ea2c0e8aa4817a-1490889311-3600",zone:"jupyter.org",rocket:"0",apps:{"ga_key":{"ua":"UA-52617120-1","ga_bs":"2"}}}];!function(a,b){a=document.createElement("script"),b=document.getElementsByTagName("script")[0],a.async=!0,a.src="//ajax.cloudflare.com/cdn-cgi/nexp/dok3v=f2befc48d1/cloudflare.min.js",b.parentNode.insertBefore(a,b)}()}}catch(e){};
//]]>
</script>
<link href="/static/build/styles.css?v=c18d49652a516277e15114bbd447f1c1" rel="stylesheet">

  <!-- Le HTML5 shim, for IE6-8 support of HTML5 elements -->
  <!--[if lt IE 9]>
    <script src="http://html5shim.googlecode.com/svn/trunk/html5.js"></script>
  <![endif]-->

  <!-- Le fav and touch icons -->
  <link rel="shortcut icon" href="/static/ico/ipynb_icon_16x16.png">
  <link rel="apple-touch-icon-precomposed" sizes="144x144"
        href="/static/ico/apple-touch-icon-144-precomposed.png?v=5a3c9ede93e2a8b8ea9e3f8f3da1a905">
  <link rel="apple-touch-icon-precomposed" sizes="114x114"
        href="/static/ico/apple-touch-icon-114-precomposed.png?v=45d86fc8f24dc00638035e1dd7a6d898">
  <link rel="apple-touch-icon-precomposed" sizes="72x72"
        href="/static/ico/apple-touch-icon-72-precomposed.png?v=540b5eb0f3cfd25f1439d1c9bd30e15f">
  <link rel="apple-touch-icon-precomposed"
        href="/static/ico/apple-touch-icon-57-precomposed.png?v=225f0590e187e1458625654f10a28f56">
  
  

  

  
  <meta name="twitter:card" content="summary">
  <meta name="twitter:title" content="Notebook on nbviewer">
  <meta name="twitter:description" content="Check out this Jupyter notebook!">

  
  <meta name="twitter:domain" content="nbviewer.ipython.org">
  <meta name="twitter:image:src" content="http://ipython.org/ipython-doc/dev/_images/ipynb_icon_128x128.png">

  
    <link href="/static/build/notebook.css?v=d05748bef7d8f0edbc1e0133b9a41fe0" rel="stylesheet">
  

  

  
    <script src="https://cdn.mathjax.org/mathjax/latest/MathJax.js?config=TeX-AMS_HTML" type="text/javascript">
    </script>
    <script type="text/javascript">
      init_mathjax = function() {
        if (window.MathJax) {
          // MathJax loaded
          MathJax.Hub.Config({
            TeX: {
              equationNumbers: {
                autoNumber: "AMS",
                useLabelIds: true
              }
            },
            tex2jax: {
              inlineMath: [ ['$','$'], ["\\(","\\)"] ],
              displayMath: [ ['$$','$$'], ["\\[","\\]"] ],
              processEscapes: true,
              processEnvironments: true
            },
            displayAlign: 'center',
            "HTML-CSS": {
              styles: {'.MathJax_Display': {"margin": 0}},
              linebreaks: { automatic: true }
            }
          });
          MathJax.Hub.Queue(["Typeset", MathJax.Hub]);
        }
      }
      init_mathjax();
    </script>
  

<script type="text/javascript">
/* <![CDATA[ */
var _gaq = _gaq || [];
_gaq.push(['_setAccount', 'UA-52617120-1']);
_gaq.push(['_trackPageview']);

(function() {
var ga = document.createElement('script'); ga.type = 'text/javascript'; ga.async = true;
ga.src = ('https:' == document.location.protocol ? 'https://ssl' : 'http://www') + '.google-analytics.com/ga.js';
var s = document.getElementsByTagName('script')[0]; s.parentNode.insertBefore(ga, s);
})();

(function(b){(function(a){"__CF"in b&&"DJS"in b.__CF?b.__CF.DJS.push(a):"addEventListener"in b?b.addEventListener("load",a,!1):b.attachEvent("onload",a)})(function(){"FB"in b&&"Event"in FB&&"subscribe"in FB.Event&&(FB.Event.subscribe("edge.create",function(a){_gaq.push(["_trackSocial","facebook","like",a])}),FB.Event.subscribe("edge.remove",function(a){_gaq.push(["_trackSocial","facebook","unlike",a])}),FB.Event.subscribe("message.send",function(a){_gaq.push(["_trackSocial","facebook","send",a])}));"twttr"in b&&"events"in twttr&&"bind"in twttr.events&&twttr.events.bind("tweet",function(a){if(a){var b;if(a.target&&a.target.nodeName=="IFRAME")a:{if(a=a.target.src){a=a.split("#")[0].match(/[^?=&]+=([^&]*)?/g);b=0;for(var c;c=a[b];++b)if(c.indexOf("url")===0){b=unescape(c.split("=")[1]);break a}}b=void 0}_gaq.push(["_trackSocial","twitter","tweet",b])}})})})(window);
/* ]]> */
</script>
</head>

<body class="nbviewer">

  <!-- These are loaded at the top of the body so they are available to
       notebook cells when they are loaded below. -->
  <script src="/static/components/jquery/dist/jquery.min.js?v=e071abda8fe61194711cfc2ab99fe104"></script>
  <script src="/static/components/requirejs/require.js?v=6da8be361b9ee26c5e721e76c6d4afce"></script>
  <script src="/static/components/moment/min/moment.min.js?v=89f87298ad94aa1e6b92f42eb66da043"></script>

<!-- Navbar
================================================== -->
  <nav id="menubar" class="navbar navbar-default navbar-fixed-top" data-spy="affix">
    <div class="container">
      <div class="navbar-header">
        <button type="button" class="navbar-toggle collapsed" data-toggle="collapse" data-target=".navbar-collapse">
          <span class="sr-only">Toggle navigation</span>
          <i class="fa fa-bars"></i>
        </button>
        <a class="navbar-brand" href="/">
          <img src="/static/img/nav_logo.svg?v=479cefe8d932fb14a67b93911b97d70f" width="159"/>
        </a>
      </div>

      <div class="collapse navbar-collapse">
        <ul class="nav navbar-nav navbar-right">
          <li>
            <a class="active" href="http://jupyter.org">JUPYTER</a>
          </li>
          <li>
    <a href="/faq" title="FAQ" >
      
        <span>FAQ</span>
      
    </a>
  </li>

          
  
    
      
        <li>
    <a href="/format/script/url/thewhitelab.org/Classes/CHE116/Unit_9/Homework_9_Key.ipynb" title="View as Code" >
      <span class="fa fa-code fa-2x menu-icon"></span>
      <span class="menu-text">View as Code</span>
    </a>
  </li>
      
    
  
    
  

  

  

  <li>
    <a href="http://thewhitelab.org/Classes/CHE116/Unit_9/Homework_9_Key.ipynb" title="Download Notebook" download>
      <span class="fa fa-download fa-2x menu-icon"></span>
      <span class="menu-text">Download Notebook</span>
    </a>
  </li>

        </ul>
      </div><!-- /.navbar-collapse -->
      
      
    </div>
  </nav>

  <div class="container container-main">
    
  
  <div id="notebook">
    <div id="notebook-container">
      
<div class="cell border-box-sizing text_cell rendered">
<div class="prompt input_prompt">
</div>
<div class="inner_cell">
<div class="text_cell_render border-box-sizing rendered_html">
<h1 id="Homework-9">Homework 9<a class="anchor-link" href="#Homework-9">&#182;</a></h1><h4 id="CHE-116:-Numerical-Methods-and-Statistics">CHE 116: Numerical Methods and Statistics<a class="anchor-link" href="#CHE-116:-Numerical-Methods-and-Statistics">&#182;</a></h4><p>Prof. Andrew White</p>
<p>Version 1.0 (3/19/2015)</p>
<hr>

</div>
</div>
</div>
<div class="cell border-box-sizing code_cell rendered">
<div class="input">
<div class="prompt input_prompt">In&nbsp;[2]:</div>
<div class="inner_cell">
    <div class="input_area">
<div class=" highlight hl-ipython3"><pre><span></span><span class="kn">from</span> <span class="nn">math</span> <span class="k">import</span> <span class="n">erf</span><span class="p">,</span> <span class="n">sqrt</span>
<span class="kn">import</span> <span class="nn">numpy</span> <span class="k">as</span> <span class="nn">np</span>
<span class="kn">import</span> <span class="nn">scipy.stats</span>
</pre></div>

</div>
</div>
</div>

</div>
<div class="cell border-box-sizing text_cell rendered">
<div class="prompt input_prompt">
</div>
<div class="inner_cell">
<div class="text_cell_render border-box-sizing rendered_html">
<h1 id="General-Instructions">General Instructions<a class="anchor-link" href="#General-Instructions">&#182;</a></h1><p>For full credit, you must have the following items for each problem:</p>
<ul>
<li><p>[1 point] Describe what and why the method you're using is applicable. For example, 'I chose the signed rank test because these are two matched datasets describing one measurement'</p>
</li>
<li><p>[1 point] Write out the null hypothesis. For example, 'The null hypothesis is that the two measurements sets came from the same population (synonymous with probability distribution)'</p>
</li>
<li><p>[1 point] Report the p-value and your alpha value</p>
</li>
<li><p>[1 point] if you accept/reject the null hypothesis and answer the question</p>
</li>
</ul>
<p><em>All the book problems are from Langley</em></p>

</div>
</div>
</div>
<div class="cell border-box-sizing text_cell rendered">
<div class="prompt input_prompt">
</div>
<div class="inner_cell">
<div class="text_cell_render border-box-sizing rendered_html">
<h1 id="1.-$zM$-Tests-(8-Points)">1. $zM$ Tests (8 Points)<a class="anchor-link" href="#1.-$zM$-Tests-(8-Points)">&#182;</a></h1>
</div>
</div>
</div>
<div class="cell border-box-sizing text_cell rendered">
<div class="prompt input_prompt">
</div>
<div class="inner_cell">
<div class="text_cell_render border-box-sizing rendered_html">
<ol>
<li><p>Page 158, Q41</p>
</li>
<li><p>Page 159, Q42</p>
</li>
</ol>

</div>
</div>
</div>
<div class="cell border-box-sizing text_cell rendered">
<div class="prompt input_prompt">
</div>
<div class="inner_cell">
<div class="text_cell_render border-box-sizing rendered_html">
<h3 id="1.1-Answer">1.1 Answer<a class="anchor-link" href="#1.1-Answer">&#182;</a></h3><ul>
<li>$zM$ test is chosen because we have one sample compared with a parent group whose mean and standard deviation is known. </li>
<li>The null hypothesis: The sample is copper</li>
</ul>

</div>
</div>
</div>
<div class="cell border-box-sizing code_cell rendered">
<div class="input">
<div class="prompt input_prompt">In&nbsp;[23]:</div>
<div class="inner_cell">
    <div class="input_area">
<div class=" highlight hl-ipython3"><pre><span></span><span class="n">mu_sample</span><span class="o">=</span><span class="mi">1072</span>
<span class="n">mu_popul</span><span class="o">=</span><span class="mf">1080.</span>
<span class="n">st_dev</span><span class="o">=</span><span class="mi">5</span>
<span class="n">z</span><span class="o">=</span><span class="p">(</span><span class="o">-</span><span class="n">mu_popul</span><span class="o">+</span><span class="n">mu_sample</span><span class="p">)</span><span class="o">/</span><span class="n">st_dev</span>
<span class="nb">print</span> <span class="n">z</span>
<span class="n">p</span><span class="o">=</span><span class="mi">1</span> <span class="o">-</span> <span class="n">np</span><span class="o">.</span><span class="n">abs</span><span class="p">((</span><span class="n">scipy</span><span class="o">.</span><span class="n">stats</span><span class="o">.</span><span class="n">norm</span><span class="o">.</span><span class="n">cdf</span><span class="p">(</span><span class="n">z</span><span class="p">)</span><span class="o">-</span><span class="n">scipy</span><span class="o">.</span><span class="n">stats</span><span class="o">.</span><span class="n">norm</span><span class="o">.</span><span class="n">cdf</span><span class="p">(</span><span class="o">-</span><span class="n">z</span><span class="p">)))</span>
<span class="nb">print</span> <span class="n">p</span>
</pre></div>

</div>
</div>
</div>

<div class="output_wrapper">
<div class="output">


<div class="output_area">
<div class="prompt"></div>

<div class="output_subarea output_stream output_stdout output_text">
<pre>-1.6
0.109598583399
</pre>
</div>
</div>

</div>
</div>

</div>
<div class="cell border-box-sizing text_cell rendered">
<div class="prompt input_prompt">
</div>
<div class="inner_cell">
<div class="text_cell_render border-box-sizing rendered_html">
<ul>
<li>The $p$-value is 0.11</li>
<li>We do not reject the null hypothesis, so the sample could be copper</li>
</ul>

</div>
</div>
</div>
<div class="cell border-box-sizing text_cell rendered">
<div class="prompt input_prompt">
</div>
<div class="inner_cell">
<div class="text_cell_render border-box-sizing rendered_html">
<h3 id="1.2-Answer">1.2 Answer<a class="anchor-link" href="#1.2-Answer">&#182;</a></h3><ul>
<li>$zM$ test is chosen because we have a sample compared with a parent group whose mean and standard deviation is known. </li>
<li>The null hypothesis: The sample is copper</li>
</ul>

</div>
</div>
</div>
<div class="cell border-box-sizing text_cell rendered">
<div class="prompt input_prompt">
</div>
<div class="inner_cell">
<div class="text_cell_render border-box-sizing rendered_html">
<p>The formula for a $Z$-statistic with a sample size greater than 1 is:</p>
$$ Z = \frac{\mu - \bar{x}}{\sigma / \sqrt{N}}$$
</div>
</div>
</div>
<div class="cell border-box-sizing code_cell rendered">
<div class="input">
<div class="prompt input_prompt">In&nbsp;[7]:</div>
<div class="inner_cell">
    <div class="input_area">
<div class=" highlight hl-ipython3"><pre><span></span><span class="n">mu</span> <span class="o">=</span> <span class="mf">1080.</span>
<span class="n">sigma</span> <span class="o">=</span> <span class="mf">5.</span>
<span class="n">data</span> <span class="o">=</span> <span class="p">[</span><span class="mi">1072</span><span class="p">,</span> <span class="mi">1071</span><span class="p">,</span> <span class="mi">1072</span><span class="p">,</span> <span class="mi">1073</span><span class="p">]</span>
<span class="n">Z</span> <span class="o">=</span> <span class="p">(</span><span class="n">mu</span> <span class="o">-</span> <span class="n">np</span><span class="o">.</span><span class="n">mean</span><span class="p">(</span><span class="n">data</span><span class="p">))</span> <span class="o">/</span> <span class="p">(</span><span class="n">sigma</span> <span class="o">/</span> <span class="n">sqrt</span><span class="p">(</span><span class="nb">len</span><span class="p">(</span><span class="n">data</span><span class="p">)))</span>
<span class="nb">print</span> <span class="n">Z</span>
<span class="n">p</span> <span class="o">=</span> <span class="mi">1</span> <span class="o">-</span> <span class="p">(</span><span class="n">scipy</span><span class="o">.</span><span class="n">stats</span><span class="o">.</span><span class="n">norm</span><span class="o">.</span><span class="n">cdf</span><span class="p">(</span><span class="n">Z</span><span class="p">)</span> <span class="o">-</span> <span class="n">scipy</span><span class="o">.</span><span class="n">stats</span><span class="o">.</span><span class="n">norm</span><span class="o">.</span><span class="n">cdf</span><span class="p">(</span><span class="o">-</span><span class="n">Z</span><span class="p">))</span>
<span class="nb">print</span> <span class="n">p</span>
</pre></div>

</div>
</div>
</div>

<div class="output_wrapper">
<div class="output">


<div class="output_area">
<div class="prompt"></div>

<div class="output_subarea output_stream output_stdout output_text">
<pre>3.2
0.00137427587583
</pre>
</div>
</div>

</div>
</div>

</div>
<div class="cell border-box-sizing text_cell rendered">
<div class="prompt input_prompt">
</div>
<div class="inner_cell">
<div class="text_cell_render border-box-sizing rendered_html">
<ul>
<li>The $p$-value is 0</li>
<li>We do reject the null hypothesis, so the sample is note copper</li>
</ul>

</div>
</div>
</div>
<div class="cell border-box-sizing text_cell rendered">
<div class="prompt input_prompt">
</div>
<div class="inner_cell">
<div class="text_cell_render border-box-sizing rendered_html">
<h1 id="2.-$t$-Tests-(4-Points)">2. $t$-Tests (4 Points)<a class="anchor-link" href="#2.-$t$-Tests-(4-Points)">&#182;</a></h1><ol>
<li>Page 165, Q45</li>
</ol>

</div>
</div>
</div>
<div class="cell border-box-sizing text_cell rendered">
<div class="prompt input_prompt">
</div>
<div class="inner_cell">
<div class="text_cell_render border-box-sizing rendered_html">
<h3 id="2.1-Answer">2.1 Answer<a class="anchor-link" href="#2.1-Answer">&#182;</a></h3><ul>
<li>$t$-test is chosen because we have a sample compared with a parent group whose mean is known but not standard deviation. </li>
<li>The null hypothesis: The phone bill is the same as always</li>
</ul>

</div>
</div>
</div>
<div class="cell border-box-sizing code_cell rendered">
<div class="input">
<div class="prompt input_prompt">In&nbsp;[6]:</div>
<div class="inner_cell">
    <div class="input_area">
<div class=" highlight hl-ipython3"><pre><span></span><span class="n">mu</span> <span class="o">=</span> <span class="mf">48.</span>
<span class="n">data</span> <span class="o">=</span> <span class="p">[</span><span class="mi">56</span><span class="p">,</span> <span class="mi">51</span><span class="p">,</span> <span class="mi">63</span><span class="p">,</span> <span class="mi">60</span><span class="p">]</span>
<span class="n">T</span> <span class="o">=</span> <span class="p">(</span><span class="n">mu</span> <span class="o">-</span> <span class="n">np</span><span class="o">.</span><span class="n">mean</span><span class="p">(</span><span class="n">data</span><span class="p">))</span> <span class="o">/</span> <span class="n">np</span><span class="o">.</span><span class="n">sqrt</span><span class="p">(</span><span class="n">np</span><span class="o">.</span><span class="n">var</span><span class="p">(</span><span class="n">data</span><span class="p">,</span> <span class="n">ddof</span><span class="o">=</span><span class="mi">1</span><span class="p">)</span> <span class="o">/</span> <span class="nb">len</span><span class="p">(</span><span class="n">data</span><span class="p">))</span>
<span class="n">T</span> <span class="o">=</span> <span class="n">np</span><span class="o">.</span><span class="n">abs</span><span class="p">(</span><span class="n">T</span><span class="p">)</span>
<span class="nb">print</span> <span class="n">T</span>
<span class="n">p</span> <span class="o">=</span> <span class="mi">1</span> <span class="o">-</span> <span class="p">(</span><span class="n">scipy</span><span class="o">.</span><span class="n">stats</span><span class="o">.</span><span class="n">t</span><span class="o">.</span><span class="n">cdf</span><span class="p">(</span><span class="n">T</span><span class="p">,</span> <span class="nb">len</span><span class="p">(</span><span class="n">data</span><span class="p">))</span> <span class="o">-</span> <span class="n">scipy</span><span class="o">.</span><span class="n">stats</span><span class="o">.</span><span class="n">t</span><span class="o">.</span><span class="n">cdf</span><span class="p">(</span><span class="o">-</span><span class="n">T</span><span class="p">,</span> <span class="nb">len</span><span class="p">(</span><span class="n">data</span><span class="p">)))</span>
<span class="nb">print</span> <span class="n">p</span>
</pre></div>

</div>
</div>
</div>

<div class="output_wrapper">
<div class="output">


<div class="output_area">
<div class="prompt"></div>

<div class="output_subarea output_stream output_stdout output_text">
<pre>3.65655170487
0.0216459982273
</pre>
</div>
</div>

</div>
</div>

</div>
<div class="cell border-box-sizing text_cell rendered">
<div class="prompt input_prompt">
</div>
<div class="inner_cell">
<div class="text_cell_render border-box-sizing rendered_html">
<ul>
<li>The $p$-value is 0.02</li>
<li>We do reject the null hypothesis, so we should sack the secretary.</li>
</ul>

</div>
</div>
</div>
<div class="cell border-box-sizing text_cell rendered">
<div class="prompt input_prompt">
</div>
<div class="inner_cell">
<div class="text_cell_render border-box-sizing rendered_html">
<h1 id="3.-Wilcoxon's-Sum-of-Rank-Test-(4-Points)">3. Wilcoxon's Sum of Rank Test (4 Points)<a class="anchor-link" href="#3.-Wilcoxon's-Sum-of-Rank-Test-(4-Points)">&#182;</a></h1><ol>
<li>Page 177, Q47</li>
</ol>

</div>
</div>
</div>
<div class="cell border-box-sizing text_cell rendered">
<div class="prompt input_prompt">
</div>
<div class="inner_cell">
<div class="text_cell_render border-box-sizing rendered_html">
<h3 id="3.1-Answer">3.1 Answer<a class="anchor-link" href="#3.1-Answer">&#182;</a></h3><ul>
<li>The Wilcoxon sum of ranks test is chosen because we are comparing two unpaired sample groups</li>
<li>The null hypothesis: The two sample groups came from the same parent distribution.</li>
</ul>

</div>
</div>
</div>
<div class="cell border-box-sizing code_cell rendered">
<div class="input">
<div class="prompt input_prompt">In&nbsp;[16]:</div>
<div class="inner_cell">
    <div class="input_area">
<div class=" highlight hl-ipython3"><pre><span></span><span class="n">data_1</span> <span class="o">=</span> <span class="p">[</span><span class="mf">3.05</span><span class="p">,</span> <span class="mf">3.01</span><span class="p">,</span> <span class="mf">3.20</span><span class="p">,</span> <span class="mf">3.16</span><span class="p">,</span> <span class="mf">3.11</span><span class="p">,</span> <span class="mf">3.09</span><span class="p">]</span>
<span class="n">data_2</span> <span class="o">=</span> <span class="p">[</span><span class="mf">3.18</span><span class="p">,</span> <span class="mf">3.23</span><span class="p">,</span> <span class="mf">3.19</span><span class="p">,</span> <span class="mf">3.28</span><span class="p">,</span> <span class="mf">3.08</span><span class="p">,</span> <span class="mf">3.18</span><span class="p">]</span>

<span class="n">_</span><span class="p">,</span><span class="n">p</span> <span class="o">=</span> <span class="n">scipy</span><span class="o">.</span><span class="n">stats</span><span class="o">.</span><span class="n">ranksums</span><span class="p">(</span><span class="n">data_1</span><span class="p">,</span> <span class="n">data_2</span><span class="p">)</span>
<span class="nb">print</span> <span class="n">p</span>
</pre></div>

</div>
</div>
</div>

<div class="output_wrapper">
<div class="output">


<div class="output_area">
<div class="prompt"></div>

<div class="output_subarea output_stream output_stdout output_text">
<pre>0.0781690858243
</pre>
</div>
</div>

</div>
</div>

</div>
<div class="cell border-box-sizing text_cell rendered">
<div class="prompt input_prompt">
</div>
<div class="inner_cell">
<div class="text_cell_render border-box-sizing rendered_html">
<ul>
<li>The $p$-value is 0.08</li>
<li>We do not reject the null hypothesis, so the two brands may be the same quality</li>
</ul>

</div>
</div>
</div>
<div class="cell border-box-sizing text_cell rendered">
<div class="prompt input_prompt">
</div>
<div class="inner_cell">
<div class="text_cell_render border-box-sizing rendered_html">
<h1 id="4.-Wilcoxon's-Signed-Rank-Test-(4-Points)">4. Wilcoxon's Signed Rank Test (4 Points)<a class="anchor-link" href="#4.-Wilcoxon's-Signed-Rank-Test-(4-Points)">&#182;</a></h1><ol>
<li>Page 187, Q50</li>
</ol>

</div>
</div>
</div>
<div class="cell border-box-sizing text_cell rendered">
<div class="prompt input_prompt">
</div>
<div class="inner_cell">
<div class="text_cell_render border-box-sizing rendered_html">
<h3 id="4.1-Answer">4.1 Answer<a class="anchor-link" href="#4.1-Answer">&#182;</a></h3><ul>
<li>Wilcoxon signed rank is chosen because we have two paired sample groups that we're comparing</li>
<li>The null hypothesis: The two sample groups are from the same parent distribution (no change)</li>
</ul>

</div>
</div>
</div>
<div class="cell border-box-sizing code_cell rendered">
<div class="input">
<div class="prompt input_prompt">In&nbsp;[21]:</div>
<div class="inner_cell">
    <div class="input_area">
<div class=" highlight hl-ipython3"><pre><span></span><span class="n">data_plain</span> <span class="o">=</span> <span class="p">[</span><span class="mf">17.1</span><span class="p">,</span> <span class="mf">29.5</span><span class="p">,</span> <span class="mf">23.8</span><span class="p">,</span> <span class="mf">37.3</span><span class="p">,</span> <span class="mf">19.6</span><span class="p">,</span> <span class="mf">24.2</span><span class="p">,</span> <span class="mf">30.0</span><span class="p">,</span> <span class="mf">20.9</span><span class="p">]</span>
<span class="n">data_lub</span> <span class="o">=</span> <span class="p">[</span><span class="mf">14.2</span><span class="p">,</span> <span class="mf">30.3</span><span class="p">,</span> <span class="mf">21.5</span><span class="p">,</span> <span class="mf">36.3</span><span class="p">,</span> <span class="mf">19.6</span><span class="p">,</span> <span class="mf">24.5</span><span class="p">,</span> <span class="mf">26.7</span><span class="p">,</span> <span class="mf">20.6</span><span class="p">]</span>

<span class="n">_</span><span class="p">,</span><span class="n">p</span> <span class="o">=</span> <span class="n">scipy</span><span class="o">.</span><span class="n">stats</span><span class="o">.</span><span class="n">wilcoxon</span><span class="p">(</span><span class="n">data_plain</span><span class="p">,</span> <span class="n">data_lub</span><span class="p">)</span>
<span class="nb">print</span> <span class="n">p</span>
</pre></div>

</div>
</div>
</div>

<div class="output_wrapper">
<div class="output">


<div class="output_area">
<div class="prompt"></div>

<div class="output_subarea output_stream output_stdout output_text">
<pre>0.128190174345
</pre>
</div>
</div>

</div>
</div>

</div>
<div class="cell border-box-sizing text_cell rendered">
<div class="prompt input_prompt">
</div>
<div class="inner_cell">
<div class="text_cell_render border-box-sizing rendered_html">
<ul>
<li>The $p$-value is 0.13</li>
<li>We do not reject the null hypothesis, so there appears to be no difference between use a lubricant and not.</li>
</ul>

</div>
</div>
</div>
<div class="cell border-box-sizing text_cell rendered">
<div class="prompt input_prompt">
</div>
<div class="inner_cell">
<div class="text_cell_render border-box-sizing rendered_html">
<h1 id="5.-Spearman's-Correlation-Test-(4-Points)">5. Spearman's Correlation Test (4 Points)<a class="anchor-link" href="#5.-Spearman's-Correlation-Test-(4-Points)">&#182;</a></h1><ol>
<li>Page 210, Q55</li>
</ol>

</div>
</div>
</div>
<div class="cell border-box-sizing text_cell rendered">
<div class="prompt input_prompt">
</div>
<div class="inner_cell">
<div class="text_cell_render border-box-sizing rendered_html">
<h4 id="5.1-Answer">5.1 Answer<a class="anchor-link" href="#5.1-Answer">&#182;</a></h4><ul>
<li>Spearman's Correlation coefficient because we've measured two different things for one sample group</li>
<li>Null hypothesis: there is no correlation</li>
</ul>

</div>
</div>
</div>
<div class="cell border-box-sizing code_cell rendered">
<div class="input">
<div class="prompt input_prompt">In&nbsp;[3]:</div>
<div class="inner_cell">
    <div class="input_area">
<div class=" highlight hl-ipython3"><pre><span></span><span class="n">temperature</span> <span class="o">=</span> <span class="p">[</span><span class="mi">15</span><span class="p">,</span> <span class="mi">18</span><span class="p">,</span> <span class="mi">21</span><span class="p">,</span> <span class="mi">24</span><span class="p">,</span> <span class="mi">27</span><span class="p">,</span> <span class="mi">30</span><span class="p">,</span> <span class="mi">33</span><span class="p">]</span>
<span class="n">chem_yield</span> <span class="o">=</span> <span class="p">[</span><span class="mi">66</span><span class="p">,</span> <span class="mi">69</span><span class="p">,</span> <span class="mi">69</span><span class="p">,</span> <span class="mi">70</span><span class="p">,</span> <span class="mi">64</span><span class="p">,</span> <span class="mi">73</span><span class="p">,</span> <span class="mi">75</span><span class="p">]</span>

<span class="nb">print</span> <span class="n">scipy</span><span class="o">.</span><span class="n">stats</span><span class="o">.</span><span class="n">spearmanr</span><span class="p">(</span><span class="n">temperature</span><span class="p">,</span> <span class="n">chem_yield</span><span class="p">)</span>
</pre></div>

</div>
</div>
</div>

<div class="output_wrapper">
<div class="output">


<div class="output_area">
<div class="prompt"></div>

<div class="output_subarea output_stream output_stdout output_text">
<pre>(0.63065622388689124, 0.12888769568495784)
</pre>
</div>
</div>

</div>
</div>

</div>
<div class="cell border-box-sizing text_cell rendered">
<div class="prompt input_prompt">
</div>
<div class="inner_cell">
<div class="text_cell_render border-box-sizing rendered_html">
<ul>
<li>the $p$-value is 0.13</li>
<li>There is barely not enough evidence to reject the null hypothesis. No correlation</li>
</ul>
<p><strong>Note: In lecture, I used pearsonr instead of spearmanr, so that's OK if someone did that</strong></p>

</div>
</div>
</div>
<div class="cell border-box-sizing text_cell rendered">
<div class="prompt input_prompt">
</div>
<div class="inner_cell">
<div class="text_cell_render border-box-sizing rendered_html">
<h1 id="6.Poisson-Test-(4-Points)">6.Poisson Test (4 Points)<a class="anchor-link" href="#6.Poisson-Test-(4-Points)">&#182;</a></h1><ol>
<li>Page 236, Q61</li>
</ol>

</div>
</div>
</div>
<div class="cell border-box-sizing text_cell rendered">
<div class="prompt input_prompt">
</div>
<div class="inner_cell">
<div class="text_cell_render border-box-sizing rendered_html">
<h4 id="6.1-Answer">6.1 Answer<a class="anchor-link" href="#6.1-Answer">&#182;</a></h4><ul>
<li>Poisson's test is chosen, because we're comparing a count to a known parent distribution</li>
<li>Null hypothesis: The count is from the known parent distribution</li>
</ul>

</div>
</div>
</div>
<div class="cell border-box-sizing code_cell rendered">
<div class="input">
<div class="prompt input_prompt">In&nbsp;[10]:</div>
<div class="inner_cell">
    <div class="input_area">
<div class=" highlight hl-ipython3"><pre><span></span><span class="n">p_rash</span> <span class="o">=</span> <span class="mi">1</span> <span class="o">/</span> <span class="mf">250.</span>
<span class="n">expected</span> <span class="o">=</span> <span class="mi">25</span> <span class="o">*</span> <span class="n">p_rash</span>

<span class="nb">print</span> <span class="n">p_rash</span><span class="p">,</span> <span class="n">expected</span>

<span class="n">p</span> <span class="o">=</span> <span class="mi">2</span> <span class="o">*</span> <span class="p">(</span><span class="mi">1</span> <span class="o">-</span> <span class="n">scipy</span><span class="o">.</span><span class="n">stats</span><span class="o">.</span><span class="n">poisson</span><span class="o">.</span><span class="n">cdf</span><span class="p">(</span><span class="mi">2</span><span class="p">,</span> <span class="n">mu</span><span class="o">=</span><span class="n">expected</span><span class="p">))</span>
<span class="nb">print</span> <span class="n">p</span>
</pre></div>

</div>
</div>
</div>

<div class="output_wrapper">
<div class="output">


<div class="output_area">
<div class="prompt"></div>

<div class="output_subarea output_stream output_stdout output_text">
<pre>0.004 0.1
0.000309306140529
</pre>
</div>
</div>

</div>
</div>

</div>
<div class="cell border-box-sizing text_cell rendered">
<div class="prompt input_prompt">
</div>
<div class="inner_cell">
<div class="text_cell_render border-box-sizing rendered_html">
<ul>
<li>$p$-vaule is 0.0003</li>
<li>The null hypothesis is rejected, the symptoms are occuring more frequently than the 250 person trial</li>
</ul>

</div>
</div>
</div>
<div class="cell border-box-sizing text_cell rendered">
<div class="prompt input_prompt">
</div>
<div class="inner_cell">
<div class="text_cell_render border-box-sizing rendered_html">
<h1 id="7.-Binomial-Test-(4-Points)">7. Binomial Test (4 Points)<a class="anchor-link" href="#7.-Binomial-Test-(4-Points)">&#182;</a></h1><ol>
<li>Page 243, Q65</li>
</ol>

</div>
</div>
</div>
<div class="cell border-box-sizing text_cell rendered">
<div class="prompt input_prompt">
</div>
<div class="inner_cell">
<div class="text_cell_render border-box-sizing rendered_html">
<h4 id="7.1-Answer">7.1 Answer<a class="anchor-link" href="#7.1-Answer">&#182;</a></h4><ul>
<li>A binomial test is appropiate because we're comparing a sample from a known distribution where the number of trials is fixed and the probability of an ouctome is constant</li>
<li>The null hypothesis is that the outcome of the experiment came from the known binomial distribution</li>
</ul>

</div>
</div>
</div>
<div class="cell border-box-sizing code_cell rendered">
<div class="input">
<div class="prompt input_prompt">In&nbsp;[46]:</div>
<div class="inner_cell">
    <div class="input_area">
<div class=" highlight hl-ipython3"><pre><span></span><span class="n">p</span> <span class="o">=</span> <span class="mf">0.1</span>
<span class="n">N</span> <span class="o">=</span> <span class="mi">100</span>
<span class="n">n</span> <span class="o">=</span> <span class="mi">17</span>

<span class="nb">print</span> <span class="p">(</span><span class="mi">1</span> <span class="o">-</span> <span class="n">scipy</span><span class="o">.</span><span class="n">stats</span><span class="o">.</span><span class="n">binom</span><span class="o">.</span><span class="n">cdf</span><span class="p">(</span><span class="n">n</span><span class="p">,</span> <span class="mi">100</span><span class="p">,</span> <span class="mf">0.1</span><span class="p">))</span> <span class="o">*</span> <span class="mi">2</span>
</pre></div>

</div>
</div>
</div>

<div class="output_wrapper">
<div class="output">


<div class="output_area">
<div class="prompt"></div>

<div class="output_subarea output_stream output_stdout output_text">
<pre>0.0200145585243
</pre>
</div>
</div>

</div>
</div>

</div>
<div class="cell border-box-sizing text_cell rendered">
<div class="prompt input_prompt">
</div>
<div class="inner_cell">
<div class="text_cell_render border-box-sizing rendered_html">
<p>The set-up for this p-value is to construct an interval over the known binomial distribution that goes to the value. I've done this by integrating from 0 up to the value. I take the complement, as we always do, and then I multiply by 2 to make it symmetric.</p>
<ul>
<li>The $p$-value is 0.02</li>
<li>The null hypothesis is rejected, it appears the students are sportsing a little too hard without sports.</li>
</ul>

</div>
</div>
</div>
<div class="cell border-box-sizing text_cell rendered">
<div class="prompt input_prompt">
</div>
<div class="inner_cell">
<div class="text_cell_render border-box-sizing rendered_html">
<h1 id="8.-Illegeal-Performance-Enhancing-Drugs-and-Programming-(8-Points)">8. Illegeal Performance Enhancing Drugs and Programming (8 Points)<a class="anchor-link" href="#8.-Illegeal-Performance-Enhancing-Drugs-and-Programming-(8-Points)">&#182;</a></h1><p>A scientist named Fave Doster is investigating the relationship between weight-lifting and programming. He has gathered 3 datasets. Each dataset contains measurements of the sum of the single repetition maximum lifted weight for three exercises. We will call that sum "strength" for short. Dataset 1 is the strength of people who use steriods and take regular protein and creatine supplements. Dataset 2 is the strength of people who do not use supplements or program. Dataset 3 is the same people as dataset 2 after taking CHE 116 and learning python. Fave Doster's hypothesis is that if you program in python, you won't be as strong as those who use steriods, creatine and protein supplements. Is Fave Doster's hypothesis correct? Use two different hypothesis tests to provide evidence for or against. The data is below.</p>

</div>
</div>
</div>
<div class="cell border-box-sizing code_cell rendered">
<div class="input">
<div class="prompt input_prompt">In&nbsp;[48]:</div>
<div class="inner_cell">
    <div class="input_area">
<div class=" highlight hl-ipython3"><pre><span></span><span class="n">data_1</span> <span class="o">=</span> <span class="p">[</span><span class="mf">912.0</span><span class="p">,</span> <span class="mf">876.0</span><span class="p">,</span>  <span class="mf">722.0</span><span class="p">,</span>  <span class="mf">645.0</span><span class="p">,</span>  <span class="mf">936.0</span><span class="p">,</span>  <span class="mf">687.0</span><span class="p">,</span>  <span class="mf">825.0</span><span class="p">,</span>  <span class="mf">576.0</span><span class="p">,</span>  <span class="mf">757.0</span><span class="p">,</span>  <span class="mf">617.0</span><span class="p">,</span>  <span class="mf">806.0</span><span class="p">,</span>  <span class="mf">898.0</span><span class="p">,</span>  <span class="mf">823.0</span><span class="p">,</span>  <span class="mf">1033.0</span><span class="p">,</span>  <span class="mf">1057.0</span><span class="p">,</span>  <span class="mf">1202.0</span><span class="p">,</span>  <span class="mf">776.0</span><span class="p">,</span>  <span class="mf">519.0</span><span class="p">,</span>  <span class="mf">689.0</span><span class="p">,</span>  <span class="mf">574.0</span><span class="p">,</span>  <span class="mf">1012.0</span><span class="p">,</span>  <span class="mf">640.0</span><span class="p">,</span>  <span class="mf">834.0</span><span class="p">,</span>  <span class="mf">906.0</span><span class="p">,</span>  <span class="mf">906.0</span><span class="p">]</span>
<span class="n">data_2</span> <span class="o">=</span> <span class="p">[</span><span class="mf">111.0</span><span class="p">,</span> <span class="mf">146.0</span><span class="p">,</span>  <span class="mf">210.0</span><span class="p">,</span>  <span class="mf">230.0</span><span class="p">,</span>  <span class="mf">319.0</span><span class="p">,</span>  <span class="mf">115.0</span><span class="p">,</span>  <span class="mf">221.0</span><span class="p">,</span>  <span class="mf">219.0</span><span class="p">,</span>  <span class="mf">152.0</span><span class="p">,</span>  <span class="mf">114.0</span><span class="p">,</span>  <span class="mf">226.0</span><span class="p">,</span>  <span class="mf">187.0</span><span class="p">,</span>  <span class="mf">224.0</span><span class="p">,</span>  <span class="mf">207.0</span><span class="p">,</span>  <span class="mf">28.0</span><span class="p">,</span>  <span class="mf">358.0</span><span class="p">,</span>  <span class="mf">243.0</span><span class="p">,</span>  <span class="mf">200.0</span><span class="p">,</span>  <span class="mf">254.0</span><span class="p">,</span>  <span class="mf">252.0</span><span class="p">,</span>  <span class="mf">304.0</span><span class="p">,</span>  <span class="mf">314.0</span><span class="p">,</span>  <span class="mf">263.0</span><span class="p">,</span>  <span class="mf">136.0</span><span class="p">,</span>  <span class="mf">211.0</span><span class="p">]</span>
<span class="n">data_3</span> <span class="o">=</span> <span class="p">[</span><span class="mf">549.0</span><span class="p">,</span> <span class="mf">873.0</span><span class="p">,</span>  <span class="mf">548.0</span><span class="p">,</span>  <span class="mf">823.0</span><span class="p">,</span>  <span class="mf">1163.0</span><span class="p">,</span>  <span class="mf">697.0</span><span class="p">,</span>  <span class="mf">1131.0</span><span class="p">,</span>  <span class="mf">799.0</span><span class="p">,</span>  <span class="mf">1130.0</span><span class="p">,</span>  <span class="mf">602.0</span><span class="p">,</span>  <span class="mf">1012.0</span><span class="p">,</span>  <span class="mf">968.0</span><span class="p">,</span>  <span class="mf">927.0</span><span class="p">,</span>  <span class="mf">678.0</span><span class="p">,</span>  <span class="mf">543.0</span><span class="p">,</span>  <span class="mf">681.0</span><span class="p">,</span>  <span class="mf">618.0</span><span class="p">,</span>  <span class="mf">929.0</span><span class="p">,</span>  <span class="mf">800.0</span><span class="p">,</span>  <span class="mf">897.0</span><span class="p">,</span>  <span class="mf">1163.0</span><span class="p">,</span>  <span class="mf">876.0</span><span class="p">,</span>  <span class="mf">678.0</span><span class="p">,</span>  <span class="mf">650.0</span><span class="p">,</span>  <span class="mf">735.0</span><span class="p">]</span>
</pre></div>

</div>
</div>
</div>

</div>
<div class="cell border-box-sizing text_cell rendered">
<div class="prompt input_prompt">
</div>
<div class="inner_cell">
<div class="text_cell_render border-box-sizing rendered_html">
<p>The first test that would disprove the hypothesis is showing that datasets 3 and 1 are the same (people who do python are as strong as steriod users). The datasets unmatched, so a Wilcoxon rank sums test would be appropiate:</p>
<ul>
<li>The Wilcoxon sum of ranks test is chosen because we are comparing two unpaired sample groups</li>
<li>The null hypothesis: The two sample groups came from the same parent distribution</li>
</ul>

</div>
</div>
</div>
<div class="cell border-box-sizing code_cell rendered">
<div class="input">
<div class="prompt input_prompt">In&nbsp;[4]:</div>
<div class="inner_cell">
    <div class="input_area">
<div class=" highlight hl-ipython3"><pre><span></span><span class="n">scipy</span><span class="o">.</span><span class="n">stats</span><span class="o">.</span><span class="n">ranksums</span><span class="p">(</span><span class="n">data_1</span><span class="p">,</span> <span class="n">data_3</span><span class="p">)</span>
</pre></div>

</div>
</div>
</div>

<div class="output_wrapper">
<div class="output">


<div class="output_area">
<div class="prompt output_prompt">Out[4]:</div>



<div class="output_text output_subarea output_execute_result">
<pre>(0.038805700005813272, 0.96904530031179115)</pre>
</div>

</div>

</div>
</div>

</div>
<div class="cell border-box-sizing text_cell rendered">
<div class="prompt input_prompt">
</div>
<div class="inner_cell">
<div class="text_cell_render border-box-sizing rendered_html">
<ul>
<li>The p-value is 0.97</li>
<li>We do not reject the null hypothesis</li>
</ul>
<p>Thus, data_1 and data_3 appear to come from the same distribution, which goes against Fave Doster's hypothesis. The next test we can do is to show that data_2 and data_3 are different, proving that python does affect strength:</p>
<ul>
<li>The Wilcoxon signed rank test is chosen because we are compairng two paired sample groups</li>
<li>The null hypothesis is that the two sample groups came from the same distribution</li>
</ul>

</div>
</div>
</div>
<div class="cell border-box-sizing code_cell rendered">
<div class="input">
<div class="prompt input_prompt">In&nbsp;[51]:</div>
<div class="inner_cell">
    <div class="input_area">
<div class=" highlight hl-ipython3"><pre><span></span><span class="n">scipy</span><span class="o">.</span><span class="n">stats</span><span class="o">.</span><span class="n">wilcoxon</span><span class="p">(</span><span class="n">data_2</span><span class="p">,</span> <span class="n">data_3</span><span class="p">)</span>
</pre></div>

</div>
</div>
</div>

<div class="output_wrapper">
<div class="output">


<div class="output_area">
<div class="prompt output_prompt">Out[51]:</div>



<div class="output_text output_subarea output_execute_result">
<pre>(0.0, 1.2290322210248409e-05)</pre>
</div>

</div>

</div>
</div>

</div>
<div class="cell border-box-sizing text_cell rendered">
<div class="prompt input_prompt">
</div>
<div class="inner_cell">
<div class="text_cell_render border-box-sizing rendered_html">
<ul>
<li>The p-value is 0.0001229</li>
<li>The null hypothesis is rejected</li>
</ul>
<p>This shows there is a difference in strength after using python. These two pieces of evidence go against Fave Doster's hypothesis.</p>

</div>
</div>
</div>
<div class="cell border-box-sizing code_cell rendered">
<div class="input">
<div class="prompt input_prompt">In&nbsp;[&nbsp;]:</div>
<div class="inner_cell">
    <div class="input_area">
<div class=" highlight hl-ipython3"><pre><span></span> 
</pre></div>

</div>
</div>
</div>

</div>
 


    </div>
  </div>

  </div>


  
    <footer class="footer hidden-print">
      <div class="container">
        <div class="col-md-4">
          <p>
            This website does not host notebooks, it only renders notebooks
            available on other websites.
          </p>
        </div>

        <div class="col-md-4">
          <p>
            Delivered by <a href="http://www.fastly.com/">Fastly</a>,
            Rendered by <a href="https://developer.rackspace.com/?nbviewer=awesome">Rackspace</a>
          </p>
          <p>
            nbviewer GitHub <a href="https://github.com/jupyter/nbviewer">repository</a>.
          </p>
        </div>

        <div class="col-md-4">
          
  
            
              <p>
                nbviewer version:
                <a href="https://github.com/jupyter/nbviewer/commit/4f5d1d8a2539c1c8dc92873d3a775d34f0a3d417">
                  4f5d1d8
                </a>
              </p>
            
          
  
  <p>
    nbconvert version: <a href="https://github.com/jupyter/nbconvert/releases/tag/5.1.1">
      5.1.1
    </a>
  </p>
  

          
  
  
  <p>
    Rendered
    <span class='date' data-date='Thu, 30 Mar 2017 15:55:11 UTC' title='Thu, 30 Mar 2017 15:55:11 UTC'>(Thu, 30 Mar 2017 15:55:11 UTC)</span>
  </p>
  

        </div>
      </div>
    </footer>
  

  <script src="https://unpkg.com/jupyter-js-widgets@2.0.*/dist/embed.js"></script>
  <script src="/static/components/bootstrap/js/bootstrap.min.js?v=5869c96cc8f19086aee625d670d741f9"></script>
  <script src="/static/components/headroom.js/dist/headroom.min.js?v=b0a311ea668f8e768ea375f4a7abb81c"></script>
  <script src="/static/components/headroom.js/dist/jQuery.headroom.min.js?v=f3a1bae118315d0c234afc74dc6aab71"></script>

  
  
  <script>
    $(function(){ $("#menubar").headroom({
      tolerance: 5,
      offset: 205,
      classes: {
        initial: "animated",
        pinned: "slideInDown",
        unpinned: "slideOutUp"
      }
    })});
  </script>


  
  <script>
    (function(i,s,o,g,r,a,m){i['GoogleAnalyticsObject']=r;i[r]=i[r]||function(){
      (i[r].q=i[r].q||[]).push(arguments)},i[r].l=1*new Date();a=s.createElement(o),
      m=s.getElementsByTagName(o)[0];a.async=1;a.src=g;m.parentNode.insertBefore(a,m)
    })(window,document,'script','https://www.google-analytics.com/analytics.js','ga');
    ga('create', 'UA-52617120-5', 'auto');
    ga('send', 'pageview');
  </script>
  
  <script>
    require({
        paths: {
          moment: "/static/components/moment/min/moment.min.js?v=89f87298ad94aa1e6b92f42eb66da043"
        }
      }, ["moment"], function(moment){
      var date = $("footer .date"),
        m = moment(new Date(date.data('date'))),
        update = function(){ date.text(m.fromNow()); };
      setInterval(update, 61*1000);
      update();
      var w = $(window).scroll(function(event){
        $("body").toggleClass("scrolled", w.scrollTop() > 0);
      });
    });
  </script>
  <!--NEW RELIC Stop Perf Measurement-->
  
  <!--NEW RELIC End-->
</body>
</html>