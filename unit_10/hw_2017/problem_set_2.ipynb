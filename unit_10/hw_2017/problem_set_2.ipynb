{
 "cells": [
  {
   "cell_type": "markdown",
   "metadata": {
    "deletable": true,
    "editable": true
   },
   "source": [
    "General Instructions\n",
    "----\n",
    "\n",
    "For full credit, you must have the following items for each problem:\n",
    "\n",
    "* [1 point] Describe what and why the method you're using is applicable. For example, 'I chose the signed rank test because these are two matched datasets describing one measurement'\n",
    "\n",
    "* [1 point] Write out the null hypothesis. For example, 'The null hypothesis is that the two measurements sets came from the same population (synonymous with probability distribution)'\n",
    "\n",
    "* [1 point] Report the p-value and your alpha value (significance level)\n",
    "\n",
    "* [1 point] if you reject or not reject the null hypothesis and answer the question\n",
    "\n",
    "Put your work into the python cell and your answer to the questions into the markdown cell"
   ]
  },
  {
   "cell_type": "markdown",
   "metadata": {
    "deletable": true,
    "editable": true
   },
   "source": [
    "#### Problem 1\n",
    "\n",
    "You have a sample of an unknown metal with a melting point of $1,070^\\circ{}$ C. You know that gold has a melting point of $1,064^\\circ{}$ C and your measurements have a standard deviation of $7^\\circ{}$ C. Is the unknown metal likely to be gold?"
   ]
  },
  {
   "cell_type": "code",
   "execution_count": 19,
   "metadata": {
    "collapsed": false,
    "deletable": true,
    "editable": true,
    "nbgrader": {
     "grade": true,
     "grade_id": "g54wg5",
     "locked": false,
     "points": 0,
     "schema_version": 1,
     "solution": true
    }
   },
   "outputs": [
    {
     "name": "stdout",
     "output_type": "stream",
     "text": [
      "0.254158715222\n"
     ]
    }
   ],
   "source": [
    "import scipy.stats as ss\n",
    "import numpy as np\n",
    "\n",
    "Z = (1070 - 1064) /  7\n",
    "p = 1 - (ss.norm.cdf(Z - ss.norm.cdf(-Z)))\n",
    "print(p)"
   ]
  },
  {
   "cell_type": "markdown",
   "metadata": {
    "deletable": true,
    "editable": true,
    "nbgrader": {
     "grade": true,
     "grade_id": "gbtrwgtw4",
     "locked": false,
     "points": 4,
     "schema_version": 1,
     "solution": true
    }
   },
   "source": [
    "* zM Test because it's a single sample against a normal population with known parameters\n",
    "* Sample is from population distribution\n",
    "* $p = 0.25$ and $\\alpha = 0.05$\n",
    "* Do not reject: could be gold"
   ]
  },
  {
   "cell_type": "markdown",
   "metadata": {
    "deletable": true,
    "editable": true
   },
   "source": [
    "#### Problem 2\n",
    "\n",
    "Historically your taxes have had a population mean of \\$3,452 and a standard deviation of \\$120. This year your taxes are \\$2341. Should you be concerned you made a mistake or does this appear to be a usual amount?"
   ]
  },
  {
   "cell_type": "code",
   "execution_count": 17,
   "metadata": {
    "collapsed": false,
    "deletable": true,
    "editable": true,
    "nbgrader": {
     "grade": true,
     "grade_id": "gtsr",
     "locked": false,
     "points": 0,
     "schema_version": 1,
     "solution": true
    }
   },
   "outputs": [
    {
     "name": "stdout",
     "output_type": "stream",
     "text": [
      "0.0\n"
     ]
    }
   ],
   "source": [
    "Z = (3542 - 2341) / 120\n",
    "p = 1 - (ss.norm.cdf(Z - ss.norm.cdf(-Z)))\n",
    "print(p)"
   ]
  },
  {
   "cell_type": "markdown",
   "metadata": {
    "deletable": true,
    "editable": true,
    "nbgrader": {
     "grade": true,
     "grade_id": "tnrsbntsr",
     "locked": false,
     "points": 4,
     "schema_version": 1,
     "solution": true
    }
   },
   "source": [
    "* zM Test because it's a single sample against a normal population with known parameters\n",
    "* Sample is from population distribution\n",
    "* $p = ~0.0$ and $\\alpha = 0.05$\n",
    "* Reject: This is an unusual amount"
   ]
  },
  {
   "cell_type": "markdown",
   "metadata": {
    "deletable": true,
    "editable": true
   },
   "source": [
    "#### Problem 3\n",
    "\n",
    "Usually you run an 8 minute mile. After training with a new program for 8 weeks, your latest results are a 7:30 mile, a 10:20 mile, a 8:25 mile, a 7:45 mile and a 9:20 mile. Has your new program made a significant change?"
   ]
  },
  {
   "cell_type": "code",
   "execution_count": 20,
   "metadata": {
    "collapsed": false,
    "deletable": true,
    "editable": true,
    "nbgrader": {
     "grade": true,
     "grade_id": "btrae465",
     "locked": false,
     "points": 0,
     "schema_version": 1,
     "solution": true
    }
   },
   "outputs": [
    {
     "name": "stdout",
     "output_type": "stream",
     "text": [
      "0.259029458291\n"
     ]
    }
   ],
   "source": [
    "d = [7.5, 10 + 20/60, 8 + 25 / 60, 7 + 45/60, 9 + 20/60]\n",
    "T = (np.mean(d) - 8) / (np.std(d, ddof=1) / np.sqrt(len(d)))\n",
    "p = 1 - (ss.t.cdf(T, df=len(d)) - ss.t.cdf(-T, df=len(d)))\n",
    "print(p)"
   ]
  },
  {
   "cell_type": "markdown",
   "metadata": {
    "deletable": true,
    "editable": true,
    "nbgrader": {
     "grade": true,
     "grade_id": "btarb",
     "locked": false,
     "points": 4,
     "schema_version": 1,
     "solution": true
    }
   },
   "source": [
    "* t-test because it's a set of samples against a normal population with known mean but unknown standard deviation\n",
    "* Samples are from population distribution\n",
    "* $p = 0.259$ and $\\alpha = 0.05$\n",
    "* Do not reject: There is not a significant change"
   ]
  },
  {
   "cell_type": "markdown",
   "metadata": {
    "deletable": true,
    "editable": true
   },
   "source": [
    "#### Problem 4\n",
    "\n",
    "Your manufacturing plant has made significant investment in improving quality control to improve yields. Your job is to determine if these investment have improved yields. Results on yield for the last 10 batches and from 5 batches from prior to the changes are available. Did these quality control improvements significantly change yields?"
   ]
  },
  {
   "cell_type": "code",
   "execution_count": 21,
   "metadata": {
    "collapsed": false,
    "deletable": true,
    "editable": true,
    "nbgrader": {
     "grade": true,
     "grade_id": "btrae4",
     "locked": false,
     "points": 0,
     "schema_version": 1,
     "solution": true
    }
   },
   "outputs": [
    {
     "data": {
      "text/plain": [
       "RanksumsResult(statistic=-0.06123724356957945, pvalue=0.9511702692969356)"
      ]
     },
     "execution_count": 21,
     "metadata": {},
     "output_type": "execute_result"
    }
   ],
   "source": [
    "prior = [0.96, 0.97, 0.92, 0.88, 0.99]\n",
    "post = [0.97, 0.96, 0.95, 0.97, 0.95, 0.85, 0.98, 0.77, 0.99, 0.97]\n",
    "\n",
    "### BEGIN SOLUTION\n",
    "ss.ranksums(prior, post)\n",
    "### END SOLUTION"
   ]
  },
  {
   "cell_type": "markdown",
   "metadata": {
    "deletable": true,
    "editable": true,
    "nbgrader": {
     "grade": true,
     "grade_id": "btratr",
     "locked": false,
     "points": 4,
     "schema_version": 1,
     "solution": true
    }
   },
   "source": [
    "* Sum of ranks test because it's a two unpaired sets of samples\n",
    "* Samples are from the same distribution\n",
    "* $p = 0.95$ and $\\alpha = 0.05$\n",
    "* Do not reject: There is not significant difference in yields"
   ]
  },
  {
   "cell_type": "markdown",
   "metadata": {
    "deletable": true,
    "editable": true
   },
   "source": [
    "#### Problem 5\n",
    "\n",
    "You are doing the statistical analysis for efficacy of a new acne treatment. Each patient applies a control solution on half their face and drug-containing solution on the other half. After 4 weeks, they report the number pimples on both sides. Is the drug effective?"
   ]
  },
  {
   "cell_type": "code",
   "execution_count": 7,
   "metadata": {
    "collapsed": false,
    "deletable": true,
    "editable": true,
    "nbgrader": {
     "grade": true,
     "grade_id": "btata",
     "locked": false,
     "points": 0,
     "schema_version": 1,
     "solution": true
    }
   },
   "outputs": [
    {
     "data": {
      "text/plain": [
       "WilcoxonResult(statistic=5.0, pvalue=0.020136751550346339)"
      ]
     },
     "execution_count": 7,
     "metadata": {},
     "output_type": "execute_result"
    }
   ],
   "source": [
    "control = [2, 0, 3, 4, 0, 2, 6, 3, 11, 4, 0, 4]\n",
    "drug = [1, 0, 3, 2, 1, 0, 1, 2, 4, 2, 1, 2]\n",
    "\n",
    "### BEGIN SOLUTION\n",
    "import scipy.stats as ss\n",
    "ss.wilcoxon(control, drug)\n",
    "### END SOLUTION"
   ]
  },
  {
   "cell_type": "markdown",
   "metadata": {
    "deletable": true,
    "editable": true,
    "nbgrader": {
     "grade": true,
     "grade_id": "btarta",
     "locked": false,
     "points": 4,
     "schema_version": 1,
     "solution": true
    }
   },
   "source": [
    "* Signed rank test because it's a set of paired data\n",
    "* Samples are from the same distribution\n",
    "* $p = 0.02$ and $\\alpha = 0.05$\n",
    "* Reject: There is a significant change after applying the drug"
   ]
  },
  {
   "cell_type": "markdown",
   "metadata": {
    "deletable": true,
    "editable": true
   },
   "source": [
    "#### Problem 6\n",
    "\n",
    "9 out of 10 professor's recommend colgate. After polling 52 professors at the University of Rochester, 11 do not recommend colgate. Are the UR faculty significantly different than most other universities?"
   ]
  },
  {
   "cell_type": "code",
   "execution_count": 23,
   "metadata": {
    "collapsed": false,
    "deletable": true,
    "editable": true,
    "nbgrader": {
     "grade": true,
     "grade_id": "h764j8k",
     "locked": false,
     "points": 0,
     "schema_version": 1,
     "solution": true
    }
   },
   "outputs": [
    {
     "name": "stdout",
     "output_type": "stream",
     "text": [
      "0.00731049562498\n"
     ]
    }
   ],
   "source": [
    "#11 is put into the interval of \"extreme\" values \n",
    "#Or think about 11 is being in the interval that makes our\n",
    "#estiamte more conservative \n",
    "p = 1 - ss.poisson.cdf(11, 0.1 * 52)\n",
    "print(p)"
   ]
  },
  {
   "cell_type": "markdown",
   "metadata": {
    "deletable": true,
    "editable": true,
    "nbgrader": {
     "grade": true,
     "grade_id": "k87",
     "locked": false,
     "points": 4,
     "schema_version": 1,
     "solution": true
    }
   },
   "source": [
    "* Poisson test because the population distribution can betaken as a Poisson approximation of a binomial.\n",
    "* Samples are from the population distribution\n",
    "* $p = 0.007$ and $\\alpha = 0.05$\n",
    "* Reject: UR professors are significantly different in their choice of toothpaste"
   ]
  },
  {
   "cell_type": "markdown",
   "metadata": {
    "deletable": true,
    "editable": true
   },
   "source": [
    "Identifying the Correct Hypothesis Test\n",
    "---\n",
    "\n",
    "For each of the following datasets and questions, say which test you can use and what the null hypothesis would be.\n"
   ]
  },
  {
   "cell_type": "markdown",
   "metadata": {
    "deletable": true,
    "editable": true
   },
   "source": [
    "#### Problem 7\n",
    "\n",
    "You have data on the grades of BME majors and CHE majors in fluids. How could you see if there is a significant performance in their grades?"
   ]
  },
  {
   "cell_type": "markdown",
   "metadata": {
    "deletable": true,
    "editable": true,
    "nbgrader": {
     "grade": true,
     "grade_id": "btrasat",
     "locked": false,
     "points": 2,
     "schema_version": 1,
     "solution": true
    }
   },
   "source": [
    "Sum of ranks test - they are from the same distribution"
   ]
  },
  {
   "cell_type": "markdown",
   "metadata": {
    "deletable": true,
    "editable": true
   },
   "source": [
    "#### Problem 8\n",
    "\n",
    "Male labrador retrievers on average have an adult weight of 73 pounds with a standard deviation of 11 pounds. Your dog has a weight of 62 pounds. Could it be a labrador retriever?"
   ]
  },
  {
   "cell_type": "markdown",
   "metadata": {
    "deletable": true,
    "editable": true,
    "nbgrader": {
     "grade": true,
     "grade_id": "btrasq4t",
     "locked": false,
     "points": 2,
     "schema_version": 1,
     "solution": true
    }
   },
   "source": [
    "zM test - The dog is a labrador retriever"
   ]
  },
  {
   "cell_type": "markdown",
   "metadata": {
    "deletable": true,
    "editable": true
   },
   "source": [
    "#### Problem 9\n",
    "\n",
    "Teen drivers get into car accidents within their first 12 months of driving at a rate of 1 in 30. 200 teen drivers participate in a new program whereby their car's speeds are governed using an electronic device. This results in 12 car accidents within 12 months. Is this program effective?"
   ]
  },
  {
   "cell_type": "markdown",
   "metadata": {
    "deletable": true,
    "editable": true,
    "nbgrader": {
     "grade": true,
     "grade_id": "btartau",
     "locked": false,
     "points": 2,
     "schema_version": 1,
     "solution": true
    }
   },
   "source": [
    "Poisson test - The rate of accidents follows the population Poisson distribution"
   ]
  },
  {
   "cell_type": "markdown",
   "metadata": {
    "deletable": true,
    "editable": true
   },
   "source": [
    "#### Problem 10\n",
    "\n",
    "You have would like to know if there is a correlation between day of the week and number of open parkings spots on campus."
   ]
  },
  {
   "cell_type": "markdown",
   "metadata": {
    "deletable": true,
    "editable": true,
    "nbgrader": {
     "grade": true,
     "grade_id": "btratr4562",
     "locked": false,
     "points": 2,
     "schema_version": 1,
     "solution": true
    }
   },
   "source": [
    "Spearman correlation test - There is no correlation"
   ]
  }
 ],
 "metadata": {
  "celltoolbar": "Create Assignment",
  "kernelspec": {
   "display_name": "Python 3",
   "language": "python",
   "name": "python3"
  },
  "language_info": {
   "codemirror_mode": {
    "name": "ipython",
    "version": 3
   },
   "file_extension": ".py",
   "mimetype": "text/x-python",
   "name": "python",
   "nbconvert_exporter": "python",
   "pygments_lexer": "ipython3",
   "version": "3.5.3"
  }
 },
 "nbformat": 4,
 "nbformat_minor": 2
}
