{
 "cells": [
  {
   "cell_type": "markdown",
   "metadata": {},
   "source": [
    "# Homework 10 Key\n",
    "#### CHE 116: Numerical Methods and Statistics\n",
    "\n",
    "*4/3/2019*\n",
    "\n",
    "----"
   ]
  },
  {
   "cell_type": "code",
   "execution_count": 2,
   "metadata": {},
   "outputs": [],
   "source": [
    "import scipy.stats as ss\n",
    "import numpy as np\n",
    "\n"
   ]
  },
  {
   "cell_type": "markdown",
   "metadata": {},
   "source": [
    "# 1. Conceptual Questions\n",
    "\n",
    "1. Describe the general process for parametric hypothesis tests.\n",
    "\n",
    "2. Why would you choose a non-parametric hypothesis test over a parametric one?\n",
    "\n",
    "3. Why would you choose a parametric hypothesis test over a non-parametric one?\n",
    "\n",
    "4. If you do not reject the null hypothesis, does that mean you've proved it?"
   ]
  },
  {
   "cell_type": "markdown",
   "metadata": {},
   "source": [
    "### 1.1 \n",
    "You compute the end-points of an interval with values as extreme and more extreme as your sample data. You integrate the area of this interval to obtain your p-value. If the p-value is less than your significance threshold, you reject the null hypothesis."
   ]
  },
  {
   "cell_type": "markdown",
   "metadata": {},
   "source": [
    "### 1.2\n",
    "\n",
    "To avoid assuming normal or other distribution"
   ]
  },
  {
   "cell_type": "markdown",
   "metadata": {},
   "source": [
    "### 1.3\n",
    "A parametric test can show significance with small amounts of data."
   ]
  },
  {
   "cell_type": "markdown",
   "metadata": {},
   "source": [
    "### 1.4\n",
    "No"
   ]
  },
  {
   "cell_type": "markdown",
   "metadata": {},
   "source": [
    "# 2. Short Answer Questions\n",
    "\n",
    "1. If your p-value is 0.4 and $\\alpha = 0.1$, should you reject the null hypothesis?\n",
    "2. What is your p-value if your $T$-value is -2 in the two-tailed/two-sided $t$-test with a DOF of 4?\n",
    "3. For a one-sample $zM$ test, what is the minimum number of standard deviations away from the population mean a sample should be to reject the null hypothesis with $\\alpha = 0.05$?\n",
    "4. For an N-sample $zM$ test, what is the minimum number of standard deviations away from the population mean a sample should be to reject the null hypothesis with $\\alpha = 0.05$ in terms of $N$?\n",
    "5. In a Poisson hypothesis test, what is the p-value if $\\mu = 4.3$ and the sample is 8?\n",
    "6. What is the standard error for $\\bar{x} = 4$, $\\sigma_x = 0.4$ and $N = 11$?"
   ]
  },
  {
   "cell_type": "markdown",
   "metadata": {},
   "source": [
    "### 2.1\n",
    "\n",
    "No"
   ]
  },
  {
   "cell_type": "markdown",
   "metadata": {},
   "source": [
    "### 2.2"
   ]
  },
  {
   "cell_type": "code",
   "execution_count": 4,
   "metadata": {},
   "outputs": [
    {
     "data": {
      "text/plain": [
       "0.1161165235168155"
      ]
     },
     "execution_count": 4,
     "metadata": {},
     "output_type": "execute_result"
    }
   ],
   "source": [
    "import scipy.stats as ss\n",
    "ss.t.cdf(-2, 4) * 2"
   ]
  },
  {
   "cell_type": "markdown",
   "metadata": {},
   "source": [
    "### 2.3\n"
   ]
  },
  {
   "cell_type": "code",
   "execution_count": 11,
   "metadata": {},
   "outputs": [
    {
     "data": {
      "text/plain": [
       "1.9599639845400545"
      ]
     },
     "execution_count": 11,
     "metadata": {},
     "output_type": "execute_result"
    }
   ],
   "source": [
    "-ss.norm.ppf(0.025)"
   ]
  },
  {
   "cell_type": "markdown",
   "metadata": {},
   "source": [
    "### 2.4\n",
    "\n",
    "$$\n",
    "1.96 = \\frac{\\sqrt{N}\\bar{x}}{\\sigma}\n",
    "$$\n",
    "\n",
    "You should be \n",
    "$\n",
    "\\frac{1.96}{\\sqrt{N}}\n",
    "$ standard deviations away"
   ]
  },
  {
   "cell_type": "markdown",
   "metadata": {},
   "source": [
    "### 2.5\n"
   ]
  },
  {
   "cell_type": "code",
   "execution_count": 7,
   "metadata": {},
   "outputs": [
    {
     "data": {
      "text/plain": [
       "0.07103170453943586"
      ]
     },
     "execution_count": 7,
     "metadata": {},
     "output_type": "execute_result"
    }
   ],
   "source": [
    "1 - ss.poisson.cdf(7, mu=4.3)"
   ]
  },
  {
   "cell_type": "markdown",
   "metadata": {},
   "source": [
    "### 2.6"
   ]
  },
  {
   "cell_type": "code",
   "execution_count": 8,
   "metadata": {},
   "outputs": [
    {
     "data": {
      "text/plain": [
       "0.12060453783110546"
      ]
     },
     "execution_count": 8,
     "metadata": {},
     "output_type": "execute_result"
    }
   ],
   "source": [
    "import math\n",
    "0.4 / math.sqrt(11)"
   ]
  },
  {
   "cell_type": "markdown",
   "metadata": {},
   "source": [
    "# 3. Choose the hypothesis test\n",
    "\n",
    "State which hypothesis test best fits the example below **and state the null hypothesis**. You can justify your answer if you feel like mulitiple tests fit. \n",
    "\n",
    "1. You know that coffee should be brewed at 186 $^\\circ{}$F. You measure coffee from Starbuck 10 times over a week and want to know if they're brewing at the correct temperature.\n",
    "\n",
    "2. You believe that the real estate market in SF is the same as NYC. You gather 100 home prices from both markets to compare them. \n",
    "\n",
    "3. Australia banned most guns in 2002. You compare homicide rates before and after this date.\n",
    "\n",
    "4. A number of states have recently legalized recreational marijuana. You gather teen drug use data for the year prior and two years after the legislation took effect.\n",
    "\n",
    "5. You think your mail is being stolen. You know that you typically get five pieces of mail on Wednesdays, but this Wednesday you got  no mail. "
   ]
  },
  {
   "cell_type": "markdown",
   "metadata": {},
   "source": [
    "### 3.1\n",
    "t-test\n",
    "Null: The coffee is brewed at the correct temperature.\n",
    "\n",
    "### 3.2\n",
    "Wilcoxon Sum of Ranks\n",
    "\n",
    "The real estate prices in SF and NYC are from the same distribution.\n",
    "\n",
    "### 3.3\n",
    "Wilcoxon Sum of Ranks\n",
    "\n",
    "The homicide rates before the dat are from the same distribution\n",
    "\n",
    "### 3.4\n",
    "Wilcoxon Signed Ranks\n",
    "\n",
    "The teen drug use data for the year prior and the year after two years after the legislation are from the same distribution\n",
    "### 3.5\n",
    "Poisson\n",
    "\n",
    "Your mail is not being stolen\n"
   ]
  },
  {
   "cell_type": "markdown",
   "metadata": {},
   "source": [
    "# 4. Hypothesis Tests\n",
    "\n",
    "Do the following: \n",
    "\n",
    "1. [1 Point] State the test type\n",
    "2. [1 Point] State the null hypothesis\n",
    "3. [2 Points] State the p-value\n",
    "4. [1 Point] State if you accept/reject the null hypothesis\n",
    "5. [1 Point] Answer the question\n",
    "\n",
    "---\n",
    "\n",
    "1. You have heard an urban legend that you are taller in the morning. Using the height measurements in centimeters below, answer the question\n",
    "\n",
    "|Morning | Evening|\n",
    "|:---|----:|\n",
    "| 181 | 180 |\n",
    "| 182 | 179 |\n",
    "| 181 | 184 |\n",
    "| 182 | 179 |\n",
    "| 182 | 180 |\n",
    "| 183 | 183 |\n",
    "| 185 | 180 |\n",
    "\n",
    "2. On a typical day in Rochester, there are 11 major car accidents. On the Monday after daylight savings time in the Spring, there are 18 major car accidents. Is this significant?\n",
    "\n",
    "3. Your cellphone bill is typically \\\\$20. The last four have been \\\\$21, \\\\$30. \\\\$25, \\\\$23. Has it significantly changed?\n",
    "\n"
   ]
  },
  {
   "cell_type": "markdown",
   "metadata": {},
   "source": [
    "### 4.1\n",
    "\n",
    "1. Wilcoxon Signed Rank Test\n",
    "2. The two heights are from the same distribution\n",
    "3. 0.17\n",
    "4. Cannot reject\n",
    "5. No evidence for a difference in heights"
   ]
  },
  {
   "cell_type": "code",
   "execution_count": 10,
   "metadata": {},
   "outputs": [
    {
     "name": "stdout",
     "output_type": "stream",
     "text": [
      "0.16820413904818\n"
     ]
    }
   ],
   "source": [
    "p = ss.wilcoxon([181, 182, 181, 182, 182, 183, 185], [180, 179, 184, 179, 180, 183, 180])\n",
    "print(p[1])"
   ]
  },
  {
   "cell_type": "markdown",
   "metadata": {},
   "source": [
    "### 4.2\n",
    "\n",
    "1. Poisson\n",
    "2. The number of accidents is from the population distribution\n",
    "3. 0.032\n",
    "4. Reject\n",
    "5. Yes, there is a significant difference"
   ]
  },
  {
   "cell_type": "code",
   "execution_count": 11,
   "metadata": {},
   "outputs": [
    {
     "data": {
      "text/plain": [
       "0.03219052223037644"
      ]
     },
     "execution_count": 11,
     "metadata": {},
     "output_type": "execute_result"
    }
   ],
   "source": [
    "1 - ss.poisson.cdf(17, mu=11)"
   ]
  },
  {
   "cell_type": "markdown",
   "metadata": {},
   "source": [
    "### 4.3\n",
    "\n",
    "1. t-test\n",
    "2. The new bills are from the population distribution of previous bills\n",
    "3. 0.09\n",
    "4. Do not reject\n",
    "5. No, the new bill is not significantly different"
   ]
  },
  {
   "cell_type": "code",
   "execution_count": 15,
   "metadata": {},
   "outputs": [
    {
     "data": {
      "text/plain": [
       "0.09088922301434657"
      ]
     },
     "execution_count": 15,
     "metadata": {},
     "output_type": "execute_result"
    }
   ],
   "source": [
    "import numpy as np\n",
    "data = [21, 30, 25, 23]\n",
    "se = np.std(data, ddof=1) / np.sqrt(len(data))\n",
    "T = (np.mean(data) - 20) / se\n",
    "ss.t.cdf(-abs(T), df=len(data) - 1) * 2"
   ]
  },
  {
   "cell_type": "markdown",
   "metadata": {},
   "source": [
    "# 5. Exponential Test (5 Bonus Points)\n",
    "\n",
    "Your dog typically greets you within 10 seconds of coming home. Is it significant that your dog took 16 seconds?"
   ]
  },
  {
   "cell_type": "code",
   "execution_count": 17,
   "metadata": {},
   "outputs": [
    {
     "data": {
      "text/plain": [
       "0.20189651799465536"
      ]
     },
     "execution_count": 17,
     "metadata": {},
     "output_type": "execute_result"
    }
   ],
   "source": [
    "1 - ss.expon.cdf(16, scale=10)"
   ]
  },
  {
   "cell_type": "markdown",
   "metadata": {},
   "source": [
    "No"
   ]
  }
 ],
 "metadata": {
  "kernelspec": {
   "display_name": "Python 3",
   "language": "python",
   "name": "python3"
  },
  "language_info": {
   "codemirror_mode": {
    "name": "ipython",
    "version": 3
   },
   "file_extension": ".py",
   "mimetype": "text/x-python",
   "name": "python",
   "nbconvert_exporter": "python",
   "pygments_lexer": "ipython3",
   "version": "3.6.5rc1"
  }
 },
 "nbformat": 4,
 "nbformat_minor": 2
}
