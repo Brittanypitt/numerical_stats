{
 "cells": [
  {
   "cell_type": "markdown",
   "metadata": {},
   "source": [
    "# Homework 10\n",
    "#### CHE 116: Numerical Methods and Statistics\n",
    "\n",
    "*4/3/2019*\n",
    "\n",
    "----"
   ]
  },
  {
   "cell_type": "markdown",
   "metadata": {},
   "source": [
    "# 1. Conceptual Questions (12 Points)\n",
    "\n",
    "3 points each\n",
    "\n",
    "1. Describe the general process for parametric hypothesis tests.\n",
    "\n",
    "2. Why would you choose a non-parametric hypothesis test over a parametric one?\n",
    "\n",
    "3. Why would you choose a parametric hypothesis test over a non-parametric one?\n",
    "\n",
    "4. If you do not reject the null hypothesis, does that mean you've proved it?"
   ]
  },
  {
   "cell_type": "markdown",
   "metadata": {},
   "source": [
    "# 2. Short Answer Questions (9 Points)\n",
    "\n",
    "1. [1 point] If your p-value is 0.4 and $\\alpha = 0.1$, should you reject the null hypothesis?\n",
    "2. [1 point] What is your p-value if your $T$-value is -2 in the two-tailed/two-sided $t$-test with a DOF of 4?\n",
    "3. [2 points] For a one-sample $zM$ test, what is the minimum number of standard deviations away from the population mean a sample should be to reject the null hypothesis with $\\alpha = 0.05$?\n",
    "4. [3 points]For an N-sample $zM$ test, what is the minimum number of standard deviations away from the population mean a sample should be to reject the null hypothesis with $\\alpha = 0.05$ in terms of $N$?\n",
    "5. [1 point] In a Poisson hypothesis test, what is the p-value if $\\mu = 4.3$ and the sample is 8?\n",
    "6. [1 point] What is the standard error for $\\bar{x} = 4$, $\\sigma_x = 0.4$ and $N = 11$?"
   ]
  },
  {
   "cell_type": "markdown",
   "metadata": {},
   "source": [
    "# 3. Choose the hypothesis test (10 Points)\n",
    "\n",
    "State which hypothesis test best fits the example below **and state the null hypothesis**. You can justify your answer if you feel like mulitiple tests fit. \n",
    "\n",
    "1. You know that coffee should be brewed at 186 $^\\circ{}$F. You measure coffee from Starbuck 10 times over a week and want to know if they're brewing at the correct temperature.\n",
    "\n",
    "2. You believe that the real estate market in SF is the same as NYC. You gather 100 home prices from both markets to compare them. \n",
    "\n",
    "3. Australia banned most guns in 2002. You compare homicide rates before and after this date.\n",
    "\n",
    "4. A number of states have recently legalized recreational marijuana. You gather teen drug use data for the year prior and two years after the legislation took effect.\n",
    "\n",
    "5. You think your mail is being stolen. You know that you typically get five pieces of mail on Wednesdays, but this Wednesday you got  no mail. "
   ]
  },
  {
   "cell_type": "markdown",
   "metadata": {},
   "source": [
    "# 4. Hypothesis Tests (18 Points)\n",
    "\n",
    "Do the following: \n",
    "\n",
    "1. [1 Point] State the test type\n",
    "2. [1 Point] State the null hypothesis\n",
    "3. [2 Points] State the p-value\n",
    "4. [1 Point] State if you accept/reject the null hypothesis\n",
    "5. [1 Point] Answer the question\n",
    "\n",
    "---\n",
    "\n",
    "1. You have heard an urban legend that you are taller in the morning. Using the height measurements in centimeters below, answer the question\n",
    "\n",
    "|Morning | Evening|\n",
    "|:---|----:|\n",
    "| 181 | 180 |\n",
    "| 182 | 179 |\n",
    "| 181 | 184 |\n",
    "| 182 | 179 |\n",
    "| 182 | 180 |\n",
    "| 183 | 183 |\n",
    "| 185 | 180 |\n",
    "\n",
    "2. On a typical day in Rochester, there are 11 major car accidents. On the Monday after daylight savings time in the Spring, there are 18 major car accidents. Is this significant?\n",
    "\n",
    "3. Your cellphone bill is typically \\\\$20. The last four have been \\\\$21, \\\\$30. \\\\$25, \\\\$23. Has it significantly changed?\n",
    "\n"
   ]
  },
  {
   "cell_type": "markdown",
   "metadata": {},
   "source": [
    "# 5. Exponential Test (5 Bonus Points)\n",
    "\n",
    "Your dog typically greets you within 10 seconds of coming home. Is it significant that your dog took 16 seconds?"
   ]
  }
 ],
 "metadata": {
  "kernelspec": {
   "display_name": "Python 3",
   "language": "python",
   "name": "python3"
  },
  "language_info": {
   "codemirror_mode": {
    "name": "ipython",
    "version": 3
   },
   "file_extension": ".py",
   "mimetype": "text/x-python",
   "name": "python",
   "nbconvert_exporter": "python",
   "pygments_lexer": "ipython3",
   "version": "3.7.1"
  }
 },
 "nbformat": 4,
 "nbformat_minor": 2
}
