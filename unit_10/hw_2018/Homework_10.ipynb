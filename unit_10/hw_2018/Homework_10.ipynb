{
 "cells": [
  {
   "cell_type": "markdown",
   "metadata": {},
   "source": [
    "Homework 10\n",
    "====\n",
    "#### CHE 116: Numerical Methods and Statistics\n",
    "\n",
    "5/5/2018\n",
    "\n",
    "----\n",
    "\n",
    "Homework Requirements:\n",
    "\n",
    "1. Write all equations in $\\LaTeX$\n",
    "2. Simplify all expressions\n",
    "2. Put comments in your Python code\n",
    "3. Explain or show your work\n",
    "4. Follow the academic honesty guidelines in the syllabus\n",
    "\n",
    "-----"
   ]
  },
  {
   "cell_type": "markdown",
   "metadata": {},
   "source": [
    "1\\. Conceptual Questions\n",
    "====\n",
    "\n",
    "1. In the following picture, which color area corresponds to the p-value? \n",
    "    ![image-not-visible](./pvalue.png)\n",
    "2. If a significance level goes up, is it easier or harder to reject a null hypothesis?\n",
    "3. If you only have one data point, which hypothesis test or tests can be used?\n",
    "4. Is it meaningful to perform a Wilcoxon Signed Rank Test if the two paired data are in different unit systems?\n",
    "5. We haven't learned about a \"binomial hypothesis test\", but what would the null hypothesis of such a test be and provide a situation where you would use it.\n",
    "\n"
   ]
  },
  {
   "cell_type": "markdown",
   "metadata": {},
   "source": [
    "2\\. Hypothesis Tests\n",
    "====\n",
    "\n",
    "For the following questions, state the following in Markdown and show your numerical work in Python:\n",
    "\n",
    "* The null hypothesis\n",
    "* The choice of test\n",
    "* The $p$-value and if you are considering both tails (extreme values above and below) or only one side\n",
    "* If the null hypothesis is rejected\n",
    "\n",
    "*Each hypothesis test occurs once in the following, so make sure you do not repeat any of them!*\n",
    "\n",
    "1. On average, 3 people fall asleep in class. Today 11 fall asleep in class. Is this significant?\n",
    "2. Your average running pace over the last few years has been an 8:00 minute mile. You've tried changing running shoes and recorded the following paces on your most recent runs: 7:56, 7:45, 7:34, 8:05, 7:35. Is your running pace significantly different?\n",
    "3. You are comparing two batches of a compound prepared by different technicians. The following purities have been recorded for technician A: 0.87, 0.86, 0.88, 0.93, 0.85, 0.67 and the following by technician B: 0.86, 0.96, 0.90, 0.76, 0.87, 0.83, 0.84, 0.80. Are they achiving similar purity?\n",
    "4. You are assessing the efficacy of a drug that helps people lose weight. 13 people who enrolled had the following weights at admission and after 8 weeks of the drug:\n",
    "\n",
    "|Person|Weight at Start|Weight at 8 Weeks|\n",
    "|:----|:----:|----:|\n",
    "|  1 | 150 | 163 |\n",
    "|  2 | 212 | 194 |\n",
    "|  3 | 320 | 280 |\n",
    "|  4 | 250 | 265 |\n",
    "|  5 | 215 | 132 |\n",
    "|  6 | 186 | 172 |\n",
    "|  7 | 195 | 185 |\n",
    "|  8 | 203 | 187 |\n",
    "|  9 | 145 | 135 |\n",
    "| 10 | 168 | 140 |\n",
    "| 11 | 172 | 178 |\n",
    "| 12 | 240 | 211 |\n",
    "| 13 | 272 | 268 |\n",
    "\n",
    "is there a significant effect from the drug?\n",
    "\n",
    "5\\. A chemical refinery has input crude with a concentration of sulfor of 0.7% on average with a variance of 0.015%. A sample from the crude reveals a concentration of 1.2%. Is this significant enough that you should investigate?\n",
    "\n",
    "6\\. You are assessing if a correlation exists between literacy rate and birthrate. You've found the following data from countries:\n",
    "\n",
    "| Country | Literacy Rate | Birthrate per 1000 |\n",
    "| ----    | :-----------: | --------: |\n",
    "| Afghanistan |  \t38.2% | 37.90 |\n",
    "| Belize      |  82.7% | 24.00 |\n",
    "|  Laos        | 79.9%| 23.60|\n",
    "| Lebanon |\t93.9% | 14.30|\n",
    "| India |\t72.1% | 19.00 |\n",
    "| Russia | \t99.7% | 11.00|\n",
    "|  Argentina | \t98.1% | 16.70|\n",
    "| South Africa \t| 94.3%| 20.20|\n",
    "|Venezuela | \t95.4%| 18.80 |\n",
    "|  Cameroon | \t75% | 35.40|\n",
    "| Chad \t| 40.2%|  35.60| \n",
    "\n",
    "Is there a relationship between these two?"
   ]
  }
 ],
 "metadata": {
  "kernelspec": {
   "display_name": "Python 3",
   "language": "python",
   "name": "python3"
  },
  "language_info": {
   "codemirror_mode": {
    "name": "ipython",
    "version": 3
   },
   "file_extension": ".py",
   "mimetype": "text/x-python",
   "name": "python",
   "nbconvert_exporter": "python",
   "pygments_lexer": "ipython3",
   "version": "3.6.4"
  }
 },
 "nbformat": 4,
 "nbformat_minor": 2
}
