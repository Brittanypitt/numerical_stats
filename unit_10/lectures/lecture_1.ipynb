{
 "cells": [
  {
   "cell_type": "markdown",
   "metadata": {
    "deletable": true,
    "editable": true,
    "slideshow": {
     "slide_type": "slide"
    }
   },
   "source": [
    "Unit 10, Lecture 1\n",
    "====\n",
    "\n",
    "*Numerical Methods and Statistics*\n",
    "\n",
    "----\n",
    "\n",
    "#### Prof. Andrew White, April 4 2017"
   ]
  },
  {
   "cell_type": "code",
   "execution_count": 3,
   "metadata": {
    "collapsed": false,
    "deletable": true,
    "editable": true,
    "slideshow": {
     "slide_type": "skip"
    }
   },
   "outputs": [],
   "source": [
    "import numpy as np\n",
    "import matplotlib.pyplot as plt\n",
    "from math import sqrt, pi, erf\n",
    "import scipy.optimize"
   ]
  },
  {
   "cell_type": "markdown",
   "metadata": {
    "deletable": true,
    "editable": true,
    "slideshow": {
     "slide_type": "slide"
    }
   },
   "source": [
    "Hypothesis Testing\n",
    "===="
   ]
  },
  {
   "cell_type": "markdown",
   "metadata": {
    "deletable": true,
    "editable": true,
    "slideshow": {
     "slide_type": "slide"
    }
   },
   "source": [
    "**Hypothesis**: Going to college increases your starting salary"
   ]
  },
  {
   "cell_type": "markdown",
   "metadata": {
    "deletable": true,
    "editable": true,
    "slideshow": {
     "slide_type": "subslide"
    }
   },
   "source": [
    "It's not really possible to prove this directly. We can, however, disprove the opposite hypothesis. We construct the opposite hypothesis to what we're interested in, called the *null hypothesis*. The null hypothesis is an assumption of no-difference and/or no-correlation."
   ]
  },
  {
   "cell_type": "markdown",
   "metadata": {
    "deletable": true,
    "editable": true,
    "slideshow": {
     "slide_type": "fragment"
    }
   },
   "source": [
    "In our example, this seems simple at first: *Going to college has no effect on your salary*. "
   ]
  },
  {
   "cell_type": "markdown",
   "metadata": {
    "deletable": true,
    "editable": true,
    "slideshow": {
     "slide_type": "subslide"
    }
   },
   "source": [
    "But, maybe the null hypothesis is: *For People who qualified and were accepted to college, attending college has no effect on their salary*. \n",
    "\n",
    "Or it might be *People who can afford, are smart enough, and motivated enough to go to college but did not, have the same salary as those that did.*"
   ]
  },
  {
   "cell_type": "markdown",
   "metadata": {
    "deletable": true,
    "editable": true,
    "slideshow": {
     "slide_type": "fragment"
    }
   },
   "source": [
    "Let's assume we know well enough what our null hypothesis is. Hypothesis testing is the ability to use statistics to disprove the null hypothesis"
   ]
  },
  {
   "cell_type": "markdown",
   "metadata": {
    "deletable": true,
    "editable": true,
    "slideshow": {
     "slide_type": "slide"
    }
   },
   "source": [
    "Hypothesis Testing\n",
    "----\n",
    "\n",
    "We construct a null hypothesis and take it to be true. For example, we believe college has no influence on income. This allows us to build a simple probability model. For colelge then, we might take income to be normally distributed. Then we see how likely our *observed* data is according to that null hypothesis model. For example, we check to see if the sample mean of people who graduated from college matches our null hypothesis mean."
   ]
  },
  {
   "cell_type": "markdown",
   "metadata": {
    "deletable": true,
    "editable": true,
    "slideshow": {
     "slide_type": "slide"
    }
   },
   "source": [
    "Hypothesis Test Example\n",
    "----\n",
    "\n",
    "I open up a cash4gold store and people bring me their jewlery. I know the probability distribution for gold melting is normal with mean 1060 $^{\\circ}$C and my measurements have a standard deviation of 3$^{\\circ} $C. I melt a sample at 1045 $^{\\circ} $ C and want to know if I should be suspicious."
   ]
  },
  {
   "cell_type": "markdown",
   "metadata": {
    "deletable": true,
    "editable": true,
    "slideshow": {
     "slide_type": "subslide"
    }
   },
   "source": [
    "**Null Hypothesis**: The sample is gold"
   ]
  },
  {
   "cell_type": "markdown",
   "metadata": {
    "deletable": true,
    "editable": true,
    "slideshow": {
     "slide_type": "subslide"
    }
   },
   "source": [
    "Let's see if I can disporve this. If the sample is gold, what is the probability of that measurement? Zero, because it's a single point. Let's ask though how big of an interval would we need to include that measurement."
   ]
  },
  {
   "cell_type": "code",
   "execution_count": 2,
   "metadata": {
    "collapsed": false,
    "deletable": true,
    "editable": true,
    "slideshow": {
     "slide_type": "fragment"
    }
   },
   "outputs": [
    {
     "name": "stdout",
     "output_type": "stream",
     "text": [
      "0.999999426697\n"
     ]
    }
   ],
   "source": [
    "from scipy import stats as ss\n",
    "\n",
    "Z = abs(1045 - 1060.) / 3\n",
    "interval_p = ss.norm.cdf(Z) - ss.norm.cdf(-Z)\n",
    "\n",
    "print(interval_p)"
   ]
  },
  {
   "cell_type": "code",
   "execution_count": 15,
   "metadata": {
    "collapsed": false,
    "deletable": true,
    "editable": true,
    "slideshow": {
     "slide_type": "subslide"
    }
   },
   "outputs": [
    {
     "data": {
      "image/png": "[encoded data removed]",
      "text/plain": [
       "<matplotlib.figure.Figure at 0x7fa29c6c5048>"
      ]
     },
     "metadata": {},
     "output_type": "display_data"
    }
   ],
   "source": [
    "import numpy as np\n",
    "import matplotlib.pyplot as plt\n",
    "\n",
    "sample = 1045\n",
    "mu = 1060\n",
    "w = mu - sample\n",
    "x = np.linspace(mu - w  - 2, w + mu + 2, 1000)\n",
    "y = ss.norm.pdf(x, loc=mu, scale=3)\n",
    "plt.plot(x,y)\n",
    "plt.fill_between(x, y, where= np.abs(x - mu) < w, color='lightblue')\n",
    "plt.text(mu,np.max(y) / 3, 'Area={}'.format(np.round(interval_p,6)), fontdict={'size':14}, horizontalalignment='center')\n",
    "plt.axvline(mu - w, linestyle='--', color='orange')\n",
    "plt.axvline(mu + w, linestyle='--', color='blue')\n",
    "plt.xticks([mu - w, mu + w], [sample, mu + w])\n",
    "plt.yticks([])\n",
    "plt.ylabel(r'$p(x)$')\n",
    "plt.xlabel(r'$x$')\n",
    "plt.show()"
   ]
  },
  {
   "cell_type": "markdown",
   "metadata": {
    "deletable": true,
    "editable": true,
    "slideshow": {
     "slide_type": "subslide"
    }
   },
   "source": [
    "We would expect to see values outside or at the boundary of this interval 0.00000001% of the time."
   ]
  },
  {
   "cell_type": "markdown",
   "metadata": {
    "deletable": true,
    "editable": true,
    "slideshow": {
     "slide_type": "slide"
    }
   },
   "source": [
    "What is signficiant?\n",
    "----\n",
    "\n",
    "Would we call it significant if it was 0.1%? what about 1%? It turns out the convention is 5%. This is called our $\\alpha$ or significance level."
   ]
  },
  {
   "cell_type": "markdown",
   "metadata": {
    "deletable": true,
    "editable": true,
    "slideshow": {
     "slide_type": "slide"
    }
   },
   "source": [
    "We saw in the cash4gold example how to compare a single sample with a known population. What about when we don't know the standard deviation of the population?"
   ]
  },
  {
   "cell_type": "markdown",
   "metadata": {
    "deletable": true,
    "editable": true,
    "slideshow": {
     "slide_type": "fragment"
    }
   },
   "source": [
    "I open up a cash4gold store and people bring me their jewlery. I know the probability distribution for gold melting is normal with mean 1060 $^{\\circ}$C. I do not know the standard deviation. If I get a sample that melts at 1045$^\\circ{}$C, should I be suspicious?"
   ]
  },
  {
   "cell_type": "markdown",
   "metadata": {
    "deletable": true,
    "editable": true,
    "slideshow": {
     "slide_type": "fragment"
    }
   },
   "source": [
    "I don't know. We have no way of estimating the standard deviation with one sample, so we can't say anything. If we have at least 3 samples though, we can compute the sample standard deviation"
   ]
  },
  {
   "cell_type": "markdown",
   "metadata": {
    "deletable": true,
    "editable": true,
    "slideshow": {
     "slide_type": "fragment"
    }
   },
   "source": [
    "This leads us to the beautiful part about hypothesis testing: since we're assuming the null hypothesis, that the samples are gold, we can substitute the standard deviation we get from the samples into the population.\n",
    "\n",
    "----"
   ]
  },
  {
   "cell_type": "markdown",
   "metadata": {
    "deletable": true,
    "editable": true,
    "slideshow": {
     "slide_type": "slide"
    }
   },
   "source": [
    "Student's $t$-Test\n",
    "===="
   ]
  },
  {
   "cell_type": "markdown",
   "metadata": {
    "deletable": true,
    "editable": true,
    "slideshow": {
     "slide_type": "fragment"
    }
   },
   "source": [
    "I open up a cash4gold store and people bring me their jewlery. I know the probability distribution for gold melting is normal with mean 1060 $^{\\circ}$C. I do not know the standard deviation. Someone brings in 6 samples and they melt at 1035, 1050, 1020, 1055, and 1046 $^{\\circ}$C. Should I reject the null hpyothesis, that these are gold?"
   ]
  },
  {
   "cell_type": "markdown",
   "metadata": {
    "deletable": true,
    "editable": true,
    "slideshow": {
     "slide_type": "subslide"
    }
   },
   "source": [
    "#### Logical Steps: \n",
    "\n",
    "1. Assuming the null hypothesis, compute our uncertainty in the true mean confidence interval\n",
    "2. We happen to have the true mean, so then we see how big the confidence interval has to be to include it\n",
    "3. How big our confidence interval is, tells is how likely the underlying null hypothesis is"
   ]
  },
  {
   "cell_type": "code",
   "execution_count": 19,
   "metadata": {
    "collapsed": false,
    "slideshow": {
     "slide_type": "subslide"
    }
   },
   "outputs": [
    {
     "data": {
      "image/png": "[encoded data removed]",
      "text/plain": [
       "<matplotlib.figure.Figure at 0x7fa29c94e400>"
      ]
     },
     "metadata": {},
     "output_type": "display_data"
    }
   ],
   "source": [
    "import numpy as np\n",
    "import matplotlib.pyplot as plt\n",
    "\n",
    "samples = np.array([1035., 1050., 1020., 1055., 1046.])\n",
    "sigma = np.sqrt(np.var(samples, ddof=1))\n",
    "sample_mean = np.mean(samples)\n",
    "mu = 1060\n",
    "w = mu - sample_mean\n",
    "\n",
    "x = np.linspace(mu - w  - 2, w + mu + 2, 1000)\n",
    "y1 = ss.norm.pdf(x, loc=mu, scale=3)\n",
    "y2 = ss.t.pdf(x, loc=mu, scale=sigma / np.sqrt(len(samples)), df=len(samples))\n",
    "plt.plot(x,y1, label='single sample')\n",
    "plt.plot(x,y2, label='multiple samples')\n",
    "plt.fill_between(x, y, where= np.abs(x - mu) < w, color='lightblue')\n",
    "\n",
    "plt.axvline(mu - w, linestyle='--', color='orange')\n",
    "plt.axvline(mu + w, linestyle='--', color='gray')\n",
    "plt.xticks([mu - w, mu + w], [sample_mean, mu + w])\n",
    "plt.yticks([])\n",
    "plt.ylabel(r'$p(x)$')\n",
    "plt.xlabel(r'$x$')\n",
    "plt.legend(loc='best')\n",
    "plt.show()"
   ]
  },
  {
   "cell_type": "code",
   "execution_count": 22,
   "metadata": {
    "collapsed": false,
    "deletable": true,
    "editable": true,
    "slideshow": {
     "slide_type": "subslide"
    }
   },
   "outputs": [
    {
     "name": "stdout",
     "output_type": "stream",
     "text": [
      "13.953494186 1041.2 1060.0\n",
      "-3.01272766638\n"
     ]
    }
   ],
   "source": [
    "samples = np.array([1035., 1050., 1020., 1055., 1046.])\n",
    "sigma = np.sqrt(np.var(samples, ddof=1))\n",
    "sample_mean = np.mean(samples)\n",
    "true_mean = 1060.\n",
    "\n",
    "print(sigma, sample_mean, true_mean)\n",
    "\n",
    "T = (sample_mean - true_mean) / (sigma / np.sqrt(len(samples)))\n",
    "print(T)"
   ]
  },
  {
   "cell_type": "markdown",
   "metadata": {
    "deletable": true,
    "editable": true,
    "slideshow": {
     "slide_type": "subslide"
    }
   },
   "source": [
    "Now we have a $T$ and we know $P(T)$. However, just like the $zM$ test, we can't compute $P(T)$ since that's a single point and we're using a continuous distribution. So instead, we build an interval and see how big it must be to catch that $T$. \n",
    "\n",
    "Specifically, we want to find $\\int_{-T}^T p(t)\\,dt$"
   ]
  },
  {
   "cell_type": "code",
   "execution_count": 6,
   "metadata": {
    "collapsed": false,
    "deletable": true,
    "editable": true,
    "slideshow": {
     "slide_type": "fragment"
    }
   },
   "outputs": [
    {
     "name": "stdout",
     "output_type": "stream",
     "text": [
      "T =  -3.01272766638\n",
      "0.0148313200979 Is the single sided p-value\n",
      "-0.970337359804 Is the double sided p-value\n",
      "notice, just using 2 * the single-sided value gives the same answer\n"
     ]
    }
   ],
   "source": [
    "print('T = ', T)\n",
    "\n",
    "p = ss.t.cdf(T, len(samples)) # The integral from -infinity to T\n",
    "print(p, 'Is the single sided p-value')\n",
    "\n",
    "p = (ss.t.cdf(T, len(samples)) - ss.t.cdf(-T, len(samples))) # The integral from -T to T\n",
    "print(p, 'Is the double sided p-value')\n",
    "\n",
    "print('notice, just using 2 * the single-sided value gives the same answer')"
   ]
  },
  {
   "cell_type": "markdown",
   "metadata": {
    "deletable": true,
    "editable": true,
    "slideshow": {
     "slide_type": "slide"
    }
   },
   "source": [
    "What if accidentally reverse our T-value?\n",
    "---"
   ]
  },
  {
   "cell_type": "code",
   "execution_count": 4,
   "metadata": {
    "collapsed": false,
    "deletable": true,
    "editable": true,
    "slideshow": {
     "slide_type": "fragment"
    }
   },
   "outputs": [
    {
     "name": "stdout",
     "output_type": "stream",
     "text": [
      "3.01272766638\n",
      "CDF gives:  0.985168679902\n",
      "Recognize that includes from -infty up to a positive T, so we need to find the complementary area\n",
      "0.0148313200979 Is the single sided p-value\n",
      "0.0296626401959 Is the double sided p-value\n"
     ]
    }
   ],
   "source": [
    "T = (true_mean - sample_mean) / (sigma / sqrt(len(samples)))\n",
    "print (T)\n",
    "\n",
    "p = (scipy.stats.t.cdf(T, len(samples)))\n",
    "print ('CDF gives: ', p)\n",
    "print ('Recognize that includes from -infty up to a positive T, so we need to find the complementary area')\n",
    "\n",
    "print (1 - p, 'Is the single sided p-value')\n",
    "print ((1 - p) * 2, 'Is the double sided p-value')"
   ]
  },
  {
   "cell_type": "markdown",
   "metadata": {
    "deletable": true,
    "editable": true,
    "slideshow": {
     "slide_type": "slide"
    }
   },
   "source": [
    "Summary of Methods for Comparing Single Measurement with Normal Population\n",
    "===="
   ]
  },
  {
   "cell_type": "markdown",
   "metadata": {
    "deletable": true,
    "editable": true,
    "slideshow": {
     "slide_type": "subslide"
    }
   },
   "source": [
    "$zM$ Test\n",
    "====\n",
    "\n",
    "**Data Type:** Measurements and Ranks\n",
    "\n",
    "**Compares:** A sample vs a single normally distributed population\n",
    "\n",
    "**Null Hypothesis:** The sample came from the population\n",
    "\n",
    "**Conditions:** Standard deviation of population is known\n",
    "\n",
    "**Related Test 1:** Student's $t$-test, which is used when the standard deviation is not known\n",
    "\n",
    "**Python:** Integrate an interval with a Z-statistic and `erf` or `scipt.stats.norm.cdf`"
   ]
  },
  {
   "cell_type": "markdown",
   "metadata": {
    "deletable": true,
    "editable": true,
    "slideshow": {
     "slide_type": "subslide"
    }
   },
   "source": [
    "Student's $t$-test\n",
    "====\n",
    "\n",
    "**Data Type:** Measurements and Ranks\n",
    "\n",
    "**Compares:** A sample vs a single normally distributed population\n",
    "\n",
    "**Null Hypothesis:** The sample came from the population\n",
    "\n",
    "**Conditions:** Standard deviation of population is not known\n",
    "\n",
    "**Related Test 1:** $zM$ test, which is used when standard deviation is known\n",
    "\n",
    "**Python:** Integrate an interval with a T-stastic and `scipt.stats.t.cdf`"
   ]
  }
 ],
 "metadata": {
  "celltoolbar": "Slideshow",
  "kernelspec": {
   "display_name": "Python 3",
   "language": "python",
   "name": "python3"
  },
  "language_info": {
   "codemirror_mode": {
    "name": "ipython",
    "version": 3
   },
   "file_extension": ".py",
   "mimetype": "text/x-python",
   "name": "python",
   "nbconvert_exporter": "python",
   "pygments_lexer": "ipython3",
   "version": "3.5.2"
  }
 },
 "nbformat": 4,
 "nbformat_minor": 0
}
